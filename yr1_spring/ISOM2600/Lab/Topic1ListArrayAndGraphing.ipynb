{
 "cells": [
  {
   "cell_type": "code",
   "execution_count": null,
   "metadata": {
    "id": "sYdUHwp65NfM"
   },
   "outputs": [],
   "source": []
  },
  {
   "cell_type": "markdown",
   "metadata": {
    "id": "9Qd35p4BWpnd"
   },
   "source": [
    "# Part I. Python Codes"
   ]
  },
  {
   "cell_type": "markdown",
   "metadata": {
    "id": "MnkQri6GUEnm"
   },
   "source": [
    "## Install Packages and Import Libraries"
   ]
  },
  {
   "cell_type": "code",
   "execution_count": 1,
   "metadata": {
    "id": "k5qMYId8UEnt"
   },
   "outputs": [],
   "source": [
    "import numpy as np\n",
    "import scipy as sp \n",
    "import matplotlib.pyplot as plt\n",
    "plt.style.use('ggplot') #see https://matplotlib.org/stable/gallery/style_sheets/style_sheets_reference.html\n",
    "import warnings\n",
    "warnings.filterwarnings('ignore') \n"
   ]
  },
  {
   "cell_type": "markdown",
   "metadata": {
    "id": "wfX0M7kVUEnu"
   },
   "source": [
    "## Int, float "
   ]
  },
  {
   "cell_type": "code",
   "execution_count": 4,
   "metadata": {
    "colab": {
     "base_uri": "https://localhost:8080/"
    },
    "id": "GUBYPaidUEnv",
    "outputId": "6430caf4-1dd0-4e5e-fb60-d441671865e3"
   },
   "outputs": [
    {
     "data": {
      "text/plain": [
       "(int, float)"
      ]
     },
     "execution_count": 4,
     "metadata": {},
     "output_type": "execute_result"
    }
   ],
   "source": [
    "a=10\n",
    "b=100.01\n",
    "type(a),type(b)"
   ]
  },
  {
   "cell_type": "code",
   "execution_count": 5,
   "metadata": {
    "id": "V19K7m00FmzD"
   },
   "outputs": [],
   "source": [
    "alist=[1,2,3,4]"
   ]
  },
  {
   "cell_type": "code",
   "execution_count": null,
   "metadata": {
    "id": "rfUPgKaoHAQw"
   },
   "outputs": [],
   "source": []
  },
  {
   "cell_type": "code",
   "execution_count": 6,
   "metadata": {
    "id": "ZPRa75O_GtsA"
   },
   "outputs": [],
   "source": [
    "alist.append(\"tiger\")"
   ]
  },
  {
   "cell_type": "code",
   "execution_count": 7,
   "metadata": {
    "colab": {
     "base_uri": "https://localhost:8080/"
    },
    "id": "TS7ggyPVHEvB",
    "outputId": "83957261-884c-46d4-e70e-bc40123c99e6"
   },
   "outputs": [
    {
     "data": {
      "text/plain": [
       "[1, 2, 3, 4, 'tiger']"
      ]
     },
     "execution_count": 7,
     "metadata": {},
     "output_type": "execute_result"
    }
   ],
   "source": [
    "alist"
   ]
  },
  {
   "cell_type": "code",
   "execution_count": null,
   "metadata": {
    "id": "a591IuUpHIkg"
   },
   "outputs": [],
   "source": [
    "alist.remove(\"tiger\")"
   ]
  },
  {
   "cell_type": "code",
   "execution_count": null,
   "metadata": {
    "colab": {
     "base_uri": "https://localhost:8080/"
    },
    "id": "F8D7uMLSHW2A",
    "outputId": "c4fdee2d-c12f-407b-d8b1-57cb70898035"
   },
   "outputs": [],
   "source": [
    "alist.pop(0)"
   ]
  },
  {
   "cell_type": "markdown",
   "metadata": {
    "id": "kTI9HU-1UEnx"
   },
   "source": [
    "## Bool "
   ]
  },
  {
   "cell_type": "code",
   "execution_count": null,
   "metadata": {
    "id": "_isx2tQ-UEny",
    "outputId": "61557e3b-9127-4984-d6dc-43297c3fd452"
   },
   "outputs": [],
   "source": [
    "type(True),type(False)"
   ]
  },
  {
   "cell_type": "code",
   "execution_count": null,
   "metadata": {
    "id": "ZXzrbfIYUEnz",
    "outputId": "c0d76b80-282f-4078-97c6-b367c9e0fe93"
   },
   "outputs": [],
   "source": [
    "a=10==20\n",
    "a,type(a)"
   ]
  },
  {
   "cell_type": "code",
   "execution_count": null,
   "metadata": {
    "id": "-vTTkfwLUEn0",
    "outputId": "d67a58d2-1cb7-43d9-f6b4-21f2da6645fa"
   },
   "outputs": [],
   "source": [
    "alist=[1,2,3,4,5]\n",
    "blist=[x>3 for x in alist]\n",
    "print(blist)"
   ]
  },
  {
   "cell_type": "code",
   "execution_count": null,
   "metadata": {
    "id": "ErZK8NcgUEn1",
    "outputId": "972e4e41-36a1-4f1b-bed9-98607b72b7d2"
   },
   "outputs": [],
   "source": [
    "sum(blist)"
   ]
  },
  {
   "cell_type": "markdown",
   "metadata": {
    "id": "bpmACxmWUEn1"
   },
   "source": [
    "## String"
   ]
  },
  {
   "cell_type": "code",
   "execution_count": null,
   "metadata": {
    "id": "wBF3Ff5oUEn2"
   },
   "outputs": [],
   "source": [
    "firstVariable=\"Sex Gender\"\n"
   ]
  },
  {
   "cell_type": "code",
   "execution_count": null,
   "metadata": {},
   "outputs": [],
   "source": [
    "firstVariable[2]"
   ]
  },
  {
   "cell_type": "code",
   "execution_count": null,
   "metadata": {
    "id": "447EN7QSUEn2",
    "outputId": "cb4f9f6d-fdd7-4656-8c7e-6789312d847d"
   },
   "outputs": [],
   "source": [
    "firstVariable[0:4]"
   ]
  },
  {
   "cell_type": "code",
   "execution_count": null,
   "metadata": {
    "id": "yF2dGCWhUEn3",
    "outputId": "c172a5db-3d18-498e-c01f-cd7b54a238b7"
   },
   "outputs": [],
   "source": [
    "firstVariable[-2:-1]"
   ]
  },
  {
   "cell_type": "code",
   "execution_count": null,
   "metadata": {
    "colab": {
     "base_uri": "https://localhost:8080/"
    },
    "id": "gkc3uHt8JafJ",
    "outputId": "0dfe1737-51e8-4c4c-cfe6-37c6e8c9e9c5"
   },
   "outputs": [],
   "source": [
    "firstVariable[-6:],firstVariable[4:]"
   ]
  },
  {
   "cell_type": "code",
   "execution_count": null,
   "metadata": {
    "colab": {
     "base_uri": "https://localhost:8080/"
    },
    "id": "KRsb1ULqJ0I7",
    "outputId": "3bd21d2a-8902-41aa-b50e-58a6f4a9e898",
    "tags": []
   },
   "outputs": [],
   "source": [
    "myLast=input(\"What is your last name?\")\n",
    "print(\"Hello Mr/Ms \"+myLast)"
   ]
  },
  {
   "cell_type": "markdown",
   "metadata": {
    "id": "vH3jd3qYUEn4"
   },
   "source": [
    "## List  "
   ]
  },
  {
   "cell_type": "code",
   "execution_count": null,
   "metadata": {
    "id": "5DdZlXQ2UEn4"
   },
   "outputs": [],
   "source": [
    "aList=[10,12.06,\"Tiger\",False]"
   ]
  },
  {
   "cell_type": "code",
   "execution_count": null,
   "metadata": {
    "id": "Rd9yq0hCUEn5",
    "outputId": "f6b85958-8fbc-42c9-8dd7-14af9cd7306d"
   },
   "outputs": [],
   "source": [
    "aList[0], aList[-1]\n"
   ]
  },
  {
   "cell_type": "code",
   "execution_count": null,
   "metadata": {
    "id": "V24nFZkhUEn5",
    "outputId": "9dbef5ef-8e52-49aa-dd6c-9500e3d367d6"
   },
   "outputs": [],
   "source": [
    "aList[2:5]"
   ]
  },
  {
   "cell_type": "code",
   "execution_count": null,
   "metadata": {
    "id": "dgYc4H4pUEn6",
    "outputId": "21ce5349-b637-4d12-a626-055c41247800"
   },
   "outputs": [],
   "source": [
    "\n",
    "aList.append(\"Katy\")\n",
    "aList"
   ]
  },
  {
   "cell_type": "code",
   "execution_count": null,
   "metadata": {
    "id": "YmpJtTN0UEn6",
    "outputId": "15876c7a-0f02-41ea-b795-dc7e2b0f0797"
   },
   "outputs": [],
   "source": [
    "aList.remove(\"Katy\")\n",
    "aList"
   ]
  },
  {
   "cell_type": "code",
   "execution_count": null,
   "metadata": {
    "id": "7_VD8fqjUEn6",
    "outputId": "6409272e-4b44-4fce-9b78-e30c8a8e4581"
   },
   "outputs": [],
   "source": [
    "bList=[\"Katy\", 167]\n",
    "aList.extend(bList)\n",
    "aList"
   ]
  },
  {
   "cell_type": "code",
   "execution_count": null,
   "metadata": {
    "id": "zF5BATNSUEn7",
    "outputId": "7f8b5327-e6d2-4534-b211-2a00c5092291"
   },
   "outputs": [],
   "source": [
    "len(aList),len(bList)"
   ]
  },
  {
   "cell_type": "markdown",
   "metadata": {
    "id": "cIy4fm9gUEn7"
   },
   "source": [
    "## List Comprehension"
   ]
  },
  {
   "cell_type": "code",
   "execution_count": null,
   "metadata": {
    "colab": {
     "base_uri": "https://localhost:8080/"
    },
    "id": "dA1GoqAgLJAW",
    "outputId": "65cfb763-7079-4aaf-b474-ca2a16e59efb"
   },
   "outputs": [],
   "source": [
    "alist=[1,2,3,4,5,100,200]\n",
    "newlist=[]\n",
    "for x in alist:\n",
    "  newlist.append(x**2)\n",
    "print(newlist)"
   ]
  },
  {
   "cell_type": "markdown",
   "metadata": {},
   "source": [
    "#### Plain comprehension"
   ]
  },
  {
   "cell_type": "code",
   "execution_count": null,
   "metadata": {
    "id": "_yOrm6cGUEn9"
   },
   "outputs": [],
   "source": [
    "# Make a new list for every item of the orginal list\n",
    "alist=[1,2,3,4,5,100,200]\n",
    "newlist=[x**2 for x in alist]\n",
    "print(newlist)"
   ]
  },
  {
   "cell_type": "markdown",
   "metadata": {
    "tags": []
   },
   "source": [
    "#### Filtered comprehension"
   ]
  },
  {
   "cell_type": "code",
   "execution_count": null,
   "metadata": {
    "colab": {
     "base_uri": "https://localhost:8080/"
    },
    "id": "LKqRfBm0UEoA",
    "outputId": "d3051b91-28b7-4677-c112-30caae8ac54c"
   },
   "outputs": [],
   "source": [
    "# make a new list out of the orginal list with certain condition\n",
    "alist=[1,2,3,4,5,100,200]\n",
    "newlist=[x for x in alist if x >50]\n",
    "print(newlist)"
   ]
  },
  {
   "cell_type": "markdown",
   "metadata": {},
   "source": [
    "#### Conditional comprehension"
   ]
  },
  {
   "cell_type": "code",
   "execution_count": null,
   "metadata": {
    "id": "VFdHcLlYUEoB",
    "outputId": "f6558926-575d-41b6-d7a1-182af0f87adc"
   },
   "outputs": [],
   "source": [
    "# Make a new list for every item of the orginal list with different condition \n",
    "alist=[1,2,3,4,5,100,200]\n",
    "newlist=[x**2 if x<50 else x**0.5 for x in alist]\n",
    "print(newlist)"
   ]
  },
  {
   "cell_type": "code",
   "execution_count": null,
   "metadata": {
    "colab": {
     "base_uri": "https://localhost:8080/"
    },
    "id": "gfQOxHxCMBK2",
    "outputId": "36c5e100-39d6-4beb-ab23-5128fbc1653c"
   },
   "outputs": [],
   "source": [
    "bodyweight=[100,80,60,50]\n",
    "# change to \"strong\" if w>60, else \"slim\"\n",
    "bodyshape=[\"Strong\" if w>60 else \"Slim\"  for w in bodyweight]\n",
    "bodyshape"
   ]
  },
  {
   "cell_type": "markdown",
   "metadata": {
    "id": "8ky1D0tmUEoB"
   },
   "source": [
    "## Numpy "
   ]
  },
  {
   "cell_type": "code",
   "execution_count": null,
   "metadata": {
    "colab": {
     "base_uri": "https://localhost:8080/"
    },
    "id": "4N5AdOexUEoB",
    "outputId": "97c2fe53-8170-405d-e271-8edb1c3a5a66"
   },
   "outputs": [],
   "source": [
    "import numpy as np\n",
    "firstarray=np.array([1,2,3,4])\n",
    "firstarray"
   ]
  },
  {
   "cell_type": "code",
   "execution_count": null,
   "metadata": {
    "colab": {
     "base_uri": "https://localhost:8080/"
    },
    "id": "gPlRaOIiUEoB",
    "outputId": "de39fe0a-a2e2-477b-fd56-f2d431d9c486"
   },
   "outputs": [],
   "source": [
    "firstarray+3"
   ]
  },
  {
   "cell_type": "code",
   "execution_count": null,
   "metadata": {
    "id": "P612ZWIRUEoC",
    "outputId": "3c343862-c832-49ee-e19d-fe8b05e33d9d"
   },
   "outputs": [],
   "source": [
    "alist+3"
   ]
  },
  {
   "cell_type": "code",
   "execution_count": null,
   "metadata": {
    "colab": {
     "base_uri": "https://localhost:8080/"
    },
    "id": "gGmue-ENN-w2",
    "outputId": "34d4ab2c-520c-4675-8096-3a7fa0d63de4"
   },
   "outputs": [],
   "source": [
    "firstarray**0.5"
   ]
  },
  {
   "cell_type": "markdown",
   "metadata": {
    "id": "aI3tqKRWN8EG"
   },
   "source": [
    "f"
   ]
  },
  {
   "cell_type": "code",
   "execution_count": null,
   "metadata": {
    "colab": {
     "base_uri": "https://localhost:8080/"
    },
    "id": "7fGwNx0A5ob1",
    "outputId": "4687f475-7d55-4c62-d85b-76074c4eabe0"
   },
   "outputs": [],
   "source": [
    "B=np.random.normal(10,20,(5,5))\n",
    "print(B)"
   ]
  },
  {
   "cell_type": "markdown",
   "metadata": {
    "id": "eWIDEcdeUEoJ"
   },
   "source": [
    "## Scipy"
   ]
  },
  {
   "cell_type": "code",
   "execution_count": 2,
   "metadata": {
    "id": "engKLNqwUEoJ"
   },
   "outputs": [],
   "source": [
    "import scipy.stats"
   ]
  },
  {
   "cell_type": "code",
   "execution_count": 3,
   "metadata": {
    "colab": {
     "base_uri": "https://localhost:8080/"
    },
    "id": "12E-iGq5UEoJ",
    "outputId": "9381e339-c893-413b-e8e7-7d0fb82a0e31"
   },
   "outputs": [
    {
     "data": {
      "text/plain": [
       "0.6554217416103242"
      ]
     },
     "execution_count": 3,
     "metadata": {},
     "output_type": "execute_result"
    }
   ],
   "source": [
    "#P(X<10)=?  X is normal with mean 8 and sd 5. \n",
    "scipy.stats.norm.cdf(10,loc=8,scale=5)"
   ]
  },
  {
   "cell_type": "code",
   "execution_count": 4,
   "metadata": {
    "colab": {
     "base_uri": "https://localhost:8080/"
    },
    "id": "225GutOBR-yv",
    "outputId": "0226480c-e725-4011-a0d5-365569018181"
   },
   "outputs": [
    {
     "data": {
      "text/plain": [
       "0.3445782583896758"
      ]
     },
     "execution_count": 4,
     "metadata": {},
     "output_type": "execute_result"
    }
   ],
   "source": [
    "#P(X>10)=?  X is normal with mean 8 and sd 5.\n",
    "1-scipy.stats.norm.cdf(10,loc=8,scale=5)"
   ]
  },
  {
   "cell_type": "code",
   "execution_count": 5,
   "metadata": {
    "colab": {
     "base_uri": "https://localhost:8080/"
    },
    "id": "H9ptPwruUEoK",
    "outputId": "05eb1f5d-7265-4cbd-b943-d9518392e09b"
   },
   "outputs": [
    {
     "data": {
      "text/plain": [
       "6.710292746097054"
      ]
     },
     "execution_count": 5,
     "metadata": {},
     "output_type": "execute_result"
    }
   ],
   "source": [
    "#P(X<?)=0.05 X is normal with mean 10 and sd 2\n",
    "scipy.stats.norm.ppf(0.05,loc=10,scale=2)"
   ]
  },
  {
   "cell_type": "markdown",
   "metadata": {
    "id": "BMAfrJ-5UEoK"
   },
   "source": [
    "## Matplotlib and Statistical Graphing "
   ]
  },
  {
   "cell_type": "code",
   "execution_count": null,
   "metadata": {
    "colab": {
     "base_uri": "https://localhost:8080/",
     "height": 320
    },
    "id": "eS37w7HiUEoK",
    "outputId": "ef961275-40f4-46bc-ee64-0b91f5766811"
   },
   "outputs": [],
   "source": [
    "pjme=np.random.normal(10,5,500)\n",
    "plt.figure(figsize=(10,5))\n",
    "plt.plot(pjme,color=\"yellow\")\n",
    "plt.show()"
   ]
  },
  {
   "cell_type": "code",
   "execution_count": null,
   "metadata": {
    "colab": {
     "base_uri": "https://localhost:8080/",
     "height": 265
    },
    "id": "eSGqWcN1UEoL",
    "outputId": "57c5abe6-2a0e-4ae6-f94e-4bd188cb909e"
   },
   "outputs": [],
   "source": [
    "pjme=np.random.normal(10,5,5000)\n",
    "plt.hist(pjme,edgecolor=\"black\",density=True,bins=100) #density=True => relative frequency; density=False => frequency\n",
    "plt.show()"
   ]
  },
  {
   "cell_type": "code",
   "execution_count": null,
   "metadata": {
    "id": "sCbksviOUEoL"
   },
   "outputs": [],
   "source": []
  },
  {
   "cell_type": "code",
   "execution_count": null,
   "metadata": {
    "colab": {
     "base_uri": "https://localhost:8080/",
     "height": 265
    },
    "id": "mq22huCNUEoL",
    "outputId": "cf798e51-f976-4f46-cdd6-d4d5bfae6e31"
   },
   "outputs": [],
   "source": [
    "pjme=np.random.normal(10,5,5000)**2 # Chi-square\n",
    "plt.hist(pjme, edgecolor=\"black\",bins=50)\n",
    "plt.show()"
   ]
  },
  {
   "cell_type": "code",
   "execution_count": null,
   "metadata": {
    "id": "ax7mEaj0UEoM"
   },
   "outputs": [],
   "source": [
    "pjme1=np.random.normal(10,5,5000)\n",
    "pjme2=np.random.normal(20,7,5000)\n",
    "pjme3=np.random.normal(40,10,5000)\n",
    "pjme4=np.random.normal(80,20,5000)"
   ]
  },
  {
   "cell_type": "code",
   "execution_count": null,
   "metadata": {
    "colab": {
     "base_uri": "https://localhost:8080/",
     "height": 265
    },
    "id": "wraL_k2ZUEoM",
    "outputId": "f8877a1a-23b1-4344-ef92-0f038a80c025"
   },
   "outputs": [],
   "source": [
    "plt.hist(pjme1,bins=30,density=True, edgecolor=\"black\" )\n",
    "plt.hist(pjme2,bins=30,density=True, edgecolor=\"black\" )\n",
    "plt.hist(pjme3,bins=30,density=True, edgecolor=\"black\" )\n",
    "plt.hist(pjme4,bins=30,density=True, edgecolor=\"black\" )\n",
    "plt.show()"
   ]
  },
  {
   "cell_type": "code",
   "execution_count": null,
   "metadata": {
    "colab": {
     "base_uri": "https://localhost:8080/",
     "height": 282
    },
    "id": "ZY4gyztoUEoM",
    "outputId": "d44b5975-7abe-4721-cb6f-7fb8624b6951"
   },
   "outputs": [],
   "source": [
    "pjme=np.random.normal(10,5,5000)\n",
    "plt.hist(pjme, edgecolor=\"black\",density=True,bins=50)\n",
    "plt.ylabel(\"Stock return\")\n",
    "plt.title(\"Histogram of Stock Return\")\n",
    "plt.show()"
   ]
  },
  {
   "cell_type": "markdown",
   "metadata": {
    "id": "yX92OLctUEoN"
   },
   "source": [
    "## Figure Object"
   ]
  },
  {
   "cell_type": "code",
   "execution_count": null,
   "metadata": {
    "colab": {
     "base_uri": "https://localhost:8080/",
     "height": 337
    },
    "id": "Tx6fs5k9UEoN",
    "outputId": "2f56ea50-59f1-4ed4-8ece-ef59edc9024d"
   },
   "outputs": [],
   "source": [
    "fig=plt.figure (figsize=(10,5))\n",
    "axes1=fig.add_subplot(1,2,1)\n",
    "axes1.hist(pjme1,bins=30,density=True, edgecolor=\"black\" )\n",
    "axes1.set_title(\"Stock return on Day 1\")\n",
    "axes1.set_ylabel(\"return \")\n",
    "axes2=fig.add_subplot(1,2,2)\n",
    "axes2.hist(pjme2,bins=30,density=True, edgecolor=\"black\" )\n",
    "axes2.set_title(\"Stock return on Day 2\")\n",
    "axes2.set_ylabel(\"Return\")\n",
    "fig.show()"
   ]
  },
  {
   "cell_type": "code",
   "execution_count": null,
   "metadata": {
    "colab": {
     "base_uri": "https://localhost:8080/",
     "height": 316
    },
    "id": "a3XFqnd9UEoN",
    "outputId": "85394b2f-c366-4154-95e7-2d4397ccf39c"
   },
   "outputs": [],
   "source": [
    "fig=plt.figure()\n",
    "ax1=fig.add_subplot(1,1,1)\n",
    "ax1.scatter(pjme1, pjme2)\n",
    "ax1.set_xlabel(\"Return on day 1 \")\n",
    "ax1.set_ylabel(\"Return on day 2\")\n",
    "ax1.set_title(\"Interday Pattern\")"
   ]
  },
  {
   "cell_type": "code",
   "execution_count": null,
   "metadata": {},
   "outputs": [],
   "source": []
  }
 ],
 "metadata": {
  "colab": {
   "provenance": []
  },
  "kernelspec": {
   "display_name": "base",
   "language": "python",
   "name": "python3"
  },
  "language_info": {
   "codemirror_mode": {
    "name": "ipython",
    "version": 3
   },
   "file_extension": ".py",
   "mimetype": "text/x-python",
   "name": "python",
   "nbconvert_exporter": "python",
   "pygments_lexer": "ipython3",
   "version": "3.12.7"
  },
  "nteract": {
   "version": "0.27.0"
  }
 },
 "nbformat": 4,
 "nbformat_minor": 4
}

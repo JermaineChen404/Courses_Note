{
  "cells": [
    {
      "cell_type": "markdown",
      "metadata": {
        "id": "2n8LNSxQm4wO"
      },
      "source": [
        "# Assignment  2\n",
        "\n",
        "## Due Date & Time: 29-Apr-2025 (11:59pm HKT)"
      ]
    },
    {
      "cell_type": "markdown",
      "metadata": {
        "id": "kIwkTaPym4wT"
      },
      "source": [
        "**GOAL**\n",
        "\n",
        "Obtain information on UG course exams for the ISOM department from the provided link, then store it in a dictionary named `exam_by_date` and display them according to date.\n",
        "\n",
        "This question is further divided into three parts:\n",
        "1) Creating a class for exam\n",
        "2) Web scraping\n",
        "3) Data processing\n",
        "\n",
        "**ASSUMPTIONS:**\n",
        "- You can assume that for any given course, all lecture sections share the same exam date, time, duration, and venue(s).\n"
      ]
    },
    {
      "cell_type": "markdown",
      "metadata": {
        "id": "EyaTIsi8m4wU"
      },
      "source": [
        "### Task 1: Class representation\n",
        "\n",
        " You are required to represent each course's exam as an instance of the class `Exam`.<br>Complete the following dunder methods for the class:\n",
        " - `__init__()`: constructor\n",
        " - `__repr__()`: official string representation\n",
        " - `__str__()`: invoked when an object is printed using print().\n",
        "\n",
        "<br>\n",
        "\n",
        "As an example, given the following information:\n",
        "<div class='course'>\n",
        "\t<div class='courseanchor' style='position:relative; float:left; visibility:hidden;'><a></a></div>\n",
        "\t<div class='subject'><b>ISOM 0000 - Some Demo Course</b></div>\n",
        "\t<table class='sections'>\n",
        "\t\t<tbody>\n",
        "\t\t\t<tr>\n",
        "\t\t\t\t<th>&nbsp;</th>\n",
        "\t\t\t\t<th>Section</th>\n",
        "\t\t\t\t<th>Date</th>\n",
        "\t\t\t\t<th>Time</th>\n",
        "\t\t\t\t<th>Venue</th>\n",
        "\t\t\t\t<th>Remarks</th>\n",
        "\t\t\t</tr>\n",
        "\t\t\t<tr class='newsect secteven'>\n",
        "\t\t\t\t<td align='center'></td>\n",
        "\t\t\t\t<td align='center'>L1</td>\n",
        "\t\t\t\t<td class='date'>12-May-2025</td>\n",
        "\t\t\t\t<td class='time'>08:30AM - 10:30AM</td>\n",
        "\t\t\t\t<td class='venue'>Venue A<br>Venue B</td>\n",
        "\t\t\t\t<td class='remarks' align='center' colspan=''> </td>\n",
        "\t\t\t</tr>\n",
        "\t\t\t\t<tr class='newsect sectodd'>\n",
        "\t\t\t\t<td align='center'></td>\n",
        "\t\t\t\t<td align='center'>L2</td>\n",
        "\t\t\t\t<td class='date'>12-May-2025</td>\n",
        "\t\t\t\t<td class='time'>08:30AM - 10:30AM</td>\n",
        "\t\t\t\t<td class='venue'>Venue A<br>Venue B</td>\n",
        "\t\t\t\t<td class='remarks' align='center' colspan=''> </td>\n",
        "\t\t\t</tr>\n",
        "\t\t</tbody>\n",
        "\t</table>\n",
        "</div>\n",
        "<em>*Please refer to the actual website for the HTML code and exam information. The above representation may not be 100% accurate.</em>\n",
        "\n",
        "The properties of this Exam object are:\n",
        "\n",
        "| Property | Type | Example Value |\n",
        "|----------|------|---------------|\n",
        "|`course_code`|string|`'ISOM 0000'`|\n",
        "|`course_name`|string|`'Some Demo Course'`|\n",
        "|`date`|string|`'12-May-2025'`|\n",
        "|`start`|string|`'08:30AM'`|\n",
        "|`end`|string|`'10:30AM'`|\n",
        "|`venues`|**list** of strings|`['Venue A', 'Venue B']`|\n",
        "\n",
        "The constructor call should be:\n",
        "```Python\n",
        "some_exam = Exam('ISOM 0000', 'Some Demo Course', '12-May-2025', '08:30AM', '10:30AM', ['Venue A', 'Venue B'])\n",
        "```\n",
        "\n",
        "The official string representation (`__repr__()`) should return the course code of the exam, i.e. **ISOM 0000**\n",
        "\n",
        "The object when printed (`__str__()`) should return exam information as `[course_code]: [date] [start]-[end] at [venues]`, e.g.:\n",
        "```Python\n",
        "'ISOM 0000: 12-May-2025 08:30AM-10:30AM at Venue A / Venue B'\n",
        "```\n",
        "*Note that if there are multiple venues, each venue should be separated by a forward slash (`/`). If there is only one venue, nothing special is required.\n",
        "\n",
        "\n",
        "\n"
      ]
    },
    {
      "cell_type": "code",
      "execution_count": 11,
      "metadata": {
        "id": "gEkUap67m4wV"
      },
      "outputs": [],
      "source": [
        "class Exam:\n",
        "\n",
        "    # Complete the constructor for the Exam class below.\n",
        "    def __init__(self, course_code, course_name, date, start, end, venues):\n",
        "        # *Please use the same property names as shown in the example table above.*\n",
        "        self.course_code = course_code\n",
        "        self.course_name = course_name\n",
        "        self.date = date\n",
        "        self.start = start\n",
        "        self.end = end\n",
        "        self.venues = venues\n",
        "\n",
        "    def __repr__(self):\n",
        "        # repr: defines \"official\" representation of the object when you type its name, e.g., 'ISOM 0000'\n",
        "        # Please complete the return value for this method.\n",
        "        return f\"{self.course_code}\"\n",
        "\n",
        "\n",
        "    def __str__(self):\n",
        "        # str: defines what you see when you print it out, e.g, 'ISOM 0000: 12-May-2025 08:30AM-10:30AM at Venue A / Venue B'\n",
        "        # Please complete the return value for this method\n",
        "        return f\"{self.course_code}: {self.date} {self.start}-{self.end} at {' / '.join(self.venues)}\"\n"
      ]
    },
    {
      "cell_type": "markdown",
      "metadata": {
        "id": "mMSpOiu22Hb9"
      },
      "source": [
        "Test your code by instantiating the oject and show the representations."
      ]
    },
    {
      "cell_type": "code",
      "execution_count": 12,
      "metadata": {
        "colab": {
          "base_uri": "https://localhost:8080/"
        },
        "id": "OzLRCZ-x2d6a",
        "outputId": "7c38d795-080a-4434-9681-a1354355e428"
      },
      "outputs": [
        {
          "data": {
            "text/plain": [
              "ISOM 0000"
            ]
          },
          "execution_count": 12,
          "metadata": {},
          "output_type": "execute_result"
        }
      ],
      "source": [
        "some_exam = Exam('ISOM 0000', 'Some Demo Course', '12-May-2025', '08:30AM', '10:30AM', ['Venue A', 'Venue B'])\n",
        "some_exam"
      ]
    },
    {
      "cell_type": "code",
      "execution_count": 13,
      "metadata": {
        "colab": {
          "base_uri": "https://localhost:8080/"
        },
        "id": "aW7q4GT12zFq",
        "outputId": "d1aae369-3c99-4cd0-ad4c-8c3d5a1468dd"
      },
      "outputs": [
        {
          "name": "stdout",
          "output_type": "stream",
          "text": [
            "ISOM 0000: 12-May-2025 08:30AM-10:30AM at Venue A / Venue B\n"
          ]
        }
      ],
      "source": [
        "print(some_exam)"
      ]
    },
    {
      "cell_type": "markdown",
      "metadata": {
        "id": "YmYnDHUCm4wW"
      },
      "source": [
        "### Task 2: Web Scraping\n",
        "\n",
        "Your script should access the required page at [https://w5.ab.ust.hk/wex/cgi-bin/2430/subject/ISOM](https://w5.ab.ust.hk/wex/cgi-bin/2430/subject/ISOM).\n",
        "\n",
        "You are required to scrape the page, create `Exam` objects, and store these objects in a list `exam_list`.\n",
        "\n",
        "For each course on the examination schedule website:\n",
        "- Your script should determine whether it:\n",
        "    - is an undergraduate level course (numerical course code < 5000)\n",
        "    - has an exam scheduled on the website (has a valid date and time on the website)\n",
        "- If the course satisfies **both** requirements above, create an `Exam` object that stores all relevant data. Else, skip that course.\n",
        "    - append the created object to the list `exam_list`."
      ]
    },
    {
      "cell_type": "code",
      "execution_count": 14,
      "metadata": {
        "id": "nw8oYU7Sm4wW"
      },
      "outputs": [],
      "source": [
        "# Starter code\n",
        "from bs4 import BeautifulSoup\n",
        "import requests"
      ]
    },
    {
      "cell_type": "markdown",
      "metadata": {
        "id": "2Ekyoti7m4wX"
      },
      "source": [
        "#### Important Note\n",
        "> You may not be able to access the website using requests.get() due to the authorization issue.<br>If that is the case, please download <a>ISOM_2430_exam.html</a>, place it in the same directory (folder) as this notebook, and run the following code cell."
      ]
    },
    {
      "cell_type": "code",
      "execution_count": 15,
      "metadata": {
        "id": "-AeUqtxUm4wX"
      },
      "outputs": [],
      "source": [
        "# Do not run this code cell if you are using requests.get().\n",
        "# open() and requests.get() retrieve HTML in different ways\n",
        "# open() is the built-in function to read and write local files\n",
        "# so, you need to download the webpage manually and save it in your file system beforehand\n",
        "# In contrast, requests.get() is to retrieve HTML over the Internet\n",
        "html_code = open('ISOM_2430_exam.html', 'r')\n",
        "soup = BeautifulSoup(html_code, 'html.parser') # <- use soup for your scraping operations, or you can change the variable name if you like.\n",
        "html_code.close()"
      ]
    },
    {
      "cell_type": "markdown",
      "metadata": {
        "id": "0EPbDVXx3t1o"
      },
      "source": [
        "Hints:\n",
        "1. Consider using `.split()` method to split course code and course name. You need to specify `maxsplit=1` to deal with the special case of more than 1 separator, e.g, 'ISOM 3380 - Advanced Network Management (CISCO - ICND)'\n",
        "2. To extract all the venues (in the case of multiple venues), use a separator (e.g., `|`) when calling `get_text()` method to join multiple pieces of text from within the HTML element. Then split the extracted text into a list, using the same symbol (e.g., `|`) as the separator."
      ]
    },
    {
      "cell_type": "code",
      "execution_count": 16,
      "metadata": {
        "colab": {
          "base_uri": "https://localhost:8080/"
        },
        "id": "AuXzqSSam4wY",
        "outputId": "b9e0492a-b548-4e98-d356-03a0644ac817"
      },
      "outputs": [
        {
          "data": {
            "text/plain": [
              "[ISOM 1380,\n",
              " ISOM 2010,\n",
              " ISOM 2500,\n",
              " ISOM 2600,\n",
              " ISOM 2700,\n",
              " ISOM 3180,\n",
              " ISOM 3210,\n",
              " ISOM 3230,\n",
              " ISOM 3260,\n",
              " ISOM 3310,\n",
              " ISOM 3320,\n",
              " ISOM 3360,\n",
              " ISOM 3370,\n",
              " ISOM 3380,\n",
              " ISOM 3400,\n",
              " ISOM 3530,\n",
              " ISOM 3710,\n",
              " ISOM 3770,\n",
              " ISOM 3780,\n",
              " ISOM 3900,\n",
              " ISOM 4040,\n",
              " ISOM 4300,\n",
              " ISOM 4540,\n",
              " ISOM 4750,\n",
              " ISOM 4780,\n",
              " ISOM 4830,\n",
              " ISOM 4840]"
            ]
          },
          "execution_count": 16,
          "metadata": {},
          "output_type": "execute_result"
        }
      ],
      "source": [
        "exam_list = []\n",
        "# Write your code below\n",
        "course_code_list = []\n",
        "course_name_list = []\n",
        "date_list = []\n",
        "start_list = []\n",
        "end_list = []\n",
        "venues_list = []\n",
        "\n",
        "for course_info in soup.find_all('div', {'class': 'course'}):\n",
        "    course_title = course_info.find('div', {'class': 'subject'}).text.split(' - ', maxsplit=1)\n",
        "    course_code_list.append(course_title[0])\n",
        "    course_name_list.append(course_title[1])\n",
        "    \n",
        "    if course_info.find('td', {'class': 'remarks'}).text == ' ': # If there is no remarks, then there is an exam scheduled.\n",
        "        \n",
        "        time = course_info.find('td', {'class': 'time'}).text.split(' - ')\n",
        "        \n",
        "        date_list.append(course_info.find('td', {'class': 'date'}).text)\n",
        "        start_list.append(time[0])\n",
        "        end_list.append(time[1])\n",
        "        venues_list.append(course_info.find('td', {'class': 'venue'}).get_text(separator='|').split('|'))\n",
        "    else:\n",
        "        date_list.append(None)\n",
        "        start_list.append(None)\n",
        "        end_list.append(None)\n",
        "        venues_list.append(None)\n",
        "\n",
        "for i in range(len(course_code_list)):\n",
        "    if date_list[i] and int(course_code_list[i][5])<5: # make sure the course code is 1XXX-4XXX and there is an exam scheduled.\n",
        "        exam_list.append(Exam(course_code_list[i], course_name_list[i], date_list[i], start_list[i], end_list[i], venues_list[i]))\n",
        "# Actually can be done by list comprehension, but not doing that given the requirement said ''append'' and the empty list in the front.\n",
        "\n",
        "exam_list"
      ]
    },
    {
      "cell_type": "markdown",
      "metadata": {
        "id": "I1WWKTQ2m4wY"
      },
      "source": [
        "### Task 3: Data Processing\n",
        "\n",
        "Using the `Exam` objects previously created and stored in `exam_list`, create a dictionary `exam_by_date`, where each key is an exam date, and each value is a list of exams held on that day. The keys should be sorted from the earliest to the latest. Then, print out the list of exams in the format provided below.\n",
        "\n",
        "Example: Given the following three objects:\n",
        "\n",
        "| Property | Value |\n",
        "|----------|---------------|\n",
        "|`course_code`|`'ISOM 0000'`|\n",
        "|`course_name`|`'Some Demo Course'`|\n",
        "|`date`|`'12-May-2025'`|\n",
        "|`start`|`'08:30AM'`|\n",
        "|`end`|`'10:30AM'`|\n",
        "|`venues`|`['Venue A', 'Venue B']`|\n",
        "\n",
        "\n",
        " | Property | Value |\n",
        "|----------|---------------|\n",
        "|`course_code`|`'ISOM 1111'`|\n",
        "|`course_name`|`'Other Demo Course'`|\n",
        "|`date`|`'15-May-2025'`|\n",
        "|`start`|`'08:30AM'`|\n",
        "|`end`|`'10:30AM'`|\n",
        "|`venues`|`['Venue C']`|\n",
        "\n",
        "\n",
        "| Property | Value |\n",
        "|----------|---------------|\n",
        "|`course_code`|`'ISOM 2222'`|\n",
        "|`course_name`|`'Third Demo Course'`|\n",
        "|`date`|`'12-May-2025'`|\n",
        "|`start`|`'12:30PM'`|\n",
        "|`end`|`'02:30PM'`|\n",
        "|`venues`|`['Venue A']`|\n",
        "\n",
        "The dictionary `exam_by_date` should be:\n",
        "\n",
        "<p style=\"font-family: Consolas, 'Courier New', monospace\">{<br>&nbsp;&nbsp;&nbsp;&nbsp;'12-May-2025': [ISOM 0000, ISOM 2222],<br>&nbsp;&nbsp;&nbsp;&nbsp;'15-May-2025': [ISOM 1111]<br>}</p>"
      ]
    },
    {
      "cell_type": "code",
      "execution_count": 17,
      "metadata": {
        "colab": {
          "base_uri": "https://localhost:8080/"
        },
        "id": "06RxPoeQm4wY",
        "outputId": "bf38fe02-7d1b-4aae-d416-768883548184"
      },
      "outputs": [
        {
          "data": {
            "text/plain": [
              "{'17-May-2025': [ISOM 3360, ISOM 3370, ISOM 3780],\n",
              " '19-May-2025': [ISOM 3260, ISOM 3900],\n",
              " '20-May-2025': [ISOM 1380, ISOM 3530, ISOM 3770],\n",
              " '21-May-2025': [ISOM 3710],\n",
              " '22-May-2025': [ISOM 2500, ISOM 3320, ISOM 4780],\n",
              " '23-May-2025': [ISOM 3310, ISOM 3380, ISOM 4840],\n",
              " '24-May-2025': [ISOM 2010, ISOM 3400, ISOM 4750],\n",
              " '26-May-2025': [ISOM 2700, ISOM 3230, ISOM 4300, ISOM 4540, ISOM 4830],\n",
              " '27-May-2025': [ISOM 3180, ISOM 4040],\n",
              " '28-May-2025': [ISOM 2600],\n",
              " '29-May-2025': [ISOM 3210]}"
            ]
          },
          "execution_count": 17,
          "metadata": {},
          "output_type": "execute_result"
        }
      ],
      "source": [
        "exam_by_date = {}\n",
        "# Write your code below\n",
        "exam_unordered = {}\n",
        "for exam in exam_list:\n",
        "    if exam.date not in exam_unordered:\n",
        "        exam_unordered[exam.date] = [exam]\n",
        "    else:\n",
        "        exam_unordered[exam.date].append(exam)\n",
        "\n",
        "exam_by_date = {exam_date: exam for exam_date, exam in sorted(exam_unordered.items(), key=lambda x: x[0])} # All exam scheduled on XX-May-2025, therefore we can simply sort by the whole date string\n",
        "\n",
        "exam_by_date"
      ]
    }
  ],
  "metadata": {
    "colab": {
      "provenance": []
    },
    "kernelspec": {
      "display_name": "base",
      "language": "python",
      "name": "python3"
    },
    "language_info": {
      "codemirror_mode": {
        "name": "ipython",
        "version": 3
      },
      "file_extension": ".py",
      "mimetype": "text/x-python",
      "name": "python",
      "nbconvert_exporter": "python",
      "pygments_lexer": "ipython3",
      "version": "3.12.7"
    }
  },
  "nbformat": 4,
  "nbformat_minor": 0
}

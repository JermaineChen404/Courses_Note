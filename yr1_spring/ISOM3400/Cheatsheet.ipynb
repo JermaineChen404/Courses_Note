{
 "cells": [
  {
   "cell_type": "markdown",
   "id": "81a77173",
   "metadata": {},
   "source": [
    "### Arithmetic Operators"
   ]
  },
  {
   "cell_type": "markdown",
   "id": "d7a61616",
   "metadata": {},
   "source": [
    "The `//` operator performs <font color='royalblue'><b>*integer or floored division*</b></font> that keeps only the integer part of the result, while the `%` operator calculates the remainder:"
   ]
  },
  {
   "cell_type": "markdown",
   "id": "8492cac9",
   "metadata": {},
   "source": [
    "\n",
    "### Operator Order\n",
    "\n",
    "Python evaluates expressions from left to right. The following table summarizes the <font color=\"royalblue\"><b>*operator precedence*</b></font> for all the operators we have seen so far, from highest precedence to lowest precedence:\n",
    "\n",
    "\n",
    "\n",
    "|Operator|Meaning|\n",
    "|:-- |:-- |\n",
    "|`()`|Grouping|\n",
    "|`x[i], x[i:j:k], x(...), x.attr`|Indexing, slicing, call, attribute reference|\n",
    "|`**`|Exponentiation|\n",
    "|`+x, -x`|identity, negatition|\n",
    "|`*, /, //, %`|Multiplication (repetition), division, integer division, remainder (format)|\n",
    "|`+, -`|Addition (concatenation), substraction|\n",
    "|`<, <=, >, >=, ==, !=, in, not in, is, is not`|Comparisons, including membership tests and identity tests|\n",
    "|`not`|Logical Negation|\n",
    "|`and`|Logical AND|\n",
    "|`or`|Logical OR|"
   ]
  },
  {
   "cell_type": "code",
   "execution_count": 1,
   "id": "b4f6f40f",
   "metadata": {},
   "outputs": [
    {
     "data": {
      "text/plain": [
       "True"
      ]
     },
     "execution_count": 1,
     "metadata": {},
     "output_type": "execute_result"
    }
   ],
   "source": [
    "True or True and False == True or (True and False) # precedence: and before or"
   ]
  },
  {
   "cell_type": "markdown",
   "id": "5199c525",
   "metadata": {},
   "source": [
    "The built-in function `dir()`,  when called without arguments,\n",
    "returns the list of all the names (functions and variables) belonging to the namespace from where it is called  \n",
    "Deleting a name using the `del` statement removes the name from the namespace:"
   ]
  },
  {
   "cell_type": "markdown",
   "id": "db55a10b",
   "metadata": {},
   "source": [
    "When we enter an \"Enter\", we are actually creating a \"\\n\" within the string. Therefore, we can make a string literal span multiple lines by including a backslash character \\ at the end of each line to escape the newline (\\n):"
   ]
  },
  {
   "cell_type": "code",
   "execution_count": null,
   "id": "32a2a353",
   "metadata": {},
   "outputs": [
    {
     "data": {
      "text/plain": [
       "'Python Programming for Business Analytics'"
      ]
     },
     "metadata": {},
     "output_type": "display_data"
    }
   ],
   "source": [
    "'Python Programming \\\n",
    "for Business Analytics'"
   ]
  },
  {
   "cell_type": "markdown",
   "id": "f1a01974",
   "metadata": {},
   "source": [
    "Integer supports '+' and '*', but not '-' and '/'"
   ]
  },
  {
   "cell_type": "markdown",
   "id": "42ac645d",
   "metadata": {},
   "source": [
    "### String comparison\n",
    "\n",
    "-  The comparison operators (e.g., `==`, `>`, `<=`) compare strings ***lexicographically***, the way in which sequences are ordered based on the <b>*alphabetical order*</b> of their component characters:\n",
    "\n",
    "   - In alphabetical ordering, digits come before letters and capital letters come before lowercase letters.\n",
    "     - i.e., digits (as characters) < uppercase letters < lowercase letters.\n",
    "   - Compare the leftmost characters first, and generate `True` or `False` if their values differ, or continue until a difference is observed."
   ]
  },
  {
   "cell_type": "markdown",
   "id": "1d4a56b3",
   "metadata": {},
   "source": [
    "\n",
    "Index [i:j] includes i but excludes j."
   ]
  },
  {
   "cell_type": "code",
   "execution_count": null,
   "id": "6739ccde",
   "metadata": {},
   "outputs": [
    {
     "name": "stdout",
     "output_type": "stream",
     "text": [
      "Help on built-in function print in module builtins:\n",
      "\n",
      "print(*args, sep=' ', end='\\n', file=None, flush=False)\n",
      "    Prints the values to a stream, or to sys.stdout by default.\n",
      "    \n",
      "    sep\n",
      "      string inserted between values, default a space.\n",
      "    end\n",
      "      string appended after the last value, default a newline.\n",
      "    file\n",
      "      a file-like object (stream); defaults to the current sys.stdout.\n",
      "    flush\n",
      "      whether to forcibly flush the stream.\n",
      "\n"
     ]
    }
   ],
   "source": [
    "# access the help system\n",
    "help(print)"
   ]
  },
  {
   "cell_type": "code",
   "execution_count": null,
   "id": "63c85590",
   "metadata": {},
   "outputs": [
    {
     "name": "stdout",
     "output_type": "stream",
     "text": [
      "purchase 3.2 shares of Apple at $ 443.05 per share\tpurchase-3.2-shares of-Apple-at $-443.05-per share\n"
     ]
    }
   ],
   "source": [
    "print('purchase', shares, 'shares of',  stock, \"at $\", price, 'per share', end='\\t')\n",
    "print('purchase', shares, 'shares of',  stock, \"at $\", price, 'per share', sep='-')"
   ]
  },
  {
   "cell_type": "code",
   "execution_count": null,
   "id": "ddef9c93",
   "metadata": {},
   "outputs": [
    {
     "data": {
      "application/vnd.google.colaboratory.intrinsic+json": {
       "type": "string"
      },
      "text/plain": [
       "\"Google's stock is trading 18.4% off of 52-week highs\""
      ]
     },
     "metadata": {},
     "output_type": "display_data"
    }
   ],
   "source": [
    "stock = 'Google'; percentage = 0.1845; week = 52.5\n",
    "f\"{stock}'s stock is trading {percentage:.1%} off of {week:.0f}-week highs\""
   ]
  },
  {
   "cell_type": "code",
   "execution_count": null,
   "id": "6c67e6e2",
   "metadata": {},
   "outputs": [
    {
     "data": {
      "text/plain": [
       "'{a + b}'"
      ]
     },
     "metadata": {},
     "output_type": "display_data"
    }
   ],
   "source": [
    "f\"{{a + b}}\"      # Treated as a literal string"
   ]
  },
  {
   "cell_type": "code",
   "execution_count": null,
   "id": "04db901e",
   "metadata": {},
   "outputs": [
    {
     "ename": "NameError",
     "evalue": "name 'a' is not defined",
     "output_type": "error",
     "traceback": [
      "\u001b[1;31m---------------------------------------------------------------------------\u001b[0m\n",
      "\u001b[1;31mNameError\u001b[0m                                 Traceback (most recent call last)\n",
      "Cell \u001b[1;32mIn[3], line 1\u001b[0m\n",
      "\u001b[1;32m----> 1\u001b[0m \u001b[38;5;124mf\u001b[39m\u001b[38;5;124m\"\u001b[39m\u001b[38;5;130;01m{{\u001b[39;00m\u001b[38;5;132;01m{\u001b[39;00ma\u001b[38;5;250m \u001b[39m\u001b[38;5;241m+\u001b[39m\u001b[38;5;250m \u001b[39mb\u001b[38;5;132;01m}\u001b[39;00m\u001b[38;5;130;01m}}\u001b[39;00m\u001b[38;5;124m\"\u001b[39m\n",
      "\n",
      "\u001b[1;31mNameError\u001b[0m: name 'a' is not defined"
     ]
    }
   ],
   "source": [
    "f\"{{{a + b}}}\" # Treated as variables"
   ]
  },
  {
   "cell_type": "markdown",
   "id": "d2d7c667",
   "metadata": {},
   "source": [
    "### Type Conversion\n",
    "- str -> float -> int\n",
    "- bool(0) = bool(0.0) = bool(\"\") = False"
   ]
  },
  {
   "cell_type": "code",
   "execution_count": 2,
   "id": "57bc4633",
   "metadata": {},
   "outputs": [
    {
     "data": {
      "text/plain": [
       "4"
      ]
     },
     "execution_count": 2,
     "metadata": {},
     "output_type": "execute_result"
    }
   ],
   "source": [
    "int(4.999)"
   ]
  },
  {
   "cell_type": "markdown",
   "id": "5ce094f4",
   "metadata": {},
   "source": [
    "Str.split() return a list of the substrings in the string"
   ]
  },
  {
   "cell_type": "code",
   "execution_count": null,
   "id": "30120911",
   "metadata": {},
   "outputs": [
    {
     "data": {
      "text/plain": [
       "['Business-Applications-Development-in-Python']"
      ]
     },
     "metadata": {},
     "output_type": "display_data"
    }
   ],
   "source": [
    "'Business-Applications-Development-in-Python'.split()"
   ]
  },
  {
   "cell_type": "code",
   "execution_count": null,
   "id": "924ea635",
   "metadata": {},
   "outputs": [
    {
     "data": {
      "text/plain": [
       "['Business', 'Applications', 'Development', 'in', 'Python']"
      ]
     },
     "metadata": {},
     "output_type": "display_data"
    }
   ],
   "source": [
    "'Business-Applications-Development-in-Python'.split('-')"
   ]
  },
  {
   "cell_type": "markdown",
   "id": "b929e499",
   "metadata": {},
   "source": [
    "Str.split(' - ', maxsplit=1) to avoid error with string with multiple ' - '"
   ]
  },
  {
   "cell_type": "code",
   "execution_count": null,
   "id": "4999cce9",
   "metadata": {},
   "outputs": [
    {
     "name": "stdout",
     "output_type": "stream",
     "text": [
      "Help on built-in function split:\n",
      "\n",
      "split(sep=None, maxsplit=-1) method of builtins.str instance\n",
      "    Return a list of the substrings in the string, using sep as the separator string.\n",
      "\n",
      "      sep\n",
      "        The separator used to split the string.\n",
      "\n",
      "        When set to None (the default value), will split on any whitespace\n",
      "        character (including \\n \\r \\t \\f and spaces) and will discard\n",
      "        empty strings from the result.\n",
      "      maxsplit\n",
      "        Maximum number of splits.\n",
      "        -1 (the default value) means no limit.\n",
      "\n",
      "    Splitting starts at the front of the string and works to the end.\n",
      "\n",
      "    Note, str.split() is mainly useful for data that has been intentionally\n",
      "    delimited.  With natural text that includes punctuation, consider using\n",
      "    the regular expression module.\n",
      "\n"
     ]
    }
   ],
   "source": [
    "help(course.split)"
   ]
  },
  {
   "cell_type": "code",
   "execution_count": null,
   "id": "8af26f14",
   "metadata": {},
   "outputs": [
    {
     "name": "stdout",
     "output_type": "stream",
     "text": [
      "Help on built-in function join:\n",
      "\n",
      "join(iterable, /) method of builtins.str instance\n",
      "    Concatenate any number of strings.\n",
      "    \n",
      "    The string whose method is called is inserted in between each given string.\n",
      "    The result is returned as a new string.\n",
      "    \n",
      "    Example: '.'.join(['ab', 'pq', 'rs']) -> 'ab.pq.rs'\n",
      "\n"
     ]
    }
   ],
   "source": [
    "help(course.join)"
   ]
  },
  {
   "cell_type": "code",
   "execution_count": 4,
   "id": "a0bedec9",
   "metadata": {},
   "outputs": [
    {
     "name": "stdout",
     "output_type": "stream",
     "text": [
      "<class 'int'> <class 'tuple'>\n"
     ]
    }
   ],
   "source": [
    "# To create a tuple with only one item, you need to add a comma after the item\n",
    "print(type((1)), type((1,)))"
   ]
  },
  {
   "cell_type": "code",
   "execution_count": null,
   "id": "37400b2d",
   "metadata": {},
   "outputs": [
    {
     "data": {
      "text/plain": [
       "(9,)"
      ]
     },
     "metadata": {},
     "output_type": "display_data"
    }
   ],
   "source": [
    "# still return a sequence\n",
    "squares[-3:-2]"
   ]
  },
  {
   "cell_type": "code",
   "execution_count": 10,
   "id": "cfd9ec83",
   "metadata": {},
   "outputs": [
    {
     "data": {
      "text/plain": [
       "True"
      ]
     },
     "execution_count": 10,
     "metadata": {},
     "output_type": "execute_result"
    }
   ],
   "source": [
    "# Term-wise comparison and stop comparing when the first unequal term is found\n",
    "['large',10, 'big'] < ['small',1, 'little']"
   ]
  },
  {
   "cell_type": "code",
   "execution_count": null,
   "id": "04953e02",
   "metadata": {},
   "outputs": [
    {
     "data": {
      "text/plain": [
       "False"
      ]
     },
     "metadata": {},
     "output_type": "display_data"
    }
   ],
   "source": [
    "[10,'large', 'big'] < [1,'small', 'little']"
   ]
  },
  {
   "cell_type": "code",
   "execution_count": 15,
   "id": "7fd730fc",
   "metadata": {},
   "outputs": [
    {
     "data": {
      "text/plain": [
       "4"
      ]
     },
     "execution_count": 15,
     "metadata": {},
     "output_type": "execute_result"
    }
   ],
   "source": [
    "[1,2,3,1,2,3,1,2,3].index(2,2,5) # find the first 2 start at index 1 (included) and stop at index 5 (excluded)"
   ]
  },
  {
   "cell_type": "code",
   "execution_count": null,
   "id": "9d6e033e",
   "metadata": {},
   "outputs": [],
   "source": [
    "list.sort(key=None, reverse=False) # sort the list in ascending order in place (modifies the original list)"
   ]
  },
  {
   "cell_type": "code",
   "execution_count": null,
   "id": "40b5a259",
   "metadata": {},
   "outputs": [
    {
     "data": {
      "text/plain": [
       "[1.0, -0.87, 0.78, 0.64, 0.5, -0.43, 0.12]"
      ]
     },
     "metadata": {},
     "output_type": "display_data"
    }
   ],
   "source": [
    "# Key must be a function that takes one argument and returns a value to be used for sorting purposes\n",
    "numbers=[0.12, 0.78, 0.5, -0.43, -0.87, 1.0, 0.64]\n",
    "numbers.sort(key=abs, reverse=True)\n",
    "numbers"
   ]
  },
  {
   "cell_type": "markdown",
   "id": "a86f088c",
   "metadata": {},
   "source": [
    "If any comparison fails, the entire sort will fail"
   ]
  },
  {
   "cell_type": "markdown",
   "id": "e5e6172a",
   "metadata": {},
   "source": [
    "- list.sort() return None while changing the original list.\n",
    "- sorted(list) returns a new list without changing the original list."
   ]
  },
  {
   "cell_type": "markdown",
   "id": "46475f75",
   "metadata": {},
   "source": [
    "\n",
    "### The `*` Operator\n",
    "- When used before a **name on the left of an assignment**, it creates a variable that gathers up any superfluous elements during sequence unpacking and returns a **list**:"
   ]
  },
  {
   "cell_type": "code",
   "execution_count": 17,
   "id": "a497c0f6",
   "metadata": {},
   "outputs": [
    {
     "data": {
      "text/plain": [
       "('a', ['p', 'p', 'l', 'e'], ['orange', 'banana', 'mango'])"
      ]
     },
     "execution_count": 17,
     "metadata": {},
     "output_type": "execute_result"
    }
   ],
   "source": [
    "fruits = ['apple', 'orange', 'banana', 'mango']\n",
    "((first, *remaining), *others) = fruits\n",
    "first, remaining, others"
   ]
  },
  {
   "cell_type": "markdown",
   "id": "738bf68b",
   "metadata": {},
   "source": [
    "- When used before a sequence inside a list or tuple display, `*` unpacks its individual values:\n",
    "\n",
    "\n"
   ]
  },
  {
   "cell_type": "code",
   "execution_count": 18,
   "id": "78b051fa",
   "metadata": {},
   "outputs": [
    {
     "data": {
      "text/plain": [
       "('a', 'p', 'p', 'l', 'e', 'orange', 'banana', 'mango')"
      ]
     },
     "execution_count": 18,
     "metadata": {},
     "output_type": "execute_result"
    }
   ],
   "source": [
    "first, *remaining, *others "
   ]
  },
  {
   "cell_type": "markdown",
   "id": "baec2400",
   "metadata": {},
   "source": [
    "\n",
    "\n",
    "\n",
    "The assignment of each item  to the **loop variable** can leverage sequence unpacking to make the handling of nested data easier:\n",
    "\n",
    "\n",
    "\n",
    "\n"
   ]
  },
  {
   "cell_type": "code",
   "execution_count": 19,
   "id": "262fc6ab",
   "metadata": {},
   "outputs": [
    {
     "data": {
      "text/plain": [
       "['Alice', 'Troy', 'James', 'Charles', 'Bryn']"
      ]
     },
     "execution_count": 19,
     "metadata": {},
     "output_type": "execute_result"
    }
   ],
   "source": [
    "gradebook = [['Alice', 95], ['Troy', 92], ['James', 89], ['Charles', 100], ['Bryn', 59]]\n",
    "name_only = [name for name, score in gradebook]\n",
    "name_only"
   ]
  },
  {
   "cell_type": "markdown",
   "id": "e1eeaaf8",
   "metadata": {},
   "source": [
    "Dictionary keys are ***unique*** and can be any ***immutable*** data type (e.g., numbers, strings, Booleans, tuples containing only immutable elements). List cannot be key"
   ]
  },
  {
   "cell_type": "markdown",
   "id": "9ec07e1b",
   "metadata": {},
   "source": [
    "Assigning a new key and value adds an entry:"
   ]
  },
  {
   "cell_type": "code",
   "execution_count": null,
   "id": "edcd7fda",
   "metadata": {},
   "outputs": [
    {
     "data": {
      "text/plain": [
       "{'Alice': 95, 'Troy': 92, 'James': 89, 'Charles': 100}"
      ]
     },
     "metadata": {},
     "output_type": "display_data"
    }
   ],
   "source": [
    "gradebook['Charles'] = 100\n",
    "gradebook"
   ]
  },
  {
   "cell_type": "markdown",
   "id": "385e899d",
   "metadata": {},
   "source": [
    "Many of the operators and built-in functions that can be used with sequences work with dictionaries as well. But they operate ***primarily on keys of dictionaries***:\n",
    "\n",
    "- The membership operator: `in` or `not in`\n",
    "- The `*` operator\n",
    "- len/max/sorted"
   ]
  },
  {
   "cell_type": "code",
   "execution_count": 23,
   "id": "c47d6256",
   "metadata": {},
   "outputs": [
    {
     "data": {
      "text/plain": [
       "({'Alice': 95, 'Troy': 92, 'James': 89, 'Charles': 100, 'Bryn': 59},\n",
       " True,\n",
       " False,\n",
       " 'Troy',\n",
       " ['Alice', 'Bryn', 'Charles', 'James', 'Troy'])"
      ]
     },
     "execution_count": 23,
     "metadata": {},
     "output_type": "execute_result"
    }
   ],
   "source": [
    "gradebook = dict(gradebook)\n",
    "gradebook, 'Alice' in gradebook, 95 in gradebook, max(gradebook), sorted(gradebook)"
   ]
  },
  {
   "cell_type": "markdown",
   "id": "8c7c8cbe",
   "metadata": {},
   "source": [
    "- We can use the `|` operator to create a new dictionary by merging two existing dictionaries and update the value of existing key (it doesn't change the original dictionary!!!):"
   ]
  },
  {
   "cell_type": "code",
   "execution_count": 26,
   "id": "7fcbb0d0",
   "metadata": {},
   "outputs": [
    {
     "data": {
      "text/plain": [
       "({'Alice': 95, 'Troy': 90, 'James': 89, 'Charles': 100},\n",
       " {'Alice': 100, 'Troy': 90, 'James': 89})"
      ]
     },
     "execution_count": 26,
     "metadata": {},
     "output_type": "execute_result"
    }
   ],
   "source": [
    "gradebook = {'Alice': 95, 'Troy': 90, 'James': 89}\n",
    "gradebook | {'Charles': 100}, gradebook | {'Alice': 100}"
   ]
  },
  {
   "cell_type": "markdown",
   "id": "6528fd76",
   "metadata": {},
   "source": [
    "- To update the original dictionary, can use |= similar to +="
   ]
  },
  {
   "cell_type": "code",
   "execution_count": 28,
   "id": "974e9725",
   "metadata": {},
   "outputs": [
    {
     "data": {
      "text/plain": [
       "{'Alice': 100, 'Troy': 90, 'James': 89}"
      ]
     },
     "execution_count": 28,
     "metadata": {},
     "output_type": "execute_result"
    }
   ],
   "source": [
    "gradebook |= {'Alice': 100}\n",
    "gradebook"
   ]
  },
  {
   "cell_type": "markdown",
   "id": "ac2e9064",
   "metadata": {},
   "source": [
    "\n",
    "\n",
    "- [`.get(<key>[, <default>])`](https://docs.python.org/3/library/stdtypes.html#dict.get) returns the value for `key` if `key` is present, else `default` (defaulting to `None`):"
   ]
  },
  {
   "cell_type": "code",
   "execution_count": null,
   "id": "ae92f354",
   "metadata": {},
   "outputs": [],
   "source": [
    "fruits = ['apple', 'pear', 'peach', 'banana', 'apple',\n",
    "          'strawberry', 'lemon', 'apple', 'blueberry', 'banana']\n",
    "fruits_count = {}\n",
    "for name in fruits:\n",
    "  fruits_count[name] = fruits_count.get(name, 0) + 1\n",
    "fruits_count"
   ]
  },
  {
   "cell_type": "markdown",
   "id": "ddcac5bd",
   "metadata": {},
   "source": [
    "- [`values()`](https://docs.python.org/3/library/stdtypes.html#dict.keys) ([`keys()`](https://docs.python.org/3/library/stdtypes.html#dict.keys)) returns a **dictionary view** consisting of only `value`s (`key`s):\n",
    "- [`items()`](https://docs.python.org/3/library/stdtypes.html#dict.items) returns a **dictionary view** consisting of `(key, value)` pairs:"
   ]
  },
  {
   "cell_type": "code",
   "execution_count": 29,
   "id": "64adb45d",
   "metadata": {},
   "outputs": [
    {
     "data": {
      "text/plain": [
       "dict_values([100, 90, 89])"
      ]
     },
     "execution_count": 29,
     "metadata": {},
     "output_type": "execute_result"
    }
   ],
   "source": [
    "gradebook.values()   # a dictionary view object"
   ]
  },
  {
   "cell_type": "code",
   "execution_count": 31,
   "id": "c172717c",
   "metadata": {},
   "outputs": [
    {
     "data": {
      "text/plain": [
       "dict_items([('Alice', 100), ('Troy', 90), ('James', 89)])"
      ]
     },
     "execution_count": 31,
     "metadata": {},
     "output_type": "execute_result"
    }
   ],
   "source": [
    "gradebook.items()     # can be iterated over compared with dictionary"
   ]
  },
  {
   "cell_type": "markdown",
   "id": "eee08cc0",
   "metadata": {},
   "source": [
    "We can use the dictionary-like syntax in comprehensions (i.e., **dictionary comprehensions**) to construct new dictionaries from existing ones:"
   ]
  },
  {
   "cell_type": "code",
   "execution_count": null,
   "id": "270c340e",
   "metadata": {},
   "outputs": [
    {
     "data": {
      "text/plain": [
       "{'Alice': 100, 'Troy': 97, 'James': 94}"
      ]
     },
     "metadata": {},
     "output_type": "display_data"
    }
   ],
   "source": [
    "{name: score + 5 for name, score in gradebook.items()}"
   ]
  },
  {
   "cell_type": "markdown",
   "id": "66077621",
   "metadata": {},
   "source": [
    "\n",
    "A dictionary can also be constructed by casting a collection of key-value pairs to the `dict` type with the `dict()` function:"
   ]
  },
  {
   "cell_type": "code",
   "execution_count": 33,
   "id": "45255e3e",
   "metadata": {},
   "outputs": [
    {
     "data": {
      "text/plain": [
       "{'red': 34, 'green': 30, 'brown': 31}"
      ]
     },
     "execution_count": 33,
     "metadata": {},
     "output_type": "execute_result"
    }
   ],
   "source": [
    "dict([(\"red\", 34), (\"green\", 30), (\"brown\", 31)])  # or dict(((\"red\", 34), (\"green\", 30), (\"brown\", 31)))"
   ]
  },
  {
   "cell_type": "code",
   "execution_count": 32,
   "id": "facd8514",
   "metadata": {},
   "outputs": [
    {
     "data": {
      "text/plain": [
       "['Alice', 'Troy', 'James']"
      ]
     },
     "execution_count": 32,
     "metadata": {},
     "output_type": "execute_result"
    }
   ],
   "source": [
    "list(gradebook)           # the keys will be used by default"
   ]
  },
  {
   "cell_type": "markdown",
   "id": "a5eda560",
   "metadata": {},
   "source": [
    "\n",
    "A set is an ***unordered***, ***mutable*** collection of ***distinct immutable*** elements.\n",
    "\n",
    "***Non-empty*** sets can be created by using the curly brace notation (`{}`):\n"
   ]
  },
  {
   "cell_type": "code",
   "execution_count": null,
   "id": "3eeaba25",
   "metadata": {},
   "outputs": [
    {
     "data": {
      "text/plain": [
       "{1, 2, 3, 4, 5}"
      ]
     },
     "metadata": {},
     "output_type": "display_data"
    }
   ],
   "source": [
    "integers = {5, 2, 3, 1, 4, 2}\n",
    "integers # The duplicate is eliminated"
   ]
  },
  {
   "cell_type": "markdown",
   "id": "2b2e480f",
   "metadata": {},
   "source": [
    "An ***empty*** set can only be defined with the `set()` function."
   ]
  },
  {
   "cell_type": "code",
   "execution_count": 34,
   "id": "59f86190",
   "metadata": {},
   "outputs": [
    {
     "data": {
      "text/plain": [
       "(dict, set)"
      ]
     },
     "execution_count": 34,
     "metadata": {},
     "output_type": "execute_result"
    }
   ],
   "source": [
    "type({}), type(set())"
   ]
  },
  {
   "cell_type": "markdown",
   "id": "9422ab51",
   "metadata": {},
   "source": [
    "Element of set must be immutable (No List!)"
   ]
  },
  {
   "cell_type": "markdown",
   "id": "b66f29b1",
   "metadata": {},
   "source": [
    "However, sets do not support indexing, slicing, or other ***sequence-like*** behavior, because they do not record element position or order of insertion."
   ]
  },
  {
   "cell_type": "markdown",
   "id": "b1f17649",
   "metadata": {},
   "source": [
    "Non-Boolean values can be used in place of `<condition>`. Rules for deciding the truthiness or falsehood of a non-Boolean value:\n",
    "\n",
    "- All ***non-zero*** numbers and all ***non-empty*** strings are true;\n",
    "\n",
    "- `0` and the ***empty*** string (`\"\"`) are false;\n",
    "\n",
    "- Other built-in data types that can be considered to be ***empty*** or ***not empty*** follow the same pattern."
   ]
  },
  {
   "cell_type": "code",
   "execution_count": 37,
   "id": "4f42f93c",
   "metadata": {},
   "outputs": [
    {
     "data": {
      "text/plain": [
       "(False, False, False, False, False, False)"
      ]
     },
     "execution_count": 37,
     "metadata": {},
     "output_type": "execute_result"
    }
   ],
   "source": [
    "bool([]), bool(()), bool({}), bool(''), bool(0), bool(None) # all return False"
   ]
  },
  {
   "cell_type": "markdown",
   "id": "111243d9",
   "metadata": {},
   "source": [
    "\n",
    "### Iterating over Index-value Pairs with **`enumerate()`**\n",
    "\n",
    "The [`enumerate()`](https://docs.python.org/3/library/functions.html#enumerate) function provides a simpler way to generate both indices and items for a loop."
   ]
  },
  {
   "cell_type": "code",
   "execution_count": 42,
   "id": "83057dd2",
   "metadata": {},
   "outputs": [
    {
     "data": {
      "text/plain": [
       "[10, 24, 28, 41, 57]"
      ]
     },
     "execution_count": 42,
     "metadata": {},
     "output_type": "execute_result"
    }
   ],
   "source": [
    "s = \"python is a high-level language for general-purpose programming\"\n",
    "# find the index of all 'a's\n",
    "[index for index, letter in enumerate(s) if letter == 'a']"
   ]
  },
  {
   "cell_type": "code",
   "execution_count": null,
   "id": "2fc9c133",
   "metadata": {},
   "outputs": [
    {
     "name": "stdout",
     "output_type": "stream",
     "text": [
      "Main Menu:\n",
      "1. Big Mac\n",
      "2. McChicken\n",
      "3. French Fries\n",
      "4. Apple Pie\n",
      "5. Coca-Cola\n"
     ]
    }
   ],
   "source": [
    "print(\"Main Menu:\")\n",
    "for position, option in enumerate(menu, start=1):\n",
    "    print(f\"{position}. {option}\")"
   ]
  },
  {
   "cell_type": "markdown",
   "id": "bef306c8",
   "metadata": {},
   "source": [
    "\n",
    "### Parallel Traversals with **`zip()`**\n",
    "\n",
    "\n",
    "The built-in [`zip()`](https://docs.python.org/3/library/functions.html#zip) function allows us to visit multiple sequences ***in parallel***.\n",
    "\n",
    "\n",
    "`zip()` takes one or more sequences as arguments and returns a series of tuples that pair up parallel items taken from those sequences:\n",
    "\n",
    "<img src=\"https://raw.githubusercontent.com/justinjiajia/img/master/python/zip1.svg\" width=500/>\n",
    "\n",
    "\n",
    "\n"
   ]
  },
  {
   "cell_type": "code",
   "execution_count": 36,
   "id": "72bddfee",
   "metadata": {},
   "outputs": [
    {
     "data": {
      "text/plain": [
       "(<zip at 0x1d65095e380>,\n",
       " [('John', 20, 'Yes', False),\n",
       "  ('Danny', 10, 'No', False),\n",
       "  ('Tyrion', 5, 'Yes', True),\n",
       "  ('Sam', 40, 'No', True)],\n",
       " {'John': 'Yes', 'Danny': 'No', 'Tyrion': 'Yes', 'Sam': 'No'})"
      ]
     },
     "execution_count": 36,
     "metadata": {},
     "output_type": "execute_result"
    }
   ],
   "source": [
    "names = ['John', 'Danny', 'Tyrion', 'Sam']\n",
    "balances = [20, 10, 5, 40]\n",
    "students = ['Yes', 'No', 'Yes', 'No']\n",
    "outcomes = [False, False, True, True]\n",
    "\n",
    "zipped = zip(names, balances, students, outcomes)\n",
    "zipped, list(zipped), dict(zip(names, students))"
   ]
  },
  {
   "cell_type": "markdown",
   "id": "6438aca1",
   "metadata": {},
   "source": [
    "`zip()` truncates results at the length of the shortest sequence when the argument lengths differ:"
   ]
  },
  {
   "cell_type": "code",
   "execution_count": null,
   "id": "5a49a123",
   "metadata": {},
   "outputs": [
    {
     "data": {
      "text/plain": [
       "[('a', 'x'), ('b', 'y'), ('c', 'z')]"
      ]
     },
     "metadata": {},
     "output_type": "display_data"
    }
   ],
   "source": [
    "list(zip('abc', 'xyz123'))"
   ]
  },
  {
   "cell_type": "code",
   "execution_count": null,
   "id": "35177083",
   "metadata": {},
   "outputs": [
    {
     "data": {
      "text/plain": [
       "[('Alice', 'Troy'),\n",
       " ('Alice', 'James'),\n",
       " ('Alice', 'Charles'),\n",
       " ('Alice', 'Bryn'),\n",
       " ('Troy', 'James'),\n",
       " ('Troy', 'Charles'),\n",
       " ('Troy', 'Bryn'),\n",
       " ('James', 'Charles'),\n",
       " ('James', 'Bryn'),\n",
       " ('Charles', 'Bryn')]"
      ]
     },
     "metadata": {},
     "output_type": "display_data"
    }
   ],
   "source": [
    "# Nested list comprehension\n",
    "students = ['Alice', 'Troy', 'James', 'Charles', 'Bryn']\n",
    "[(name1, name2) for index, name1 in enumerate(students) for name2 in students[index+1:]]"
   ]
  },
  {
   "cell_type": "code",
   "execution_count": null,
   "id": "dc7b084e",
   "metadata": {},
   "outputs": [],
   "source": [
    "[song for rating, index, song in sorted(zip(ratings, range(len(ratings)), songs), reverse=True)] \n",
    "# It will sort the songs by rating, then order, then song name in descending order"
   ]
  },
  {
   "cell_type": "markdown",
   "id": "71f79891",
   "metadata": {},
   "source": [
    "\n",
    "### 5 Interrupting Loops: `break` and `continue`\n",
    "\n",
    "Python provides two keywords `break` and `continue` that terminate a loop prematurely:\n"
   ]
  },
  {
   "cell_type": "markdown",
   "id": "12906add",
   "metadata": {},
   "source": [
    "\n",
    "- The `break` and `continue` statements are usually further nested in an `if` test to take action in response to some `<condition>`.\n",
    "\n",
    "    - The `continue` statement terminates the ***current*** iteration immediately.\n",
    "    \n",
    "    - The `break` statement immediately terminates a loop ***entirely***."
   ]
  },
  {
   "cell_type": "markdown",
   "id": "a0fc3920",
   "metadata": {},
   "source": [
    "We can use **nested break and nested continue statements** in loops in Python. These statements can work inside nested loops (loops within loops) to control the flow of execution. However, their behavior depends on which loop they are located in."
   ]
  },
  {
   "cell_type": "markdown",
   "id": "56163b48",
   "metadata": {},
   "source": [
    "<pre class=\"lang-python\">\n",
    "<span style=\"color:#2767C5\";>for</span> <span style=\"color:#BB2F29\";>&lt;variable&gt;</span> <span style=\"color:#2767C5\";>in</span> <span style=\"color:#BB2F29\";>&lt;iterable&gt;</span> or <span style=\"color:#2767C5\";>while</span> <span style=\"color:#BB2F29\";>&lt;condition&gt;</span>:\n",
    "\n",
    "    statement(s)   \n",
    "\n",
    "    <span style=\"color:#2767C5\";>for</span> <span style=\"color:#BB2F29\";>&lt;variable&gt;</span> <span style=\"color:#2767C5\";>in</span> <span style=\"color:#BB2F29\";>&lt;iterable&gt;</span> or <span style=\"color:#2767C5\";>while</span> <span style=\"color:#BB2F29\";>&lt;condition&gt;</span>:\n",
    "        statement(s)  \n",
    "        <span style=\"color:#2767C5\";>continue</span> or <span style=\"color:#2767C5\";>break</span>              <span style=\"font-style: italic; color:dark teal;\"># apply to the inner loop</span>\n",
    "\n",
    "    <span style=\"color:#2767C5\";>continue</span> or <span style=\"color:#2767C5\";>break</span>                  <span style=\"font-style: italic; color:dark teal;\"># apply to the outer loop</span></pre>  \n",
    "\n"
   ]
  },
  {
   "cell_type": "markdown",
   "id": "af8e354b",
   "metadata": {},
   "source": [
    "\n",
    "### 7 Exception Handling: The `try` Statement\n",
    "\n",
    "\n",
    "Even if a statement or expression is syntactically correct, it may cause an error/exception:\n"
   ]
  },
  {
   "cell_type": "markdown",
   "id": "639af79e",
   "metadata": {},
   "source": [
    "\n",
    "\n",
    "Here is a code skeleton that shows the full potential of the `try` statement:\n",
    "\n",
    "<pre class=\"lang-python\">\n",
    "<span style=\"color:#2767C5\";>try</span>:\n",
    "   statement(s)         \n",
    "\n",
    "<span style=\"color:#2767C5\";>except</span> <span style=\"color:#BB2F29\";>&lt;Type 1 Error&gt;</span>:\n",
    "   statement(s)\n",
    "   \n",
    "   ...\n",
    "\n",
    "<span style=\"color:#2767C5\";>except</span> <span style=\"color:#BB2F29\";>&lt;Type n Error&gt;</span>:\n",
    "   statement(s)   \n",
    "   \n",
    "<span style=\"color:#2767C5\";>else</span>:\n",
    "   statement(s)      \n",
    "\n",
    "<span style=\"color:#2767C5\";>finally</span>:                      <span style=\"font-style: italic; color:dark teal;\"># All clause headers are all at the same indentation level.</span>\n",
    "   statement(s)\n",
    "\n",
    "following statement(s)\n",
    "</pre>\n",
    "\n",
    "\n",
    "- Explicit exception type specification is not mandatory for an `except` clause.\n",
    "\n",
    "- An arbitrary number of `except` clauses can be specified under the `try` clause to handle different exceptions, e.g., `RuntimeError`, `TypeError`, `NameError`, etc.\n",
    "\n",
    "\n",
    "- If no exception occurs in the `try` clause, all the following `except` clauses are skipped.\n",
    "\n",
    "- If an exception occurs in the `try` clause, the rest of the `try` clause is skipped. Then\n",
    "\n",
    "    - If the exception type is matched by an `except` clause, that clause is executed and then execution continues after the `try` statement.\n",
    "    \n",
    "    - If an exception occurs with no match in the following `except` clauses, execution is stopped and we get the standard error.\n",
    "\n",
    "- In effect, at most one handler will be executed. An `except` clause may name multiple exceptions as a parenthesized tuple, for example: `except (RuntimeError, TypeError, NameError): `\n",
    "\n",
    "- The `try` statement has an optional `else` clause, which must follow all `except` clauses and is executed only when the `try` clause does not raise an exception.\n",
    "\n",
    "- The `try` statement supports another optional `finally` clause, which is intended to define clean-up actions that must be executed under all circumstances, such as closing a file or releasing a lock, regardless of whether an exception was raised or not.\n",
    "\n"
   ]
  },
  {
   "cell_type": "code",
   "execution_count": null,
   "id": "fd6f3eb7",
   "metadata": {},
   "outputs": [
    {
     "name": "stdout",
     "output_type": "stream",
     "text": [
      "division by zero\n",
      "unsupported operand type(s) for /: 'str' and 'int'\n",
      "2.5\n",
      "4.0\n",
      "list index out of range\n"
     ]
    }
   ],
   "source": [
    "lst = [1, 'text', 5, 12]\n",
    "for i in range(5):\n",
    "    try:\n",
    "        print(lst[i] / i)\n",
    "    except (TypeError, ZeroDivisionError) as error1:  # you can give a name to the captured error using the as keyword\n",
    "        print(error1)\n",
    "    except IndexError as error2:\n",
    "        print(error2)"
   ]
  },
  {
   "cell_type": "markdown",
   "id": "288f9315",
   "metadata": {},
   "source": [
    "Below are some common types of `Error`s in python:\n",
    "\n",
    "|Type|\tDescription| Example|\n",
    "|:-- |:-- | :-- |\n",
    "|`AttributeError`| Raised on the attribute assignment or reference fails. |  `a_tuple = 1, 2, 3` <br> `a_tuple.sort()`|\n",
    "|`ImportError`| Raised when the import statement has troubles trying to load a module. | `import panda` |\n",
    "|`IndexError`|Raised when the index of a sequence is out of range.| `numbers = [1, 2, 3, 4]` <br>`numbers[6]`|\n",
    "|`NameError`| Raised when a variable is not found in the local or global scope. | `course = \"ISOM3400\"` <bR> `print(corse)` |\n",
    "|`TypeError`| Raised when a function or operation is applied to an object of an incorrect type. | `3 + '0.4' `|\n",
    "|`ValueError`|Raised when a function gets an argument of correct type but improper value.|`int('I have $3.8 in my pocket')` |\n",
    "|`ZeroDivisionError`|Raised when the second operand of a division or module operation is zero.| `5 / 0`|\n"
   ]
  },
  {
   "cell_type": "markdown",
   "id": "38cf5bd3",
   "metadata": {},
   "source": [
    "### Range"
   ]
  },
  {
   "cell_type": "code",
   "execution_count": 39,
   "id": "9ae0eaf1",
   "metadata": {},
   "outputs": [
    {
     "data": {
      "text/plain": [
       "[1, 3, 5, 7, 9]"
      ]
     },
     "execution_count": 39,
     "metadata": {},
     "output_type": "execute_result"
    }
   ],
   "source": [
    "[i for i in range(1, 10, 2)] # start at 1, stop before 10, step by 2"
   ]
  },
  {
   "cell_type": "markdown",
   "id": "1eb7e77c",
   "metadata": {},
   "source": [
    "\n",
    "#### 1.4.3 Mixing the Two Maching Schemes\n",
    "\n",
    "**Positional matching** and **keyword matching** (matching by name) can be mixed during a function call. But arguments using **positional matching** must precede arguments using **keyword matching**."
   ]
  },
  {
   "cell_type": "code",
   "execution_count": null,
   "id": "fca816af",
   "metadata": {},
   "outputs": [
    {
     "ename": "SyntaxError",
     "evalue": "positional argument follows keyword argument (<ipython-input-18-1a64c887bd0c>, line 1)",
     "output_type": "error",
     "traceback": [
      "\u001b[0;36m  File \u001b[0;32m\"<ipython-input-18-1a64c887bd0c>\"\u001b[0;36m, line \u001b[0;32m1\u001b[0m\n",
      "\u001b[0;31m    quad_1(1, c=2, 3)\u001b[0m\n",
      "\u001b[0m                    ^\u001b[0m\n",
      "\u001b[0;31mSyntaxError\u001b[0m\u001b[0;31m:\u001b[0m positional argument follows keyword argument\n"
     ]
    }
   ],
   "source": [
    "quad_1(1, c=2, 3)"
   ]
  },
  {
   "cell_type": "code",
   "execution_count": null,
   "id": "571fea20",
   "metadata": {},
   "outputs": [
    {
     "ename": "TypeError",
     "evalue": "quad_1() got multiple values for argument 'a'",
     "output_type": "error",
     "traceback": [
      "\u001b[0;31m---------------------------------------------------------------------------\u001b[0m\n",
      "\u001b[0;31mTypeError\u001b[0m                                 Traceback (most recent call last)\n",
      "\u001b[0;32m<ipython-input-19-24bbbf9efd3f>\u001b[0m in \u001b[0;36m<cell line: 0>\u001b[0;34m()\u001b[0m\n",
      "\u001b[0;32m----> 1\u001b[0;31m \u001b[0mquad_1\u001b[0m\u001b[0;34m(\u001b[0m\u001b[0;36m2\u001b[0m\u001b[0;34m,\u001b[0m \u001b[0mb\u001b[0m\u001b[0;34m=\u001b[0m\u001b[0;36m3\u001b[0m\u001b[0;34m,\u001b[0m \u001b[0ma\u001b[0m\u001b[0;34m=\u001b[0m\u001b[0;36m1\u001b[0m\u001b[0;34m)\u001b[0m\u001b[0;34m\u001b[0m\u001b[0;34m\u001b[0m\u001b[0m\n",
      "\u001b[0m\n",
      "\u001b[0;31mTypeError\u001b[0m: quad_1() got multiple values for argument 'a'"
     ]
    }
   ],
   "source": [
    "quad_1(2, b=3, a=1)"
   ]
  },
  {
   "cell_type": "markdown",
   "id": "9dd982f9",
   "metadata": {},
   "source": [
    "### 1.5.1 Default Parameter Values\n",
    "\n",
    "In a function definition, we can specify a default value for a parameter with the form `parameter=expression`:"
   ]
  },
  {
   "cell_type": "markdown",
   "id": "52c7ce1a",
   "metadata": {},
   "source": [
    "Note that parameters with default values ***must follow*** those without default values:"
   ]
  },
  {
   "cell_type": "code",
   "execution_count": null,
   "id": "101bd318",
   "metadata": {},
   "outputs": [
    {
     "ename": "SyntaxError",
     "evalue": "non-default argument follows default argument (<ipython-input-38-b479b308fe47>, line 1)",
     "output_type": "error",
     "traceback": [
      "\u001b[0;36m  File \u001b[0;32m\"<ipython-input-38-b479b308fe47>\"\u001b[0;36m, line \u001b[0;32m1\u001b[0m\n",
      "\u001b[0;31m    def quad_2(a=1.0, b, c):\u001b[0m\n",
      "\u001b[0m                      ^\u001b[0m\n",
      "\u001b[0;31mSyntaxError\u001b[0m\u001b[0;31m:\u001b[0m non-default argument follows default argument\n"
     ]
    }
   ],
   "source": [
    "def quad_2(a=1.0, b, c):\n",
    "    x1 = -b / (2 * a)\n",
    "    x2 = (b ** 2 - 4 * a * c) ** 0.5 / (2 * a)\n",
    "    return (x1 + x2), (x1 - x2)"
   ]
  },
  {
   "cell_type": "markdown",
   "id": "294c12ff",
   "metadata": {},
   "source": [
    "### `*` and `**`"
   ]
  },
  {
   "cell_type": "markdown",
   "id": "96923dee",
   "metadata": {},
   "source": [
    "When the `*` operator is used in a functional call, it unpacks a sequence into individual positional arguments. Note `*` here is used when calling a function rather than when defining a function."
   ]
  },
  {
   "cell_type": "code",
   "execution_count": null,
   "id": "166be169",
   "metadata": {},
   "outputs": [
    {
     "name": "stdout",
     "output_type": "stream",
     "text": [
      "Hello Monica\n",
      "Hello Luke\n",
      "Hello Steve\n",
      "Hello John\n"
     ]
    }
   ],
   "source": [
    "# write your codes here\n",
    "def greet(*names):\n",
    "  for name in names:\n",
    "    print(\"Hello\", name)\n",
    "\n",
    "greet(\"Monica\", \"Luke\", \"Steve\", \"John\")"
   ]
  },
  {
   "cell_type": "markdown",
   "id": "897c11fa",
   "metadata": {},
   "source": [
    "\n",
    "We can put `*` before a parameter to indicate that it can take a ***variable*** sequence of *positional arguments* and pack them ***into a tuple***. (In simple assignment `variable_name = *arg`, `*variable` returns a **list**)"
   ]
  },
  {
   "cell_type": "code",
   "execution_count": null,
   "id": "81b3c619",
   "metadata": {},
   "outputs": [
    {
     "name": "stdout",
     "output_type": "stream",
     "text": [
      "1 2 3 4 5 6\n"
     ]
    }
   ],
   "source": [
    "print(*[1, 2, 3, 4, 5, 6])"
   ]
  },
  {
   "cell_type": "markdown",
   "id": "78ba0ca4",
   "metadata": {},
   "source": [
    "\n",
    "\n",
    "`**` is used to indicate that a parameter can take a ***variable*** sequence of *keyword*/*named arguments*, and pack them ***into a dictionary***:\n"
   ]
  },
  {
   "cell_type": "code",
   "execution_count": 45,
   "id": "a74db570",
   "metadata": {},
   "outputs": [
    {
     "name": "stdout",
     "output_type": "stream",
     "text": [
      "{'name': 'Sam', 'id': '1902034', 'grade': 'A+'}\n",
      "name -> Sam\n",
      "id -> 1902034\n",
      "grade -> A+\n"
     ]
    }
   ],
   "source": [
    "def update_detail(**info):\n",
    "    print(info)\n",
    "    for k, v in info.items():\n",
    "      print(f\"{k} -> {v}\")\n",
    "\n",
    "update_detail(name='Sam', id='1902034', grade=\"A+\")"
   ]
  },
  {
   "cell_type": "markdown",
   "id": "41e24fe1",
   "metadata": {},
   "source": [
    "Similarly, `**` used in a call unpacks a mapping into individual keyword arguments:"
   ]
  },
  {
   "cell_type": "code",
   "execution_count": null,
   "id": "e6686239",
   "metadata": {},
   "outputs": [
    {
     "name": "stdout",
     "output_type": "stream",
     "text": [
      "{'name': 'Sam', 'id': '1902034', 'major': 'Business Analytics', 'year': 3}\n",
      "name -> Sam\n",
      "id -> 1902034\n",
      "major -> Business Analytics\n",
      "year -> 3\n"
     ]
    }
   ],
   "source": [
    "details = {'name': 'Sam', 'id': '1902034', 'major': 'Business Analytics', 'year': 3}\n",
    "update_detail(**details)      # equivalent to update_detail(name='Sam', id='1902034', major='IS', year=3)"
   ]
  },
  {
   "cell_type": "markdown",
   "id": "89e89242",
   "metadata": {},
   "source": [
    "\n",
    "###  Rules of Using `*args` & `**kwargs`\n",
    "\n",
    "- By definition, `*args` cannot have default values and cannot take keyword arguments.\n",
    "\n",
    "- Parameters after `*args` can take keyword arguments only; Parameter before `*args` can take keyword arguments only if there are no additional positional arguments intended for `*args`."
   ]
  },
  {
   "cell_type": "code",
   "execution_count": null,
   "id": "d89c1653",
   "metadata": {},
   "outputs": [],
   "source": [
    "def print_args_1(x1, x2, *args, y1, y2):\n",
    "    print(\"x1 is: \", x1)\n",
    "    print(\"x2 is: \", x2)\n",
    "    print(\"args is: \", args)\n",
    "    print(\"y1 is: \", y1)\n",
    "    print(\"y2 is: \", y2)"
   ]
  },
  {
   "cell_type": "code",
   "execution_count": null,
   "id": "f6a076a8",
   "metadata": {},
   "outputs": [
    {
     "name": "stdout",
     "output_type": "stream",
     "text": [
      "x1 is:  a\n",
      "x2 is:  b\n",
      "args is:  ()\n",
      "y1 is:  1\n",
      "y2 is:  2\n"
     ]
    }
   ],
   "source": [
    "# the position of y1 and y2 can be swapped\n",
    "print_args_1(\"a\", \"b\", y1=1, y2=2)"
   ]
  },
  {
   "cell_type": "code",
   "execution_count": null,
   "id": "030db8cd",
   "metadata": {},
   "outputs": [
    {
     "name": "stdout",
     "output_type": "stream",
     "text": [
      "x1 is:  a\n",
      "x2 is:  b\n",
      "args is:  ('c', 'd')\n",
      "y1 is:  1\n",
      "y2 is:  2\n"
     ]
    }
   ],
   "source": [
    "# the position of y1 and y2 can be swapped\n",
    "print_args_1(\"a\", \"b\", \"c\", \"d\", y1=1, y2=2)"
   ]
  },
  {
   "cell_type": "code",
   "execution_count": null,
   "id": "b9e588e0",
   "metadata": {},
   "outputs": [
    {
     "name": "stdout",
     "output_type": "stream",
     "text": [
      "x1 is:  a\n",
      "x2 is:  b\n",
      "args is:  ()\n",
      "y1 is:  1\n",
      "y2 is:  2\n"
     ]
    }
   ],
   "source": [
    "print_args_1(x2=\"b\", x1=\"a\", y1=1, y2=2)"
   ]
  },
  {
   "cell_type": "code",
   "execution_count": null,
   "id": "b0ff22ec",
   "metadata": {},
   "outputs": [
    {
     "ename": "SyntaxError",
     "evalue": "positional argument follows keyword argument (<ipython-input-65-1bbc4fea801b>, line 2)",
     "output_type": "error",
     "traceback": [
      "\u001b[0;36m  File \u001b[0;32m\"<ipython-input-65-1bbc4fea801b>\"\u001b[0;36m, line \u001b[0;32m2\u001b[0m\n",
      "\u001b[0;31m    print_args_1(x2=\"b\", x1=\"a\", \"c\", \"d\", y1=1, y2=2)\u001b[0m\n",
      "\u001b[0m                                                     ^\u001b[0m\n",
      "\u001b[0;31mSyntaxError\u001b[0m\u001b[0;31m:\u001b[0m positional argument follows keyword argument\n"
     ]
    }
   ],
   "source": [
    "# recall: positional arguments cannot come after keyword arguments\n",
    "print_args_1(x2=\"b\", x1=\"a\", \"c\", \"d\", y1=1, y2=2)"
   ]
  },
  {
   "cell_type": "markdown",
   "id": "7121675a",
   "metadata": {},
   "source": [
    "- By definition, `**kwargs` cannot have default values and cannot take positional arguments. It can only appear at the end of a parameter list."
   ]
  },
  {
   "cell_type": "code",
   "execution_count": null,
   "id": "84ae1f76",
   "metadata": {},
   "outputs": [
    {
     "ename": "SyntaxError",
     "evalue": "arguments cannot follow var-keyword argument (<ipython-input-68-2bebf0c92214>, line 1)",
     "output_type": "error",
     "traceback": [
      "\u001b[0;36m  File \u001b[0;32m\"<ipython-input-68-2bebf0c92214>\"\u001b[0;36m, line \u001b[0;32m1\u001b[0m\n",
      "\u001b[0;31m    def print_args_2(y1, **kwargs, y2):\u001b[0m\n",
      "\u001b[0m                                   ^\u001b[0m\n",
      "\u001b[0;31mSyntaxError\u001b[0m\u001b[0;31m:\u001b[0m arguments cannot follow var-keyword argument\n"
     ]
    }
   ],
   "source": [
    "def print_args_2(y1, **kwargs, y2):\n",
    "    print(\"y1 is: \", y1)\n",
    "    print(\"y2 is: \", y2)\n",
    "    print(\"kwargs is: \", kwargs)"
   ]
  },
  {
   "cell_type": "markdown",
   "id": "f3ced0c1",
   "metadata": {},
   "source": [
    "- `**kwargs` does not impose any restrictions on the type of arguments that come before it."
   ]
  },
  {
   "cell_type": "code",
   "execution_count": null,
   "id": "78bb9224",
   "metadata": {},
   "outputs": [],
   "source": [
    "def print_args_2(y1, y2, **kwargs):\n",
    "    print(\"y1 is: \", y1)\n",
    "    print(\"y2 is: \", y2)\n",
    "    print(\"kwargs is: \", kwargs)"
   ]
  },
  {
   "cell_type": "code",
   "execution_count": null,
   "id": "c1a2a422",
   "metadata": {},
   "outputs": [
    {
     "name": "stdout",
     "output_type": "stream",
     "text": [
      "y1 is:  1\n",
      "y2 is:  2\n",
      "kwargs is:  {'x1': 'a', 'x2': 'b'}\n"
     ]
    }
   ],
   "source": [
    "print_args_2(1, 2, x1=\"a\", x2=\"b\")"
   ]
  },
  {
   "cell_type": "code",
   "execution_count": null,
   "id": "ce0fb0da",
   "metadata": {},
   "outputs": [
    {
     "name": "stdout",
     "output_type": "stream",
     "text": [
      "y1 is:  1\n",
      "y2 is:  2\n",
      "kwargs is:  {'x1': 'a', 'x2': 'b'}\n"
     ]
    }
   ],
   "source": [
    "print_args_2(x1=\"a\", x2=\"b\", y2=2, y1=1)"
   ]
  },
  {
   "cell_type": "code",
   "execution_count": null,
   "id": "f564a36d",
   "metadata": {},
   "outputs": [
    {
     "name": "stdout",
     "output_type": "stream",
     "text": [
      "y1 is:  1\n",
      "y2 is:  2\n",
      "kwargs is:  {}\n"
     ]
    }
   ],
   "source": [
    "print_args_2(y2=2, y1=1)"
   ]
  },
  {
   "cell_type": "code",
   "execution_count": null,
   "id": "966954ad",
   "metadata": {},
   "outputs": [
    {
     "ename": "SyntaxError",
     "evalue": "positional argument follows keyword argument (<ipython-input-73-13b14e8ac4af>, line 2)",
     "output_type": "error",
     "traceback": [
      "\u001b[0;36m  File \u001b[0;32m\"<ipython-input-73-13b14e8ac4af>\"\u001b[0;36m, line \u001b[0;32m2\u001b[0m\n",
      "\u001b[0;31m    print_args_2(y1=1, 2, x1=\"a\", x2=\"b\")\u001b[0m\n",
      "\u001b[0m                                        ^\u001b[0m\n",
      "\u001b[0;31mSyntaxError\u001b[0m\u001b[0;31m:\u001b[0m positional argument follows keyword argument\n"
     ]
    }
   ],
   "source": [
    "# still, positional arguments cannot come after keyword arguments\n",
    "print_args_2(y1=1, 2, x1=\"a\", x2=\"b\")"
   ]
  },
  {
   "cell_type": "markdown",
   "id": "51d1c7e0",
   "metadata": {},
   "source": [
    "\n",
    "###  Parameter Ordering\n",
    "\n",
    "Ordinary parameters, `*args`, and `**kwargs` can be combined in the same parameter list:\n",
    "\n"
   ]
  },
  {
   "cell_type": "code",
   "execution_count": null,
   "id": "f6670516",
   "metadata": {},
   "outputs": [],
   "source": [
    "def print_args_3(x1, x2, *args, y1, y2, **kwargs):\n",
    "    print(\"x1 is: \", x1)\n",
    "    print(\"x2 is: \", x2)\n",
    "    print(\"args is: \", args)\n",
    "    print(\"y1 is: \", y1)\n",
    "    print(\"y2 is: \", y2)\n",
    "    print(\"kwargs is: \", kwargs)"
   ]
  },
  {
   "cell_type": "code",
   "execution_count": null,
   "id": "dc761626",
   "metadata": {},
   "outputs": [
    {
     "name": "stdout",
     "output_type": "stream",
     "text": [
      "x1 is:  a\n",
      "x2 is:  b\n",
      "args is:  ('c', 'd')\n",
      "y1 is:  1\n",
      "y2 is:  2\n",
      "kwargs is:  {'y3': 3, 'y4': 4}\n"
     ]
    }
   ],
   "source": [
    "# the positions of y1 and y2 can be swapped\n",
    "print_args_3('a', 'b', 'c', 'd', y1=1, y2=2, y3=3, y4=4)"
   ]
  },
  {
   "cell_type": "code",
   "execution_count": null,
   "id": "00eadd11",
   "metadata": {},
   "outputs": [
    {
     "name": "stdout",
     "output_type": "stream",
     "text": [
      "x1 is:  a\n",
      "x2 is:  b\n",
      "args is:  ()\n",
      "y1 is:  1\n",
      "y2 is:  2\n",
      "kwargs is:  {'y3': 3, 'y4': 4}\n"
     ]
    }
   ],
   "source": [
    "# all arguments can be keyword ones as long as there're no arguments intended for *args\n",
    "print_args_3(y3=3, y4=4, x1='a', x2='b', y1=1, y2=2)"
   ]
  },
  {
   "cell_type": "markdown",
   "id": "ac9a2e8c",
   "metadata": {},
   "source": [
    "\n",
    "When used in a parameter list, `/` enforces all paramenters before it to take positional arguments only during a call."
   ]
  },
  {
   "cell_type": "code",
   "execution_count": null,
   "id": "0e073e7c",
   "metadata": {},
   "outputs": [],
   "source": [
    "def print_args_4(x1, x2, /, *args, y1, y2, **kwargs):\n",
    "    print(\"x1 is: \", x1)\n",
    "    print(\"x2 is: \", x2)\n",
    "    print(\"args is: \", args)\n",
    "    print(\"y1 is: \", y1)\n",
    "    print(\"y2 is: \", y2)\n",
    "    print(\"kwargs is: \", kwargs)"
   ]
  },
  {
   "cell_type": "code",
   "execution_count": null,
   "id": "4b2f19df",
   "metadata": {},
   "outputs": [
    {
     "name": "stdout",
     "output_type": "stream",
     "text": [
      "x1 is:  a\n",
      "x2 is:  b\n",
      "args is:  ('c', 'd')\n",
      "y1 is:  1\n",
      "y2 is:  2\n",
      "kwargs is:  {'y3': 3, 'y4': 4}\n"
     ]
    }
   ],
   "source": [
    "print_args_4('a', 'b', 'c', 'd', y1=1, y2=2, y3=3, y4=4)"
   ]
  },
  {
   "cell_type": "code",
   "execution_count": null,
   "id": "fa9a2647",
   "metadata": {},
   "outputs": [
    {
     "ename": "TypeError",
     "evalue": "print_args_4() missing 2 required positional arguments: 'x1' and 'x2'",
     "output_type": "error",
     "traceback": [
      "\u001b[0;31m---------------------------------------------------------------------------\u001b[0m\n",
      "\u001b[0;31mTypeError\u001b[0m                                 Traceback (most recent call last)\n",
      "\u001b[0;32m<ipython-input-83-f8b7b769cfbf>\u001b[0m in \u001b[0;36m<cell line: 0>\u001b[0;34m()\u001b[0m\n",
      "\u001b[1;32m      1\u001b[0m \u001b[0;31m# no longer valid\u001b[0m\u001b[0;34m\u001b[0m\u001b[0;34m\u001b[0m\u001b[0m\n",
      "\u001b[0;32m----> 2\u001b[0;31m \u001b[0mprint_args_4\u001b[0m\u001b[0;34m(\u001b[0m\u001b[0mx1\u001b[0m\u001b[0;34m=\u001b[0m\u001b[0;34m'a'\u001b[0m\u001b[0;34m,\u001b[0m \u001b[0mx2\u001b[0m\u001b[0;34m=\u001b[0m\u001b[0;34m'b'\u001b[0m\u001b[0;34m,\u001b[0m \u001b[0my1\u001b[0m\u001b[0;34m=\u001b[0m\u001b[0;36m1\u001b[0m\u001b[0;34m,\u001b[0m \u001b[0my2\u001b[0m\u001b[0;34m=\u001b[0m\u001b[0;36m2\u001b[0m\u001b[0;34m,\u001b[0m \u001b[0my3\u001b[0m\u001b[0;34m=\u001b[0m\u001b[0;36m3\u001b[0m\u001b[0;34m,\u001b[0m \u001b[0my4\u001b[0m\u001b[0;34m=\u001b[0m\u001b[0;36m4\u001b[0m\u001b[0;34m)\u001b[0m\u001b[0;34m\u001b[0m\u001b[0;34m\u001b[0m\u001b[0m\n",
      "\u001b[0m\n",
      "\u001b[0;31mTypeError\u001b[0m: print_args_4() missing 2 required positional arguments: 'x1' and 'x2'"
     ]
    }
   ],
   "source": [
    "# no longer valid\n",
    "print_args_4(x1='a', x2='b', y1=1, y2=2, y3=3, y4=4)"
   ]
  },
  {
   "cell_type": "markdown",
   "id": "072a457e",
   "metadata": {},
   "source": [
    "### Python's parameter ordering rule:\n",
    "\n",
    "We can mix ordinary parameters, `*args` (positional arguments), and `**kwargs` (keyword arguments) in a function's parameter specification, but they must appear in a particular order:\n",
    "\n",
    "- Parameters for positional matching (those without default values come first) > `/` > `*args` (captures additional positional arguments) > parameters for keyword matching > `**kwargs` (captures additional keyword arguments)\n",
    "\n",
    "- Amendment:  The rule that *parameters with default values can only follow those without default values* only applies to parameters for positional matching."
   ]
  },
  {
   "cell_type": "code",
   "execution_count": null,
   "id": "d5279152",
   "metadata": {},
   "outputs": [
    {
     "name": "stdout",
     "output_type": "stream",
     "text": [
      "x1 is:  a\n",
      "x2 is:  b\n",
      "args is:  ('c', 'd')\n",
      "y1 is:  1\n",
      "y2 is:  2\n",
      "kwargs is:  {'y3': 3, 'y4': 4}\n"
     ]
    }
   ],
   "source": [
    "def print_args_5(x1, x2, /, *args, y1=1, y2, **kwargs):     # y1=1 can come before y2\n",
    "    '''Documentation string''' # description of the function\n",
    "    print(\"x1 is: \", x1)\n",
    "    print(\"x2 is: \", x2)\n",
    "    print(\"args is: \", args)\n",
    "    print(\"y1 is: \", y1)\n",
    "    print(\"y2 is: \", y2)\n",
    "    print(\"kwargs is: \", kwargs)\n",
    "\n",
    "print_args_5('a', 'b', 'c', 'd', y3=3, y4=4, y2=2)"
   ]
  },
  {
   "cell_type": "markdown",
   "id": "ef0209df",
   "metadata": {},
   "source": [
    "\n",
    "\n",
    "### 1.7 `lambda` Expressions\n",
    "\n",
    "\n",
    "Besides the `def` statement, Python provides an expression form to generate function objects, known as [`lambda` expressions](https://docs.python.org/3/reference/expressions.html#lambdas).\n",
    "\n",
    "`Lambda`function, also known as anonymous functions, can be considered a degenerate kind of functions, which don't have a name and carry only a ***single*** expression whose result is returned:\n",
    "\n",
    "\n",
    "<pre class='lang-python'>\n",
    "<span style=\"color:#2767C5\";>lambda</span> <span style=\"color:#BB2F29\";>&lt;parameter 1&gt;</span>, <span style=\"color:#BB2F29\";>&lt;parameter 2&gt;</span>, ...: <span style=\"color:#BB2F29\";>&lt;a single expression using parameters&gt;</span>\n",
    "</pre>"
   ]
  },
  {
   "cell_type": "code",
   "execution_count": null,
   "id": "8c576527",
   "metadata": {},
   "outputs": [
    {
     "data": {
      "text/plain": [
       "[['Bryn', 59], ['James', 89], ['Troy', 92], ['Alice', 95], ['Charles', 100]]"
      ]
     },
     "metadata": {},
     "output_type": "display_data"
    }
   ],
   "source": [
    "# sort sublists by their second elements\n",
    "sorted(gradebook, key=lambda x: x[1])"
   ]
  },
  {
   "cell_type": "markdown",
   "id": "0fa73895",
   "metadata": {},
   "source": [
    "**<font color='steelblue' > Question</font>**:\n",
    "\n",
    "1) What if we want to sort the gradebook by score range in descending order (e.g., 10-point ranges such as 91-100, 81-90, and so on)??\n",
    "\n"
   ]
  },
  {
   "cell_type": "code",
   "execution_count": null,
   "id": "af1b65be",
   "metadata": {},
   "outputs": [
    {
     "data": {
      "text/plain": [
       "[['Troy', 92],\n",
       " ['Alice', 95],\n",
       " ['Charles', 99],\n",
       " ['James', 89],\n",
       " ['Mike', 86],\n",
       " ['Bryn', 59]]"
      ]
     },
     "metadata": {},
     "output_type": "display_data"
    }
   ],
   "source": [
    "gradebook = [['Troy', 92], ['Alice', 95], ['James', 89], ['Charles', 99], ['Mike', 86], ['Bryn', 59]]\n",
    "\n",
    "# write your codes here\n",
    "sorted(gradebook, key=lambda x: x[1]//10, reverse = True)"
   ]
  },
  {
   "cell_type": "markdown",
   "id": "9cb32284",
   "metadata": {},
   "source": [
    "2) What if we want to further sort students by name in ascending order within each range?\n"
   ]
  },
  {
   "cell_type": "code",
   "execution_count": null,
   "id": "1dd2522f",
   "metadata": {},
   "outputs": [
    {
     "data": {
      "text/plain": [
       "[['Alice', 95],\n",
       " ['Charles', 99],\n",
       " ['Troy', 92],\n",
       " ['James', 89],\n",
       " ['Mike', 86],\n",
       " ['Bryn', 59]]"
      ]
     },
     "metadata": {},
     "output_type": "display_data"
    }
   ],
   "source": [
    "# write your codes here\n",
    "sorted(gradebook, key=lambda x: (-x[1]//10, x[0]))"
   ]
  },
  {
   "cell_type": "markdown",
   "id": "e6e083f5",
   "metadata": {},
   "source": [
    "\n",
    "### 2.1 Defining a Class\n",
    "\n",
    "Imagine we want to define a new type of object to represent individual customers for a bank's personal loan business.\n",
    "\n",
    "**Common properties**:\n",
    "\n",
    "\n",
    "| Name |  Income | Years | Criminal |  \n",
    "|-----|-----|-----|-----|\n",
    "| Amy | 27 |4.2 |  No |  \n",
    "| Sam | 32 |1.5 |  No |  \n",
    "| Jane | 55 | 3.5  | Yes |\n",
    "|...|\n",
    "\n",
    "\n",
    "**Common operations**: A routine determines whether to grant a loan to a customer.\n",
    "\n",
    "<br>\n",
    "\n",
    "[The `class` statement](https://docs.python.org/3.7/reference/compound_stmts.html#class-definitions) creates a class object and assigns it a name.\n",
    "\n",
    "The body of a class is where we specify the attributes of the class, including both data and method attributes.\n"
   ]
  },
  {
   "cell_type": "code",
   "execution_count": 47,
   "id": "6d12dde9",
   "metadata": {},
   "outputs": [],
   "source": [
    "class Customer:  # names for user-defined classes begin with uppercase letters by convention\n",
    "    '''A class for bank customers.'''\n",
    "\n",
    "    def __init__(self, name, income, years, criminal='No'):\n",
    "        '''populate the attributes of a particular customer'''\n",
    "        self.name = name                   # assignments to attributes of self\n",
    "        self.income = income\n",
    "        self.years = years\n",
    "        self.criminal = criminal\n",
    "\n",
    "    def apply_loan(self):                  # a function attribute, a.k.a. a method of the class\n",
    "        if self.income >= 70:\n",
    "            result = 'Approve'\n",
    "        elif self.income >= 30:\n",
    "            if self.years >= 2:\n",
    "                result = 'Approve'\n",
    "            else:result = 'Reject'\n",
    "        else:\n",
    "            if self.criminal == \"No\":\n",
    "                result = 'Approve'\n",
    "            else: result = 'Reject'\n",
    "        return result"
   ]
  },
  {
   "cell_type": "code",
   "execution_count": null,
   "id": "713c772b",
   "metadata": {},
   "outputs": [
    {
     "data": {
      "text/plain": [
       "__main__.Customer"
      ]
     },
     "metadata": {},
     "output_type": "display_data"
    }
   ],
   "source": [
    "Customer"
   ]
  },
  {
   "cell_type": "code",
   "execution_count": null,
   "id": "8d6a6b6f",
   "metadata": {},
   "outputs": [
    {
     "data": {
      "text/plain": [
       "<function __main__.Customer.__init__(self, name, income, years, criminal='No')>"
      ]
     },
     "metadata": {},
     "output_type": "display_data"
    }
   ],
   "source": [
    "Customer.__init__"
   ]
  },
  {
   "cell_type": "code",
   "execution_count": null,
   "id": "49e7c8f2",
   "metadata": {},
   "outputs": [
    {
     "data": {
      "text/html": [
       "<div style=\"max-width:800px; border: 1px solid var(--colab-border-color);\"><style>\n",
       "      pre.function-repr-contents {\n",
       "        overflow-x: auto;\n",
       "        padding: 8px 12px;\n",
       "        max-height: 500px;\n",
       "      }\n",
       "\n",
       "      pre.function-repr-contents.function-repr-contents-collapsed {\n",
       "        cursor: pointer;\n",
       "        max-height: 100px;\n",
       "      }\n",
       "    </style>\n",
       "    <pre style=\"white-space: initial; background:\n",
       "         var(--colab-secondary-surface-color); padding: 8px 12px;\n",
       "         border-bottom: 1px solid var(--colab-border-color);\"><b>Customer.apply_loan</b><br/>def apply_loan()</pre><pre class=\"function-repr-contents function-repr-contents-collapsed\" style=\"\"><a class=\"filepath\" style=\"display:none\" href=\"#\">/content/&lt;ipython-input-118-b1a270c78e13&gt;</a>&lt;no docstring&gt;</pre></div>"
      ],
      "text/plain": [
       "<function __main__.Customer.apply_loan(self)>"
      ]
     },
     "metadata": {},
     "output_type": "display_data"
    }
   ],
   "source": [
    "Customer.apply_loan   # class methods are just functions defined inside the class"
   ]
  },
  {
   "cell_type": "code",
   "execution_count": null,
   "id": "dbabfecd",
   "metadata": {},
   "outputs": [
    {
     "data": {
      "application/vnd.google.colaboratory.intrinsic+json": {
       "type": "string"
      },
      "text/plain": [
       "'A class for bank customers.'"
      ]
     },
     "metadata": {},
     "output_type": "display_data"
    }
   ],
   "source": [
    "Customer.__doc__   # a special attribute of a class that contains the object's docstring"
   ]
  },
  {
   "cell_type": "code",
   "execution_count": null,
   "id": "5073aa44",
   "metadata": {},
   "outputs": [
    {
     "data": {
      "text/plain": [
       "mappingproxy({'__module__': '__main__',\n",
       "              '__doc__': 'A class for bank customers.',\n",
       "              '__init__': <function __main__.Customer.__init__(self, name, income, years, criminal='No')>,\n",
       "              'apply_loan': <function __main__.Customer.apply_loan(self)>,\n",
       "              '__dict__': <attribute '__dict__' of 'Customer' objects>,\n",
       "              '__weakref__': <attribute '__weakref__' of 'Customer' objects>})"
      ]
     },
     "metadata": {},
     "output_type": "display_data"
    }
   ],
   "source": [
    "Customer.__dict__ # Names in a class's namespace can be exposed by the built-in `__dict__` attribute"
   ]
  },
  {
   "cell_type": "code",
   "execution_count": 48,
   "id": "07ab8336",
   "metadata": {},
   "outputs": [
    {
     "data": {
      "text/plain": [
       "<__main__.Customer at 0x1d64fb67ce0>"
      ]
     },
     "execution_count": 48,
     "metadata": {},
     "output_type": "execute_result"
    }
   ],
   "source": [
    "customer_1 = Customer(\"Amy\", 27, 4.2)\n",
    "customer_1"
   ]
  },
  {
   "cell_type": "code",
   "execution_count": null,
   "id": "cca9a10f",
   "metadata": {},
   "outputs": [
    {
     "data": {
      "text/plain": [
       "('Amy', 27, 4.2, 'No')"
      ]
     },
     "metadata": {},
     "output_type": "display_data"
    }
   ],
   "source": [
    "# instance-level attributes\n",
    "customer_1.name, customer_1.income, customer_1.years, customer_1.criminal"
   ]
  },
  {
   "cell_type": "code",
   "execution_count": null,
   "id": "b78d3b6e",
   "metadata": {},
   "outputs": [
    {
     "data": {
      "text/plain": [
       "'A class for bank customers.'"
      ]
     },
     "metadata": {},
     "output_type": "display_data"
    }
   ],
   "source": [
    "# class-level data attributes\n",
    "customer_1.__doc__"
   ]
  },
  {
   "cell_type": "code",
   "execution_count": null,
   "id": "449c1bd2",
   "metadata": {},
   "outputs": [
    {
     "data": {
      "text/plain": [
       "'Approve'"
      ]
     },
     "metadata": {},
     "output_type": "display_data"
    }
   ],
   "source": [
    "# class-level method attributes\n",
    "# the instance is implicitly passed as the argument to self\n",
    "customer_1.apply_loan()"
   ]
  },
  {
   "cell_type": "markdown",
   "id": "e470cbf7",
   "metadata": {},
   "source": [
    "Both class-level attributes and instance-level attributes can be added on the fly via assignments with qualified names:"
   ]
  },
  {
   "cell_type": "code",
   "execution_count": null,
   "id": "1684f206",
   "metadata": {},
   "outputs": [
    {
     "data": {
      "text/plain": [
       "{'name': 'Amy', 'income': 27, 'years': 4.2, 'criminal': 'No'}"
      ]
     },
     "metadata": {},
     "output_type": "display_data"
    }
   ],
   "source": [
    "customer_1.__dict__"
   ]
  },
  {
   "cell_type": "code",
   "execution_count": 49,
   "id": "14ddcff6",
   "metadata": {},
   "outputs": [
    {
     "data": {
      "text/plain": [
       "'John'"
      ]
     },
     "execution_count": 49,
     "metadata": {},
     "output_type": "execute_result"
    }
   ],
   "source": [
    "customer_1.name = \"John\"  # change the name of the customer\n",
    "customer_1.name"
   ]
  },
  {
   "cell_type": "markdown",
   "id": "86785c6d",
   "metadata": {},
   "source": [
    "\n",
    "### 2.4 `__X__()` Methods\n",
    "\n",
    "\n",
    "Running `dir(customer_1)` shows that some `__X__()` (pronouced as \"dunder X\") methods  are available to `customer_1` (inherited from somewhere)."
   ]
  },
  {
   "cell_type": "markdown",
   "id": "f76e2af7",
   "metadata": {},
   "source": [
    "\n",
    "In Python, [dunder methods](https://docs.python.org/3/reference/datamodel.html#special-method-names) are methods that allow instances of a class to interact with the built-in functions and operators of the language. The word “dunder” comes from “double underscore”, because the names of dunder methods start and end with two underscores.\n",
    "\n",
    "Dunder methods exist for nearly every operation available to built-in types. The mapping from each of these operations to a dunder method is ***fixed*** and ***unchangeable***. The table below lists a few of the most straightforward ones:\n",
    "\n",
    "\n",
    "\n",
    "\n",
    "\n"
   ]
  },
  {
   "cell_type": "markdown",
   "id": "71a9204e",
   "metadata": {},
   "source": [
    "|Operation | Expression (or Statement) | And Python Calls\n",
    "|:-- |:-- |:-- |\n",
    "|Addition |`a + b`| `a.__add__(b)` |\n",
    "|Subtraction| `a - b`|`a.__sub__(b)`|\n",
    "|Multiplication |`a * b`|`a.__mul__(b)`|\n",
    "| Division |`a / b`|`a.__truediv__(b)`|\n",
    "| Equality |`a == b`|`a.__eq__(b)`|\n",
    "| Inequality |`a != b`|`a.__ne__(b)`|\n",
    "| Less than |`a < b`|`a.__lt__(b)`|\n",
    "| Greater than |`a > b`|`a.__gt__(b)`|\n",
    "| Less than or equal to|\t`a <= b`|`a.__le__(b)`|\n",
    "| Greater than or equal to|\t`a <= b`|`a.__ge__(b)`|\n",
    "| Length |\t`len(s)`|`s.__len__()`|\n",
    "| Membership tests  |\t`x in s` | `s.__contains__(x)`|\n",
    "| Attribute listing  |\t`dir(x)` | `x.__dir__()`|\n",
    "\n",
    "\n",
    "\n"
   ]
  },
  {
   "cell_type": "markdown",
   "id": "1edcaae6",
   "metadata": {},
   "source": [
    "The `hasattr()` method returns true if an object has the given named attribute and false if it does not."
   ]
  },
  {
   "cell_type": "code",
   "execution_count": null,
   "id": "19e91e6f",
   "metadata": {},
   "outputs": [
    {
     "data": {
      "text/plain": [
       "True"
      ]
     },
     "metadata": {},
     "output_type": "display_data"
    }
   ],
   "source": [
    "hasattr(\"string\", \"__len__\") # 'string' has a method called __len__"
   ]
  },
  {
   "cell_type": "code",
   "execution_count": null,
   "id": "c8d4a2dd",
   "metadata": {},
   "outputs": [
    {
     "data": {
      "text/plain": [
       "False"
      ]
     },
     "metadata": {},
     "output_type": "display_data"
    }
   ],
   "source": [
    "hasattr(1, \"__len__\") # 1 (integer) does not have a method called __len__"
   ]
  },
  {
   "cell_type": "markdown",
   "id": "0a653cef",
   "metadata": {},
   "source": [
    "\n",
    "### `__repr__()`\n",
    "\n",
    "\n",
    "Typing the name directly into the interpreter prints out its string representation:"
   ]
  },
  {
   "cell_type": "code",
   "execution_count": null,
   "id": "68976485",
   "metadata": {},
   "outputs": [
    {
     "data": {
      "text/plain": [
       "<__main__.Customer at 0x7e968750d910>"
      ]
     },
     "metadata": {},
     "output_type": "display_data"
    }
   ],
   "source": [
    "customer_1"
   ]
  },
  {
   "cell_type": "markdown",
   "id": "3dc05867",
   "metadata": {},
   "source": [
    "Behind the scene,  [`__repr__()`](https://docs.python.org/3/reference/datamodel.html#object.__repr__) is invoked to return a string representing the object.\n",
    "It's what we get when the Python intepreter shows an object:\n"
   ]
  },
  {
   "cell_type": "code",
   "execution_count": null,
   "id": "60e74507",
   "metadata": {},
   "outputs": [
    {
     "data": {
      "application/vnd.google.colaboratory.intrinsic+json": {
       "type": "string"
      },
      "text/plain": [
       "'<__main__.Customer object at 0x7e968750d910>'"
      ]
     },
     "metadata": {},
     "output_type": "display_data"
    }
   ],
   "source": [
    "customer_1.__repr__()"
   ]
  },
  {
   "cell_type": "markdown",
   "id": "e97d472f",
   "metadata": {},
   "source": [
    "We can override the default `__repr__()` to produce a more readable string representation:"
   ]
  },
  {
   "cell_type": "code",
   "execution_count": null,
   "id": "e4fc81a2",
   "metadata": {},
   "outputs": [],
   "source": [
    "class Customer:\n",
    "    '''A class for bank customers.'''\n",
    "\n",
    "    def __init__(self, name, income, years, criminal='No'):\n",
    "        '''populate the attributes of a particular customer'''\n",
    "        self.name = name\n",
    "        self.income = income\n",
    "        self.years = years\n",
    "        self.criminal = criminal\n",
    "\n",
    "    __repr__ = lambda self: f\"Customer: {self.__dict__}\""
   ]
  },
  {
   "cell_type": "code",
   "execution_count": null,
   "id": "2420bcaa",
   "metadata": {},
   "outputs": [
    {
     "data": {
      "text/plain": [
       "Customer: {'name': 'Amy', 'income': 27, 'years': 4.2, 'criminal': 'No'}"
      ]
     },
     "metadata": {},
     "output_type": "display_data"
    }
   ],
   "source": [
    "customer_1 = Customer(\"Amy\", 27, 4.2)\n",
    "customer_1"
   ]
  },
  {
   "cell_type": "markdown",
   "id": "18654943",
   "metadata": {},
   "source": [
    "\n",
    "\n",
    "### `__str__()`\n",
    "\n",
    "The `__str__` method is called when you use the str() function on an object or when you use the print() function to print an object."
   ]
  },
  {
   "cell_type": "code",
   "execution_count": null,
   "id": "5dc0e79d",
   "metadata": {},
   "outputs": [
    {
     "name": "stdout",
     "output_type": "stream",
     "text": [
      "Customer: {'name': 'Amy', 'income': 27, 'years': 4.2, 'criminal': 'No'}\n"
     ]
    }
   ],
   "source": [
    "print(customer_1)"
   ]
  },
  {
   "cell_type": "code",
   "execution_count": null,
   "id": "33fddee6",
   "metadata": {},
   "outputs": [],
   "source": [
    "class Customer:\n",
    "    '''A class for bank customers.'''\n",
    "\n",
    "    def __init__(self, name, income, years, criminal='No'):\n",
    "        '''populate the attributes of a particular instance'''\n",
    "        self.name = name\n",
    "        self.income = income\n",
    "        self.years = years\n",
    "        self.criminal = criminal\n",
    "\n",
    "    def __repr__(self):\n",
    "        '''defines a string representation of a given instance'''\n",
    "        return f\"Customer: {self.__dict__}\"\n",
    "\n",
    "    def __str__(self):\n",
    "        '''defines a printable representation of a given instance'''\n",
    "        prefix = \"Customer:\\n\"\n",
    "        return prefix + '\\n'.join([f'{k.title()} -> {v}' for k, v in self.__dict__.items()])   # The title() method returns a string where the first character in every word is upper case.\n",
    "        # The return value must be a string object\n"
   ]
  },
  {
   "cell_type": "code",
   "execution_count": null,
   "id": "87d91f7c",
   "metadata": {},
   "outputs": [
    {
     "name": "stdout",
     "output_type": "stream",
     "text": [
      "Customer:\n",
      "Name -> Amy\n",
      "Income -> 27\n",
      "Years -> 4.2\n",
      "Criminal -> No\n"
     ]
    }
   ],
   "source": [
    "customer_1 = Customer(\"Amy\", 27, 4.2)\n",
    "print(customer_1)"
   ]
  },
  {
   "cell_type": "markdown",
   "id": "b2d8440d",
   "metadata": {},
   "source": [
    "\n",
    "###  `__iter__()`\n",
    "\n",
    "\n",
    "- `__iter__()` methods for most commonly used operations are not provided by default. The corresponding operations are then not supported for the class's instances.\n",
    "- `__iter__()` makes a class's instances iterable. We implement it by using a generator expression to yield the components one after the other:"
   ]
  },
  {
   "cell_type": "code",
   "execution_count": null,
   "id": "a82a3fa0",
   "metadata": {},
   "outputs": [],
   "source": [
    "class Customer:\n",
    "    '''A class for bank customers.'''\n",
    "\n",
    "    def __init__(self, name, income, years, criminal='No'):\n",
    "        '''populate the attributes of a particular instance'''\n",
    "        self.name = name\n",
    "        self.income = income\n",
    "        self.years = years\n",
    "        self.criminal = criminal\n",
    "\n",
    "    def __repr__(self):\n",
    "        '''define a string representation of a given instance'''\n",
    "        return f\"Customer: {self.__dict__}\"\n",
    "\n",
    "    def __str__(self):\n",
    "        '''define a printable string representation of a given instance'''\n",
    "        prefix = \"Customer:\\n\"\n",
    "        return prefix + '\\n'.join([f'{k.title()} -> {v}' for k, v in self.__dict__.items()])    # The return value must be a string object\n",
    "\n",
    "    def __iter__(self):\n",
    "        '''make an instance iterable'''\n",
    "        return ((k, v) for k, v in self.__dict__.items())\n"
   ]
  },
  {
   "cell_type": "code",
   "execution_count": null,
   "id": "b6b8ec65",
   "metadata": {},
   "outputs": [
    {
     "name": "stdout",
     "output_type": "stream",
     "text": [
      "name -> Amy\n",
      "income -> 27\n",
      "years -> 4.2\n",
      "criminal -> No\n"
     ]
    }
   ],
   "source": [
    "customer_1 = Customer(\"Amy\", 27, 4.2)\n",
    "for k, v in customer_1:\n",
    "    print(f\"{k} -> {v}\")"
   ]
  },
  {
   "cell_type": "markdown",
   "id": "4518eac1",
   "metadata": {},
   "source": [
    "\n",
    "### 2.5 Defining a Derived Class (Optional)\n",
    "\n",
    "\n",
    "\n",
    "Python allows us to form a **derived class** (**subclass**) from one or more than one **base class** (**superclass**) to specialize behaviors while reusing existing code.\n",
    "\n",
    "To create a subclass, we just list the base class in parentheses in the `class` statement's header (seperated by `,` if there is more than one base class) :"
   ]
  },
  {
   "cell_type": "code",
   "execution_count": null,
   "id": "1f9e790f",
   "metadata": {},
   "outputs": [],
   "source": [
    "class Person:\n",
    "\n",
    "    def __init__(self, name, date_of_birth, gender):\n",
    "        self.name = name\n",
    "        self.date_of_birth = date_of_birth\n",
    "        self.gender = gender\n",
    "\n",
    "    def __repr__(self):\n",
    "        '''define a string representation of a given instance'''\n",
    "        return f\"{self.__dict__}\"\n",
    "\n",
    "\n",
    "class Customer(Person):\n",
    "\n",
    "    def __init__(self, name, date_of_birth, gender, income, years, criminal=\"No\"):\n",
    "        # a method call notation; self should not be present\n",
    "        super().__init__(name, date_of_birth, gender)\n",
    "        self.income = income\n",
    "        self.years = years\n",
    "        self.criminal = criminal\n",
    "\n",
    "    def apply_loan(self):\n",
    "        if self.income >= 70:\n",
    "            result = 'Approve'\n",
    "        elif self.income >= 30:\n",
    "            if self.years >= 2:\n",
    "                result = 'Approve'\n",
    "            else:result = 'Reject'\n",
    "        else:\n",
    "            if self.criminal == \"No\":\n",
    "                result = 'Approve'\n",
    "            else: result = 'Reject'\n",
    "        return result"
   ]
  },
  {
   "cell_type": "code",
   "execution_count": null,
   "id": "1b901100",
   "metadata": {},
   "outputs": [
    {
     "data": {
      "text/plain": [
       "{'name': 'Amy', 'date_of_birth': 'Oct. 10, 1999', 'gender': 'F'}"
      ]
     },
     "metadata": {},
     "output_type": "display_data"
    }
   ],
   "source": [
    "a_person = Person(\"Amy\", \"Oct. 10, 1999\", \"F\")\n",
    "a_person"
   ]
  },
  {
   "cell_type": "code",
   "execution_count": null,
   "id": "f8da8c3b",
   "metadata": {},
   "outputs": [
    {
     "data": {
      "text/plain": [
       "{'name': 'Amy', 'date_of_birth': 'Oct. 10, 1999', 'gender': 'F', 'income': 27, 'years': 4.2, 'criminal': 'No'}"
      ]
     },
     "metadata": {},
     "output_type": "display_data"
    }
   ],
   "source": [
    "customer_3 = Customer(\"Amy\", \"Oct. 10, 1999\", \"F\", 27, 4.2)\n",
    "customer_3"
   ]
  },
  {
   "cell_type": "markdown",
   "id": "b7a60a5d",
   "metadata": {},
   "source": [
    "Each instance inherits names from the class it's generated from, as well as all of that class's superclasses:"
   ]
  },
  {
   "cell_type": "markdown",
   "id": "6b21b129",
   "metadata": {},
   "source": [
    "To resolve attribute references, Python goes through the following steps:\n",
    "\n",
    "1. The search first checks the instance's namespace and then its class's namespace.\n",
    "2. If a requested attribute is not found in the class's namespace, the search proceeds to look in the most recent superclass.\n",
    "3. This rule is applied ***recursively*** upward through a **hirerarchy of classes** until all superclasses are searched.\n",
    "\n",
    "Searches stop at the first appearance of the attribute name that it finds."
   ]
  },
  {
   "cell_type": "markdown",
   "id": "e8f2509f",
   "metadata": {},
   "source": [
    "\n",
    "### Modules\n",
    "\n",
    "Most of the functionality in Python is provided by **modules**, which are typically Python program files that contain definitions and statements we want to import to use.\n",
    "\n"
   ]
  },
  {
   "cell_type": "markdown",
   "id": "31f551ad",
   "metadata": {},
   "source": [
    "\n",
    "\n",
    "### The `import` Statement\n",
    "\n",
    "Useful modules that form the [standard library](https://docs.python.org/3/library/) include `os`, `sys`, `math`, `random`, `shutil`, and so on."
   ]
  },
  {
   "cell_type": "code",
   "execution_count": null,
   "id": "94dd4250",
   "metadata": {},
   "outputs": [
    {
     "name": "stdout",
     "output_type": "stream",
     "text": [
      "Help on method randint in module random:\n",
      "\n",
      "randint(a, b) method of random.Random instance\n",
      "    Return random integer in range [a, b], including both end points.\n",
      "\n"
     ]
    }
   ],
   "source": [
    "help(random.randint)"
   ]
  },
  {
   "cell_type": "markdown",
   "id": "33eac82a",
   "metadata": {},
   "source": [
    "Alternatively, we can import all names in a module to the current namespace using the `from` form of the `import` statement:"
   ]
  },
  {
   "cell_type": "code",
   "execution_count": null,
   "id": "73391a95",
   "metadata": {},
   "outputs": [],
   "source": [
    "from random import *"
   ]
  },
  {
   "cell_type": "markdown",
   "id": "9134cbe7",
   "metadata": {},
   "source": [
    "\n",
    "Then we don't need to use the prefix every time we use something from it:\n"
   ]
  },
  {
   "cell_type": "code",
   "execution_count": null,
   "id": "becc47e0",
   "metadata": {},
   "outputs": [
    {
     "data": {
      "text/plain": [
       "9"
      ]
     },
     "metadata": {},
     "output_type": "display_data"
    }
   ],
   "source": [
    "randint(0, 10)"
   ]
  },
  {
   "cell_type": "markdown",
   "id": "6b38f174",
   "metadata": {},
   "source": [
    "However, this should be used with caution, as it would potentially create <b>*name collisions*</b>:"
   ]
  },
  {
   "cell_type": "code",
   "execution_count": null,
   "id": "1708c0aa",
   "metadata": {},
   "outputs": [
    {
     "ename": "TypeError",
     "evalue": "'int' object is not callable",
     "output_type": "error",
     "traceback": [
      "\u001b[0;31m---------------------------------------------------------------------------\u001b[0m\n",
      "\u001b[0;31mTypeError\u001b[0m                                 Traceback (most recent call last)\n",
      "\u001b[0;32m<ipython-input-204-84ebe905224a>\u001b[0m in \u001b[0;36m<cell line: 0>\u001b[0;34m()\u001b[0m\n",
      "\u001b[1;32m      1\u001b[0m \u001b[0mrandint\u001b[0m \u001b[0;34m=\u001b[0m \u001b[0;36m2\u001b[0m\u001b[0;34m\u001b[0m\u001b[0;34m\u001b[0m\u001b[0m\n",
      "\u001b[0;32m----> 2\u001b[0;31m \u001b[0mrandint\u001b[0m\u001b[0;34m(\u001b[0m\u001b[0;36m0\u001b[0m\u001b[0;34m,\u001b[0m \u001b[0;36m10\u001b[0m\u001b[0;34m)\u001b[0m\u001b[0;34m\u001b[0m\u001b[0;34m\u001b[0m\u001b[0m\n",
      "\u001b[0m\n",
      "\u001b[0;31mTypeError\u001b[0m: 'int' object is not callable"
     ]
    }
   ],
   "source": [
    "randint = 2\n",
    "randint(0, 10)"
   ]
  },
  {
   "cell_type": "markdown",
   "id": "e50488e2",
   "metadata": {},
   "source": [
    "\n",
    "### HTML Basics\n",
    "\n",
    "\n",
    "\n",
    "[**HyperText Markup Language**](https://developer.mozilla.org/en-US/docs/Web/HTML) (HTML for short) is a markup language for describing Web documents.\n",
    "\n",
    "\n",
    "It is plain text, but includes a rich collection of \"tags\" that define the structure of the document and allow documents to include a variety of page elements.\n",
    "\n",
    "- Tags are always enclosed in angle brackets: ` <tagname>`.\n",
    "\n",
    "<img src=\"https://www.dropbox.com/s/1xc7ep9hu035ky7/elment.png?raw=1\" width=400/>\n",
    "\n",
    "- Tags usually travel in pairs and contain something in between. An opening (or start) tag begins a section of page content, and a closing (or end) tag ends it, e.g.,  `<tagname>content</tagname>`.\n",
    "\n",
    "    - [`<h1>`, `<h2>`, ..., `<h6>`](https://www.w3schools.com/tags/tag_hn.asp): largest headings, second largest headings, etc.;\n",
    "\n",
    "    - [`<p>`](https://www.w3schools.com/tags/tag_p.asp): paragraphs;\n",
    "\n",
    "    - [`<ul>`](https://www.w3schools.com/tags/tag_ul.asp) or [`<ol>`](https://www.w3schools.com/tags/tag_ol.asp): unordered or ordered bulleted lists;\n",
    "\n",
    "    - [`<li>`](https://www.w3schools.com/tags/tag_li.asp): individual list items;\n",
    "\n",
    "    - [`<div>`](https://www.w3schools.com/tags/tag_div.asp): divisions or sections;\n",
    "\n",
    "    - [`<a>`](https://www.w3schools.com/tags/tag_a.asp): anchors;\n",
    "\n",
    "    - and [many others ...](https://www.w3schools.com/tags/default.asp)\n",
    "\n",
    "    \n"
   ]
  },
  {
   "cell_type": "markdown",
   "id": "36fdd076",
   "metadata": {},
   "source": [
    "---\n",
    "- There are also a few *self-closing* tags, e.g.:\n",
    "\n",
    "    - [`<br>`](https://www.w3schools.com/tags/tag_br.asp)\n",
    "\n",
    "    - ```html\n",
    "      <img src=\"https://idp.ust.hk/idp/images/logo.png\" alt=\"UST Logo\">\n",
    "      ```\n",
    "      See [`<img>`](https://www.w3schools.com/tags/tag_img.asp)\n",
    "\n",
    "\n",
    "- Tags can have attributes, which are always specified in the start tag and come in `name=\"value\"` pairs. E.g.:\n",
    "\n",
    "    - ```html\n",
    "      <a href=\"https://docs.python.org/\" target=\"_blank\">Python documentation</a>\n",
    "      ```\n",
    "      See [`<a>`](https://www.w3schools.com/tags/tag_a.asp)\n",
    "      \n",
    "      <img src=\"https://developer.mozilla.org/en-US/docs/Learn_web_development/Core/Structuring_content/Basic_HTML_syntax/grumpy-cat-attribute-small.png\" width=600/>\n"
   ]
  },
  {
   "cell_type": "markdown",
   "id": "f38ec7db",
   "metadata": {},
   "source": [
    "- There are a few attributes that are common to all tags, among which the two most used ones are `id` and `class`:\n",
    "\n",
    "    - [`id`](https://www.w3schools.com/html/html_id.asp) allows us to specify a unique identifier for an element which must be unique in the whole document. E.g.:\n",
    "    \n",
    "        - ```html\n",
    "          <p id=\"unique-one\">This is a paragraph with id \"unique-one\".</p>\n",
    "          ```    \n",
    "\n",
    "    - [`class`](https://www.w3schools.com/html/html_classes.asp) allows us to assign multiple elements (possibly of different types) to the same group identified by a class name. E.g.:\n",
    "\n",
    "        - ```html\n",
    "          <p class=\"class-one\"> This is a paragraph of class \"class-one\". </p>\n",
    "          ```\n",
    "\n",
    "        - An element can also be assigned to multiple groups that are specified by a *space-separated* list of class names. E.g.:\n",
    "        \n",
    "            - ```html\n",
    "              <div class=\"col m-1 border class-one\">Some Content</div>\n",
    "              ```\n",
    "- For Web scraping, the  `class` and/or `id` attributes can be leveraged to differentiate the section we want from other sections. To do so, we need to use something called the **CSS selector**."
   ]
  },
  {
   "cell_type": "markdown",
   "id": "785ba740",
   "metadata": {},
   "source": [
    "\n",
    "### CSS Basics\n",
    "\n",
    "\n",
    "[**Cascading Style Sheets**](https://developer.mozilla.org/en-US/docs/Web/CSS) (CSS for short) is a style sheet language for describing the presentation of a document written in a markup language.\n",
    "\n",
    "HTML dictates the content and structure of a webpage, while CSS modifies design and display of HTML elements.\n",
    "\n",
    "\n",
    "\n",
    "\n",
    "[3 ways](https://www.w3schools.com/css/css_howto.asp) of creating and applying CSS rules:\n",
    "\n",
    "- An inline style created right on an HTML start tag, using `style=\"attribute: value;\"`;\n",
    "\n",
    "- An [embedded/internal style sheet](https://jwang.people.ust.hk/sample_embeddedCSS.html) included by a `<style>` tag nested within the `<head>` section;\n",
    "\n",
    "- As an [external style sheet](https://jwang.people.ust.hk/sample_externalCSS.html) in a [separate file](https://jwang.people.ust.hk/example.css).\n"
   ]
  },
  {
   "cell_type": "markdown",
   "id": "482b3998",
   "metadata": {},
   "source": [
    "<img src=\"https://4.bp.blogspot.com/-yQFU_PhmTRg/U7viQ7bMNjI/AAAAAAAADJE/ctlBTLl-fhY/s640/css-selectors-lrg.png\" width=500px />\n",
    "\n",
    "A CSS style sheet is a set of style rules, and a CSS ruleset consists of:\n",
    "\n",
    "- A CSS selector: a pattern used to select the element(s) we want to style;\n",
    "\n",
    "-  A style declaration block, which contains a list of style properties and their values:\n",
    "\n",
    "    - Style properties and values come in pairs, with each pair separated with a semicolon (`;`).\n",
    "\n",
    "    - See a [list](https://developer.mozilla.org/en-US/docs/Web/CSS/CSS_Properties_Reference) of common properties and what values are accepted for them.\n",
    "\n",
    "\n",
    "\n",
    "\n",
    "\n"
   ]
  },
  {
   "cell_type": "markdown",
   "id": "126c7ab3",
   "metadata": {},
   "source": [
    "CSS selectors can be combined to create more specific selectors. For example,\n",
    "to select\n",
    "```html\n",
    "<div class=\"col m-1 border class-one\">Some Content</div>\n",
    "```\n",
    "we can use:\n",
    "\n",
    "- `div.class-one`;\n",
    "\n",
    "- `div.m-1.col` (the order does not matter);\n",
    "\n",
    "- `div[class=\"col m-1 border class-one\"]`.\n"
   ]
  },
  {
   "cell_type": "markdown",
   "id": "bff56242",
   "metadata": {},
   "source": [
    "BeautifulSoup helps format and organize the messy web by fixing bad HTML and presenting us with easily traversable Python objects.\n",
    "\n",
    "The most commonly used object in the BeautifulSoup library is the `BeautifulSoup` object."
   ]
  },
  {
   "cell_type": "code",
   "execution_count": 50,
   "id": "6504e18d",
   "metadata": {},
   "outputs": [
    {
     "data": {
      "text/plain": [
       "'4.12.3'"
      ]
     },
     "execution_count": 50,
     "metadata": {},
     "output_type": "execute_result"
    }
   ],
   "source": [
    "from bs4 import BeautifulSoup\n",
    "import bs4\n",
    "bs4.__version__"
   ]
  },
  {
   "cell_type": "markdown",
   "id": "8869cc97",
   "metadata": {},
   "source": [
    "\n",
    "The use of the `BeautifulSoup` constructor:\n",
    "\n",
    "- The 1st argument is the HTML text the object is based on;\n",
    "\n",
    "- The 2nd argument specifies the parser that we want BeautifulSoup to use in order to create a `BeautifulSoup` object.\n",
    "\n",
    "\n",
    "> <code>html.parser</code> is the HTML parser included in the standard Python 3 library. Information on other HTML parsers is available <a href=\"http://www.crummy.com/software/BeautifulSoup/bs4/doc/#installing-a-parser\">here</a>.\n",
    "\n",
    "\n",
    "\n",
    "\n",
    "Let's create a `BeautifulSoup` object for the tacky HTML code above to \"***make the soup***\":\n",
    "\n"
   ]
  },
  {
   "cell_type": "code",
   "execution_count": 51,
   "id": "e07476c5",
   "metadata": {},
   "outputs": [],
   "source": [
    "html_sample_code = ('<!DOCTYPE html><html lang=\"en\"><head><title>Sample HTML Page</title></head>'\n",
    "                    '<body><h1>This is a heading.</h1>'\n",
    "                    '<p>This is a typical paragraph.</p>'\n",
    "                    '<p class=\"class-one\">This is a paragraph of class \"class-one\".</p>'\n",
    "                    '<ol><li class=\"class-one\"><a href=\"sample.html\">The 1st item</a></li></ol>'\n",
    "                    '<p id=\"unique-one\">This is a paragraph with id \"unique-one\".</p>'\n",
    "                    '<div class=\"col m-3 border class-one\">This is a division.</div></body></html>')\n",
    "\n",
    "sample_soup = BeautifulSoup(html_sample_code, 'html.parser')"
   ]
  },
  {
   "cell_type": "markdown",
   "id": "4a9c1c22",
   "metadata": {},
   "source": [
    "\n",
    "We can use the `prettify()` method to format the HTML source code so as to get a better idea of its structure:\n"
   ]
  },
  {
   "cell_type": "code",
   "execution_count": null,
   "id": "f9c2de46",
   "metadata": {},
   "outputs": [
    {
     "name": "stdout",
     "output_type": "stream",
     "text": [
      "<!DOCTYPE html>\n",
      "<html lang=\"en\">\n",
      "    <head>\n",
      "        <title>\n",
      "            Sample HTML Page\n",
      "        </title>\n",
      "    </head>\n",
      "    <body>\n",
      "        <h1>\n",
      "            This is a heading.\n",
      "        </h1>\n",
      "        <p>\n",
      "            This is a typical paragraph.\n",
      "        </p>\n",
      "        <p class=\"class-one\">\n",
      "            This is a paragraph of class \"class-one\".\n",
      "        </p>\n",
      "        <ol>\n",
      "            <li class=\"class-one\">\n",
      "                <a href=\"sample.html\">\n",
      "                    The 1st item\n",
      "                </a>\n",
      "            </li>\n",
      "        </ol>\n",
      "        <p id=\"unique-one\">\n",
      "            This is a paragraph with id \"unique-one\".\n",
      "        </p>\n",
      "        <div class=\"col m-3 border class-one\">\n",
      "            This is a division.\n",
      "        </div>\n",
      "    </body>\n",
      "</html>\n",
      "\n"
     ]
    }
   ],
   "source": [
    "from bs4.formatter import HTMLFormatter\n",
    "\n",
    "# We can customize the indent size using an HTMLFormatter object\n",
    "print(sample_soup.prettify(formatter = HTMLFormatter(indent=4)))"
   ]
  },
  {
   "cell_type": "markdown",
   "id": "9bccf0ff",
   "metadata": {},
   "source": [
    "\n",
    "\n",
    "These textual components form a [\"family tree\"](https://jwang.people.ust.hk/familytree.html), where the top-level `<html>` tag contains the `<head>` and `<body`> tags, which further contain other textual contents and tags, and so on.\n",
    "\n",
    "\n",
    "We can define parents, chidren, siblings, descendents, and ancestors for each tag by referencing this family tree (based on the identation levels of related tags)"
   ]
  },
  {
   "cell_type": "markdown",
   "id": "03b51150",
   "metadata": {},
   "source": [
    "\n",
    "### What's in a Soup?\n",
    "\n",
    "A `BeautifulSoup` object is essentially a hierarchical collection of `tag` objects, which are each equipped with attributes for navigating and iterating over child tags and strings it contains.\n",
    "\n",
    "The simplest way to navigate this collection is to say the name of a child tag we want:"
   ]
  },
  {
   "cell_type": "code",
   "execution_count": null,
   "id": "72911c41",
   "metadata": {},
   "outputs": [
    {
     "data": {
      "text/plain": [
       "<h1>This is a heading.</h1>"
      ]
     },
     "metadata": {},
     "output_type": "display_data"
    }
   ],
   "source": [
    "# get the <h1> tag nested two layers deep into the BeautifulSoup object structure (html → body → h1)\n",
    "sample_soup.html.body.h1        # equivalently, sample_soup.body.h1 or samle_soup.h1"
   ]
  },
  {
   "cell_type": "markdown",
   "id": "6dc48e66",
   "metadata": {},
   "source": [
    "A tag's children are available in a list when we call `.contents`:"
   ]
  },
  {
   "cell_type": "code",
   "execution_count": null,
   "id": "09cf81f4",
   "metadata": {},
   "outputs": [
    {
     "data": {
      "text/plain": [
       "[<h1>This is a heading.</h1>,\n",
       " <p>This is a typical paragraph.</p>,\n",
       " <p class=\"class-one\">This is a paragraph of class \"class-one\".</p>,\n",
       " <ol><li class=\"class-one\"><a href=\"sample.html\">The 1st item</a></li></ol>,\n",
       " <p id=\"unique-one\">This is a paragraph with id \"unique-one\".</p>,\n",
       " <div class=\"col m-3 border class-one\">This is a division.</div>]"
      ]
     },
     "metadata": {},
     "output_type": "display_data"
    }
   ],
   "source": [
    "sample_soup.body.contents"
   ]
  },
  {
   "cell_type": "code",
   "execution_count": null,
   "id": "60a10eb2",
   "metadata": {},
   "outputs": [
    {
     "data": {
      "application/vnd.google.colaboratory.intrinsic+json": {
       "type": "string"
      },
      "text/plain": [
       "'This is a heading.This is a typical paragraph.This is a paragraph of class \"class-one\".The 1st itemThis is a paragraph with id \"unique-one\".This is a division.'"
      ]
     },
     "metadata": {},
     "output_type": "display_data"
    }
   ],
   "source": [
    "sample_soup.body.get_text()"
   ]
  },
  {
   "cell_type": "code",
   "execution_count": null,
   "id": "4caa00c8",
   "metadata": {},
   "outputs": [
    {
     "data": {
      "application/vnd.google.colaboratory.intrinsic+json": {
       "type": "string"
      },
      "text/plain": [
       "'The 1st item'"
      ]
     },
     "metadata": {},
     "output_type": "display_data"
    }
   ],
   "source": [
    "sample_soup.ol.get_text()"
   ]
  },
  {
   "cell_type": "code",
   "execution_count": null,
   "id": "abc93d7c",
   "metadata": {},
   "outputs": [
    {
     "data": {
      "application/vnd.google.colaboratory.intrinsic+json": {
       "type": "string"
      },
      "text/plain": [
       "'sample.html'"
      ]
     },
     "metadata": {},
     "output_type": "display_data"
    }
   ],
   "source": [
    "sample_soup.a.get('href')   # alternatively, it can also be accessed with dictionary-like indexing, e.g., sample_soup.a['href']"
   ]
  },
  {
   "cell_type": "markdown",
   "id": "13e4130e",
   "metadata": {},
   "source": [
    "\n",
    "\n",
    "### `.find()` & `.find_all()`\n",
    "\n",
    "Using a tag name as an attribute gives us only the first tag by that name.\n",
    "\n",
    "If we need to get all tags with a certain name, we need to use `find_all()`.\n",
    "\n",
    "The `find_all()` (`find()`) method can take a variety of filters to find lists of desired tags (a single tag).\n",
    "\n",
    "The `find_all()` returns a list of all matching elements; `find()` returns the first matching element."
   ]
  },
  {
   "cell_type": "code",
   "execution_count": null,
   "id": "d1ac892b",
   "metadata": {},
   "outputs": [
    {
     "data": {
      "text/plain": [
       "[<p>This is a typical paragraph.</p>,\n",
       " <p class=\"class-one\">This is a paragraph of class \"class-one\".</p>,\n",
       " <p id=\"unique-one\">This is a paragraph with id \"unique-one\".</p>]"
      ]
     },
     "metadata": {},
     "output_type": "display_data"
    }
   ],
   "source": [
    "sample_soup.find_all('p')                            # perform a match against that exact string; return a list of tags"
   ]
  },
  {
   "cell_type": "code",
   "execution_count": null,
   "id": "09691c6e",
   "metadata": {},
   "outputs": [
    {
     "data": {
      "text/plain": [
       "<p>This is a typical paragraph.</p>"
      ]
     },
     "metadata": {},
     "output_type": "display_data"
    }
   ],
   "source": [
    "sample_soup.find('p')                           # find only the first match of a tag"
   ]
  },
  {
   "cell_type": "markdown",
   "id": "07f6b9bc",
   "metadata": {},
   "source": [
    "### .find_all always returns a **list**, even if there is only one match"
   ]
  },
  {
   "cell_type": "code",
   "execution_count": null,
   "id": "746752be",
   "metadata": {},
   "outputs": [
    {
     "data": {
      "text/plain": [
       "[<p>This is a typical paragraph.</p>,\n",
       " <p class=\"class-one\">This is a paragraph of class \"class-one\".</p>,\n",
       " <a href=\"sample.html\">The 1st item</a>,\n",
       " <p id=\"unique-one\">This is a paragraph with id \"unique-one\".</p>]"
      ]
     },
     "metadata": {},
     "output_type": "display_data"
    }
   ],
   "source": [
    "sample_soup.find_all(['p', 'a'])                     # perform a string match against any item in that list"
   ]
  },
  {
   "cell_type": "code",
   "execution_count": null,
   "id": "1ef50f08",
   "metadata": {},
   "outputs": [
    {
     "data": {
      "text/plain": [
       "[<p class=\"class-one\">This is a paragraph of class \"class-one\".</p>]"
      ]
     },
     "metadata": {},
     "output_type": "display_data"
    }
   ],
   "source": [
    "sample_soup.find_all('p', {'class': 'class-one'}) # Always a list, even if only one match is found"
   ]
  },
  {
   "cell_type": "code",
   "execution_count": null,
   "id": "3c91112d",
   "metadata": {},
   "outputs": [
    {
     "data": {
      "text/plain": [
       "[<p class=\"class-one\">This is a paragraph of class \"class-one\".</p>,\n",
       " <div class=\"col m-3 border class-one\">This is a division.</div>]"
      ]
     },
     "metadata": {},
     "output_type": "display_data"
    }
   ],
   "source": [
    "sample_soup.find_all(['div', 'p'], {'class': 'class-one'})"
   ]
  },
  {
   "cell_type": "code",
   "execution_count": null,
   "id": "9f1c0094",
   "metadata": {},
   "outputs": [
    {
     "data": {
      "text/plain": [
       "[<p class=\"class-one\">This is a paragraph of class \"class-one\".</p>,\n",
       " <li class=\"class-one\"><a href=\"sample.html\">The 1st item</a></li>,\n",
       " <div class=\"col m-3 border class-one\">This is a division.</div>]"
      ]
     },
     "metadata": {},
     "output_type": "display_data"
    }
   ],
   "source": [
    "# filter elements only on attributes' values\n",
    "# None is indispensible if using positional matching\n",
    "sample_soup.find_all(None, {'class': 'class-one'})"
   ]
  },
  {
   "cell_type": "code",
   "execution_count": null,
   "id": "c9858710",
   "metadata": {},
   "outputs": [
    {
     "data": {
      "text/plain": [
       "[<p class=\"class-one\">This is a paragraph of class \"class-one\".</p>,\n",
       " <li class=\"class-one\"><a href=\"sample.html\">The 1st item</a></li>,\n",
       " <div class=\"col m-3 border class-one\">This is a division.</div>]"
      ]
     },
     "metadata": {},
     "output_type": "display_data"
    }
   ],
   "source": [
    "# equivalently, keyword matching\n",
    "sample_soup.find_all(attrs = {'class': 'class-one'})"
   ]
  },
  {
   "cell_type": "markdown",
   "id": "fc10a8cb",
   "metadata": {},
   "source": [
    "We can also search for the exact string value of the class attribute:"
   ]
  },
  {
   "cell_type": "code",
   "execution_count": null,
   "id": "8e91a157",
   "metadata": {},
   "outputs": [
    {
     "data": {
      "text/plain": [
       "<div class=\"col m-3 border class-one\">This is a division.</div>"
      ]
     },
     "metadata": {},
     "output_type": "display_data"
    }
   ],
   "source": [
    "sample_soup.find('div', {'class': 'col m-3 border class-one'})"
   ]
  },
  {
   "cell_type": "markdown",
   "id": "9c78021a",
   "metadata": {},
   "source": [
    "But searching for variants of the string value won't work: (i.e., **No Partial Search**)"
   ]
  },
  {
   "cell_type": "code",
   "execution_count": null,
   "id": "e9bc97f0",
   "metadata": {},
   "outputs": [
    {
     "data": {
      "text/plain": [
       "[]"
      ]
     },
     "metadata": {},
     "output_type": "display_data"
    }
   ],
   "source": [
    "sample_soup.find_all('div', {'class': 'col class-one'})"
   ]
  },
  {
   "cell_type": "markdown",
   "id": "b29f82bd",
   "metadata": {},
   "source": [
    "\n",
    "### `.select()` & `.select_one()`\n",
    "\n",
    "\n"
   ]
  },
  {
   "cell_type": "markdown",
   "id": "dad5732c",
   "metadata": {},
   "source": [
    "\n",
    "A `BeautifulSoup` object has a `.select()` (or `.select_one()`) method, which allows us to query elements using CSS selectors.\n",
    "\n",
    "The `select()` returns a list of all matching elements; `select_one()` returns the first matching element.\n",
    "\n",
    "\n",
    "Different types of selectors:\n",
    "\n",
    "| Type | Notation |  Example | Explanation |\n",
    "|-----|-----|-----|-----|\n",
    "| type | `elementname` | `p` | Select all `<p>` elements|\n",
    "| id | `#idname` | `#unique-one` | Select the element with `id=\"unique-one\"` |\n",
    "| class | `.classname` | `.class-one`  |Select all elements with `class=\"class-one\"` |\n",
    "| attribute | `[attributename]` |`[alt]` | Select all elements with an `alt` attribute |\n",
    "| attribute value | `[attr=value]` |`[alt='UST Logo']` |  Select all elements whose `alt` attribute has the value `'UST Logo'` |\n"
   ]
  },
  {
   "cell_type": "code",
   "execution_count": null,
   "id": "0f33ee7a",
   "metadata": {},
   "outputs": [
    {
     "data": {
      "text/plain": [
       "[<p id=\"unique-one\">This is a paragraph with id \"unique-one\".</p>]"
      ]
     },
     "metadata": {},
     "output_type": "display_data"
    }
   ],
   "source": [
    "sample_soup.select(\"#unique-one\")"
   ]
  },
  {
   "cell_type": "code",
   "execution_count": null,
   "id": "369f18dd",
   "metadata": {},
   "outputs": [
    {
     "data": {
      "text/plain": [
       "[<div class=\"col m-3 border class-one\">This is a division.</div>]"
      ]
     },
     "metadata": {},
     "output_type": "display_data"
    }
   ],
   "source": [
    "# match elements against two or more classes\n",
    "sample_soup.select('.class-one.m-3')"
   ]
  },
  {
   "cell_type": "code",
   "execution_count": null,
   "id": "97553575",
   "metadata": {},
   "outputs": [
    {
     "data": {
      "text/plain": [
       "<p class=\"class-one\">This is a paragraph of class \"class-one\".</p>"
      ]
     },
     "metadata": {},
     "output_type": "display_data"
    }
   ],
   "source": [
    "# selectors can be combined to create more specific selectors\n",
    "sample_soup.select_one('p.class-one')    # equivalent to sample_soup.find('p', {'class': 'class-one'})"
   ]
  },
  {
   "cell_type": "code",
   "execution_count": null,
   "id": "dd7874fc",
   "metadata": {},
   "outputs": [
    {
     "data": {
      "text/plain": [
       "[<div class=\"col m-3 border class-one\">This is a division.</div>]"
      ]
     },
     "metadata": {},
     "output_type": "display_data"
    }
   ],
   "source": [
    "sample_soup.select(\"div[class='col m-3 border class-one']\")  # equivalent to sample_soup.find_all('div', {'class': 'col m-3 border class-one'})"
   ]
  },
  {
   "cell_type": "markdown",
   "id": "8e828b0f",
   "metadata": {},
   "source": [
    "The selector syntax also supports a set of relational symbols, called **combinators**, which allows us to describe target elements in terms of their relations to others.\n",
    "\n",
    "| Name | Notation |  Example | Explanation |\n",
    "|-----|-----|-----|-----|\n",
    "| Descendant| ` `| `div p` | Select all `<p>` elements inside `<div>` elements |\n",
    "| Child | `>`| `div > p` | Select all `<p>` elements whose parent is a `<div>` element|\n"
   ]
  },
  {
   "cell_type": "code",
   "execution_count": null,
   "id": "4003bd3c",
   "metadata": {},
   "outputs": [
    {
     "data": {
      "text/plain": [
       "[<a href=\"sample.html\">The 1st item</a>]"
      ]
     },
     "metadata": {},
     "output_type": "display_data"
    }
   ],
   "source": [
    "sample_soup.select(\"ol a\")  # select all <a> elements that are inside <ol> elements"
   ]
  },
  {
   "cell_type": "code",
   "execution_count": null,
   "id": "58f76bb2",
   "metadata": {},
   "outputs": [
    {
     "data": {
      "text/plain": [
       "[]"
      ]
     },
     "metadata": {},
     "output_type": "display_data"
    }
   ],
   "source": [
    "sample_soup.select(\"ol > a\")  # select all <a> elements whose parent is a <ol> element"
   ]
  },
  {
   "cell_type": "markdown",
   "id": "427f94fb",
   "metadata": {},
   "source": [
    "Then use `.get_text()` to extract only the text, with the `strip` option active to remove leading and trailing spaces:"
   ]
  },
  {
   "cell_type": "code",
   "execution_count": null,
   "id": "00c5e0af",
   "metadata": {},
   "outputs": [],
   "source": [
    "lies_soup.find_all('span', {'class': 'short-desc'})[0].find(\"strong\").get_text(strip=True)   "
   ]
  },
  {
   "cell_type": "code",
   "execution_count": null,
   "id": "c4105f74",
   "metadata": {},
   "outputs": [
    {
     "data": {
      "application/vnd.google.colaboratory.intrinsic+json": {
       "summary": "{\n  \"name\": \"country_df\",\n  \"rows\": 247,\n  \"fields\": [\n    {\n      \"column\": \"Name\",\n      \"properties\": {\n        \"dtype\": \"string\",\n        \"num_unique_values\": 247,\n        \"samples\": [\n          \"Bouvet Island\",\n          \"Armenia\",\n          \"Portugal\"\n        ],\n        \"semantic_type\": \"\",\n        \"description\": \"\"\n      }\n    },\n    {\n      \"column\": \"capital\",\n      \"properties\": {\n        \"dtype\": \"string\",\n        \"num_unique_values\": 239,\n        \"samples\": [\n          \"Porto-Novo\",\n          \"Yerevan\",\n          \"Tegucigalpa\"\n        ],\n        \"semantic_type\": \"\",\n        \"description\": \"\"\n      }\n    },\n    {\n      \"column\": \"Population\",\n      \"properties\": {\n        \"dtype\": \"string\",\n        \"num_unique_values\": 244,\n        \"samples\": [\n          \"9056010\",\n          \"2968000\",\n          \"28274729\"\n        ],\n        \"semantic_type\": \"\",\n        \"description\": \"\"\n      }\n    },\n    {\n      \"column\": \"Area\",\n      \"properties\": {\n        \"dtype\": \"string\",\n        \"num_unique_values\": 243,\n        \"samples\": [\n          \"112620.0\",\n          \"29800.0\",\n          \"1972550.0\"\n        ],\n        \"semantic_type\": \"\",\n        \"description\": \"\"\n      }\n    }\n  ]\n}",
       "type": "dataframe",
       "variable_name": "country_df"
      },
      "text/html": [
       "\n",
       "  <div id=\"df-5999d619-97b0-43d3-8fd5-611eb814dd7c\" class=\"colab-df-container\">\n",
       "    <div>\n",
       "<style scoped>\n",
       "    .dataframe tbody tr th:only-of-type {\n",
       "        vertical-align: middle;\n",
       "    }\n",
       "\n",
       "    .dataframe tbody tr th {\n",
       "        vertical-align: top;\n",
       "    }\n",
       "\n",
       "    .dataframe thead th {\n",
       "        text-align: right;\n",
       "    }\n",
       "</style>\n",
       "<table border=\"1\" class=\"dataframe\">\n",
       "  <thead>\n",
       "    <tr style=\"text-align: right;\">\n",
       "      <th></th>\n",
       "      <th>Name</th>\n",
       "      <th>capital</th>\n",
       "      <th>Population</th>\n",
       "      <th>Area</th>\n",
       "    </tr>\n",
       "  </thead>\n",
       "  <tbody>\n",
       "    <tr>\n",
       "      <th>0</th>\n",
       "      <td>Andorra</td>\n",
       "      <td>Andorra la Vella</td>\n",
       "      <td>84000</td>\n",
       "      <td>468.0</td>\n",
       "    </tr>\n",
       "    <tr>\n",
       "      <th>1</th>\n",
       "      <td>United Arab Emirates</td>\n",
       "      <td>Abu Dhabi</td>\n",
       "      <td>4975593</td>\n",
       "      <td>82880.0</td>\n",
       "    </tr>\n",
       "    <tr>\n",
       "      <th>2</th>\n",
       "      <td>Afghanistan</td>\n",
       "      <td>Kabul</td>\n",
       "      <td>29121286</td>\n",
       "      <td>647500.0</td>\n",
       "    </tr>\n",
       "    <tr>\n",
       "      <th>3</th>\n",
       "      <td>Antigua and Barbuda</td>\n",
       "      <td>St. John's</td>\n",
       "      <td>86754</td>\n",
       "      <td>443.0</td>\n",
       "    </tr>\n",
       "    <tr>\n",
       "      <th>4</th>\n",
       "      <td>Anguilla</td>\n",
       "      <td>The Valley</td>\n",
       "      <td>13254</td>\n",
       "      <td>102.0</td>\n",
       "    </tr>\n",
       "    <tr>\n",
       "      <th>...</th>\n",
       "      <td>...</td>\n",
       "      <td>...</td>\n",
       "      <td>...</td>\n",
       "      <td>...</td>\n",
       "    </tr>\n",
       "    <tr>\n",
       "      <th>242</th>\n",
       "      <td>Yemen</td>\n",
       "      <td>Sanaa</td>\n",
       "      <td>23495361</td>\n",
       "      <td>527970.0</td>\n",
       "    </tr>\n",
       "    <tr>\n",
       "      <th>243</th>\n",
       "      <td>Mayotte</td>\n",
       "      <td>Mamoudzou</td>\n",
       "      <td>159042</td>\n",
       "      <td>374.0</td>\n",
       "    </tr>\n",
       "    <tr>\n",
       "      <th>244</th>\n",
       "      <td>South Africa</td>\n",
       "      <td>Pretoria</td>\n",
       "      <td>49000000</td>\n",
       "      <td>1219912.0</td>\n",
       "    </tr>\n",
       "    <tr>\n",
       "      <th>245</th>\n",
       "      <td>Zambia</td>\n",
       "      <td>Lusaka</td>\n",
       "      <td>13460305</td>\n",
       "      <td>752614.0</td>\n",
       "    </tr>\n",
       "    <tr>\n",
       "      <th>246</th>\n",
       "      <td>Zimbabwe</td>\n",
       "      <td>Harare</td>\n",
       "      <td>11651858</td>\n",
       "      <td>390580.0</td>\n",
       "    </tr>\n",
       "  </tbody>\n",
       "</table>\n",
       "<p>247 rows × 4 columns</p>\n",
       "</div>\n",
       "    <div class=\"colab-df-buttons\">\n",
       "\n",
       "  <div class=\"colab-df-container\">\n",
       "    <button class=\"colab-df-convert\" onclick=\"convertToInteractive('df-5999d619-97b0-43d3-8fd5-611eb814dd7c')\"\n",
       "            title=\"Convert this dataframe to an interactive table.\"\n",
       "            style=\"display:none;\">\n",
       "\n",
       "  <svg xmlns=\"http://www.w3.org/2000/svg\" height=\"24px\" viewBox=\"0 -960 960 960\">\n",
       "    <path d=\"M120-120v-720h720v720H120Zm60-500h600v-160H180v160Zm220 220h160v-160H400v160Zm0 220h160v-160H400v160ZM180-400h160v-160H180v160Zm440 0h160v-160H620v160ZM180-180h160v-160H180v160Zm440 0h160v-160H620v160Z\"/>\n",
       "  </svg>\n",
       "    </button>\n",
       "\n",
       "  <style>\n",
       "    .colab-df-container {\n",
       "      display:flex;\n",
       "      gap: 12px;\n",
       "    }\n",
       "\n",
       "    .colab-df-convert {\n",
       "      background-color: #E8F0FE;\n",
       "      border: none;\n",
       "      border-radius: 50%;\n",
       "      cursor: pointer;\n",
       "      display: none;\n",
       "      fill: #1967D2;\n",
       "      height: 32px;\n",
       "      padding: 0 0 0 0;\n",
       "      width: 32px;\n",
       "    }\n",
       "\n",
       "    .colab-df-convert:hover {\n",
       "      background-color: #E2EBFA;\n",
       "      box-shadow: 0px 1px 2px rgba(60, 64, 67, 0.3), 0px 1px 3px 1px rgba(60, 64, 67, 0.15);\n",
       "      fill: #174EA6;\n",
       "    }\n",
       "\n",
       "    .colab-df-buttons div {\n",
       "      margin-bottom: 4px;\n",
       "    }\n",
       "\n",
       "    [theme=dark] .colab-df-convert {\n",
       "      background-color: #3B4455;\n",
       "      fill: #D2E3FC;\n",
       "    }\n",
       "\n",
       "    [theme=dark] .colab-df-convert:hover {\n",
       "      background-color: #434B5C;\n",
       "      box-shadow: 0px 1px 3px 1px rgba(0, 0, 0, 0.15);\n",
       "      filter: drop-shadow(0px 1px 2px rgba(0, 0, 0, 0.3));\n",
       "      fill: #FFFFFF;\n",
       "    }\n",
       "  </style>\n",
       "\n",
       "    <script>\n",
       "      const buttonEl =\n",
       "        document.querySelector('#df-5999d619-97b0-43d3-8fd5-611eb814dd7c button.colab-df-convert');\n",
       "      buttonEl.style.display =\n",
       "        google.colab.kernel.accessAllowed ? 'block' : 'none';\n",
       "\n",
       "      async function convertToInteractive(key) {\n",
       "        const element = document.querySelector('#df-5999d619-97b0-43d3-8fd5-611eb814dd7c');\n",
       "        const dataTable =\n",
       "          await google.colab.kernel.invokeFunction('convertToInteractive',\n",
       "                                                    [key], {});\n",
       "        if (!dataTable) return;\n",
       "\n",
       "        const docLinkHtml = 'Like what you see? Visit the ' +\n",
       "          '<a target=\"_blank\" href=https://colab.research.google.com/notebooks/data_table.ipynb>data table notebook</a>'\n",
       "          + ' to learn more about interactive tables.';\n",
       "        element.innerHTML = '';\n",
       "        dataTable['output_type'] = 'display_data';\n",
       "        await google.colab.output.renderOutput(dataTable, element);\n",
       "        const docLink = document.createElement('div');\n",
       "        docLink.innerHTML = docLinkHtml;\n",
       "        element.appendChild(docLink);\n",
       "      }\n",
       "    </script>\n",
       "  </div>\n",
       "\n",
       "\n",
       "<div id=\"df-8a3965ae-2e1b-441b-804b-53fe68258b16\">\n",
       "  <button class=\"colab-df-quickchart\" onclick=\"quickchart('df-8a3965ae-2e1b-441b-804b-53fe68258b16')\"\n",
       "            title=\"Suggest charts\"\n",
       "            style=\"display:none;\">\n",
       "\n",
       "<svg xmlns=\"http://www.w3.org/2000/svg\" height=\"24px\"viewBox=\"0 0 24 24\"\n",
       "     width=\"24px\">\n",
       "    <g>\n",
       "        <path d=\"M19 3H5c-1.1 0-2 .9-2 2v14c0 1.1.9 2 2 2h14c1.1 0 2-.9 2-2V5c0-1.1-.9-2-2-2zM9 17H7v-7h2v7zm4 0h-2V7h2v10zm4 0h-2v-4h2v4z\"/>\n",
       "    </g>\n",
       "</svg>\n",
       "  </button>\n",
       "\n",
       "<style>\n",
       "  .colab-df-quickchart {\n",
       "      --bg-color: #E8F0FE;\n",
       "      --fill-color: #1967D2;\n",
       "      --hover-bg-color: #E2EBFA;\n",
       "      --hover-fill-color: #174EA6;\n",
       "      --disabled-fill-color: #AAA;\n",
       "      --disabled-bg-color: #DDD;\n",
       "  }\n",
       "\n",
       "  [theme=dark] .colab-df-quickchart {\n",
       "      --bg-color: #3B4455;\n",
       "      --fill-color: #D2E3FC;\n",
       "      --hover-bg-color: #434B5C;\n",
       "      --hover-fill-color: #FFFFFF;\n",
       "      --disabled-bg-color: #3B4455;\n",
       "      --disabled-fill-color: #666;\n",
       "  }\n",
       "\n",
       "  .colab-df-quickchart {\n",
       "    background-color: var(--bg-color);\n",
       "    border: none;\n",
       "    border-radius: 50%;\n",
       "    cursor: pointer;\n",
       "    display: none;\n",
       "    fill: var(--fill-color);\n",
       "    height: 32px;\n",
       "    padding: 0;\n",
       "    width: 32px;\n",
       "  }\n",
       "\n",
       "  .colab-df-quickchart:hover {\n",
       "    background-color: var(--hover-bg-color);\n",
       "    box-shadow: 0 1px 2px rgba(60, 64, 67, 0.3), 0 1px 3px 1px rgba(60, 64, 67, 0.15);\n",
       "    fill: var(--button-hover-fill-color);\n",
       "  }\n",
       "\n",
       "  .colab-df-quickchart-complete:disabled,\n",
       "  .colab-df-quickchart-complete:disabled:hover {\n",
       "    background-color: var(--disabled-bg-color);\n",
       "    fill: var(--disabled-fill-color);\n",
       "    box-shadow: none;\n",
       "  }\n",
       "\n",
       "  .colab-df-spinner {\n",
       "    border: 2px solid var(--fill-color);\n",
       "    border-color: transparent;\n",
       "    border-bottom-color: var(--fill-color);\n",
       "    animation:\n",
       "      spin 1s steps(1) infinite;\n",
       "  }\n",
       "\n",
       "  @keyframes spin {\n",
       "    0% {\n",
       "      border-color: transparent;\n",
       "      border-bottom-color: var(--fill-color);\n",
       "      border-left-color: var(--fill-color);\n",
       "    }\n",
       "    20% {\n",
       "      border-color: transparent;\n",
       "      border-left-color: var(--fill-color);\n",
       "      border-top-color: var(--fill-color);\n",
       "    }\n",
       "    30% {\n",
       "      border-color: transparent;\n",
       "      border-left-color: var(--fill-color);\n",
       "      border-top-color: var(--fill-color);\n",
       "      border-right-color: var(--fill-color);\n",
       "    }\n",
       "    40% {\n",
       "      border-color: transparent;\n",
       "      border-right-color: var(--fill-color);\n",
       "      border-top-color: var(--fill-color);\n",
       "    }\n",
       "    60% {\n",
       "      border-color: transparent;\n",
       "      border-right-color: var(--fill-color);\n",
       "    }\n",
       "    80% {\n",
       "      border-color: transparent;\n",
       "      border-right-color: var(--fill-color);\n",
       "      border-bottom-color: var(--fill-color);\n",
       "    }\n",
       "    90% {\n",
       "      border-color: transparent;\n",
       "      border-bottom-color: var(--fill-color);\n",
       "    }\n",
       "  }\n",
       "</style>\n",
       "\n",
       "  <script>\n",
       "    async function quickchart(key) {\n",
       "      const quickchartButtonEl =\n",
       "        document.querySelector('#' + key + ' button');\n",
       "      quickchartButtonEl.disabled = true;  // To prevent multiple clicks.\n",
       "      quickchartButtonEl.classList.add('colab-df-spinner');\n",
       "      try {\n",
       "        const charts = await google.colab.kernel.invokeFunction(\n",
       "            'suggestCharts', [key], {});\n",
       "      } catch (error) {\n",
       "        console.error('Error during call to suggestCharts:', error);\n",
       "      }\n",
       "      quickchartButtonEl.classList.remove('colab-df-spinner');\n",
       "      quickchartButtonEl.classList.add('colab-df-quickchart-complete');\n",
       "    }\n",
       "    (() => {\n",
       "      let quickchartButtonEl =\n",
       "        document.querySelector('#df-8a3965ae-2e1b-441b-804b-53fe68258b16 button');\n",
       "      quickchartButtonEl.style.display =\n",
       "        google.colab.kernel.accessAllowed ? 'block' : 'none';\n",
       "    })();\n",
       "  </script>\n",
       "</div>\n",
       "    </div>\n",
       "  </div>\n"
      ],
      "text/plain": [
       "                     Name           capital Population       Area\n",
       "0                 Andorra  Andorra la Vella      84000      468.0\n",
       "1    United Arab Emirates         Abu Dhabi    4975593    82880.0\n",
       "2             Afghanistan             Kabul   29121286   647500.0\n",
       "3     Antigua and Barbuda        St. John's      86754      443.0\n",
       "4                Anguilla        The Valley      13254      102.0\n",
       "..                    ...               ...        ...        ...\n",
       "242                 Yemen             Sanaa   23495361   527970.0\n",
       "243               Mayotte         Mamoudzou     159042      374.0\n",
       "244          South Africa          Pretoria   49000000  1219912.0\n",
       "245                Zambia            Lusaka   13460305   752614.0\n",
       "246              Zimbabwe            Harare   11651858   390580.0\n",
       "\n",
       "[247 rows x 4 columns]"
      ]
     },
     "metadata": {},
     "output_type": "display_data"
    }
   ],
   "source": [
    "# starter code\n",
    "import requests\n",
    "# open the URL; set timeout to 3 seconds\n",
    "response = requests.get(\"https://jwang.people.ust.hk/countries.html\", timeout=3)\n",
    "# accesses the raw binary content (HTML source code) of the webpage\n",
    "country_soup = BeautifulSoup(response.content, 'html.parser')\n",
    "\n",
    "# provide your code below\n",
    "\n",
    "item_list = country_soup.find_all('div', {'class': 'col-md-4 country'})\n",
    "name_list = []; capital_list = []; population_list = []; area_list = []\n",
    "\n",
    "for item in item_list:\n",
    "    name_list.append(item.h3.get_text(strip=True))\n",
    "    capital_list.append(item.find('span', {'class': 'country-capital'}).get_text())\n",
    "    population_list.append(item.find('span', {'class': 'country-population'}).get_text())\n",
    "    area_list.append(item.find('span', {'class': 'country-area'}).get_text())\n",
    "\n",
    "\n",
    "country_df = pd.DataFrame({'Name': name_list, 'capital': capital_list, 'Population': population_list, 'Area': area_list})\n",
    "country_df\n"
   ]
  },
  {
   "cell_type": "markdown",
   "id": "224a6492",
   "metadata": {},
   "source": [
    "### 1 `Series` and `DataFrame`\n",
    "\n",
    "A [`DataFrame`](http://pandas.pydata.org/pandas-docs/stable/reference/api/pandas.DataFrame.html) represents a ***2-dimensional***, ***tabular*** data structure containing an ***ordered*** collection of columns, each of which can be a different value type (numeric, string, Boolean, etc.).\n",
    "\n",
    "Previously in web scraping, we have seen:\n",
    "```python\n",
    "lie_df = pd.DataFrame({'date': date_list, 'lie': lie_list, 'explanation': explanation_list, 'url': url_list})\n",
    "```\n",
    "\n",
    "\n",
    "A `DataFrame` can be thought of as a specialization of a Python dictionary. It maps names (i.e., column names or indcies) to a sequence of data series that share the same set of labels (i.e., row names or indices).\n",
    "\n",
    "\n",
    "<img src=\"https://raw.githubusercontent.com/justinjiajia/img/master/python/DataFrame.png\" width=700/>\n",
    "\n",
    "<br>\n",
    "\n",
    "Let's build up the above `DataFrame` from scratch  based on this component view (column by column):"
   ]
  },
  {
   "cell_type": "code",
   "execution_count": 54,
   "id": "933f6c0a",
   "metadata": {},
   "outputs": [
    {
     "data": {
      "text/plain": [
       "0    Wan Chai\n",
       "1       North\n",
       "2    Sai Kung\n",
       "3     Sha Tin\n",
       "dtype: object"
      ]
     },
     "execution_count": 54,
     "metadata": {},
     "output_type": "execute_result"
    }
   ],
   "source": [
    "import pandas as pd\n",
    "\n",
    "# a Series can be thought of as a 1-dimensional array with attached labels\n",
    "# a set of default indices, consisting of the integers 0 through n-1, are automatically attached\n",
    "district_name = pd.Series(['Wan Chai', 'North', 'Sai Kung',  'Sha Tin'])\n",
    "district_name"
   ]
  },
  {
   "cell_type": "code",
   "execution_count": 55,
   "id": "227114f7",
   "metadata": {},
   "outputs": [
    {
     "data": {
      "text/plain": [
       "array(['Wan Chai', 'North', 'Sai Kung', 'Sha Tin'], dtype=object)"
      ]
     },
     "execution_count": 55,
     "metadata": {},
     "output_type": "execute_result"
    }
   ],
   "source": [
    "# Return Series as array\n",
    "district_name.values"
   ]
  },
  {
   "cell_type": "markdown",
   "id": "8c437af4",
   "metadata": {},
   "source": [
    "`Array` is similar to `List`, but it requires all elements to be of the same data type. This characteristic is beneficial for certain operations, especially those that are mathematically intensive, as it allows for more efficient data processing."
   ]
  },
  {
   "cell_type": "code",
   "execution_count": 56,
   "id": "0419350d",
   "metadata": {},
   "outputs": [
    {
     "data": {
      "text/plain": [
       "[0, 1, 2, 3]"
      ]
     },
     "execution_count": 56,
     "metadata": {},
     "output_type": "execute_result"
    }
   ],
   "source": [
    "list(district_name.index)"
   ]
  },
  {
   "cell_type": "code",
   "execution_count": 103,
   "id": "82c786f0",
   "metadata": {},
   "outputs": [
    {
     "data": {
      "text/plain": [
       "Wan Chai    150900\n",
       "North       310800\n",
       "Sai Kung    448600\n",
       "Sha Tin     648200\n",
       "dtype: int64"
      ]
     },
     "execution_count": 103,
     "metadata": {},
     "output_type": "execute_result"
    }
   ],
   "source": [
    "district_population = pd.Series([150900, 310800, 448600, 648200],\n",
    "                                index=district_name)\n",
    "district_population"
   ]
  },
  {
   "cell_type": "code",
   "execution_count": 104,
   "id": "3c840412",
   "metadata": {},
   "outputs": [
    {
     "data": {
      "text/plain": [
       "Wan Chai      9.83\n",
       "North       136.61\n",
       "Sai Kung    129.65\n",
       "Sha Tin      68.71\n",
       "dtype: float64"
      ]
     },
     "execution_count": 104,
     "metadata": {},
     "output_type": "execute_result"
    }
   ],
   "source": [
    "district_area = pd.Series([9.83, 136.61, 129.65, 68.71],\n",
    "                          index=district_name)\n",
    "district_area"
   ]
  },
  {
   "cell_type": "code",
   "execution_count": 105,
   "id": "80bcbf0b",
   "metadata": {},
   "outputs": [
    {
     "data": {
      "text/html": [
       "<div>\n",
       "<style scoped>\n",
       "    .dataframe tbody tr th:only-of-type {\n",
       "        vertical-align: middle;\n",
       "    }\n",
       "\n",
       "    .dataframe tbody tr th {\n",
       "        vertical-align: top;\n",
       "    }\n",
       "\n",
       "    .dataframe thead th {\n",
       "        text-align: right;\n",
       "    }\n",
       "</style>\n",
       "<table border=\"1\" class=\"dataframe\">\n",
       "  <thead>\n",
       "    <tr style=\"text-align: right;\">\n",
       "      <th></th>\n",
       "      <th>Population</th>\n",
       "      <th>Area</th>\n",
       "    </tr>\n",
       "  </thead>\n",
       "  <tbody>\n",
       "    <tr>\n",
       "      <th>Wan Chai</th>\n",
       "      <td>150900</td>\n",
       "      <td>9.83</td>\n",
       "    </tr>\n",
       "    <tr>\n",
       "      <th>North</th>\n",
       "      <td>310800</td>\n",
       "      <td>136.61</td>\n",
       "    </tr>\n",
       "    <tr>\n",
       "      <th>Sai Kung</th>\n",
       "      <td>448600</td>\n",
       "      <td>129.65</td>\n",
       "    </tr>\n",
       "    <tr>\n",
       "      <th>Sha Tin</th>\n",
       "      <td>648200</td>\n",
       "      <td>68.71</td>\n",
       "    </tr>\n",
       "  </tbody>\n",
       "</table>\n",
       "</div>"
      ],
      "text/plain": [
       "          Population    Area\n",
       "Wan Chai      150900    9.83\n",
       "North         310800  136.61\n",
       "Sai Kung      448600  129.65\n",
       "Sha Tin       648200   68.71"
      ]
     },
     "execution_count": 105,
     "metadata": {},
     "output_type": "execute_result"
    }
   ],
   "source": [
    "\n",
    "HK_district1 =  pd.DataFrame({'Population': district_population,\n",
    "                              'Area': district_area},\n",
    "                             index=district_name)\n",
    "HK_district1"
   ]
  },
  {
   "cell_type": "markdown",
   "id": "bb7f1e07",
   "metadata": {},
   "source": [
    "A `Series` can also be created with user supplied index.\n",
    "\n",
    "Apart from making data more readable, the explicit index definition gives the `Series` object additional capabilities."
   ]
  },
  {
   "cell_type": "code",
   "execution_count": 63,
   "id": "546087a5",
   "metadata": {},
   "outputs": [
    {
     "data": {
      "text/plain": [
       "Sai Kung    448600\n",
       "Sha Tin     648200\n",
       "Wan Chai    150900\n",
       "North       310800\n",
       "dtype: int64"
      ]
     },
     "execution_count": 63,
     "metadata": {},
     "output_type": "execute_result"
    }
   ],
   "source": [
    "district_population2 = pd.Series([448600, 648200, 150900, 310800],\n",
    "                                 index=['Sai Kung',  'Sha Tin', 'Wan Chai', 'North'])\n",
    "district_population2"
   ]
  },
  {
   "cell_type": "markdown",
   "id": "367cc3d6",
   "metadata": {},
   "source": [
    "They can also be accessed using the attribute reference notation as if they are the attributes of a `DataFrame`."
   ]
  },
  {
   "cell_type": "code",
   "execution_count": 65,
   "id": "4f6f36b1",
   "metadata": {},
   "outputs": [
    {
     "data": {
      "text/plain": [
       "0      9.83\n",
       "1    136.61\n",
       "2    129.65\n",
       "3     68.71\n",
       "Name: Area, dtype: float64"
      ]
     },
     "execution_count": 65,
     "metadata": {},
     "output_type": "execute_result"
    }
   ],
   "source": [
    "HK_district1.Area"
   ]
  },
  {
   "cell_type": "markdown",
   "id": "718c1dca",
   "metadata": {},
   "source": [
    "Because pandas is built on top of NumPy,  `Series` and `DataFrame` objects support **vectorized operations**.\n",
    "\n",
    "Vectorized operations are a powerful feature of Python that allow you to apply a function or an operation to multiple elements of an array or a dataframe at once, instead of using loops. This can save time, improve your code readability, and reduce your memory usage."
   ]
  },
  {
   "cell_type": "code",
   "execution_count": 109,
   "id": "9e075e9c",
   "metadata": {},
   "outputs": [
    {
     "data": {
      "text/html": [
       "<div>\n",
       "<style scoped>\n",
       "    .dataframe tbody tr th:only-of-type {\n",
       "        vertical-align: middle;\n",
       "    }\n",
       "\n",
       "    .dataframe tbody tr th {\n",
       "        vertical-align: top;\n",
       "    }\n",
       "\n",
       "    .dataframe thead th {\n",
       "        text-align: right;\n",
       "    }\n",
       "</style>\n",
       "<table border=\"1\" class=\"dataframe\">\n",
       "  <thead>\n",
       "    <tr style=\"text-align: right;\">\n",
       "      <th></th>\n",
       "      <th>Population</th>\n",
       "      <th>Area</th>\n",
       "      <th>Density</th>\n",
       "    </tr>\n",
       "  </thead>\n",
       "  <tbody>\n",
       "    <tr>\n",
       "      <th>Wan Chai</th>\n",
       "      <td>150900</td>\n",
       "      <td>9.83</td>\n",
       "      <td>15350.966429</td>\n",
       "    </tr>\n",
       "    <tr>\n",
       "      <th>North</th>\n",
       "      <td>310800</td>\n",
       "      <td>136.61</td>\n",
       "      <td>2275.089671</td>\n",
       "    </tr>\n",
       "    <tr>\n",
       "      <th>Sai Kung</th>\n",
       "      <td>448600</td>\n",
       "      <td>129.65</td>\n",
       "      <td>3460.084844</td>\n",
       "    </tr>\n",
       "    <tr>\n",
       "      <th>Sha Tin</th>\n",
       "      <td>648200</td>\n",
       "      <td>68.71</td>\n",
       "      <td>9433.852423</td>\n",
       "    </tr>\n",
       "  </tbody>\n",
       "</table>\n",
       "</div>"
      ],
      "text/plain": [
       "          Population    Area       Density\n",
       "Wan Chai      150900    9.83  15350.966429\n",
       "North         310800  136.61   2275.089671\n",
       "Sai Kung      448600  129.65   3460.084844\n",
       "Sha Tin       648200   68.71   9433.852423"
      ]
     },
     "execution_count": 109,
     "metadata": {},
     "output_type": "execute_result"
    }
   ],
   "source": [
    "# this assignment form of indexing creates a new column\n",
    "HK_district1['Density'] = HK_district1.Population / HK_district1.Area\n",
    "HK_district1"
   ]
  },
  {
   "cell_type": "markdown",
   "id": "e58199ac",
   "metadata": {},
   "source": [
    "\n",
    "\n",
    "Another usual way of creating a DataFrame is by using `pd.DataFrame(data, columns=[column_names],index=[row_names])` explicitly.\n",
    "\n",
    "\n"
   ]
  },
  {
   "cell_type": "code",
   "execution_count": 68,
   "id": "e0133c73",
   "metadata": {},
   "outputs": [
    {
     "data": {
      "text/html": [
       "<div>\n",
       "<style scoped>\n",
       "    .dataframe tbody tr th:only-of-type {\n",
       "        vertical-align: middle;\n",
       "    }\n",
       "\n",
       "    .dataframe tbody tr th {\n",
       "        vertical-align: top;\n",
       "    }\n",
       "\n",
       "    .dataframe thead th {\n",
       "        text-align: right;\n",
       "    }\n",
       "</style>\n",
       "<table border=\"1\" class=\"dataframe\">\n",
       "  <thead>\n",
       "    <tr style=\"text-align: right;\">\n",
       "      <th></th>\n",
       "      <th>a</th>\n",
       "      <th>b</th>\n",
       "    </tr>\n",
       "  </thead>\n",
       "  <tbody>\n",
       "    <tr>\n",
       "      <th>first</th>\n",
       "      <td>3.0</td>\n",
       "      <td>8.0</td>\n",
       "    </tr>\n",
       "    <tr>\n",
       "      <th>second</th>\n",
       "      <td>4.0</td>\n",
       "      <td>7.0</td>\n",
       "    </tr>\n",
       "  </tbody>\n",
       "</table>\n",
       "</div>"
      ],
      "text/plain": [
       "          a    b\n",
       "first   3.0  8.0\n",
       "second  4.0  7.0"
      ]
     },
     "execution_count": 68,
     "metadata": {},
     "output_type": "execute_result"
    }
   ],
   "source": [
    "df = pd.DataFrame(data=[[3.0, 8.0], [4.0, 7.0]], columns=['a', 'b'], index=['first','second'])\n",
    "df"
   ]
  },
  {
   "cell_type": "markdown",
   "id": "8ddd080a",
   "metadata": {},
   "source": [
    "\n",
    "\n",
    "\n",
    "### 2 Data Selection in `DataFrame`s\n",
    "\n",
    "\n",
    "`DataFrame` support both ***label-based*** indexing and ***location-based*** indexing.\n",
    "\n",
    "Pandas provids two indexer attributes that explicitly expose which indexing scheme to apply:\n",
    "\n",
    "- The `loc` attribute uses ***label-based*** indexing:\n",
    "\n"
   ]
  },
  {
   "cell_type": "code",
   "execution_count": 106,
   "id": "d4af147c",
   "metadata": {},
   "outputs": [
    {
     "data": {
      "text/plain": [
       "129.65"
      ]
     },
     "execution_count": 106,
     "metadata": {},
     "output_type": "execute_result"
    }
   ],
   "source": [
    "HK_district1.loc['Sai Kung', 'Area']"
   ]
  },
  {
   "cell_type": "markdown",
   "id": "69ae3487",
   "metadata": {},
   "source": [
    "Start and End are all **Inclusive**"
   ]
  },
  {
   "cell_type": "code",
   "execution_count": 107,
   "id": "34e74c40",
   "metadata": {},
   "outputs": [
    {
     "data": {
      "text/html": [
       "<div>\n",
       "<style scoped>\n",
       "    .dataframe tbody tr th:only-of-type {\n",
       "        vertical-align: middle;\n",
       "    }\n",
       "\n",
       "    .dataframe tbody tr th {\n",
       "        vertical-align: top;\n",
       "    }\n",
       "\n",
       "    .dataframe thead th {\n",
       "        text-align: right;\n",
       "    }\n",
       "</style>\n",
       "<table border=\"1\" class=\"dataframe\">\n",
       "  <thead>\n",
       "    <tr style=\"text-align: right;\">\n",
       "      <th></th>\n",
       "      <th>Population</th>\n",
       "      <th>Area</th>\n",
       "    </tr>\n",
       "  </thead>\n",
       "  <tbody>\n",
       "    <tr>\n",
       "      <th>Wan Chai</th>\n",
       "      <td>150900</td>\n",
       "      <td>9.83</td>\n",
       "    </tr>\n",
       "    <tr>\n",
       "      <th>North</th>\n",
       "      <td>310800</td>\n",
       "      <td>136.61</td>\n",
       "    </tr>\n",
       "    <tr>\n",
       "      <th>Sai Kung</th>\n",
       "      <td>448600</td>\n",
       "      <td>129.65</td>\n",
       "    </tr>\n",
       "  </tbody>\n",
       "</table>\n",
       "</div>"
      ],
      "text/plain": [
       "          Population    Area\n",
       "Wan Chai      150900    9.83\n",
       "North         310800  136.61\n",
       "Sai Kung      448600  129.65"
      ]
     },
     "execution_count": 107,
     "metadata": {},
     "output_type": "execute_result"
    }
   ],
   "source": [
    "# slicing selects contiguous rows and columns\n",
    "# but the last label in inclusive this time\n",
    "\n",
    "HK_district1.loc['Wan Chai':'Sai Kung', :'Area']"
   ]
  },
  {
   "cell_type": "code",
   "execution_count": 110,
   "id": "23f33f28",
   "metadata": {},
   "outputs": [
    {
     "data": {
      "text/html": [
       "<div>\n",
       "<style scoped>\n",
       "    .dataframe tbody tr th:only-of-type {\n",
       "        vertical-align: middle;\n",
       "    }\n",
       "\n",
       "    .dataframe tbody tr th {\n",
       "        vertical-align: top;\n",
       "    }\n",
       "\n",
       "    .dataframe thead th {\n",
       "        text-align: right;\n",
       "    }\n",
       "</style>\n",
       "<table border=\"1\" class=\"dataframe\">\n",
       "  <thead>\n",
       "    <tr style=\"text-align: right;\">\n",
       "      <th></th>\n",
       "      <th>Population</th>\n",
       "      <th>Density</th>\n",
       "    </tr>\n",
       "  </thead>\n",
       "  <tbody>\n",
       "    <tr>\n",
       "      <th>Wan Chai</th>\n",
       "      <td>150900</td>\n",
       "      <td>15350.966429</td>\n",
       "    </tr>\n",
       "    <tr>\n",
       "      <th>Sai Kung</th>\n",
       "      <td>448600</td>\n",
       "      <td>3460.084844</td>\n",
       "    </tr>\n",
       "  </tbody>\n",
       "</table>\n",
       "</div>"
      ],
      "text/plain": [
       "          Population       Density\n",
       "Wan Chai      150900  15350.966429\n",
       "Sai Kung      448600   3460.084844"
      ]
     },
     "execution_count": 110,
     "metadata": {},
     "output_type": "execute_result"
    }
   ],
   "source": [
    "# accepts a NumPy array for row selection via boolean indexing\n",
    "\n",
    "import numpy as np\n",
    "HK_district1.loc[np.array([True, False, True, False]), ['Population', 'Density']]"
   ]
  },
  {
   "cell_type": "code",
   "execution_count": 111,
   "id": "47dc9b28",
   "metadata": {},
   "outputs": [
    {
     "data": {
      "text/plain": [
       "Wan Chai    False\n",
       "North        True\n",
       "Sai Kung     True\n",
       "Sha Tin     False\n",
       "Name: Area, dtype: bool"
      ]
     },
     "execution_count": 111,
     "metadata": {},
     "output_type": "execute_result"
    }
   ],
   "source": [
    "HK_district1.Area > 100"
   ]
  },
  {
   "cell_type": "code",
   "execution_count": 112,
   "id": "e8349816",
   "metadata": {},
   "outputs": [
    {
     "data": {
      "text/html": [
       "<div>\n",
       "<style scoped>\n",
       "    .dataframe tbody tr th:only-of-type {\n",
       "        vertical-align: middle;\n",
       "    }\n",
       "\n",
       "    .dataframe tbody tr th {\n",
       "        vertical-align: top;\n",
       "    }\n",
       "\n",
       "    .dataframe thead th {\n",
       "        text-align: right;\n",
       "    }\n",
       "</style>\n",
       "<table border=\"1\" class=\"dataframe\">\n",
       "  <thead>\n",
       "    <tr style=\"text-align: right;\">\n",
       "      <th></th>\n",
       "      <th>Population</th>\n",
       "      <th>Density</th>\n",
       "    </tr>\n",
       "  </thead>\n",
       "  <tbody>\n",
       "    <tr>\n",
       "      <th>North</th>\n",
       "      <td>310800</td>\n",
       "      <td>2275.089671</td>\n",
       "    </tr>\n",
       "    <tr>\n",
       "      <th>Sai Kung</th>\n",
       "      <td>448600</td>\n",
       "      <td>3460.084844</td>\n",
       "    </tr>\n",
       "  </tbody>\n",
       "</table>\n",
       "</div>"
      ],
      "text/plain": [
       "          Population      Density\n",
       "North         310800  2275.089671\n",
       "Sai Kung      448600  3460.084844"
      ]
     },
     "execution_count": 112,
     "metadata": {},
     "output_type": "execute_result"
    }
   ],
   "source": [
    "# accepts a Pandas Series for row selection via boolean indexing\n",
    "\n",
    "HK_district1.loc[HK_district1.Area > 100, ['Population', 'Density']]"
   ]
  },
  {
   "cell_type": "code",
   "execution_count": 113,
   "id": "e8e26c6a",
   "metadata": {},
   "outputs": [
    {
     "data": {
      "text/html": [
       "<div>\n",
       "<style scoped>\n",
       "    .dataframe tbody tr th:only-of-type {\n",
       "        vertical-align: middle;\n",
       "    }\n",
       "\n",
       "    .dataframe tbody tr th {\n",
       "        vertical-align: top;\n",
       "    }\n",
       "\n",
       "    .dataframe thead th {\n",
       "        text-align: right;\n",
       "    }\n",
       "</style>\n",
       "<table border=\"1\" class=\"dataframe\">\n",
       "  <thead>\n",
       "    <tr style=\"text-align: right;\">\n",
       "      <th></th>\n",
       "      <th>Population</th>\n",
       "      <th>Density</th>\n",
       "    </tr>\n",
       "  </thead>\n",
       "  <tbody>\n",
       "    <tr>\n",
       "      <th>Sha Tin</th>\n",
       "      <td>648200</td>\n",
       "      <td>9433.852423</td>\n",
       "    </tr>\n",
       "  </tbody>\n",
       "</table>\n",
       "</div>"
      ],
      "text/plain": [
       "         Population      Density\n",
       "Sha Tin      648200  9433.852423"
      ]
     },
     "execution_count": 113,
     "metadata": {},
     "output_type": "execute_result"
    }
   ],
   "source": [
    "# Boolean operators are ~, &, and | are used for selection\n",
    "\n",
    "HK_district1.loc[~(HK_district1.Area > 100) & (HK_district1.Population > 200000),\n",
    "                 ['Population', 'Density']]"
   ]
  },
  {
   "cell_type": "markdown",
   "id": "aadab121",
   "metadata": {},
   "source": [
    "Pandas also provide a handy helper method (i.e., `.query()`) that allows us to query data with less verbose query strings. It is a powerful tool for filtering `DataFrame` rows using a concise and readable expression syntax. It is specifically designed for row selection.\n"
   ]
  },
  {
   "cell_type": "code",
   "execution_count": 114,
   "id": "e82ada8f",
   "metadata": {},
   "outputs": [
    {
     "data": {
      "text/html": [
       "<div>\n",
       "<style scoped>\n",
       "    .dataframe tbody tr th:only-of-type {\n",
       "        vertical-align: middle;\n",
       "    }\n",
       "\n",
       "    .dataframe tbody tr th {\n",
       "        vertical-align: top;\n",
       "    }\n",
       "\n",
       "    .dataframe thead th {\n",
       "        text-align: right;\n",
       "    }\n",
       "</style>\n",
       "<table border=\"1\" class=\"dataframe\">\n",
       "  <thead>\n",
       "    <tr style=\"text-align: right;\">\n",
       "      <th></th>\n",
       "      <th>Population</th>\n",
       "      <th>Area</th>\n",
       "      <th>Density</th>\n",
       "    </tr>\n",
       "  </thead>\n",
       "  <tbody>\n",
       "    <tr>\n",
       "      <th>Sha Tin</th>\n",
       "      <td>648200</td>\n",
       "      <td>68.71</td>\n",
       "      <td>9433.852423</td>\n",
       "    </tr>\n",
       "  </tbody>\n",
       "</table>\n",
       "</div>"
      ],
      "text/plain": [
       "         Population   Area      Density\n",
       "Sha Tin      648200  68.71  9433.852423"
      ]
     },
     "execution_count": 114,
     "metadata": {},
     "output_type": "execute_result"
    }
   ],
   "source": [
    "HK_district1.query('~ (Area > 100) & (Population > 200000)')"
   ]
  },
  {
   "cell_type": "code",
   "execution_count": 115,
   "id": "ea727a53",
   "metadata": {},
   "outputs": [
    {
     "data": {
      "text/html": [
       "<div>\n",
       "<style scoped>\n",
       "    .dataframe tbody tr th:only-of-type {\n",
       "        vertical-align: middle;\n",
       "    }\n",
       "\n",
       "    .dataframe tbody tr th {\n",
       "        vertical-align: top;\n",
       "    }\n",
       "\n",
       "    .dataframe thead th {\n",
       "        text-align: right;\n",
       "    }\n",
       "</style>\n",
       "<table border=\"1\" class=\"dataframe\">\n",
       "  <thead>\n",
       "    <tr style=\"text-align: right;\">\n",
       "      <th></th>\n",
       "      <th>Population</th>\n",
       "      <th>Area</th>\n",
       "      <th>Density</th>\n",
       "    </tr>\n",
       "  </thead>\n",
       "  <tbody>\n",
       "    <tr>\n",
       "      <th>Sai Kung</th>\n",
       "      <td>448600</td>\n",
       "      <td>129.65</td>\n",
       "      <td>3460.084844</td>\n",
       "    </tr>\n",
       "  </tbody>\n",
       "</table>\n",
       "</div>"
      ],
      "text/plain": [
       "          Population    Area      Density\n",
       "Sai Kung      448600  129.65  3460.084844"
      ]
     },
     "execution_count": 115,
     "metadata": {},
     "output_type": "execute_result"
    }
   ],
   "source": [
    "HK_district1.query('index == \"Sai Kung\"')"
   ]
  },
  {
   "cell_type": "code",
   "execution_count": 116,
   "id": "504ce93e",
   "metadata": {},
   "outputs": [
    {
     "data": {
      "text/html": [
       "<div>\n",
       "<style scoped>\n",
       "    .dataframe tbody tr th:only-of-type {\n",
       "        vertical-align: middle;\n",
       "    }\n",
       "\n",
       "    .dataframe tbody tr th {\n",
       "        vertical-align: top;\n",
       "    }\n",
       "\n",
       "    .dataframe thead th {\n",
       "        text-align: right;\n",
       "    }\n",
       "</style>\n",
       "<table border=\"1\" class=\"dataframe\">\n",
       "  <thead>\n",
       "    <tr style=\"text-align: right;\">\n",
       "      <th></th>\n",
       "      <th>Population</th>\n",
       "      <th>Area</th>\n",
       "      <th>Density</th>\n",
       "    </tr>\n",
       "  </thead>\n",
       "  <tbody>\n",
       "    <tr>\n",
       "      <th>North</th>\n",
       "      <td>310800</td>\n",
       "      <td>136.61</td>\n",
       "      <td>2275.089671</td>\n",
       "    </tr>\n",
       "    <tr>\n",
       "      <th>Sai Kung</th>\n",
       "      <td>448600</td>\n",
       "      <td>129.65</td>\n",
       "      <td>3460.084844</td>\n",
       "    </tr>\n",
       "    <tr>\n",
       "      <th>Sha Tin</th>\n",
       "      <td>648200</td>\n",
       "      <td>68.71</td>\n",
       "      <td>9433.852423</td>\n",
       "    </tr>\n",
       "  </tbody>\n",
       "</table>\n",
       "</div>"
      ],
      "text/plain": [
       "          Population    Area      Density\n",
       "North         310800  136.61  2275.089671\n",
       "Sai Kung      448600  129.65  3460.084844\n",
       "Sha Tin       648200   68.71  9433.852423"
      ]
     },
     "execution_count": 116,
     "metadata": {},
     "output_type": "execute_result"
    }
   ],
   "source": [
    "# write your code here\n",
    "HK_district1.query('Density < 5000 | Area > 50')"
   ]
  },
  {
   "cell_type": "code",
   "execution_count": 117,
   "id": "a5ad8ffe",
   "metadata": {},
   "outputs": [
    {
     "data": {
      "text/html": [
       "<div>\n",
       "<style scoped>\n",
       "    .dataframe tbody tr th:only-of-type {\n",
       "        vertical-align: middle;\n",
       "    }\n",
       "\n",
       "    .dataframe tbody tr th {\n",
       "        vertical-align: top;\n",
       "    }\n",
       "\n",
       "    .dataframe thead th {\n",
       "        text-align: right;\n",
       "    }\n",
       "</style>\n",
       "<table border=\"1\" class=\"dataframe\">\n",
       "  <thead>\n",
       "    <tr style=\"text-align: right;\">\n",
       "      <th></th>\n",
       "      <th>Population</th>\n",
       "      <th>Area</th>\n",
       "      <th>Density</th>\n",
       "    </tr>\n",
       "  </thead>\n",
       "  <tbody>\n",
       "    <tr>\n",
       "      <th>Sai Kung</th>\n",
       "      <td>448600</td>\n",
       "      <td>129.65</td>\n",
       "      <td>3460.084844</td>\n",
       "    </tr>\n",
       "    <tr>\n",
       "      <th>Sha Tin</th>\n",
       "      <td>648200</td>\n",
       "      <td>68.71</td>\n",
       "      <td>9433.852423</td>\n",
       "    </tr>\n",
       "  </tbody>\n",
       "</table>\n",
       "</div>"
      ],
      "text/plain": [
       "          Population    Area      Density\n",
       "Sai Kung      448600  129.65  3460.084844\n",
       "Sha Tin       648200   68.71  9433.852423"
      ]
     },
     "execution_count": 117,
     "metadata": {},
     "output_type": "execute_result"
    }
   ],
   "source": [
    "# Can take a 1-argument function. The x passed to the lambda is the whole DataFrame being sliced.\n",
    "\n",
    "HK_district1.loc[lambda x: [i[0]=='S' for i in x.index], :]"
   ]
  },
  {
   "cell_type": "markdown",
   "id": "8be59761",
   "metadata": {},
   "source": [
    "If the second argument (column labels) is omitted, `.loc` will return all columns for the specified rows."
   ]
  },
  {
   "cell_type": "code",
   "execution_count": 118,
   "id": "4e6cefbe",
   "metadata": {},
   "outputs": [
    {
     "data": {
      "text/html": [
       "<div>\n",
       "<style scoped>\n",
       "    .dataframe tbody tr th:only-of-type {\n",
       "        vertical-align: middle;\n",
       "    }\n",
       "\n",
       "    .dataframe tbody tr th {\n",
       "        vertical-align: top;\n",
       "    }\n",
       "\n",
       "    .dataframe thead th {\n",
       "        text-align: right;\n",
       "    }\n",
       "</style>\n",
       "<table border=\"1\" class=\"dataframe\">\n",
       "  <thead>\n",
       "    <tr style=\"text-align: right;\">\n",
       "      <th></th>\n",
       "      <th>Population</th>\n",
       "      <th>Area</th>\n",
       "      <th>Density</th>\n",
       "    </tr>\n",
       "  </thead>\n",
       "  <tbody>\n",
       "    <tr>\n",
       "      <th>Sai Kung</th>\n",
       "      <td>448600</td>\n",
       "      <td>129.65</td>\n",
       "      <td>3460.084844</td>\n",
       "    </tr>\n",
       "    <tr>\n",
       "      <th>Sha Tin</th>\n",
       "      <td>648200</td>\n",
       "      <td>68.71</td>\n",
       "      <td>9433.852423</td>\n",
       "    </tr>\n",
       "  </tbody>\n",
       "</table>\n",
       "</div>"
      ],
      "text/plain": [
       "          Population    Area      Density\n",
       "Sai Kung      448600  129.65  3460.084844\n",
       "Sha Tin       648200   68.71  9433.852423"
      ]
     },
     "execution_count": 118,
     "metadata": {},
     "output_type": "execute_result"
    }
   ],
   "source": [
    "HK_district1.loc[lambda x: [i[0]=='S' for i in x.index]]"
   ]
  },
  {
   "cell_type": "markdown",
   "id": "964a243a",
   "metadata": {},
   "source": [
    "-  The `iloc` attribute uses Python-style ***location-based*** indexing:\n",
    "- which means right-hand side **exclusive**"
   ]
  },
  {
   "cell_type": "code",
   "execution_count": 121,
   "id": "0d8dc81f",
   "metadata": {},
   "outputs": [
    {
     "data": {
      "text/html": [
       "<div>\n",
       "<style scoped>\n",
       "    .dataframe tbody tr th:only-of-type {\n",
       "        vertical-align: middle;\n",
       "    }\n",
       "\n",
       "    .dataframe tbody tr th {\n",
       "        vertical-align: top;\n",
       "    }\n",
       "\n",
       "    .dataframe thead th {\n",
       "        text-align: right;\n",
       "    }\n",
       "</style>\n",
       "<table border=\"1\" class=\"dataframe\">\n",
       "  <thead>\n",
       "    <tr style=\"text-align: right;\">\n",
       "      <th></th>\n",
       "      <th>Population</th>\n",
       "      <th>Area</th>\n",
       "      <th>Density</th>\n",
       "    </tr>\n",
       "  </thead>\n",
       "  <tbody>\n",
       "    <tr>\n",
       "      <th>Wan Chai</th>\n",
       "      <td>150900</td>\n",
       "      <td>9.83</td>\n",
       "      <td>15350.966429</td>\n",
       "    </tr>\n",
       "    <tr>\n",
       "      <th>North</th>\n",
       "      <td>310800</td>\n",
       "      <td>136.61</td>\n",
       "      <td>2275.089671</td>\n",
       "    </tr>\n",
       "    <tr>\n",
       "      <th>Sai Kung</th>\n",
       "      <td>448600</td>\n",
       "      <td>129.65</td>\n",
       "      <td>3460.084844</td>\n",
       "    </tr>\n",
       "    <tr>\n",
       "      <th>Sha Tin</th>\n",
       "      <td>648200</td>\n",
       "      <td>68.71</td>\n",
       "      <td>9433.852423</td>\n",
       "    </tr>\n",
       "  </tbody>\n",
       "</table>\n",
       "</div>"
      ],
      "text/plain": [
       "          Population    Area       Density\n",
       "Wan Chai      150900    9.83  15350.966429\n",
       "North         310800  136.61   2275.089671\n",
       "Sai Kung      448600  129.65   3460.084844\n",
       "Sha Tin       648200   68.71   9433.852423"
      ]
     },
     "execution_count": 121,
     "metadata": {},
     "output_type": "execute_result"
    }
   ],
   "source": [
    "HK_district1"
   ]
  },
  {
   "cell_type": "code",
   "execution_count": 125,
   "id": "381b6258",
   "metadata": {},
   "outputs": [
    {
     "data": {
      "text/html": [
       "<div>\n",
       "<style scoped>\n",
       "    .dataframe tbody tr th:only-of-type {\n",
       "        vertical-align: middle;\n",
       "    }\n",
       "\n",
       "    .dataframe tbody tr th {\n",
       "        vertical-align: top;\n",
       "    }\n",
       "\n",
       "    .dataframe thead th {\n",
       "        text-align: right;\n",
       "    }\n",
       "</style>\n",
       "<table border=\"1\" class=\"dataframe\">\n",
       "  <thead>\n",
       "    <tr style=\"text-align: right;\">\n",
       "      <th></th>\n",
       "      <th>Population</th>\n",
       "      <th>Area</th>\n",
       "    </tr>\n",
       "  </thead>\n",
       "  <tbody>\n",
       "    <tr>\n",
       "      <th>North</th>\n",
       "      <td>310800</td>\n",
       "      <td>136.61</td>\n",
       "    </tr>\n",
       "    <tr>\n",
       "      <th>Sai Kung</th>\n",
       "      <td>448600</td>\n",
       "      <td>129.65</td>\n",
       "    </tr>\n",
       "  </tbody>\n",
       "</table>\n",
       "</div>"
      ],
      "text/plain": [
       "          Population    Area\n",
       "North         310800  136.61\n",
       "Sai Kung      448600  129.65"
      ]
     },
     "execution_count": 125,
     "metadata": {},
     "output_type": "execute_result"
    }
   ],
   "source": [
    "# the last index is exclusive as with regular Python slicing\n",
    "HK_district1.iloc[1:3,:2]"
   ]
  },
  {
   "cell_type": "code",
   "execution_count": 126,
   "id": "4869b48a",
   "metadata": {},
   "outputs": [
    {
     "data": {
      "text/html": [
       "<div>\n",
       "<style scoped>\n",
       "    .dataframe tbody tr th:only-of-type {\n",
       "        vertical-align: middle;\n",
       "    }\n",
       "\n",
       "    .dataframe tbody tr th {\n",
       "        vertical-align: top;\n",
       "    }\n",
       "\n",
       "    .dataframe thead th {\n",
       "        text-align: right;\n",
       "    }\n",
       "</style>\n",
       "<table border=\"1\" class=\"dataframe\">\n",
       "  <thead>\n",
       "    <tr style=\"text-align: right;\">\n",
       "      <th></th>\n",
       "      <th>Density</th>\n",
       "      <th>Population</th>\n",
       "    </tr>\n",
       "  </thead>\n",
       "  <tbody>\n",
       "    <tr>\n",
       "      <th>North</th>\n",
       "      <td>2275.089671</td>\n",
       "      <td>310800</td>\n",
       "    </tr>\n",
       "    <tr>\n",
       "      <th>Sha Tin</th>\n",
       "      <td>9433.852423</td>\n",
       "      <td>648200</td>\n",
       "    </tr>\n",
       "  </tbody>\n",
       "</table>\n",
       "</div>"
      ],
      "text/plain": [
       "             Density  Population\n",
       "North    2275.089671      310800\n",
       "Sha Tin  9433.852423      648200"
      ]
     },
     "execution_count": 126,
     "metadata": {},
     "output_type": "execute_result"
    }
   ],
   "source": [
    "# select non-contiguous rows and columns\n",
    "HK_district1.iloc[[1, 3], [2, 0]]"
   ]
  },
  {
   "cell_type": "markdown",
   "id": "90f13f2e",
   "metadata": {},
   "source": [
    "The `.iloc` is primarily integer position based (from 0 to length-1 of the axis), but may also be used with a boolean array."
   ]
  },
  {
   "cell_type": "code",
   "execution_count": 128,
   "id": "445a79be",
   "metadata": {},
   "outputs": [
    {
     "data": {
      "text/html": [
       "<div>\n",
       "<style scoped>\n",
       "    .dataframe tbody tr th:only-of-type {\n",
       "        vertical-align: middle;\n",
       "    }\n",
       "\n",
       "    .dataframe tbody tr th {\n",
       "        vertical-align: top;\n",
       "    }\n",
       "\n",
       "    .dataframe thead th {\n",
       "        text-align: right;\n",
       "    }\n",
       "</style>\n",
       "<table border=\"1\" class=\"dataframe\">\n",
       "  <thead>\n",
       "    <tr style=\"text-align: right;\">\n",
       "      <th></th>\n",
       "      <th>Population</th>\n",
       "      <th>Density</th>\n",
       "    </tr>\n",
       "  </thead>\n",
       "  <tbody>\n",
       "    <tr>\n",
       "      <th>North</th>\n",
       "      <td>310800</td>\n",
       "      <td>2275.089671</td>\n",
       "    </tr>\n",
       "    <tr>\n",
       "      <th>Sai Kung</th>\n",
       "      <td>448600</td>\n",
       "      <td>3460.084844</td>\n",
       "    </tr>\n",
       "  </tbody>\n",
       "</table>\n",
       "</div>"
      ],
      "text/plain": [
       "          Population      Density\n",
       "North         310800  2275.089671\n",
       "Sai Kung      448600  3460.084844"
      ]
     },
     "execution_count": 128,
     "metadata": {},
     "output_type": "execute_result"
    }
   ],
   "source": [
    "# what HK_district2.Area returns is a Series\n",
    "# iloc can only take a NumPy array (not Pandas Series), which can be accessed via .values\n",
    "HK_district1.iloc[(HK_district1.Area > 100).values, [True, False, True]]"
   ]
  },
  {
   "cell_type": "code",
   "execution_count": null,
   "id": "06031fb4",
   "metadata": {},
   "outputs": [
    {
     "data": {
      "application/vnd.google.colaboratory.intrinsic+json": {
       "summary": "{\n  \"name\": \"              lambda x: [i[0]=='A' for i in x\",\n  \"rows\": 2,\n  \"fields\": [\n    {\n      \"column\": \"Area\",\n      \"properties\": {\n        \"dtype\": \"number\",\n        \"std\": 48.01255044256659,\n        \"min\": 68.71,\n        \"max\": 136.61,\n        \"num_unique_values\": 2,\n        \"samples\": [\n          68.71,\n          136.61\n        ],\n        \"semantic_type\": \"\",\n        \"description\": \"\"\n      }\n    }\n  ]\n}",
       "type": "dataframe"
      },
      "text/html": [
       "\n",
       "  <div id=\"df-d2c7ac2a-04e7-4668-824c-ddb3f40c0dec\" class=\"colab-df-container\">\n",
       "    <div>\n",
       "<style scoped>\n",
       "    .dataframe tbody tr th:only-of-type {\n",
       "        vertical-align: middle;\n",
       "    }\n",
       "\n",
       "    .dataframe tbody tr th {\n",
       "        vertical-align: top;\n",
       "    }\n",
       "\n",
       "    .dataframe thead th {\n",
       "        text-align: right;\n",
       "    }\n",
       "</style>\n",
       "<table border=\"1\" class=\"dataframe\">\n",
       "  <thead>\n",
       "    <tr style=\"text-align: right;\">\n",
       "      <th></th>\n",
       "      <th>Area</th>\n",
       "    </tr>\n",
       "  </thead>\n",
       "  <tbody>\n",
       "    <tr>\n",
       "      <th>North</th>\n",
       "      <td>136.61</td>\n",
       "    </tr>\n",
       "    <tr>\n",
       "      <th>Sha Tin</th>\n",
       "      <td>68.71</td>\n",
       "    </tr>\n",
       "  </tbody>\n",
       "</table>\n",
       "</div>\n",
       "    <div class=\"colab-df-buttons\">\n",
       "\n",
       "  <div class=\"colab-df-container\">\n",
       "    <button class=\"colab-df-convert\" onclick=\"convertToInteractive('df-d2c7ac2a-04e7-4668-824c-ddb3f40c0dec')\"\n",
       "            title=\"Convert this dataframe to an interactive table.\"\n",
       "            style=\"display:none;\">\n",
       "\n",
       "  <svg xmlns=\"http://www.w3.org/2000/svg\" height=\"24px\" viewBox=\"0 -960 960 960\">\n",
       "    <path d=\"M120-120v-720h720v720H120Zm60-500h600v-160H180v160Zm220 220h160v-160H400v160Zm0 220h160v-160H400v160ZM180-400h160v-160H180v160Zm440 0h160v-160H620v160ZM180-180h160v-160H180v160Zm440 0h160v-160H620v160Z\"/>\n",
       "  </svg>\n",
       "    </button>\n",
       "\n",
       "  <style>\n",
       "    .colab-df-container {\n",
       "      display:flex;\n",
       "      gap: 12px;\n",
       "    }\n",
       "\n",
       "    .colab-df-convert {\n",
       "      background-color: #E8F0FE;\n",
       "      border: none;\n",
       "      border-radius: 50%;\n",
       "      cursor: pointer;\n",
       "      display: none;\n",
       "      fill: #1967D2;\n",
       "      height: 32px;\n",
       "      padding: 0 0 0 0;\n",
       "      width: 32px;\n",
       "    }\n",
       "\n",
       "    .colab-df-convert:hover {\n",
       "      background-color: #E2EBFA;\n",
       "      box-shadow: 0px 1px 2px rgba(60, 64, 67, 0.3), 0px 1px 3px 1px rgba(60, 64, 67, 0.15);\n",
       "      fill: #174EA6;\n",
       "    }\n",
       "\n",
       "    .colab-df-buttons div {\n",
       "      margin-bottom: 4px;\n",
       "    }\n",
       "\n",
       "    [theme=dark] .colab-df-convert {\n",
       "      background-color: #3B4455;\n",
       "      fill: #D2E3FC;\n",
       "    }\n",
       "\n",
       "    [theme=dark] .colab-df-convert:hover {\n",
       "      background-color: #434B5C;\n",
       "      box-shadow: 0px 1px 3px 1px rgba(0, 0, 0, 0.15);\n",
       "      filter: drop-shadow(0px 1px 2px rgba(0, 0, 0, 0.3));\n",
       "      fill: #FFFFFF;\n",
       "    }\n",
       "  </style>\n",
       "\n",
       "    <script>\n",
       "      const buttonEl =\n",
       "        document.querySelector('#df-d2c7ac2a-04e7-4668-824c-ddb3f40c0dec button.colab-df-convert');\n",
       "      buttonEl.style.display =\n",
       "        google.colab.kernel.accessAllowed ? 'block' : 'none';\n",
       "\n",
       "      async function convertToInteractive(key) {\n",
       "        const element = document.querySelector('#df-d2c7ac2a-04e7-4668-824c-ddb3f40c0dec');\n",
       "        const dataTable =\n",
       "          await google.colab.kernel.invokeFunction('convertToInteractive',\n",
       "                                                    [key], {});\n",
       "        if (!dataTable) return;\n",
       "\n",
       "        const docLinkHtml = 'Like what you see? Visit the ' +\n",
       "          '<a target=\"_blank\" href=https://colab.research.google.com/notebooks/data_table.ipynb>data table notebook</a>'\n",
       "          + ' to learn more about interactive tables.';\n",
       "        element.innerHTML = '';\n",
       "        dataTable['output_type'] = 'display_data';\n",
       "        await google.colab.output.renderOutput(dataTable, element);\n",
       "        const docLink = document.createElement('div');\n",
       "        docLink.innerHTML = docLinkHtml;\n",
       "        element.appendChild(docLink);\n",
       "      }\n",
       "    </script>\n",
       "  </div>\n",
       "\n",
       "\n",
       "<div id=\"df-ec0cc05a-5eed-41b8-b0b5-53ca5500f39f\">\n",
       "  <button class=\"colab-df-quickchart\" onclick=\"quickchart('df-ec0cc05a-5eed-41b8-b0b5-53ca5500f39f')\"\n",
       "            title=\"Suggest charts\"\n",
       "            style=\"display:none;\">\n",
       "\n",
       "<svg xmlns=\"http://www.w3.org/2000/svg\" height=\"24px\"viewBox=\"0 0 24 24\"\n",
       "     width=\"24px\">\n",
       "    <g>\n",
       "        <path d=\"M19 3H5c-1.1 0-2 .9-2 2v14c0 1.1.9 2 2 2h14c1.1 0 2-.9 2-2V5c0-1.1-.9-2-2-2zM9 17H7v-7h2v7zm4 0h-2V7h2v10zm4 0h-2v-4h2v4z\"/>\n",
       "    </g>\n",
       "</svg>\n",
       "  </button>\n",
       "\n",
       "<style>\n",
       "  .colab-df-quickchart {\n",
       "      --bg-color: #E8F0FE;\n",
       "      --fill-color: #1967D2;\n",
       "      --hover-bg-color: #E2EBFA;\n",
       "      --hover-fill-color: #174EA6;\n",
       "      --disabled-fill-color: #AAA;\n",
       "      --disabled-bg-color: #DDD;\n",
       "  }\n",
       "\n",
       "  [theme=dark] .colab-df-quickchart {\n",
       "      --bg-color: #3B4455;\n",
       "      --fill-color: #D2E3FC;\n",
       "      --hover-bg-color: #434B5C;\n",
       "      --hover-fill-color: #FFFFFF;\n",
       "      --disabled-bg-color: #3B4455;\n",
       "      --disabled-fill-color: #666;\n",
       "  }\n",
       "\n",
       "  .colab-df-quickchart {\n",
       "    background-color: var(--bg-color);\n",
       "    border: none;\n",
       "    border-radius: 50%;\n",
       "    cursor: pointer;\n",
       "    display: none;\n",
       "    fill: var(--fill-color);\n",
       "    height: 32px;\n",
       "    padding: 0;\n",
       "    width: 32px;\n",
       "  }\n",
       "\n",
       "  .colab-df-quickchart:hover {\n",
       "    background-color: var(--hover-bg-color);\n",
       "    box-shadow: 0 1px 2px rgba(60, 64, 67, 0.3), 0 1px 3px 1px rgba(60, 64, 67, 0.15);\n",
       "    fill: var(--button-hover-fill-color);\n",
       "  }\n",
       "\n",
       "  .colab-df-quickchart-complete:disabled,\n",
       "  .colab-df-quickchart-complete:disabled:hover {\n",
       "    background-color: var(--disabled-bg-color);\n",
       "    fill: var(--disabled-fill-color);\n",
       "    box-shadow: none;\n",
       "  }\n",
       "\n",
       "  .colab-df-spinner {\n",
       "    border: 2px solid var(--fill-color);\n",
       "    border-color: transparent;\n",
       "    border-bottom-color: var(--fill-color);\n",
       "    animation:\n",
       "      spin 1s steps(1) infinite;\n",
       "  }\n",
       "\n",
       "  @keyframes spin {\n",
       "    0% {\n",
       "      border-color: transparent;\n",
       "      border-bottom-color: var(--fill-color);\n",
       "      border-left-color: var(--fill-color);\n",
       "    }\n",
       "    20% {\n",
       "      border-color: transparent;\n",
       "      border-left-color: var(--fill-color);\n",
       "      border-top-color: var(--fill-color);\n",
       "    }\n",
       "    30% {\n",
       "      border-color: transparent;\n",
       "      border-left-color: var(--fill-color);\n",
       "      border-top-color: var(--fill-color);\n",
       "      border-right-color: var(--fill-color);\n",
       "    }\n",
       "    40% {\n",
       "      border-color: transparent;\n",
       "      border-right-color: var(--fill-color);\n",
       "      border-top-color: var(--fill-color);\n",
       "    }\n",
       "    60% {\n",
       "      border-color: transparent;\n",
       "      border-right-color: var(--fill-color);\n",
       "    }\n",
       "    80% {\n",
       "      border-color: transparent;\n",
       "      border-right-color: var(--fill-color);\n",
       "      border-bottom-color: var(--fill-color);\n",
       "    }\n",
       "    90% {\n",
       "      border-color: transparent;\n",
       "      border-bottom-color: var(--fill-color);\n",
       "    }\n",
       "  }\n",
       "</style>\n",
       "\n",
       "  <script>\n",
       "    async function quickchart(key) {\n",
       "      const quickchartButtonEl =\n",
       "        document.querySelector('#' + key + ' button');\n",
       "      quickchartButtonEl.disabled = true;  // To prevent multiple clicks.\n",
       "      quickchartButtonEl.classList.add('colab-df-spinner');\n",
       "      try {\n",
       "        const charts = await google.colab.kernel.invokeFunction(\n",
       "            'suggestCharts', [key], {});\n",
       "      } catch (error) {\n",
       "        console.error('Error during call to suggestCharts:', error);\n",
       "      }\n",
       "      quickchartButtonEl.classList.remove('colab-df-spinner');\n",
       "      quickchartButtonEl.classList.add('colab-df-quickchart-complete');\n",
       "    }\n",
       "    (() => {\n",
       "      let quickchartButtonEl =\n",
       "        document.querySelector('#df-ec0cc05a-5eed-41b8-b0b5-53ca5500f39f button');\n",
       "      quickchartButtonEl.style.display =\n",
       "        google.colab.kernel.accessAllowed ? 'block' : 'none';\n",
       "    })();\n",
       "  </script>\n",
       "</div>\n",
       "    </div>\n",
       "  </div>\n"
      ],
      "text/plain": [
       "           Area\n",
       "North    136.61\n",
       "Sha Tin   68.71"
      ]
     },
     "metadata": {},
     "output_type": "display_data"
    }
   ],
   "source": [
    "# Can take a 1-argument function. The x passed to the lambda is the DataFrame being sliced.\n",
    "HK_district2.iloc[lambda x: [i for i in range(len(x)) if i % 2 == 0],\n",
    "              lambda x: [i[0]=='A' for i in x.columns]]"
   ]
  },
  {
   "cell_type": "markdown",
   "id": "1ae1c0aa",
   "metadata": {},
   "source": [
    "\n",
    "### 3 Importing and Exporting Data\n",
    "\n",
    "Pandas features a number of [functions](https://pandas.pydata.org/pandas-docs/stable/user_guide/io.html) for reading tabular data as a `DataFrame` object. Among them, [`read_csv()`](https://pandas.pydata.org/pandas-docs/stable/reference/api/pandas.read_csv.html) is likely the one we'll use the most:\n"
   ]
  },
  {
   "cell_type": "code",
   "execution_count": 130,
   "id": "3bc35204",
   "metadata": {},
   "outputs": [
    {
     "data": {
      "text/html": [
       "<div>\n",
       "<style scoped>\n",
       "    .dataframe tbody tr th:only-of-type {\n",
       "        vertical-align: middle;\n",
       "    }\n",
       "\n",
       "    .dataframe tbody tr th {\n",
       "        vertical-align: top;\n",
       "    }\n",
       "\n",
       "    .dataframe thead th {\n",
       "        text-align: right;\n",
       "    }\n",
       "</style>\n",
       "<table border=\"1\" class=\"dataframe\">\n",
       "  <thead>\n",
       "    <tr style=\"text-align: right;\">\n",
       "      <th></th>\n",
       "      <th>Date</th>\n",
       "      <th>GOOG</th>\n",
       "      <th>APPL</th>\n",
       "      <th>AMZN</th>\n",
       "    </tr>\n",
       "  </thead>\n",
       "  <tbody>\n",
       "    <tr>\n",
       "      <th>0</th>\n",
       "      <td>2015/5/1</td>\n",
       "      <td>537.900024</td>\n",
       "      <td>120.220688</td>\n",
       "      <td>422.869995</td>\n",
       "    </tr>\n",
       "    <tr>\n",
       "      <th>1</th>\n",
       "      <td>2015/5/4</td>\n",
       "      <td>540.780029</td>\n",
       "      <td>119.987633</td>\n",
       "      <td>423.040009</td>\n",
       "    </tr>\n",
       "    <tr>\n",
       "      <th>2</th>\n",
       "      <td>2015/5/5</td>\n",
       "      <td>530.799988</td>\n",
       "      <td>117.283951</td>\n",
       "      <td>421.190002</td>\n",
       "    </tr>\n",
       "    <tr>\n",
       "      <th>3</th>\n",
       "      <td>2015/5/6</td>\n",
       "      <td>524.219971</td>\n",
       "      <td>116.547424</td>\n",
       "      <td>419.100006</td>\n",
       "    </tr>\n",
       "  </tbody>\n",
       "</table>\n",
       "</div>"
      ],
      "text/plain": [
       "       Date        GOOG        APPL        AMZN\n",
       "0  2015/5/1  537.900024  120.220688  422.869995\n",
       "1  2015/5/4  540.780029  119.987633  423.040009\n",
       "2  2015/5/5  530.799988  117.283951  421.190002\n",
       "3  2015/5/6  524.219971  116.547424  419.100006"
      ]
     },
     "execution_count": 130,
     "metadata": {},
     "output_type": "execute_result"
    }
   ],
   "source": [
    "sp = pd.read_csv(\"https://raw.githubusercontent.com/daisydream00/datafiles/refs/heads/main/adj_closing_sub.csv\")\n",
    "sp"
   ]
  },
  {
   "cell_type": "markdown",
   "id": "d097b129",
   "metadata": {},
   "source": [
    "\n",
    "### 4 Computing Summary and Descriptive Statistics\n",
    "\n",
    "\n",
    "`DataFrame` objects are equipped with common mathematical and statistical [methods](https://pandas.pydata.org/pandas-docs/stable/reference/frame.html#computations-descriptive-stats) for column-wise computations (or row-wise by setting `axis=1`):\n",
    "\n",
    "- Most of them produce aggregates:\n",
    "\n",
    "\n"
   ]
  },
  {
   "cell_type": "code",
   "execution_count": null,
   "id": "f8cc79dd",
   "metadata": {},
   "outputs": [
    {
     "data": {
      "text/html": [
       "<div>\n",
       "<style scoped>\n",
       "    .dataframe tbody tr th:only-of-type {\n",
       "        vertical-align: middle;\n",
       "    }\n",
       "\n",
       "    .dataframe tbody tr th {\n",
       "        vertical-align: top;\n",
       "    }\n",
       "\n",
       "    .dataframe thead th {\n",
       "        text-align: right;\n",
       "    }\n",
       "</style>\n",
       "<table border=\"1\" class=\"dataframe\">\n",
       "  <thead>\n",
       "    <tr style=\"text-align: right;\">\n",
       "      <th></th>\n",
       "      <th>0</th>\n",
       "    </tr>\n",
       "  </thead>\n",
       "  <tbody>\n",
       "    <tr>\n",
       "      <th>GOOG</th>\n",
       "      <td>533.425003</td>\n",
       "    </tr>\n",
       "    <tr>\n",
       "      <th>APPL</th>\n",
       "      <td>118.509924</td>\n",
       "    </tr>\n",
       "  </tbody>\n",
       "</table>\n",
       "</div><br><label><b>dtype:</b> float64</label>"
      ],
      "text/plain": [
       "GOOG    533.425003\n",
       "APPL    118.509924\n",
       "dtype: float64"
      ]
     },
     "metadata": {},
     "output_type": "display_data"
    }
   ],
   "source": [
    "sp[['GOOG', 'APPL']].mean()"
   ]
  },
  {
   "cell_type": "markdown",
   "id": "46a16a06",
   "metadata": {},
   "source": [
    "The following table summarizes some built-in Pandas aggregations:\n",
    "\n",
    "| Aggregation              | Description                     |\n",
    "|--------------------------|---------------------------------|\n",
    "| ``count()``              | Total number of items           |\n",
    "| ``nunique()``            | Number of distinct items\n",
    "| ``mean()``, ``median()`` | Mean and median                 |\n",
    "| ``min()``, ``max()``     | Minimum and maximum             |\n",
    "| ``std()``, ``var()``     | Standard deviation and variance |\n",
    "| ``mad()``                | Mean absolute deviation         |\n",
    "| ``prod()``               | Product of all items            |\n",
    "| ``sum()``                | Sum of all items                |\n"
   ]
  },
  {
   "cell_type": "markdown",
   "id": "4e44b6a9",
   "metadata": {},
   "source": [
    "- Some statistics are computed from pairs of columns:"
   ]
  },
  {
   "cell_type": "code",
   "execution_count": null,
   "id": "2d37a263",
   "metadata": {},
   "outputs": [
    {
     "data": {
      "application/vnd.google.colaboratory.intrinsic+json": {
       "summary": "{\n  \"name\": \"sp\",\n  \"rows\": 3,\n  \"fields\": [\n    {\n      \"column\": \"GOOG\",\n      \"properties\": {\n        \"dtype\": \"number\",\n        \"std\": 24.18349209326099,\n        \"min\": 13.269121918691017,\n        \"max\": 55.24851276078893,\n        \"num_unique_values\": 3,\n        \"samples\": [\n          55.24851276078893,\n          13.269121918691017,\n          13.454444533302368\n        ],\n        \"semantic_type\": \"\",\n        \"description\": \"\"\n      }\n    },\n    {\n      \"column\": \"APPL\",\n      \"properties\": {\n        \"dtype\": \"number\",\n        \"std\": 5.721051535790905,\n        \"min\": 3.236486896205,\n        \"max\": 13.269121918691017,\n        \"num_unique_values\": 3,\n        \"samples\": [\n          13.269121918691017,\n          3.48825113303532,\n          3.236486896205\n        ],\n        \"semantic_type\": \"\",\n        \"description\": \"\"\n      }\n    },\n    {\n      \"column\": \"AMZN\",\n      \"properties\": {\n        \"dtype\": \"number\",\n        \"std\": 5.862633587955939,\n        \"min\": 3.236486896205,\n        \"max\": 13.454444533302368,\n        \"num_unique_values\": 3,\n        \"samples\": [\n          13.454444533302368,\n          3.236486896205,\n          3.364860926703335\n        ],\n        \"semantic_type\": \"\",\n        \"description\": \"\"\n      }\n    }\n  ]\n}",
       "type": "dataframe"
      },
      "text/html": [
       "\n",
       "  <div id=\"df-12f42163-8223-4001-99a2-d543663b43d7\" class=\"colab-df-container\">\n",
       "    <div>\n",
       "<style scoped>\n",
       "    .dataframe tbody tr th:only-of-type {\n",
       "        vertical-align: middle;\n",
       "    }\n",
       "\n",
       "    .dataframe tbody tr th {\n",
       "        vertical-align: top;\n",
       "    }\n",
       "\n",
       "    .dataframe thead th {\n",
       "        text-align: right;\n",
       "    }\n",
       "</style>\n",
       "<table border=\"1\" class=\"dataframe\">\n",
       "  <thead>\n",
       "    <tr style=\"text-align: right;\">\n",
       "      <th></th>\n",
       "      <th>GOOG</th>\n",
       "      <th>APPL</th>\n",
       "      <th>AMZN</th>\n",
       "    </tr>\n",
       "  </thead>\n",
       "  <tbody>\n",
       "    <tr>\n",
       "      <th>GOOG</th>\n",
       "      <td>55.248513</td>\n",
       "      <td>13.269122</td>\n",
       "      <td>13.454445</td>\n",
       "    </tr>\n",
       "    <tr>\n",
       "      <th>APPL</th>\n",
       "      <td>13.269122</td>\n",
       "      <td>3.488251</td>\n",
       "      <td>3.236487</td>\n",
       "    </tr>\n",
       "    <tr>\n",
       "      <th>AMZN</th>\n",
       "      <td>13.454445</td>\n",
       "      <td>3.236487</td>\n",
       "      <td>3.364861</td>\n",
       "    </tr>\n",
       "  </tbody>\n",
       "</table>\n",
       "</div>\n",
       "    <div class=\"colab-df-buttons\">\n",
       "\n",
       "  <div class=\"colab-df-container\">\n",
       "    <button class=\"colab-df-convert\" onclick=\"convertToInteractive('df-12f42163-8223-4001-99a2-d543663b43d7')\"\n",
       "            title=\"Convert this dataframe to an interactive table.\"\n",
       "            style=\"display:none;\">\n",
       "\n",
       "  <svg xmlns=\"http://www.w3.org/2000/svg\" height=\"24px\" viewBox=\"0 -960 960 960\">\n",
       "    <path d=\"M120-120v-720h720v720H120Zm60-500h600v-160H180v160Zm220 220h160v-160H400v160Zm0 220h160v-160H400v160ZM180-400h160v-160H180v160Zm440 0h160v-160H620v160ZM180-180h160v-160H180v160Zm440 0h160v-160H620v160Z\"/>\n",
       "  </svg>\n",
       "    </button>\n",
       "\n",
       "  <style>\n",
       "    .colab-df-container {\n",
       "      display:flex;\n",
       "      gap: 12px;\n",
       "    }\n",
       "\n",
       "    .colab-df-convert {\n",
       "      background-color: #E8F0FE;\n",
       "      border: none;\n",
       "      border-radius: 50%;\n",
       "      cursor: pointer;\n",
       "      display: none;\n",
       "      fill: #1967D2;\n",
       "      height: 32px;\n",
       "      padding: 0 0 0 0;\n",
       "      width: 32px;\n",
       "    }\n",
       "\n",
       "    .colab-df-convert:hover {\n",
       "      background-color: #E2EBFA;\n",
       "      box-shadow: 0px 1px 2px rgba(60, 64, 67, 0.3), 0px 1px 3px 1px rgba(60, 64, 67, 0.15);\n",
       "      fill: #174EA6;\n",
       "    }\n",
       "\n",
       "    .colab-df-buttons div {\n",
       "      margin-bottom: 4px;\n",
       "    }\n",
       "\n",
       "    [theme=dark] .colab-df-convert {\n",
       "      background-color: #3B4455;\n",
       "      fill: #D2E3FC;\n",
       "    }\n",
       "\n",
       "    [theme=dark] .colab-df-convert:hover {\n",
       "      background-color: #434B5C;\n",
       "      box-shadow: 0px 1px 3px 1px rgba(0, 0, 0, 0.15);\n",
       "      filter: drop-shadow(0px 1px 2px rgba(0, 0, 0, 0.3));\n",
       "      fill: #FFFFFF;\n",
       "    }\n",
       "  </style>\n",
       "\n",
       "    <script>\n",
       "      const buttonEl =\n",
       "        document.querySelector('#df-12f42163-8223-4001-99a2-d543663b43d7 button.colab-df-convert');\n",
       "      buttonEl.style.display =\n",
       "        google.colab.kernel.accessAllowed ? 'block' : 'none';\n",
       "\n",
       "      async function convertToInteractive(key) {\n",
       "        const element = document.querySelector('#df-12f42163-8223-4001-99a2-d543663b43d7');\n",
       "        const dataTable =\n",
       "          await google.colab.kernel.invokeFunction('convertToInteractive',\n",
       "                                                    [key], {});\n",
       "        if (!dataTable) return;\n",
       "\n",
       "        const docLinkHtml = 'Like what you see? Visit the ' +\n",
       "          '<a target=\"_blank\" href=https://colab.research.google.com/notebooks/data_table.ipynb>data table notebook</a>'\n",
       "          + ' to learn more about interactive tables.';\n",
       "        element.innerHTML = '';\n",
       "        dataTable['output_type'] = 'display_data';\n",
       "        await google.colab.output.renderOutput(dataTable, element);\n",
       "        const docLink = document.createElement('div');\n",
       "        docLink.innerHTML = docLinkHtml;\n",
       "        element.appendChild(docLink);\n",
       "      }\n",
       "    </script>\n",
       "  </div>\n",
       "\n",
       "\n",
       "<div id=\"df-62b9aed8-9046-453f-a89e-66b1ca0f99ad\">\n",
       "  <button class=\"colab-df-quickchart\" onclick=\"quickchart('df-62b9aed8-9046-453f-a89e-66b1ca0f99ad')\"\n",
       "            title=\"Suggest charts\"\n",
       "            style=\"display:none;\">\n",
       "\n",
       "<svg xmlns=\"http://www.w3.org/2000/svg\" height=\"24px\"viewBox=\"0 0 24 24\"\n",
       "     width=\"24px\">\n",
       "    <g>\n",
       "        <path d=\"M19 3H5c-1.1 0-2 .9-2 2v14c0 1.1.9 2 2 2h14c1.1 0 2-.9 2-2V5c0-1.1-.9-2-2-2zM9 17H7v-7h2v7zm4 0h-2V7h2v10zm4 0h-2v-4h2v4z\"/>\n",
       "    </g>\n",
       "</svg>\n",
       "  </button>\n",
       "\n",
       "<style>\n",
       "  .colab-df-quickchart {\n",
       "      --bg-color: #E8F0FE;\n",
       "      --fill-color: #1967D2;\n",
       "      --hover-bg-color: #E2EBFA;\n",
       "      --hover-fill-color: #174EA6;\n",
       "      --disabled-fill-color: #AAA;\n",
       "      --disabled-bg-color: #DDD;\n",
       "  }\n",
       "\n",
       "  [theme=dark] .colab-df-quickchart {\n",
       "      --bg-color: #3B4455;\n",
       "      --fill-color: #D2E3FC;\n",
       "      --hover-bg-color: #434B5C;\n",
       "      --hover-fill-color: #FFFFFF;\n",
       "      --disabled-bg-color: #3B4455;\n",
       "      --disabled-fill-color: #666;\n",
       "  }\n",
       "\n",
       "  .colab-df-quickchart {\n",
       "    background-color: var(--bg-color);\n",
       "    border: none;\n",
       "    border-radius: 50%;\n",
       "    cursor: pointer;\n",
       "    display: none;\n",
       "    fill: var(--fill-color);\n",
       "    height: 32px;\n",
       "    padding: 0;\n",
       "    width: 32px;\n",
       "  }\n",
       "\n",
       "  .colab-df-quickchart:hover {\n",
       "    background-color: var(--hover-bg-color);\n",
       "    box-shadow: 0 1px 2px rgba(60, 64, 67, 0.3), 0 1px 3px 1px rgba(60, 64, 67, 0.15);\n",
       "    fill: var(--button-hover-fill-color);\n",
       "  }\n",
       "\n",
       "  .colab-df-quickchart-complete:disabled,\n",
       "  .colab-df-quickchart-complete:disabled:hover {\n",
       "    background-color: var(--disabled-bg-color);\n",
       "    fill: var(--disabled-fill-color);\n",
       "    box-shadow: none;\n",
       "  }\n",
       "\n",
       "  .colab-df-spinner {\n",
       "    border: 2px solid var(--fill-color);\n",
       "    border-color: transparent;\n",
       "    border-bottom-color: var(--fill-color);\n",
       "    animation:\n",
       "      spin 1s steps(1) infinite;\n",
       "  }\n",
       "\n",
       "  @keyframes spin {\n",
       "    0% {\n",
       "      border-color: transparent;\n",
       "      border-bottom-color: var(--fill-color);\n",
       "      border-left-color: var(--fill-color);\n",
       "    }\n",
       "    20% {\n",
       "      border-color: transparent;\n",
       "      border-left-color: var(--fill-color);\n",
       "      border-top-color: var(--fill-color);\n",
       "    }\n",
       "    30% {\n",
       "      border-color: transparent;\n",
       "      border-left-color: var(--fill-color);\n",
       "      border-top-color: var(--fill-color);\n",
       "      border-right-color: var(--fill-color);\n",
       "    }\n",
       "    40% {\n",
       "      border-color: transparent;\n",
       "      border-right-color: var(--fill-color);\n",
       "      border-top-color: var(--fill-color);\n",
       "    }\n",
       "    60% {\n",
       "      border-color: transparent;\n",
       "      border-right-color: var(--fill-color);\n",
       "    }\n",
       "    80% {\n",
       "      border-color: transparent;\n",
       "      border-right-color: var(--fill-color);\n",
       "      border-bottom-color: var(--fill-color);\n",
       "    }\n",
       "    90% {\n",
       "      border-color: transparent;\n",
       "      border-bottom-color: var(--fill-color);\n",
       "    }\n",
       "  }\n",
       "</style>\n",
       "\n",
       "  <script>\n",
       "    async function quickchart(key) {\n",
       "      const quickchartButtonEl =\n",
       "        document.querySelector('#' + key + ' button');\n",
       "      quickchartButtonEl.disabled = true;  // To prevent multiple clicks.\n",
       "      quickchartButtonEl.classList.add('colab-df-spinner');\n",
       "      try {\n",
       "        const charts = await google.colab.kernel.invokeFunction(\n",
       "            'suggestCharts', [key], {});\n",
       "      } catch (error) {\n",
       "        console.error('Error during call to suggestCharts:', error);\n",
       "      }\n",
       "      quickchartButtonEl.classList.remove('colab-df-spinner');\n",
       "      quickchartButtonEl.classList.add('colab-df-quickchart-complete');\n",
       "    }\n",
       "    (() => {\n",
       "      let quickchartButtonEl =\n",
       "        document.querySelector('#df-62b9aed8-9046-453f-a89e-66b1ca0f99ad button');\n",
       "      quickchartButtonEl.style.display =\n",
       "        google.colab.kernel.accessAllowed ? 'block' : 'none';\n",
       "    })();\n",
       "  </script>\n",
       "</div>\n",
       "    </div>\n",
       "  </div>\n"
      ],
      "text/plain": [
       "           GOOG       APPL       AMZN\n",
       "GOOG  55.248513  13.269122  13.454445\n",
       "APPL  13.269122   3.488251   3.236487\n",
       "AMZN  13.454445   3.236487   3.364861"
      ]
     },
     "metadata": {},
     "output_type": "display_data"
    }
   ],
   "source": [
    "sp.cov(numeric_only=True)"
   ]
  },
  {
   "cell_type": "code",
   "execution_count": null,
   "id": "1d870a08",
   "metadata": {},
   "outputs": [
    {
     "data": {
      "application/vnd.google.colaboratory.intrinsic+json": {
       "summary": "{\n  \"name\": \"sp[['APPL', 'AMZN']]\",\n  \"rows\": 2,\n  \"fields\": [\n    {\n      \"column\": \"APPL\",\n      \"properties\": {\n        \"dtype\": \"number\",\n        \"std\": 0.17802419912297515,\n        \"min\": 3.236486896205,\n        \"max\": 3.48825113303532,\n        \"num_unique_values\": 2,\n        \"samples\": [\n          3.236486896205,\n          3.48825113303532\n        ],\n        \"semantic_type\": \"\",\n        \"description\": \"\"\n      }\n    },\n    {\n      \"column\": \"AMZN\",\n      \"properties\": {\n        \"dtype\": \"number\",\n        \"std\": 0.09077414749362132,\n        \"min\": 3.236486896205,\n        \"max\": 3.364860926703335,\n        \"num_unique_values\": 2,\n        \"samples\": [\n          3.364860926703335,\n          3.236486896205\n        ],\n        \"semantic_type\": \"\",\n        \"description\": \"\"\n      }\n    }\n  ]\n}",
       "type": "dataframe"
      },
      "text/html": [
       "\n",
       "  <div id=\"df-daa50798-ab87-4beb-8c0b-4a17bdd966b4\" class=\"colab-df-container\">\n",
       "    <div>\n",
       "<style scoped>\n",
       "    .dataframe tbody tr th:only-of-type {\n",
       "        vertical-align: middle;\n",
       "    }\n",
       "\n",
       "    .dataframe tbody tr th {\n",
       "        vertical-align: top;\n",
       "    }\n",
       "\n",
       "    .dataframe thead th {\n",
       "        text-align: right;\n",
       "    }\n",
       "</style>\n",
       "<table border=\"1\" class=\"dataframe\">\n",
       "  <thead>\n",
       "    <tr style=\"text-align: right;\">\n",
       "      <th></th>\n",
       "      <th>APPL</th>\n",
       "      <th>AMZN</th>\n",
       "    </tr>\n",
       "  </thead>\n",
       "  <tbody>\n",
       "    <tr>\n",
       "      <th>APPL</th>\n",
       "      <td>3.488251</td>\n",
       "      <td>3.236487</td>\n",
       "    </tr>\n",
       "    <tr>\n",
       "      <th>AMZN</th>\n",
       "      <td>3.236487</td>\n",
       "      <td>3.364861</td>\n",
       "    </tr>\n",
       "  </tbody>\n",
       "</table>\n",
       "</div>\n",
       "    <div class=\"colab-df-buttons\">\n",
       "\n",
       "  <div class=\"colab-df-container\">\n",
       "    <button class=\"colab-df-convert\" onclick=\"convertToInteractive('df-daa50798-ab87-4beb-8c0b-4a17bdd966b4')\"\n",
       "            title=\"Convert this dataframe to an interactive table.\"\n",
       "            style=\"display:none;\">\n",
       "\n",
       "  <svg xmlns=\"http://www.w3.org/2000/svg\" height=\"24px\" viewBox=\"0 -960 960 960\">\n",
       "    <path d=\"M120-120v-720h720v720H120Zm60-500h600v-160H180v160Zm220 220h160v-160H400v160Zm0 220h160v-160H400v160ZM180-400h160v-160H180v160Zm440 0h160v-160H620v160ZM180-180h160v-160H180v160Zm440 0h160v-160H620v160Z\"/>\n",
       "  </svg>\n",
       "    </button>\n",
       "\n",
       "  <style>\n",
       "    .colab-df-container {\n",
       "      display:flex;\n",
       "      gap: 12px;\n",
       "    }\n",
       "\n",
       "    .colab-df-convert {\n",
       "      background-color: #E8F0FE;\n",
       "      border: none;\n",
       "      border-radius: 50%;\n",
       "      cursor: pointer;\n",
       "      display: none;\n",
       "      fill: #1967D2;\n",
       "      height: 32px;\n",
       "      padding: 0 0 0 0;\n",
       "      width: 32px;\n",
       "    }\n",
       "\n",
       "    .colab-df-convert:hover {\n",
       "      background-color: #E2EBFA;\n",
       "      box-shadow: 0px 1px 2px rgba(60, 64, 67, 0.3), 0px 1px 3px 1px rgba(60, 64, 67, 0.15);\n",
       "      fill: #174EA6;\n",
       "    }\n",
       "\n",
       "    .colab-df-buttons div {\n",
       "      margin-bottom: 4px;\n",
       "    }\n",
       "\n",
       "    [theme=dark] .colab-df-convert {\n",
       "      background-color: #3B4455;\n",
       "      fill: #D2E3FC;\n",
       "    }\n",
       "\n",
       "    [theme=dark] .colab-df-convert:hover {\n",
       "      background-color: #434B5C;\n",
       "      box-shadow: 0px 1px 3px 1px rgba(0, 0, 0, 0.15);\n",
       "      filter: drop-shadow(0px 1px 2px rgba(0, 0, 0, 0.3));\n",
       "      fill: #FFFFFF;\n",
       "    }\n",
       "  </style>\n",
       "\n",
       "    <script>\n",
       "      const buttonEl =\n",
       "        document.querySelector('#df-daa50798-ab87-4beb-8c0b-4a17bdd966b4 button.colab-df-convert');\n",
       "      buttonEl.style.display =\n",
       "        google.colab.kernel.accessAllowed ? 'block' : 'none';\n",
       "\n",
       "      async function convertToInteractive(key) {\n",
       "        const element = document.querySelector('#df-daa50798-ab87-4beb-8c0b-4a17bdd966b4');\n",
       "        const dataTable =\n",
       "          await google.colab.kernel.invokeFunction('convertToInteractive',\n",
       "                                                    [key], {});\n",
       "        if (!dataTable) return;\n",
       "\n",
       "        const docLinkHtml = 'Like what you see? Visit the ' +\n",
       "          '<a target=\"_blank\" href=https://colab.research.google.com/notebooks/data_table.ipynb>data table notebook</a>'\n",
       "          + ' to learn more about interactive tables.';\n",
       "        element.innerHTML = '';\n",
       "        dataTable['output_type'] = 'display_data';\n",
       "        await google.colab.output.renderOutput(dataTable, element);\n",
       "        const docLink = document.createElement('div');\n",
       "        docLink.innerHTML = docLinkHtml;\n",
       "        element.appendChild(docLink);\n",
       "      }\n",
       "    </script>\n",
       "  </div>\n",
       "\n",
       "\n",
       "<div id=\"df-07dfb28b-fdaf-473f-b281-3dd1b614b5fd\">\n",
       "  <button class=\"colab-df-quickchart\" onclick=\"quickchart('df-07dfb28b-fdaf-473f-b281-3dd1b614b5fd')\"\n",
       "            title=\"Suggest charts\"\n",
       "            style=\"display:none;\">\n",
       "\n",
       "<svg xmlns=\"http://www.w3.org/2000/svg\" height=\"24px\"viewBox=\"0 0 24 24\"\n",
       "     width=\"24px\">\n",
       "    <g>\n",
       "        <path d=\"M19 3H5c-1.1 0-2 .9-2 2v14c0 1.1.9 2 2 2h14c1.1 0 2-.9 2-2V5c0-1.1-.9-2-2-2zM9 17H7v-7h2v7zm4 0h-2V7h2v10zm4 0h-2v-4h2v4z\"/>\n",
       "    </g>\n",
       "</svg>\n",
       "  </button>\n",
       "\n",
       "<style>\n",
       "  .colab-df-quickchart {\n",
       "      --bg-color: #E8F0FE;\n",
       "      --fill-color: #1967D2;\n",
       "      --hover-bg-color: #E2EBFA;\n",
       "      --hover-fill-color: #174EA6;\n",
       "      --disabled-fill-color: #AAA;\n",
       "      --disabled-bg-color: #DDD;\n",
       "  }\n",
       "\n",
       "  [theme=dark] .colab-df-quickchart {\n",
       "      --bg-color: #3B4455;\n",
       "      --fill-color: #D2E3FC;\n",
       "      --hover-bg-color: #434B5C;\n",
       "      --hover-fill-color: #FFFFFF;\n",
       "      --disabled-bg-color: #3B4455;\n",
       "      --disabled-fill-color: #666;\n",
       "  }\n",
       "\n",
       "  .colab-df-quickchart {\n",
       "    background-color: var(--bg-color);\n",
       "    border: none;\n",
       "    border-radius: 50%;\n",
       "    cursor: pointer;\n",
       "    display: none;\n",
       "    fill: var(--fill-color);\n",
       "    height: 32px;\n",
       "    padding: 0;\n",
       "    width: 32px;\n",
       "  }\n",
       "\n",
       "  .colab-df-quickchart:hover {\n",
       "    background-color: var(--hover-bg-color);\n",
       "    box-shadow: 0 1px 2px rgba(60, 64, 67, 0.3), 0 1px 3px 1px rgba(60, 64, 67, 0.15);\n",
       "    fill: var(--button-hover-fill-color);\n",
       "  }\n",
       "\n",
       "  .colab-df-quickchart-complete:disabled,\n",
       "  .colab-df-quickchart-complete:disabled:hover {\n",
       "    background-color: var(--disabled-bg-color);\n",
       "    fill: var(--disabled-fill-color);\n",
       "    box-shadow: none;\n",
       "  }\n",
       "\n",
       "  .colab-df-spinner {\n",
       "    border: 2px solid var(--fill-color);\n",
       "    border-color: transparent;\n",
       "    border-bottom-color: var(--fill-color);\n",
       "    animation:\n",
       "      spin 1s steps(1) infinite;\n",
       "  }\n",
       "\n",
       "  @keyframes spin {\n",
       "    0% {\n",
       "      border-color: transparent;\n",
       "      border-bottom-color: var(--fill-color);\n",
       "      border-left-color: var(--fill-color);\n",
       "    }\n",
       "    20% {\n",
       "      border-color: transparent;\n",
       "      border-left-color: var(--fill-color);\n",
       "      border-top-color: var(--fill-color);\n",
       "    }\n",
       "    30% {\n",
       "      border-color: transparent;\n",
       "      border-left-color: var(--fill-color);\n",
       "      border-top-color: var(--fill-color);\n",
       "      border-right-color: var(--fill-color);\n",
       "    }\n",
       "    40% {\n",
       "      border-color: transparent;\n",
       "      border-right-color: var(--fill-color);\n",
       "      border-top-color: var(--fill-color);\n",
       "    }\n",
       "    60% {\n",
       "      border-color: transparent;\n",
       "      border-right-color: var(--fill-color);\n",
       "    }\n",
       "    80% {\n",
       "      border-color: transparent;\n",
       "      border-right-color: var(--fill-color);\n",
       "      border-bottom-color: var(--fill-color);\n",
       "    }\n",
       "    90% {\n",
       "      border-color: transparent;\n",
       "      border-bottom-color: var(--fill-color);\n",
       "    }\n",
       "  }\n",
       "</style>\n",
       "\n",
       "  <script>\n",
       "    async function quickchart(key) {\n",
       "      const quickchartButtonEl =\n",
       "        document.querySelector('#' + key + ' button');\n",
       "      quickchartButtonEl.disabled = true;  // To prevent multiple clicks.\n",
       "      quickchartButtonEl.classList.add('colab-df-spinner');\n",
       "      try {\n",
       "        const charts = await google.colab.kernel.invokeFunction(\n",
       "            'suggestCharts', [key], {});\n",
       "      } catch (error) {\n",
       "        console.error('Error during call to suggestCharts:', error);\n",
       "      }\n",
       "      quickchartButtonEl.classList.remove('colab-df-spinner');\n",
       "      quickchartButtonEl.classList.add('colab-df-quickchart-complete');\n",
       "    }\n",
       "    (() => {\n",
       "      let quickchartButtonEl =\n",
       "        document.querySelector('#df-07dfb28b-fdaf-473f-b281-3dd1b614b5fd button');\n",
       "      quickchartButtonEl.style.display =\n",
       "        google.colab.kernel.accessAllowed ? 'block' : 'none';\n",
       "    })();\n",
       "  </script>\n",
       "</div>\n",
       "    </div>\n",
       "  </div>\n"
      ],
      "text/plain": [
       "          APPL      AMZN\n",
       "APPL  3.488251  3.236487\n",
       "AMZN  3.236487  3.364861"
      ]
     },
     "metadata": {},
     "output_type": "display_data"
    }
   ],
   "source": [
    "sp[['APPL', 'AMZN']].cov()"
   ]
  },
  {
   "cell_type": "markdown",
   "id": "07609421",
   "metadata": {},
   "source": [
    "- Some produce multiple summary statistics in one shot:"
   ]
  },
  {
   "cell_type": "code",
   "execution_count": 131,
   "id": "f48bf4eb",
   "metadata": {},
   "outputs": [
    {
     "data": {
      "text/html": [
       "<div>\n",
       "<style scoped>\n",
       "    .dataframe tbody tr th:only-of-type {\n",
       "        vertical-align: middle;\n",
       "    }\n",
       "\n",
       "    .dataframe tbody tr th {\n",
       "        vertical-align: top;\n",
       "    }\n",
       "\n",
       "    .dataframe thead th {\n",
       "        text-align: right;\n",
       "    }\n",
       "</style>\n",
       "<table border=\"1\" class=\"dataframe\">\n",
       "  <thead>\n",
       "    <tr style=\"text-align: right;\">\n",
       "      <th></th>\n",
       "      <th>GOOG</th>\n",
       "      <th>APPL</th>\n",
       "      <th>AMZN</th>\n",
       "    </tr>\n",
       "  </thead>\n",
       "  <tbody>\n",
       "    <tr>\n",
       "      <th>count</th>\n",
       "      <td>4.000000</td>\n",
       "      <td>4.000000</td>\n",
       "      <td>4.000000</td>\n",
       "    </tr>\n",
       "    <tr>\n",
       "      <th>mean</th>\n",
       "      <td>533.425003</td>\n",
       "      <td>118.509924</td>\n",
       "      <td>421.550003</td>\n",
       "    </tr>\n",
       "    <tr>\n",
       "      <th>std</th>\n",
       "      <td>7.432934</td>\n",
       "      <td>1.867686</td>\n",
       "      <td>1.834356</td>\n",
       "    </tr>\n",
       "    <tr>\n",
       "      <th>min</th>\n",
       "      <td>524.219971</td>\n",
       "      <td>116.547424</td>\n",
       "      <td>419.100006</td>\n",
       "    </tr>\n",
       "    <tr>\n",
       "      <th>25%</th>\n",
       "      <td>529.154984</td>\n",
       "      <td>117.099819</td>\n",
       "      <td>420.667503</td>\n",
       "    </tr>\n",
       "    <tr>\n",
       "      <th>50%</th>\n",
       "      <td>534.350006</td>\n",
       "      <td>118.635792</td>\n",
       "      <td>422.029999</td>\n",
       "    </tr>\n",
       "    <tr>\n",
       "      <th>75%</th>\n",
       "      <td>538.620025</td>\n",
       "      <td>120.045897</td>\n",
       "      <td>422.912499</td>\n",
       "    </tr>\n",
       "    <tr>\n",
       "      <th>max</th>\n",
       "      <td>540.780029</td>\n",
       "      <td>120.220688</td>\n",
       "      <td>423.040009</td>\n",
       "    </tr>\n",
       "  </tbody>\n",
       "</table>\n",
       "</div>"
      ],
      "text/plain": [
       "             GOOG        APPL        AMZN\n",
       "count    4.000000    4.000000    4.000000\n",
       "mean   533.425003  118.509924  421.550003\n",
       "std      7.432934    1.867686    1.834356\n",
       "min    524.219971  116.547424  419.100006\n",
       "25%    529.154984  117.099819  420.667503\n",
       "50%    534.350006  118.635792  422.029999\n",
       "75%    538.620025  120.045897  422.912499\n",
       "max    540.780029  120.220688  423.040009"
      ]
     },
     "execution_count": 131,
     "metadata": {},
     "output_type": "execute_result"
    }
   ],
   "source": [
    "# by default, summarize numeric columns only\n",
    "sp.describe()"
   ]
  },
  {
   "cell_type": "markdown",
   "id": "91e6966c",
   "metadata": {},
   "source": [
    "\n",
    "### 5 Handling Missing Values"
   ]
  },
  {
   "cell_type": "code",
   "execution_count": null,
   "id": "a76da40b",
   "metadata": {},
   "outputs": [
    {
     "data": {
      "application/vnd.google.colaboratory.intrinsic+json": {
       "summary": "{\n  \"name\": \"df_w_nan\",\n  \"rows\": 3,\n  \"fields\": [\n    {\n      \"column\": \"A\",\n      \"properties\": {\n        \"dtype\": \"number\",\n        \"std\": 0.7071067811865476,\n        \"min\": 1.0,\n        \"max\": 2.0,\n        \"num_unique_values\": 2,\n        \"samples\": [\n          2.0,\n          1.0\n        ],\n        \"semantic_type\": \"\",\n        \"description\": \"\"\n      }\n    },\n    {\n      \"column\": \"B\",\n      \"properties\": {\n        \"dtype\": \"number\",\n        \"std\": null,\n        \"min\": 5.0,\n        \"max\": 5.0,\n        \"num_unique_values\": 1,\n        \"samples\": [\n          5.0\n        ],\n        \"semantic_type\": \"\",\n        \"description\": \"\"\n      }\n    },\n    {\n      \"column\": \"C\",\n      \"properties\": {\n        \"dtype\": \"number\",\n        \"std\": 1,\n        \"min\": 4,\n        \"max\": 6,\n        \"num_unique_values\": 3,\n        \"samples\": [\n          4\n        ],\n        \"semantic_type\": \"\",\n        \"description\": \"\"\n      }\n    }\n  ]\n}",
       "type": "dataframe",
       "variable_name": "df_w_nan"
      },
      "text/html": [
       "\n",
       "  <div id=\"df-4656f8ba-47c9-4c78-8d38-acf62c32e9b4\" class=\"colab-df-container\">\n",
       "    <div>\n",
       "<style scoped>\n",
       "    .dataframe tbody tr th:only-of-type {\n",
       "        vertical-align: middle;\n",
       "    }\n",
       "\n",
       "    .dataframe tbody tr th {\n",
       "        vertical-align: top;\n",
       "    }\n",
       "\n",
       "    .dataframe thead th {\n",
       "        text-align: right;\n",
       "    }\n",
       "</style>\n",
       "<table border=\"1\" class=\"dataframe\">\n",
       "  <thead>\n",
       "    <tr style=\"text-align: right;\">\n",
       "      <th></th>\n",
       "      <th>A</th>\n",
       "      <th>B</th>\n",
       "      <th>C</th>\n",
       "    </tr>\n",
       "  </thead>\n",
       "  <tbody>\n",
       "    <tr>\n",
       "      <th>0</th>\n",
       "      <td>1.0</td>\n",
       "      <td>5.0</td>\n",
       "      <td>4</td>\n",
       "    </tr>\n",
       "    <tr>\n",
       "      <th>1</th>\n",
       "      <td>2.0</td>\n",
       "      <td>NaN</td>\n",
       "      <td>5</td>\n",
       "    </tr>\n",
       "    <tr>\n",
       "      <th>2</th>\n",
       "      <td>NaN</td>\n",
       "      <td>NaN</td>\n",
       "      <td>6</td>\n",
       "    </tr>\n",
       "  </tbody>\n",
       "</table>\n",
       "</div>\n",
       "    <div class=\"colab-df-buttons\">\n",
       "\n",
       "  <div class=\"colab-df-container\">\n",
       "    <button class=\"colab-df-convert\" onclick=\"convertToInteractive('df-4656f8ba-47c9-4c78-8d38-acf62c32e9b4')\"\n",
       "            title=\"Convert this dataframe to an interactive table.\"\n",
       "            style=\"display:none;\">\n",
       "\n",
       "  <svg xmlns=\"http://www.w3.org/2000/svg\" height=\"24px\" viewBox=\"0 -960 960 960\">\n",
       "    <path d=\"M120-120v-720h720v720H120Zm60-500h600v-160H180v160Zm220 220h160v-160H400v160Zm0 220h160v-160H400v160ZM180-400h160v-160H180v160Zm440 0h160v-160H620v160ZM180-180h160v-160H180v160Zm440 0h160v-160H620v160Z\"/>\n",
       "  </svg>\n",
       "    </button>\n",
       "\n",
       "  <style>\n",
       "    .colab-df-container {\n",
       "      display:flex;\n",
       "      gap: 12px;\n",
       "    }\n",
       "\n",
       "    .colab-df-convert {\n",
       "      background-color: #E8F0FE;\n",
       "      border: none;\n",
       "      border-radius: 50%;\n",
       "      cursor: pointer;\n",
       "      display: none;\n",
       "      fill: #1967D2;\n",
       "      height: 32px;\n",
       "      padding: 0 0 0 0;\n",
       "      width: 32px;\n",
       "    }\n",
       "\n",
       "    .colab-df-convert:hover {\n",
       "      background-color: #E2EBFA;\n",
       "      box-shadow: 0px 1px 2px rgba(60, 64, 67, 0.3), 0px 1px 3px 1px rgba(60, 64, 67, 0.15);\n",
       "      fill: #174EA6;\n",
       "    }\n",
       "\n",
       "    .colab-df-buttons div {\n",
       "      margin-bottom: 4px;\n",
       "    }\n",
       "\n",
       "    [theme=dark] .colab-df-convert {\n",
       "      background-color: #3B4455;\n",
       "      fill: #D2E3FC;\n",
       "    }\n",
       "\n",
       "    [theme=dark] .colab-df-convert:hover {\n",
       "      background-color: #434B5C;\n",
       "      box-shadow: 0px 1px 3px 1px rgba(0, 0, 0, 0.15);\n",
       "      filter: drop-shadow(0px 1px 2px rgba(0, 0, 0, 0.3));\n",
       "      fill: #FFFFFF;\n",
       "    }\n",
       "  </style>\n",
       "\n",
       "    <script>\n",
       "      const buttonEl =\n",
       "        document.querySelector('#df-4656f8ba-47c9-4c78-8d38-acf62c32e9b4 button.colab-df-convert');\n",
       "      buttonEl.style.display =\n",
       "        google.colab.kernel.accessAllowed ? 'block' : 'none';\n",
       "\n",
       "      async function convertToInteractive(key) {\n",
       "        const element = document.querySelector('#df-4656f8ba-47c9-4c78-8d38-acf62c32e9b4');\n",
       "        const dataTable =\n",
       "          await google.colab.kernel.invokeFunction('convertToInteractive',\n",
       "                                                    [key], {});\n",
       "        if (!dataTable) return;\n",
       "\n",
       "        const docLinkHtml = 'Like what you see? Visit the ' +\n",
       "          '<a target=\"_blank\" href=https://colab.research.google.com/notebooks/data_table.ipynb>data table notebook</a>'\n",
       "          + ' to learn more about interactive tables.';\n",
       "        element.innerHTML = '';\n",
       "        dataTable['output_type'] = 'display_data';\n",
       "        await google.colab.output.renderOutput(dataTable, element);\n",
       "        const docLink = document.createElement('div');\n",
       "        docLink.innerHTML = docLinkHtml;\n",
       "        element.appendChild(docLink);\n",
       "      }\n",
       "    </script>\n",
       "  </div>\n",
       "\n",
       "\n",
       "<div id=\"df-070ba2fb-ad74-4c55-914d-6b330042c582\">\n",
       "  <button class=\"colab-df-quickchart\" onclick=\"quickchart('df-070ba2fb-ad74-4c55-914d-6b330042c582')\"\n",
       "            title=\"Suggest charts\"\n",
       "            style=\"display:none;\">\n",
       "\n",
       "<svg xmlns=\"http://www.w3.org/2000/svg\" height=\"24px\"viewBox=\"0 0 24 24\"\n",
       "     width=\"24px\">\n",
       "    <g>\n",
       "        <path d=\"M19 3H5c-1.1 0-2 .9-2 2v14c0 1.1.9 2 2 2h14c1.1 0 2-.9 2-2V5c0-1.1-.9-2-2-2zM9 17H7v-7h2v7zm4 0h-2V7h2v10zm4 0h-2v-4h2v4z\"/>\n",
       "    </g>\n",
       "</svg>\n",
       "  </button>\n",
       "\n",
       "<style>\n",
       "  .colab-df-quickchart {\n",
       "      --bg-color: #E8F0FE;\n",
       "      --fill-color: #1967D2;\n",
       "      --hover-bg-color: #E2EBFA;\n",
       "      --hover-fill-color: #174EA6;\n",
       "      --disabled-fill-color: #AAA;\n",
       "      --disabled-bg-color: #DDD;\n",
       "  }\n",
       "\n",
       "  [theme=dark] .colab-df-quickchart {\n",
       "      --bg-color: #3B4455;\n",
       "      --fill-color: #D2E3FC;\n",
       "      --hover-bg-color: #434B5C;\n",
       "      --hover-fill-color: #FFFFFF;\n",
       "      --disabled-bg-color: #3B4455;\n",
       "      --disabled-fill-color: #666;\n",
       "  }\n",
       "\n",
       "  .colab-df-quickchart {\n",
       "    background-color: var(--bg-color);\n",
       "    border: none;\n",
       "    border-radius: 50%;\n",
       "    cursor: pointer;\n",
       "    display: none;\n",
       "    fill: var(--fill-color);\n",
       "    height: 32px;\n",
       "    padding: 0;\n",
       "    width: 32px;\n",
       "  }\n",
       "\n",
       "  .colab-df-quickchart:hover {\n",
       "    background-color: var(--hover-bg-color);\n",
       "    box-shadow: 0 1px 2px rgba(60, 64, 67, 0.3), 0 1px 3px 1px rgba(60, 64, 67, 0.15);\n",
       "    fill: var(--button-hover-fill-color);\n",
       "  }\n",
       "\n",
       "  .colab-df-quickchart-complete:disabled,\n",
       "  .colab-df-quickchart-complete:disabled:hover {\n",
       "    background-color: var(--disabled-bg-color);\n",
       "    fill: var(--disabled-fill-color);\n",
       "    box-shadow: none;\n",
       "  }\n",
       "\n",
       "  .colab-df-spinner {\n",
       "    border: 2px solid var(--fill-color);\n",
       "    border-color: transparent;\n",
       "    border-bottom-color: var(--fill-color);\n",
       "    animation:\n",
       "      spin 1s steps(1) infinite;\n",
       "  }\n",
       "\n",
       "  @keyframes spin {\n",
       "    0% {\n",
       "      border-color: transparent;\n",
       "      border-bottom-color: var(--fill-color);\n",
       "      border-left-color: var(--fill-color);\n",
       "    }\n",
       "    20% {\n",
       "      border-color: transparent;\n",
       "      border-left-color: var(--fill-color);\n",
       "      border-top-color: var(--fill-color);\n",
       "    }\n",
       "    30% {\n",
       "      border-color: transparent;\n",
       "      border-left-color: var(--fill-color);\n",
       "      border-top-color: var(--fill-color);\n",
       "      border-right-color: var(--fill-color);\n",
       "    }\n",
       "    40% {\n",
       "      border-color: transparent;\n",
       "      border-right-color: var(--fill-color);\n",
       "      border-top-color: var(--fill-color);\n",
       "    }\n",
       "    60% {\n",
       "      border-color: transparent;\n",
       "      border-right-color: var(--fill-color);\n",
       "    }\n",
       "    80% {\n",
       "      border-color: transparent;\n",
       "      border-right-color: var(--fill-color);\n",
       "      border-bottom-color: var(--fill-color);\n",
       "    }\n",
       "    90% {\n",
       "      border-color: transparent;\n",
       "      border-bottom-color: var(--fill-color);\n",
       "    }\n",
       "  }\n",
       "</style>\n",
       "\n",
       "  <script>\n",
       "    async function quickchart(key) {\n",
       "      const quickchartButtonEl =\n",
       "        document.querySelector('#' + key + ' button');\n",
       "      quickchartButtonEl.disabled = true;  // To prevent multiple clicks.\n",
       "      quickchartButtonEl.classList.add('colab-df-spinner');\n",
       "      try {\n",
       "        const charts = await google.colab.kernel.invokeFunction(\n",
       "            'suggestCharts', [key], {});\n",
       "      } catch (error) {\n",
       "        console.error('Error during call to suggestCharts:', error);\n",
       "      }\n",
       "      quickchartButtonEl.classList.remove('colab-df-spinner');\n",
       "      quickchartButtonEl.classList.add('colab-df-quickchart-complete');\n",
       "    }\n",
       "    (() => {\n",
       "      let quickchartButtonEl =\n",
       "        document.querySelector('#df-070ba2fb-ad74-4c55-914d-6b330042c582 button');\n",
       "      quickchartButtonEl.style.display =\n",
       "        google.colab.kernel.accessAllowed ? 'block' : 'none';\n",
       "    })();\n",
       "  </script>\n",
       "</div>\n",
       "    </div>\n",
       "  </div>\n"
      ],
      "text/plain": [
       "     A    B  C\n",
       "0  1.0  5.0  4\n",
       "1  2.0  NaN  5\n",
       "2  NaN  NaN  6"
      ]
     },
     "metadata": {},
     "output_type": "display_data"
    }
   ],
   "source": [
    "import numpy as np\n",
    "\n",
    "df_w_nan = pd.DataFrame({'A': [1, 2, np.nan],\n",
    "                         'B': [5, np.nan, np.nan],\n",
    "                         'C': [4, 5, 6]})\n",
    "df_w_nan"
   ]
  },
  {
   "cell_type": "markdown",
   "id": "2c4c7de2",
   "metadata": {},
   "source": [
    "\n",
    "Pandas provides several useful methods for detecting, removing, and replacing missing values in pandas data structures:\n",
    "\n",
    "- [`isnull()`](https://pandas.pydata.org/pandas-docs/stable/reference/api/pandas.DataFrame.isna.html) generates a boolean mask indicating missing values, while [`notnull()`](https://pandas.pydata.org/pandas-docs/stable/reference/api/pandas.DataFrame.notna.html) produces the opposite:\n"
   ]
  },
  {
   "cell_type": "code",
   "execution_count": null,
   "id": "e745b7a8",
   "metadata": {},
   "outputs": [
    {
     "data": {
      "application/vnd.google.colaboratory.intrinsic+json": {
       "summary": "{\n  \"name\": \"df_w_nan\",\n  \"rows\": 3,\n  \"fields\": [\n    {\n      \"column\": \"A\",\n      \"properties\": {\n        \"dtype\": \"boolean\",\n        \"num_unique_values\": 2,\n        \"samples\": [\n          true,\n          false\n        ],\n        \"semantic_type\": \"\",\n        \"description\": \"\"\n      }\n    },\n    {\n      \"column\": \"B\",\n      \"properties\": {\n        \"dtype\": \"boolean\",\n        \"num_unique_values\": 2,\n        \"samples\": [\n          true,\n          false\n        ],\n        \"semantic_type\": \"\",\n        \"description\": \"\"\n      }\n    },\n    {\n      \"column\": \"C\",\n      \"properties\": {\n        \"dtype\": \"boolean\",\n        \"num_unique_values\": 1,\n        \"samples\": [\n          false\n        ],\n        \"semantic_type\": \"\",\n        \"description\": \"\"\n      }\n    }\n  ]\n}",
       "type": "dataframe"
      },
      "text/html": [
       "\n",
       "  <div id=\"df-022c281d-c28e-4e6b-a7d0-dd2fbe01fa29\" class=\"colab-df-container\">\n",
       "    <div>\n",
       "<style scoped>\n",
       "    .dataframe tbody tr th:only-of-type {\n",
       "        vertical-align: middle;\n",
       "    }\n",
       "\n",
       "    .dataframe tbody tr th {\n",
       "        vertical-align: top;\n",
       "    }\n",
       "\n",
       "    .dataframe thead th {\n",
       "        text-align: right;\n",
       "    }\n",
       "</style>\n",
       "<table border=\"1\" class=\"dataframe\">\n",
       "  <thead>\n",
       "    <tr style=\"text-align: right;\">\n",
       "      <th></th>\n",
       "      <th>A</th>\n",
       "      <th>B</th>\n",
       "      <th>C</th>\n",
       "    </tr>\n",
       "  </thead>\n",
       "  <tbody>\n",
       "    <tr>\n",
       "      <th>0</th>\n",
       "      <td>False</td>\n",
       "      <td>False</td>\n",
       "      <td>False</td>\n",
       "    </tr>\n",
       "    <tr>\n",
       "      <th>1</th>\n",
       "      <td>False</td>\n",
       "      <td>True</td>\n",
       "      <td>False</td>\n",
       "    </tr>\n",
       "    <tr>\n",
       "      <th>2</th>\n",
       "      <td>True</td>\n",
       "      <td>True</td>\n",
       "      <td>False</td>\n",
       "    </tr>\n",
       "  </tbody>\n",
       "</table>\n",
       "</div>\n",
       "    <div class=\"colab-df-buttons\">\n",
       "\n",
       "  <div class=\"colab-df-container\">\n",
       "    <button class=\"colab-df-convert\" onclick=\"convertToInteractive('df-022c281d-c28e-4e6b-a7d0-dd2fbe01fa29')\"\n",
       "            title=\"Convert this dataframe to an interactive table.\"\n",
       "            style=\"display:none;\">\n",
       "\n",
       "  <svg xmlns=\"http://www.w3.org/2000/svg\" height=\"24px\" viewBox=\"0 -960 960 960\">\n",
       "    <path d=\"M120-120v-720h720v720H120Zm60-500h600v-160H180v160Zm220 220h160v-160H400v160Zm0 220h160v-160H400v160ZM180-400h160v-160H180v160Zm440 0h160v-160H620v160ZM180-180h160v-160H180v160Zm440 0h160v-160H620v160Z\"/>\n",
       "  </svg>\n",
       "    </button>\n",
       "\n",
       "  <style>\n",
       "    .colab-df-container {\n",
       "      display:flex;\n",
       "      gap: 12px;\n",
       "    }\n",
       "\n",
       "    .colab-df-convert {\n",
       "      background-color: #E8F0FE;\n",
       "      border: none;\n",
       "      border-radius: 50%;\n",
       "      cursor: pointer;\n",
       "      display: none;\n",
       "      fill: #1967D2;\n",
       "      height: 32px;\n",
       "      padding: 0 0 0 0;\n",
       "      width: 32px;\n",
       "    }\n",
       "\n",
       "    .colab-df-convert:hover {\n",
       "      background-color: #E2EBFA;\n",
       "      box-shadow: 0px 1px 2px rgba(60, 64, 67, 0.3), 0px 1px 3px 1px rgba(60, 64, 67, 0.15);\n",
       "      fill: #174EA6;\n",
       "    }\n",
       "\n",
       "    .colab-df-buttons div {\n",
       "      margin-bottom: 4px;\n",
       "    }\n",
       "\n",
       "    [theme=dark] .colab-df-convert {\n",
       "      background-color: #3B4455;\n",
       "      fill: #D2E3FC;\n",
       "    }\n",
       "\n",
       "    [theme=dark] .colab-df-convert:hover {\n",
       "      background-color: #434B5C;\n",
       "      box-shadow: 0px 1px 3px 1px rgba(0, 0, 0, 0.15);\n",
       "      filter: drop-shadow(0px 1px 2px rgba(0, 0, 0, 0.3));\n",
       "      fill: #FFFFFF;\n",
       "    }\n",
       "  </style>\n",
       "\n",
       "    <script>\n",
       "      const buttonEl =\n",
       "        document.querySelector('#df-022c281d-c28e-4e6b-a7d0-dd2fbe01fa29 button.colab-df-convert');\n",
       "      buttonEl.style.display =\n",
       "        google.colab.kernel.accessAllowed ? 'block' : 'none';\n",
       "\n",
       "      async function convertToInteractive(key) {\n",
       "        const element = document.querySelector('#df-022c281d-c28e-4e6b-a7d0-dd2fbe01fa29');\n",
       "        const dataTable =\n",
       "          await google.colab.kernel.invokeFunction('convertToInteractive',\n",
       "                                                    [key], {});\n",
       "        if (!dataTable) return;\n",
       "\n",
       "        const docLinkHtml = 'Like what you see? Visit the ' +\n",
       "          '<a target=\"_blank\" href=https://colab.research.google.com/notebooks/data_table.ipynb>data table notebook</a>'\n",
       "          + ' to learn more about interactive tables.';\n",
       "        element.innerHTML = '';\n",
       "        dataTable['output_type'] = 'display_data';\n",
       "        await google.colab.output.renderOutput(dataTable, element);\n",
       "        const docLink = document.createElement('div');\n",
       "        docLink.innerHTML = docLinkHtml;\n",
       "        element.appendChild(docLink);\n",
       "      }\n",
       "    </script>\n",
       "  </div>\n",
       "\n",
       "\n",
       "<div id=\"df-3187ef8a-0a31-47ab-808c-a4ea72e6c456\">\n",
       "  <button class=\"colab-df-quickchart\" onclick=\"quickchart('df-3187ef8a-0a31-47ab-808c-a4ea72e6c456')\"\n",
       "            title=\"Suggest charts\"\n",
       "            style=\"display:none;\">\n",
       "\n",
       "<svg xmlns=\"http://www.w3.org/2000/svg\" height=\"24px\"viewBox=\"0 0 24 24\"\n",
       "     width=\"24px\">\n",
       "    <g>\n",
       "        <path d=\"M19 3H5c-1.1 0-2 .9-2 2v14c0 1.1.9 2 2 2h14c1.1 0 2-.9 2-2V5c0-1.1-.9-2-2-2zM9 17H7v-7h2v7zm4 0h-2V7h2v10zm4 0h-2v-4h2v4z\"/>\n",
       "    </g>\n",
       "</svg>\n",
       "  </button>\n",
       "\n",
       "<style>\n",
       "  .colab-df-quickchart {\n",
       "      --bg-color: #E8F0FE;\n",
       "      --fill-color: #1967D2;\n",
       "      --hover-bg-color: #E2EBFA;\n",
       "      --hover-fill-color: #174EA6;\n",
       "      --disabled-fill-color: #AAA;\n",
       "      --disabled-bg-color: #DDD;\n",
       "  }\n",
       "\n",
       "  [theme=dark] .colab-df-quickchart {\n",
       "      --bg-color: #3B4455;\n",
       "      --fill-color: #D2E3FC;\n",
       "      --hover-bg-color: #434B5C;\n",
       "      --hover-fill-color: #FFFFFF;\n",
       "      --disabled-bg-color: #3B4455;\n",
       "      --disabled-fill-color: #666;\n",
       "  }\n",
       "\n",
       "  .colab-df-quickchart {\n",
       "    background-color: var(--bg-color);\n",
       "    border: none;\n",
       "    border-radius: 50%;\n",
       "    cursor: pointer;\n",
       "    display: none;\n",
       "    fill: var(--fill-color);\n",
       "    height: 32px;\n",
       "    padding: 0;\n",
       "    width: 32px;\n",
       "  }\n",
       "\n",
       "  .colab-df-quickchart:hover {\n",
       "    background-color: var(--hover-bg-color);\n",
       "    box-shadow: 0 1px 2px rgba(60, 64, 67, 0.3), 0 1px 3px 1px rgba(60, 64, 67, 0.15);\n",
       "    fill: var(--button-hover-fill-color);\n",
       "  }\n",
       "\n",
       "  .colab-df-quickchart-complete:disabled,\n",
       "  .colab-df-quickchart-complete:disabled:hover {\n",
       "    background-color: var(--disabled-bg-color);\n",
       "    fill: var(--disabled-fill-color);\n",
       "    box-shadow: none;\n",
       "  }\n",
       "\n",
       "  .colab-df-spinner {\n",
       "    border: 2px solid var(--fill-color);\n",
       "    border-color: transparent;\n",
       "    border-bottom-color: var(--fill-color);\n",
       "    animation:\n",
       "      spin 1s steps(1) infinite;\n",
       "  }\n",
       "\n",
       "  @keyframes spin {\n",
       "    0% {\n",
       "      border-color: transparent;\n",
       "      border-bottom-color: var(--fill-color);\n",
       "      border-left-color: var(--fill-color);\n",
       "    }\n",
       "    20% {\n",
       "      border-color: transparent;\n",
       "      border-left-color: var(--fill-color);\n",
       "      border-top-color: var(--fill-color);\n",
       "    }\n",
       "    30% {\n",
       "      border-color: transparent;\n",
       "      border-left-color: var(--fill-color);\n",
       "      border-top-color: var(--fill-color);\n",
       "      border-right-color: var(--fill-color);\n",
       "    }\n",
       "    40% {\n",
       "      border-color: transparent;\n",
       "      border-right-color: var(--fill-color);\n",
       "      border-top-color: var(--fill-color);\n",
       "    }\n",
       "    60% {\n",
       "      border-color: transparent;\n",
       "      border-right-color: var(--fill-color);\n",
       "    }\n",
       "    80% {\n",
       "      border-color: transparent;\n",
       "      border-right-color: var(--fill-color);\n",
       "      border-bottom-color: var(--fill-color);\n",
       "    }\n",
       "    90% {\n",
       "      border-color: transparent;\n",
       "      border-bottom-color: var(--fill-color);\n",
       "    }\n",
       "  }\n",
       "</style>\n",
       "\n",
       "  <script>\n",
       "    async function quickchart(key) {\n",
       "      const quickchartButtonEl =\n",
       "        document.querySelector('#' + key + ' button');\n",
       "      quickchartButtonEl.disabled = true;  // To prevent multiple clicks.\n",
       "      quickchartButtonEl.classList.add('colab-df-spinner');\n",
       "      try {\n",
       "        const charts = await google.colab.kernel.invokeFunction(\n",
       "            'suggestCharts', [key], {});\n",
       "      } catch (error) {\n",
       "        console.error('Error during call to suggestCharts:', error);\n",
       "      }\n",
       "      quickchartButtonEl.classList.remove('colab-df-spinner');\n",
       "      quickchartButtonEl.classList.add('colab-df-quickchart-complete');\n",
       "    }\n",
       "    (() => {\n",
       "      let quickchartButtonEl =\n",
       "        document.querySelector('#df-3187ef8a-0a31-47ab-808c-a4ea72e6c456 button');\n",
       "      quickchartButtonEl.style.display =\n",
       "        google.colab.kernel.accessAllowed ? 'block' : 'none';\n",
       "    })();\n",
       "  </script>\n",
       "</div>\n",
       "    </div>\n",
       "  </div>\n"
      ],
      "text/plain": [
       "       A      B      C\n",
       "0  False  False  False\n",
       "1  False   True  False\n",
       "2   True   True  False"
      ]
     },
     "metadata": {},
     "output_type": "display_data"
    }
   ],
   "source": [
    "df_w_nan.isnull()"
   ]
  },
  {
   "cell_type": "markdown",
   "id": "02295669",
   "metadata": {},
   "source": [
    "\n",
    "- [`dropna()`](https://pandas.pydata.org/pandas-docs/stable/reference/api/pandas.DataFrame.dropna.html) returns a filtered version of the data:"
   ]
  },
  {
   "cell_type": "code",
   "execution_count": null,
   "id": "b4960ce4",
   "metadata": {},
   "outputs": [
    {
     "data": {
      "application/vnd.google.colaboratory.intrinsic+json": {
       "summary": "{\n  \"name\": \"df_w_nan\",\n  \"rows\": 1,\n  \"fields\": [\n    {\n      \"column\": \"A\",\n      \"properties\": {\n        \"dtype\": \"number\",\n        \"std\": null,\n        \"min\": 1.0,\n        \"max\": 1.0,\n        \"num_unique_values\": 1,\n        \"samples\": [\n          1.0\n        ],\n        \"semantic_type\": \"\",\n        \"description\": \"\"\n      }\n    },\n    {\n      \"column\": \"B\",\n      \"properties\": {\n        \"dtype\": \"number\",\n        \"std\": null,\n        \"min\": 5.0,\n        \"max\": 5.0,\n        \"num_unique_values\": 1,\n        \"samples\": [\n          5.0\n        ],\n        \"semantic_type\": \"\",\n        \"description\": \"\"\n      }\n    },\n    {\n      \"column\": \"C\",\n      \"properties\": {\n        \"dtype\": \"number\",\n        \"std\": null,\n        \"min\": 4,\n        \"max\": 4,\n        \"num_unique_values\": 1,\n        \"samples\": [\n          4\n        ],\n        \"semantic_type\": \"\",\n        \"description\": \"\"\n      }\n    }\n  ]\n}",
       "type": "dataframe"
      },
      "text/html": [
       "\n",
       "  <div id=\"df-a1c2c97e-bda8-4aa1-8dc7-9dca6d1dfd4f\" class=\"colab-df-container\">\n",
       "    <div>\n",
       "<style scoped>\n",
       "    .dataframe tbody tr th:only-of-type {\n",
       "        vertical-align: middle;\n",
       "    }\n",
       "\n",
       "    .dataframe tbody tr th {\n",
       "        vertical-align: top;\n",
       "    }\n",
       "\n",
       "    .dataframe thead th {\n",
       "        text-align: right;\n",
       "    }\n",
       "</style>\n",
       "<table border=\"1\" class=\"dataframe\">\n",
       "  <thead>\n",
       "    <tr style=\"text-align: right;\">\n",
       "      <th></th>\n",
       "      <th>A</th>\n",
       "      <th>B</th>\n",
       "      <th>C</th>\n",
       "    </tr>\n",
       "  </thead>\n",
       "  <tbody>\n",
       "    <tr>\n",
       "      <th>0</th>\n",
       "      <td>1.0</td>\n",
       "      <td>5.0</td>\n",
       "      <td>4</td>\n",
       "    </tr>\n",
       "  </tbody>\n",
       "</table>\n",
       "</div>\n",
       "    <div class=\"colab-df-buttons\">\n",
       "\n",
       "  <div class=\"colab-df-container\">\n",
       "    <button class=\"colab-df-convert\" onclick=\"convertToInteractive('df-a1c2c97e-bda8-4aa1-8dc7-9dca6d1dfd4f')\"\n",
       "            title=\"Convert this dataframe to an interactive table.\"\n",
       "            style=\"display:none;\">\n",
       "\n",
       "  <svg xmlns=\"http://www.w3.org/2000/svg\" height=\"24px\" viewBox=\"0 -960 960 960\">\n",
       "    <path d=\"M120-120v-720h720v720H120Zm60-500h600v-160H180v160Zm220 220h160v-160H400v160Zm0 220h160v-160H400v160ZM180-400h160v-160H180v160Zm440 0h160v-160H620v160ZM180-180h160v-160H180v160Zm440 0h160v-160H620v160Z\"/>\n",
       "  </svg>\n",
       "    </button>\n",
       "\n",
       "  <style>\n",
       "    .colab-df-container {\n",
       "      display:flex;\n",
       "      gap: 12px;\n",
       "    }\n",
       "\n",
       "    .colab-df-convert {\n",
       "      background-color: #E8F0FE;\n",
       "      border: none;\n",
       "      border-radius: 50%;\n",
       "      cursor: pointer;\n",
       "      display: none;\n",
       "      fill: #1967D2;\n",
       "      height: 32px;\n",
       "      padding: 0 0 0 0;\n",
       "      width: 32px;\n",
       "    }\n",
       "\n",
       "    .colab-df-convert:hover {\n",
       "      background-color: #E2EBFA;\n",
       "      box-shadow: 0px 1px 2px rgba(60, 64, 67, 0.3), 0px 1px 3px 1px rgba(60, 64, 67, 0.15);\n",
       "      fill: #174EA6;\n",
       "    }\n",
       "\n",
       "    .colab-df-buttons div {\n",
       "      margin-bottom: 4px;\n",
       "    }\n",
       "\n",
       "    [theme=dark] .colab-df-convert {\n",
       "      background-color: #3B4455;\n",
       "      fill: #D2E3FC;\n",
       "    }\n",
       "\n",
       "    [theme=dark] .colab-df-convert:hover {\n",
       "      background-color: #434B5C;\n",
       "      box-shadow: 0px 1px 3px 1px rgba(0, 0, 0, 0.15);\n",
       "      filter: drop-shadow(0px 1px 2px rgba(0, 0, 0, 0.3));\n",
       "      fill: #FFFFFF;\n",
       "    }\n",
       "  </style>\n",
       "\n",
       "    <script>\n",
       "      const buttonEl =\n",
       "        document.querySelector('#df-a1c2c97e-bda8-4aa1-8dc7-9dca6d1dfd4f button.colab-df-convert');\n",
       "      buttonEl.style.display =\n",
       "        google.colab.kernel.accessAllowed ? 'block' : 'none';\n",
       "\n",
       "      async function convertToInteractive(key) {\n",
       "        const element = document.querySelector('#df-a1c2c97e-bda8-4aa1-8dc7-9dca6d1dfd4f');\n",
       "        const dataTable =\n",
       "          await google.colab.kernel.invokeFunction('convertToInteractive',\n",
       "                                                    [key], {});\n",
       "        if (!dataTable) return;\n",
       "\n",
       "        const docLinkHtml = 'Like what you see? Visit the ' +\n",
       "          '<a target=\"_blank\" href=https://colab.research.google.com/notebooks/data_table.ipynb>data table notebook</a>'\n",
       "          + ' to learn more about interactive tables.';\n",
       "        element.innerHTML = '';\n",
       "        dataTable['output_type'] = 'display_data';\n",
       "        await google.colab.output.renderOutput(dataTable, element);\n",
       "        const docLink = document.createElement('div');\n",
       "        docLink.innerHTML = docLinkHtml;\n",
       "        element.appendChild(docLink);\n",
       "      }\n",
       "    </script>\n",
       "  </div>\n",
       "\n",
       "    </div>\n",
       "  </div>\n"
      ],
      "text/plain": [
       "     A    B  C\n",
       "0  1.0  5.0  4"
      ]
     },
     "metadata": {},
     "output_type": "display_data"
    }
   ],
   "source": [
    "df_w_nan.dropna(axis=0)  # axis=0 Drop rows which contain missing values."
   ]
  },
  {
   "cell_type": "markdown",
   "id": "2f41c2b1",
   "metadata": {},
   "source": [
    "\n",
    "- [`fillna()`](https://pandas.pydata.org/pandas-docs/stable/reference/api/pandas.DataFrame.fillna.html) returns a copy of the data with missing values filled or imputed (set `inplace=True` to modify it in place):"
   ]
  },
  {
   "cell_type": "code",
   "execution_count": null,
   "id": "9ae4e2e8",
   "metadata": {},
   "outputs": [
    {
     "data": {
      "application/vnd.google.colaboratory.intrinsic+json": {
       "summary": "{\n  \"name\": \"df_w_nan\",\n  \"rows\": 3,\n  \"fields\": [\n    {\n      \"column\": \"A\",\n      \"properties\": {\n        \"dtype\": \"number\",\n        \"std\": 1.0,\n        \"min\": 0.0,\n        \"max\": 2.0,\n        \"num_unique_values\": 3,\n        \"samples\": [\n          1.0,\n          2.0,\n          0.0\n        ],\n        \"semantic_type\": \"\",\n        \"description\": \"\"\n      }\n    },\n    {\n      \"column\": \"B\",\n      \"properties\": {\n        \"dtype\": \"number\",\n        \"std\": 2.8867513459481287,\n        \"min\": 0.0,\n        \"max\": 5.0,\n        \"num_unique_values\": 2,\n        \"samples\": [\n          0.0,\n          5.0\n        ],\n        \"semantic_type\": \"\",\n        \"description\": \"\"\n      }\n    },\n    {\n      \"column\": \"C\",\n      \"properties\": {\n        \"dtype\": \"number\",\n        \"std\": 1,\n        \"min\": 4,\n        \"max\": 6,\n        \"num_unique_values\": 3,\n        \"samples\": [\n          4,\n          5\n        ],\n        \"semantic_type\": \"\",\n        \"description\": \"\"\n      }\n    }\n  ]\n}",
       "type": "dataframe"
      },
      "text/html": [
       "\n",
       "  <div id=\"df-9daaafb2-68fe-401e-ba88-a0a9e6e01f24\" class=\"colab-df-container\">\n",
       "    <div>\n",
       "<style scoped>\n",
       "    .dataframe tbody tr th:only-of-type {\n",
       "        vertical-align: middle;\n",
       "    }\n",
       "\n",
       "    .dataframe tbody tr th {\n",
       "        vertical-align: top;\n",
       "    }\n",
       "\n",
       "    .dataframe thead th {\n",
       "        text-align: right;\n",
       "    }\n",
       "</style>\n",
       "<table border=\"1\" class=\"dataframe\">\n",
       "  <thead>\n",
       "    <tr style=\"text-align: right;\">\n",
       "      <th></th>\n",
       "      <th>A</th>\n",
       "      <th>B</th>\n",
       "      <th>C</th>\n",
       "    </tr>\n",
       "  </thead>\n",
       "  <tbody>\n",
       "    <tr>\n",
       "      <th>0</th>\n",
       "      <td>1.0</td>\n",
       "      <td>5.0</td>\n",
       "      <td>4</td>\n",
       "    </tr>\n",
       "    <tr>\n",
       "      <th>1</th>\n",
       "      <td>2.0</td>\n",
       "      <td>0.0</td>\n",
       "      <td>5</td>\n",
       "    </tr>\n",
       "    <tr>\n",
       "      <th>2</th>\n",
       "      <td>0.0</td>\n",
       "      <td>0.0</td>\n",
       "      <td>6</td>\n",
       "    </tr>\n",
       "  </tbody>\n",
       "</table>\n",
       "</div>\n",
       "    <div class=\"colab-df-buttons\">\n",
       "\n",
       "  <div class=\"colab-df-container\">\n",
       "    <button class=\"colab-df-convert\" onclick=\"convertToInteractive('df-9daaafb2-68fe-401e-ba88-a0a9e6e01f24')\"\n",
       "            title=\"Convert this dataframe to an interactive table.\"\n",
       "            style=\"display:none;\">\n",
       "\n",
       "  <svg xmlns=\"http://www.w3.org/2000/svg\" height=\"24px\" viewBox=\"0 -960 960 960\">\n",
       "    <path d=\"M120-120v-720h720v720H120Zm60-500h600v-160H180v160Zm220 220h160v-160H400v160Zm0 220h160v-160H400v160ZM180-400h160v-160H180v160Zm440 0h160v-160H620v160ZM180-180h160v-160H180v160Zm440 0h160v-160H620v160Z\"/>\n",
       "  </svg>\n",
       "    </button>\n",
       "\n",
       "  <style>\n",
       "    .colab-df-container {\n",
       "      display:flex;\n",
       "      gap: 12px;\n",
       "    }\n",
       "\n",
       "    .colab-df-convert {\n",
       "      background-color: #E8F0FE;\n",
       "      border: none;\n",
       "      border-radius: 50%;\n",
       "      cursor: pointer;\n",
       "      display: none;\n",
       "      fill: #1967D2;\n",
       "      height: 32px;\n",
       "      padding: 0 0 0 0;\n",
       "      width: 32px;\n",
       "    }\n",
       "\n",
       "    .colab-df-convert:hover {\n",
       "      background-color: #E2EBFA;\n",
       "      box-shadow: 0px 1px 2px rgba(60, 64, 67, 0.3), 0px 1px 3px 1px rgba(60, 64, 67, 0.15);\n",
       "      fill: #174EA6;\n",
       "    }\n",
       "\n",
       "    .colab-df-buttons div {\n",
       "      margin-bottom: 4px;\n",
       "    }\n",
       "\n",
       "    [theme=dark] .colab-df-convert {\n",
       "      background-color: #3B4455;\n",
       "      fill: #D2E3FC;\n",
       "    }\n",
       "\n",
       "    [theme=dark] .colab-df-convert:hover {\n",
       "      background-color: #434B5C;\n",
       "      box-shadow: 0px 1px 3px 1px rgba(0, 0, 0, 0.15);\n",
       "      filter: drop-shadow(0px 1px 2px rgba(0, 0, 0, 0.3));\n",
       "      fill: #FFFFFF;\n",
       "    }\n",
       "  </style>\n",
       "\n",
       "    <script>\n",
       "      const buttonEl =\n",
       "        document.querySelector('#df-9daaafb2-68fe-401e-ba88-a0a9e6e01f24 button.colab-df-convert');\n",
       "      buttonEl.style.display =\n",
       "        google.colab.kernel.accessAllowed ? 'block' : 'none';\n",
       "\n",
       "      async function convertToInteractive(key) {\n",
       "        const element = document.querySelector('#df-9daaafb2-68fe-401e-ba88-a0a9e6e01f24');\n",
       "        const dataTable =\n",
       "          await google.colab.kernel.invokeFunction('convertToInteractive',\n",
       "                                                    [key], {});\n",
       "        if (!dataTable) return;\n",
       "\n",
       "        const docLinkHtml = 'Like what you see? Visit the ' +\n",
       "          '<a target=\"_blank\" href=https://colab.research.google.com/notebooks/data_table.ipynb>data table notebook</a>'\n",
       "          + ' to learn more about interactive tables.';\n",
       "        element.innerHTML = '';\n",
       "        dataTable['output_type'] = 'display_data';\n",
       "        await google.colab.output.renderOutput(dataTable, element);\n",
       "        const docLink = document.createElement('div');\n",
       "        docLink.innerHTML = docLinkHtml;\n",
       "        element.appendChild(docLink);\n",
       "      }\n",
       "    </script>\n",
       "  </div>\n",
       "\n",
       "\n",
       "<div id=\"df-13fa0625-e45a-4faa-b12b-962c95f94e82\">\n",
       "  <button class=\"colab-df-quickchart\" onclick=\"quickchart('df-13fa0625-e45a-4faa-b12b-962c95f94e82')\"\n",
       "            title=\"Suggest charts\"\n",
       "            style=\"display:none;\">\n",
       "\n",
       "<svg xmlns=\"http://www.w3.org/2000/svg\" height=\"24px\"viewBox=\"0 0 24 24\"\n",
       "     width=\"24px\">\n",
       "    <g>\n",
       "        <path d=\"M19 3H5c-1.1 0-2 .9-2 2v14c0 1.1.9 2 2 2h14c1.1 0 2-.9 2-2V5c0-1.1-.9-2-2-2zM9 17H7v-7h2v7zm4 0h-2V7h2v10zm4 0h-2v-4h2v4z\"/>\n",
       "    </g>\n",
       "</svg>\n",
       "  </button>\n",
       "\n",
       "<style>\n",
       "  .colab-df-quickchart {\n",
       "      --bg-color: #E8F0FE;\n",
       "      --fill-color: #1967D2;\n",
       "      --hover-bg-color: #E2EBFA;\n",
       "      --hover-fill-color: #174EA6;\n",
       "      --disabled-fill-color: #AAA;\n",
       "      --disabled-bg-color: #DDD;\n",
       "  }\n",
       "\n",
       "  [theme=dark] .colab-df-quickchart {\n",
       "      --bg-color: #3B4455;\n",
       "      --fill-color: #D2E3FC;\n",
       "      --hover-bg-color: #434B5C;\n",
       "      --hover-fill-color: #FFFFFF;\n",
       "      --disabled-bg-color: #3B4455;\n",
       "      --disabled-fill-color: #666;\n",
       "  }\n",
       "\n",
       "  .colab-df-quickchart {\n",
       "    background-color: var(--bg-color);\n",
       "    border: none;\n",
       "    border-radius: 50%;\n",
       "    cursor: pointer;\n",
       "    display: none;\n",
       "    fill: var(--fill-color);\n",
       "    height: 32px;\n",
       "    padding: 0;\n",
       "    width: 32px;\n",
       "  }\n",
       "\n",
       "  .colab-df-quickchart:hover {\n",
       "    background-color: var(--hover-bg-color);\n",
       "    box-shadow: 0 1px 2px rgba(60, 64, 67, 0.3), 0 1px 3px 1px rgba(60, 64, 67, 0.15);\n",
       "    fill: var(--button-hover-fill-color);\n",
       "  }\n",
       "\n",
       "  .colab-df-quickchart-complete:disabled,\n",
       "  .colab-df-quickchart-complete:disabled:hover {\n",
       "    background-color: var(--disabled-bg-color);\n",
       "    fill: var(--disabled-fill-color);\n",
       "    box-shadow: none;\n",
       "  }\n",
       "\n",
       "  .colab-df-spinner {\n",
       "    border: 2px solid var(--fill-color);\n",
       "    border-color: transparent;\n",
       "    border-bottom-color: var(--fill-color);\n",
       "    animation:\n",
       "      spin 1s steps(1) infinite;\n",
       "  }\n",
       "\n",
       "  @keyframes spin {\n",
       "    0% {\n",
       "      border-color: transparent;\n",
       "      border-bottom-color: var(--fill-color);\n",
       "      border-left-color: var(--fill-color);\n",
       "    }\n",
       "    20% {\n",
       "      border-color: transparent;\n",
       "      border-left-color: var(--fill-color);\n",
       "      border-top-color: var(--fill-color);\n",
       "    }\n",
       "    30% {\n",
       "      border-color: transparent;\n",
       "      border-left-color: var(--fill-color);\n",
       "      border-top-color: var(--fill-color);\n",
       "      border-right-color: var(--fill-color);\n",
       "    }\n",
       "    40% {\n",
       "      border-color: transparent;\n",
       "      border-right-color: var(--fill-color);\n",
       "      border-top-color: var(--fill-color);\n",
       "    }\n",
       "    60% {\n",
       "      border-color: transparent;\n",
       "      border-right-color: var(--fill-color);\n",
       "    }\n",
       "    80% {\n",
       "      border-color: transparent;\n",
       "      border-right-color: var(--fill-color);\n",
       "      border-bottom-color: var(--fill-color);\n",
       "    }\n",
       "    90% {\n",
       "      border-color: transparent;\n",
       "      border-bottom-color: var(--fill-color);\n",
       "    }\n",
       "  }\n",
       "</style>\n",
       "\n",
       "  <script>\n",
       "    async function quickchart(key) {\n",
       "      const quickchartButtonEl =\n",
       "        document.querySelector('#' + key + ' button');\n",
       "      quickchartButtonEl.disabled = true;  // To prevent multiple clicks.\n",
       "      quickchartButtonEl.classList.add('colab-df-spinner');\n",
       "      try {\n",
       "        const charts = await google.colab.kernel.invokeFunction(\n",
       "            'suggestCharts', [key], {});\n",
       "      } catch (error) {\n",
       "        console.error('Error during call to suggestCharts:', error);\n",
       "      }\n",
       "      quickchartButtonEl.classList.remove('colab-df-spinner');\n",
       "      quickchartButtonEl.classList.add('colab-df-quickchart-complete');\n",
       "    }\n",
       "    (() => {\n",
       "      let quickchartButtonEl =\n",
       "        document.querySelector('#df-13fa0625-e45a-4faa-b12b-962c95f94e82 button');\n",
       "      quickchartButtonEl.style.display =\n",
       "        google.colab.kernel.accessAllowed ? 'block' : 'none';\n",
       "    })();\n",
       "  </script>\n",
       "</div>\n",
       "    </div>\n",
       "  </div>\n"
      ],
      "text/plain": [
       "     A    B  C\n",
       "0  1.0  5.0  4\n",
       "1  2.0  0.0  5\n",
       "2  0.0  0.0  6"
      ]
     },
     "metadata": {},
     "output_type": "display_data"
    }
   ],
   "source": [
    "# Replace all NaN elements with 0s.\n",
    "df_w_nan.fillna(0)"
   ]
  },
  {
   "cell_type": "code",
   "execution_count": null,
   "id": "6b7d8be6",
   "metadata": {},
   "outputs": [
    {
     "data": {
      "application/vnd.google.colaboratory.intrinsic+json": {
       "summary": "{\n  \"name\": \"df_w_nan\",\n  \"rows\": 3,\n  \"fields\": [\n    {\n      \"column\": \"A\",\n      \"properties\": {\n        \"dtype\": \"number\",\n        \"std\": 0.5773502691896257,\n        \"min\": 1.0,\n        \"max\": 2.0,\n        \"num_unique_values\": 2,\n        \"samples\": [\n          2.0,\n          1.0\n        ],\n        \"semantic_type\": \"\",\n        \"description\": \"\"\n      }\n    },\n    {\n      \"column\": \"B\",\n      \"properties\": {\n        \"dtype\": \"number\",\n        \"std\": 0.0,\n        \"min\": 5.0,\n        \"max\": 5.0,\n        \"num_unique_values\": 1,\n        \"samples\": [\n          5.0\n        ],\n        \"semantic_type\": \"\",\n        \"description\": \"\"\n      }\n    },\n    {\n      \"column\": \"C\",\n      \"properties\": {\n        \"dtype\": \"number\",\n        \"std\": 1,\n        \"min\": 4,\n        \"max\": 6,\n        \"num_unique_values\": 3,\n        \"samples\": [\n          4\n        ],\n        \"semantic_type\": \"\",\n        \"description\": \"\"\n      }\n    }\n  ]\n}",
       "type": "dataframe"
      },
      "text/html": [
       "\n",
       "  <div id=\"df-7e063dae-14ba-4396-aa7d-b4d312d0825d\" class=\"colab-df-container\">\n",
       "    <div>\n",
       "<style scoped>\n",
       "    .dataframe tbody tr th:only-of-type {\n",
       "        vertical-align: middle;\n",
       "    }\n",
       "\n",
       "    .dataframe tbody tr th {\n",
       "        vertical-align: top;\n",
       "    }\n",
       "\n",
       "    .dataframe thead th {\n",
       "        text-align: right;\n",
       "    }\n",
       "</style>\n",
       "<table border=\"1\" class=\"dataframe\">\n",
       "  <thead>\n",
       "    <tr style=\"text-align: right;\">\n",
       "      <th></th>\n",
       "      <th>A</th>\n",
       "      <th>B</th>\n",
       "      <th>C</th>\n",
       "    </tr>\n",
       "  </thead>\n",
       "  <tbody>\n",
       "    <tr>\n",
       "      <th>0</th>\n",
       "      <td>1.0</td>\n",
       "      <td>5.0</td>\n",
       "      <td>4</td>\n",
       "    </tr>\n",
       "    <tr>\n",
       "      <th>1</th>\n",
       "      <td>2.0</td>\n",
       "      <td>5.0</td>\n",
       "      <td>5</td>\n",
       "    </tr>\n",
       "    <tr>\n",
       "      <th>2</th>\n",
       "      <td>2.0</td>\n",
       "      <td>5.0</td>\n",
       "      <td>6</td>\n",
       "    </tr>\n",
       "  </tbody>\n",
       "</table>\n",
       "</div>\n",
       "    <div class=\"colab-df-buttons\">\n",
       "\n",
       "  <div class=\"colab-df-container\">\n",
       "    <button class=\"colab-df-convert\" onclick=\"convertToInteractive('df-7e063dae-14ba-4396-aa7d-b4d312d0825d')\"\n",
       "            title=\"Convert this dataframe to an interactive table.\"\n",
       "            style=\"display:none;\">\n",
       "\n",
       "  <svg xmlns=\"http://www.w3.org/2000/svg\" height=\"24px\" viewBox=\"0 -960 960 960\">\n",
       "    <path d=\"M120-120v-720h720v720H120Zm60-500h600v-160H180v160Zm220 220h160v-160H400v160Zm0 220h160v-160H400v160ZM180-400h160v-160H180v160Zm440 0h160v-160H620v160ZM180-180h160v-160H180v160Zm440 0h160v-160H620v160Z\"/>\n",
       "  </svg>\n",
       "    </button>\n",
       "\n",
       "  <style>\n",
       "    .colab-df-container {\n",
       "      display:flex;\n",
       "      gap: 12px;\n",
       "    }\n",
       "\n",
       "    .colab-df-convert {\n",
       "      background-color: #E8F0FE;\n",
       "      border: none;\n",
       "      border-radius: 50%;\n",
       "      cursor: pointer;\n",
       "      display: none;\n",
       "      fill: #1967D2;\n",
       "      height: 32px;\n",
       "      padding: 0 0 0 0;\n",
       "      width: 32px;\n",
       "    }\n",
       "\n",
       "    .colab-df-convert:hover {\n",
       "      background-color: #E2EBFA;\n",
       "      box-shadow: 0px 1px 2px rgba(60, 64, 67, 0.3), 0px 1px 3px 1px rgba(60, 64, 67, 0.15);\n",
       "      fill: #174EA6;\n",
       "    }\n",
       "\n",
       "    .colab-df-buttons div {\n",
       "      margin-bottom: 4px;\n",
       "    }\n",
       "\n",
       "    [theme=dark] .colab-df-convert {\n",
       "      background-color: #3B4455;\n",
       "      fill: #D2E3FC;\n",
       "    }\n",
       "\n",
       "    [theme=dark] .colab-df-convert:hover {\n",
       "      background-color: #434B5C;\n",
       "      box-shadow: 0px 1px 3px 1px rgba(0, 0, 0, 0.15);\n",
       "      filter: drop-shadow(0px 1px 2px rgba(0, 0, 0, 0.3));\n",
       "      fill: #FFFFFF;\n",
       "    }\n",
       "  </style>\n",
       "\n",
       "    <script>\n",
       "      const buttonEl =\n",
       "        document.querySelector('#df-7e063dae-14ba-4396-aa7d-b4d312d0825d button.colab-df-convert');\n",
       "      buttonEl.style.display =\n",
       "        google.colab.kernel.accessAllowed ? 'block' : 'none';\n",
       "\n",
       "      async function convertToInteractive(key) {\n",
       "        const element = document.querySelector('#df-7e063dae-14ba-4396-aa7d-b4d312d0825d');\n",
       "        const dataTable =\n",
       "          await google.colab.kernel.invokeFunction('convertToInteractive',\n",
       "                                                    [key], {});\n",
       "        if (!dataTable) return;\n",
       "\n",
       "        const docLinkHtml = 'Like what you see? Visit the ' +\n",
       "          '<a target=\"_blank\" href=https://colab.research.google.com/notebooks/data_table.ipynb>data table notebook</a>'\n",
       "          + ' to learn more about interactive tables.';\n",
       "        element.innerHTML = '';\n",
       "        dataTable['output_type'] = 'display_data';\n",
       "        await google.colab.output.renderOutput(dataTable, element);\n",
       "        const docLink = document.createElement('div');\n",
       "        docLink.innerHTML = docLinkHtml;\n",
       "        element.appendChild(docLink);\n",
       "      }\n",
       "    </script>\n",
       "  </div>\n",
       "\n",
       "\n",
       "<div id=\"df-bb4670ea-05e4-4118-8269-d92fff04de1b\">\n",
       "  <button class=\"colab-df-quickchart\" onclick=\"quickchart('df-bb4670ea-05e4-4118-8269-d92fff04de1b')\"\n",
       "            title=\"Suggest charts\"\n",
       "            style=\"display:none;\">\n",
       "\n",
       "<svg xmlns=\"http://www.w3.org/2000/svg\" height=\"24px\"viewBox=\"0 0 24 24\"\n",
       "     width=\"24px\">\n",
       "    <g>\n",
       "        <path d=\"M19 3H5c-1.1 0-2 .9-2 2v14c0 1.1.9 2 2 2h14c1.1 0 2-.9 2-2V5c0-1.1-.9-2-2-2zM9 17H7v-7h2v7zm4 0h-2V7h2v10zm4 0h-2v-4h2v4z\"/>\n",
       "    </g>\n",
       "</svg>\n",
       "  </button>\n",
       "\n",
       "<style>\n",
       "  .colab-df-quickchart {\n",
       "      --bg-color: #E8F0FE;\n",
       "      --fill-color: #1967D2;\n",
       "      --hover-bg-color: #E2EBFA;\n",
       "      --hover-fill-color: #174EA6;\n",
       "      --disabled-fill-color: #AAA;\n",
       "      --disabled-bg-color: #DDD;\n",
       "  }\n",
       "\n",
       "  [theme=dark] .colab-df-quickchart {\n",
       "      --bg-color: #3B4455;\n",
       "      --fill-color: #D2E3FC;\n",
       "      --hover-bg-color: #434B5C;\n",
       "      --hover-fill-color: #FFFFFF;\n",
       "      --disabled-bg-color: #3B4455;\n",
       "      --disabled-fill-color: #666;\n",
       "  }\n",
       "\n",
       "  .colab-df-quickchart {\n",
       "    background-color: var(--bg-color);\n",
       "    border: none;\n",
       "    border-radius: 50%;\n",
       "    cursor: pointer;\n",
       "    display: none;\n",
       "    fill: var(--fill-color);\n",
       "    height: 32px;\n",
       "    padding: 0;\n",
       "    width: 32px;\n",
       "  }\n",
       "\n",
       "  .colab-df-quickchart:hover {\n",
       "    background-color: var(--hover-bg-color);\n",
       "    box-shadow: 0 1px 2px rgba(60, 64, 67, 0.3), 0 1px 3px 1px rgba(60, 64, 67, 0.15);\n",
       "    fill: var(--button-hover-fill-color);\n",
       "  }\n",
       "\n",
       "  .colab-df-quickchart-complete:disabled,\n",
       "  .colab-df-quickchart-complete:disabled:hover {\n",
       "    background-color: var(--disabled-bg-color);\n",
       "    fill: var(--disabled-fill-color);\n",
       "    box-shadow: none;\n",
       "  }\n",
       "\n",
       "  .colab-df-spinner {\n",
       "    border: 2px solid var(--fill-color);\n",
       "    border-color: transparent;\n",
       "    border-bottom-color: var(--fill-color);\n",
       "    animation:\n",
       "      spin 1s steps(1) infinite;\n",
       "  }\n",
       "\n",
       "  @keyframes spin {\n",
       "    0% {\n",
       "      border-color: transparent;\n",
       "      border-bottom-color: var(--fill-color);\n",
       "      border-left-color: var(--fill-color);\n",
       "    }\n",
       "    20% {\n",
       "      border-color: transparent;\n",
       "      border-left-color: var(--fill-color);\n",
       "      border-top-color: var(--fill-color);\n",
       "    }\n",
       "    30% {\n",
       "      border-color: transparent;\n",
       "      border-left-color: var(--fill-color);\n",
       "      border-top-color: var(--fill-color);\n",
       "      border-right-color: var(--fill-color);\n",
       "    }\n",
       "    40% {\n",
       "      border-color: transparent;\n",
       "      border-right-color: var(--fill-color);\n",
       "      border-top-color: var(--fill-color);\n",
       "    }\n",
       "    60% {\n",
       "      border-color: transparent;\n",
       "      border-right-color: var(--fill-color);\n",
       "    }\n",
       "    80% {\n",
       "      border-color: transparent;\n",
       "      border-right-color: var(--fill-color);\n",
       "      border-bottom-color: var(--fill-color);\n",
       "    }\n",
       "    90% {\n",
       "      border-color: transparent;\n",
       "      border-bottom-color: var(--fill-color);\n",
       "    }\n",
       "  }\n",
       "</style>\n",
       "\n",
       "  <script>\n",
       "    async function quickchart(key) {\n",
       "      const quickchartButtonEl =\n",
       "        document.querySelector('#' + key + ' button');\n",
       "      quickchartButtonEl.disabled = true;  // To prevent multiple clicks.\n",
       "      quickchartButtonEl.classList.add('colab-df-spinner');\n",
       "      try {\n",
       "        const charts = await google.colab.kernel.invokeFunction(\n",
       "            'suggestCharts', [key], {});\n",
       "      } catch (error) {\n",
       "        console.error('Error during call to suggestCharts:', error);\n",
       "      }\n",
       "      quickchartButtonEl.classList.remove('colab-df-spinner');\n",
       "      quickchartButtonEl.classList.add('colab-df-quickchart-complete');\n",
       "    }\n",
       "    (() => {\n",
       "      let quickchartButtonEl =\n",
       "        document.querySelector('#df-bb4670ea-05e4-4118-8269-d92fff04de1b button');\n",
       "      quickchartButtonEl.style.display =\n",
       "        google.colab.kernel.accessAllowed ? 'block' : 'none';\n",
       "    })();\n",
       "  </script>\n",
       "</div>\n",
       "    </div>\n",
       "  </div>\n"
      ],
      "text/plain": [
       "     A    B  C\n",
       "0  1.0  5.0  4\n",
       "1  2.0  5.0  5\n",
       "2  2.0  5.0  6"
      ]
     },
     "metadata": {},
     "output_type": "display_data"
    }
   ],
   "source": [
    "#ffill() function is used to forward fill the missing value with the value from the previous row (column) when axis = 0 (1)\n",
    "df_w_nan.ffill(axis=0)"
   ]
  },
  {
   "cell_type": "code",
   "execution_count": null,
   "id": "4b9d3e28",
   "metadata": {},
   "outputs": [
    {
     "data": {
      "application/vnd.google.colaboratory.intrinsic+json": {
       "summary": "{\n  \"name\": \"df_w_nan\",\n  \"rows\": 3,\n  \"fields\": [\n    {\n      \"column\": \"A\",\n      \"properties\": {\n        \"dtype\": \"number\",\n        \"std\": 0.7071067811865476,\n        \"min\": 1.0,\n        \"max\": 2.0,\n        \"num_unique_values\": 2,\n        \"samples\": [\n          2.0,\n          1.0\n        ],\n        \"semantic_type\": \"\",\n        \"description\": \"\"\n      }\n    },\n    {\n      \"column\": \"B\",\n      \"properties\": {\n        \"dtype\": \"number\",\n        \"std\": 0.0,\n        \"min\": 5.0,\n        \"max\": 5.0,\n        \"num_unique_values\": 1,\n        \"samples\": [\n          5.0\n        ],\n        \"semantic_type\": \"\",\n        \"description\": \"\"\n      }\n    },\n    {\n      \"column\": \"C\",\n      \"properties\": {\n        \"dtype\": \"number\",\n        \"std\": 1,\n        \"min\": 4,\n        \"max\": 6,\n        \"num_unique_values\": 3,\n        \"samples\": [\n          4\n        ],\n        \"semantic_type\": \"\",\n        \"description\": \"\"\n      }\n    }\n  ]\n}",
       "type": "dataframe",
       "variable_name": "df_w_nan"
      },
      "text/html": [
       "\n",
       "  <div id=\"df-4141ff97-fcb0-4ba2-a6bd-b2d3ce8c03dd\" class=\"colab-df-container\">\n",
       "    <div>\n",
       "<style scoped>\n",
       "    .dataframe tbody tr th:only-of-type {\n",
       "        vertical-align: middle;\n",
       "    }\n",
       "\n",
       "    .dataframe tbody tr th {\n",
       "        vertical-align: top;\n",
       "    }\n",
       "\n",
       "    .dataframe thead th {\n",
       "        text-align: right;\n",
       "    }\n",
       "</style>\n",
       "<table border=\"1\" class=\"dataframe\">\n",
       "  <thead>\n",
       "    <tr style=\"text-align: right;\">\n",
       "      <th></th>\n",
       "      <th>A</th>\n",
       "      <th>B</th>\n",
       "      <th>C</th>\n",
       "    </tr>\n",
       "  </thead>\n",
       "  <tbody>\n",
       "    <tr>\n",
       "      <th>0</th>\n",
       "      <td>1.0</td>\n",
       "      <td>5.0</td>\n",
       "      <td>4</td>\n",
       "    </tr>\n",
       "    <tr>\n",
       "      <th>1</th>\n",
       "      <td>2.0</td>\n",
       "      <td>5.0</td>\n",
       "      <td>5</td>\n",
       "    </tr>\n",
       "    <tr>\n",
       "      <th>2</th>\n",
       "      <td>NaN</td>\n",
       "      <td>5.0</td>\n",
       "      <td>6</td>\n",
       "    </tr>\n",
       "  </tbody>\n",
       "</table>\n",
       "</div>\n",
       "    <div class=\"colab-df-buttons\">\n",
       "\n",
       "  <div class=\"colab-df-container\">\n",
       "    <button class=\"colab-df-convert\" onclick=\"convertToInteractive('df-4141ff97-fcb0-4ba2-a6bd-b2d3ce8c03dd')\"\n",
       "            title=\"Convert this dataframe to an interactive table.\"\n",
       "            style=\"display:none;\">\n",
       "\n",
       "  <svg xmlns=\"http://www.w3.org/2000/svg\" height=\"24px\" viewBox=\"0 -960 960 960\">\n",
       "    <path d=\"M120-120v-720h720v720H120Zm60-500h600v-160H180v160Zm220 220h160v-160H400v160Zm0 220h160v-160H400v160ZM180-400h160v-160H180v160Zm440 0h160v-160H620v160ZM180-180h160v-160H180v160Zm440 0h160v-160H620v160Z\"/>\n",
       "  </svg>\n",
       "    </button>\n",
       "\n",
       "  <style>\n",
       "    .colab-df-container {\n",
       "      display:flex;\n",
       "      gap: 12px;\n",
       "    }\n",
       "\n",
       "    .colab-df-convert {\n",
       "      background-color: #E8F0FE;\n",
       "      border: none;\n",
       "      border-radius: 50%;\n",
       "      cursor: pointer;\n",
       "      display: none;\n",
       "      fill: #1967D2;\n",
       "      height: 32px;\n",
       "      padding: 0 0 0 0;\n",
       "      width: 32px;\n",
       "    }\n",
       "\n",
       "    .colab-df-convert:hover {\n",
       "      background-color: #E2EBFA;\n",
       "      box-shadow: 0px 1px 2px rgba(60, 64, 67, 0.3), 0px 1px 3px 1px rgba(60, 64, 67, 0.15);\n",
       "      fill: #174EA6;\n",
       "    }\n",
       "\n",
       "    .colab-df-buttons div {\n",
       "      margin-bottom: 4px;\n",
       "    }\n",
       "\n",
       "    [theme=dark] .colab-df-convert {\n",
       "      background-color: #3B4455;\n",
       "      fill: #D2E3FC;\n",
       "    }\n",
       "\n",
       "    [theme=dark] .colab-df-convert:hover {\n",
       "      background-color: #434B5C;\n",
       "      box-shadow: 0px 1px 3px 1px rgba(0, 0, 0, 0.15);\n",
       "      filter: drop-shadow(0px 1px 2px rgba(0, 0, 0, 0.3));\n",
       "      fill: #FFFFFF;\n",
       "    }\n",
       "  </style>\n",
       "\n",
       "    <script>\n",
       "      const buttonEl =\n",
       "        document.querySelector('#df-4141ff97-fcb0-4ba2-a6bd-b2d3ce8c03dd button.colab-df-convert');\n",
       "      buttonEl.style.display =\n",
       "        google.colab.kernel.accessAllowed ? 'block' : 'none';\n",
       "\n",
       "      async function convertToInteractive(key) {\n",
       "        const element = document.querySelector('#df-4141ff97-fcb0-4ba2-a6bd-b2d3ce8c03dd');\n",
       "        const dataTable =\n",
       "          await google.colab.kernel.invokeFunction('convertToInteractive',\n",
       "                                                    [key], {});\n",
       "        if (!dataTable) return;\n",
       "\n",
       "        const docLinkHtml = 'Like what you see? Visit the ' +\n",
       "          '<a target=\"_blank\" href=https://colab.research.google.com/notebooks/data_table.ipynb>data table notebook</a>'\n",
       "          + ' to learn more about interactive tables.';\n",
       "        element.innerHTML = '';\n",
       "        dataTable['output_type'] = 'display_data';\n",
       "        await google.colab.output.renderOutput(dataTable, element);\n",
       "        const docLink = document.createElement('div');\n",
       "        docLink.innerHTML = docLinkHtml;\n",
       "        element.appendChild(docLink);\n",
       "      }\n",
       "    </script>\n",
       "  </div>\n",
       "\n",
       "\n",
       "<div id=\"df-0e2cbb26-7988-47b8-90ba-9dde2ababd36\">\n",
       "  <button class=\"colab-df-quickchart\" onclick=\"quickchart('df-0e2cbb26-7988-47b8-90ba-9dde2ababd36')\"\n",
       "            title=\"Suggest charts\"\n",
       "            style=\"display:none;\">\n",
       "\n",
       "<svg xmlns=\"http://www.w3.org/2000/svg\" height=\"24px\"viewBox=\"0 0 24 24\"\n",
       "     width=\"24px\">\n",
       "    <g>\n",
       "        <path d=\"M19 3H5c-1.1 0-2 .9-2 2v14c0 1.1.9 2 2 2h14c1.1 0 2-.9 2-2V5c0-1.1-.9-2-2-2zM9 17H7v-7h2v7zm4 0h-2V7h2v10zm4 0h-2v-4h2v4z\"/>\n",
       "    </g>\n",
       "</svg>\n",
       "  </button>\n",
       "\n",
       "<style>\n",
       "  .colab-df-quickchart {\n",
       "      --bg-color: #E8F0FE;\n",
       "      --fill-color: #1967D2;\n",
       "      --hover-bg-color: #E2EBFA;\n",
       "      --hover-fill-color: #174EA6;\n",
       "      --disabled-fill-color: #AAA;\n",
       "      --disabled-bg-color: #DDD;\n",
       "  }\n",
       "\n",
       "  [theme=dark] .colab-df-quickchart {\n",
       "      --bg-color: #3B4455;\n",
       "      --fill-color: #D2E3FC;\n",
       "      --hover-bg-color: #434B5C;\n",
       "      --hover-fill-color: #FFFFFF;\n",
       "      --disabled-bg-color: #3B4455;\n",
       "      --disabled-fill-color: #666;\n",
       "  }\n",
       "\n",
       "  .colab-df-quickchart {\n",
       "    background-color: var(--bg-color);\n",
       "    border: none;\n",
       "    border-radius: 50%;\n",
       "    cursor: pointer;\n",
       "    display: none;\n",
       "    fill: var(--fill-color);\n",
       "    height: 32px;\n",
       "    padding: 0;\n",
       "    width: 32px;\n",
       "  }\n",
       "\n",
       "  .colab-df-quickchart:hover {\n",
       "    background-color: var(--hover-bg-color);\n",
       "    box-shadow: 0 1px 2px rgba(60, 64, 67, 0.3), 0 1px 3px 1px rgba(60, 64, 67, 0.15);\n",
       "    fill: var(--button-hover-fill-color);\n",
       "  }\n",
       "\n",
       "  .colab-df-quickchart-complete:disabled,\n",
       "  .colab-df-quickchart-complete:disabled:hover {\n",
       "    background-color: var(--disabled-bg-color);\n",
       "    fill: var(--disabled-fill-color);\n",
       "    box-shadow: none;\n",
       "  }\n",
       "\n",
       "  .colab-df-spinner {\n",
       "    border: 2px solid var(--fill-color);\n",
       "    border-color: transparent;\n",
       "    border-bottom-color: var(--fill-color);\n",
       "    animation:\n",
       "      spin 1s steps(1) infinite;\n",
       "  }\n",
       "\n",
       "  @keyframes spin {\n",
       "    0% {\n",
       "      border-color: transparent;\n",
       "      border-bottom-color: var(--fill-color);\n",
       "      border-left-color: var(--fill-color);\n",
       "    }\n",
       "    20% {\n",
       "      border-color: transparent;\n",
       "      border-left-color: var(--fill-color);\n",
       "      border-top-color: var(--fill-color);\n",
       "    }\n",
       "    30% {\n",
       "      border-color: transparent;\n",
       "      border-left-color: var(--fill-color);\n",
       "      border-top-color: var(--fill-color);\n",
       "      border-right-color: var(--fill-color);\n",
       "    }\n",
       "    40% {\n",
       "      border-color: transparent;\n",
       "      border-right-color: var(--fill-color);\n",
       "      border-top-color: var(--fill-color);\n",
       "    }\n",
       "    60% {\n",
       "      border-color: transparent;\n",
       "      border-right-color: var(--fill-color);\n",
       "    }\n",
       "    80% {\n",
       "      border-color: transparent;\n",
       "      border-right-color: var(--fill-color);\n",
       "      border-bottom-color: var(--fill-color);\n",
       "    }\n",
       "    90% {\n",
       "      border-color: transparent;\n",
       "      border-bottom-color: var(--fill-color);\n",
       "    }\n",
       "  }\n",
       "</style>\n",
       "\n",
       "  <script>\n",
       "    async function quickchart(key) {\n",
       "      const quickchartButtonEl =\n",
       "        document.querySelector('#' + key + ' button');\n",
       "      quickchartButtonEl.disabled = true;  // To prevent multiple clicks.\n",
       "      quickchartButtonEl.classList.add('colab-df-spinner');\n",
       "      try {\n",
       "        const charts = await google.colab.kernel.invokeFunction(\n",
       "            'suggestCharts', [key], {});\n",
       "      } catch (error) {\n",
       "        console.error('Error during call to suggestCharts:', error);\n",
       "      }\n",
       "      quickchartButtonEl.classList.remove('colab-df-spinner');\n",
       "      quickchartButtonEl.classList.add('colab-df-quickchart-complete');\n",
       "    }\n",
       "    (() => {\n",
       "      let quickchartButtonEl =\n",
       "        document.querySelector('#df-0e2cbb26-7988-47b8-90ba-9dde2ababd36 button');\n",
       "      quickchartButtonEl.style.display =\n",
       "        google.colab.kernel.accessAllowed ? 'block' : 'none';\n",
       "    })();\n",
       "  </script>\n",
       "</div>\n",
       "    </div>\n",
       "  </div>\n"
      ],
      "text/plain": [
       "     A    B  C\n",
       "0  1.0  5.0  4\n",
       "1  2.0  5.0  5\n",
       "2  NaN  5.0  6"
      ]
     },
     "metadata": {},
     "output_type": "display_data"
    }
   ],
   "source": [
    "df_w_nan.loc[df_w_nan.B.isnull(), 'B'] =  df_w_nan.B.mean()\n",
    "df_w_nan"
   ]
  },
  {
   "cell_type": "markdown",
   "id": "0111ea74",
   "metadata": {},
   "source": [
    "\n",
    "### 6 Computing Group-wise Summary Statistics\n",
    "\n",
    "\n",
    "\n",
    "Categorizing a dataset and applying a function to each group (whether be an aggregation or transformation) is often a critical component of a data analysis workflow.  \n",
    "\n",
    "\n",
    "\n",
    "\n",
    "Splitting data in a `DataFrame` into groups can be done by calling the `DataFrame`'s [`groupby()`](https://pandas.pydata.org/pandas-docs/stable/reference/api/pandas.DataFrame.groupby.html) method, passing the name of the desired key column:\n",
    "\n"
   ]
  },
  {
   "cell_type": "code",
   "execution_count": null,
   "id": "32bc1b1f",
   "metadata": {},
   "outputs": [
    {
     "data": {
      "application/vnd.google.colaboratory.intrinsic+json": {
       "summary": "{\n  \"name\": \"stock\",\n  \"rows\": 12,\n  \"fields\": [\n    {\n      \"column\": \"Date\",\n      \"properties\": {\n        \"dtype\": \"object\",\n        \"num_unique_values\": 4,\n        \"samples\": [\n          \"2015/5/4\",\n          \"2015/5/6\",\n          \"2015/5/1\"\n        ],\n        \"semantic_type\": \"\",\n        \"description\": \"\"\n      }\n    },\n    {\n      \"column\": \"Symbol\",\n      \"properties\": {\n        \"dtype\": \"category\",\n        \"num_unique_values\": 3,\n        \"samples\": [\n          \"GOOG\",\n          \"APPL\",\n          \"AMZN\"\n        ],\n        \"semantic_type\": \"\",\n        \"description\": \"\"\n      }\n    },\n    {\n      \"column\": \"Price\",\n      \"properties\": {\n        \"dtype\": \"number\",\n        \"std\": 183.11895671451376,\n        \"min\": 116.547424,\n        \"max\": 540.780029,\n        \"num_unique_values\": 12,\n        \"samples\": [\n          421.190002,\n          423.040009,\n          537.900024\n        ],\n        \"semantic_type\": \"\",\n        \"description\": \"\"\n      }\n    },\n    {\n      \"column\": \"Volume\",\n      \"properties\": {\n        \"dtype\": \"number\",\n        \"std\": 27902924,\n        \"min\": 1308000,\n        \"max\": 72141000,\n        \"num_unique_values\": 12,\n        \"samples\": [\n          2856400,\n          2270400,\n          1768200\n        ],\n        \"semantic_type\": \"\",\n        \"description\": \"\"\n      }\n    }\n  ]\n}",
       "type": "dataframe",
       "variable_name": "stock"
      },
      "text/html": [
       "\n",
       "  <div id=\"df-d9843f4a-b1ec-4ef2-a793-d021a96bad99\" class=\"colab-df-container\">\n",
       "    <div>\n",
       "<style scoped>\n",
       "    .dataframe tbody tr th:only-of-type {\n",
       "        vertical-align: middle;\n",
       "    }\n",
       "\n",
       "    .dataframe tbody tr th {\n",
       "        vertical-align: top;\n",
       "    }\n",
       "\n",
       "    .dataframe thead th {\n",
       "        text-align: right;\n",
       "    }\n",
       "</style>\n",
       "<table border=\"1\" class=\"dataframe\">\n",
       "  <thead>\n",
       "    <tr style=\"text-align: right;\">\n",
       "      <th></th>\n",
       "      <th>Date</th>\n",
       "      <th>Symbol</th>\n",
       "      <th>Price</th>\n",
       "      <th>Volume</th>\n",
       "    </tr>\n",
       "  </thead>\n",
       "  <tbody>\n",
       "    <tr>\n",
       "      <th>0</th>\n",
       "      <td>2015/5/1</td>\n",
       "      <td>GOOG</td>\n",
       "      <td>537.900024</td>\n",
       "      <td>1768200</td>\n",
       "    </tr>\n",
       "    <tr>\n",
       "      <th>1</th>\n",
       "      <td>2015/5/4</td>\n",
       "      <td>GOOG</td>\n",
       "      <td>540.780029</td>\n",
       "      <td>1308000</td>\n",
       "    </tr>\n",
       "    <tr>\n",
       "      <th>2</th>\n",
       "      <td>2015/5/5</td>\n",
       "      <td>GOOG</td>\n",
       "      <td>530.799988</td>\n",
       "      <td>1383100</td>\n",
       "    </tr>\n",
       "    <tr>\n",
       "      <th>3</th>\n",
       "      <td>2015/5/6</td>\n",
       "      <td>GOOG</td>\n",
       "      <td>524.219971</td>\n",
       "      <td>1567000</td>\n",
       "    </tr>\n",
       "    <tr>\n",
       "      <th>4</th>\n",
       "      <td>2015/5/1</td>\n",
       "      <td>APPL</td>\n",
       "      <td>120.220688</td>\n",
       "      <td>58512600</td>\n",
       "    </tr>\n",
       "    <tr>\n",
       "      <th>5</th>\n",
       "      <td>2015/5/4</td>\n",
       "      <td>APPL</td>\n",
       "      <td>119.987633</td>\n",
       "      <td>50988300</td>\n",
       "    </tr>\n",
       "    <tr>\n",
       "      <th>6</th>\n",
       "      <td>2015/5/5</td>\n",
       "      <td>APPL</td>\n",
       "      <td>117.283951</td>\n",
       "      <td>49271400</td>\n",
       "    </tr>\n",
       "    <tr>\n",
       "      <th>7</th>\n",
       "      <td>2015/5/6</td>\n",
       "      <td>APPL</td>\n",
       "      <td>116.547424</td>\n",
       "      <td>72141000</td>\n",
       "    </tr>\n",
       "    <tr>\n",
       "      <th>8</th>\n",
       "      <td>2015/5/1</td>\n",
       "      <td>AMZN</td>\n",
       "      <td>422.869995</td>\n",
       "      <td>3565800</td>\n",
       "    </tr>\n",
       "    <tr>\n",
       "      <th>9</th>\n",
       "      <td>2015/5/4</td>\n",
       "      <td>AMZN</td>\n",
       "      <td>423.040009</td>\n",
       "      <td>2270400</td>\n",
       "    </tr>\n",
       "    <tr>\n",
       "      <th>10</th>\n",
       "      <td>2015/5/5</td>\n",
       "      <td>AMZN</td>\n",
       "      <td>421.190002</td>\n",
       "      <td>2856400</td>\n",
       "    </tr>\n",
       "    <tr>\n",
       "      <th>11</th>\n",
       "      <td>2015/5/6</td>\n",
       "      <td>AMZN</td>\n",
       "      <td>419.100006</td>\n",
       "      <td>2552500</td>\n",
       "    </tr>\n",
       "  </tbody>\n",
       "</table>\n",
       "</div>\n",
       "    <div class=\"colab-df-buttons\">\n",
       "\n",
       "  <div class=\"colab-df-container\">\n",
       "    <button class=\"colab-df-convert\" onclick=\"convertToInteractive('df-d9843f4a-b1ec-4ef2-a793-d021a96bad99')\"\n",
       "            title=\"Convert this dataframe to an interactive table.\"\n",
       "            style=\"display:none;\">\n",
       "\n",
       "  <svg xmlns=\"http://www.w3.org/2000/svg\" height=\"24px\" viewBox=\"0 -960 960 960\">\n",
       "    <path d=\"M120-120v-720h720v720H120Zm60-500h600v-160H180v160Zm220 220h160v-160H400v160Zm0 220h160v-160H400v160ZM180-400h160v-160H180v160Zm440 0h160v-160H620v160ZM180-180h160v-160H180v160Zm440 0h160v-160H620v160Z\"/>\n",
       "  </svg>\n",
       "    </button>\n",
       "\n",
       "  <style>\n",
       "    .colab-df-container {\n",
       "      display:flex;\n",
       "      gap: 12px;\n",
       "    }\n",
       "\n",
       "    .colab-df-convert {\n",
       "      background-color: #E8F0FE;\n",
       "      border: none;\n",
       "      border-radius: 50%;\n",
       "      cursor: pointer;\n",
       "      display: none;\n",
       "      fill: #1967D2;\n",
       "      height: 32px;\n",
       "      padding: 0 0 0 0;\n",
       "      width: 32px;\n",
       "    }\n",
       "\n",
       "    .colab-df-convert:hover {\n",
       "      background-color: #E2EBFA;\n",
       "      box-shadow: 0px 1px 2px rgba(60, 64, 67, 0.3), 0px 1px 3px 1px rgba(60, 64, 67, 0.15);\n",
       "      fill: #174EA6;\n",
       "    }\n",
       "\n",
       "    .colab-df-buttons div {\n",
       "      margin-bottom: 4px;\n",
       "    }\n",
       "\n",
       "    [theme=dark] .colab-df-convert {\n",
       "      background-color: #3B4455;\n",
       "      fill: #D2E3FC;\n",
       "    }\n",
       "\n",
       "    [theme=dark] .colab-df-convert:hover {\n",
       "      background-color: #434B5C;\n",
       "      box-shadow: 0px 1px 3px 1px rgba(0, 0, 0, 0.15);\n",
       "      filter: drop-shadow(0px 1px 2px rgba(0, 0, 0, 0.3));\n",
       "      fill: #FFFFFF;\n",
       "    }\n",
       "  </style>\n",
       "\n",
       "    <script>\n",
       "      const buttonEl =\n",
       "        document.querySelector('#df-d9843f4a-b1ec-4ef2-a793-d021a96bad99 button.colab-df-convert');\n",
       "      buttonEl.style.display =\n",
       "        google.colab.kernel.accessAllowed ? 'block' : 'none';\n",
       "\n",
       "      async function convertToInteractive(key) {\n",
       "        const element = document.querySelector('#df-d9843f4a-b1ec-4ef2-a793-d021a96bad99');\n",
       "        const dataTable =\n",
       "          await google.colab.kernel.invokeFunction('convertToInteractive',\n",
       "                                                    [key], {});\n",
       "        if (!dataTable) return;\n",
       "\n",
       "        const docLinkHtml = 'Like what you see? Visit the ' +\n",
       "          '<a target=\"_blank\" href=https://colab.research.google.com/notebooks/data_table.ipynb>data table notebook</a>'\n",
       "          + ' to learn more about interactive tables.';\n",
       "        element.innerHTML = '';\n",
       "        dataTable['output_type'] = 'display_data';\n",
       "        await google.colab.output.renderOutput(dataTable, element);\n",
       "        const docLink = document.createElement('div');\n",
       "        docLink.innerHTML = docLinkHtml;\n",
       "        element.appendChild(docLink);\n",
       "      }\n",
       "    </script>\n",
       "  </div>\n",
       "\n",
       "\n",
       "<div id=\"df-0475d0c0-bfb7-47c8-9bf1-f57348746c35\">\n",
       "  <button class=\"colab-df-quickchart\" onclick=\"quickchart('df-0475d0c0-bfb7-47c8-9bf1-f57348746c35')\"\n",
       "            title=\"Suggest charts\"\n",
       "            style=\"display:none;\">\n",
       "\n",
       "<svg xmlns=\"http://www.w3.org/2000/svg\" height=\"24px\"viewBox=\"0 0 24 24\"\n",
       "     width=\"24px\">\n",
       "    <g>\n",
       "        <path d=\"M19 3H5c-1.1 0-2 .9-2 2v14c0 1.1.9 2 2 2h14c1.1 0 2-.9 2-2V5c0-1.1-.9-2-2-2zM9 17H7v-7h2v7zm4 0h-2V7h2v10zm4 0h-2v-4h2v4z\"/>\n",
       "    </g>\n",
       "</svg>\n",
       "  </button>\n",
       "\n",
       "<style>\n",
       "  .colab-df-quickchart {\n",
       "      --bg-color: #E8F0FE;\n",
       "      --fill-color: #1967D2;\n",
       "      --hover-bg-color: #E2EBFA;\n",
       "      --hover-fill-color: #174EA6;\n",
       "      --disabled-fill-color: #AAA;\n",
       "      --disabled-bg-color: #DDD;\n",
       "  }\n",
       "\n",
       "  [theme=dark] .colab-df-quickchart {\n",
       "      --bg-color: #3B4455;\n",
       "      --fill-color: #D2E3FC;\n",
       "      --hover-bg-color: #434B5C;\n",
       "      --hover-fill-color: #FFFFFF;\n",
       "      --disabled-bg-color: #3B4455;\n",
       "      --disabled-fill-color: #666;\n",
       "  }\n",
       "\n",
       "  .colab-df-quickchart {\n",
       "    background-color: var(--bg-color);\n",
       "    border: none;\n",
       "    border-radius: 50%;\n",
       "    cursor: pointer;\n",
       "    display: none;\n",
       "    fill: var(--fill-color);\n",
       "    height: 32px;\n",
       "    padding: 0;\n",
       "    width: 32px;\n",
       "  }\n",
       "\n",
       "  .colab-df-quickchart:hover {\n",
       "    background-color: var(--hover-bg-color);\n",
       "    box-shadow: 0 1px 2px rgba(60, 64, 67, 0.3), 0 1px 3px 1px rgba(60, 64, 67, 0.15);\n",
       "    fill: var(--button-hover-fill-color);\n",
       "  }\n",
       "\n",
       "  .colab-df-quickchart-complete:disabled,\n",
       "  .colab-df-quickchart-complete:disabled:hover {\n",
       "    background-color: var(--disabled-bg-color);\n",
       "    fill: var(--disabled-fill-color);\n",
       "    box-shadow: none;\n",
       "  }\n",
       "\n",
       "  .colab-df-spinner {\n",
       "    border: 2px solid var(--fill-color);\n",
       "    border-color: transparent;\n",
       "    border-bottom-color: var(--fill-color);\n",
       "    animation:\n",
       "      spin 1s steps(1) infinite;\n",
       "  }\n",
       "\n",
       "  @keyframes spin {\n",
       "    0% {\n",
       "      border-color: transparent;\n",
       "      border-bottom-color: var(--fill-color);\n",
       "      border-left-color: var(--fill-color);\n",
       "    }\n",
       "    20% {\n",
       "      border-color: transparent;\n",
       "      border-left-color: var(--fill-color);\n",
       "      border-top-color: var(--fill-color);\n",
       "    }\n",
       "    30% {\n",
       "      border-color: transparent;\n",
       "      border-left-color: var(--fill-color);\n",
       "      border-top-color: var(--fill-color);\n",
       "      border-right-color: var(--fill-color);\n",
       "    }\n",
       "    40% {\n",
       "      border-color: transparent;\n",
       "      border-right-color: var(--fill-color);\n",
       "      border-top-color: var(--fill-color);\n",
       "    }\n",
       "    60% {\n",
       "      border-color: transparent;\n",
       "      border-right-color: var(--fill-color);\n",
       "    }\n",
       "    80% {\n",
       "      border-color: transparent;\n",
       "      border-right-color: var(--fill-color);\n",
       "      border-bottom-color: var(--fill-color);\n",
       "    }\n",
       "    90% {\n",
       "      border-color: transparent;\n",
       "      border-bottom-color: var(--fill-color);\n",
       "    }\n",
       "  }\n",
       "</style>\n",
       "\n",
       "  <script>\n",
       "    async function quickchart(key) {\n",
       "      const quickchartButtonEl =\n",
       "        document.querySelector('#' + key + ' button');\n",
       "      quickchartButtonEl.disabled = true;  // To prevent multiple clicks.\n",
       "      quickchartButtonEl.classList.add('colab-df-spinner');\n",
       "      try {\n",
       "        const charts = await google.colab.kernel.invokeFunction(\n",
       "            'suggestCharts', [key], {});\n",
       "      } catch (error) {\n",
       "        console.error('Error during call to suggestCharts:', error);\n",
       "      }\n",
       "      quickchartButtonEl.classList.remove('colab-df-spinner');\n",
       "      quickchartButtonEl.classList.add('colab-df-quickchart-complete');\n",
       "    }\n",
       "    (() => {\n",
       "      let quickchartButtonEl =\n",
       "        document.querySelector('#df-0475d0c0-bfb7-47c8-9bf1-f57348746c35 button');\n",
       "      quickchartButtonEl.style.display =\n",
       "        google.colab.kernel.accessAllowed ? 'block' : 'none';\n",
       "    })();\n",
       "  </script>\n",
       "</div>\n",
       "    </div>\n",
       "  </div>\n"
      ],
      "text/plain": [
       "        Date Symbol       Price    Volume\n",
       "0   2015/5/1   GOOG  537.900024   1768200\n",
       "1   2015/5/4   GOOG  540.780029   1308000\n",
       "2   2015/5/5   GOOG  530.799988   1383100\n",
       "3   2015/5/6   GOOG  524.219971   1567000\n",
       "4   2015/5/1   APPL  120.220688  58512600\n",
       "5   2015/5/4   APPL  119.987633  50988300\n",
       "6   2015/5/5   APPL  117.283951  49271400\n",
       "7   2015/5/6   APPL  116.547424  72141000\n",
       "8   2015/5/1   AMZN  422.869995   3565800\n",
       "9   2015/5/4   AMZN  423.040009   2270400\n",
       "10  2015/5/5   AMZN  421.190002   2856400\n",
       "11  2015/5/6   AMZN  419.100006   2552500"
      ]
     },
     "metadata": {},
     "output_type": "display_data"
    }
   ],
   "source": [
    "stock = pd.read_csv(\"https://raw.githubusercontent.com/daisydream00/datafiles/refs/heads/main/pricevolume_sub.csv\")\n",
    "stock"
   ]
  },
  {
   "cell_type": "code",
   "execution_count": null,
   "id": "9543226f",
   "metadata": {},
   "outputs": [
    {
     "name": "stdout",
     "output_type": "stream",
     "text": [
      "Group: AMZN\n",
      "        Date Symbol       Price   Volume\n",
      "8   2015/5/1   AMZN  422.869995  3565800\n",
      "9   2015/5/4   AMZN  423.040009  2270400\n",
      "10  2015/5/5   AMZN  421.190002  2856400\n",
      "11  2015/5/6   AMZN  419.100006  2552500\n",
      "----------------------------------------\n",
      "Group: APPL\n",
      "       Date Symbol       Price    Volume\n",
      "4  2015/5/1   APPL  120.220688  58512600\n",
      "5  2015/5/4   APPL  119.987633  50988300\n",
      "6  2015/5/5   APPL  117.283951  49271400\n",
      "7  2015/5/6   APPL  116.547424  72141000\n",
      "----------------------------------------\n",
      "Group: GOOG\n",
      "       Date Symbol       Price   Volume\n",
      "0  2015/5/1   GOOG  537.900024  1768200\n",
      "1  2015/5/4   GOOG  540.780029  1308000\n",
      "2  2015/5/5   GOOG  530.799988  1383100\n",
      "3  2015/5/6   GOOG  524.219971  1567000\n",
      "----------------------------------------\n"
     ]
    }
   ],
   "source": [
    "stock_by_symbol = stock.groupby('Symbol')\n",
    "\n",
    "# what was returned is a GroupBy object\n",
    "# wrap it in a loop to examine the resulting groupings\n",
    "for key, group in stock_by_symbol:\n",
    "    print(f\"Group: {key}\")\n",
    "    print(group)\n",
    "    print(\"-\" * 40)  # Separator for clarity"
   ]
  },
  {
   "cell_type": "code",
   "execution_count": null,
   "id": "8d8b6706",
   "metadata": {},
   "outputs": [
    {
     "name": "stdout",
     "output_type": "stream",
     "text": [
      "Group: ('2015/5/1', 'AMZN')\n",
      "       Date Symbol       Price   Volume\n",
      "8  2015/5/1   AMZN  422.869995  3565800\n",
      "----------------------------------------\n",
      "Group: ('2015/5/1', 'APPL')\n",
      "       Date Symbol       Price    Volume\n",
      "4  2015/5/1   APPL  120.220688  58512600\n",
      "----------------------------------------\n",
      "Group: ('2015/5/1', 'GOOG')\n",
      "       Date Symbol       Price   Volume\n",
      "0  2015/5/1   GOOG  537.900024  1768200\n",
      "----------------------------------------\n",
      "Group: ('2015/5/4', 'AMZN')\n",
      "       Date Symbol       Price   Volume\n",
      "9  2015/5/4   AMZN  423.040009  2270400\n",
      "----------------------------------------\n",
      "Group: ('2015/5/4', 'APPL')\n",
      "       Date Symbol       Price    Volume\n",
      "5  2015/5/4   APPL  119.987633  50988300\n",
      "----------------------------------------\n",
      "Group: ('2015/5/4', 'GOOG')\n",
      "       Date Symbol       Price   Volume\n",
      "1  2015/5/4   GOOG  540.780029  1308000\n",
      "----------------------------------------\n",
      "Group: ('2015/5/5', 'AMZN')\n",
      "        Date Symbol       Price   Volume\n",
      "10  2015/5/5   AMZN  421.190002  2856400\n",
      "----------------------------------------\n",
      "Group: ('2015/5/5', 'APPL')\n",
      "       Date Symbol       Price    Volume\n",
      "6  2015/5/5   APPL  117.283951  49271400\n",
      "----------------------------------------\n",
      "Group: ('2015/5/5', 'GOOG')\n",
      "       Date Symbol       Price   Volume\n",
      "2  2015/5/5   GOOG  530.799988  1383100\n",
      "----------------------------------------\n",
      "Group: ('2015/5/6', 'AMZN')\n",
      "        Date Symbol       Price   Volume\n",
      "11  2015/5/6   AMZN  419.100006  2552500\n",
      "----------------------------------------\n",
      "Group: ('2015/5/6', 'APPL')\n",
      "       Date Symbol       Price    Volume\n",
      "7  2015/5/6   APPL  116.547424  72141000\n",
      "----------------------------------------\n",
      "Group: ('2015/5/6', 'GOOG')\n",
      "       Date Symbol       Price   Volume\n",
      "3  2015/5/6   GOOG  524.219971  1567000\n",
      "----------------------------------------\n"
     ]
    }
   ],
   "source": [
    "stock_by_date_symbol = stock.groupby(['Date', 'Symbol'])\n",
    "\n",
    "for key, group in stock_by_date_symbol:\n",
    "    print(f\"Group: {key}\")\n",
    "    print(group)\n",
    "    print(\"-\" * 40)  # Separator for clarity"
   ]
  },
  {
   "cell_type": "code",
   "execution_count": null,
   "id": "47734bd6",
   "metadata": {},
   "outputs": [
    {
     "data": {
      "application/vnd.google.colaboratory.intrinsic+json": {
       "summary": "{\n  \"name\": \"stock_by_symbol\",\n  \"rows\": 3,\n  \"fields\": [\n    {\n      \"column\": \"Symbol\",\n      \"properties\": {\n        \"dtype\": \"string\",\n        \"num_unique_values\": 3,\n        \"samples\": [\n          \"AMZN\",\n          \"APPL\",\n          \"GOOG\"\n        ],\n        \"semantic_type\": \"\",\n        \"description\": \"\"\n      }\n    },\n    {\n      \"column\": \"Price\",\n      \"properties\": {\n        \"dtype\": \"number\",\n        \"std\": 214.671775775214,\n        \"min\": 118.509924,\n        \"max\": 533.4250030000001,\n        \"num_unique_values\": 3,\n        \"samples\": [\n          421.550003,\n          118.509924,\n          533.4250030000001\n        ],\n        \"semantic_type\": \"\",\n        \"description\": \"\"\n      }\n    },\n    {\n      \"column\": \"Volume\",\n      \"properties\": {\n        \"dtype\": \"number\",\n        \"std\": 32089639.54262861,\n        \"min\": 1506575.0,\n        \"max\": 57728325.0,\n        \"num_unique_values\": 3,\n        \"samples\": [\n          2811275.0,\n          57728325.0,\n          1506575.0\n        ],\n        \"semantic_type\": \"\",\n        \"description\": \"\"\n      }\n    }\n  ]\n}",
       "type": "dataframe"
      },
      "text/html": [
       "\n",
       "  <div id=\"df-2a8adb87-2d85-47a3-be02-f1c62dc17855\" class=\"colab-df-container\">\n",
       "    <div>\n",
       "<style scoped>\n",
       "    .dataframe tbody tr th:only-of-type {\n",
       "        vertical-align: middle;\n",
       "    }\n",
       "\n",
       "    .dataframe tbody tr th {\n",
       "        vertical-align: top;\n",
       "    }\n",
       "\n",
       "    .dataframe thead th {\n",
       "        text-align: right;\n",
       "    }\n",
       "</style>\n",
       "<table border=\"1\" class=\"dataframe\">\n",
       "  <thead>\n",
       "    <tr style=\"text-align: right;\">\n",
       "      <th></th>\n",
       "      <th>Price</th>\n",
       "      <th>Volume</th>\n",
       "    </tr>\n",
       "    <tr>\n",
       "      <th>Symbol</th>\n",
       "      <th></th>\n",
       "      <th></th>\n",
       "    </tr>\n",
       "  </thead>\n",
       "  <tbody>\n",
       "    <tr>\n",
       "      <th>AMZN</th>\n",
       "      <td>421.550003</td>\n",
       "      <td>2811275.0</td>\n",
       "    </tr>\n",
       "    <tr>\n",
       "      <th>APPL</th>\n",
       "      <td>118.509924</td>\n",
       "      <td>57728325.0</td>\n",
       "    </tr>\n",
       "    <tr>\n",
       "      <th>GOOG</th>\n",
       "      <td>533.425003</td>\n",
       "      <td>1506575.0</td>\n",
       "    </tr>\n",
       "  </tbody>\n",
       "</table>\n",
       "</div>\n",
       "    <div class=\"colab-df-buttons\">\n",
       "\n",
       "  <div class=\"colab-df-container\">\n",
       "    <button class=\"colab-df-convert\" onclick=\"convertToInteractive('df-2a8adb87-2d85-47a3-be02-f1c62dc17855')\"\n",
       "            title=\"Convert this dataframe to an interactive table.\"\n",
       "            style=\"display:none;\">\n",
       "\n",
       "  <svg xmlns=\"http://www.w3.org/2000/svg\" height=\"24px\" viewBox=\"0 -960 960 960\">\n",
       "    <path d=\"M120-120v-720h720v720H120Zm60-500h600v-160H180v160Zm220 220h160v-160H400v160Zm0 220h160v-160H400v160ZM180-400h160v-160H180v160Zm440 0h160v-160H620v160ZM180-180h160v-160H180v160Zm440 0h160v-160H620v160Z\"/>\n",
       "  </svg>\n",
       "    </button>\n",
       "\n",
       "  <style>\n",
       "    .colab-df-container {\n",
       "      display:flex;\n",
       "      gap: 12px;\n",
       "    }\n",
       "\n",
       "    .colab-df-convert {\n",
       "      background-color: #E8F0FE;\n",
       "      border: none;\n",
       "      border-radius: 50%;\n",
       "      cursor: pointer;\n",
       "      display: none;\n",
       "      fill: #1967D2;\n",
       "      height: 32px;\n",
       "      padding: 0 0 0 0;\n",
       "      width: 32px;\n",
       "    }\n",
       "\n",
       "    .colab-df-convert:hover {\n",
       "      background-color: #E2EBFA;\n",
       "      box-shadow: 0px 1px 2px rgba(60, 64, 67, 0.3), 0px 1px 3px 1px rgba(60, 64, 67, 0.15);\n",
       "      fill: #174EA6;\n",
       "    }\n",
       "\n",
       "    .colab-df-buttons div {\n",
       "      margin-bottom: 4px;\n",
       "    }\n",
       "\n",
       "    [theme=dark] .colab-df-convert {\n",
       "      background-color: #3B4455;\n",
       "      fill: #D2E3FC;\n",
       "    }\n",
       "\n",
       "    [theme=dark] .colab-df-convert:hover {\n",
       "      background-color: #434B5C;\n",
       "      box-shadow: 0px 1px 3px 1px rgba(0, 0, 0, 0.15);\n",
       "      filter: drop-shadow(0px 1px 2px rgba(0, 0, 0, 0.3));\n",
       "      fill: #FFFFFF;\n",
       "    }\n",
       "  </style>\n",
       "\n",
       "    <script>\n",
       "      const buttonEl =\n",
       "        document.querySelector('#df-2a8adb87-2d85-47a3-be02-f1c62dc17855 button.colab-df-convert');\n",
       "      buttonEl.style.display =\n",
       "        google.colab.kernel.accessAllowed ? 'block' : 'none';\n",
       "\n",
       "      async function convertToInteractive(key) {\n",
       "        const element = document.querySelector('#df-2a8adb87-2d85-47a3-be02-f1c62dc17855');\n",
       "        const dataTable =\n",
       "          await google.colab.kernel.invokeFunction('convertToInteractive',\n",
       "                                                    [key], {});\n",
       "        if (!dataTable) return;\n",
       "\n",
       "        const docLinkHtml = 'Like what you see? Visit the ' +\n",
       "          '<a target=\"_blank\" href=https://colab.research.google.com/notebooks/data_table.ipynb>data table notebook</a>'\n",
       "          + ' to learn more about interactive tables.';\n",
       "        element.innerHTML = '';\n",
       "        dataTable['output_type'] = 'display_data';\n",
       "        await google.colab.output.renderOutput(dataTable, element);\n",
       "        const docLink = document.createElement('div');\n",
       "        docLink.innerHTML = docLinkHtml;\n",
       "        element.appendChild(docLink);\n",
       "      }\n",
       "    </script>\n",
       "  </div>\n",
       "\n",
       "\n",
       "<div id=\"df-569812f3-d05f-4e23-9375-f3dce18432aa\">\n",
       "  <button class=\"colab-df-quickchart\" onclick=\"quickchart('df-569812f3-d05f-4e23-9375-f3dce18432aa')\"\n",
       "            title=\"Suggest charts\"\n",
       "            style=\"display:none;\">\n",
       "\n",
       "<svg xmlns=\"http://www.w3.org/2000/svg\" height=\"24px\"viewBox=\"0 0 24 24\"\n",
       "     width=\"24px\">\n",
       "    <g>\n",
       "        <path d=\"M19 3H5c-1.1 0-2 .9-2 2v14c0 1.1.9 2 2 2h14c1.1 0 2-.9 2-2V5c0-1.1-.9-2-2-2zM9 17H7v-7h2v7zm4 0h-2V7h2v10zm4 0h-2v-4h2v4z\"/>\n",
       "    </g>\n",
       "</svg>\n",
       "  </button>\n",
       "\n",
       "<style>\n",
       "  .colab-df-quickchart {\n",
       "      --bg-color: #E8F0FE;\n",
       "      --fill-color: #1967D2;\n",
       "      --hover-bg-color: #E2EBFA;\n",
       "      --hover-fill-color: #174EA6;\n",
       "      --disabled-fill-color: #AAA;\n",
       "      --disabled-bg-color: #DDD;\n",
       "  }\n",
       "\n",
       "  [theme=dark] .colab-df-quickchart {\n",
       "      --bg-color: #3B4455;\n",
       "      --fill-color: #D2E3FC;\n",
       "      --hover-bg-color: #434B5C;\n",
       "      --hover-fill-color: #FFFFFF;\n",
       "      --disabled-bg-color: #3B4455;\n",
       "      --disabled-fill-color: #666;\n",
       "  }\n",
       "\n",
       "  .colab-df-quickchart {\n",
       "    background-color: var(--bg-color);\n",
       "    border: none;\n",
       "    border-radius: 50%;\n",
       "    cursor: pointer;\n",
       "    display: none;\n",
       "    fill: var(--fill-color);\n",
       "    height: 32px;\n",
       "    padding: 0;\n",
       "    width: 32px;\n",
       "  }\n",
       "\n",
       "  .colab-df-quickchart:hover {\n",
       "    background-color: var(--hover-bg-color);\n",
       "    box-shadow: 0 1px 2px rgba(60, 64, 67, 0.3), 0 1px 3px 1px rgba(60, 64, 67, 0.15);\n",
       "    fill: var(--button-hover-fill-color);\n",
       "  }\n",
       "\n",
       "  .colab-df-quickchart-complete:disabled,\n",
       "  .colab-df-quickchart-complete:disabled:hover {\n",
       "    background-color: var(--disabled-bg-color);\n",
       "    fill: var(--disabled-fill-color);\n",
       "    box-shadow: none;\n",
       "  }\n",
       "\n",
       "  .colab-df-spinner {\n",
       "    border: 2px solid var(--fill-color);\n",
       "    border-color: transparent;\n",
       "    border-bottom-color: var(--fill-color);\n",
       "    animation:\n",
       "      spin 1s steps(1) infinite;\n",
       "  }\n",
       "\n",
       "  @keyframes spin {\n",
       "    0% {\n",
       "      border-color: transparent;\n",
       "      border-bottom-color: var(--fill-color);\n",
       "      border-left-color: var(--fill-color);\n",
       "    }\n",
       "    20% {\n",
       "      border-color: transparent;\n",
       "      border-left-color: var(--fill-color);\n",
       "      border-top-color: var(--fill-color);\n",
       "    }\n",
       "    30% {\n",
       "      border-color: transparent;\n",
       "      border-left-color: var(--fill-color);\n",
       "      border-top-color: var(--fill-color);\n",
       "      border-right-color: var(--fill-color);\n",
       "    }\n",
       "    40% {\n",
       "      border-color: transparent;\n",
       "      border-right-color: var(--fill-color);\n",
       "      border-top-color: var(--fill-color);\n",
       "    }\n",
       "    60% {\n",
       "      border-color: transparent;\n",
       "      border-right-color: var(--fill-color);\n",
       "    }\n",
       "    80% {\n",
       "      border-color: transparent;\n",
       "      border-right-color: var(--fill-color);\n",
       "      border-bottom-color: var(--fill-color);\n",
       "    }\n",
       "    90% {\n",
       "      border-color: transparent;\n",
       "      border-bottom-color: var(--fill-color);\n",
       "    }\n",
       "  }\n",
       "</style>\n",
       "\n",
       "  <script>\n",
       "    async function quickchart(key) {\n",
       "      const quickchartButtonEl =\n",
       "        document.querySelector('#' + key + ' button');\n",
       "      quickchartButtonEl.disabled = true;  // To prevent multiple clicks.\n",
       "      quickchartButtonEl.classList.add('colab-df-spinner');\n",
       "      try {\n",
       "        const charts = await google.colab.kernel.invokeFunction(\n",
       "            'suggestCharts', [key], {});\n",
       "      } catch (error) {\n",
       "        console.error('Error during call to suggestCharts:', error);\n",
       "      }\n",
       "      quickchartButtonEl.classList.remove('colab-df-spinner');\n",
       "      quickchartButtonEl.classList.add('colab-df-quickchart-complete');\n",
       "    }\n",
       "    (() => {\n",
       "      let quickchartButtonEl =\n",
       "        document.querySelector('#df-569812f3-d05f-4e23-9375-f3dce18432aa button');\n",
       "      quickchartButtonEl.style.display =\n",
       "        google.colab.kernel.accessAllowed ? 'block' : 'none';\n",
       "    })();\n",
       "  </script>\n",
       "</div>\n",
       "    </div>\n",
       "  </div>\n"
      ],
      "text/plain": [
       "             Price      Volume\n",
       "Symbol                        \n",
       "AMZN    421.550003   2811275.0\n",
       "APPL    118.509924  57728325.0\n",
       "GOOG    533.425003   1506575.0"
      ]
     },
     "metadata": {},
     "output_type": "display_data"
    }
   ],
   "source": [
    "# can only apply to numeric columns\n",
    "stock_by_symbol.mean(numeric_only=True)"
   ]
  },
  {
   "cell_type": "markdown",
   "id": "4b55f577",
   "metadata": {},
   "source": [
    "To suppress using group keys as indices in the aggregated output, we can pass `as_index=False` to `groupby()` when first creating the `GroupBy` object:"
   ]
  },
  {
   "cell_type": "code",
   "execution_count": null,
   "id": "29677d50",
   "metadata": {},
   "outputs": [
    {
     "data": {
      "application/vnd.google.colaboratory.intrinsic+json": {
       "summary": "{\n  \"name\": \"stock_by_symbol\",\n  \"rows\": 3,\n  \"fields\": [\n    {\n      \"column\": \"Symbol\",\n      \"properties\": {\n        \"dtype\": \"string\",\n        \"num_unique_values\": 3,\n        \"samples\": [\n          \"AMZN\",\n          \"APPL\",\n          \"GOOG\"\n        ],\n        \"semantic_type\": \"\",\n        \"description\": \"\"\n      }\n    },\n    {\n      \"column\": \"Price\",\n      \"properties\": {\n        \"dtype\": \"number\",\n        \"std\": 214.671775775214,\n        \"min\": 118.509924,\n        \"max\": 533.4250030000001,\n        \"num_unique_values\": 3,\n        \"samples\": [\n          421.550003,\n          118.509924,\n          533.4250030000001\n        ],\n        \"semantic_type\": \"\",\n        \"description\": \"\"\n      }\n    },\n    {\n      \"column\": \"Volume\",\n      \"properties\": {\n        \"dtype\": \"number\",\n        \"std\": 32089639.54262861,\n        \"min\": 1506575.0,\n        \"max\": 57728325.0,\n        \"num_unique_values\": 3,\n        \"samples\": [\n          2811275.0,\n          57728325.0,\n          1506575.0\n        ],\n        \"semantic_type\": \"\",\n        \"description\": \"\"\n      }\n    }\n  ]\n}",
       "type": "dataframe"
      },
      "text/html": [
       "\n",
       "  <div id=\"df-ab433105-6861-4c5b-b2e5-e2add7ade97d\" class=\"colab-df-container\">\n",
       "    <div>\n",
       "<style scoped>\n",
       "    .dataframe tbody tr th:only-of-type {\n",
       "        vertical-align: middle;\n",
       "    }\n",
       "\n",
       "    .dataframe tbody tr th {\n",
       "        vertical-align: top;\n",
       "    }\n",
       "\n",
       "    .dataframe thead th {\n",
       "        text-align: right;\n",
       "    }\n",
       "</style>\n",
       "<table border=\"1\" class=\"dataframe\">\n",
       "  <thead>\n",
       "    <tr style=\"text-align: right;\">\n",
       "      <th></th>\n",
       "      <th>Symbol</th>\n",
       "      <th>Price</th>\n",
       "      <th>Volume</th>\n",
       "    </tr>\n",
       "  </thead>\n",
       "  <tbody>\n",
       "    <tr>\n",
       "      <th>0</th>\n",
       "      <td>AMZN</td>\n",
       "      <td>421.550003</td>\n",
       "      <td>2811275.0</td>\n",
       "    </tr>\n",
       "    <tr>\n",
       "      <th>1</th>\n",
       "      <td>APPL</td>\n",
       "      <td>118.509924</td>\n",
       "      <td>57728325.0</td>\n",
       "    </tr>\n",
       "    <tr>\n",
       "      <th>2</th>\n",
       "      <td>GOOG</td>\n",
       "      <td>533.425003</td>\n",
       "      <td>1506575.0</td>\n",
       "    </tr>\n",
       "  </tbody>\n",
       "</table>\n",
       "</div>\n",
       "    <div class=\"colab-df-buttons\">\n",
       "\n",
       "  <div class=\"colab-df-container\">\n",
       "    <button class=\"colab-df-convert\" onclick=\"convertToInteractive('df-ab433105-6861-4c5b-b2e5-e2add7ade97d')\"\n",
       "            title=\"Convert this dataframe to an interactive table.\"\n",
       "            style=\"display:none;\">\n",
       "\n",
       "  <svg xmlns=\"http://www.w3.org/2000/svg\" height=\"24px\" viewBox=\"0 -960 960 960\">\n",
       "    <path d=\"M120-120v-720h720v720H120Zm60-500h600v-160H180v160Zm220 220h160v-160H400v160Zm0 220h160v-160H400v160ZM180-400h160v-160H180v160Zm440 0h160v-160H620v160ZM180-180h160v-160H180v160Zm440 0h160v-160H620v160Z\"/>\n",
       "  </svg>\n",
       "    </button>\n",
       "\n",
       "  <style>\n",
       "    .colab-df-container {\n",
       "      display:flex;\n",
       "      gap: 12px;\n",
       "    }\n",
       "\n",
       "    .colab-df-convert {\n",
       "      background-color: #E8F0FE;\n",
       "      border: none;\n",
       "      border-radius: 50%;\n",
       "      cursor: pointer;\n",
       "      display: none;\n",
       "      fill: #1967D2;\n",
       "      height: 32px;\n",
       "      padding: 0 0 0 0;\n",
       "      width: 32px;\n",
       "    }\n",
       "\n",
       "    .colab-df-convert:hover {\n",
       "      background-color: #E2EBFA;\n",
       "      box-shadow: 0px 1px 2px rgba(60, 64, 67, 0.3), 0px 1px 3px 1px rgba(60, 64, 67, 0.15);\n",
       "      fill: #174EA6;\n",
       "    }\n",
       "\n",
       "    .colab-df-buttons div {\n",
       "      margin-bottom: 4px;\n",
       "    }\n",
       "\n",
       "    [theme=dark] .colab-df-convert {\n",
       "      background-color: #3B4455;\n",
       "      fill: #D2E3FC;\n",
       "    }\n",
       "\n",
       "    [theme=dark] .colab-df-convert:hover {\n",
       "      background-color: #434B5C;\n",
       "      box-shadow: 0px 1px 3px 1px rgba(0, 0, 0, 0.15);\n",
       "      filter: drop-shadow(0px 1px 2px rgba(0, 0, 0, 0.3));\n",
       "      fill: #FFFFFF;\n",
       "    }\n",
       "  </style>\n",
       "\n",
       "    <script>\n",
       "      const buttonEl =\n",
       "        document.querySelector('#df-ab433105-6861-4c5b-b2e5-e2add7ade97d button.colab-df-convert');\n",
       "      buttonEl.style.display =\n",
       "        google.colab.kernel.accessAllowed ? 'block' : 'none';\n",
       "\n",
       "      async function convertToInteractive(key) {\n",
       "        const element = document.querySelector('#df-ab433105-6861-4c5b-b2e5-e2add7ade97d');\n",
       "        const dataTable =\n",
       "          await google.colab.kernel.invokeFunction('convertToInteractive',\n",
       "                                                    [key], {});\n",
       "        if (!dataTable) return;\n",
       "\n",
       "        const docLinkHtml = 'Like what you see? Visit the ' +\n",
       "          '<a target=\"_blank\" href=https://colab.research.google.com/notebooks/data_table.ipynb>data table notebook</a>'\n",
       "          + ' to learn more about interactive tables.';\n",
       "        element.innerHTML = '';\n",
       "        dataTable['output_type'] = 'display_data';\n",
       "        await google.colab.output.renderOutput(dataTable, element);\n",
       "        const docLink = document.createElement('div');\n",
       "        docLink.innerHTML = docLinkHtml;\n",
       "        element.appendChild(docLink);\n",
       "      }\n",
       "    </script>\n",
       "  </div>\n",
       "\n",
       "\n",
       "<div id=\"df-69cd208e-9d05-4483-8891-15618726279a\">\n",
       "  <button class=\"colab-df-quickchart\" onclick=\"quickchart('df-69cd208e-9d05-4483-8891-15618726279a')\"\n",
       "            title=\"Suggest charts\"\n",
       "            style=\"display:none;\">\n",
       "\n",
       "<svg xmlns=\"http://www.w3.org/2000/svg\" height=\"24px\"viewBox=\"0 0 24 24\"\n",
       "     width=\"24px\">\n",
       "    <g>\n",
       "        <path d=\"M19 3H5c-1.1 0-2 .9-2 2v14c0 1.1.9 2 2 2h14c1.1 0 2-.9 2-2V5c0-1.1-.9-2-2-2zM9 17H7v-7h2v7zm4 0h-2V7h2v10zm4 0h-2v-4h2v4z\"/>\n",
       "    </g>\n",
       "</svg>\n",
       "  </button>\n",
       "\n",
       "<style>\n",
       "  .colab-df-quickchart {\n",
       "      --bg-color: #E8F0FE;\n",
       "      --fill-color: #1967D2;\n",
       "      --hover-bg-color: #E2EBFA;\n",
       "      --hover-fill-color: #174EA6;\n",
       "      --disabled-fill-color: #AAA;\n",
       "      --disabled-bg-color: #DDD;\n",
       "  }\n",
       "\n",
       "  [theme=dark] .colab-df-quickchart {\n",
       "      --bg-color: #3B4455;\n",
       "      --fill-color: #D2E3FC;\n",
       "      --hover-bg-color: #434B5C;\n",
       "      --hover-fill-color: #FFFFFF;\n",
       "      --disabled-bg-color: #3B4455;\n",
       "      --disabled-fill-color: #666;\n",
       "  }\n",
       "\n",
       "  .colab-df-quickchart {\n",
       "    background-color: var(--bg-color);\n",
       "    border: none;\n",
       "    border-radius: 50%;\n",
       "    cursor: pointer;\n",
       "    display: none;\n",
       "    fill: var(--fill-color);\n",
       "    height: 32px;\n",
       "    padding: 0;\n",
       "    width: 32px;\n",
       "  }\n",
       "\n",
       "  .colab-df-quickchart:hover {\n",
       "    background-color: var(--hover-bg-color);\n",
       "    box-shadow: 0 1px 2px rgba(60, 64, 67, 0.3), 0 1px 3px 1px rgba(60, 64, 67, 0.15);\n",
       "    fill: var(--button-hover-fill-color);\n",
       "  }\n",
       "\n",
       "  .colab-df-quickchart-complete:disabled,\n",
       "  .colab-df-quickchart-complete:disabled:hover {\n",
       "    background-color: var(--disabled-bg-color);\n",
       "    fill: var(--disabled-fill-color);\n",
       "    box-shadow: none;\n",
       "  }\n",
       "\n",
       "  .colab-df-spinner {\n",
       "    border: 2px solid var(--fill-color);\n",
       "    border-color: transparent;\n",
       "    border-bottom-color: var(--fill-color);\n",
       "    animation:\n",
       "      spin 1s steps(1) infinite;\n",
       "  }\n",
       "\n",
       "  @keyframes spin {\n",
       "    0% {\n",
       "      border-color: transparent;\n",
       "      border-bottom-color: var(--fill-color);\n",
       "      border-left-color: var(--fill-color);\n",
       "    }\n",
       "    20% {\n",
       "      border-color: transparent;\n",
       "      border-left-color: var(--fill-color);\n",
       "      border-top-color: var(--fill-color);\n",
       "    }\n",
       "    30% {\n",
       "      border-color: transparent;\n",
       "      border-left-color: var(--fill-color);\n",
       "      border-top-color: var(--fill-color);\n",
       "      border-right-color: var(--fill-color);\n",
       "    }\n",
       "    40% {\n",
       "      border-color: transparent;\n",
       "      border-right-color: var(--fill-color);\n",
       "      border-top-color: var(--fill-color);\n",
       "    }\n",
       "    60% {\n",
       "      border-color: transparent;\n",
       "      border-right-color: var(--fill-color);\n",
       "    }\n",
       "    80% {\n",
       "      border-color: transparent;\n",
       "      border-right-color: var(--fill-color);\n",
       "      border-bottom-color: var(--fill-color);\n",
       "    }\n",
       "    90% {\n",
       "      border-color: transparent;\n",
       "      border-bottom-color: var(--fill-color);\n",
       "    }\n",
       "  }\n",
       "</style>\n",
       "\n",
       "  <script>\n",
       "    async function quickchart(key) {\n",
       "      const quickchartButtonEl =\n",
       "        document.querySelector('#' + key + ' button');\n",
       "      quickchartButtonEl.disabled = true;  // To prevent multiple clicks.\n",
       "      quickchartButtonEl.classList.add('colab-df-spinner');\n",
       "      try {\n",
       "        const charts = await google.colab.kernel.invokeFunction(\n",
       "            'suggestCharts', [key], {});\n",
       "      } catch (error) {\n",
       "        console.error('Error during call to suggestCharts:', error);\n",
       "      }\n",
       "      quickchartButtonEl.classList.remove('colab-df-spinner');\n",
       "      quickchartButtonEl.classList.add('colab-df-quickchart-complete');\n",
       "    }\n",
       "    (() => {\n",
       "      let quickchartButtonEl =\n",
       "        document.querySelector('#df-69cd208e-9d05-4483-8891-15618726279a button');\n",
       "      quickchartButtonEl.style.display =\n",
       "        google.colab.kernel.accessAllowed ? 'block' : 'none';\n",
       "    })();\n",
       "  </script>\n",
       "</div>\n",
       "    </div>\n",
       "  </div>\n"
      ],
      "text/plain": [
       "  Symbol       Price      Volume\n",
       "0   AMZN  421.550003   2811275.0\n",
       "1   APPL  118.509924  57728325.0\n",
       "2   GOOG  533.425003   1506575.0"
      ]
     },
     "metadata": {},
     "output_type": "display_data"
    }
   ],
   "source": [
    "stock_by_symbol = stock.groupby('Symbol', as_index=False)\n",
    "stock_by_symbol.mean(numeric_only=True)"
   ]
  },
  {
   "cell_type": "markdown",
   "id": "188464da",
   "metadata": {},
   "source": [
    "If you want to sort the results of an aggregation (e.g., `sum()`, `mean()`, etc.), you can use the .sort_values() method."
   ]
  },
  {
   "cell_type": "code",
   "execution_count": null,
   "id": "c04dbcc8",
   "metadata": {},
   "outputs": [
    {
     "name": "stdout",
     "output_type": "stream",
     "text": [
      "Symbol\n",
      "APPL    57728325.0\n",
      "AMZN     2811275.0\n",
      "GOOG     1506575.0\n",
      "Name: Volume, dtype: float64\n"
     ]
    }
   ],
   "source": [
    "sorted_group = stock.groupby('Symbol')['Volume'].mean().sort_values(ascending=False)\n",
    "print(sorted_group)"
   ]
  },
  {
   "cell_type": "markdown",
   "id": "0edeee87",
   "metadata": {},
   "source": [
    "### Sample Web Scraping"
   ]
  },
  {
   "cell_type": "code",
   "execution_count": null,
   "id": "483f2f14",
   "metadata": {},
   "outputs": [],
   "source": [
    "# starter code\n",
    "\n",
    "import requests\n",
    "from bs4 import BeautifulSoup\n",
    "import pandas as pd\n",
    "response = requests.get(\"https://www.imdb.com/title/tt13016388/reviews/?spoilers=EXCLUDE\", timeout=3, headers={'User-Agent':'Mozilla/5.0'})\n",
    "review_soup = BeautifulSoup(response.content, 'html.parser')\n",
    "\n",
    "# provide your code below"
   ]
  },
  {
   "cell_type": "code",
   "execution_count": null,
   "id": "d14b807f",
   "metadata": {},
   "outputs": [],
   "source": [
    "review_list = review_soup.find_all('article',{'class':'user-review-item'})\n",
    "\n",
    "title_list = []\n",
    "text_list = []\n",
    "ID_list = []\n",
    "date_list = []\n",
    "rating_list = []\n",
    "\n",
    "for result in review_list:\n",
    "    title = result.find('h3', {'class':'ipc-title__text'}).get_text(strip=True)\n",
    "    title_list.append(title)\n",
    "\n",
    "    text = result.find('div', {'class':'ipc-html-content'})\n",
    "    if text:\n",
    "      text_list.append(text.get_text(strip=True))\n",
    "    else:\n",
    "      text_list.append(\"\")\n",
    "\n",
    "    ID = result.find('a',{'class':'ipc-link'}).get_text(strip=True)\n",
    "    ID_list.append(ID)\n",
    "\n",
    "    date = result.find('li', {'class':'review-date'}).get_text(strip=True)\n",
    "    date_list.append(date)\n",
    "\n",
    "    rating_element = result.find('span', {'class':'ipc-rating-star--rating'})\n",
    "    if rating_element:\n",
    "        rating_list.append(rating_element.get_text(strip=True))\n",
    "    else:\n",
    "        rating_list.append(None)"
   ]
  },
  {
   "cell_type": "markdown",
   "id": "9993dbd7",
   "metadata": {},
   "source": [
    "### Streamlit"
   ]
  },
  {
   "cell_type": "markdown",
   "id": "9b3de959",
   "metadata": {},
   "source": [
    "- Text\n",
    "    - st.write()\n",
    "    - st.markdown()\n",
    "    - st.html()\n",
    "    - st.code()\n",
    "    - st.divider()\n",
    "- Data\n",
    "    - st.dataframe(): Interactive and scrollable format to display a dataframe\n",
    "    - st.table(): Static and non-interactive\n",
    "    - st.data_editor(): Editable table for user to modify in real-time\n",
    "    - st.column_config()\n",
    "- Media\n",
    "    - st.image()\n",
    "    - st.video()"
   ]
  },
  {
   "cell_type": "code",
   "execution_count": 3,
   "id": "f70b8eab",
   "metadata": {},
   "outputs": [
    {
     "ename": "NameError",
     "evalue": "name 'st' is not defined",
     "output_type": "error",
     "traceback": [
      "\u001b[1;31m---------------------------------------------------------------------------\u001b[0m",
      "\u001b[1;31mNameError\u001b[0m                                 Traceback (most recent call last)",
      "Cell \u001b[1;32mIn[3], line 4\u001b[0m\n\u001b[0;32m      1\u001b[0m passage \u001b[38;5;241m=\u001b[39m \u001b[38;5;124m\"\"\"\u001b[39m\n\u001b[0;32m      2\u001b[0m \u001b[38;5;124m    Streamlit is an open-source Python framework for data scientists and AI/ML engineers to deliver interactive data apps – in only a few lines of code.\u001b[39m\n\u001b[0;32m      3\u001b[0m \u001b[38;5;124m    \u001b[39m\u001b[38;5;124m\"\"\"\u001b[39m\n\u001b[1;32m----> 4\u001b[0m st\u001b[38;5;241m.\u001b[39mwrite(passage)\n",
      "\u001b[1;31mNameError\u001b[0m: name 'st' is not defined"
     ]
    }
   ],
   "source": [
    "passage = \"\"\"\n",
    "    Streamlit is an open-source Python framework for data scientists and AI/ML engineers to deliver interactive data apps – in only a few lines of code.\n",
    "    \"\"\"\n",
    "st.write(passage)"
   ]
  },
  {
   "cell_type": "code",
   "execution_count": null,
   "id": "e2c0fcf1",
   "metadata": {},
   "outputs": [],
   "source": [
    "import pandas as pd\n",
    "st.write(\n",
    "    pd.DataFrame({\"first column\": [1, 2, 3], \"second column\": [10, 20, 30]}), \n",
    "    passage, \n",
    "    123\n",
    ")"
   ]
  },
  {
   "cell_type": "code",
   "execution_count": null,
   "id": "54c4fea0",
   "metadata": {},
   "outputs": [],
   "source": [
    "html_source = '''<div>\n",
    "    <a href=\"www.ust.hk\">HKUST</a>\n",
    "</div>\n",
    "'''\n",
    "st.code(html_source, language=\"html\", line_numbers=True)"
   ]
  },
  {
   "cell_type": "code",
   "execution_count": null,
   "id": "d9a53844",
   "metadata": {},
   "outputs": [],
   "source": [
    "st.data_editor(\n",
    "    df, \n",
    "    column_config={\"name\": \"App name\",\n",
    "                   \"url\": st.column_config.LinkColumn(\"App URL\", disabled=True),\n",
    "                   \"likes\": st.column_config.ProgressColumn(\"Stars\", max_value=1000, format=\"%d ⭐\"),\n",
    "                   \"views_history\": st.column_config.LineChartColumn(\"Views\", y_min=0, y_max=5000),\n",
    "                   \"in_progress\": st.column_config.SelectboxColumn(\"In progress?\")}\n",
    ")"
   ]
  },
  {
   "attachments": {
    "image.png": {
     "image/png": "[encoded data removed]"
    }
   },
   "cell_type": "markdown",
   "id": "ab51ef56",
   "metadata": {},
   "source": [
    "![image.png](attachment:image.png)"
   ]
  },
  {
   "cell_type": "code",
   "execution_count": null,
   "id": "b204819d",
   "metadata": {},
   "outputs": [],
   "source": [
    "st.image([\"static/cat.jpg\", \"static/dog.jpg\", \"static/owl.jpg\"], width=200)"
   ]
  },
  {
   "cell_type": "code",
   "execution_count": null,
   "id": "4ffe206e",
   "metadata": {},
   "outputs": [],
   "source": [
    "st.video(\"static/sora_gen.mp4\", \n",
    "         start_time=\"5s\", end_time=\"17s\",\n",
    "         autoplay=True, muted=True, loop=True)"
   ]
  },
  {
   "cell_type": "markdown",
   "id": "2b727535",
   "metadata": {},
   "source": [
    "- Chart\n",
    "    - st.line_chart()\n"
   ]
  },
  {
   "attachments": {
    "image.png": {
     "image/png": "[encoded data removed]"
    }
   },
   "cell_type": "markdown",
   "id": "46a5bece",
   "metadata": {},
   "source": [
    "![image.png](attachment:image.png)"
   ]
  },
  {
   "cell_type": "markdown",
   "id": "805ffb9b",
   "metadata": {},
   "source": [
    "If we align color with a categorical variable (i.e., a column that contains discrete values), data points will be grouped into lines of the same color based on the value of this variable."
   ]
  },
  {
   "cell_type": "code",
   "execution_count": null,
   "id": "d2ba536a",
   "metadata": {},
   "outputs": [],
   "source": [
    "st.line_chart(medals, x=\"year\", y=\"total\", color=\"type\",\n",
    "              width=720, height=500)"
   ]
  },
  {
   "cell_type": "markdown",
   "id": "75ef6b69",
   "metadata": {},
   "source": [
    "    - st.area_chart()"
   ]
  },
  {
   "cell_type": "markdown",
   "id": "a3c1efe9",
   "metadata": {},
   "source": [
    "by stacking multiple area segments on top of each other, an area chart also allows us to visualize the cumulative sum or total of the values at each point, along with the individual trends."
   ]
  },
  {
   "cell_type": "code",
   "execution_count": null,
   "id": "220ea777",
   "metadata": {},
   "outputs": [],
   "source": [
    "st.area_chart(medals, x=\"year\", y=\"total\", color=\"type\", stack=True,\n",
    "              width=720, height=500)"
   ]
  },
  {
   "cell_type": "markdown",
   "id": "96457a50",
   "metadata": {},
   "source": [
    "Streamlit also allows us to customize the colors used for different categories with all built-in charting functions except st.map(). However, to leverage this color customization feature, we must first transform the DataFrame into wide format.\n",
    "\n",
    "In wide format, categories are no longer represented as distinct values within a single column (e.g., type). Rather, they are mapped into independent columns (e.g., Gold, Silver, and Bronze)."
   ]
  },
  {
   "attachments": {
    "image.png": {
     "image/png": "[encoded data removed]"
    }
   },
   "cell_type": "markdown",
   "id": "75b034b0",
   "metadata": {},
   "source": [
    "![image.png](attachment:image.png)"
   ]
  },
  {
   "cell_type": "code",
   "execution_count": null,
   "id": "d6f531c2",
   "metadata": {},
   "outputs": [],
   "source": [
    "# \"#A77044\", \"#FEE101\", and \"#A7A7AD\" are the Hex color codes for Bronze, Gold, and Silver, respectively\n",
    "# https://www.schemecolor.com/olympic-medals-color-scheme.php\n",
    "\n",
    "st.area_chart(medals_w, x=\"year\", y=['Bronze', 'Gold', 'Silver'], \n",
    "              color=[\"#A77044\", \"#FEE101\", \"#A7A7AD\"],\n",
    "              width=720, height=500)"
   ]
  },
  {
   "cell_type": "markdown",
   "id": "190e8d8e",
   "metadata": {},
   "source": [
    "    - st.scatter_chart()\n"
   ]
  },
  {
   "cell_type": "code",
   "execution_count": null,
   "id": "a953b2e4",
   "metadata": {},
   "outputs": [],
   "source": [
    "st.scatter_chart(iris, x=\"sepal_length\", y=\"sepal_width\", \n",
    "                 width=720, height=500)"
   ]
  },
  {
   "cell_type": "markdown",
   "id": "5065492d",
   "metadata": {},
   "source": [
    "    - st.bar_chart()"
   ]
  },
  {
   "cell_type": "code",
   "execution_count": null,
   "id": "f8aa61d8",
   "metadata": {},
   "outputs": [],
   "source": [
    "st.bar_chart(tips, x=\"sex\", y=\"total_bill\", color=\"smoker\", horizontal=True,\n",
    "            width=720, height=500)"
   ]
  },
  {
   "cell_type": "markdown",
   "id": "f0de175a",
   "metadata": {},
   "source": [
    "### Selection data\n",
    "`DataFrame.query()` can be used to filter data for plotting,\n",
    "e.g., if your variable that holds the selected stocks is called symbols and that holds the specified year is called year, `pd.query(f\"date < {year + 1} and date >= {year} and symbol in {symbols}\")` will give you the desired subset."
   ]
  },
  {
   "cell_type": "markdown",
   "id": "4e6ce70e",
   "metadata": {},
   "source": [
    "### Widgets\n",
    "- st.selectbox()"
   ]
  },
  {
   "cell_type": "code",
   "execution_count": null,
   "id": "07270788",
   "metadata": {},
   "outputs": [],
   "source": [
    "contact_str = st.selectbox(\n",
    "    \"How would you like to be contacted?\",\n",
    "    (\"Email\", \"Home phone\", \"Mobile phone\")\n",
    ")"
   ]
  },
  {
   "attachments": {
    "image.png": {
     "image/png": "[encoded data removed]"
    }
   },
   "cell_type": "markdown",
   "id": "02430738",
   "metadata": {},
   "source": [
    "![image.png](attachment:image.png)"
   ]
  },
  {
   "cell_type": "markdown",
   "id": "201ece54",
   "metadata": {},
   "source": [
    "- st.radio"
   ]
  },
  {
   "cell_type": "code",
   "execution_count": null,
   "id": "6863545e",
   "metadata": {},
   "outputs": [],
   "source": [
    "genre_str = st.radio(\n",
    "    \"What's your favorite movie genre?\",\n",
    "    [\"Comedy\", \"Drama\", \"Documentary\"]\n",
    ")"
   ]
  },
  {
   "attachments": {
    "image.png": {
     "image/png": "[encoded data removed]"
    }
   },
   "cell_type": "markdown",
   "id": "b5677974",
   "metadata": {},
   "source": [
    "![image.png](attachment:image.png)"
   ]
  },
  {
   "cell_type": "markdown",
   "id": "65c9a70e",
   "metadata": {},
   "source": [
    "- st.text_input()"
   ]
  },
  {
   "attachments": {
    "image.png": {
     "image/png": "[encoded data removed]"
    }
   },
   "cell_type": "markdown",
   "id": "b08c1930",
   "metadata": {},
   "source": [
    "![image.png](attachment:image.png)"
   ]
  },
  {
   "cell_type": "markdown",
   "id": "5b927615",
   "metadata": {},
   "source": [
    "- st.text_area(): just a larger area for typing, same as input"
   ]
  },
  {
   "cell_type": "markdown",
   "id": "5dc3a522",
   "metadata": {},
   "source": [
    "### list"
   ]
  },
  {
   "attachments": {
    "image.png": {
     "image/png": "[encoded data removed]"
    }
   },
   "cell_type": "markdown",
   "id": "e19ef0d5",
   "metadata": {},
   "source": [
    "![image.png](attachment:image.png)"
   ]
  },
  {
   "attachments": {
    "image.png": {
     "image/png": "[encoded data removed]"
    }
   },
   "cell_type": "markdown",
   "id": "f3541722",
   "metadata": {},
   "source": [
    "![image.png](attachment:image.png)"
   ]
  },
  {
   "cell_type": "code",
   "execution_count": null,
   "id": "70c7c92e",
   "metadata": {},
   "outputs": [],
   "source": [
    "slider_int_range = st.slider(\n",
    "    'Choose two values', min_value=10, max_value=50, # if the min or max are floats, the step will be 0.01\n",
    "    value=[30, 40] # default value\n",
    ")"
   ]
  },
  {
   "cell_type": "markdown",
   "id": "95e06052",
   "metadata": {},
   "source": [
    "### Integer or Float (default).\n",
    "similar to slider. step depends on min/max, `value=` is the default value"
   ]
  },
  {
   "attachments": {
    "image.png": {
     "image/png": "[encoded data removed]"
    }
   },
   "cell_type": "markdown",
   "id": "c68c7718",
   "metadata": {},
   "source": [
    "![image.png](attachment:image.png)"
   ]
  },
  {
   "cell_type": "markdown",
   "id": "80ee647e",
   "metadata": {},
   "source": [
    "### Bool"
   ]
  },
  {
   "attachments": {
    "image.png": {
     "image/png": "[encoded data removed]"
    }
   },
   "cell_type": "markdown",
   "id": "a4f8bd24",
   "metadata": {},
   "source": [
    "![image.png](attachment:image.png)"
   ]
  },
  {
   "attachments": {
    "image.png": {
     "image/png": "[encoded data removed]"
    }
   },
   "cell_type": "markdown",
   "id": "2ad5f5f0",
   "metadata": {},
   "source": [
    "![image.png](attachment:image.png)"
   ]
  },
  {
   "attachments": {
    "image.png": {
     "image/png": "[encoded data removed]"
    }
   },
   "cell_type": "markdown",
   "id": "9a81f984",
   "metadata": {},
   "source": [
    "![image.png](attachment:image.png)"
   ]
  },
  {
   "attachments": {
    "image.png": {
     "image/png": "[encoded data removed]"
    }
   },
   "cell_type": "markdown",
   "id": "11b936ea",
   "metadata": {},
   "source": [
    "![image.png](attachment:image.png)"
   ]
  },
  {
   "attachments": {
    "image.png": {
     "image/png": "[encoded data removed]"
    }
   },
   "cell_type": "markdown",
   "id": "f2b3f474",
   "metadata": {},
   "source": [
    "![image.png](attachment:image.png)"
   ]
  },
  {
   "attachments": {
    "image.png": {
     "image/png": "[encoded data removed]"
    }
   },
   "cell_type": "markdown",
   "id": "39e7d0e7",
   "metadata": {},
   "source": [
    "![image.png](attachment:image.png)"
   ]
  },
  {
   "cell_type": "markdown",
   "id": "05d1eca7",
   "metadata": {},
   "source": [
    "### Sample Dynamic Chart"
   ]
  },
  {
   "cell_type": "code",
   "execution_count": null,
   "id": "1aee77d7",
   "metadata": {},
   "outputs": [],
   "source": [
    "import streamlit as st\n",
    "\n",
    "import pandas as pd\n",
    "\n",
    "source = pd.read_csv(\n",
    "    \"https://raw.githubusercontent.com/vega/vega-datasets/main/data/stocks.csv\", \n",
    "    parse_dates=['date'], date_format=\"%b %d %Y\"\n",
    "    ).query(f\"date < 2010 and date >= 2005\")\n",
    "\n",
    "\n",
    "st.dataframe(source)\n",
    "\n",
    "stocks = st.multiselect(\"Select stocks for comparison\", source.symbol.unique(), default=['AMZN', 'AAPL']) #.unique() returns a list of unique values in the column\n",
    "all_years = st.checkbox(\"Show prices for the whole period\")\n",
    "year = st.slider(\"Select a year\", min_value=2005, max_value=2009, value=2006, disabled=all_years) # disabled=True means the slider is not clickable\n",
    "\n",
    "\n",
    "if not stocks:\n",
    "    st.error(\"Please select at least one stock!\")\n",
    "else:\n",
    "    if not all_years:\n",
    "        st.markdown(f\"### Stock prices in {year}\")\n",
    "        chart_data = source.query(f\"date < {year + 1} and date >= {year} and symbol in {stocks}\")\n",
    "    else:\n",
    "        st.markdown(f\"### Stock prices in all years\")\n",
    "        chart_data = source.query(f\"symbol in {stocks}\")  \n",
    "    st.line_chart(chart_data, x=\"date\", y=\"price\", color=\"symbol\", \n",
    "                    width=720, height=500)"
   ]
  },
  {
   "cell_type": "markdown",
   "id": "70915901",
   "metadata": {},
   "source": [
    "### Side bar\n",
    "Each page can feature a sidebar implemented by st.sidebar. Passing an element to st.sidebar positions it to the left of the main viewport, allowing users to focus on the content in our app."
   ]
  },
  {
   "cell_type": "code",
   "execution_count": null,
   "id": "10306e3a",
   "metadata": {},
   "outputs": [],
   "source": [
    "import streamlit as st\n",
    "import pandas as pd\n",
    "\n",
    "source = pd.read_csv(\"https://raw.githubusercontent.com/vega/vega-datasets/main/data/stocks.csv\", \n",
    "                     parse_dates=['date'], date_format=\"%b %d %Y\")\n",
    "\n",
    "with st.sidebar:\n",
    "    stock = st.selectbox(\"Select a stock\", source.symbol.unique())\n",
    "    year = st.slider(\"Select a year\", 2004, 2010)\n",
    "''' Equivalent to:\n",
    "    stock = st.sidebar.selectbox(\"Select a stock\", source.symbol.unique())\n",
    "    year = st.sidebar.slider(\"Select a year\", 2004, 2010)\n",
    "'''\n",
    "\n",
    "query_str = f\"date < {year + 1} and date >= {year} and symbol == '{stock}'\"\n",
    "chart_data = source.query(query_str)\n",
    "\n",
    "st.markdown(f\"### Prices for `{stock}` in {year}\")\n",
    "st.area_chart(chart_data, x=\"date\", y=\"price\")"
   ]
  },
  {
   "attachments": {
    "image.png": {
     "image/png": "[encoded data removed]"
    }
   },
   "cell_type": "markdown",
   "id": "36799d2c",
   "metadata": {},
   "source": [
    "![image.png](attachment:image.png)"
   ]
  },
  {
   "cell_type": "markdown",
   "id": "64db277a",
   "metadata": {},
   "source": [
    "### Column"
   ]
  },
  {
   "cell_type": "code",
   "execution_count": null,
   "id": "88c6ba31",
   "metadata": {},
   "outputs": [],
   "source": [
    "col1, col2, col3 = st.columns(3, vertical_alignment=\"top\") # Top is default\n",
    "# equivalent to st.columns([1/3, 1/3, 1/3]) which can adust the width of each column\n",
    "\n",
    "# use with notation:\n",
    "with col1:\n",
    "   st.header(\"A cat\")\n",
    "   st.image(\"static/cat.jpg\")\n",
    "\n",
    "with col2:\n",
    "   st.header(\"A dog\")\n",
    "   st.image(\"static/dog.jpg\")\n",
    "\n",
    "with col3:\n",
    "   st.header(\"An owl\")\n",
    "   st.image(\"static/owl.jpg\")"
   ]
  },
  {
   "cell_type": "markdown",
   "id": "d8502807",
   "metadata": {},
   "source": [
    "### Container\n",
    "st.container allows us to inserts an invisible container into our app that can hold multiple elements."
   ]
  },
  {
   "cell_type": "markdown",
   "id": "29172744",
   "metadata": {},
   "source": [
    "By default, the container grows to fit its content and no border is shown.\n",
    "\n",
    "When a fixed height is provided, a grey border is shown around the container and scrolling is also enabled for large content:"
   ]
  },
  {
   "cell_type": "code",
   "execution_count": null,
   "id": "962591e3",
   "metadata": {},
   "outputs": [],
   "source": [
    "container = st.container(height=150)\n",
    "container.write(\"This is inside the container\")\n",
    "st.write(\"This is outside the container\")\n",
    "container.write(\":dog:\")"
   ]
  },
  {
   "attachments": {
    "image.png": {
     "image/png": "[encoded data removed]"
    }
   },
   "cell_type": "markdown",
   "id": "57a39f4c",
   "metadata": {},
   "source": [
    "![image.png](attachment:image.png)"
   ]
  },
  {
   "cell_type": "markdown",
   "id": "d00df367",
   "metadata": {},
   "source": [
    "st.container can be used along with st.columns to make a grid of containers like the following:"
   ]
  },
  {
   "cell_type": "code",
   "execution_count": null,
   "id": "cb21b997",
   "metadata": {},
   "outputs": [],
   "source": [
    "row1 = st.columns(4)\n",
    "row2 = st.columns(4)\n",
    "\n",
    "for col in row1 + row2:\n",
    "    tile = col.container(border=True)\n",
    "    tile.write(\":dog:\")"
   ]
  },
  {
   "attachments": {
    "image.png": {
     "image/png": "[encoded data removed]"
    }
   },
   "cell_type": "markdown",
   "id": "e5110944",
   "metadata": {},
   "source": [
    "![image.png](attachment:image.png)"
   ]
  },
  {
   "cell_type": "markdown",
   "id": "4c31e54a",
   "metadata": {},
   "source": [
    "## Sample"
   ]
  },
  {
   "cell_type": "markdown",
   "id": "740c7b40",
   "metadata": {},
   "source": [
    "### Task 1: Class representation\n",
    "\n",
    " You are required to represent each course's exam as an instance of the class `Exam`.<br>Complete the following dunder methods for the class:\n",
    " - `__init__()`: constructor\n",
    " - `__repr__()`: official string representation\n",
    " - `__str__()`: invoked when an object is printed using print().\n",
    "\n",
    "<br>\n",
    "\n",
    "As an example, given the following information:\n",
    "<div class='course'>\n",
    "\t<div class='courseanchor' style='position:relative; float:left; visibility:hidden;'><a></a></div>\n",
    "\t<div class='subject'><b>ISOM 0000 - Some Demo Course</b></div>\n",
    "\t<table class='sections'>\n",
    "\t\t<tbody>\n",
    "\t\t\t<tr>\n",
    "\t\t\t\t<th>&nbsp;</th>\n",
    "\t\t\t\t<th>Section</th>\n",
    "\t\t\t\t<th>Date</th>\n",
    "\t\t\t\t<th>Time</th>\n",
    "\t\t\t\t<th>Venue</th>\n",
    "\t\t\t\t<th>Remarks</th>\n",
    "\t\t\t</tr>\n",
    "\t\t\t<tr class='newsect secteven'>\n",
    "\t\t\t\t<td align='center'></td>\n",
    "\t\t\t\t<td align='center'>L1</td>\n",
    "\t\t\t\t<td class='date'>12-May-2025</td>\n",
    "\t\t\t\t<td class='time'>08:30AM - 10:30AM</td>\n",
    "\t\t\t\t<td class='venue'>Venue A<br>Venue B</td>\n",
    "\t\t\t\t<td class='remarks' align='center' colspan=''> </td>\n",
    "\t\t\t</tr>\n",
    "\t\t\t\t<tr class='newsect sectodd'>\n",
    "\t\t\t\t<td align='center'></td>\n",
    "\t\t\t\t<td align='center'>L2</td>\n",
    "\t\t\t\t<td class='date'>12-May-2025</td>\n",
    "\t\t\t\t<td class='time'>08:30AM - 10:30AM</td>\n",
    "\t\t\t\t<td class='venue'>Venue A<br>Venue B</td>\n",
    "\t\t\t\t<td class='remarks' align='center' colspan=''> </td>\n",
    "\t\t\t</tr>\n",
    "\t\t</tbody>\n",
    "\t</table>\n",
    "</div>\n",
    "<em>*Please refer to the actual website for the HTML code and exam information. The above representation may not be 100% accurate.</em>\n",
    "\n",
    "The properties of this Exam object are:\n",
    "\n",
    "| Property | Type | Example Value |\n",
    "|----------|------|---------------|\n",
    "|`course_code`|string|`'ISOM 0000'`|\n",
    "|`course_name`|string|`'Some Demo Course'`|\n",
    "|`date`|string|`'12-May-2025'`|\n",
    "|`start`|string|`'08:30AM'`|\n",
    "|`end`|string|`'10:30AM'`|\n",
    "|`venues`|**list** of strings|`['Venue A', 'Venue B']`|\n",
    "\n",
    "The constructor call should be:\n",
    "```Python\n",
    "some_exam = Exam('ISOM 0000', 'Some Demo Course', '12-May-2025', '08:30AM', '10:30AM', ['Venue A', 'Venue B'])\n",
    "```\n",
    "\n",
    "The official string representation (`__repr__()`) should return the course code of the exam, i.e. **ISOM 0000**\n",
    "\n",
    "The object when printed (`__str__()`) should return exam information as `[course_code]: [date] [start]-[end] at [venues]`, e.g.:\n",
    "```Python\n",
    "'ISOM 0000: 12-May-2025 08:30AM-10:30AM at Venue A / Venue B'\n",
    "```\n",
    "*Note that if there are multiple venues, each venue should be separated by a forward slash (`/`). If there is only one venue, nothing special is required.\n",
    "\n",
    "\n",
    "\n"
   ]
  },
  {
   "cell_type": "code",
   "execution_count": null,
   "id": "c76025aa",
   "metadata": {},
   "outputs": [],
   "source": [
    "class Exam:\n",
    "\n",
    "    # Complete the constructor for the Exam class below.\n",
    "    def __init__(self, course_code, course_name, date, start, end, venues):\n",
    "        # *Please use the same property names as shown in the example table above.*\n",
    "        self.course_code = course_code\n",
    "        self.course_name = course_name\n",
    "        self.date = date\n",
    "        self.start = start\n",
    "        self.end = end\n",
    "        self.venues = venues\n",
    "\n",
    "\n",
    "    def __repr__(self):\n",
    "        # repr: defines \"official\" representation of the object when you type its name, e.g., 'ISOM 0000'\n",
    "        # Please complete the return value for this method.\n",
    "        return self.course_code\n",
    "\n",
    "\n",
    "    def __str__(self):\n",
    "        # str: defines what you see when you print it out, e.g, 'ISOM 0000: 12-May-2025 08:30AM-10:30AM at Venue A / Venue B'\n",
    "        # Please complete the return value for this method\n",
    "\n",
    "        return f'{self.course_code}: {self.date} {self.start}-{self.end} at {\" / \".join(self.venues)}'\n"
   ]
  },
  {
   "cell_type": "markdown",
   "id": "9d98237c",
   "metadata": {},
   "source": [
    "Test your code by instantiating the oject and show the representations."
   ]
  },
  {
   "cell_type": "code",
   "execution_count": null,
   "id": "c17341cb",
   "metadata": {},
   "outputs": [
    {
     "data": {
      "text/plain": [
       "ISOM 0000"
      ]
     },
     "metadata": {},
     "output_type": "display_data"
    }
   ],
   "source": [
    "some_exam = Exam('ISOM 0000', 'Some Demo Course', '12-May-2025', '08:30AM', '10:30AM', ['Venue A', 'Venue B'])\n",
    "some_exam"
   ]
  },
  {
   "cell_type": "code",
   "execution_count": null,
   "id": "8376694f",
   "metadata": {},
   "outputs": [
    {
     "name": "stdout",
     "output_type": "stream",
     "text": [
      "ISOM 0000: 12-May-2025 08:30AM-10:30AM at Venue A / Venue B\n"
     ]
    }
   ],
   "source": [
    "print(some_exam)"
   ]
  },
  {
   "cell_type": "code",
   "execution_count": 7,
   "id": "9a0ad790",
   "metadata": {},
   "outputs": [],
   "source": [
    "# Starter code\n",
    "from bs4 import BeautifulSoup\n",
    "import requests"
   ]
  },
  {
   "cell_type": "code",
   "execution_count": null,
   "id": "3156b970",
   "metadata": {},
   "outputs": [],
   "source": [
    "# Do not run this code cell if you are using requests.get().\n",
    "# open() and requests.get() retrieve HTML in different ways\n",
    "# open() is the built-in function to read and write local files\n",
    "# so, you need to download the webpage manually and save it in your file system beforehand\n",
    "# In contrast, requests.get() is to retrieve HTML over the Internet\n",
    "html_code = open('ISOM_2430_exam.html', 'r')\n",
    "soup = BeautifulSoup(html_code, 'html.parser') # <- use soup for your scraping operations, or you can change the variable name if you like.\n",
    "html_code.close()"
   ]
  },
  {
   "cell_type": "markdown",
   "id": "cf854fed",
   "metadata": {},
   "source": [
    "Hints:\n",
    "1. Consider using `.split()` method to split course code and course name. You need to specify `maxsplit=1` to deal with the special case of more than 1 separator, e.g, 'ISOM 3380 - Advanced Network Management (CISCO - ICND)'\n",
    "2. To extract all the venues (in the case of multiple venues), use a separator (e.g., `|`) when calling `get_text()` method to join multiple pieces of text from within the HTML element. Then split the extracted text into a list, using the same symbol (e.g., `|`) as the separator."
   ]
  },
  {
   "cell_type": "code",
   "execution_count": null,
   "id": "1d985247",
   "metadata": {},
   "outputs": [],
   "source": [
    "exam_list = []\n",
    "# Write your code below\n",
    "\n",
    "all_courses = soup.select('div.course')\n",
    "for course in all_courses:\n",
    "    # Structure of subject: 'ISOMXXXX - Course Name'. There is only one subject per div, so select_one is a better option.\n",
    "    course_code, course_name = course.select_one('div.subject').get_text().split(' - ', maxsplit=1)\n",
    "    # splitting with ' - ' without maxsplit: error with ISOM 3380 - Advanced Network Management (CISCO - ICND)\n",
    "    # If course code is 5XXX or above, skip\n",
    "    if int(course_code[5]) > 4:\n",
    "        continue\n",
    "    # Alternatively: break can also be used, but continue seems to be a safer option (may break prematurely if website not in order of course code)\n",
    "    # For this assignment & this website: break is fine.\n",
    "\n",
    "    # Check if an exam is scheduled on the website, i.e. if there is a valid time and date.\n",
    "    exam_date = course.select_one('td.date').get_text()\n",
    "    # If this course does not have a date (or time): we skip this course\n",
    "    if exam_date == '-':\n",
    "        continue\n",
    "\n",
    "    # Process remaining information:\n",
    "    exam_start, exam_end = course.select_one('td.time').get_text().split(' - ')\n",
    "    exam_venues = course.select_one('td.venue').get_text('|', strip = True).split('|') # '|' symbol as a placeholder for <br>.\n",
    "\n",
    "    # If a placeholder symbol is not provided, get_text will remove <br> and join the venues together -> more difficult to process\n",
    "    this_exam = Exam(course_code, course_name, exam_date, exam_start, exam_end, exam_venues)\n",
    "    exam_list.append(this_exam)\n"
   ]
  },
  {
   "cell_type": "markdown",
   "id": "6a2a5eb5",
   "metadata": {},
   "source": [
    "### Streamlit"
   ]
  },
  {
   "cell_type": "code",
   "execution_count": null,
   "id": "45d2ec78",
   "metadata": {},
   "outputs": [],
   "source": [
    "import streamlit as st\n",
    "import pandas as pd\n",
    "\n",
    "\n",
    "# Configure page\n",
    "st.set_page_config(page_title=\"Stock Dashboard\", layout=\"wide\")\n",
    "\n",
    "st.markdown(\"\"\"### :material/description:  Requirements\n",
    "\n",
    "\n",
    "- Please download `In-Class Exercise_5_part1.ipynb` from Canvas. Complete the code to extract relevant info from the **`yfinance`** libarary to generate two files `ticker_info.csv` and `stock_data.csv` (The two data files are also available on Canvas if you want to start with the second part first). Place these two files into your streamlit project folder and complete\n",
    "this second part of this exercise, which is to set up a streamlit application.\n",
    "            \n",
    "- Include a sidebar (`with st.sidebar`) that contains the following widgets:\n",
    "    - A checkbox widget (`st.checkbox()`) that alows the user to control whether to show a bar chart that visualizes the market cap of S&P 100 stocks by sector; the default value is checked.\n",
    "    - A multiselect widget (`st.multiselect()`) that allows the user to choose which stocks should be included for plotting; the options are S&P 100 tickers; the default values are `'TSLA'`, `'NVDA'`, and `'AAPL'`.\n",
    "    - A slider widget (`st.slider()`) that allows the user to specify the year range over which stocks are compared; the range is 2020 - 2025; the default value is 2004 - 2025.\n",
    "\n",
    "- If the checkbox is checked, display a bar chart that visualizes the market cap of S&P 100 stocks by sector.\n",
    "\n",
    "- If none of the stocks are selected, display an error message: \"Please select at least one stock!\"; \n",
    "  if stocks are selected, show a line chart for closing prices (using the column 'Close') and a bar chart for volume (using the column 'Volume').\n",
    "            \n",
    "- Tips:\n",
    "    - Use the `.unique()` method to obtain the unique values of `Ticker` column in the Pandas dataframe `ticker_info`;\n",
    "    - [`DataFrame.query()`](https://pandas.pydata.org/docs/user_guide/indexing.html#the-query-method) can be used to filter data for plotting, \n",
    "        - e.g., if the variable holding the selected stocks is `selected_tickers` and the variable holding the year range is `selected_years`, `query(f\"Date < {selected_years[1] + 1} and Date >= {selected_years[0]} and Ticker in {selected_tickers}\")` will give you the desired subset of data.\n",
    "\"\"\")          \n",
    "\n",
    "\n",
    "# load stock info and data\n",
    "ticker_info = pd.read_csv(\"ticker_info.csv\")\n",
    "stock_data = pd.read_csv(\"stock_data.csv\", parse_dates=['Date'])\n",
    "\n",
    "# extract S&P 100 tickers from ticker_info\n",
    "tickers_100 = ticker_info.Ticker.unique()\n",
    "\n",
    "# set page title\n",
    "st.title(\"S&P 100 Stock Dashboard 📊\")  #:bar_chart:\n",
    "\n",
    "# Sidebar controls\n",
    "with st.sidebar:\n",
    "    st.header(\"Sidebar Widgets\")\n",
    "\n",
    "    show_sector = st.checkbox(\"Show Market Cap by Sector\", True)\n",
    "\n",
    "    selected_tickers = st.multiselect(\n",
    "        \"Select Companies\",\n",
    "        options=tickers_100,\n",
    "        default=['TSLA', 'NVDA', 'AAPL']\n",
    "    )\n",
    "\n",
    "    # Year range slider\n",
    "    selected_years = st.slider(\n",
    "        \"Select Year Range\",\n",
    "        min_value=2020,\n",
    "        max_value=2025,\n",
    "        value=(2024, 2025)\n",
    "    )\n",
    "\n",
    "if show_sector:\n",
    "    st.header(\"Market Cap by Sector\")\n",
    "    st.bar_chart(ticker_info, x=\"Sector\", y=\"Market Cap (B)\", color=\"Ticker\", horizontal=True,\n",
    "            width=720, height=500)\n",
    "\n",
    "if selected_tickers:\n",
    "\n",
    "    chart_data = stock_data.query(f\"Date < {selected_years[1] + 1} and Date >= {selected_years[0]} and Ticker in {selected_tickers}\")\n",
    "\n",
    "    st.header(f\"Stock Trend Analysis ({selected_years[0]} - {selected_years[1]})\")\n",
    "    \n",
    "    # Closing Prices\n",
    "    st.subheader(\"Closing Prices\")\n",
    "    st.line_chart(chart_data, x=\"Date\", y=\"Close\", color=\"Ticker\",\n",
    "                  width=720, height=500)\n",
    "\n",
    "    \n",
    "    # Volume Analysis\n",
    "    st.subheader(\"Trading Volume\")\n",
    "    st.bar_chart(chart_data, x=\"Date\", y=\"Volume\", color=\"Ticker\", \n",
    "                  width=720, height=500)\n",
    "\n",
    "else:\n",
    "    st.error(\"Please select at least one stock\")"
   ]
  }
 ],
 "metadata": {
  "kernelspec": {
   "display_name": "base",
   "language": "python",
   "name": "python3"
  },
  "language_info": {
   "codemirror_mode": {
    "name": "ipython",
    "version": 3
   },
   "file_extension": ".py",
   "mimetype": "text/x-python",
   "name": "python",
   "nbconvert_exporter": "python",
   "pygments_lexer": "ipython3",
   "version": "3.12.7"
  }
 },
 "nbformat": 4,
 "nbformat_minor": 5
}

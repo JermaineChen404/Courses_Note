{
  "cells": [
    {
      "cell_type": "markdown",
      "metadata": {
        "id": "LZRm-tkN4vyA"
      },
      "source": [
        "\n",
        "# 1 Functions\n",
        "\n",
        "For a bank to consider whether or not to offer someone a loan:\n",
        "\n",
        "\n",
        "\n",
        "\n",
        "\n",
        "| Name |  Income | Years | Criminal | Decision |\n",
        "|-----|-----|-----|-----|-----|\n",
        "| Amy | 27 |4.2 |  No | ? |\n",
        "| Sam | 32 |1.5 |  No | ? |\n",
        "| Jane | 55 | 3.5  | Yes | ? |\n",
        "|...|\n",
        "\n"
      ]
    },
    {
      "cell_type": "code",
      "execution_count": null,
      "metadata": {
        "id": "TzytERd8AiKQ"
      },
      "outputs": [],
      "source": [
        "customer_1 = {'name': 'Amy', 'income': 27, 'years': 4.2, 'criminal': 'No'}"
      ]
    },
    {
      "cell_type": "markdown",
      "metadata": {
        "cell_style": "split",
        "id": "jgxMndyHAiKb"
      },
      "source": [
        "<img src=\"https://raw.githubusercontent.com/justinjiajia/img/master/python/3dt.png\" width=500  />\n"
      ]
    },
    {
      "cell_type": "code",
      "execution_count": null,
      "metadata": {
        "cell_style": "split",
        "id": "eWNutezz4vyD",
        "scrolled": false
      },
      "outputs": [],
      "source": [
        "if customer_1['income'] >= 70:\n",
        "    print('Approve')\n",
        "\n",
        "elif customer_1['income'] >= 30:\n",
        "    if customer_1['years'] >= 2:\n",
        "        print(\"Approve\")\n",
        "    else:\n",
        "        print(\"Reject\")\n",
        "\n",
        "else:\n",
        "    if customer_1['criminal'] == \"No\":\n",
        "        print('Approve')\n",
        "    else:\n",
        "        print('Reject')"
      ]
    },
    {
      "cell_type": "markdown",
      "metadata": {
        "id": "nDQYB9924vyF"
      },
      "source": [
        "What if we want to make a decsion for a different customer, say `customer_2`:"
      ]
    },
    {
      "cell_type": "code",
      "execution_count": null,
      "metadata": {
        "id": "OcDbDCLE4vyG"
      },
      "outputs": [],
      "source": [
        "customer_2 = {'name': 'Sam', 'income': 32, 'years': 1.5, 'criminal': 'Yes'}"
      ]
    },
    {
      "cell_type": "markdown",
      "metadata": {
        "cell_style": "split",
        "id": "Ss-Syjt74vyH"
      },
      "source": [
        "- Copy and paste this block of code;\n",
        "\n",
        "- Change every `customer_1` to `customer_2` and execute the code again."
      ]
    },
    {
      "cell_type": "code",
      "execution_count": null,
      "metadata": {
        "cell_style": "split",
        "id": "6phOIAQv4vyI"
      },
      "outputs": [],
      "source": [
        "if customer_2['income'] >= 70:\n",
        "    print('Approve')\n",
        "\n",
        "elif customer_2['income'] >= 30:\n",
        "    if customer_2['years'] >= 2:\n",
        "        print(\"Approve\")\n",
        "    else:\n",
        "        print(\"Reject\")\n",
        "\n",
        "else:\n",
        "    if customer_2['criminal'] == \"No\":\n",
        "        print('Approve')\n",
        "    else:\n",
        "        print('Reject')"
      ]
    },
    {
      "cell_type": "markdown",
      "metadata": {
        "id": "gwix827d4vyK"
      },
      "source": [
        "There is a chance of making incidental mistakes.\n",
        "\n",
        "We should consider writing a function whenever a block of code is copied and pasted more than once.\n",
        "\n",
        "---\n",
        "\n",
        "<br/>\n",
        "\n",
        "Python provides a number of important **built-in functions** as we've seen, e.g., `type()`, `str()`, `sum()`, `len()`, etc.\n",
        "\n",
        "A function is a named sequence of statements that:\n",
        "\n",
        "- takes input\n",
        "- does something with that input\n",
        "- and, in many cases, also returns the result\n",
        "\n",
        "\n",
        "User-defined functions are needed when we want to automate certain tasks that we have to repeat over and over, often ***with varying inputs***.\n",
        "\n",
        "\n",
        "\n",
        "\n",
        "\n",
        "\n",
        "\n",
        "\n",
        "\n",
        "\n",
        "\n",
        "   "
      ]
    },
    {
      "cell_type": "markdown",
      "metadata": {
        "id": "WVpgUtvIp2_P"
      },
      "source": [
        "\n",
        "\n",
        "## 1.1 Defining a Function\n",
        "\n",
        "\n",
        "[The `def` statement](https://docs.python.org/3.7/reference/compound_stmts.html#function-definitions) creates a function object and assigns it to a name."
      ]
    },
    {
      "cell_type": "code",
      "execution_count": null,
      "metadata": {
        "cell_style": "split",
        "id": "BbgTmQvBAiLl"
      },
      "outputs": [],
      "source": [
        "def add_1(a, b):\n",
        "    '''implement an addition operation'''  # this is the functions' docstring. We will explain it later.\n",
        "\n",
        "    c = a + b\n",
        "    return c"
      ]
    },
    {
      "cell_type": "markdown",
      "metadata": {
        "cell_style": "split",
        "id": "WoXX_UKyAiLu"
      },
      "source": [
        "<img src=\"https://raw.githubusercontent.com/justinjiajia/img/master/python/function.png\" width=280 />"
      ]
    },
    {
      "cell_type": "code",
      "execution_count": null,
      "metadata": {
        "id": "QdEqI-axpwvL"
      },
      "outputs": [],
      "source": [
        "print(dir())"
      ]
    },
    {
      "cell_type": "markdown",
      "metadata": {
        "id": "ylXgeo64p2_Q"
      },
      "source": [
        "The `def` statement consists of a header line (starting with the `def` keyword) followed by a block of statements:"
      ]
    },
    {
      "cell_type": "markdown",
      "metadata": {
        "id": "h5blFhWiAiL3"
      },
      "source": [
        "<pre class=\"lang-python\">\n",
        "<span style=\"color:#2767C5\";>def</span> <span style=\"color:#BB2F29\";>&lt;function name&gt;</span>(<span style=\"color:#BB2F29\";>&lt;parameter 1&gt;</span>, <span style=\"color:#BB2F29\";>&lt;parameter 2&gt;</span>, ...):\n",
        "    <span style=\"color:#469C63\";>'''documentation string that can span multiple lines'''</span>\n",
        "    \n",
        "<div style=\" border-left: 6px solid red; background-color: #e8e9ea;\">   statement 1               \n",
        "   statement 2                  \n",
        "   ...\n",
        "   statement N\n",
        "   <span style=\"color:#2767C5\";>return</span> <span style=\"color:#BB2F29\";>&lt;object&gt;</span></div></pre>"
      ]
    },
    {
      "cell_type": "markdown",
      "metadata": {
        "id": "lC8nkMnkAiL7"
      },
      "source": [
        "<p>\n",
        "\n",
        "\n",
        "- The `def` header line specifies a function name that is assigned the function object, along with a list of zero or more parameters (separated by comma) in parentheses `()` .\n",
        "   \n",
        "   - Like a variable name, a function name is used to refer to the function later.\n",
        "   \n",
        "   -  The function parameters are a special kind of variables that refer to objects provided as input to the function ***at the point of call***.\n",
        "   \n",
        "  "
      ]
    },
    {
      "cell_type": "code",
      "execution_count": null,
      "metadata": {
        "id": "joqQEo50AiL-"
      },
      "outputs": [],
      "source": [
        "add_1(2, 1) # input objects are matched to parameters according to their position"
      ]
    },
    {
      "cell_type": "markdown",
      "metadata": {
        "id": "zM2YzI9mQZVd"
      },
      "source": [
        "   - The function's parameters collectively define its **signature**. The function's signature is the combination of the function's name (e.g., add) and the list of parameters the function expects. The signature tells you exactly how to call the function correctly."
      ]
    },
    {
      "cell_type": "code",
      "execution_count": null,
      "metadata": {
        "cell_style": "center",
        "id": "du9_S9cKAiMP"
      },
      "outputs": [],
      "source": [
        "help(add_1)"
      ]
    },
    {
      "cell_type": "markdown",
      "metadata": {
        "id": "ElBi-HFh4vyR"
      },
      "source": [
        "- Following a colon (`:`), everything that starts at the next line and is ***indented*** thereafter is the **function body**.\n",
        "\n",
        "\n",
        "- Function bodies often contain an ***optional*** [`return` statement](https://docs.python.org/3.7/reference/simple_stmts.html#the-return-statement). `return` triggers the function to return the specified object.\n",
        "\n",
        "\n",
        "\n",
        "\n",
        "\n",
        "\n"
      ]
    },
    {
      "cell_type": "markdown",
      "metadata": {
        "id": "qKwe9H3ql28u"
      },
      "source": [
        "*Exercise:* Define a functin called `which_is_bigger`, which takes two numbers as input, and return the larger one. Try to use a single line of code for the function body (without using any built-in functions)."
      ]
    },
    {
      "cell_type": "code",
      "execution_count": null,
      "metadata": {
        "id": "ienq0bjcl5Xi"
      },
      "outputs": [],
      "source": [
        "# write your code here\n"
      ]
    },
    {
      "cell_type": "markdown",
      "metadata": {
        "id": "NpaNGWHN4vyZ"
      },
      "source": [
        "\n",
        "<br/>\n",
        "\n",
        "## 1.2 Calling a Function\n",
        "\n",
        "\n",
        "To run a function's body, we use the function's name followed by `()` to <b>*call*/*invoke the function*</b>.\n",
        "\n",
        " - If any parameters were specified in the function definition, the function call should also send objects as inputs (known as the <b>*arguments*</b>) that match the parameters:\n",
        "\n",
        "<p>"
      ]
    },
    {
      "cell_type": "code",
      "execution_count": null,
      "metadata": {
        "cell_style": "split",
        "id": "gy0n2bI24vya"
      },
      "outputs": [],
      "source": [
        "add_1(2, 4)          # positional matching"
      ]
    },
    {
      "cell_type": "code",
      "execution_count": null,
      "metadata": {
        "cell_style": "split",
        "id": "WmF4nlTJ4vyb"
      },
      "outputs": [],
      "source": [
        "add_1(b=100, a=5.0)  # matching by name"
      ]
    },
    {
      "cell_type": "markdown",
      "metadata": {
        "id": "dzPhkIyH4vyd"
      },
      "source": [
        "- The **parameters** are a property of the function, whereas the **arguments** can vary each time we call the function.\n"
      ]
    },
    {
      "cell_type": "code",
      "execution_count": null,
      "metadata": {
        "id": "-YPJQBxbp2_U"
      },
      "outputs": [],
      "source": [
        "def add_1(a, b):\n",
        "    '''implement an addition operation'''\n",
        "\n",
        "    c = a + b\n",
        "    return c"
      ]
    },
    {
      "cell_type": "code",
      "execution_count": null,
      "metadata": {
        "id": "q8VBkufnpwvR"
      },
      "outputs": [],
      "source": [
        "x = add_1(2, 4)\n",
        "x"
      ]
    },
    {
      "cell_type": "markdown",
      "metadata": {
        "id": "0DfnVD6W4vye"
      },
      "source": [
        "\n",
        "\n",
        "\n",
        "<img src=\"https://raw.githubusercontent.com/justinjiajia/img/master/python/functioncall.png\" width=800/>"
      ]
    },
    {
      "cell_type": "markdown",
      "metadata": {
        "id": "rgDtYeGr4vyg"
      },
      "source": [
        "- The **global namespace** is the area where global variables (variables defined outside of any function) are stored.\n",
        "\n",
        "- Every time we call a function, Python creates a **local namespace** and populates it with parameter names that refer to arguments provided at the point of call.\n",
        "\n",
        "- All the names assigned when a function runs also live in this local namespace. They will only be accessible inside the function being called.\n",
        "\n",
        "- All the local varialbes exist only while the function runs.\n",
        "\n",
        "\n",
        "\n",
        "\n",
        "\n",
        "\n",
        "\n"
      ]
    },
    {
      "cell_type": "code",
      "execution_count": null,
      "metadata": {
        "id": "Fvky_aPCAiNH"
      },
      "outputs": [],
      "source": [
        "c  # Python reports error when we want to access the parameters inside a function."
      ]
    },
    {
      "cell_type": "markdown",
      "metadata": {
        "id": "aEDICXE74vyi"
      },
      "source": [
        "<br/>\n",
        "\n",
        "\n",
        "## 1.3 Specifying Return Values\n",
        "\n",
        "\n",
        "Output which is returned from a function is called a **return value**, which can be defined by [the **`return`** statement](https://docs.python.org/3.7/reference/simple_stmts.html#grammar-token-return-stmt):"
      ]
    },
    {
      "cell_type": "code",
      "execution_count": null,
      "metadata": {
        "id": "FJSUPVIh4vyj"
      },
      "outputs": [],
      "source": [
        "def add_2(a, b):\n",
        "    c = a + b  # no return"
      ]
    },
    {
      "cell_type": "code",
      "execution_count": null,
      "metadata": {
        "id": "iXPdvH5L4vym"
      },
      "outputs": [],
      "source": [
        "result_2 = add_2(2, 4)"
      ]
    },
    {
      "cell_type": "code",
      "execution_count": null,
      "metadata": {
        "id": "_WQvuMwQpsas"
      },
      "outputs": [],
      "source": [
        "type(result_2)"
      ]
    },
    {
      "cell_type": "markdown",
      "metadata": {
        "id": "sMZcxJm2p2_W"
      },
      "source": [
        "What was returned is `None`, which is a special value ***which means \"nothing\"***.\n",
        "\n",
        "Compare `add_2` with `add_3`"
      ]
    },
    {
      "cell_type": "code",
      "execution_count": null,
      "metadata": {
        "id": "U1-Vdrxh4vys"
      },
      "outputs": [],
      "source": [
        "def add_3(a, b):\n",
        "    return a + b"
      ]
    },
    {
      "cell_type": "code",
      "execution_count": null,
      "metadata": {
        "id": "0qsFvsuo4vyu"
      },
      "outputs": [],
      "source": [
        "result_3 = add_3(2, 4)\n",
        "result_3"
      ]
    },
    {
      "cell_type": "markdown",
      "metadata": {
        "id": "Ig8TR_Uz4vyy"
      },
      "source": [
        "A function can only have a ***single*** return value, which can be a **compound object**:"
      ]
    },
    {
      "cell_type": "code",
      "execution_count": null,
      "metadata": {
        "id": "lQGm4yQi4vyz"
      },
      "outputs": [],
      "source": [
        "def divide(dividend, divisor):        # our own way to implement divmod()\n",
        "    quotient = dividend // divisor  # floor division\n",
        "    remainder = dividend % divisor   # modulo operator (remainder)\n",
        "    return (quotient, remainder)"
      ]
    },
    {
      "cell_type": "code",
      "execution_count": null,
      "metadata": {
        "id": "qJfMjyjK4vy1"
      },
      "outputs": [],
      "source": [
        "divide(35, 4)"
      ]
    },
    {
      "cell_type": "markdown",
      "metadata": {
        "id": "THs8LwJI4vzA"
      },
      "source": [
        "<br/>\n",
        "\n",
        "\n",
        "We can specify more than one `return` statement within a function. When a `return` statement is reached, the flow of control exits the function immediately:\n"
      ]
    },
    {
      "cell_type": "code",
      "execution_count": null,
      "metadata": {
        "id": "seo3-oiK4vzB"
      },
      "outputs": [],
      "source": [
        "def divide(dividend, divisor):\n",
        "    if not divisor:\n",
        "        print('The divisor cannot be zero!')\n",
        "        return None                  # None can be dropped here\n",
        "\n",
        "    quotient = dividend // divisor\n",
        "    remainder = dividend % divisor\n",
        "    return quotient, remainder"
      ]
    },
    {
      "cell_type": "code",
      "execution_count": null,
      "metadata": {
        "id": "oxQV6aqk4vzC"
      },
      "outputs": [],
      "source": [
        "divide(28, 5)"
      ]
    },
    {
      "cell_type": "code",
      "execution_count": null,
      "metadata": {
        "id": "_U1-gStvp2_Y"
      },
      "outputs": [],
      "source": [
        "divide(28, 0)"
      ]
    },
    {
      "cell_type": "markdown",
      "metadata": {
        "id": "RtEd9m1Z4vzE"
      },
      "source": [
        "<br>\n",
        "\n",
        "Now you mostly know the steps of creating a fucntion. The basic idea is extracting repeated code out into a function provides us a more powerful and general way than copying and pasting."
      ]
    },
    {
      "cell_type": "markdown",
      "metadata": {
        "id": "IrKOBLxUXR3f"
      },
      "source": [
        "**<font color='steelblue' >Question</font>**:\n",
        "\n",
        "Extract repeated code from the following two snippets and rewrite it as a Python function named `apply_loan`. Then we call the function `apply_loan` with `customer_1` and `customer_2`, respectively. `apply_loan(customer1)` prints 'Approve' and `apply_loan(customer2)` prints 'Reject'"
      ]
    },
    {
      "cell_type": "code",
      "execution_count": null,
      "metadata": {
        "id": "eihE4GsLfxxS"
      },
      "outputs": [],
      "source": [
        "customer_1 = {'name': 'Amy', 'income': 27, 'years': 4.2, 'criminal': 'No'}\n",
        "\n",
        "if customer_1['income'] >= 70:\n",
        "    print('Approve')\n",
        "\n",
        "elif customer_1['income'] >= 30:\n",
        "    if customer_1['years'] >= 2:\n",
        "        print(\"Approve\")\n",
        "    else:\n",
        "        print(\"Reject\")\n",
        "\n",
        "else:\n",
        "    if customer_1['criminal'] == \"No\":\n",
        "        print('Approve')\n",
        "    else:\n",
        "        print('Reject')"
      ]
    },
    {
      "cell_type": "code",
      "execution_count": null,
      "metadata": {
        "id": "fTLLMQttfzZm"
      },
      "outputs": [],
      "source": [
        "customer_2 = {'name': 'Sam', 'income': 32, 'years': 1.5, 'criminal': 'Yes'}\n",
        "\n",
        "if customer_2['income'] >= 70:\n",
        "    print('Approve')\n",
        "\n",
        "elif customer_2['income'] >= 30:\n",
        "    if customer_2['years'] >= 2:\n",
        "        print(\"Approve\")\n",
        "    else:\n",
        "        print(\"Reject\")\n",
        "\n",
        "else:\n",
        "    if customer_2['criminal'] == \"No\":\n",
        "        print('Approve')\n",
        "    else:\n",
        "        print('Reject')"
      ]
    },
    {
      "cell_type": "code",
      "execution_count": null,
      "metadata": {
        "id": "KmIZ5rsOPKoE"
      },
      "outputs": [],
      "source": [
        "customer_1 = {'name': 'Amy', 'income': 27, 'years': 4.2, 'criminal': 'No'}\n",
        "customer_2 = {'name': 'Sam', 'income': 32, 'years': 1.5, 'criminal': 'No'}\n",
        "\n",
        "# write your code here\n",
        "\n"
      ]
    },
    {
      "cell_type": "code",
      "execution_count": null,
      "metadata": {
        "cell_style": "split",
        "id": "uCcBeBuM4vzI"
      },
      "outputs": [],
      "source": [
        "apply_loan(customer_1)  # print Approve"
      ]
    },
    {
      "cell_type": "code",
      "execution_count": null,
      "metadata": {
        "cell_style": "split",
        "id": "QgvA-V-m4vzK"
      },
      "outputs": [],
      "source": [
        "apply_loan(customer_2)   # print Reject"
      ]
    },
    {
      "cell_type": "markdown",
      "metadata": {
        "id": "euHm8bBp4vzO"
      },
      "source": [
        "\n",
        "<br/>\n",
        "\n",
        "\n",
        "## 1.4 Argument Passing\n",
        "\n",
        "\n",
        "\n",
        "Arguments are passed by assigning **object references**  to **local names** during a call.  It is another instance of Python assignment at work.\n",
        "\n",
        "\n",
        "\n",
        "During argument passing, two matching schemes determine how the argument objects in the call are paired with parameter names in the header.\n",
        "\n",
        "\n",
        "\n"
      ]
    },
    {
      "cell_type": "markdown",
      "metadata": {
        "id": "AXRhZVKhAiOw"
      },
      "source": [
        "\n",
        "\n",
        "### 1.4.1 Positional Matching (more frequently used)\n",
        "\n",
        "By default, argument objects get assigned to the parameter names ***according to their position***.\n",
        "\n",
        "For example, consider the function that finds the roots of a quadratic equation:\n",
        "\n",
        "$$\n",
        "ax^2+bx+c=0\n",
        "$$"
      ]
    },
    {
      "cell_type": "code",
      "execution_count": null,
      "metadata": {
        "id": "ZwIifFOR4vzQ"
      },
      "outputs": [],
      "source": [
        "def quad_1(a, b, c):\n",
        "    x1 = -b / (2 * a)\n",
        "    x2 = (b ** 2 - 4 * a * c) ** 0.5 / (2 * a)\n",
        "    return x1 + x2, x1 - x2"
      ]
    },
    {
      "cell_type": "code",
      "execution_count": null,
      "metadata": {
        "id": "KOSP2bER4vzS"
      },
      "outputs": [],
      "source": [
        "quad_1(1, 3, 2)"
      ]
    },
    {
      "cell_type": "markdown",
      "metadata": {
        "id": "Bvpj4qwm4vzV"
      },
      "source": [
        "\n",
        "\n",
        "<br>\n",
        "\n",
        "### 1.4.2 Keyword Matching\n",
        "\n",
        "Python allows us to alter the way of argument matching by specifying matches by name  explicitly. The consequent arguments are called **named**/**keyword arguments**:\n",
        "\n",
        "- Arguments are associated with names/keywords for matching parameters during a call.\n",
        "\n",
        "- When we call functions in this way, the order (position) of the arguments can be changed."
      ]
    },
    {
      "cell_type": "code",
      "execution_count": null,
      "metadata": {
        "cell_style": "split",
        "id": "r7i4Q4mm4vzV"
      },
      "outputs": [],
      "source": [
        "quad_1(c=2, a=1, b=3)"
      ]
    },
    {
      "cell_type": "markdown",
      "metadata": {
        "id": "hM0e7HewQJFD"
      },
      "source": [
        "But note some built-in functions do not accept keyword matching, e.g. 'aaabbbb'.index(sub='b',start=0,end=5) reports errors but 'aaabbbb'.index('b',0,5) will work."
      ]
    },
    {
      "cell_type": "code",
      "execution_count": null,
      "metadata": {
        "id": "1pPWPSqZQKeQ"
      },
      "outputs": [],
      "source": [
        "'aaabbbb'.index(sub='b', start=0, end=5)"
      ]
    },
    {
      "cell_type": "code",
      "execution_count": null,
      "metadata": {
        "id": "fZwwsgM1QNKV"
      },
      "outputs": [],
      "source": [
        "'aaabbbb'.index('b',0,5)"
      ]
    },
    {
      "cell_type": "markdown",
      "metadata": {
        "id": "xrbbhagr4vzb"
      },
      "source": [
        "\n",
        "<br>\n",
        "\n",
        "### 1.4.3 Mixing the Two Maching Schemes\n",
        "\n",
        "**Positional matching** and **keyword matching** (matching by name) can be mixed during a function call. But arguments using **positional matching** must precede arguments using **keyword matching**."
      ]
    },
    {
      "cell_type": "code",
      "execution_count": null,
      "metadata": {
        "cell_style": "split",
        "id": "ZENy3Wf_4vzb"
      },
      "outputs": [],
      "source": [
        "quad_1(1, c=2, 3)"
      ]
    },
    {
      "cell_type": "code",
      "execution_count": null,
      "metadata": {
        "cell_style": "split",
        "id": "yVHj780I4vzc",
        "scrolled": true
      },
      "outputs": [],
      "source": [
        "quad_1(2, b=3, a=1)"
      ]
    },
    {
      "cell_type": "code",
      "execution_count": null,
      "metadata": {
        "id": "no1DqnumQF6k"
      },
      "outputs": [],
      "source": [
        "quad_1(1, c=2, b=3)"
      ]
    },
    {
      "cell_type": "markdown",
      "metadata": {
        "id": "xWm_0yAU4vze"
      },
      "source": [
        "\n",
        "<br>\n",
        "\n",
        "## 1.5 Specifying Parameters\n",
        "\n",
        "\n"
      ]
    },
    {
      "cell_type": "markdown",
      "metadata": {
        "id": "Ng9pqgPaCCFv"
      },
      "source": [
        "### 1.5.1 Default Parameter Values\n",
        "\n",
        "In a function definition, we can specify a default value for a parameter with the form `parameter=expression`:"
      ]
    },
    {
      "cell_type": "code",
      "execution_count": null,
      "metadata": {
        "id": "oaLPDcuU4vzf"
      },
      "outputs": [],
      "source": [
        "def quad_2(b, c, a=1.0):       # parameters with default values must follow those without default values\n",
        "    x1 = -b / (2 * a)\n",
        "    x2 = (b ** 2 - 4 * a * c) ** 0.5 / (2 * a)\n",
        "    return (x1 + x2), (x1 - x2)"
      ]
    },
    {
      "cell_type": "markdown",
      "metadata": {
        "id": "UrTyL5ZVrbn4"
      },
      "source": [
        "Note that parameters with default values ***must follow*** those without default values:"
      ]
    },
    {
      "cell_type": "code",
      "execution_count": null,
      "metadata": {
        "id": "GngCMldGreor"
      },
      "outputs": [],
      "source": [
        "def quad_2(a=1.0, b, c):\n",
        "    x1 = -b / (2 * a)\n",
        "    x2 = (b ** 2 - 4 * a * c) ** 0.5 / (2 * a)\n",
        "    return (x1 + x2), (x1 - x2)"
      ]
    },
    {
      "cell_type": "markdown",
      "metadata": {
        "id": "t_iIgEXC4vzh"
      },
      "source": [
        "When calling a function, providing an argument for a parameter with a default value is ***optional***:"
      ]
    },
    {
      "cell_type": "code",
      "execution_count": null,
      "metadata": {
        "id": "p9Tmsui_4vzi"
      },
      "outputs": [],
      "source": [
        "quad_2(3, 2)"
      ]
    },
    {
      "cell_type": "markdown",
      "metadata": {
        "id": "ZLPMmzJM4vzk"
      },
      "source": [
        "The default value can be overriden by providing an argument during a call:"
      ]
    },
    {
      "cell_type": "code",
      "execution_count": null,
      "metadata": {
        "id": "2FUzfpHS4vzk"
      },
      "outputs": [],
      "source": [
        "quad_2(7, 3, 2)"
      ]
    },
    {
      "cell_type": "markdown",
      "metadata": {
        "id": "RdfVdZBTovs7"
      },
      "source": [
        "<br>\n",
        "\n",
        "**<font color='steelblue' >Question</font>**:\n",
        "\n",
        "1.  Write a currency converter function called `currency_converter()` to convert an amount from HKD to USD. Due to the Linked Exchange Rate system, set the default conversion rate to `7.8`. Allow users to customize the conversion rate for sepcific conversions.\n",
        "\n",
        "    Expected output:\n",
        "    \n",
        "    Calling `currency_converter(1000)` prints `1000.00 HKD converted to USD at a rate of 7.80: 128.21 USD`;\n",
        "    \n",
        "    Calling `currency_converter(1000, 7.76)` prints `1000.00 HKD converted to USD at a rate of 7.76: 128.87 USD`.\n",
        "\n"
      ]
    },
    {
      "cell_type": "code",
      "execution_count": null,
      "metadata": {
        "id": "hvJOlR6jo0Pe"
      },
      "outputs": [],
      "source": [
        "# provide your code below\n"
      ]
    },
    {
      "cell_type": "code",
      "execution_count": null,
      "metadata": {
        "id": "aLWujVKmo43n"
      },
      "outputs": [],
      "source": [
        "currency_converter(1000)\n",
        "currency_converter(1000, 7.76)"
      ]
    },
    {
      "cell_type": "markdown",
      "metadata": {
        "id": "_MR5zXRdp2N8"
      },
      "source": [
        "2.  Write a general currency converter that converts an amount from HKD to any currency. Set the default target currency to `\"USD\"` and the default conversion rate to `7.8`.  \n",
        "\n",
        "    Expected output:\n",
        "    \n",
        "    Calling `currency_converter(1000)` prints `1000.00 HKD converted to USD at a rate of 7.80: 128.21 USD`;\n",
        "    \n",
        "    Calling `currency_converter(1000, \"CNY\", 1.1)` prints `1000.00 HKD converted to CNY at a rate of 1.10: 909.09 CNY`."
      ]
    },
    {
      "cell_type": "code",
      "execution_count": null,
      "metadata": {
        "id": "8SSRmca-p3AX"
      },
      "outputs": [],
      "source": [
        "# provide your code below\n"
      ]
    },
    {
      "cell_type": "code",
      "execution_count": null,
      "metadata": {
        "id": "3hG3IR3hp-fb"
      },
      "outputs": [],
      "source": [
        "currency_converter(1000)\n",
        "currency_converter(1000, \"CNY\", 1.1)"
      ]
    },
    {
      "cell_type": "markdown",
      "metadata": {
        "id": "1Bb9oQRSq2ZC"
      },
      "source": [
        "---\n",
        "\n",
        "In summary, **the ordering of parameters with vs. without default values** and **the ordering of positional arguments and keyword/named arguments** are different things:\n",
        "\n",
        "- The former applies ***in a function definition***;\n",
        "- The latter occurs ***during a call***.\n",
        "\n",
        "However, parameters can be combined with several special symbols to control which types of arguments are allowed for them (later)."
      ]
    },
    {
      "cell_type": "markdown",
      "metadata": {
        "id": "QE6npMl0hy6h"
      },
      "source": [
        "### 1.5.2 Allowing for an Arbitrary Number of Arguments\n",
        "\n",
        "\n",
        "Python allows us to pass an arbitrary number of positional or keyword arguments to a function (e.g., `print()`, `max()`)."
      ]
    },
    {
      "cell_type": "code",
      "execution_count": null,
      "metadata": {
        "id": "nmZr0YVNwjFw"
      },
      "outputs": [],
      "source": [
        "print(1, 2, 5, 'Python', True)"
      ]
    },
    {
      "cell_type": "code",
      "execution_count": null,
      "metadata": {
        "id": "QNm57g95wklO"
      },
      "outputs": [],
      "source": [
        "max(100, 2, 37, 18, 45)"
      ]
    },
    {
      "cell_type": "code",
      "execution_count": null,
      "metadata": {
        "id": "R803NGRuAiQI"
      },
      "outputs": [],
      "source": [
        "# recall the use of * to gather excess items in sequence unpacking\n",
        "first, *remaining = 1, 2, 3, 4\n",
        "remaining"
      ]
    },
    {
      "cell_type": "markdown",
      "metadata": {
        "id": "0GtPlI_KAiQL"
      },
      "source": [
        "\n",
        "We can put `*` before a parameter to indicate that it can take a ***variable*** sequence of *positional arguments* and pack them ***into a tuple***."
      ]
    },
    {
      "cell_type": "code",
      "execution_count": null,
      "metadata": {
        "id": "hsb3jLFc4vzt"
      },
      "outputs": [],
      "source": [
        "def mean_v1(*elems):    # Positional arguments are packed into a tuple and referenced by elems\n",
        "\n",
        "    print(elems)\n",
        "\n",
        "    if not elems:\n",
        "      return 0\n",
        "\n",
        "    sumOfElems = 0\n",
        "    countOfElems = 0\n",
        "\n",
        "    for elem in elems:\n",
        "        sumOfElems += elem\n",
        "        countOfElems += 1\n",
        "\n",
        "    return sumOfElems / countOfElems"
      ]
    },
    {
      "cell_type": "code",
      "execution_count": null,
      "metadata": {
        "cell_style": "split",
        "id": "FCrdPQl64vzy"
      },
      "outputs": [],
      "source": [
        "mean_v1(1, 2, 3, 4, 5, 6)"
      ]
    },
    {
      "cell_type": "code",
      "execution_count": null,
      "metadata": {
        "cell_style": "split",
        "id": "i9-JdSTwAiQb"
      },
      "outputs": [],
      "source": [
        "mean_v1()"
      ]
    },
    {
      "cell_type": "markdown",
      "metadata": {
        "id": "YqIIaK9fsW_K"
      },
      "source": [
        "*Exercise:* Create a function called `greet()` to print greeting messages to arbitrary number of users.\n",
        "\n",
        "For example, by runing\n",
        "```python\n",
        "greet(\"Monica\", \"Luke\", \"Steve\", \"John\")\n",
        "```\n",
        "You should see\n",
        "```\n",
        "Hello Monica\n",
        "Hello Luke\n",
        "Hello Steve\n",
        "Hello John\n",
        "```"
      ]
    },
    {
      "cell_type": "code",
      "execution_count": null,
      "metadata": {
        "id": "CqWUqRU8sY7s"
      },
      "outputs": [],
      "source": [
        "# write your codes here\n"
      ]
    },
    {
      "cell_type": "code",
      "execution_count": null,
      "metadata": {
        "id": "Po6IxcL3s0wk"
      },
      "outputs": [],
      "source": [
        "print(1, 2, 3, 4, 5, 6)"
      ]
    },
    {
      "cell_type": "code",
      "execution_count": null,
      "metadata": {
        "id": "sVVJPoQWyh_a"
      },
      "outputs": [],
      "source": [
        "print([1, 2, 3, 4, 5, 6])"
      ]
    },
    {
      "cell_type": "markdown",
      "metadata": {
        "id": "JMvi5oZUp2_g"
      },
      "source": [
        "When the `*` operator is used in a functional call, it unpacks a sequence into individual positional arguments. Note `*` here is used when calling a function rather than when defining a function."
      ]
    },
    {
      "cell_type": "code",
      "execution_count": null,
      "metadata": {
        "id": "TBi141qup2_g",
        "scrolled": true
      },
      "outputs": [],
      "source": [
        "print(*[1, 2, 3, 4, 5, 6])"
      ]
    },
    {
      "cell_type": "code",
      "execution_count": null,
      "metadata": {
        "id": "0TkR8jMP4vz3",
        "scrolled": false
      },
      "outputs": [],
      "source": [
        "listOfNums = [1, 2, 3, 4, 5]\n",
        "mean_v1(*listOfNums)"
      ]
    },
    {
      "cell_type": "markdown",
      "metadata": {
        "id": "YNEigZau4vz4"
      },
      "source": [
        "\n",
        "\n",
        "`**` is used to indicate that a parameter can take a ***variable*** sequence of *keyword*/*named arguments*, and pack them ***into a dictionary***:\n"
      ]
    },
    {
      "cell_type": "code",
      "execution_count": null,
      "metadata": {
        "id": "boPLmxNJ4vz5"
      },
      "outputs": [],
      "source": [
        "def update_detail(**info):\n",
        "    print(info)\n",
        "    for k, v in info.items():\n",
        "      print(f\"{k} -> {v}\")"
      ]
    },
    {
      "cell_type": "code",
      "execution_count": null,
      "metadata": {
        "id": "PAbGiIGn4vz6"
      },
      "outputs": [],
      "source": [
        "update_detail(name='Sam', id='1902034', grade=\"A+\")"
      ]
    },
    {
      "cell_type": "markdown",
      "metadata": {
        "id": "NT7T5Y6Yp2_h"
      },
      "source": [
        "Similarly, `**` used in a call unpacks a mapping into individual keyword arguments:"
      ]
    },
    {
      "cell_type": "code",
      "execution_count": null,
      "metadata": {
        "id": "A8mhJQ_T4vz8",
        "scrolled": true
      },
      "outputs": [],
      "source": [
        "details = {'name': 'Sam', 'id': '1902034', 'major': 'Business Analytics', 'year': 3}\n",
        "update_detail(**details)      # equivalent to update_detail(name='Sam', id='1902034', major='IS', year=3)"
      ]
    },
    {
      "cell_type": "markdown",
      "metadata": {
        "id": "RRjHHW1i9A_Q"
      },
      "source": [
        "<br>\n",
        "\n",
        "###  1.5.3 Rules of Using `*args` & `**kwargs`\n",
        "\n",
        "- By definition, `*args` cannot have default values and cannot take keyword arguments.\n",
        "\n",
        "- Parameters after `*args` can take keyword arguments only; Parameter before `*args` can take keyword arguments only if there are no additional positional arguments intended for `*args`."
      ]
    },
    {
      "cell_type": "code",
      "execution_count": null,
      "metadata": {
        "id": "SraBqjKL9gwL"
      },
      "outputs": [],
      "source": [
        "def print_args_1(x1, x2, *args, y1, y2):\n",
        "    print(\"x1 is: \", x1)\n",
        "    print(\"x2 is: \", x2)\n",
        "    print(\"args is: \", args)\n",
        "    print(\"y1 is: \", y1)\n",
        "    print(\"y2 is: \", y2)"
      ]
    },
    {
      "cell_type": "code",
      "execution_count": null,
      "metadata": {
        "id": "Pj3kMzd-9iek"
      },
      "outputs": [],
      "source": [
        "# the position of y1 and y2 can be swapped\n",
        "print_args_1(\"a\", \"b\", y1=1, y2=2)"
      ]
    },
    {
      "cell_type": "code",
      "execution_count": null,
      "metadata": {
        "id": "-nOWLnFV9m-e"
      },
      "outputs": [],
      "source": [
        "# the position of y1 and y2 can be swapped\n",
        "print_args_1(\"a\", \"b\", \"c\", \"d\", y1=1, y2=2)"
      ]
    },
    {
      "cell_type": "code",
      "execution_count": null,
      "metadata": {
        "id": "CmWRBdJq9sLD"
      },
      "outputs": [],
      "source": [
        "print_args_1(x2=\"b\", x1=\"a\", y1=1, y2=2)"
      ]
    },
    {
      "cell_type": "code",
      "execution_count": null,
      "metadata": {
        "id": "ysinQesc9vS5"
      },
      "outputs": [],
      "source": [
        "# recall: positional arguments cannot come after keyword arguments\n",
        "print_args_1(x2=\"b\", x1=\"a\", \"c\", \"d\", y1=1, y2=2)"
      ]
    },
    {
      "cell_type": "markdown",
      "metadata": {
        "id": "EfzDjSXP-E2J"
      },
      "source": [
        "- By definition, `**kwargs` cannot have default values and cannot take positional arguments. It can only appear at the end of a parameter list."
      ]
    },
    {
      "cell_type": "code",
      "execution_count": null,
      "metadata": {
        "id": "GuRYL64o-H2a"
      },
      "outputs": [],
      "source": [
        "def print_args_2(y1, **kwargs, y2):\n",
        "    print(\"y1 is: \", y1)\n",
        "    print(\"y2 is: \", y2)\n",
        "    print(\"kwargs is: \", kwargs)"
      ]
    },
    {
      "cell_type": "markdown",
      "metadata": {
        "id": "cvvOVqJM-PMQ"
      },
      "source": [
        "- `**kwargs` does not impose any restrictions on the type of arguments that come before it."
      ]
    },
    {
      "cell_type": "code",
      "execution_count": null,
      "metadata": {
        "id": "KV6rqZl--S3Z"
      },
      "outputs": [],
      "source": [
        "def print_args_2(y1, y2, **kwargs):\n",
        "    print(\"y1 is: \", y1)\n",
        "    print(\"y2 is: \", y2)\n",
        "    print(\"kwargs is: \", kwargs)"
      ]
    },
    {
      "cell_type": "code",
      "execution_count": null,
      "metadata": {
        "id": "4A8ZkRFJ-Vnp"
      },
      "outputs": [],
      "source": [
        "print_args_2(1, 2, x1=\"a\", x2=\"b\")"
      ]
    },
    {
      "cell_type": "code",
      "execution_count": null,
      "metadata": {
        "id": "T5qMYqdF-Wom"
      },
      "outputs": [],
      "source": [
        "print_args_2(x1=\"a\", x2=\"b\", y2=2, y1=1)"
      ]
    },
    {
      "cell_type": "code",
      "execution_count": null,
      "metadata": {
        "id": "XPjRU-KW-X5z"
      },
      "outputs": [],
      "source": [
        "print_args_2(y2=2, y1=1)"
      ]
    },
    {
      "cell_type": "code",
      "execution_count": null,
      "metadata": {
        "id": "vc-j0iRg-Zb_"
      },
      "outputs": [],
      "source": [
        "# still, positional arguments cannot come after keyword arguments\n",
        "print_args_2(y1=1, 2, x1=\"a\", x2=\"b\")"
      ]
    },
    {
      "cell_type": "markdown",
      "metadata": {
        "id": "nZtEYeVZ4vz9"
      },
      "source": [
        "\n",
        "###  Parameter Ordering\n",
        "\n",
        "Ordinary parameters, `*args`, and `**kwargs` can be combined in the same parameter list:\n",
        "\n"
      ]
    },
    {
      "cell_type": "code",
      "execution_count": null,
      "metadata": {
        "id": "nbrwZXgm-31Y"
      },
      "outputs": [],
      "source": [
        "def print_args_3(x1, x2, *args, y1, y2, **kwargs):\n",
        "    print(\"x1 is: \", x1)\n",
        "    print(\"x2 is: \", x2)\n",
        "    print(\"args is: \", args)\n",
        "    print(\"y1 is: \", y1)\n",
        "    print(\"y2 is: \", y2)\n",
        "    print(\"kwargs is: \", kwargs)"
      ]
    },
    {
      "cell_type": "code",
      "execution_count": null,
      "metadata": {
        "id": "jIBr6ZMw-7Mq"
      },
      "outputs": [],
      "source": [
        "# the positions of y1 and y2 can be swapped\n",
        "print_args_3('a', 'b', 'c', 'd', y1=1, y2=2, y3=3, y4=4)"
      ]
    },
    {
      "cell_type": "code",
      "execution_count": null,
      "metadata": {
        "id": "tp73TfoM_0nc"
      },
      "outputs": [],
      "source": [
        "# all arguments can be keyword ones as long as there're no arguments intended for *args\n",
        "print_args_3(y3=3, y4=4, x1='a', x2='b', y1=1, y2=2)"
      ]
    },
    {
      "cell_type": "markdown",
      "metadata": {
        "id": "GfO7ioT5_mOK"
      },
      "source": [
        "<br>\n",
        "\n",
        "So, is it possible to enforce a set of parameters to take positional arguments only?\n",
        "\n",
        "When used in a parameter list, `/` enforces all paramenters before it to take positional arguments only during a call."
      ]
    },
    {
      "cell_type": "code",
      "execution_count": null,
      "metadata": {
        "id": "V6ws5oOM_oNz"
      },
      "outputs": [],
      "source": [
        "def print_args_4(x1, x2, /, *args, y1, y2, **kwargs):\n",
        "    print(\"x1 is: \", x1)\n",
        "    print(\"x2 is: \", x2)\n",
        "    print(\"args is: \", args)\n",
        "    print(\"y1 is: \", y1)\n",
        "    print(\"y2 is: \", y2)\n",
        "    print(\"kwargs is: \", kwargs)"
      ]
    },
    {
      "cell_type": "code",
      "execution_count": null,
      "metadata": {
        "id": "hZgBmIPI_sFA"
      },
      "outputs": [],
      "source": [
        "print_args_4('a', 'b', 'c', 'd', y1=1, y2=2, y3=3, y4=4)"
      ]
    },
    {
      "cell_type": "code",
      "execution_count": null,
      "metadata": {
        "id": "O26PFU9__uNI"
      },
      "outputs": [],
      "source": [
        "# no longer valid\n",
        "print_args_4(x1='a', x2='b', y1=1, y2=2, y3=3, y4=4)"
      ]
    },
    {
      "cell_type": "markdown",
      "metadata": {
        "id": "oIR1SqQo-2eN"
      },
      "source": [
        "### Python's parameter ordering rule:\n",
        "\n",
        "We can mix ordinary parameters, `*args` (positional arguments), and `**kwargs` (keyword arguments) in a function's parameter specification, but they must appear in a particular order:\n",
        "\n",
        "- Parameters for positional matching (those without default values come first) > `/` > `*args` (captures additional positional arguments) > parameters for keyword matching > `**kwargs` (captures additional keyword arguments)\n",
        "\n",
        "- Amendment:  The rule that *parameters with default values can only follow those without default values* only applies to parameters for positional matching."
      ]
    },
    {
      "cell_type": "code",
      "execution_count": null,
      "metadata": {
        "id": "7iJw0eYIAYAB"
      },
      "outputs": [],
      "source": [
        "def print_args_5(x1, x2, /, *args, y1=1, y2, **kwargs):     # y1=1 can come before y2\n",
        "    print(\"x1 is: \", x1)\n",
        "    print(\"x2 is: \", x2)\n",
        "    print(\"args is: \", args)\n",
        "    print(\"y1 is: \", y1)\n",
        "    print(\"y2 is: \", y2)\n",
        "    print(\"kwargs is: \", kwargs)\n",
        "\n",
        "print_args_5('a', 'b', 'c', 'd', y3=3, y4=4, y2=2)"
      ]
    },
    {
      "cell_type": "code",
      "execution_count": null,
      "metadata": {
        "id": "33hIRfA64vz-"
      },
      "outputs": [],
      "source": [
        "def print_all_args(x1, x2='python', *args, y1='business', y2, **kwargs):\n",
        "    print(\"x1 is: \", x1)\n",
        "    print(\"x2 is: \", x2)\n",
        "    print(\"y1 is: \", y1)\n",
        "    print(\"y2 is: \", y2)\n",
        "    print(\"args is: \", args)\n",
        "    print(\"kwargs is: \", kwargs)"
      ]
    },
    {
      "cell_type": "code",
      "execution_count": null,
      "metadata": {
        "id": "ivO0GZjsp2_i"
      },
      "outputs": [],
      "source": [
        "print_all_args('Ann', 'cat', 'dog', 'pig', y1='science', y2='2019', day='Monday', date='May 6')"
      ]
    },
    {
      "cell_type": "code",
      "execution_count": null,
      "metadata": {
        "id": "JUrlsGTAGtyo"
      },
      "outputs": [],
      "source": [
        "print_all_args('Ann', y2='2019', y1=\"finance\")"
      ]
    },
    {
      "cell_type": "markdown",
      "metadata": {
        "id": "0Cz9_pzuK4-q"
      },
      "source": [
        "> Polling questions: https://www.menti.com/alnyjdo9wbd7"
      ]
    },
    {
      "cell_type": "markdown",
      "metadata": {
        "id": "TXNJbK6lHCmY"
      },
      "source": [
        "**<font color='steelblue' >Question</font>**:\n",
        "\n",
        "Write a function called `sort_letters` that satisfies the following requirements:\n",
        "\n",
        "- It can take a variable sequence of letters;\n",
        "\n",
        "- It supports an option called `order`, which defaults to `None`, returning a list of passed-in letters without changing their order;\n",
        "\n",
        "- If `order` is set to `'asc'`,  sort all letters in ascending order in the output;\n",
        "\n",
        "- If `order` is set to `'desc'`, sort all letters in descending order in the output.\n",
        "\n",
        "For example, the expected output of\n",
        "\n",
        "```python\n",
        "sort_letters('e', 'z', 'm', 'i', 'w', order='desc')\n",
        "```\n",
        "is\n",
        "\n",
        "```\n",
        "['z', 'w', 'm', 'i', 'e']\n",
        "\n",
        "```"
      ]
    },
    {
      "cell_type": "code",
      "execution_count": null,
      "metadata": {
        "id": "PUnryDFvHIrZ"
      },
      "outputs": [],
      "source": [
        "# write your code here\n",
        "\n"
      ]
    },
    {
      "cell_type": "markdown",
      "metadata": {
        "id": "P9xZCiRNgawS"
      },
      "source": [
        "## 1.6 Writing a Function's Docstring\n",
        "\n",
        "A function definition can include a **docstring** (short for **documentation string**) to describe what the function does and how it works.\n",
        "\n",
        "Function docstrings are placed immediately after the function header and between triple quotation marks:"
      ]
    },
    {
      "cell_type": "code",
      "execution_count": null,
      "metadata": {
        "id": "CmY-u9UKgdab"
      },
      "outputs": [],
      "source": [
        "def mean_v2(*elems):\n",
        "    '''Return the mean of a sequence of values.'''\n",
        "    if not elems: return 0\n",
        "    sumOfElems = 0; countOfElems = 0\n",
        "    for elem in elems:\n",
        "        sumOfElems += elem\n",
        "        countOfElems += 1\n",
        "    return sumOfElems / countOfElems"
      ]
    },
    {
      "cell_type": "markdown",
      "metadata": {
        "id": "oGUoXljRggE9"
      },
      "source": [
        "A function's docstring can be accessed using help():"
      ]
    },
    {
      "cell_type": "code",
      "execution_count": null,
      "metadata": {
        "id": "R9bWumz0gidv"
      },
      "outputs": [],
      "source": [
        "help(mean_v2)"
      ]
    },
    {
      "cell_type": "markdown",
      "metadata": {
        "id": "XC90zdxn4v0j"
      },
      "source": [
        "\n",
        "\n",
        "<br>\n",
        "\n",
        "\n",
        "## 1.7 `lambda` Expressions\n",
        "\n",
        "\n",
        "Besides the `def` statement, Python provides an expression form to generate function objects, known as [`lambda` expressions](https://docs.python.org/3/reference/expressions.html#lambdas).\n",
        "\n",
        "`Lambda`function, also known as anonymous functions, can be considered a degenerate kind of functions, which don't have a name and carry only a ***single*** expression whose result is returned:\n",
        "\n",
        "\n",
        "<pre class='lang-python'>\n",
        "<span style=\"color:#2767C5\";>lambda</span> <span style=\"color:#BB2F29\";>&lt;parameter 1&gt;</span>, <span style=\"color:#BB2F29\";>&lt;parameter 2&gt;</span>, ...: <span style=\"color:#BB2F29\";>&lt;a single expression using parameters&gt;</span>\n",
        "</pre>"
      ]
    },
    {
      "cell_type": "code",
      "execution_count": null,
      "metadata": {
        "cell_style": "split",
        "id": "UzhYzsPS4v0j"
      },
      "outputs": [],
      "source": [
        "def multiply_v1(x, y=1):\n",
        "    return x * y"
      ]
    },
    {
      "cell_type": "markdown",
      "metadata": {
        "id": "UHY_Nu2Bpw_Y"
      },
      "source": [
        "We can transform the above function to a lambda expression."
      ]
    },
    {
      "cell_type": "code",
      "execution_count": null,
      "metadata": {
        "cell_style": "split",
        "id": "5QRwUNw5AiR4",
        "scrolled": true
      },
      "outputs": [],
      "source": [
        "lambda x, y=1: x * y"
      ]
    },
    {
      "cell_type": "code",
      "execution_count": null,
      "metadata": {
        "id": "VXqy75lmp09l"
      },
      "outputs": [],
      "source": [
        "type(lambda x, y=1: x * y)"
      ]
    },
    {
      "cell_type": "code",
      "execution_count": 1,
      "metadata": {
        "id": "zJaSMc0sEdJf"
      },
      "outputs": [
        {
          "data": {
            "text/plain": [
              "3"
            ]
          },
          "execution_count": 1,
          "metadata": {},
          "output_type": "execute_result"
        }
      ],
      "source": [
        "(lambda x, y=1: x * y)(3)"
      ]
    },
    {
      "cell_type": "code",
      "execution_count": 2,
      "metadata": {
        "id": "dCwxQeMQ4v0m"
      },
      "outputs": [],
      "source": [
        "# can be embedded in an assignment statement to create a name for the function object\n",
        "multiply_v2 = lambda x, y=1: x * y"
      ]
    },
    {
      "cell_type": "code",
      "execution_count": 3,
      "metadata": {
        "id": "5qhsN1MX4v0n"
      },
      "outputs": [
        {
          "data": {
            "text/plain": [
              "3"
            ]
          },
          "execution_count": 3,
          "metadata": {},
          "output_type": "execute_result"
        }
      ],
      "source": [
        "multiply_v2(3)"
      ]
    },
    {
      "cell_type": "markdown",
      "metadata": {
        "id": "p2fqAppFAiR-"
      },
      "source": [
        "\n",
        "**<font color='steelblue' > Question</font>**: Use `lambda` to implement the following formula:\n",
        "\n",
        "$$\n",
        "f(x) = x^2 + x + 5\n",
        "$$\n",
        "\n",
        "- Assign the name `f` to the resultant function;  \n",
        "\n",
        "- Test the lambda function with the following inputs: `f(4)`, `f(5)` and `f(7)`."
      ]
    },
    {
      "cell_type": "code",
      "execution_count": null,
      "metadata": {
        "id": "Y96VLfu7AiR_"
      },
      "outputs": [],
      "source": [
        "# write your codes here\n"
      ]
    },
    {
      "cell_type": "markdown",
      "metadata": {
        "id": "Nh0q9vTu4v0q"
      },
      "source": [
        "The `lambda` expression is most useful as a concise shorthand for defining small, unnamed functions. It is often used in conjunction with other functions that take a function as a parameter\n",
        "\n",
        "Given a nested list representing a gradebook:"
      ]
    },
    {
      "cell_type": "code",
      "execution_count": null,
      "metadata": {
        "id": "R1QqtD0G4v0r"
      },
      "outputs": [],
      "source": [
        "gradebook = [['Troy', 92], ['Alice', 95], ['James', 89], ['Charles', 100], ['Bryn', 59]]"
      ]
    },
    {
      "cell_type": "markdown",
      "metadata": {
        "id": "JYiah2w04v0t"
      },
      "source": [
        "If we want to use `sorted()` to implement some sophisticated sorting, we can do so by defining a `lambda` function and passing it into a function call as the argument to `key` (Recall we have used sorted by making `key=int` to compare string numbers).\n",
        "\n",
        "<img src=\"https://raw.githubusercontent.com/justinjiajia/img/master/python/lambda_sort.png\" width=800/>"
      ]
    },
    {
      "cell_type": "code",
      "execution_count": null,
      "metadata": {
        "id": "jwPNInmE4v0w",
        "scrolled": true
      },
      "outputs": [],
      "source": [
        "# sort sublists by their second elements\n",
        "sorted(gradebook, key=lambda x: x[1])"
      ]
    },
    {
      "cell_type": "markdown",
      "metadata": {
        "id": "HYGL-KuVrfC8"
      },
      "source": [
        "*Exercise:* What codes you should write if you want to sort students by the first character of their names? Combining the `key` parameter and `lambda` function to do that."
      ]
    },
    {
      "cell_type": "code",
      "execution_count": null,
      "metadata": {
        "id": "JTDmUQsZrf8W"
      },
      "outputs": [],
      "source": [
        "# write your codes here\n"
      ]
    },
    {
      "cell_type": "markdown",
      "metadata": {
        "id": "jVNeP_B0FXWP"
      },
      "source": [
        "**<font color='steelblue' > Question</font>**:\n",
        "\n",
        "1) What if we want to sort the gradebook by score range in descending order (e.g., 10-point ranges such as 91-100, 81-90, and so on)??\n",
        "\n",
        "The expected output is:\n",
        "\n",
        "```\n",
        "[['Troy', 92], ['Alice', 95], ['Charles', 99],\n",
        " ['James', 89], ['Mike', 86],\n",
        " ['Bryn', 59]]\n",
        "```"
      ]
    },
    {
      "cell_type": "code",
      "execution_count": null,
      "metadata": {
        "id": "xackotSNFkiX"
      },
      "outputs": [
        {
          "data": {
            "text/plain": [
              "[['Charles', 99],\n",
              " ['Alice', 95],\n",
              " ['Troy', 92],\n",
              " ['James', 89],\n",
              " ['Mike', 86],\n",
              " ['Bryn', 59]]"
            ]
          },
          "execution_count": 4,
          "metadata": {},
          "output_type": "execute_result"
        }
      ],
      "source": [
        "gradebook = [['Troy', 92], ['Alice', 95], ['James', 89], ['Charles', 99], ['Mike', 86], ['Bryn', 59]]\n",
        "\n",
        "# write your codes here\n",
        "sorted(gradebook, key=lambda x: x[1], reverse=False)"
      ]
    },
    {
      "cell_type": "markdown",
      "metadata": {
        "id": "DTCQVBk4G67w"
      },
      "source": [
        "2) What if we want to further sort students by name in ascending order within each range?\n",
        "\n",
        "The expected output is:\n",
        "\n",
        "```\n",
        "[['Alice', 95], ['Charles', 99], ['Troy', 92],\n",
        " ['James', 89], ['Mike', 86],\n",
        " ['Bryn', 59]]\n",
        "```"
      ]
    },
    {
      "cell_type": "code",
      "execution_count": null,
      "metadata": {
        "id": "2gJgrVeTG9tz"
      },
      "outputs": [],
      "source": [
        "# write your codes here\n"
      ]
    },
    {
      "cell_type": "markdown",
      "metadata": {
        "id": "eGnFlQwjp2_o"
      },
      "source": [
        "\n",
        "**<font color='steelblue' > A More Challenging Exercise</font>**:\n",
        "\n",
        "Given a nested list representing gradebooks of different courses:\n",
        "```python\n",
        "gradebooks = [[['Troy', 92], ['Alice', 95]], [['James', 89], ['Charles', 100], ['Bryn', 59]]]\n",
        "```\n",
        "\n",
        "- Using the built-in `sorted()` function, write code to sort courses by course mean. The expected output is\n",
        "\n",
        "```python\n",
        "[[['James', 89], ['Charles', 100], ['Bryn', 59]], [['Troy', 92], ['Alice', 95]]]\n",
        "```\n",
        "\n",
        "Hint:\n",
        "1. the key for the sorted() should be the mean grade for each course.\n",
        "2. the mean grade can be obtained by using list comprehension."
      ]
    },
    {
      "cell_type": "code",
      "execution_count": null,
      "metadata": {
        "id": "T_OltNhdsKIU"
      },
      "outputs": [],
      "source": [
        "gradebooks = [[['Troy', 92], ['Alice', 95]], [['James', 89], ['Charles', 100], ['Bryn', 59]]]\n",
        "# write your codes here\n"
      ]
    },
    {
      "cell_type": "markdown",
      "metadata": {
        "id": "fs4ZxPTx4v1M"
      },
      "source": [
        "\n",
        "<br>\n",
        "\n",
        "# 2 Classes\n",
        "\n",
        "We've seen various types of objects, such as the `int`, `str`, `list`, `tuple`, and `dict`:"
      ]
    },
    {
      "cell_type": "code",
      "execution_count": null,
      "metadata": {
        "cell_style": "split",
        "id": "Gm3nx9QtQFOp"
      },
      "outputs": [],
      "source": [
        "type(1)"
      ]
    },
    {
      "cell_type": "code",
      "execution_count": null,
      "metadata": {
        "cell_style": "split",
        "id": "VpikAVMMQFOp"
      },
      "outputs": [],
      "source": [
        "type('cat')"
      ]
    },
    {
      "cell_type": "code",
      "execution_count": null,
      "metadata": {
        "id": "DsGMXl3ZScpP"
      },
      "outputs": [],
      "source": [
        "type([1, 2, 3])"
      ]
    },
    {
      "cell_type": "code",
      "execution_count": null,
      "metadata": {
        "id": "2AP8XJ2Y4v1M"
      },
      "outputs": [],
      "source": [
        "a = list()            # create a list object that is empty\n",
        "b = list('abc')       # create a list object that is empty containing 'a', 'b', and 'c'\n",
        "c = tuple('xyz')      # create a tuple object containing 'x', 'y', and 'z'\n",
        "d = 'abc'"
      ]
    },
    {
      "cell_type": "markdown",
      "metadata": {
        "id": "-qJrnjpY4v1O"
      },
      "source": [
        "We've seen that the same type of objects share common behaviors realized through methods:"
      ]
    },
    {
      "cell_type": "code",
      "execution_count": null,
      "metadata": {
        "cell_style": "split",
        "id": "TEcKLrgi4v1O"
      },
      "outputs": [],
      "source": [
        "a.append(1)"
      ]
    },
    {
      "cell_type": "code",
      "execution_count": null,
      "metadata": {
        "cell_style": "split",
        "id": "EwFFZP-V4v1R"
      },
      "outputs": [],
      "source": [
        "b.append(2)"
      ]
    },
    {
      "cell_type": "code",
      "execution_count": null,
      "metadata": {
        "cell_style": "split",
        "id": "QL_DFjnu4v1S"
      },
      "outputs": [],
      "source": [
        "d.capitalize()  # capitalize() method converts the first character of a string to an uppercase letter and all other alphabets to lowercase."
      ]
    },
    {
      "cell_type": "code",
      "execution_count": null,
      "metadata": {
        "cell_style": "split",
        "id": "E4DftKRO4v1T"
      },
      "outputs": [],
      "source": [
        "'xyz'.capitalize()"
      ]
    },
    {
      "cell_type": "code",
      "execution_count": null,
      "metadata": {
        "id": "QRPx8B5LQFOr"
      },
      "outputs": [],
      "source": [
        "a.capitalize()"
      ]
    },
    {
      "cell_type": "markdown",
      "metadata": {
        "id": "un42Ul5A4v1U"
      },
      "source": [
        "What if we want to create new types of objects that possess certain **properties** and **behaviors** (e.g., customers)?\n",
        "\n",
        "Python provides a programming construct known as a *class* to define new types of objects (Conceptually, the term \"class\" is synonymous with the term \"type\").\n",
        "\n",
        "Just like functions, Python classes are another compartment ***for packaging logic and data***.\n",
        "\n",
        "<br>\n",
        "\n",
        "**Classes** are Python's main ***object-oriented programming*** (OOP) tool.\n",
        "- In OOP, **objects** are instances of **classes**, and they represent real-world entities or abstractions. Classes provide the blueprint or template to create such objects, encapsulating both **data (attributes)** and **behavior (methods)**. This allows code to be organized in a modular, reusable, and scalable way.\n",
        "\n"
      ]
    },
    {
      "cell_type": "markdown",
      "metadata": {
        "id": "1hA5PnJbxy_i"
      },
      "source": [
        "\n",
        "<br>\n",
        "\n",
        "## 2.1 Defining a Class\n",
        "\n",
        "Imagine we want to define a new type of object to represent individual customers for a bank's personal loan business.\n",
        "\n",
        "**Common properties**:\n",
        "\n",
        "\n",
        "| Name |  Income | Years | Criminal |  \n",
        "|-----|-----|-----|-----|\n",
        "| Amy | 27 |4.2 |  No |  \n",
        "| Sam | 32 |1.5 |  No |  \n",
        "| Jane | 55 | 3.5  | Yes |\n",
        "|...|\n",
        "\n",
        "\n",
        "**Common operations**: A routine determines whether to grant a loan to a customer.\n",
        "\n",
        "<br>\n",
        "\n",
        "[The `class` statement](https://docs.python.org/3.7/reference/compound_stmts.html#class-definitions) creates a class object and assigns it a name.\n",
        "\n",
        "The body of a class is where we specify the attributes of the class, including both data and method attributes.\n"
      ]
    },
    {
      "cell_type": "code",
      "execution_count": null,
      "metadata": {
        "id": "umYVV0l54v1U"
      },
      "outputs": [],
      "source": [
        "class Customer:  # names for user-defined classes begin with uppercase letters by convention\n",
        "    '''A class for bank customers.'''\n",
        "\n",
        "    def __init__(self, name, income, years, criminal='No'):\n",
        "        '''populate the attributes of a particular customer'''\n",
        "        self.name = name                   # assignments to attributes of self\n",
        "        self.income = income\n",
        "        self.years = years\n",
        "        self.criminal = criminal\n",
        "\n",
        "    def apply_loan(self):                  # a function attribute, a.k.a. a method of the class\n",
        "        if self.income >= 70:\n",
        "            result = 'Approve'\n",
        "        elif self.income >= 30:\n",
        "            if self.years >= 2:\n",
        "                result = 'Approve'\n",
        "            else:result = 'Reject'\n",
        "        else:\n",
        "            if self.criminal == \"No\":\n",
        "                result = 'Approve'\n",
        "            else: result = 'Reject'\n",
        "        return result"
      ]
    },
    {
      "cell_type": "code",
      "execution_count": null,
      "metadata": {
        "id": "1gRZQClk4zzp"
      },
      "outputs": [],
      "source": [
        "Customer"
      ]
    },
    {
      "cell_type": "markdown",
      "metadata": {
        "id": "gL1ELdyUUJs8"
      },
      "source": [
        "- Common properties that may vary across different customer objects are defined through assignments inside an initializer (i.e., a specially named function `__init__()`). <a href=\"https://docs.python.org/3/reference/datamodel.html#object.__init__\">__init__()</a> (called the initializer) is one of <a href=\"https://docs.python.org/3/reference/datamodel.html#special-method-names\">special methods</a> reserved by Python, and called automatically each time an instance is created. Special method names (begin and end with __ pronounced as \"dunder\") are ubiquitous in Python, and used for certain operations that are invoked by special syntax.\n",
        "\n",
        "- Common operations are defined through function definitions within the class definition.\n",
        "\n",
        "\n"
      ]
    },
    {
      "cell_type": "markdown",
      "metadata": {
        "id": "Cx1Y4ukC4v1V"
      },
      "source": [
        "A class object is essentially a wrapper around a new namespace, created when a class definition is executed.\n",
        "\n",
        "This new namespace is populated with ***all names created by the top-level assignments*** (i.e., `def`s and regular assignments) inside the class definition and several special names automatically created by Python.\n",
        "<br>\n",
        "\n",
        "<img src=\"https://raw.githubusercontent.com/justinjiajia/img/master/python/class.png\" width=600/>\n",
        "\n",
        "\n",
        "\n"
      ]
    },
    {
      "cell_type": "markdown",
      "metadata": {
        "id": "eWSuzOo4OdpS"
      },
      "source": [
        "Because these names exist in that class object rather than the global namespace, they can only be accessed by referencing the class object. That's why they are regarded as the **attributes of the class**, and the dot notation is called the **attribute reference notation** in Python."
      ]
    },
    {
      "cell_type": "code",
      "execution_count": null,
      "metadata": {
        "id": "_zP3RgfZVhu8"
      },
      "outputs": [],
      "source": [
        "Customer.__init__"
      ]
    },
    {
      "cell_type": "code",
      "execution_count": null,
      "metadata": {
        "id": "ow9Nj6PnNKhF"
      },
      "outputs": [],
      "source": [
        "Customer.apply_loan   # class methods are just functions defined inside the class"
      ]
    },
    {
      "cell_type": "code",
      "execution_count": null,
      "metadata": {
        "id": "0PASqsckNPBK"
      },
      "outputs": [],
      "source": [
        "Customer.__doc__   # a special attribute of a class that contains the object's docstring"
      ]
    },
    {
      "cell_type": "markdown",
      "metadata": {
        "id": "p-_i4Lus5J95"
      },
      "source": [
        "\n",
        "Names in a class's namespace can be exposed by the built-in `__dict__` attribute:"
      ]
    },
    {
      "cell_type": "code",
      "execution_count": null,
      "metadata": {
        "id": "eVpmKd905JL2"
      },
      "outputs": [],
      "source": [
        "Customer.__dict__"
      ]
    },
    {
      "cell_type": "markdown",
      "metadata": {
        "id": "fgzVNwt24v1Z"
      },
      "source": [
        "\n",
        "<br>\n",
        "\n",
        "## 2.2 Instantiating a Class\n",
        "\n",
        "A class provides the specification of a user-defined type, and serves as the template from which its instances can be created..\n",
        "\n",
        "\n",
        "<img src=\"https://raw.githubusercontent.com/justinjiajia/img/master/python/class_instance_macbook_air.png\" width=1000/>\n",
        "\n",
        "\n",
        "Calling a **class object** like a function makes a new **instance object**:"
      ]
    },
    {
      "cell_type": "code",
      "execution_count": null,
      "metadata": {
        "cell_style": "split",
        "id": "L7wJRKaN4v1a"
      },
      "outputs": [],
      "source": [
        "customer_1 = Customer(\"Amy\", 27, 4.2)\n",
        "customer_1"
      ]
    },
    {
      "cell_type": "code",
      "execution_count": null,
      "metadata": {
        "cell_style": "split",
        "id": "TFoPOw99AiTL"
      },
      "outputs": [],
      "source": [
        "customer_2 = Customer(\"Sam\", 32, 1.5, \"Yes\")\n",
        "customer_2"
      ]
    },
    {
      "cell_type": "markdown",
      "metadata": {
        "id": "je41oq_R4v1f"
      },
      "source": [
        "- The instantiation operation first creates an empty **instance** of the class. Let's refer to it as `new_instance`;\n",
        "\n",
        "- Python then invokes `new_instance.__init__(\"Sam\", 32, 1.5, \"Yes\")`\n",
        "to initialize it to a specific **initial state**.\n",
        "<pre class=\"lang-python\">\n",
        "<span style=\"color: #007c00\";>def</span> <span style=\"color:#0b13ff\">__init__</span>(self, name, income, years, criminal<span style=\"color: #a827fe\">=</span><span style=\"color:#c44f49;\">\"No\"</span>):</span>\n",
        "     <span style=\"color:#c44f49\";>'''populate the attributes of a particular customer'''</span>\n",
        "     \n",
        "     <span style=\"color:#555555;\">self.name <span style=\"color: #a827fe\">=</span> name</span>\n",
        "     <span style=\"color:#555555;\">self.income <span style=\"color: #a827fe\">=</span> income</span>\n",
        "     <span style=\"color:#555555;\">self.years <span style=\"color: #a827fe\">=</span> years</span>\n",
        "     <span style=\"color:#555555;\">self.criminal <span style=\"color: #a827fe\">=</span> criminal</span>\n",
        "</pre>\n",
        "    \n",
        "    -  The 1st parameter (named `self` by convention) is special and used to take the instance from which the corresponding method is being called.  \n",
        "\n",
        "<img src=\"https://raw.githubusercontent.com/justinjiajia/img/master/python/instance_initialization.png\" width=1200/>\n",
        "\n",
        "\n",
        "\n",
        "\n",
        "\n",
        "     \n"
      ]
    },
    {
      "cell_type": "markdown",
      "metadata": {
        "id": "QGJpHz6zQFOt"
      },
      "source": [
        "\n",
        "  \n",
        "- Each instance object created from a class gets its own namespace.\n",
        "\n",
        "    - Assignments to attributes of `self` create ***instance-level*** attributes (differ from instance to instance).\n",
        "\n",
        "\n",
        "\n",
        "<img src=\"https://raw.githubusercontent.com/justinjiajia/img/master/python/instance.png\" width=650/>\n",
        "\n",
        "\n",
        "\n"
      ]
    },
    {
      "cell_type": "code",
      "execution_count": null,
      "metadata": {
        "cell_style": "split",
        "id": "TrTqqHSCAiTW"
      },
      "outputs": [],
      "source": [
        "# instance-level attributes\n",
        "customer_1.name, customer_1.income, customer_1.years, customer_1.criminal"
      ]
    },
    {
      "cell_type": "code",
      "execution_count": null,
      "metadata": {
        "cell_style": "split",
        "id": "RFLsooll4v1l"
      },
      "outputs": [],
      "source": [
        "customer_2.name, customer_2.income, customer_2.years, customer_2.criminal"
      ]
    },
    {
      "cell_type": "markdown",
      "metadata": {
        "id": "RJY7RN484v1m"
      },
      "source": [
        "\n",
        "\n",
        "- Instance objects also inherit attributes that live in the class objects from which they were generated:\n"
      ]
    },
    {
      "cell_type": "code",
      "execution_count": null,
      "metadata": {
        "id": "PH6y-AJE4v1n"
      },
      "outputs": [],
      "source": [
        "# class-level data attributes\n",
        "customer_1.__doc__"
      ]
    },
    {
      "cell_type": "code",
      "execution_count": null,
      "metadata": {
        "id": "zgnmkJIIQFOv"
      },
      "outputs": [],
      "source": [
        "customer_2.__doc__"
      ]
    },
    {
      "cell_type": "code",
      "execution_count": null,
      "metadata": {
        "id": "uPkbR7nc80dd"
      },
      "outputs": [],
      "source": [
        "# class-level method attributes\n",
        "# the instance is implicitly passed as the argument to self\n",
        "customer_1.apply_loan()"
      ]
    },
    {
      "cell_type": "code",
      "execution_count": null,
      "metadata": {
        "id": "D3F0iDaN8OAn"
      },
      "outputs": [],
      "source": [
        "customer_2.apply_loan()"
      ]
    },
    {
      "cell_type": "markdown",
      "metadata": {
        "id": "owlEHgjx38MM"
      },
      "source": [
        "Both class-level attributes and instance-level attributes can be added on the fly via assignments with qualified names:"
      ]
    },
    {
      "cell_type": "code",
      "execution_count": null,
      "metadata": {
        "id": "qNkfeMl33-O_"
      },
      "outputs": [],
      "source": [
        "Customer.description = 'Customers of personal loan products'"
      ]
    },
    {
      "cell_type": "code",
      "execution_count": null,
      "metadata": {
        "id": "OuQwfvOU4Aux"
      },
      "outputs": [],
      "source": [
        "customer_1.description"
      ]
    },
    {
      "cell_type": "code",
      "execution_count": null,
      "metadata": {
        "id": "45tispca4Cm3"
      },
      "outputs": [],
      "source": [
        "customer_2.description"
      ]
    },
    {
      "cell_type": "code",
      "execution_count": null,
      "metadata": {
        "id": "WxNiCa9h4ILs"
      },
      "outputs": [],
      "source": [
        "# We can also include it as part of the class definition\n",
        "class Customer:\n",
        "    '''A class for bank customers.'''\n",
        "\n",
        "    description = 'Customers of personal loan products'              # use a regular assignment to do so\n",
        "\n",
        "    def __init__(self, name, income, years, criminal='No'):\n",
        "        '''populate the attributes of a particular customer'''\n",
        "        self.name = name\n",
        "        self.income = income\n",
        "        self.years = years\n",
        "        self.criminal = criminal\n",
        "\n",
        "    def apply_loan(self):\n",
        "        if self.income >= 70:\n",
        "            result = 'Approve'\n",
        "        elif self.income >= 30:\n",
        "            if self.years >= 2:\n",
        "                result = 'Approve'\n",
        "            else:result = 'Reject'\n",
        "        else:\n",
        "            if self.criminal == \"No\":\n",
        "                result = 'Approve'\n",
        "            else: result = 'Reject'\n",
        "        return result"
      ]
    },
    {
      "cell_type": "markdown",
      "metadata": {
        "id": "mSk9sRlECJml"
      },
      "source": [
        "*Exercise*: What does the following code output?\n",
        "\n",
        "```Python\n",
        "class People:\n",
        "\n",
        "    def __init__(self, name=\"Unknown\"):\n",
        "      self.name = name\n",
        "\n",
        "    def namePrint(self):\n",
        "      print(self.name)\n",
        "\n",
        "person1 = People(\"Sally\")\n",
        "person2 = People()\n",
        "person2.namePrint()\n",
        "```"
      ]
    },
    {
      "cell_type": "markdown",
      "metadata": {
        "id": "Qja3RAKqwtyI"
      },
      "source": [
        "## 2.3 Class Attributes vs. Instance Attributes\n",
        "\n",
        "Generally speaking, instance attributes are for data unique to each instance (defined inside the `__init__()` function) and class attributes are for things shared by all instances of the class.\n"
      ]
    },
    {
      "cell_type": "code",
      "execution_count": null,
      "metadata": {
        "id": "MDDGxeA0xL_L"
      },
      "outputs": [],
      "source": [
        "Customer.__dict__"
      ]
    },
    {
      "cell_type": "code",
      "execution_count": null,
      "metadata": {
        "id": "hptIG3agxQAM"
      },
      "outputs": [],
      "source": [
        "customer_1.__dict__"
      ]
    },
    {
      "cell_type": "code",
      "execution_count": null,
      "metadata": {
        "id": "HBHiKf-Qxhzy"
      },
      "outputs": [],
      "source": [
        "customer_2.__dict__"
      ]
    },
    {
      "cell_type": "markdown",
      "metadata": {
        "id": "Bc3OiZob10JT"
      },
      "source": [
        "*Exercise:* Write a Python class `Employee` with attributes like `emp_id`, `emp_name`, `emp_salary`, and `emp_department` and methods like `calculate_emp_salary`, and `assign_emp_department`.\n",
        "\n",
        "- Use 'assign_emp_department' method to change the department of an employee.\n",
        "\n",
        "- Use 'calculate_emp_salary' method to add overtime amount to salary. The method takes one argument: hours_worked, which is the number of hours worked by the employee. If the number of hours worked is more than 50, the method computes overtime and adds it to the salary. Overtime is calculated as following formula:\n",
        "\n",
        "  - overtime = hours_worked - 50\n",
        "  - overtime amount = (overtime * (salary / 50))"
      ]
    },
    {
      "cell_type": "code",
      "execution_count": null,
      "metadata": {
        "id": "-sSZZj4o10JT"
      },
      "outputs": [],
      "source": [
        "# define your class here\n",
        "class Employee:\n",
        "  '''A class for company employees'''\n",
        "\n"
      ]
    },
    {
      "cell_type": "markdown",
      "metadata": {
        "id": "gsk09WhR10JT"
      },
      "source": [
        "Instantiate Employee using `\"E7876\", \"ADAMS\", 50000, \"ACCOUNTING\"` and name it as `employee1`. Use `employee1.__dict__` to check attribute values."
      ]
    },
    {
      "cell_type": "code",
      "execution_count": null,
      "metadata": {
        "id": "s0fY6TPo10JT"
      },
      "outputs": [],
      "source": [
        "# write your code here\n"
      ]
    },
    {
      "cell_type": "markdown",
      "metadata": {
        "id": "YSxOKbf510JT"
      },
      "source": [
        "Use `assign_emp_department` method to change the department of employee1 to `OPERATIONS`"
      ]
    },
    {
      "cell_type": "code",
      "execution_count": null,
      "metadata": {
        "id": "sZ5yDOvt10JU"
      },
      "outputs": [],
      "source": [
        "# write your code here\n"
      ]
    },
    {
      "cell_type": "markdown",
      "metadata": {
        "id": "t1VSUEc010JU"
      },
      "source": [
        "Use `calculate_emp_salary` method to add the overtime amount to salary of employee1 if he works for 60 hours"
      ]
    },
    {
      "cell_type": "code",
      "execution_count": null,
      "metadata": {
        "id": "GdC2_M3X10JU"
      },
      "outputs": [],
      "source": [
        "# write your code here\n"
      ]
    },
    {
      "cell_type": "markdown",
      "metadata": {
        "id": "lvU_w3Qr10JU"
      },
      "source": [
        "Use `employee1.__dict__` to check updated attribute values."
      ]
    },
    {
      "cell_type": "code",
      "execution_count": null,
      "metadata": {
        "id": "7C8ZbcOY10JU"
      },
      "outputs": [],
      "source": [
        "# write your code here\n"
      ]
    },
    {
      "cell_type": "markdown",
      "metadata": {
        "id": "AyW940O4PXkW"
      },
      "source": [
        "> Polling questions: https://www.menti.com/al194un19hjp"
      ]
    },
    {
      "cell_type": "markdown",
      "metadata": {
        "id": "YDLd63Dp4v1z"
      },
      "source": [
        "\n",
        "<br>\n",
        "\n",
        "\n",
        "## 2.4 `__X__()` Methods\n",
        "\n",
        "\n",
        "Running `dir(customer_1)` shows that some `__X__()` (pronouced as \"dunder X\") methods  are available to `customer_1` (inherited from somewhere)."
      ]
    },
    {
      "cell_type": "code",
      "execution_count": null,
      "metadata": {
        "id": "9M-RS1XE4v10"
      },
      "outputs": [],
      "source": [
        "dir(customer_1)"
      ]
    },
    {
      "cell_type": "markdown",
      "metadata": {
        "id": "VvCiZBrl4v11"
      },
      "source": [
        "\n",
        "In Python, [dunder methods](https://docs.python.org/3/reference/datamodel.html#special-method-names) are methods that allow instances of a class to interact with the built-in functions and operators of the language. The word “dunder” comes from “double underscore”, because the names of dunder methods start and end with two underscores.\n",
        "\n",
        "Dunder methods exist for nearly every operation available to built-in types. The mapping from each of these operations to a dunder method is ***fixed*** and ***unchangeable***. The table below lists a few of the most straightforward ones:\n",
        "\n",
        "\n",
        "\n",
        "\n",
        "\n"
      ]
    },
    {
      "cell_type": "markdown",
      "metadata": {
        "id": "2yYKbkOPMtSI"
      },
      "source": [
        "|Operation | Expression (or Statement) | And Python Calls\n",
        "|:-- |:-- |:-- |\n",
        "|Addition |`a + b`| `a.__add__(b)` |\n",
        "|Subtraction| `a - b`|`a.__sub__(b)`|\n",
        "|Multiplication |`a * b`|`a.__mul__(b)`|\n",
        "| Division |`a / b`|`a.__truediv__(b)`|\n",
        "| Equality |`a == b`|`a.__eq__(b)`|\n",
        "| Inequality |`a != b`|`a.__ne__(b)`|\n",
        "| Less than |`a < b`|`a.__lt__(b)`|\n",
        "| Greater than |`a > b`|`a.__gt__(b)`|\n",
        "| Less than or equal to|\t`a <= b`|`a.__le__(b)`|\n",
        "| Greater than or equal to|\t`a <= b`|`a.__ge__(b)`|\n",
        "| Length |\t`len(s)`|`s.__len__()`|\n",
        "| Membership tests  |\t`x in s` | `s.__contains__(x)`|\n",
        "| Attribute listing  |\t`dir(x)` | `x.__dir__()`|\n",
        "\n",
        "\n",
        "\n"
      ]
    },
    {
      "cell_type": "markdown",
      "metadata": {
        "id": "Z7eeYgH0nHwV"
      },
      "source": [
        "The `hasattr()` method returns true if an object has the given named attribute and false if it does not."
      ]
    },
    {
      "cell_type": "code",
      "execution_count": null,
      "metadata": {
        "id": "0HkkFXgMMFq8"
      },
      "outputs": [],
      "source": [
        "hasattr(\"string\", \"__len__\")"
      ]
    },
    {
      "cell_type": "code",
      "execution_count": null,
      "metadata": {
        "id": "Fg1Wx-XvPu_u"
      },
      "outputs": [],
      "source": [
        "hasattr(1, \"__len__\")"
      ]
    },
    {
      "cell_type": "code",
      "execution_count": null,
      "metadata": {
        "id": "MyHf0hqJPhfv"
      },
      "outputs": [],
      "source": [
        "hasattr(1, \"__add__\")"
      ]
    },
    {
      "cell_type": "code",
      "execution_count": null,
      "metadata": {
        "id": "cGBXiobXPprA"
      },
      "outputs": [],
      "source": [
        "hasattr(\"string\", \"__add__\")"
      ]
    },
    {
      "cell_type": "code",
      "execution_count": null,
      "metadata": {
        "id": "13RwPs-bVKFB"
      },
      "outputs": [],
      "source": [
        "hasattr(\"string\", \"__contains__\")"
      ]
    },
    {
      "cell_type": "code",
      "execution_count": null,
      "metadata": {
        "id": "K8pca4B9VMmY"
      },
      "outputs": [],
      "source": [
        "hasattr(1, \"__contains__\")"
      ]
    },
    {
      "cell_type": "markdown",
      "metadata": {
        "id": "KoyFG_KIUvSF"
      },
      "source": [
        "By defining dunder methods, we can retrofit operations invoked by Python's built-in syntax (such as arithmetic operations, comparisons, indexing, and slicing) to a user-defined class."
      ]
    },
    {
      "cell_type": "markdown",
      "metadata": {
        "id": "jshrquEtMEnB"
      },
      "source": [
        "---\n",
        "\n",
        "<br>\n",
        "\n",
        "### `__repr__()`\n",
        "\n",
        "\n",
        "Typing the name directly into the interpreter prints out its string representation:"
      ]
    },
    {
      "cell_type": "code",
      "execution_count": null,
      "metadata": {
        "id": "x8acvDcB4v12"
      },
      "outputs": [],
      "source": [
        "customer_1"
      ]
    },
    {
      "cell_type": "markdown",
      "metadata": {
        "id": "JEYpFUlg4v13"
      },
      "source": [
        "Behind the scene,  [`__repr__()`](https://docs.python.org/3/reference/datamodel.html#object.__repr__) is invoked to return a string representing the object.\n",
        "It's what we get when the Python intepreter shows an object:\n"
      ]
    },
    {
      "cell_type": "code",
      "execution_count": null,
      "metadata": {
        "id": "y_wLIowQ4v13"
      },
      "outputs": [],
      "source": [
        "customer_1.__repr__()"
      ]
    },
    {
      "cell_type": "markdown",
      "metadata": {
        "id": "xUiRkf9C4v14"
      },
      "source": [
        "We can override the default `__repr__()` to produce a more readable string representation:"
      ]
    },
    {
      "cell_type": "code",
      "execution_count": null,
      "metadata": {
        "id": "L-lXi12q4v15"
      },
      "outputs": [],
      "source": [
        "class Customer:\n",
        "    '''A class for bank customers.'''\n",
        "\n",
        "    def __init__(self, name, income, years, criminal='No'):\n",
        "        '''populate the attributes of a particular customer'''\n",
        "        self.name = name\n",
        "        self.income = income\n",
        "        self.years = years\n",
        "        self.criminal = criminal\n",
        "\n",
        "    def __repr__(self):\n",
        "        '''define a string representation of a given instance'''\n",
        "        return f\"Customer: {self.__dict__}\"\n"
      ]
    },
    {
      "cell_type": "code",
      "execution_count": null,
      "metadata": {
        "id": "bUPjfenhRr1d"
      },
      "outputs": [],
      "source": [
        "customer_1 = Customer(\"Amy\", 27, 4.2)\n",
        "customer_1"
      ]
    },
    {
      "cell_type": "code",
      "execution_count": null,
      "metadata": {
        "id": "yo131WWhBfW1"
      },
      "outputs": [],
      "source": [
        "customer_2 = Customer(\"Sam\", 32, 1.5, \"Yes\")\n",
        "customer_2"
      ]
    },
    {
      "cell_type": "markdown",
      "metadata": {
        "id": "ZoyRMf7SAaVc"
      },
      "source": [
        "\n",
        "---\n",
        "\n",
        "<br>\n",
        "\n",
        "### `__str__()`\n",
        "\n",
        "The `__str__` method is called when you use the str() function on an object or when you use the print() function to print an object."
      ]
    },
    {
      "cell_type": "code",
      "execution_count": null,
      "metadata": {
        "id": "7rJRsH4-VkZz"
      },
      "outputs": [],
      "source": [
        "\"multi-line\\nstring\""
      ]
    },
    {
      "cell_type": "code",
      "execution_count": null,
      "metadata": {
        "id": "Zrbt4PTEVlsD"
      },
      "outputs": [],
      "source": [
        "print(\"multi-line\\nstring\")"
      ]
    },
    {
      "cell_type": "code",
      "execution_count": null,
      "metadata": {
        "id": "X3kIZZICAjx0"
      },
      "outputs": [],
      "source": [
        "print(customer_1)"
      ]
    },
    {
      "cell_type": "code",
      "execution_count": null,
      "metadata": {
        "id": "ma3oIUDcA36F"
      },
      "outputs": [],
      "source": [
        "class Customer:\n",
        "    '''A class for bank customers.'''\n",
        "\n",
        "    def __init__(self, name, income, years, criminal='No'):\n",
        "        '''populate the attributes of a particular instance'''\n",
        "        self.name = name\n",
        "        self.income = income\n",
        "        self.years = years\n",
        "        self.criminal = criminal\n",
        "\n",
        "    def __repr__(self):\n",
        "        '''defines a string representation of a given instance'''\n",
        "        return f\"Customer: {self.__dict__}\"\n",
        "\n",
        "    def __str__(self):\n",
        "        '''defines a printable representation of a given instance'''\n",
        "        prefix = \"Customer:\\n\"\n",
        "        return prefix + '\\n'.join([f'{k.title()} -> {v}' for k, v in self.__dict__.items()])   # The title() method returns a string where the first character in every word is upper case.\n",
        "        # The return value must be a string object\n"
      ]
    },
    {
      "cell_type": "code",
      "execution_count": null,
      "metadata": {
        "id": "2p4ZBR--BYyo"
      },
      "outputs": [],
      "source": [
        "customer_1 = Customer(\"Amy\", 27, 4.2)\n",
        "print(customer_1)"
      ]
    },
    {
      "cell_type": "markdown",
      "metadata": {
        "id": "RoOgED6QKik-"
      },
      "source": [
        "\n",
        "---\n",
        "\n",
        " <br>\n",
        "\n",
        "###  `__iter__()`\n",
        "\n",
        "\n",
        "`__iter__()` methods for most commonly used operations are not provided by default. The corresponding operations are then not supported for the class's instances.\n",
        "\n"
      ]
    },
    {
      "cell_type": "code",
      "execution_count": null,
      "metadata": {
        "id": "siOeXdyfKluc"
      },
      "outputs": [],
      "source": [
        "for k, v in customer_1:\n",
        "    print(f\"{k} -> {v}\")"
      ]
    },
    {
      "cell_type": "markdown",
      "metadata": {
        "id": "S3QqF8haLfza"
      },
      "source": [
        "`__iter__()` makes a class's instances iterable. We implement it by using a generator expression to yield the components one after the other:"
      ]
    },
    {
      "cell_type": "code",
      "execution_count": null,
      "metadata": {
        "id": "HmZSFlGOKw2d"
      },
      "outputs": [],
      "source": [
        "class Customer:\n",
        "    '''A class for bank customers.'''\n",
        "\n",
        "    def __init__(self, name, income, years, criminal='No'):\n",
        "        '''populate the attributes of a particular instance'''\n",
        "        self.name = name\n",
        "        self.income = income\n",
        "        self.years = years\n",
        "        self.criminal = criminal\n",
        "\n",
        "    def __repr__(self):\n",
        "        '''define a string representation of a given instance'''\n",
        "        return f\"Customer: {self.__dict__}\"\n",
        "\n",
        "    def __str__(self):\n",
        "        '''define a printable string representation of a given instance'''\n",
        "        prefix = \"Customer:\\n\"\n",
        "        return prefix + '\\n'.join([f'{k.title()} -> {v}' for k, v in self.__dict__.items()])    # The return value must be a string object\n",
        "\n",
        "    def __iter__(self):\n",
        "        '''make an instance iterable'''\n",
        "        return ((k, v) for k, v in self.__dict__.items())\n"
      ]
    },
    {
      "cell_type": "code",
      "execution_count": null,
      "metadata": {
        "id": "tHJqRc8-LFo6"
      },
      "outputs": [],
      "source": [
        "customer_1 = Customer(\"Amy\", 27, 4.2)\n",
        "for k, v in customer_1:\n",
        "    print(f\"{k} -> {v}\")"
      ]
    },
    {
      "cell_type": "markdown",
      "metadata": {
        "id": "tA67DyPk4v2A"
      },
      "source": [
        "\n",
        "<br>\n",
        "\n",
        "\n",
        "## 2.5 Defining a Derived Class (Optional)\n",
        "\n",
        "\n",
        "\n",
        "Python allows us to form a **derived class** (**subclass**) from one or more than one **base class** (**superclass**) to specialize behaviors while reusing existing code.\n",
        "\n",
        "To create a subclass, we just list the base class in parentheses in the `class` statement's header (seperated by `,` if there is more than one base class) :"
      ]
    },
    {
      "cell_type": "code",
      "execution_count": null,
      "metadata": {
        "id": "rsNNNIPz4v2B"
      },
      "outputs": [],
      "source": [
        "class Person:\n",
        "\n",
        "    def __init__(self, name, date_of_birth, gender):\n",
        "        self.name = name\n",
        "        self.date_of_birth = date_of_birth\n",
        "        self.gender = gender\n",
        "\n",
        "    def __repr__(self):\n",
        "        '''define a string representation of a given instance'''\n",
        "        return f\"{self.__dict__}\"\n",
        "\n",
        "\n",
        "class Customer(Person):\n",
        "\n",
        "    def __init__(self, name, date_of_birth, gender, income, years, criminal=\"No\"):\n",
        "        # a method call notation; self should not be present\n",
        "        super().__init__(name, date_of_birth, gender)\n",
        "        self.income = income\n",
        "        self.years = years\n",
        "        self.criminal = criminal\n",
        "\n",
        "    def apply_loan(self):\n",
        "        if self.income >= 70:\n",
        "            result = 'Approve'\n",
        "        elif self.income >= 30:\n",
        "            if self.years >= 2:\n",
        "                result = 'Approve'\n",
        "            else:result = 'Reject'\n",
        "        else:\n",
        "            if self.criminal == \"No\":\n",
        "                result = 'Approve'\n",
        "            else: result = 'Reject'\n",
        "        return result"
      ]
    },
    {
      "cell_type": "code",
      "execution_count": null,
      "metadata": {
        "id": "Sn6iEqV5wKLC"
      },
      "outputs": [],
      "source": [
        "Person.__dict__"
      ]
    },
    {
      "cell_type": "code",
      "execution_count": null,
      "metadata": {
        "id": "jH3gWdT2wXhc"
      },
      "outputs": [],
      "source": [
        "Customer.__dict__"
      ]
    },
    {
      "cell_type": "code",
      "execution_count": null,
      "metadata": {
        "id": "DvrwZnAfpwwQ"
      },
      "outputs": [],
      "source": [
        "a_person = Person(\"Amy\", \"Oct. 10, 1999\", \"F\")\n",
        "a_person"
      ]
    },
    {
      "cell_type": "code",
      "execution_count": null,
      "metadata": {
        "id": "pl3DS11TTh_0"
      },
      "outputs": [],
      "source": [
        "a_person.__dict__"
      ]
    },
    {
      "cell_type": "code",
      "execution_count": null,
      "metadata": {
        "id": "jZUiY6t1m2ct"
      },
      "outputs": [],
      "source": [
        "customer_3 = Customer(\"Amy\", \"Oct. 10, 1999\", \"F\", 27, 4.2)\n",
        "customer_3"
      ]
    },
    {
      "cell_type": "code",
      "execution_count": null,
      "metadata": {
        "id": "tYctLU5YnPtw"
      },
      "outputs": [],
      "source": [
        "customer_3.__dict__"
      ]
    },
    {
      "cell_type": "markdown",
      "metadata": {
        "id": "TM-P1e104v2F"
      },
      "source": [
        "Each instance inherits names from the class it's generated from, as well as all of that class's superclasses:"
      ]
    },
    {
      "cell_type": "code",
      "execution_count": null,
      "metadata": {
        "id": "kLdKCIxp4v2F"
      },
      "outputs": [],
      "source": [
        "print(dir(Customer))"
      ]
    },
    {
      "cell_type": "markdown",
      "metadata": {
        "id": "xqfqpGy24v2H"
      },
      "source": [
        "To resolve attribute references, Python goes through the following steps:\n",
        "\n",
        "1. The search first checks the instance's namespace and then its class's namespace.\n",
        "2. If a requested attribute is not found in the class's namespace, the search proceeds to look in the most recent superclass.\n",
        "3. This rule is applied ***recursively*** upward through a **hirerarchy of classes** until all superclasses are searched.\n",
        "\n",
        "Searches stop at the first appearance of the attribute name that it finds."
      ]
    },
    {
      "cell_type": "markdown",
      "metadata": {
        "id": "7mrijKs8Z4sw"
      },
      "source": [
        "\n",
        "<br/>\n",
        "\n",
        "# 3 Modules\n",
        "\n",
        "Most of the functionality in Python is provided by **modules**, which are typically Python program files that contain definitions and statements we want to import to use.\n",
        "\n",
        "\n",
        "Let's look at a .py file that contains the following code:"
      ]
    },
    {
      "cell_type": "code",
      "execution_count": null,
      "metadata": {
        "id": "oH0QJYCH9N1G"
      },
      "outputs": [],
      "source": [
        "%%writefile mod.py\n",
        "\n",
        "name = \"Business Analytics\"\n",
        "\n",
        "array = [1, 2, 3]\n",
        "\n",
        "def foo(arg):\n",
        "    print(f'arg = {arg}')"
      ]
    },
    {
      "cell_type": "markdown",
      "metadata": {
        "id": "2Gx7V0he9Wx-"
      },
      "source": [
        "- <a href=\"https://ipython.readthedocs.io/en/stable/interactive/magics.html#cellmagic-writefile\"><code>%%writefile</code> </a> is a magic command of Jupyter Notebook that writes the contents of the cell to a specified file.\n",
        "- The .py file can be imported as a module using [the `import` statement](https://docs.python.org/3/reference/simple_stmts.html#import):"
      ]
    },
    {
      "cell_type": "code",
      "execution_count": null,
      "metadata": {
        "id": "9uYDLlgqkgRG"
      },
      "outputs": [],
      "source": [
        "import mod"
      ]
    },
    {
      "cell_type": "code",
      "execution_count": null,
      "metadata": {
        "id": "10uylO6gjIKT"
      },
      "outputs": [],
      "source": [
        "dir()"
      ]
    },
    {
      "cell_type": "code",
      "execution_count": null,
      "metadata": {
        "id": "71iQwgnNjIKT"
      },
      "outputs": [],
      "source": [
        "mod"
      ]
    },
    {
      "cell_type": "code",
      "execution_count": null,
      "metadata": {
        "id": "ZDtthmdj0krP"
      },
      "outputs": [],
      "source": [
        "type(mod)"
      ]
    },
    {
      "cell_type": "markdown",
      "metadata": {
        "id": "4z5sXyVgMSSH"
      },
      "source": [
        "\n",
        "The first time a module is imported, Python creates a module object, which is a wrapper of a namespace, and executes all ***top-level*** assignments (including function and class definitions) to create module attributes that populate the new namespace:\n",
        "\n",
        "<br>\n",
        "\n",
        "<img src=\"https://raw.githubusercontent.com/justinjiajia/img/master/python/module.png\" width=500 />"
      ]
    },
    {
      "cell_type": "code",
      "execution_count": null,
      "metadata": {
        "id": "-RqJmwcJMSSH",
        "scrolled": true
      },
      "outputs": [],
      "source": [
        "dir(mod)"
      ]
    },
    {
      "cell_type": "markdown",
      "metadata": {
        "id": "HohMk_GT7IQ0"
      },
      "source": [
        "These names are now available for use, and the dot notation is used to refer to them:"
      ]
    },
    {
      "cell_type": "code",
      "execution_count": null,
      "metadata": {
        "id": "3ydFDxA6MSSJ"
      },
      "outputs": [],
      "source": [
        "mod.array"
      ]
    },
    {
      "cell_type": "code",
      "execution_count": null,
      "metadata": {
        "id": "I2G8fCyrz3ap"
      },
      "outputs": [],
      "source": [
        "mod.__name__"
      ]
    },
    {
      "cell_type": "code",
      "execution_count": null,
      "metadata": {
        "id": "tWmm3TA_jIKV"
      },
      "outputs": [],
      "source": [
        "mod.__file__"
      ]
    },
    {
      "cell_type": "markdown",
      "metadata": {
        "id": "vwvr50KNMSSK"
      },
      "source": [
        "\n",
        "\n",
        "> Normally, module namespaces last until the session terminates.</div>"
      ]
    },
    {
      "cell_type": "markdown",
      "metadata": {
        "id": "IYNU-r1sMSSK"
      },
      "source": [
        "\n",
        "\n",
        "<br/>\n",
        "\n",
        "\n",
        "### The `import` Statement\n",
        "\n",
        "Useful modules that form the [standard library](https://docs.python.org/3/library/) include `os`, `sys`, `math`, `random`, `shutil`, and so on."
      ]
    },
    {
      "cell_type": "code",
      "execution_count": null,
      "metadata": {
        "id": "Cqc561sLxEPz"
      },
      "outputs": [],
      "source": [
        "import random"
      ]
    },
    {
      "cell_type": "code",
      "execution_count": null,
      "metadata": {
        "id": "gLR427M20wL5"
      },
      "outputs": [],
      "source": [
        "random"
      ]
    },
    {
      "cell_type": "code",
      "execution_count": null,
      "metadata": {
        "id": "QzMtHOldMSSL"
      },
      "outputs": [],
      "source": [
        "dir(random)  # random.py"
      ]
    },
    {
      "cell_type": "code",
      "execution_count": null,
      "metadata": {
        "id": "ZXUsJ1dE7HWQ"
      },
      "outputs": [],
      "source": [
        "for i in range(10):\n",
        "    print(random.randint(0, 10)) # Return a random number between 0 and 10 (both included)"
      ]
    },
    {
      "cell_type": "markdown",
      "metadata": {
        "id": "-TjIpMyO7QTV"
      },
      "source": [
        "Using `help()` gets the documentation for this function:"
      ]
    },
    {
      "cell_type": "code",
      "execution_count": null,
      "metadata": {
        "id": "gnnxEoo37Wsw"
      },
      "outputs": [],
      "source": [
        "help(random.randint)"
      ]
    },
    {
      "cell_type": "markdown",
      "metadata": {
        "id": "h8XKNCqw7c_A"
      },
      "source": [
        "The module's `__file__` attribute gives the location where the module was found in the file system:"
      ]
    },
    {
      "cell_type": "code",
      "execution_count": null,
      "metadata": {
        "id": "7sAr-IhR7geW"
      },
      "outputs": [],
      "source": [
        "random.__file__"
      ]
    },
    {
      "cell_type": "markdown",
      "metadata": {
        "id": "wC35N2nM7vJ9"
      },
      "source": [
        "Alternatively, we can import all names in a module to the current namespace using the `from` form of the `import` statement:"
      ]
    },
    {
      "cell_type": "code",
      "execution_count": null,
      "metadata": {
        "id": "dKwMljvF7ywQ"
      },
      "outputs": [],
      "source": [
        "from random import *"
      ]
    },
    {
      "cell_type": "markdown",
      "metadata": {
        "id": "3lHQXYs-8BEa"
      },
      "source": [
        "\n",
        "Then we don't need to use the prefix every time we use something from it:\n"
      ]
    },
    {
      "cell_type": "code",
      "execution_count": null,
      "metadata": {
        "id": "pi7GSbj18eDv"
      },
      "outputs": [],
      "source": [
        "randint(0, 10)"
      ]
    },
    {
      "cell_type": "code",
      "execution_count": null,
      "metadata": {
        "id": "moPuxp5HjIKX"
      },
      "outputs": [],
      "source": [
        "dir()"
      ]
    },
    {
      "cell_type": "markdown",
      "metadata": {
        "id": "gPc8Ul-c8ouA"
      },
      "source": [
        "However, this should be used with caution, as it would potentially create <b>*name collisions*</b>:"
      ]
    },
    {
      "cell_type": "code",
      "execution_count": null,
      "metadata": {
        "id": "fzSy6Jpe8riI"
      },
      "outputs": [],
      "source": [
        "randint = 2\n",
        "randint(0, 10)"
      ]
    },
    {
      "cell_type": "markdown",
      "metadata": {
        "id": "fWFSqe9V8xFX"
      },
      "source": [
        "As a third alternative, we can import only a few selected names from a module by explicitly listing them:"
      ]
    },
    {
      "cell_type": "code",
      "execution_count": null,
      "metadata": {
        "id": "i82ePuMB8zdK"
      },
      "outputs": [],
      "source": [
        "from random import randint, sample"
      ]
    },
    {
      "cell_type": "code",
      "execution_count": null,
      "metadata": {
        "id": "lTwfBNKN815J"
      },
      "outputs": [],
      "source": [
        "randint(0, 10)"
      ]
    },
    {
      "cell_type": "code",
      "execution_count": null,
      "metadata": {
        "id": "YUS2ARV684MW"
      },
      "outputs": [],
      "source": [
        "sample(range(100), 20)       #  help(sample)"
      ]
    },
    {
      "cell_type": "code",
      "execution_count": null,
      "metadata": {
        "id": "AB1RbzbgtFR-"
      },
      "outputs": [],
      "source": [
        "help(sample)"
      ]
    },
    {
      "cell_type": "markdown",
      "metadata": {
        "id": "OvY9e-3O10Jg"
      },
      "source": [
        "If we want to use the module with a different name, we can use `from...import...as` statement."
      ]
    },
    {
      "cell_type": "code",
      "execution_count": null,
      "metadata": {
        "id": "YQHlBuQz10Jh"
      },
      "outputs": [],
      "source": [
        "import random as rand\n",
        "\n",
        "rand.randrange(10, 20, 2)   #returns a randomly selected element from the specified range."
      ]
    },
    {
      "cell_type": "markdown",
      "metadata": {
        "id": "TsDOGxpTVtLY"
      },
      "source": [
        "We can use the command below to check the installed packages:"
      ]
    },
    {
      "cell_type": "code",
      "execution_count": null,
      "metadata": {
        "id": "aeDT9Nh_B2ua"
      },
      "outputs": [],
      "source": [
        "! pip list   # packages are listed in a case-insensitive sorted order"
      ]
    },
    {
      "cell_type": "markdown",
      "metadata": {
        "id": "E_0bU-Uf_XRa"
      },
      "source": [
        "---\n",
        "\n",
        "\n",
        "### How to pick up an unfamiliar Python library?"
      ]
    },
    {
      "cell_type": "markdown",
      "metadata": {
        "id": "5QqaOjTCDCTe"
      },
      "source": [
        "The `googletrans-py` library is a Python package used for language translation and detection by interacting with Google's Translate API."
      ]
    },
    {
      "cell_type": "code",
      "execution_count": null,
      "metadata": {
        "id": "b2exQeVZ_e31"
      },
      "outputs": [],
      "source": [
        "! pip install googletrans-py -q"
      ]
    },
    {
      "cell_type": "code",
      "execution_count": null,
      "metadata": {
        "id": "Hn-MnL_I_h_7"
      },
      "outputs": [],
      "source": [
        "import googletrans\n",
        "\n",
        "print(googletrans.__version__)\n",
        "dir(googletrans)"
      ]
    },
    {
      "cell_type": "code",
      "execution_count": null,
      "metadata": {
        "id": "wMr0bMvL_kF3"
      },
      "outputs": [],
      "source": [
        "from googletrans import Translator\n",
        "\n",
        "help(Translator)"
      ]
    },
    {
      "cell_type": "markdown",
      "metadata": {
        "id": "FLtREYVO_oxt"
      },
      "source": [
        "Let's instantiate a `Translator` object, which allow us to access Google's translation functionalities."
      ]
    },
    {
      "cell_type": "code",
      "execution_count": null,
      "metadata": {
        "id": "x-xOw3P9_pjm"
      },
      "outputs": [],
      "source": [
        "translator =  Translator()"
      ]
    },
    {
      "cell_type": "code",
      "execution_count": null,
      "metadata": {
        "id": "-Cr5qIi6_reS"
      },
      "outputs": [],
      "source": [
        "text = \"\"\"Artificial intelligence (AI) has been used in applications throughout industry and academia.\n",
        "Similar to electricity or computers, AI serves as a general-purpose technology that has numerous applications.\n",
        "Its applications span language translation, image recognition, decision-making, credit scoring,\n",
        "e-commerce and various other domains.\n",
        "\"\"\"\n",
        "\n",
        "out = translator.translate(text, dest='ja')\n",
        "\n",
        "out.text"
      ]
    },
    {
      "cell_type": "code",
      "execution_count": null,
      "metadata": {
        "id": "qKM8aJ4W_wKg"
      },
      "outputs": [],
      "source": [
        "type(googletrans.LANGCODES)"
      ]
    },
    {
      "cell_type": "code",
      "execution_count": null,
      "metadata": {
        "id": "M0MNycUV_xUs"
      },
      "outputs": [],
      "source": [
        "# get the codes of supported language\n",
        "print(googletrans.LANGCODES)"
      ]
    },
    {
      "cell_type": "markdown",
      "metadata": {
        "id": "99mM9eJj4v2J"
      },
      "source": [
        "<br>\n",
        "\n",
        "---\n",
        "\n",
        "<br>\n",
        "\n",
        "# Appendix: Python Statements (Updated)\n",
        "\n",
        "\n",
        "\n",
        "\n",
        "|Statement|Role|Example\n",
        "|:-- |:-- |:-- |\n",
        "|Assignment: `=`|Creating and assigning references|`a, b = 'good', 'bad'` <br> `ls = [1, 5]; ls[1] = 2; ls[2:2] = [3, 4]`   |\n",
        "|Augmented assignment: <br>`+=`, `-=`, `*=`, `/=`,  `%=`, etc.| Combining a binary operation and <br> an assignment statement|`a *= 2` <br> `a += b` |\n",
        "|`del`|Deleting references|`del variable` <br> `del object.attribute` <br> `del data[index]` <br> `del data[index:index]`|\n",
        "|`if/elif/else`| Selecting actions|`if \"python\":` <br> &nbsp; &nbsp; `print(\"programming\")` |\n",
        "|`for`| Definite loops |`for x in \"python\":` <br> &nbsp; &nbsp;  &nbsp;`print(x)` |\n",
        "|`while`| Indefinite/general loops |`while x > 0:` <br> &nbsp; &nbsp; &nbsp; &nbsp;    `print(\"positive\")` |\n",
        "|`break`| Loop exit |`while True:` <br> &nbsp; &nbsp; &nbsp; &nbsp;    `if exittest(): break` |\n",
        "|`continue`| Loop continue |`while True:` <br> &nbsp; &nbsp; &nbsp; &nbsp;    `if skiptest(): continue` |\n",
        "|`try/except/finally`| Catching exceptions |`try:` <br> &nbsp; &nbsp; &nbsp; &nbsp;    `action()` <br> `except:` <br> &nbsp; &nbsp; &nbsp; &nbsp; `print('action error')` |\n",
        "|`def`| Creating functions |`def f(a, b, c=1, *d):`<br> &nbsp; &nbsp; &nbsp; &nbsp;  ` print(a+b+c+d[0])` |\n",
        "|`return`| Specifying return values |`def f(a, b, c=1, *d):`<br> &nbsp; &nbsp; &nbsp; &nbsp;  ` return a+b+c+d[0]` |\n",
        "|`class`| Creating classes |`class Subclass(Superclass):`<br> <br> &nbsp;&nbsp;&nbsp;&nbsp;&nbsp; &nbsp; &nbsp; &nbsp; `data_attr = []`<br><br> &nbsp;&nbsp;&nbsp;&nbsp;&nbsp; &nbsp; &nbsp; &nbsp; `def fun_attr(self):` <br> &nbsp;&nbsp;&nbsp;&nbsp; &nbsp;&nbsp; &nbsp; &nbsp; &nbsp; &nbsp; &nbsp; &nbsp; &nbsp;`pass` |\n",
        "|`import/from`| Module access or attribute access from a module | `import random` <br>  `from random import randint` |\n",
        "\n",
        "\n",
        "\n",
        "\n"
      ]
    },
    {
      "cell_type": "code",
      "execution_count": null,
      "metadata": {
        "id": "uXb4NiaTjIKY"
      },
      "outputs": [],
      "source": []
    }
  ],
  "metadata": {
    "colab": {
      "provenance": []
    },
    "hide_input": false,
    "kernelspec": {
      "display_name": "base",
      "language": "python",
      "name": "python3"
    },
    "language_info": {
      "codemirror_mode": {
        "name": "ipython",
        "version": 3
      },
      "file_extension": ".py",
      "mimetype": "text/x-python",
      "name": "python",
      "nbconvert_exporter": "python",
      "pygments_lexer": "ipython3",
      "version": "3.12.7"
    },
    "toc": {
      "base_numbering": 1,
      "nav_menu": {},
      "number_sections": false,
      "sideBar": true,
      "skip_h1_title": false,
      "title_cell": "Table of Contents",
      "title_sidebar": "Contents",
      "toc_cell": false,
      "toc_position": {},
      "toc_section_display": true,
      "toc_window_display": false
    }
  },
  "nbformat": 4,
  "nbformat_minor": 0
}

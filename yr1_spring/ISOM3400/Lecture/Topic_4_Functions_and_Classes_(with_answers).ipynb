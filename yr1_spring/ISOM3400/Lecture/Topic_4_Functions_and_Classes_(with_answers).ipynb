{
  "cells": [
    {
      "cell_type": "markdown",
      "metadata": {
        "id": "LZRm-tkN4vyA"
      },
      "source": [
        "\n",
        "# 1 Functions\n",
        "\n",
        "For a bank to consider whether or not to offer someone a loan:\n",
        "\n",
        "\n",
        "\n",
        "\n",
        "\n",
        "| Name |  Income | Years | Criminal | Decision |\n",
        "|-----|-----|-----|-----|-----|\n",
        "| Amy | 27 |4.2 |  No | ? |\n",
        "| Sam | 32 |1.5 |  No | ? |\n",
        "| Jane | 55 | 3.5  | Yes | ? |\n",
        "|...|\n",
        "\n"
      ]
    },
    {
      "cell_type": "code",
      "execution_count": null,
      "metadata": {
        "id": "TzytERd8AiKQ"
      },
      "outputs": [],
      "source": [
        "customer_1 = {'name': 'Amy', 'income': 27, 'years': 4.2, 'criminal': 'No'}"
      ]
    },
    {
      "cell_type": "markdown",
      "metadata": {
        "cell_style": "split",
        "id": "jgxMndyHAiKb"
      },
      "source": [
        "<img src=\"https://raw.githubusercontent.com/justinjiajia/img/master/python/3dt.png\" width=500  />\n"
      ]
    },
    {
      "cell_type": "code",
      "execution_count": null,
      "metadata": {
        "cell_style": "split",
        "colab": {
          "base_uri": "https://localhost:8080/"
        },
        "id": "eWNutezz4vyD",
        "outputId": "dd4a2238-71c0-41aa-eb86-8ff83a7246c0",
        "scrolled": false
      },
      "outputs": [
        {
          "name": "stdout",
          "output_type": "stream",
          "text": [
            "Approve\n"
          ]
        }
      ],
      "source": [
        "if customer_1['income'] >= 70:\n",
        "    print('Approve')\n",
        "\n",
        "elif customer_1['income'] >= 30:\n",
        "    if customer_1['years'] >= 2:\n",
        "        print(\"Approve\")\n",
        "    else:\n",
        "        print(\"Reject\")\n",
        "\n",
        "else:\n",
        "    if customer_1['criminal'] == \"No\":\n",
        "        print('Approve')\n",
        "    else:\n",
        "        print('Reject')"
      ]
    },
    {
      "cell_type": "markdown",
      "metadata": {
        "id": "nDQYB9924vyF"
      },
      "source": [
        "What if we want to make a decsion for a different customer, say `customer_2`:"
      ]
    },
    {
      "cell_type": "code",
      "execution_count": null,
      "metadata": {
        "id": "OcDbDCLE4vyG"
      },
      "outputs": [],
      "source": [
        "customer_2 = {'name': 'Sam', 'income': 32, 'years': 1.5, 'criminal': 'Yes'}"
      ]
    },
    {
      "cell_type": "markdown",
      "metadata": {
        "cell_style": "split",
        "id": "Ss-Syjt74vyH"
      },
      "source": [
        "- Copy and paste this block of code;\n",
        "\n",
        "- Change every `customer_1` to `customer_2` and execute the code again."
      ]
    },
    {
      "cell_type": "code",
      "execution_count": null,
      "metadata": {
        "cell_style": "split",
        "colab": {
          "base_uri": "https://localhost:8080/"
        },
        "id": "6phOIAQv4vyI",
        "outputId": "2c1df0c9-af13-4a4f-9869-c79cc11883f4"
      },
      "outputs": [
        {
          "name": "stdout",
          "output_type": "stream",
          "text": [
            "Reject\n"
          ]
        }
      ],
      "source": [
        "if customer_2['income'] >= 70:\n",
        "    print('Approve')\n",
        "\n",
        "elif customer_2['income'] >= 30:\n",
        "    if customer_2['years'] >= 2:\n",
        "        print(\"Approve\")\n",
        "    else:\n",
        "        print(\"Reject\")\n",
        "\n",
        "else:\n",
        "    if customer_2['criminal'] == \"No\":\n",
        "        print('Approve')\n",
        "    else:\n",
        "        print('Reject')"
      ]
    },
    {
      "cell_type": "markdown",
      "metadata": {
        "id": "gwix827d4vyK"
      },
      "source": [
        "There is a chance of making incidental mistakes.\n",
        "\n",
        "We should consider writing a function whenever a block of code is copied and pasted more than once.\n",
        "\n",
        "---\n",
        "\n",
        "<br/>\n",
        "\n",
        "Python provides a number of important **built-in functions** as we've seen, e.g., `type()`, `str()`, `sum()`, `len()`, etc.\n",
        "\n",
        "A function is a named sequence of statements that:\n",
        "\n",
        "- takes input\n",
        "- does something with that input\n",
        "- and, in many cases, also returns the result\n",
        "\n",
        "\n",
        "User-defined functions are needed when we want to automate certain tasks that we have to repeat over and over, often ***with varying inputs***.\n",
        "\n",
        "\n",
        "\n",
        "\n",
        "\n",
        "\n",
        "\n",
        "\n",
        "\n",
        "\n",
        "\n",
        "   "
      ]
    },
    {
      "cell_type": "markdown",
      "metadata": {
        "id": "WVpgUtvIp2_P"
      },
      "source": [
        "\n",
        "\n",
        "## 1.1 Defining a Function\n",
        "\n",
        "\n",
        "[The `def` statement](https://docs.python.org/3.7/reference/compound_stmts.html#function-definitions) creates a function object and assigns it to a name."
      ]
    },
    {
      "cell_type": "code",
      "execution_count": null,
      "metadata": {
        "cell_style": "split",
        "id": "BbgTmQvBAiLl"
      },
      "outputs": [],
      "source": [
        "def add_1(a, b):\n",
        "    '''implement an addition operation'''  # this is the functions' docstring. We will explain it later.\n",
        "\n",
        "    c = a + b\n",
        "    return c"
      ]
    },
    {
      "cell_type": "markdown",
      "metadata": {
        "cell_style": "split",
        "id": "WoXX_UKyAiLu"
      },
      "source": [
        "<img src=\"https://raw.githubusercontent.com/justinjiajia/img/master/python/function.png\" width=280 />"
      ]
    },
    {
      "cell_type": "code",
      "execution_count": null,
      "metadata": {
        "colab": {
          "base_uri": "https://localhost:8080/"
        },
        "id": "QdEqI-axpwvL",
        "outputId": "b4515f20-1bd8-4368-d8d3-2959a97e99bb"
      },
      "outputs": [
        {
          "name": "stdout",
          "output_type": "stream",
          "text": [
            "['In', 'Out', '_', '__', '___', '__builtin__', '__builtins__', '__doc__', '__loader__', '__name__', '__package__', '__spec__', '_dh', '_i', '_i1', '_i2', '_i3', '_i4', '_i5', '_i6', '_i7', '_ih', '_ii', '_iii', '_oh', 'add_1', 'customer_1', 'customer_2', 'exit', 'get_ipython', 'quit']\n"
          ]
        }
      ],
      "source": [
        "print(dir())"
      ]
    },
    {
      "cell_type": "markdown",
      "metadata": {
        "id": "ylXgeo64p2_Q"
      },
      "source": [
        "The `def` statement consists of a header line (starting with the `def` keyword) followed by a block of statements:"
      ]
    },
    {
      "cell_type": "markdown",
      "metadata": {
        "id": "h5blFhWiAiL3"
      },
      "source": [
        "<pre class=\"lang-python\">\n",
        "<span style=\"color:#2767C5\";>def</span> <span style=\"color:#BB2F29\";>&lt;function name&gt;</span>(<span style=\"color:#BB2F29\";>&lt;parameter 1&gt;</span>, <span style=\"color:#BB2F29\";>&lt;parameter 2&gt;</span>, ...):\n",
        "    <span style=\"color:#469C63\";>'''documentation string that can span multiple lines'''</span>\n",
        "    \n",
        "<div style=\" border-left: 6px solid red; background-color: #e8e9ea;\">   statement 1               \n",
        "   statement 2                  \n",
        "   ...\n",
        "   statement N\n",
        "   <span style=\"color:#2767C5\";>return</span> <span style=\"color:#BB2F29\";>&lt;object&gt;</span></div></pre>"
      ]
    },
    {
      "cell_type": "markdown",
      "metadata": {
        "id": "lC8nkMnkAiL7"
      },
      "source": [
        "<p>\n",
        "\n",
        "\n",
        "- The `def` header line specifies a function name that is assigned the function object, along with a list of zero or more parameters (separated by comma) in parentheses `()` .\n",
        "   \n",
        "   - Like a variable name, a function name is used to refer to the function later.\n",
        "   \n",
        "   -  The function parameters are a special kind of variables that refer to objects provided as input to the function ***at the point of call***.\n",
        "   \n",
        "  "
      ]
    },
    {
      "cell_type": "code",
      "execution_count": null,
      "metadata": {
        "colab": {
          "base_uri": "https://localhost:8080/"
        },
        "id": "joqQEo50AiL-",
        "outputId": "963083bb-6745-4331-bab2-1473057ccec1"
      },
      "outputs": [
        {
          "data": {
            "text/plain": [
              "3"
            ]
          },
          "execution_count": 9,
          "metadata": {},
          "output_type": "execute_result"
        }
      ],
      "source": [
        "add_1(2, 1) # input objects are matched to parameters according to their position"
      ]
    },
    {
      "cell_type": "markdown",
      "metadata": {
        "id": "zM2YzI9mQZVd"
      },
      "source": [
        "   - The function's parameters collectively define its **signature**. The function's signature is the combination of the function's name (e.g., add) and the list of parameters the function expects. The signature tells you exactly how to call the function correctly."
      ]
    },
    {
      "cell_type": "code",
      "execution_count": null,
      "metadata": {
        "cell_style": "center",
        "colab": {
          "base_uri": "https://localhost:8080/"
        },
        "id": "du9_S9cKAiMP",
        "outputId": "eecdc3c5-4ce2-4359-ef1e-252cbb245002"
      },
      "outputs": [
        {
          "name": "stdout",
          "output_type": "stream",
          "text": [
            "Help on function add_1 in module __main__:\n",
            "\n",
            "add_1(a, b)\n",
            "    implement an addition operation\n",
            "\n"
          ]
        }
      ],
      "source": [
        "help(add_1)"
      ]
    },
    {
      "cell_type": "markdown",
      "metadata": {
        "id": "ElBi-HFh4vyR"
      },
      "source": [
        "- Following a colon (`:`), everything that starts at the next line and is ***indented*** thereafter is the **function body**.\n",
        "\n",
        "\n",
        "- Function bodies often contain an ***optional*** [`return` statement](https://docs.python.org/3.7/reference/simple_stmts.html#the-return-statement). `return` triggers the function to return the specified object.\n",
        "\n",
        "\n",
        "\n",
        "\n",
        "\n",
        "\n"
      ]
    },
    {
      "cell_type": "markdown",
      "metadata": {
        "id": "qKwe9H3ql28u"
      },
      "source": [
        "*Exercise:* Define a functin called `which_is_bigger`, which takes two numbers as input, and return the larger one. Try to use a single line of code for the function body (without using any built-in functions)."
      ]
    },
    {
      "cell_type": "code",
      "execution_count": null,
      "metadata": {
        "colab": {
          "base_uri": "https://localhost:8080/"
        },
        "id": "ienq0bjcl5Xi",
        "outputId": "5b0a5cec-cb36-4c96-a64d-c55065605256"
      },
      "outputs": [
        {
          "data": {
            "text/plain": [
              "100"
            ]
          },
          "execution_count": 11,
          "metadata": {},
          "output_type": "execute_result"
        }
      ],
      "source": [
        "# write your code here\n",
        "def which_is_bigger(m,n):\n",
        "  return m if m>=n else n\n",
        "\n",
        "which_is_bigger(100, 20)"
      ]
    },
    {
      "cell_type": "markdown",
      "metadata": {
        "id": "NpaNGWHN4vyZ"
      },
      "source": [
        "\n",
        "<br/>\n",
        "\n",
        "## 1.2 Calling a Function\n",
        "\n",
        "\n",
        "To run a function's body, we use the function's name followed by `()` to <b>*call*/*invoke the function*</b>.\n",
        "\n",
        " - If any parameters were specified in the function definition, the function call should also send objects as inputs (known as the <b>*arguments*</b>) that match the parameters:\n",
        "\n",
        "<p>"
      ]
    },
    {
      "cell_type": "code",
      "execution_count": null,
      "metadata": {
        "cell_style": "split",
        "colab": {
          "base_uri": "https://localhost:8080/"
        },
        "id": "gy0n2bI24vya",
        "outputId": "e3def7e6-3f69-4543-9eb7-6ecf87656a6c"
      },
      "outputs": [
        {
          "data": {
            "text/plain": [
              "6"
            ]
          },
          "execution_count": 12,
          "metadata": {},
          "output_type": "execute_result"
        }
      ],
      "source": [
        "add_1(2, 4)          # positional matching"
      ]
    },
    {
      "cell_type": "code",
      "execution_count": null,
      "metadata": {
        "cell_style": "split",
        "colab": {
          "base_uri": "https://localhost:8080/"
        },
        "id": "WmF4nlTJ4vyb",
        "outputId": "09c77c29-12b4-4ec0-b8f5-ec32953f848b"
      },
      "outputs": [
        {
          "data": {
            "text/plain": [
              "105.0"
            ]
          },
          "execution_count": 13,
          "metadata": {},
          "output_type": "execute_result"
        }
      ],
      "source": [
        "add_1(b=100, a=5.0)  # matching by name"
      ]
    },
    {
      "cell_type": "markdown",
      "metadata": {
        "id": "dzPhkIyH4vyd"
      },
      "source": [
        "- The **parameters** are a property of the function, whereas the **arguments** can vary each time we call the function.\n"
      ]
    },
    {
      "cell_type": "code",
      "execution_count": null,
      "metadata": {
        "id": "-YPJQBxbp2_U"
      },
      "outputs": [],
      "source": [
        "def add_1(a, b):\n",
        "    '''implement an addition operation'''\n",
        "\n",
        "    c = a + b\n",
        "    return c"
      ]
    },
    {
      "cell_type": "code",
      "execution_count": null,
      "metadata": {
        "colab": {
          "base_uri": "https://localhost:8080/"
        },
        "id": "q8VBkufnpwvR",
        "outputId": "b0249e60-f16d-43c6-e7b5-82df22ba0db9"
      },
      "outputs": [
        {
          "data": {
            "text/plain": [
              "6"
            ]
          },
          "execution_count": 16,
          "metadata": {},
          "output_type": "execute_result"
        }
      ],
      "source": [
        "x = add_1(2, 4)\n",
        "x"
      ]
    },
    {
      "cell_type": "markdown",
      "metadata": {
        "id": "0DfnVD6W4vye"
      },
      "source": [
        "\n",
        "\n",
        "\n",
        "<img src=\"https://raw.githubusercontent.com/justinjiajia/img/master/python/functioncall.png\" width=800/>"
      ]
    },
    {
      "cell_type": "markdown",
      "metadata": {
        "id": "rgDtYeGr4vyg"
      },
      "source": [
        "- The **global namespace** is the area where global variables (variables defined outside of any function) are stored.\n",
        "\n",
        "- Every time we call a function, Python creates a **local namespace** and populates it with parameter names that refer to arguments provided at the point of call.\n",
        "\n",
        "- All the names assigned when a function runs also live in this local namespace. They will only be accessible inside the function being called.\n",
        "\n",
        "- All the local varialbes exist only while the function runs.\n",
        "\n",
        "\n",
        "\n",
        "\n",
        "\n",
        "\n",
        "\n"
      ]
    },
    {
      "cell_type": "code",
      "execution_count": null,
      "metadata": {
        "colab": {
          "base_uri": "https://localhost:8080/",
          "height": 141
        },
        "id": "Fvky_aPCAiNH",
        "outputId": "b9739fa1-414c-4cdc-ac8c-dfb0450df909"
      },
      "outputs": [
        {
          "ename": "NameError",
          "evalue": "name 'c' is not defined",
          "output_type": "error",
          "traceback": [
            "\u001b[0;31m---------------------------------------------------------------------------\u001b[0m",
            "\u001b[0;31mNameError\u001b[0m                                 Traceback (most recent call last)",
            "\u001b[0;32m<ipython-input-17-0f3e7c8ce177>\u001b[0m in \u001b[0;36m<cell line: 0>\u001b[0;34m()\u001b[0m\n\u001b[0;32m----> 1\u001b[0;31m \u001b[0mc\u001b[0m  \u001b[0;31m# Python reports error when we want to access the parameters inside a function.\u001b[0m\u001b[0;34m\u001b[0m\u001b[0;34m\u001b[0m\u001b[0m\n\u001b[0m",
            "\u001b[0;31mNameError\u001b[0m: name 'c' is not defined"
          ]
        }
      ],
      "source": [
        "c  # Python reports error when we want to access the parameters inside a function."
      ]
    },
    {
      "cell_type": "markdown",
      "metadata": {
        "id": "aEDICXE74vyi"
      },
      "source": [
        "<br/>\n",
        "\n",
        "\n",
        "## 1.3 Specifying Return Values\n",
        "\n",
        "\n",
        "Output which is returned from a function is called a **return value**, which can be defined by [the **`return`** statement](https://docs.python.org/3.7/reference/simple_stmts.html#grammar-token-return-stmt):"
      ]
    },
    {
      "cell_type": "code",
      "execution_count": null,
      "metadata": {
        "id": "FJSUPVIh4vyj"
      },
      "outputs": [],
      "source": [
        "def add_2(a, b):\n",
        "    c = a + b  # no return"
      ]
    },
    {
      "cell_type": "code",
      "execution_count": null,
      "metadata": {
        "id": "iXPdvH5L4vym"
      },
      "outputs": [],
      "source": [
        "result_2 = add_2(2, 4)"
      ]
    },
    {
      "cell_type": "code",
      "execution_count": null,
      "metadata": {
        "colab": {
          "base_uri": "https://localhost:8080/"
        },
        "id": "_WQvuMwQpsas",
        "outputId": "bcb6392e-919a-4c68-a3d4-60ab70d55067"
      },
      "outputs": [
        {
          "data": {
            "text/plain": [
              "NoneType"
            ]
          },
          "execution_count": 20,
          "metadata": {},
          "output_type": "execute_result"
        }
      ],
      "source": [
        "type(result_2)"
      ]
    },
    {
      "cell_type": "markdown",
      "metadata": {
        "id": "sMZcxJm2p2_W"
      },
      "source": [
        "What was returned is `None`, which is a special value ***which means \"nothing\"***.\n",
        "\n",
        "Compare `add_2` with `add_3`"
      ]
    },
    {
      "cell_type": "code",
      "execution_count": null,
      "metadata": {
        "id": "U1-Vdrxh4vys"
      },
      "outputs": [],
      "source": [
        "def add_3(a, b):\n",
        "    return a + b"
      ]
    },
    {
      "cell_type": "code",
      "execution_count": null,
      "metadata": {
        "colab": {
          "base_uri": "https://localhost:8080/"
        },
        "id": "0qsFvsuo4vyu",
        "outputId": "f194ac3d-f828-46ce-8a36-a4ec53d1dd91"
      },
      "outputs": [
        {
          "data": {
            "text/plain": [
              "6"
            ]
          },
          "execution_count": 22,
          "metadata": {},
          "output_type": "execute_result"
        }
      ],
      "source": [
        "result_3 = add_3(2, 4)\n",
        "result_3"
      ]
    },
    {
      "cell_type": "markdown",
      "metadata": {
        "id": "Ig8TR_Uz4vyy"
      },
      "source": [
        "A function can only have a ***single*** return value, which can be a **compound object**:"
      ]
    },
    {
      "cell_type": "code",
      "execution_count": null,
      "metadata": {
        "id": "lQGm4yQi4vyz"
      },
      "outputs": [],
      "source": [
        "def divide(dividend, divisor):        # our own way to implement divmod()\n",
        "    quotient = dividend // divisor  # floor division\n",
        "    remainder = dividend % divisor   # modulo operator (remainder)\n",
        "    return (quotient, remainder)"
      ]
    },
    {
      "cell_type": "code",
      "execution_count": null,
      "metadata": {
        "colab": {
          "base_uri": "https://localhost:8080/"
        },
        "id": "qJfMjyjK4vy1",
        "outputId": "8c393210-7cf2-4272-ac3e-e83fd62ec8aa"
      },
      "outputs": [
        {
          "data": {
            "text/plain": [
              "(8, 3)"
            ]
          },
          "execution_count": 24,
          "metadata": {},
          "output_type": "execute_result"
        }
      ],
      "source": [
        "divide(35, 4)"
      ]
    },
    {
      "cell_type": "markdown",
      "metadata": {
        "id": "THs8LwJI4vzA"
      },
      "source": [
        "<br/>\n",
        "\n",
        "\n",
        "We can specify more than one `return` statement within a function. When a `return` statement is reached, the flow of control exits the function immediately:\n"
      ]
    },
    {
      "cell_type": "code",
      "execution_count": null,
      "metadata": {
        "id": "seo3-oiK4vzB"
      },
      "outputs": [],
      "source": [
        "def divide(dividend, divisor):\n",
        "    if not divisor:\n",
        "        print('The divisor cannot be zero!')\n",
        "        return None                  # None can be dropped here\n",
        "\n",
        "    quotient = dividend // divisor\n",
        "    remainder = dividend % divisor\n",
        "    return quotient, remainder"
      ]
    },
    {
      "cell_type": "code",
      "execution_count": null,
      "metadata": {
        "colab": {
          "base_uri": "https://localhost:8080/"
        },
        "id": "oxQV6aqk4vzC",
        "outputId": "55bfaa5a-1bfd-4b20-ddce-d7307c0e3c68"
      },
      "outputs": [
        {
          "data": {
            "text/plain": [
              "(5, 3)"
            ]
          },
          "execution_count": 28,
          "metadata": {},
          "output_type": "execute_result"
        }
      ],
      "source": [
        "divide(28, 5)"
      ]
    },
    {
      "cell_type": "code",
      "execution_count": null,
      "metadata": {
        "colab": {
          "base_uri": "https://localhost:8080/"
        },
        "id": "_U1-gStvp2_Y",
        "outputId": "1f8d830c-2769-4278-e404-5d5098b0a57c"
      },
      "outputs": [
        {
          "name": "stdout",
          "output_type": "stream",
          "text": [
            "The divisor cannot be zero!\n"
          ]
        }
      ],
      "source": [
        "divide(28, 0)"
      ]
    },
    {
      "cell_type": "markdown",
      "metadata": {
        "id": "RtEd9m1Z4vzE"
      },
      "source": [
        "<br>\n",
        "\n",
        "Now you mostly know the steps of creating a fucntion. The basic idea is extracting repeated code out into a function provides us a more powerful and general way than copying and pasting."
      ]
    },
    {
      "cell_type": "markdown",
      "metadata": {
        "id": "IrKOBLxUXR3f"
      },
      "source": [
        "**<font color='steelblue' >Question</font>**:\n",
        "\n",
        "Extract repeated code from the following two snippets and rewrite it as a Python function named `apply_loan`. Then we call the function `apply_loan` with `customer_1` and `customer_2`, respectively. `apply_loan(customer1)` prints 'Approve' and `apply_loan(customer2)` prints 'Reject'"
      ]
    },
    {
      "cell_type": "code",
      "execution_count": null,
      "metadata": {
        "colab": {
          "base_uri": "https://localhost:8080/"
        },
        "id": "eihE4GsLfxxS",
        "outputId": "37b8f258-a7fc-4df2-d041-b6db95a9f2c9"
      },
      "outputs": [
        {
          "name": "stdout",
          "output_type": "stream",
          "text": [
            "Approve\n"
          ]
        }
      ],
      "source": [
        "customer_1 = {'name': 'Amy', 'income': 27, 'years': 4.2, 'criminal': 'No'}\n",
        "\n",
        "if customer_1['income'] >= 70:\n",
        "    print('Approve')\n",
        "\n",
        "elif customer_1['income'] >= 30:\n",
        "    if customer_1['years'] >= 2:\n",
        "        print(\"Approve\")\n",
        "    else:\n",
        "        print(\"Reject\")\n",
        "\n",
        "else:\n",
        "    if customer_1['criminal'] == \"No\":\n",
        "        print('Approve')\n",
        "    else:\n",
        "        print('Reject')"
      ]
    },
    {
      "cell_type": "code",
      "execution_count": null,
      "metadata": {
        "colab": {
          "base_uri": "https://localhost:8080/"
        },
        "id": "fTLLMQttfzZm",
        "outputId": "b95496c7-2b19-4641-83ad-92e2e3fe1d19"
      },
      "outputs": [
        {
          "name": "stdout",
          "output_type": "stream",
          "text": [
            "Reject\n"
          ]
        }
      ],
      "source": [
        "customer_2 = {'name': 'Sam', 'income': 32, 'years': 1.5, 'criminal': 'Yes'}\n",
        "\n",
        "if customer_2['income'] >= 70:\n",
        "    print('Approve')\n",
        "\n",
        "elif customer_2['income'] >= 30:\n",
        "    if customer_2['years'] >= 2:\n",
        "        print(\"Approve\")\n",
        "    else:\n",
        "        print(\"Reject\")\n",
        "\n",
        "else:\n",
        "    if customer_2['criminal'] == \"No\":\n",
        "        print('Approve')\n",
        "    else:\n",
        "        print('Reject')"
      ]
    },
    {
      "cell_type": "code",
      "execution_count": null,
      "metadata": {
        "id": "KmIZ5rsOPKoE"
      },
      "outputs": [],
      "source": [
        "customer_1 = {'name': 'Amy', 'income': 27, 'years': 4.2, 'criminal': 'No'}\n",
        "customer_2 = {'name': 'Sam', 'income': 32, 'years': 1.5, 'criminal': 'No'}\n",
        "\n",
        "# write your code here\n",
        "def apply_loan(customer):\n",
        "  if customer['income'] >= 70:\n",
        "    print('Approve')\n",
        "\n",
        "  elif customer['income'] >= 30:\n",
        "      if customer['years'] >= 2:\n",
        "          print(\"Approve\")\n",
        "      else:\n",
        "          print(\"Reject\")\n",
        "\n",
        "  else:\n",
        "      if customer['criminal'] == \"No\":\n",
        "          print('Approve')\n",
        "      else:\n",
        "          print('Reject')"
      ]
    },
    {
      "cell_type": "code",
      "execution_count": null,
      "metadata": {
        "cell_style": "split",
        "colab": {
          "base_uri": "https://localhost:8080/"
        },
        "id": "uCcBeBuM4vzI",
        "outputId": "b8696a11-3ec7-4b2a-ad87-3e38e256c9d5"
      },
      "outputs": [
        {
          "name": "stdout",
          "output_type": "stream",
          "text": [
            "Approve\n"
          ]
        }
      ],
      "source": [
        "apply_loan(customer_1)  # print Approve"
      ]
    },
    {
      "cell_type": "code",
      "execution_count": null,
      "metadata": {
        "cell_style": "split",
        "colab": {
          "base_uri": "https://localhost:8080/"
        },
        "id": "QgvA-V-m4vzK",
        "outputId": "04c6638c-2304-4466-8285-7f51f71c6f71"
      },
      "outputs": [
        {
          "name": "stdout",
          "output_type": "stream",
          "text": [
            "Reject\n"
          ]
        }
      ],
      "source": [
        "apply_loan(customer_2)   # print Reject"
      ]
    },
    {
      "cell_type": "markdown",
      "metadata": {
        "id": "euHm8bBp4vzO"
      },
      "source": [
        "\n",
        "<br/>\n",
        "\n",
        "\n",
        "## 1.4 Argument Passing\n",
        "\n",
        "\n",
        "\n",
        "Arguments are passed by assigning **object references**  to **local names** during a call.  It is another instance of Python assignment at work.\n",
        "\n",
        "\n",
        "\n",
        "During argument passing, two matching schemes determine how the argument objects in the call are paired with parameter names in the header.\n",
        "\n",
        "\n",
        "\n"
      ]
    },
    {
      "cell_type": "markdown",
      "metadata": {
        "id": "AXRhZVKhAiOw"
      },
      "source": [
        "\n",
        "\n",
        "### 1.4.1 Positional Matching (more frequently used)\n",
        "\n",
        "By default, argument objects get assigned to the parameter names ***according to their position***.\n",
        "\n",
        "For example, consider the function that finds the roots of a quadratic equation:\n",
        "\n",
        "$$\n",
        "ax^2+bx+c=0\n",
        "$$"
      ]
    },
    {
      "cell_type": "code",
      "execution_count": null,
      "metadata": {
        "id": "ZwIifFOR4vzQ"
      },
      "outputs": [],
      "source": [
        "def quad_1(a, b, c):\n",
        "    x1 = -b / (2 * a)\n",
        "    x2 = (b ** 2 - 4 * a * c) ** 0.5 / (2 * a)\n",
        "    return x1 + x2, x1 - x2"
      ]
    },
    {
      "cell_type": "code",
      "execution_count": null,
      "metadata": {
        "colab": {
          "base_uri": "https://localhost:8080/"
        },
        "id": "KOSP2bER4vzS",
        "outputId": "b8919007-7424-4464-bae4-b7a0d23ae8ed"
      },
      "outputs": [
        {
          "data": {
            "text/plain": [
              "(-1.0, -2.0)"
            ]
          },
          "execution_count": 8,
          "metadata": {},
          "output_type": "execute_result"
        }
      ],
      "source": [
        "quad_1(1, 3, 2)"
      ]
    },
    {
      "cell_type": "markdown",
      "metadata": {
        "id": "Bvpj4qwm4vzV"
      },
      "source": [
        "\n",
        "\n",
        "<br>\n",
        "\n",
        "### 1.4.2 Keyword Matching\n",
        "\n",
        "Python allows us to alter the way of argument matching by specifying matches by name  explicitly. The consequent arguments are called **named**/**keyword arguments**:\n",
        "\n",
        "- Arguments are associated with names/keywords for matching parameters during a call.\n",
        "\n",
        "- When we call functions in this way, the order (position) of the arguments can be changed."
      ]
    },
    {
      "cell_type": "code",
      "execution_count": null,
      "metadata": {
        "cell_style": "split",
        "colab": {
          "base_uri": "https://localhost:8080/"
        },
        "id": "r7i4Q4mm4vzV",
        "outputId": "265c9a3b-d8f2-4daf-aafa-b1e9ed7ade2d"
      },
      "outputs": [
        {
          "data": {
            "text/plain": [
              "(-1.0, -2.0)"
            ]
          },
          "execution_count": 9,
          "metadata": {},
          "output_type": "execute_result"
        }
      ],
      "source": [
        "quad_1(c=2, a=1, b=3)"
      ]
    },
    {
      "cell_type": "markdown",
      "metadata": {
        "id": "hM0e7HewQJFD"
      },
      "source": [
        "But note some built-in functions do not accept keyword matching, e.g. 'aaabbbb'.index(sub='b',start=0,end=5) reports errors but 'aaabbbb'.index('b',0,5) will work."
      ]
    },
    {
      "cell_type": "code",
      "execution_count": null,
      "metadata": {
        "colab": {
          "base_uri": "https://localhost:8080/",
          "height": 141
        },
        "id": "1pPWPSqZQKeQ",
        "outputId": "0e99326d-7b63-4a62-bb30-450fae87676d"
      },
      "outputs": [
        {
          "ename": "TypeError",
          "evalue": "str.index() takes no keyword arguments",
          "output_type": "error",
          "traceback": [
            "\u001b[0;31m---------------------------------------------------------------------------\u001b[0m",
            "\u001b[0;31mTypeError\u001b[0m                                 Traceback (most recent call last)",
            "\u001b[0;32m<ipython-input-16-44334a15a2e3>\u001b[0m in \u001b[0;36m<cell line: 0>\u001b[0;34m()\u001b[0m\n\u001b[0;32m----> 1\u001b[0;31m \u001b[0;34m'aaabbbb'\u001b[0m\u001b[0;34m.\u001b[0m\u001b[0mindex\u001b[0m\u001b[0;34m(\u001b[0m\u001b[0msub\u001b[0m\u001b[0;34m=\u001b[0m\u001b[0;34m'b'\u001b[0m\u001b[0;34m,\u001b[0m \u001b[0mstart\u001b[0m\u001b[0;34m=\u001b[0m\u001b[0;36m0\u001b[0m\u001b[0;34m,\u001b[0m \u001b[0mend\u001b[0m\u001b[0;34m=\u001b[0m\u001b[0;36m5\u001b[0m\u001b[0;34m)\u001b[0m\u001b[0;34m\u001b[0m\u001b[0;34m\u001b[0m\u001b[0m\n\u001b[0m",
            "\u001b[0;31mTypeError\u001b[0m: str.index() takes no keyword arguments"
          ]
        }
      ],
      "source": [
        "'aaabbbb'.index(sub='b', start=0, end=5)"
      ]
    },
    {
      "cell_type": "code",
      "execution_count": null,
      "metadata": {
        "colab": {
          "base_uri": "https://localhost:8080/"
        },
        "id": "fZwwsgM1QNKV",
        "outputId": "ef6bd5a9-70ab-4849-cf40-89f501537435"
      },
      "outputs": [
        {
          "data": {
            "text/plain": [
              "3"
            ]
          },
          "execution_count": 17,
          "metadata": {},
          "output_type": "execute_result"
        }
      ],
      "source": [
        "'aaabbbb'.index('b',0,5)"
      ]
    },
    {
      "cell_type": "markdown",
      "metadata": {
        "id": "xrbbhagr4vzb"
      },
      "source": [
        "\n",
        "<br>\n",
        "\n",
        "### 1.4.3 Mixing the Two Maching Schemes\n",
        "\n",
        "**Positional matching** and **keyword matching** (matching by name) can be mixed during a function call. But arguments using **positional matching** must precede arguments using **keyword matching**."
      ]
    },
    {
      "cell_type": "code",
      "execution_count": null,
      "metadata": {
        "cell_style": "split",
        "colab": {
          "base_uri": "https://localhost:8080/",
          "height": 106
        },
        "id": "ZENy3Wf_4vzb",
        "outputId": "e2c2849f-1945-443c-9c2d-17a1fe226c33"
      },
      "outputs": [
        {
          "ename": "SyntaxError",
          "evalue": "positional argument follows keyword argument (<ipython-input-18-1a64c887bd0c>, line 1)",
          "output_type": "error",
          "traceback": [
            "\u001b[0;36m  File \u001b[0;32m\"<ipython-input-18-1a64c887bd0c>\"\u001b[0;36m, line \u001b[0;32m1\u001b[0m\n\u001b[0;31m    quad_1(1, c=2, 3)\u001b[0m\n\u001b[0m                    ^\u001b[0m\n\u001b[0;31mSyntaxError\u001b[0m\u001b[0;31m:\u001b[0m positional argument follows keyword argument\n"
          ]
        }
      ],
      "source": [
        "quad_1(1, c=2, 3)"
      ]
    },
    {
      "cell_type": "code",
      "execution_count": null,
      "metadata": {
        "cell_style": "split",
        "colab": {
          "base_uri": "https://localhost:8080/",
          "height": 141
        },
        "id": "yVHj780I4vzc",
        "outputId": "ce0d75e6-e2a4-4383-8176-80b4a8e65377",
        "scrolled": true
      },
      "outputs": [
        {
          "ename": "TypeError",
          "evalue": "quad_1() got multiple values for argument 'a'",
          "output_type": "error",
          "traceback": [
            "\u001b[0;31m---------------------------------------------------------------------------\u001b[0m",
            "\u001b[0;31mTypeError\u001b[0m                                 Traceback (most recent call last)",
            "\u001b[0;32m<ipython-input-19-24bbbf9efd3f>\u001b[0m in \u001b[0;36m<cell line: 0>\u001b[0;34m()\u001b[0m\n\u001b[0;32m----> 1\u001b[0;31m \u001b[0mquad_1\u001b[0m\u001b[0;34m(\u001b[0m\u001b[0;36m2\u001b[0m\u001b[0;34m,\u001b[0m \u001b[0mb\u001b[0m\u001b[0;34m=\u001b[0m\u001b[0;36m3\u001b[0m\u001b[0;34m,\u001b[0m \u001b[0ma\u001b[0m\u001b[0;34m=\u001b[0m\u001b[0;36m1\u001b[0m\u001b[0;34m)\u001b[0m\u001b[0;34m\u001b[0m\u001b[0;34m\u001b[0m\u001b[0m\n\u001b[0m",
            "\u001b[0;31mTypeError\u001b[0m: quad_1() got multiple values for argument 'a'"
          ]
        }
      ],
      "source": [
        "quad_1(2, b=3, a=1)"
      ]
    },
    {
      "cell_type": "code",
      "execution_count": null,
      "metadata": {
        "colab": {
          "base_uri": "https://localhost:8080/"
        },
        "id": "no1DqnumQF6k",
        "outputId": "6ac3cdf8-bbc0-4eb0-dae7-a6fc5698df92"
      },
      "outputs": [
        {
          "data": {
            "text/plain": [
              "(-1.0, -2.0)"
            ]
          },
          "execution_count": 20,
          "metadata": {},
          "output_type": "execute_result"
        }
      ],
      "source": [
        "quad_1(1, c=2, b=3)"
      ]
    },
    {
      "cell_type": "markdown",
      "metadata": {
        "id": "xWm_0yAU4vze"
      },
      "source": [
        "\n",
        "<br>\n",
        "\n",
        "## 1.5 Specifying Parameters\n",
        "\n",
        "\n"
      ]
    },
    {
      "cell_type": "markdown",
      "metadata": {
        "id": "Ng9pqgPaCCFv"
      },
      "source": [
        "### 1.5.1 Default Parameter Values\n",
        "\n",
        "In a function definition, we can specify a default value for a parameter with the form `parameter=expression`:"
      ]
    },
    {
      "cell_type": "code",
      "execution_count": null,
      "metadata": {
        "id": "oaLPDcuU4vzf"
      },
      "outputs": [],
      "source": [
        "def quad_2(b, c, a=1.0):       # parameters with default values must follow those without default values\n",
        "    x1 = -b / (2 * a)\n",
        "    x2 = (b ** 2 - 4 * a * c) ** 0.5 / (2 * a)\n",
        "    return (x1 + x2), (x1 - x2)"
      ]
    },
    {
      "cell_type": "markdown",
      "metadata": {
        "id": "UrTyL5ZVrbn4"
      },
      "source": [
        "Note that parameters with default values ***must follow*** those without default values:"
      ]
    },
    {
      "cell_type": "code",
      "execution_count": null,
      "metadata": {
        "colab": {
          "base_uri": "https://localhost:8080/",
          "height": 106
        },
        "id": "GngCMldGreor",
        "outputId": "c93dfac6-2986-48f1-ef2c-bc20f7427f32"
      },
      "outputs": [
        {
          "ename": "SyntaxError",
          "evalue": "non-default argument follows default argument (<ipython-input-38-b479b308fe47>, line 1)",
          "output_type": "error",
          "traceback": [
            "\u001b[0;36m  File \u001b[0;32m\"<ipython-input-38-b479b308fe47>\"\u001b[0;36m, line \u001b[0;32m1\u001b[0m\n\u001b[0;31m    def quad_2(a=1.0, b, c):\u001b[0m\n\u001b[0m                      ^\u001b[0m\n\u001b[0;31mSyntaxError\u001b[0m\u001b[0;31m:\u001b[0m non-default argument follows default argument\n"
          ]
        }
      ],
      "source": [
        "def quad_2(a=1.0, b, c):\n",
        "    x1 = -b / (2 * a)\n",
        "    x2 = (b ** 2 - 4 * a * c) ** 0.5 / (2 * a)\n",
        "    return (x1 + x2), (x1 - x2)"
      ]
    },
    {
      "cell_type": "markdown",
      "metadata": {
        "id": "t_iIgEXC4vzh"
      },
      "source": [
        "When calling a function, providing an argument for a parameter with a default value is ***optional***:"
      ]
    },
    {
      "cell_type": "code",
      "execution_count": null,
      "metadata": {
        "colab": {
          "base_uri": "https://localhost:8080/"
        },
        "id": "p9Tmsui_4vzi",
        "outputId": "1c3c657f-499a-4521-b6a3-0734765d2b06"
      },
      "outputs": [
        {
          "data": {
            "text/plain": [
              "(-1.0, -2.0)"
            ]
          },
          "execution_count": 22,
          "metadata": {},
          "output_type": "execute_result"
        }
      ],
      "source": [
        "quad_2(3, 2)"
      ]
    },
    {
      "cell_type": "markdown",
      "metadata": {
        "id": "ZLPMmzJM4vzk"
      },
      "source": [
        "The default value can be overriden by providing an argument during a call:"
      ]
    },
    {
      "cell_type": "code",
      "execution_count": null,
      "metadata": {
        "colab": {
          "base_uri": "https://localhost:8080/"
        },
        "id": "2FUzfpHS4vzk",
        "outputId": "680c1498-0791-4a2b-d589-b63ae9b5cf3d"
      },
      "outputs": [
        {
          "data": {
            "text/plain": [
              "(-0.5, -3.0)"
            ]
          },
          "execution_count": 23,
          "metadata": {},
          "output_type": "execute_result"
        }
      ],
      "source": [
        "quad_2(7, 3, 2)"
      ]
    },
    {
      "cell_type": "markdown",
      "metadata": {
        "id": "RdfVdZBTovs7"
      },
      "source": [
        "<br>\n",
        "\n",
        "**<font color='steelblue' >Question</font>**:\n",
        "\n",
        "1.  Write a currency converter function called `currency_converter()` to convert an amount from HKD to USD. Due to the Linked Exchange Rate system, set the default conversion rate to `7.8`. Allow users to customize the conversion rate for sepcific conversions.\n",
        "\n",
        "    Expected output:\n",
        "    \n",
        "    Calling `currency_converter(1000)` prints `1000.00 HKD converted to USD at a rate of 7.80: 128.21 USD`;\n",
        "    \n",
        "    Calling `currency_converter(1000, 7.76)` prints `1000.00 HKD converted to USD at a rate of 7.76: 128.87 USD`.\n",
        "\n"
      ]
    },
    {
      "cell_type": "code",
      "execution_count": null,
      "metadata": {
        "id": "hvJOlR6jo0Pe"
      },
      "outputs": [],
      "source": [
        "# provide your code below\n",
        "def currency_converter(amount, rate = 7.8):\n",
        "  print(f'{amount:.3f} HKD converted to USD at a rate of {rate:.2f}: {amount/rate:.2f} USD')"
      ]
    },
    {
      "cell_type": "code",
      "execution_count": null,
      "metadata": {
        "colab": {
          "base_uri": "https://localhost:8080/"
        },
        "id": "aLWujVKmo43n",
        "outputId": "4024a185-fdbf-44a8-be88-3c0404ce5b6c"
      },
      "outputs": [
        {
          "name": "stdout",
          "output_type": "stream",
          "text": [
            "1000.000 HKD converted to USD at a rate of 7.80: 128.21 USD\n",
            "1000.000 HKD converted to USD at a rate of 7.76: 128.87 USD\n"
          ]
        }
      ],
      "source": [
        "currency_converter(1000)\n",
        "currency_converter(1000, 7.76)"
      ]
    },
    {
      "cell_type": "markdown",
      "metadata": {
        "id": "_MR5zXRdp2N8"
      },
      "source": [
        "2.  Write a general currency converter that converts an amount from HKD to any currency. Set the default target currency to `\"USD\"` and the default conversion rate to `7.8`.  \n",
        "\n",
        "    Expected output:\n",
        "    \n",
        "    Calling `currency_converter(1000)` prints `1000.00 HKD converted to USD at a rate of 7.80: 128.21 USD`;\n",
        "    \n",
        "    Calling `currency_converter(1000, \"CNY\", 1.1)` prints `1000.00 HKD converted to CNY at a rate of 1.10: 909.09 CNY`."
      ]
    },
    {
      "cell_type": "code",
      "execution_count": null,
      "metadata": {
        "id": "8SSRmca-p3AX"
      },
      "outputs": [],
      "source": [
        "# provide your code below\n",
        "def currency_converter(amount, currency = \"USD\", rate = 7.8):\n",
        "  print(f'{amount:.3f} HKD converted to {currency} at a rate of {rate:.2f}: {amount/rate:.2f} {currency}')"
      ]
    },
    {
      "cell_type": "code",
      "execution_count": null,
      "metadata": {
        "colab": {
          "base_uri": "https://localhost:8080/"
        },
        "id": "3hG3IR3hp-fb",
        "outputId": "c12b403a-448b-41c0-fbe0-89c5e0f42979"
      },
      "outputs": [
        {
          "name": "stdout",
          "output_type": "stream",
          "text": [
            "1000.000 HKD converted to USD at a rate of 7.80: 128.21 USD\n",
            "1000.000 HKD converted to CNY at a rate of 1.10: 909.09 CNY\n"
          ]
        }
      ],
      "source": [
        "currency_converter(1000)\n",
        "currency_converter(1000, \"CNY\", 1.1)"
      ]
    },
    {
      "cell_type": "markdown",
      "metadata": {
        "id": "1Bb9oQRSq2ZC"
      },
      "source": [
        "---\n",
        "\n",
        "In summary, **the ordering of parameters with vs. without default values** and **the ordering of positional arguments and keyword/named arguments** are different things:\n",
        "\n",
        "- The former applies ***in a function definition***;\n",
        "- The latter occurs ***during a call***.\n",
        "\n",
        "However, parameters can be combined with several special symbols to control which types of arguments are allowed for them (later)."
      ]
    },
    {
      "cell_type": "markdown",
      "metadata": {
        "id": "QE6npMl0hy6h"
      },
      "source": [
        "### 1.5.2 Allowing for an Arbitrary Number of Arguments\n",
        "\n",
        "\n",
        "Python allows us to pass an arbitrary number of positional or keyword arguments to a function (e.g., `print()`, `max()`)."
      ]
    },
    {
      "cell_type": "code",
      "execution_count": null,
      "metadata": {
        "colab": {
          "base_uri": "https://localhost:8080/"
        },
        "id": "nmZr0YVNwjFw",
        "outputId": "42ae5012-2a1f-4f30-864a-956d21a10db4"
      },
      "outputs": [
        {
          "name": "stdout",
          "output_type": "stream",
          "text": [
            "1 2 5 Python True\n"
          ]
        }
      ],
      "source": [
        "print(1, 2, 5, 'Python', True)"
      ]
    },
    {
      "cell_type": "code",
      "execution_count": null,
      "metadata": {
        "colab": {
          "base_uri": "https://localhost:8080/"
        },
        "id": "QNm57g95wklO",
        "outputId": "80859c01-dadc-4fd7-f672-16587039db31"
      },
      "outputs": [
        {
          "data": {
            "text/plain": [
              "100"
            ]
          },
          "execution_count": 40,
          "metadata": {},
          "output_type": "execute_result"
        }
      ],
      "source": [
        "max(100, 2, 37, 18, 45)"
      ]
    },
    {
      "cell_type": "code",
      "execution_count": null,
      "metadata": {
        "colab": {
          "base_uri": "https://localhost:8080/"
        },
        "id": "R803NGRuAiQI",
        "outputId": "ef78f5fe-1840-4fb1-aa1d-e11cccb9cb23"
      },
      "outputs": [
        {
          "data": {
            "text/plain": [
              "[2, 3, 4]"
            ]
          },
          "execution_count": 41,
          "metadata": {},
          "output_type": "execute_result"
        }
      ],
      "source": [
        "# recall the use of * to gather excess items in sequence unpacking\n",
        "first, *remaining = 1, 2, 3, 4\n",
        "remaining"
      ]
    },
    {
      "cell_type": "markdown",
      "metadata": {
        "id": "0GtPlI_KAiQL"
      },
      "source": [
        "\n",
        "We can put `*` before a parameter to indicate that it can take a ***variable*** sequence of *positional arguments* and pack them ***into a tuple***."
      ]
    },
    {
      "cell_type": "code",
      "execution_count": null,
      "metadata": {
        "id": "hsb3jLFc4vzt"
      },
      "outputs": [],
      "source": [
        "def mean_v1(*elems):    # Positional arguments are packed into a tuple and referenced by elems\n",
        "\n",
        "    print(elems)\n",
        "\n",
        "    if not elems:\n",
        "      return 0\n",
        "\n",
        "    sumOfElems = 0\n",
        "    countOfElems = 0\n",
        "\n",
        "    for elem in elems:\n",
        "        sumOfElems += elem\n",
        "        countOfElems += 1\n",
        "\n",
        "    return sumOfElems / countOfElems"
      ]
    },
    {
      "cell_type": "code",
      "execution_count": null,
      "metadata": {
        "cell_style": "split",
        "colab": {
          "base_uri": "https://localhost:8080/"
        },
        "id": "FCrdPQl64vzy",
        "outputId": "1cae6039-0214-4219-c14b-c313fcf42360"
      },
      "outputs": [
        {
          "name": "stdout",
          "output_type": "stream",
          "text": [
            "(1, 2, 3, 4, 5, 6)\n"
          ]
        },
        {
          "data": {
            "text/plain": [
              "3.5"
            ]
          },
          "execution_count": 43,
          "metadata": {},
          "output_type": "execute_result"
        }
      ],
      "source": [
        "mean_v1(1, 2, 3, 4, 5, 6)"
      ]
    },
    {
      "cell_type": "code",
      "execution_count": null,
      "metadata": {
        "cell_style": "split",
        "colab": {
          "base_uri": "https://localhost:8080/"
        },
        "id": "i9-JdSTwAiQb",
        "outputId": "016fc2d4-eef5-4686-e873-0320717b261e"
      },
      "outputs": [
        {
          "name": "stdout",
          "output_type": "stream",
          "text": [
            "()\n"
          ]
        },
        {
          "data": {
            "text/plain": [
              "0"
            ]
          },
          "execution_count": 44,
          "metadata": {},
          "output_type": "execute_result"
        }
      ],
      "source": [
        "mean_v1()"
      ]
    },
    {
      "cell_type": "markdown",
      "metadata": {
        "id": "YqIIaK9fsW_K"
      },
      "source": [
        "*Exercise:* Create a function called `greet()` to print greeting messages to arbitrary number of users.\n",
        "\n",
        "For example, by runing\n",
        "```python\n",
        "greet(\"Monica\", \"Luke\", \"Steve\", \"John\")\n",
        "```\n",
        "You should see\n",
        "```\n",
        "Hello Monica\n",
        "Hello Luke\n",
        "Hello Steve\n",
        "Hello John\n",
        "```"
      ]
    },
    {
      "cell_type": "code",
      "execution_count": null,
      "metadata": {
        "colab": {
          "base_uri": "https://localhost:8080/"
        },
        "id": "CqWUqRU8sY7s",
        "outputId": "179cb25b-fefd-4ae3-a710-352a4a24a02c"
      },
      "outputs": [
        {
          "name": "stdout",
          "output_type": "stream",
          "text": [
            "Hello Monica\n",
            "Hello Luke\n",
            "Hello Steve\n",
            "Hello John\n"
          ]
        }
      ],
      "source": [
        "# write your codes here\n",
        "def greet(*names):\n",
        "  for name in names:\n",
        "    print(\"Hello\", name)\n",
        "\n",
        "greet(\"Monica\", \"Luke\", \"Steve\", \"John\")"
      ]
    },
    {
      "cell_type": "code",
      "execution_count": null,
      "metadata": {
        "colab": {
          "base_uri": "https://localhost:8080/"
        },
        "id": "Po6IxcL3s0wk",
        "outputId": "912e0bd6-6d0a-4288-8cc4-d5444078eafe"
      },
      "outputs": [
        {
          "name": "stdout",
          "output_type": "stream",
          "text": [
            "1 2 3 4 5 6\n"
          ]
        }
      ],
      "source": [
        "print(1, 2, 3, 4, 5, 6)"
      ]
    },
    {
      "cell_type": "code",
      "execution_count": null,
      "metadata": {
        "colab": {
          "base_uri": "https://localhost:8080/"
        },
        "id": "sVVJPoQWyh_a",
        "outputId": "d8915c8e-54d1-4388-c66b-88c62bb0e49d"
      },
      "outputs": [
        {
          "name": "stdout",
          "output_type": "stream",
          "text": [
            "[1, 2, 3, 4, 5, 6]\n"
          ]
        }
      ],
      "source": [
        "print([1, 2, 3, 4, 5, 6])"
      ]
    },
    {
      "cell_type": "markdown",
      "metadata": {
        "id": "JMvi5oZUp2_g"
      },
      "source": [
        "When the `*` operator is used in a functional call, it unpacks a sequence into individual positional arguments. Note `*` here is used when calling a function rather than when defining a function."
      ]
    },
    {
      "cell_type": "code",
      "execution_count": null,
      "metadata": {
        "colab": {
          "base_uri": "https://localhost:8080/"
        },
        "id": "TBi141qup2_g",
        "outputId": "126b6e76-1607-4e1b-826c-fb7c2c952e8b",
        "scrolled": true
      },
      "outputs": [
        {
          "name": "stdout",
          "output_type": "stream",
          "text": [
            "1 2 3 4 5 6\n"
          ]
        }
      ],
      "source": [
        "print(*[1, 2, 3, 4, 5, 6])"
      ]
    },
    {
      "cell_type": "code",
      "execution_count": null,
      "metadata": {
        "colab": {
          "base_uri": "https://localhost:8080/"
        },
        "id": "0TkR8jMP4vz3",
        "outputId": "f726fe3a-b29f-4f36-88b0-fecaa3a16a49",
        "scrolled": false
      },
      "outputs": [
        {
          "name": "stdout",
          "output_type": "stream",
          "text": [
            "(1, 2, 3, 4, 5)\n"
          ]
        },
        {
          "data": {
            "text/plain": [
              "3.0"
            ]
          },
          "execution_count": 52,
          "metadata": {},
          "output_type": "execute_result"
        }
      ],
      "source": [
        "listOfNums = [1, 2, 3, 4, 5]\n",
        "mean_v1(*listOfNums)"
      ]
    },
    {
      "cell_type": "markdown",
      "metadata": {
        "id": "YNEigZau4vz4"
      },
      "source": [
        "\n",
        "\n",
        "`**` is used to indicate that a parameter can take a ***variable*** sequence of *keyword*/*named arguments*, and pack them ***into a dictionary***:\n"
      ]
    },
    {
      "cell_type": "code",
      "execution_count": null,
      "metadata": {
        "id": "boPLmxNJ4vz5"
      },
      "outputs": [],
      "source": [
        "def update_detail(**info):\n",
        "    print(info)\n",
        "    for k, v in info.items():\n",
        "      print(f\"{k} -> {v}\")"
      ]
    },
    {
      "cell_type": "code",
      "execution_count": null,
      "metadata": {
        "colab": {
          "base_uri": "https://localhost:8080/"
        },
        "id": "PAbGiIGn4vz6",
        "outputId": "fd46542e-1838-4b39-f8be-0e175161b1f5"
      },
      "outputs": [
        {
          "name": "stdout",
          "output_type": "stream",
          "text": [
            "{'name': 'Sam', 'id': '1902034', 'grade': 'A+'}\n",
            "name -> Sam\n",
            "id -> 1902034\n",
            "grade -> A+\n"
          ]
        }
      ],
      "source": [
        "update_detail(name='Sam', id='1902034', grade=\"A+\")"
      ]
    },
    {
      "cell_type": "markdown",
      "metadata": {
        "id": "NT7T5Y6Yp2_h"
      },
      "source": [
        "Similarly, `**` used in a call unpacks a mapping into individual keyword arguments:"
      ]
    },
    {
      "cell_type": "code",
      "execution_count": null,
      "metadata": {
        "colab": {
          "base_uri": "https://localhost:8080/"
        },
        "id": "A8mhJQ_T4vz8",
        "outputId": "2d0c6d19-0b95-49f5-f0c2-66ac5fafe263",
        "scrolled": true
      },
      "outputs": [
        {
          "name": "stdout",
          "output_type": "stream",
          "text": [
            "{'name': 'Sam', 'id': '1902034', 'major': 'Business Analytics', 'year': 3}\n",
            "name -> Sam\n",
            "id -> 1902034\n",
            "major -> Business Analytics\n",
            "year -> 3\n"
          ]
        }
      ],
      "source": [
        "details = {'name': 'Sam', 'id': '1902034', 'major': 'Business Analytics', 'year': 3}\n",
        "update_detail(**details)      # equivalent to update_detail(name='Sam', id='1902034', major='IS', year=3)"
      ]
    },
    {
      "cell_type": "markdown",
      "metadata": {
        "id": "RRjHHW1i9A_Q"
      },
      "source": [
        "<br>\n",
        "\n",
        "###  1.5.3 Rules of Using `*args` & `**kwargs`\n",
        "\n",
        "- By definition, `*args` cannot have default values and cannot take keyword arguments.\n",
        "\n",
        "- Parameters after `*args` can take keyword arguments only; Parameter before `*args` can take keyword arguments only if there are no additional positional arguments intended for `*args`."
      ]
    },
    {
      "cell_type": "code",
      "execution_count": null,
      "metadata": {
        "id": "SraBqjKL9gwL"
      },
      "outputs": [],
      "source": [
        "def print_args_1(x1, x2, *args, y1, y2):\n",
        "    print(\"x1 is: \", x1)\n",
        "    print(\"x2 is: \", x2)\n",
        "    print(\"args is: \", args)\n",
        "    print(\"y1 is: \", y1)\n",
        "    print(\"y2 is: \", y2)"
      ]
    },
    {
      "cell_type": "code",
      "execution_count": null,
      "metadata": {
        "colab": {
          "base_uri": "https://localhost:8080/"
        },
        "id": "Pj3kMzd-9iek",
        "outputId": "eecab8b4-2c9d-4248-b099-feb1226228a5"
      },
      "outputs": [
        {
          "name": "stdout",
          "output_type": "stream",
          "text": [
            "x1 is:  a\n",
            "x2 is:  b\n",
            "args is:  ()\n",
            "y1 is:  1\n",
            "y2 is:  2\n"
          ]
        }
      ],
      "source": [
        "# the position of y1 and y2 can be swapped\n",
        "print_args_1(\"a\", \"b\", y1=1, y2=2)"
      ]
    },
    {
      "cell_type": "code",
      "execution_count": null,
      "metadata": {
        "colab": {
          "base_uri": "https://localhost:8080/"
        },
        "id": "-nOWLnFV9m-e",
        "outputId": "5436d4b4-1c92-4f14-f8fb-48bc1e9f5e6d"
      },
      "outputs": [
        {
          "name": "stdout",
          "output_type": "stream",
          "text": [
            "x1 is:  a\n",
            "x2 is:  b\n",
            "args is:  ('c', 'd')\n",
            "y1 is:  1\n",
            "y2 is:  2\n"
          ]
        }
      ],
      "source": [
        "# the position of y1 and y2 can be swapped\n",
        "print_args_1(\"a\", \"b\", \"c\", \"d\", y1=1, y2=2)"
      ]
    },
    {
      "cell_type": "code",
      "execution_count": null,
      "metadata": {
        "colab": {
          "base_uri": "https://localhost:8080/"
        },
        "id": "CmWRBdJq9sLD",
        "outputId": "51d4ce2a-5486-43b7-faa4-ed9b2302e618"
      },
      "outputs": [
        {
          "name": "stdout",
          "output_type": "stream",
          "text": [
            "x1 is:  a\n",
            "x2 is:  b\n",
            "args is:  ()\n",
            "y1 is:  1\n",
            "y2 is:  2\n"
          ]
        }
      ],
      "source": [
        "print_args_1(x2=\"b\", x1=\"a\", y1=1, y2=2)"
      ]
    },
    {
      "cell_type": "code",
      "execution_count": null,
      "metadata": {
        "colab": {
          "base_uri": "https://localhost:8080/",
          "height": 106
        },
        "id": "ysinQesc9vS5",
        "outputId": "126caeb9-676d-495f-d9cd-ffcf4b8f8eb2"
      },
      "outputs": [
        {
          "ename": "SyntaxError",
          "evalue": "positional argument follows keyword argument (<ipython-input-65-1bbc4fea801b>, line 2)",
          "output_type": "error",
          "traceback": [
            "\u001b[0;36m  File \u001b[0;32m\"<ipython-input-65-1bbc4fea801b>\"\u001b[0;36m, line \u001b[0;32m2\u001b[0m\n\u001b[0;31m    print_args_1(x2=\"b\", x1=\"a\", \"c\", \"d\", y1=1, y2=2)\u001b[0m\n\u001b[0m                                                     ^\u001b[0m\n\u001b[0;31mSyntaxError\u001b[0m\u001b[0;31m:\u001b[0m positional argument follows keyword argument\n"
          ]
        }
      ],
      "source": [
        "# recall: positional arguments cannot come after keyword arguments\n",
        "print_args_1(x2=\"b\", x1=\"a\", \"c\", \"d\", y1=1, y2=2)"
      ]
    },
    {
      "cell_type": "markdown",
      "metadata": {
        "id": "EfzDjSXP-E2J"
      },
      "source": [
        "- By definition, `**kwargs` cannot have default values and cannot take positional arguments. It can only appear at the end of a parameter list."
      ]
    },
    {
      "cell_type": "code",
      "execution_count": null,
      "metadata": {
        "colab": {
          "base_uri": "https://localhost:8080/",
          "height": 106
        },
        "id": "GuRYL64o-H2a",
        "outputId": "29c67d59-bf83-419a-d0c8-fd6dc73c381b"
      },
      "outputs": [
        {
          "ename": "SyntaxError",
          "evalue": "arguments cannot follow var-keyword argument (<ipython-input-68-2bebf0c92214>, line 1)",
          "output_type": "error",
          "traceback": [
            "\u001b[0;36m  File \u001b[0;32m\"<ipython-input-68-2bebf0c92214>\"\u001b[0;36m, line \u001b[0;32m1\u001b[0m\n\u001b[0;31m    def print_args_2(y1, **kwargs, y2):\u001b[0m\n\u001b[0m                                   ^\u001b[0m\n\u001b[0;31mSyntaxError\u001b[0m\u001b[0;31m:\u001b[0m arguments cannot follow var-keyword argument\n"
          ]
        }
      ],
      "source": [
        "def print_args_2(y1, **kwargs, y2):\n",
        "    print(\"y1 is: \", y1)\n",
        "    print(\"y2 is: \", y2)\n",
        "    print(\"kwargs is: \", kwargs)"
      ]
    },
    {
      "cell_type": "markdown",
      "metadata": {
        "id": "cvvOVqJM-PMQ"
      },
      "source": [
        "- `**kwargs` does not impose any restrictions on the type of arguments that come before it."
      ]
    },
    {
      "cell_type": "code",
      "execution_count": null,
      "metadata": {
        "id": "KV6rqZl--S3Z"
      },
      "outputs": [],
      "source": [
        "def print_args_2(y1, y2, **kwargs):\n",
        "    print(\"y1 is: \", y1)\n",
        "    print(\"y2 is: \", y2)\n",
        "    print(\"kwargs is: \", kwargs)"
      ]
    },
    {
      "cell_type": "code",
      "execution_count": null,
      "metadata": {
        "colab": {
          "base_uri": "https://localhost:8080/"
        },
        "id": "4A8ZkRFJ-Vnp",
        "outputId": "1d885651-896b-4fca-a43d-9435bb10042c"
      },
      "outputs": [
        {
          "name": "stdout",
          "output_type": "stream",
          "text": [
            "y1 is:  1\n",
            "y2 is:  2\n",
            "kwargs is:  {'x1': 'a', 'x2': 'b'}\n"
          ]
        }
      ],
      "source": [
        "print_args_2(1, 2, x1=\"a\", x2=\"b\")"
      ]
    },
    {
      "cell_type": "code",
      "execution_count": null,
      "metadata": {
        "colab": {
          "base_uri": "https://localhost:8080/"
        },
        "id": "T5qMYqdF-Wom",
        "outputId": "8843788b-104d-4541-cb99-99b892ee13eb"
      },
      "outputs": [
        {
          "name": "stdout",
          "output_type": "stream",
          "text": [
            "y1 is:  1\n",
            "y2 is:  2\n",
            "kwargs is:  {'x1': 'a', 'x2': 'b'}\n"
          ]
        }
      ],
      "source": [
        "print_args_2(x1=\"a\", x2=\"b\", y2=2, y1=1)"
      ]
    },
    {
      "cell_type": "code",
      "execution_count": null,
      "metadata": {
        "colab": {
          "base_uri": "https://localhost:8080/"
        },
        "id": "XPjRU-KW-X5z",
        "outputId": "c2de447c-f18a-416d-cb29-0f351efad8a8"
      },
      "outputs": [
        {
          "name": "stdout",
          "output_type": "stream",
          "text": [
            "y1 is:  1\n",
            "y2 is:  2\n",
            "kwargs is:  {}\n"
          ]
        }
      ],
      "source": [
        "print_args_2(y2=2, y1=1)"
      ]
    },
    {
      "cell_type": "code",
      "execution_count": null,
      "metadata": {
        "colab": {
          "base_uri": "https://localhost:8080/",
          "height": 106
        },
        "id": "vc-j0iRg-Zb_",
        "outputId": "81fa5f4b-b04a-4cc0-e78c-445aa3c3b4b0"
      },
      "outputs": [
        {
          "ename": "SyntaxError",
          "evalue": "positional argument follows keyword argument (<ipython-input-73-13b14e8ac4af>, line 2)",
          "output_type": "error",
          "traceback": [
            "\u001b[0;36m  File \u001b[0;32m\"<ipython-input-73-13b14e8ac4af>\"\u001b[0;36m, line \u001b[0;32m2\u001b[0m\n\u001b[0;31m    print_args_2(y1=1, 2, x1=\"a\", x2=\"b\")\u001b[0m\n\u001b[0m                                        ^\u001b[0m\n\u001b[0;31mSyntaxError\u001b[0m\u001b[0;31m:\u001b[0m positional argument follows keyword argument\n"
          ]
        }
      ],
      "source": [
        "# still, positional arguments cannot come after keyword arguments\n",
        "print_args_2(y1=1, 2, x1=\"a\", x2=\"b\")"
      ]
    },
    {
      "cell_type": "markdown",
      "metadata": {
        "id": "nZtEYeVZ4vz9"
      },
      "source": [
        "\n",
        "###  Parameter Ordering\n",
        "\n",
        "Ordinary parameters, `*args`, and `**kwargs` can be combined in the same parameter list:\n",
        "\n"
      ]
    },
    {
      "cell_type": "code",
      "execution_count": null,
      "metadata": {
        "id": "nbrwZXgm-31Y"
      },
      "outputs": [],
      "source": [
        "def print_args_3(x1, x2, *args, y1, y2, **kwargs):\n",
        "    print(\"x1 is: \", x1)\n",
        "    print(\"x2 is: \", x2)\n",
        "    print(\"args is: \", args)\n",
        "    print(\"y1 is: \", y1)\n",
        "    print(\"y2 is: \", y2)\n",
        "    print(\"kwargs is: \", kwargs)"
      ]
    },
    {
      "cell_type": "code",
      "execution_count": null,
      "metadata": {
        "colab": {
          "base_uri": "https://localhost:8080/"
        },
        "id": "jIBr6ZMw-7Mq",
        "outputId": "66a0608d-3941-443a-9c58-be649bdca8c5"
      },
      "outputs": [
        {
          "name": "stdout",
          "output_type": "stream",
          "text": [
            "x1 is:  a\n",
            "x2 is:  b\n",
            "args is:  ('c', 'd')\n",
            "y1 is:  1\n",
            "y2 is:  2\n",
            "kwargs is:  {'y3': 3, 'y4': 4}\n"
          ]
        }
      ],
      "source": [
        "# the positions of y1 and y2 can be swapped\n",
        "print_args_3('a', 'b', 'c', 'd', y1=1, y2=2, y3=3, y4=4)"
      ]
    },
    {
      "cell_type": "code",
      "execution_count": null,
      "metadata": {
        "colab": {
          "base_uri": "https://localhost:8080/"
        },
        "id": "tp73TfoM_0nc",
        "outputId": "009f882e-2d29-42ab-e97b-57994719948c"
      },
      "outputs": [
        {
          "name": "stdout",
          "output_type": "stream",
          "text": [
            "x1 is:  a\n",
            "x2 is:  b\n",
            "args is:  ()\n",
            "y1 is:  1\n",
            "y2 is:  2\n",
            "kwargs is:  {'y3': 3, 'y4': 4}\n"
          ]
        }
      ],
      "source": [
        "# all arguments can be keyword ones as long as there're no arguments intended for *args\n",
        "print_args_3(y3=3, y4=4, x1='a', x2='b', y1=1, y2=2)"
      ]
    },
    {
      "cell_type": "markdown",
      "metadata": {
        "id": "GfO7ioT5_mOK"
      },
      "source": [
        "<br>\n",
        "\n",
        "So, is it possible to enforce a set of parameters to take positional arguments only?\n",
        "\n",
        "When used in a parameter list, `/` enforces all paramenters before it to take positional arguments only during a call."
      ]
    },
    {
      "cell_type": "code",
      "execution_count": null,
      "metadata": {
        "id": "V6ws5oOM_oNz"
      },
      "outputs": [],
      "source": [
        "def print_args_4(x1, x2, /, *args, y1, y2, **kwargs):\n",
        "    print(\"x1 is: \", x1)\n",
        "    print(\"x2 is: \", x2)\n",
        "    print(\"args is: \", args)\n",
        "    print(\"y1 is: \", y1)\n",
        "    print(\"y2 is: \", y2)\n",
        "    print(\"kwargs is: \", kwargs)"
      ]
    },
    {
      "cell_type": "code",
      "execution_count": null,
      "metadata": {
        "colab": {
          "base_uri": "https://localhost:8080/"
        },
        "id": "hZgBmIPI_sFA",
        "outputId": "5a427d4c-4d7a-4e3e-ad3d-0c1fe776aa59"
      },
      "outputs": [
        {
          "name": "stdout",
          "output_type": "stream",
          "text": [
            "x1 is:  a\n",
            "x2 is:  b\n",
            "args is:  ('c', 'd')\n",
            "y1 is:  1\n",
            "y2 is:  2\n",
            "kwargs is:  {'y3': 3, 'y4': 4}\n"
          ]
        }
      ],
      "source": [
        "print_args_4('a', 'b', 'c', 'd', y1=1, y2=2, y3=3, y4=4)"
      ]
    },
    {
      "cell_type": "code",
      "execution_count": null,
      "metadata": {
        "colab": {
          "base_uri": "https://localhost:8080/",
          "height": 159
        },
        "id": "O26PFU9__uNI",
        "outputId": "43cddbcc-6a3d-4323-ef0d-01534a6b147f"
      },
      "outputs": [
        {
          "ename": "TypeError",
          "evalue": "print_args_4() missing 2 required positional arguments: 'x1' and 'x2'",
          "output_type": "error",
          "traceback": [
            "\u001b[0;31m---------------------------------------------------------------------------\u001b[0m",
            "\u001b[0;31mTypeError\u001b[0m                                 Traceback (most recent call last)",
            "\u001b[0;32m<ipython-input-83-f8b7b769cfbf>\u001b[0m in \u001b[0;36m<cell line: 0>\u001b[0;34m()\u001b[0m\n\u001b[1;32m      1\u001b[0m \u001b[0;31m# no longer valid\u001b[0m\u001b[0;34m\u001b[0m\u001b[0;34m\u001b[0m\u001b[0m\n\u001b[0;32m----> 2\u001b[0;31m \u001b[0mprint_args_4\u001b[0m\u001b[0;34m(\u001b[0m\u001b[0mx1\u001b[0m\u001b[0;34m=\u001b[0m\u001b[0;34m'a'\u001b[0m\u001b[0;34m,\u001b[0m \u001b[0mx2\u001b[0m\u001b[0;34m=\u001b[0m\u001b[0;34m'b'\u001b[0m\u001b[0;34m,\u001b[0m \u001b[0my1\u001b[0m\u001b[0;34m=\u001b[0m\u001b[0;36m1\u001b[0m\u001b[0;34m,\u001b[0m \u001b[0my2\u001b[0m\u001b[0;34m=\u001b[0m\u001b[0;36m2\u001b[0m\u001b[0;34m,\u001b[0m \u001b[0my3\u001b[0m\u001b[0;34m=\u001b[0m\u001b[0;36m3\u001b[0m\u001b[0;34m,\u001b[0m \u001b[0my4\u001b[0m\u001b[0;34m=\u001b[0m\u001b[0;36m4\u001b[0m\u001b[0;34m)\u001b[0m\u001b[0;34m\u001b[0m\u001b[0;34m\u001b[0m\u001b[0m\n\u001b[0m",
            "\u001b[0;31mTypeError\u001b[0m: print_args_4() missing 2 required positional arguments: 'x1' and 'x2'"
          ]
        }
      ],
      "source": [
        "# no longer valid\n",
        "print_args_4(x1='a', x2='b', y1=1, y2=2, y3=3, y4=4)"
      ]
    },
    {
      "cell_type": "markdown",
      "metadata": {
        "id": "oIR1SqQo-2eN"
      },
      "source": [
        "### Python's parameter ordering rule:\n",
        "\n",
        "We can mix ordinary parameters, `*args` (positional arguments), and `**kwargs` (keyword arguments) in a function's parameter specification, but they must appear in a particular order:\n",
        "\n",
        "- Parameters for positional matching (those without default values come first) > `/` > `*args` (captures additional positional arguments) > parameters for keyword matching > `**kwargs` (captures additional keyword arguments)\n",
        "\n",
        "- Amendment:  The rule that *parameters with default values can only follow those without default values* only applies to parameters for positional matching."
      ]
    },
    {
      "cell_type": "code",
      "execution_count": null,
      "metadata": {
        "colab": {
          "base_uri": "https://localhost:8080/"
        },
        "id": "7iJw0eYIAYAB",
        "outputId": "0c375eca-91cf-4a9a-e485-6f8a5c51d201"
      },
      "outputs": [
        {
          "name": "stdout",
          "output_type": "stream",
          "text": [
            "x1 is:  a\n",
            "x2 is:  b\n",
            "args is:  ('c', 'd')\n",
            "y1 is:  1\n",
            "y2 is:  2\n",
            "kwargs is:  {'y3': 3, 'y4': 4}\n"
          ]
        }
      ],
      "source": [
        "def print_args_5(x1, x2, /, *args, y1=1, y2, **kwargs):     # y1=1 can come before y2\n",
        "    print(\"x1 is: \", x1)\n",
        "    print(\"x2 is: \", x2)\n",
        "    print(\"args is: \", args)\n",
        "    print(\"y1 is: \", y1)\n",
        "    print(\"y2 is: \", y2)\n",
        "    print(\"kwargs is: \", kwargs)\n",
        "\n",
        "print_args_5('a', 'b', 'c', 'd', y3=3, y4=4, y2=2)"
      ]
    },
    {
      "cell_type": "code",
      "execution_count": null,
      "metadata": {
        "id": "33hIRfA64vz-"
      },
      "outputs": [],
      "source": [
        "def print_all_args(x1, x2='python', *args, y1='business', y2, **kwargs):\n",
        "    print(\"x1 is: \", x1)\n",
        "    print(\"x2 is: \", x2)\n",
        "    print(\"y1 is: \", y1)\n",
        "    print(\"y2 is: \", y2)\n",
        "    print(\"args is: \", args)\n",
        "    print(\"kwargs is: \", kwargs)"
      ]
    },
    {
      "cell_type": "code",
      "execution_count": null,
      "metadata": {
        "colab": {
          "base_uri": "https://localhost:8080/"
        },
        "id": "ivO0GZjsp2_i",
        "outputId": "062e861d-c98f-48cf-9c3c-00592b66e250"
      },
      "outputs": [
        {
          "name": "stdout",
          "output_type": "stream",
          "text": [
            "x1 is:  Ann\n",
            "x2 is:  cat\n",
            "y1 is:  science\n",
            "y2 is:  2019\n",
            "args is:  ('dog', 'pig')\n",
            "kwargs is:  {'day': 'Monday', 'date': 'May 6'}\n"
          ]
        }
      ],
      "source": [
        "print_all_args('Ann', 'cat', 'dog', 'pig', y1='science', y2='2019', day='Monday', date='May 6')"
      ]
    },
    {
      "cell_type": "code",
      "execution_count": null,
      "metadata": {
        "colab": {
          "base_uri": "https://localhost:8080/"
        },
        "id": "JUrlsGTAGtyo",
        "outputId": "51740a12-807f-4bf0-c683-016b3c4e23dc"
      },
      "outputs": [
        {
          "name": "stdout",
          "output_type": "stream",
          "text": [
            "x1 is:  Ann\n",
            "x2 is:  python\n",
            "y1 is:  finance\n",
            "y2 is:  2019\n",
            "args is:  ()\n",
            "kwargs is:  {}\n"
          ]
        }
      ],
      "source": [
        "print_all_args('Ann', y2='2019', y1=\"finance\")"
      ]
    },
    {
      "cell_type": "markdown",
      "metadata": {
        "id": "f7tL3P5ZQP7_"
      },
      "source": [
        "> Polling questions: https://www.menti.com/alnyjdo9wbd7"
      ]
    },
    {
      "cell_type": "markdown",
      "metadata": {
        "id": "TXNJbK6lHCmY"
      },
      "source": [
        "**<font color='steelblue' >Question</font>**:\n",
        "\n",
        "Write a function called `sort_letters` that satisfies the following requirements:\n",
        "\n",
        "- It can take a variable sequence of letters;\n",
        "\n",
        "- It supports an option called `order`, which defaults to `None`, returning a list of passed-in letters without changing their order;\n",
        "\n",
        "- If `order` is set to `'asc'`,  sort all letters in ascending order in the output;\n",
        "\n",
        "- If `order` is set to `'desc'`, sort all letters in descending order in the output.\n",
        "\n",
        "For example, the expected output of\n",
        "\n",
        "```python\n",
        "sort_letters('e', 'z', 'm', 'i', 'w', order='desc')\n",
        "```\n",
        "is\n",
        "\n",
        "```\n",
        "['z', 'w', 'm', 'i', 'e']\n",
        "\n",
        "```"
      ]
    },
    {
      "cell_type": "code",
      "execution_count": null,
      "metadata": {
        "colab": {
          "base_uri": "https://localhost:8080/"
        },
        "id": "PUnryDFvHIrZ",
        "outputId": "40708faa-53ea-4ff8-e2ff-090a9768f937"
      },
      "outputs": [
        {
          "data": {
            "text/plain": [
              "['z', 'w', 'm', 'i', 'e']"
            ]
          },
          "execution_count": 90,
          "metadata": {},
          "output_type": "execute_result"
        }
      ],
      "source": [
        "# write your code here\n",
        "def sort_letters(*letters, order = None):\n",
        "  if not order:\n",
        "    return letters\n",
        "  elif order == 'asc':\n",
        "    return sorted(letters)\n",
        "  elif order == 'desc':\n",
        "    return sorted(letters, reverse=True)\n",
        "  else:\n",
        "    return\n",
        "\n",
        "sort_letters('e', 'z', 'm', 'i', 'w', order='desc')"
      ]
    },
    {
      "cell_type": "markdown",
      "metadata": {
        "id": "P9xZCiRNgawS"
      },
      "source": [
        "## 1.6 Writing a Function's Docstring\n",
        "\n",
        "A function definition can include a **docstring** (short for **documentation string**) to describe what the function does and how it works.\n",
        "\n",
        "Function docstrings are placed immediately after the function header and between triple quotation marks:"
      ]
    },
    {
      "cell_type": "code",
      "execution_count": null,
      "metadata": {
        "id": "CmY-u9UKgdab"
      },
      "outputs": [],
      "source": [
        "def mean_v2(*elems):\n",
        "    '''Return the mean of a sequence of values.'''\n",
        "    if not elems: return 0\n",
        "    sumOfElems = 0; countOfElems = 0\n",
        "    for elem in elems:\n",
        "        sumOfElems += elem\n",
        "        countOfElems += 1\n",
        "    return sumOfElems / countOfElems"
      ]
    },
    {
      "cell_type": "markdown",
      "metadata": {
        "id": "oGUoXljRggE9"
      },
      "source": [
        "A function's docstring can be accessed using help():"
      ]
    },
    {
      "cell_type": "code",
      "execution_count": null,
      "metadata": {
        "colab": {
          "base_uri": "https://localhost:8080/"
        },
        "id": "R9bWumz0gidv",
        "outputId": "a59e2cd5-a2f1-4411-cf57-b1dee8ae2568"
      },
      "outputs": [
        {
          "name": "stdout",
          "output_type": "stream",
          "text": [
            "Help on function mean_v2 in module __main__:\n",
            "\n",
            "mean_v2(*elems)\n",
            "    Return the mean of a sequence of values.\n",
            "\n"
          ]
        }
      ],
      "source": [
        "help(mean_v2)"
      ]
    },
    {
      "cell_type": "markdown",
      "metadata": {
        "id": "XC90zdxn4v0j"
      },
      "source": [
        "\n",
        "\n",
        "<br>\n",
        "\n",
        "\n",
        "## 1.7 `lambda` Expressions\n",
        "\n",
        "\n",
        "Besides the `def` statement, Python provides an expression form to generate function objects, known as [`lambda` expressions](https://docs.python.org/3/reference/expressions.html#lambdas).\n",
        "\n",
        "`Lambda`function, also known as anonymous functions, can be considered a degenerate kind of functions, which don't have a name and carry only a ***single*** expression whose result is returned:\n",
        "\n",
        "\n",
        "<pre class='lang-python'>\n",
        "<span style=\"color:#2767C5\";>lambda</span> <span style=\"color:#BB2F29\";>&lt;parameter 1&gt;</span>, <span style=\"color:#BB2F29\";>&lt;parameter 2&gt;</span>, ...: <span style=\"color:#BB2F29\";>&lt;a single expression using parameters&gt;</span>\n",
        "</pre>"
      ]
    },
    {
      "cell_type": "code",
      "execution_count": null,
      "metadata": {
        "cell_style": "split",
        "id": "UzhYzsPS4v0j"
      },
      "outputs": [],
      "source": [
        "def multiply_v1(x, y=1):\n",
        "    return x * y"
      ]
    },
    {
      "cell_type": "markdown",
      "metadata": {
        "id": "UHY_Nu2Bpw_Y"
      },
      "source": [
        "We can transform the above function to a lambda expression."
      ]
    },
    {
      "cell_type": "code",
      "execution_count": null,
      "metadata": {
        "cell_style": "split",
        "colab": {
          "base_uri": "https://localhost:8080/"
        },
        "id": "5QRwUNw5AiR4",
        "outputId": "304b958e-de2d-47e9-bb31-e2b72da6ed46",
        "scrolled": true
      },
      "outputs": [
        {
          "data": {
            "text/plain": [
              "<function __main__.<lambda>(x, y=1)>"
            ]
          },
          "execution_count": 94,
          "metadata": {},
          "output_type": "execute_result"
        }
      ],
      "source": [
        "lambda x, y=1: x * y"
      ]
    },
    {
      "cell_type": "code",
      "execution_count": null,
      "metadata": {
        "colab": {
          "base_uri": "https://localhost:8080/"
        },
        "id": "VXqy75lmp09l",
        "outputId": "2910aece-e7fc-4b28-e02d-18864640ad68"
      },
      "outputs": [
        {
          "data": {
            "text/plain": [
              "function"
            ]
          },
          "execution_count": 95,
          "metadata": {},
          "output_type": "execute_result"
        }
      ],
      "source": [
        "type(lambda x, y=1: x * y)"
      ]
    },
    {
      "cell_type": "code",
      "execution_count": null,
      "metadata": {
        "colab": {
          "base_uri": "https://localhost:8080/"
        },
        "id": "zJaSMc0sEdJf",
        "outputId": "39754d87-5070-4a34-f8d6-617bc8b1c155"
      },
      "outputs": [
        {
          "data": {
            "text/plain": [
              "3"
            ]
          },
          "execution_count": 98,
          "metadata": {},
          "output_type": "execute_result"
        }
      ],
      "source": [
        "(lambda x, y=1: x * y)(3)"
      ]
    },
    {
      "cell_type": "code",
      "execution_count": null,
      "metadata": {
        "id": "dCwxQeMQ4v0m"
      },
      "outputs": [],
      "source": [
        "# can be embedded in an assignment statement to create a name for the function object\n",
        "multiply_v2 = lambda x, y=1: x * y"
      ]
    },
    {
      "cell_type": "code",
      "execution_count": null,
      "metadata": {
        "colab": {
          "base_uri": "https://localhost:8080/"
        },
        "id": "5qhsN1MX4v0n",
        "outputId": "2b5212d8-890b-43a7-f6a0-81648148940a"
      },
      "outputs": [
        {
          "data": {
            "text/plain": [
              "3"
            ]
          },
          "execution_count": 97,
          "metadata": {},
          "output_type": "execute_result"
        }
      ],
      "source": [
        "multiply_v2(3)"
      ]
    },
    {
      "cell_type": "markdown",
      "metadata": {
        "id": "p2fqAppFAiR-"
      },
      "source": [
        "\n",
        "**<font color='steelblue' > Question</font>**: Use `lambda` to implement the following formula:\n",
        "\n",
        "$$\n",
        "f(x) = x^2 + x + 5\n",
        "$$\n",
        "\n",
        "- Assign the name `f` to the resultant function;  \n",
        "\n",
        "- Test the lambda function with the following inputs: `f(4)`, `f(5)` and `f(7)`."
      ]
    },
    {
      "cell_type": "code",
      "execution_count": null,
      "metadata": {
        "colab": {
          "base_uri": "https://localhost:8080/"
        },
        "id": "Y96VLfu7AiR_",
        "outputId": "c92c8274-3354-4915-e739-7d71b1487463"
      },
      "outputs": [
        {
          "name": "stdout",
          "output_type": "stream",
          "text": [
            "25\n",
            "35\n",
            "61\n"
          ]
        }
      ],
      "source": [
        "# write your codes here\n",
        "f = lambda x: x**2 + x + 5\n",
        "print(f(4))\n",
        "print(f(5))\n",
        "print(f(7))"
      ]
    },
    {
      "cell_type": "markdown",
      "metadata": {
        "id": "Nh0q9vTu4v0q"
      },
      "source": [
        "The `lambda` expression is most useful as a concise shorthand for defining small, unnamed functions. It is often used in conjunction with other functions that take a function as a parameter\n",
        "\n",
        "Given a nested list representing a gradebook:"
      ]
    },
    {
      "cell_type": "code",
      "execution_count": null,
      "metadata": {
        "id": "R1QqtD0G4v0r"
      },
      "outputs": [],
      "source": [
        "gradebook = [['Troy', 92], ['Alice', 95], ['James', 89], ['Charles', 100], ['Bryn', 59]]"
      ]
    },
    {
      "cell_type": "markdown",
      "metadata": {
        "id": "JYiah2w04v0t"
      },
      "source": [
        "If we want to use `sorted()` to implement some sophisticated sorting, we can do so by defining a `lambda` function and passing it into a function call as the argument to `key` (Recall we have used sorted by making `key=int` to compare string numbers).\n",
        "\n",
        "<img src=\"https://raw.githubusercontent.com/justinjiajia/img/master/python/lambda_sort.png\" width=800/>"
      ]
    },
    {
      "cell_type": "code",
      "execution_count": null,
      "metadata": {
        "colab": {
          "base_uri": "https://localhost:8080/"
        },
        "id": "jwPNInmE4v0w",
        "outputId": "7fa25c71-c2c4-423c-9416-62e8bb7af2ae",
        "scrolled": true
      },
      "outputs": [
        {
          "data": {
            "text/plain": [
              "[['Bryn', 59], ['James', 89], ['Troy', 92], ['Alice', 95], ['Charles', 100]]"
            ]
          },
          "execution_count": 102,
          "metadata": {},
          "output_type": "execute_result"
        }
      ],
      "source": [
        "# sort sublists by their second elements\n",
        "sorted(gradebook, key=lambda x: x[1])"
      ]
    },
    {
      "cell_type": "markdown",
      "metadata": {
        "id": "HYGL-KuVrfC8"
      },
      "source": [
        "*Exercise:* What codes you should write if you want to sort students by the first character of their names? Combining the `key` parameter and `lambda` function to do that."
      ]
    },
    {
      "cell_type": "code",
      "execution_count": null,
      "metadata": {
        "colab": {
          "base_uri": "https://localhost:8080/"
        },
        "id": "JTDmUQsZrf8W",
        "outputId": "7021adab-7c85-4dd8-a6fc-566e750706ca"
      },
      "outputs": [
        {
          "data": {
            "text/plain": [
              "[['Alice', 95], ['Bryn', 59], ['Charles', 100], ['James', 89], ['Troy', 92]]"
            ]
          },
          "execution_count": 103,
          "metadata": {},
          "output_type": "execute_result"
        }
      ],
      "source": [
        "# write your codes here\n",
        "sorted(gradebook, key=lambda x: x[0])"
      ]
    },
    {
      "cell_type": "markdown",
      "metadata": {
        "id": "jVNeP_B0FXWP"
      },
      "source": [
        "**<font color='steelblue' > Question</font>**:\n",
        "\n",
        "1) What if we want to sort the gradebook by score range in descending order (e.g., 10-point ranges such as 91-100, 81-90, and so on)??\n",
        "\n",
        "The expected output is:\n",
        "\n",
        "```\n",
        "[['Troy', 92], ['Alice', 95], ['Charles', 99],\n",
        " ['James', 89], ['Mike', 86],\n",
        " ['Bryn', 59]]\n",
        "```"
      ]
    },
    {
      "cell_type": "code",
      "execution_count": 14,
      "metadata": {
        "colab": {
          "base_uri": "https://localhost:8080/"
        },
        "id": "xackotSNFkiX",
        "outputId": "58fe99d5-10fb-46ab-a83c-5ded4e2bfb05"
      },
      "outputs": [
        {
          "data": {
            "text/plain": [
              "[['Troy', 92],\n",
              " ['Alice', 95],\n",
              " ['Charles', 99],\n",
              " ['James', 89],\n",
              " ['Mike', 86],\n",
              " ['Bryn', 59]]"
            ]
          },
          "execution_count": 14,
          "metadata": {},
          "output_type": "execute_result"
        }
      ],
      "source": [
        "gradebook = [['Troy', 92], ['Alice', 95], ['James', 89], ['Charles', 99], ['Mike', 86], ['Bryn', 59]]\n",
        "\n",
        "# write your codes here\n",
        "sorted(gradebook, key=lambda x: x[1]//10, reverse = True)"
      ]
    },
    {
      "cell_type": "markdown",
      "metadata": {
        "id": "DTCQVBk4G67w"
      },
      "source": [
        "2) What if we want to further sort students by name in ascending order within each range?\n",
        "\n",
        "The expected output is:\n",
        "\n",
        "```\n",
        "[['Alice', 95], ['Charles', 99], ['Troy', 92],\n",
        " ['James', 89], ['Mike', 86],\n",
        " ['Bryn', 59]]\n",
        "```"
      ]
    },
    {
      "cell_type": "code",
      "execution_count": 16,
      "metadata": {
        "colab": {
          "base_uri": "https://localhost:8080/"
        },
        "id": "2gJgrVeTG9tz",
        "outputId": "a571f553-76bb-4b0e-8dee-14b316c1a669"
      },
      "outputs": [
        {
          "data": {
            "text/plain": [
              "[['Alice', 95],\n",
              " ['Charles', 99],\n",
              " ['Troy', 92],\n",
              " ['James', 89],\n",
              " ['Mike', 86],\n",
              " ['Bryn', 59]]"
            ]
          },
          "execution_count": 16,
          "metadata": {},
          "output_type": "execute_result"
        }
      ],
      "source": [
        "# write your codes here\n",
        "sorted(gradebook, key=lambda x: (-x[1]//10, x[0]))"
      ]
    },
    {
      "cell_type": "markdown",
      "metadata": {
        "id": "eGnFlQwjp2_o"
      },
      "source": [
        "\n",
        "**<font color='steelblue' > Challenging Exercise</font>**:\n",
        "\n",
        "Given a nested list representing gradebooks of different courses:\n",
        "```python\n",
        "gradebooks = [[['Troy', 92], ['Alice', 95]], [['James', 89], ['Charles', 100], ['Bryn', 59]]]\n",
        "```\n",
        "\n",
        "- Using the built-in `sorted()` function, write code to sort courses by course mean. The expected output is\n",
        "\n",
        "```python\n",
        "[[['James', 89], ['Charles', 100], ['Bryn', 59]], [['Troy', 92], ['Alice', 95]]]\n",
        "```\n",
        "\n",
        "Hint:\n",
        "1. the key for the sorted() should be the mean grade for each course.\n",
        "2. the mean grade can be obtained by using list comprehension."
      ]
    },
    {
      "cell_type": "code",
      "execution_count": null,
      "metadata": {
        "colab": {
          "base_uri": "https://localhost:8080/"
        },
        "id": "T_OltNhdsKIU",
        "outputId": "0f214006-b88b-4f38-dd0f-7607c0d9abf9"
      },
      "outputs": [
        {
          "data": {
            "text/plain": [
              "[[['James', 89], ['Charles', 100], ['Bryn', 59]],\n",
              " [['Troy', 92], ['Alice', 95]]]"
            ]
          },
          "execution_count": 108,
          "metadata": {},
          "output_type": "execute_result"
        }
      ],
      "source": [
        "gradebooks = [[['Troy', 92], ['Alice', 95]], [['James', 89], ['Charles', 100], ['Bryn', 59]]]\n",
        "# write your codes here\n",
        "sorted(gradebooks, key = lambda x : sum([score for name, score in x])/len(x))"
      ]
    },
    {
      "cell_type": "markdown",
      "metadata": {
        "id": "fs4ZxPTx4v1M"
      },
      "source": [
        "\n",
        "<br>\n",
        "\n",
        "# 2 Classes\n",
        "\n",
        "We've seen various types of objects, such as the `int`, `str`, `list`, `tuple`, and `dict`:"
      ]
    },
    {
      "cell_type": "code",
      "execution_count": null,
      "metadata": {
        "cell_style": "split",
        "colab": {
          "base_uri": "https://localhost:8080/"
        },
        "id": "Gm3nx9QtQFOp",
        "outputId": "0341f3aa-7182-44ac-fb86-e411932e1942"
      },
      "outputs": [
        {
          "data": {
            "text/plain": [
              "int"
            ]
          },
          "execution_count": 109,
          "metadata": {},
          "output_type": "execute_result"
        }
      ],
      "source": [
        "type(1)"
      ]
    },
    {
      "cell_type": "code",
      "execution_count": null,
      "metadata": {
        "cell_style": "split",
        "colab": {
          "base_uri": "https://localhost:8080/"
        },
        "id": "VpikAVMMQFOp",
        "outputId": "ae043b84-5b0c-464e-c970-7518b79ad15c"
      },
      "outputs": [
        {
          "data": {
            "text/plain": [
              "str"
            ]
          },
          "execution_count": 110,
          "metadata": {},
          "output_type": "execute_result"
        }
      ],
      "source": [
        "type('cat')"
      ]
    },
    {
      "cell_type": "code",
      "execution_count": null,
      "metadata": {
        "colab": {
          "base_uri": "https://localhost:8080/"
        },
        "id": "DsGMXl3ZScpP",
        "outputId": "2fe3a12c-ea8b-4d52-d7f6-7c6d00316810"
      },
      "outputs": [
        {
          "data": {
            "text/plain": [
              "list"
            ]
          },
          "execution_count": 111,
          "metadata": {},
          "output_type": "execute_result"
        }
      ],
      "source": [
        "type([1, 2, 3])"
      ]
    },
    {
      "cell_type": "code",
      "execution_count": null,
      "metadata": {
        "id": "2AP8XJ2Y4v1M"
      },
      "outputs": [],
      "source": [
        "a = list()            # create a list object that is empty\n",
        "b = list('abc')       # create a list object that is empty containing 'a', 'b', and 'c'\n",
        "c = tuple('xyz')      # create a tuple object containing 'x', 'y', and 'z'\n",
        "d = 'abc'"
      ]
    },
    {
      "cell_type": "markdown",
      "metadata": {
        "id": "-qJrnjpY4v1O"
      },
      "source": [
        "We've seen that the same type of objects share common behaviors realized through methods:"
      ]
    },
    {
      "cell_type": "code",
      "execution_count": null,
      "metadata": {
        "cell_style": "split",
        "id": "TEcKLrgi4v1O"
      },
      "outputs": [],
      "source": [
        "a.append(1)"
      ]
    },
    {
      "cell_type": "code",
      "execution_count": null,
      "metadata": {
        "cell_style": "split",
        "id": "EwFFZP-V4v1R"
      },
      "outputs": [],
      "source": [
        "b.append(2)"
      ]
    },
    {
      "cell_type": "code",
      "execution_count": null,
      "metadata": {
        "cell_style": "split",
        "colab": {
          "base_uri": "https://localhost:8080/",
          "height": 35
        },
        "id": "QL_DFjnu4v1S",
        "outputId": "67ebd668-c802-4ac5-9142-7ff4748e53e3"
      },
      "outputs": [
        {
          "data": {
            "application/vnd.google.colaboratory.intrinsic+json": {
              "type": "string"
            },
            "text/plain": [
              "'Abc'"
            ]
          },
          "execution_count": 115,
          "metadata": {},
          "output_type": "execute_result"
        }
      ],
      "source": [
        "d.capitalize()  # capitalize() method converts the first character of a string to an uppercase letter and all other alphabets to lowercase."
      ]
    },
    {
      "cell_type": "code",
      "execution_count": null,
      "metadata": {
        "cell_style": "split",
        "colab": {
          "base_uri": "https://localhost:8080/",
          "height": 35
        },
        "id": "E4DftKRO4v1T",
        "outputId": "5f443c33-86a8-4e39-e21a-11912f97970e"
      },
      "outputs": [
        {
          "data": {
            "application/vnd.google.colaboratory.intrinsic+json": {
              "type": "string"
            },
            "text/plain": [
              "'Xyz'"
            ]
          },
          "execution_count": 116,
          "metadata": {},
          "output_type": "execute_result"
        }
      ],
      "source": [
        "'xyz'.capitalize()"
      ]
    },
    {
      "cell_type": "code",
      "execution_count": null,
      "metadata": {
        "colab": {
          "base_uri": "https://localhost:8080/",
          "height": 141
        },
        "id": "QRPx8B5LQFOr",
        "outputId": "4c3c1734-accb-4997-89ce-670a9e884e25"
      },
      "outputs": [
        {
          "ename": "AttributeError",
          "evalue": "'list' object has no attribute 'capitalize'",
          "output_type": "error",
          "traceback": [
            "\u001b[0;31m---------------------------------------------------------------------------\u001b[0m",
            "\u001b[0;31mAttributeError\u001b[0m                            Traceback (most recent call last)",
            "\u001b[0;32m<ipython-input-117-9b95db23867e>\u001b[0m in \u001b[0;36m<cell line: 0>\u001b[0;34m()\u001b[0m\n\u001b[0;32m----> 1\u001b[0;31m \u001b[0ma\u001b[0m\u001b[0;34m.\u001b[0m\u001b[0mcapitalize\u001b[0m\u001b[0;34m(\u001b[0m\u001b[0;34m)\u001b[0m\u001b[0;34m\u001b[0m\u001b[0;34m\u001b[0m\u001b[0m\n\u001b[0m",
            "\u001b[0;31mAttributeError\u001b[0m: 'list' object has no attribute 'capitalize'"
          ]
        }
      ],
      "source": [
        "a.capitalize()"
      ]
    },
    {
      "cell_type": "markdown",
      "metadata": {
        "id": "un42Ul5A4v1U"
      },
      "source": [
        "What if we want to create new types of objects that possess certain **properties** and **behaviors** (e.g., customers)?\n",
        "\n",
        "Python provides a programming construct known as a *class* to define new types of objects (Conceptually, the term \"class\" is synonymous with the term \"type\").\n",
        "\n",
        "Just like functions, Python classes are another compartment ***for packaging logic and data***.\n",
        "\n",
        "<br>\n",
        "\n",
        "**Classes** are Python's main ***object-oriented programming*** (OOP) tool.\n",
        "- In OOP, **objects** are instances of **classes**, and they represent real-world entities or abstractions. Classes provide the blueprint or template to create such objects, encapsulating both **data (attributes)** and **behavior (methods)**. This allows code to be organized in a modular, reusable, and scalable way.\n",
        "\n"
      ]
    },
    {
      "cell_type": "markdown",
      "metadata": {
        "id": "1hA5PnJbxy_i"
      },
      "source": [
        "\n",
        "<br>\n",
        "\n",
        "## 2.1 Defining a Class\n",
        "\n",
        "Imagine we want to define a new type of object to represent individual customers for a bank's personal loan business.\n",
        "\n",
        "**Common properties**:\n",
        "\n",
        "\n",
        "| Name |  Income | Years | Criminal |  \n",
        "|-----|-----|-----|-----|\n",
        "| Amy | 27 |4.2 |  No |  \n",
        "| Sam | 32 |1.5 |  No |  \n",
        "| Jane | 55 | 3.5  | Yes |\n",
        "|...|\n",
        "\n",
        "\n",
        "**Common operations**: A routine determines whether to grant a loan to a customer.\n",
        "\n",
        "<br>\n",
        "\n",
        "[The `class` statement](https://docs.python.org/3.7/reference/compound_stmts.html#class-definitions) creates a class object and assigns it a name.\n",
        "\n",
        "The body of a class is where we specify the attributes of the class, including both data and method attributes.\n"
      ]
    },
    {
      "cell_type": "code",
      "execution_count": 17,
      "metadata": {
        "id": "umYVV0l54v1U"
      },
      "outputs": [],
      "source": [
        "class Customer:  # names for user-defined classes begin with uppercase letters by convention\n",
        "    '''A class for bank customers.'''\n",
        "\n",
        "    def __init__(self, name, income, years, criminal='No'):\n",
        "        '''populate the attributes of a particular customer'''\n",
        "        self.name = name                   # assignments to attributes of self\n",
        "        self.income = income\n",
        "        self.years = years\n",
        "        self.criminal = criminal\n",
        "\n",
        "    def apply_loan(self):                  # a function attribute, a.k.a. a method of the class\n",
        "        if self.income >= 70:\n",
        "            result = 'Approve'\n",
        "        elif self.income >= 30:\n",
        "            if self.years >= 2:\n",
        "                result = 'Approve'\n",
        "            else:result = 'Reject'\n",
        "        else:\n",
        "            if self.criminal == \"No\":\n",
        "                result = 'Approve'\n",
        "            else: result = 'Reject'\n",
        "        return result"
      ]
    },
    {
      "cell_type": "code",
      "execution_count": 18,
      "metadata": {
        "colab": {
          "base_uri": "https://localhost:8080/",
          "height": 103
        },
        "id": "1gRZQClk4zzp",
        "outputId": "2fa27ed3-9de1-45fe-fd78-a484c1dd11ff"
      },
      "outputs": [
        {
          "data": {
            "text/plain": [
              "__main__.Customer"
            ]
          },
          "execution_count": 18,
          "metadata": {},
          "output_type": "execute_result"
        }
      ],
      "source": [
        "Customer"
      ]
    },
    {
      "cell_type": "markdown",
      "metadata": {
        "id": "gL1ELdyUUJs8"
      },
      "source": [
        "- Common properties that may vary across different customer objects are defined through assignments inside an initializer (i.e., a specially named function `__init__()`). <a href=\"https://docs.python.org/3/reference/datamodel.html#object.__init__\">__init__()</a> (called the initializer) is one of <a href=\"https://docs.python.org/3/reference/datamodel.html#special-method-names\">special methods</a> reserved by Python, and called automatically each time an instance is created. Special method names (begin and end with __ pronounced as \"dunder\") are ubiquitous in Python, and used for certain operations that are invoked by special syntax.\n",
        "\n",
        "- Common operations are defined through function definitions within the class definition.\n",
        "\n",
        "\n"
      ]
    },
    {
      "cell_type": "markdown",
      "metadata": {
        "id": "Cx1Y4ukC4v1V"
      },
      "source": [
        "A class object is essentially a wrapper around a new namespace, created when a class definition is executed.\n",
        "\n",
        "This new namespace is populated with ***all names created by the top-level assignments*** (i.e., `def`s and regular assignments) inside the class definition and several special names automatically created by Python.\n",
        "<br>\n",
        "\n",
        "<img src=\"https://raw.githubusercontent.com/justinjiajia/img/master/python/class.png\" width=600/>\n",
        "\n",
        "\n",
        "\n"
      ]
    },
    {
      "cell_type": "markdown",
      "metadata": {
        "id": "eWSuzOo4OdpS"
      },
      "source": [
        "Because these names exist in that class object rather than the global namespace, they can only be accessed by referencing the class object. That's why they are regarded as the **attributes of the class**, and the dot notation is called the **attribute reference notation** in Python."
      ]
    },
    {
      "cell_type": "code",
      "execution_count": 19,
      "metadata": {
        "colab": {
          "base_uri": "https://localhost:8080/",
          "height": 103
        },
        "id": "_zP3RgfZVhu8",
        "outputId": "29f15624-895d-4b0b-f55e-f2dda0f1464a"
      },
      "outputs": [
        {
          "data": {
            "text/plain": [
              "<function __main__.Customer.__init__(self, name, income, years, criminal='No')>"
            ]
          },
          "execution_count": 19,
          "metadata": {},
          "output_type": "execute_result"
        }
      ],
      "source": [
        "Customer.__init__"
      ]
    },
    {
      "cell_type": "code",
      "execution_count": null,
      "metadata": {
        "colab": {
          "base_uri": "https://localhost:8080/",
          "height": 103
        },
        "id": "ow9Nj6PnNKhF",
        "outputId": "f39daa9f-fee8-4ad9-da94-bafc7bf2db61"
      },
      "outputs": [
        {
          "data": {
            "text/html": [
              "<div style=\"max-width:800px; border: 1px solid var(--colab-border-color);\"><style>\n",
              "      pre.function-repr-contents {\n",
              "        overflow-x: auto;\n",
              "        padding: 8px 12px;\n",
              "        max-height: 500px;\n",
              "      }\n",
              "\n",
              "      pre.function-repr-contents.function-repr-contents-collapsed {\n",
              "        cursor: pointer;\n",
              "        max-height: 100px;\n",
              "      }\n",
              "    </style>\n",
              "    <pre style=\"white-space: initial; background:\n",
              "         var(--colab-secondary-surface-color); padding: 8px 12px;\n",
              "         border-bottom: 1px solid var(--colab-border-color);\"><b>Customer.apply_loan</b><br/>def apply_loan()</pre><pre class=\"function-repr-contents function-repr-contents-collapsed\" style=\"\"><a class=\"filepath\" style=\"display:none\" href=\"#\">/content/&lt;ipython-input-118-b1a270c78e13&gt;</a>&lt;no docstring&gt;</pre></div>"
            ],
            "text/plain": [
              "<function __main__.Customer.apply_loan(self)>"
            ]
          },
          "execution_count": 120,
          "metadata": {},
          "output_type": "execute_result"
        }
      ],
      "source": [
        "Customer.apply_loan   # class methods are just functions defined inside the class"
      ]
    },
    {
      "cell_type": "code",
      "execution_count": null,
      "metadata": {
        "colab": {
          "base_uri": "https://localhost:8080/",
          "height": 35
        },
        "id": "0PASqsckNPBK",
        "outputId": "b2c21f1f-7bcc-4e00-ab9a-8f22241fc2d8"
      },
      "outputs": [
        {
          "data": {
            "application/vnd.google.colaboratory.intrinsic+json": {
              "type": "string"
            },
            "text/plain": [
              "'A class for bank customers.'"
            ]
          },
          "execution_count": 121,
          "metadata": {},
          "output_type": "execute_result"
        }
      ],
      "source": [
        "Customer.__doc__   # a special attribute of a class that contains the object's docstring"
      ]
    },
    {
      "cell_type": "markdown",
      "metadata": {
        "id": "p-_i4Lus5J95"
      },
      "source": [
        "\n",
        "Names in a class's namespace can be exposed by the built-in `__dict__` attribute:"
      ]
    },
    {
      "cell_type": "code",
      "execution_count": null,
      "metadata": {
        "colab": {
          "base_uri": "https://localhost:8080/"
        },
        "id": "eVpmKd905JL2",
        "outputId": "ec279357-af7d-48ef-8270-3524d4e92956"
      },
      "outputs": [
        {
          "data": {
            "text/plain": [
              "mappingproxy({'__module__': '__main__',\n",
              "              '__doc__': 'A class for bank customers.',\n",
              "              '__init__': <function __main__.Customer.__init__(self, name, income, years, criminal='No')>,\n",
              "              'apply_loan': <function __main__.Customer.apply_loan(self)>,\n",
              "              '__dict__': <attribute '__dict__' of 'Customer' objects>,\n",
              "              '__weakref__': <attribute '__weakref__' of 'Customer' objects>})"
            ]
          },
          "execution_count": 125,
          "metadata": {},
          "output_type": "execute_result"
        }
      ],
      "source": [
        "Customer.__dict__"
      ]
    },
    {
      "cell_type": "markdown",
      "metadata": {
        "id": "fgzVNwt24v1Z"
      },
      "source": [
        "\n",
        "<br>\n",
        "\n",
        "## 2.2 Instantiating a Class\n",
        "\n",
        "A class provides the specification of a user-defined type, and serves as the template from which its instances can be created..\n",
        "\n",
        "\n",
        "<img src=\"https://raw.githubusercontent.com/justinjiajia/img/master/python/class_instance_macbook_air.png\" width=1000/>\n",
        "\n",
        "\n",
        "Calling a **class object** like a function makes a new **instance object**:"
      ]
    },
    {
      "cell_type": "code",
      "execution_count": 21,
      "metadata": {
        "cell_style": "split",
        "colab": {
          "base_uri": "https://localhost:8080/"
        },
        "id": "L7wJRKaN4v1a",
        "outputId": "c8298624-10ed-417a-88d5-cbebb8f71c53"
      },
      "outputs": [
        {
          "data": {
            "text/plain": [
              "<__main__.Customer at 0x2c771b8b5c0>"
            ]
          },
          "execution_count": 21,
          "metadata": {},
          "output_type": "execute_result"
        }
      ],
      "source": [
        "customer_1 = Customer(\"Amy\", 27, 4.2)\n",
        "customer_1"
      ]
    },
    {
      "cell_type": "code",
      "execution_count": 22,
      "metadata": {
        "cell_style": "split",
        "colab": {
          "base_uri": "https://localhost:8080/"
        },
        "id": "TFoPOw99AiTL",
        "outputId": "55d76701-7ed5-4d49-d719-17cf7bcb6b0b"
      },
      "outputs": [
        {
          "data": {
            "text/plain": [
              "<__main__.Customer at 0x2c771e65940>"
            ]
          },
          "execution_count": 22,
          "metadata": {},
          "output_type": "execute_result"
        }
      ],
      "source": [
        "customer_2 = Customer(\"Sam\", 32, 1.5, \"Yes\")\n",
        "customer_2"
      ]
    },
    {
      "cell_type": "markdown",
      "metadata": {
        "id": "je41oq_R4v1f"
      },
      "source": [
        "- The instantiation operation first creates an empty **instance** of the class. Let's refer to it as `new_instance`;\n",
        "\n",
        "- Python then invokes `new_instance.__init__(\"Sam\", 32, 1.5, \"Yes\")`\n",
        "to initialize it to a specific **initial state**.\n",
        "<pre class=\"lang-python\">\n",
        "<span style=\"color: #007c00\";>def</span> <span style=\"color:#0b13ff\">__init__</span>(self, name, income, years, criminal<span style=\"color: #a827fe\">=</span><span style=\"color:#c44f49;\">\"No\"</span>):</span>\n",
        "     <span style=\"color:#c44f49\";>'''populate the attributes of a particular customer'''</span>\n",
        "     \n",
        "     <span style=\"color:#555555;\">self.name <span style=\"color: #a827fe\">=</span> name</span>\n",
        "     <span style=\"color:#555555;\">self.income <span style=\"color: #a827fe\">=</span> income</span>\n",
        "     <span style=\"color:#555555;\">self.years <span style=\"color: #a827fe\">=</span> years</span>\n",
        "     <span style=\"color:#555555;\">self.criminal <span style=\"color: #a827fe\">=</span> criminal</span>\n",
        "</pre>\n",
        "    \n",
        "    -  The 1st parameter (named `self` by convention) is special and used to take the instance from which the corresponding method is being called.  \n",
        "\n",
        "<img src=\"https://raw.githubusercontent.com/justinjiajia/img/master/python/instance_initialization.png\" width=1200/>\n",
        "\n",
        "\n",
        "\n",
        "\n",
        "\n",
        "     \n"
      ]
    },
    {
      "cell_type": "markdown",
      "metadata": {
        "id": "QGJpHz6zQFOt"
      },
      "source": [
        "\n",
        "  \n",
        "- Each instance object created from a class gets its own namespace.\n",
        "\n",
        "    - Assignments to attributes of `self` create ***instance-level*** attributes (differ from instance to instance).\n",
        "\n",
        "\n",
        "\n",
        "<img src=\"https://raw.githubusercontent.com/justinjiajia/img/master/python/instance.png\" width=650/>\n",
        "\n",
        "\n",
        "\n"
      ]
    },
    {
      "cell_type": "code",
      "execution_count": 23,
      "metadata": {
        "cell_style": "split",
        "colab": {
          "base_uri": "https://localhost:8080/"
        },
        "id": "TrTqqHSCAiTW",
        "outputId": "65a7b242-5ae0-4ff0-e7bc-948483a09905"
      },
      "outputs": [
        {
          "data": {
            "text/plain": [
              "('Amy', 27, 4.2, 'No')"
            ]
          },
          "execution_count": 23,
          "metadata": {},
          "output_type": "execute_result"
        }
      ],
      "source": [
        "# instance-level attributes\n",
        "customer_1.name, customer_1.income, customer_1.years, customer_1.criminal"
      ]
    },
    {
      "cell_type": "code",
      "execution_count": 24,
      "metadata": {
        "cell_style": "split",
        "colab": {
          "base_uri": "https://localhost:8080/"
        },
        "id": "RFLsooll4v1l",
        "outputId": "5b68ec44-cbab-4a77-b78a-c293517f5a6a"
      },
      "outputs": [
        {
          "data": {
            "text/plain": [
              "('Sam', 32, 1.5, 'Yes')"
            ]
          },
          "execution_count": 24,
          "metadata": {},
          "output_type": "execute_result"
        }
      ],
      "source": [
        "customer_2.name, customer_2.income, customer_2.years, customer_2.criminal"
      ]
    },
    {
      "cell_type": "markdown",
      "metadata": {
        "id": "RJY7RN484v1m"
      },
      "source": [
        "\n",
        "\n",
        "- Instance objects also inherit attributes that live in the class objects from which they were generated:\n"
      ]
    },
    {
      "cell_type": "code",
      "execution_count": 25,
      "metadata": {
        "colab": {
          "base_uri": "https://localhost:8080/",
          "height": 35
        },
        "id": "PH6y-AJE4v1n",
        "outputId": "fb556885-0123-470d-aea0-6d8caf5b1ae4"
      },
      "outputs": [
        {
          "data": {
            "text/plain": [
              "'A class for bank customers.'"
            ]
          },
          "execution_count": 25,
          "metadata": {},
          "output_type": "execute_result"
        }
      ],
      "source": [
        "# class-level data attributes\n",
        "customer_1.__doc__"
      ]
    },
    {
      "cell_type": "code",
      "execution_count": null,
      "metadata": {
        "colab": {
          "base_uri": "https://localhost:8080/",
          "height": 35
        },
        "id": "zgnmkJIIQFOv",
        "outputId": "74888319-a7b5-4a29-9064-a267207f23fc"
      },
      "outputs": [
        {
          "data": {
            "application/vnd.google.colaboratory.intrinsic+json": {
              "type": "string"
            },
            "text/plain": [
              "'A class for bank customers.'"
            ]
          },
          "execution_count": 132,
          "metadata": {},
          "output_type": "execute_result"
        }
      ],
      "source": [
        "customer_2.__doc__"
      ]
    },
    {
      "cell_type": "code",
      "execution_count": 26,
      "metadata": {
        "colab": {
          "base_uri": "https://localhost:8080/",
          "height": 35
        },
        "id": "uPkbR7nc80dd",
        "outputId": "d83ffb73-9671-4b6c-926e-23d9897cc3c5"
      },
      "outputs": [
        {
          "data": {
            "text/plain": [
              "'Approve'"
            ]
          },
          "execution_count": 26,
          "metadata": {},
          "output_type": "execute_result"
        }
      ],
      "source": [
        "# class-level method attributes\n",
        "# the instance is implicitly passed as the argument to self\n",
        "customer_1.apply_loan()"
      ]
    },
    {
      "cell_type": "code",
      "execution_count": 27,
      "metadata": {
        "colab": {
          "base_uri": "https://localhost:8080/",
          "height": 35
        },
        "id": "D3F0iDaN8OAn",
        "outputId": "23803dd0-a1a5-43f3-b278-9e0df22cbdd1"
      },
      "outputs": [
        {
          "data": {
            "text/plain": [
              "'Reject'"
            ]
          },
          "execution_count": 27,
          "metadata": {},
          "output_type": "execute_result"
        }
      ],
      "source": [
        "customer_2.apply_loan()"
      ]
    },
    {
      "cell_type": "markdown",
      "metadata": {
        "id": "owlEHgjx38MM"
      },
      "source": [
        "Both class-level attributes and instance-level attributes can be added on the fly via assignments with qualified names:"
      ]
    },
    {
      "cell_type": "code",
      "execution_count": 28,
      "metadata": {
        "id": "qNkfeMl33-O_"
      },
      "outputs": [],
      "source": [
        "Customer.description = 'Customers of personal loan products'"
      ]
    },
    {
      "cell_type": "code",
      "execution_count": 29,
      "metadata": {
        "colab": {
          "base_uri": "https://localhost:8080/",
          "height": 35
        },
        "id": "OuQwfvOU4Aux",
        "outputId": "e52e1150-1da2-4c81-f94e-60f8560e55a0"
      },
      "outputs": [
        {
          "data": {
            "text/plain": [
              "'Customers of personal loan products'"
            ]
          },
          "execution_count": 29,
          "metadata": {},
          "output_type": "execute_result"
        }
      ],
      "source": [
        "customer_1.description"
      ]
    },
    {
      "cell_type": "code",
      "execution_count": null,
      "metadata": {
        "colab": {
          "base_uri": "https://localhost:8080/",
          "height": 35
        },
        "id": "45tispca4Cm3",
        "outputId": "7a00c755-4f5d-4108-95cf-ecd389d6cabf"
      },
      "outputs": [
        {
          "data": {
            "application/vnd.google.colaboratory.intrinsic+json": {
              "type": "string"
            },
            "text/plain": [
              "'Customers of personal loan products'"
            ]
          },
          "execution_count": 137,
          "metadata": {},
          "output_type": "execute_result"
        }
      ],
      "source": [
        "customer_2.description"
      ]
    },
    {
      "cell_type": "code",
      "execution_count": 31,
      "metadata": {
        "id": "WxNiCa9h4ILs"
      },
      "outputs": [],
      "source": [
        "# We can also include it as part of the class definition\n",
        "class Customer:\n",
        "    '''A class for bank customers.'''\n",
        "\n",
        "    description = 'Customers of personal loan products'              # use a regular assignment to do so\n",
        "\n",
        "    def __init__(self, name, income, years, criminal='No'):\n",
        "        '''populate the attributes of a particular customer'''\n",
        "        self.name = name\n",
        "        self.income = income\n",
        "        self.years = years\n",
        "        self.criminal = criminal\n",
        "\n",
        "    def apply_loan(self):\n",
        "        if self.income >= 70:\n",
        "            result = 'Approve'\n",
        "        elif self.income >= 30:\n",
        "            if self.years >= 2:\n",
        "                result = 'Approve'\n",
        "            else:result = 'Reject'\n",
        "        else:\n",
        "            if self.criminal == \"No\":\n",
        "                result = 'Approve'\n",
        "            else: result = 'Reject'\n",
        "        return result"
      ]
    },
    {
      "cell_type": "markdown",
      "metadata": {
        "id": "mSk9sRlECJml"
      },
      "source": [
        "*Exercise*: What does the following code output?\n",
        "\n",
        "```Python\n",
        "class People:\n",
        "\n",
        "    def __init__(self, name=\"Unknown\"):\n",
        "      self.name = name\n",
        "\n",
        "    def namePrint(self):\n",
        "      print(self.name)\n",
        "\n",
        "person1 = People(\"Sally\")\n",
        "person2 = People()\n",
        "person2.namePrint()\n",
        "```"
      ]
    },
    {
      "cell_type": "markdown",
      "metadata": {
        "id": "Qja3RAKqwtyI"
      },
      "source": [
        "## 2.3 Class Attributes vs. Instance Attributes\n",
        "\n",
        "Generally speaking, instance attributes are for data unique to each instance (defined inside the `__init__()` function) and class attributes are for things shared by all instances of the class.\n"
      ]
    },
    {
      "cell_type": "code",
      "execution_count": null,
      "metadata": {
        "colab": {
          "base_uri": "https://localhost:8080/"
        },
        "id": "MDDGxeA0xL_L",
        "outputId": "31827347-b461-41ee-89f2-f9d2df7b7ccd"
      },
      "outputs": [
        {
          "data": {
            "text/plain": [
              "mappingproxy({'__module__': '__main__',\n",
              "              '__doc__': 'A class for bank customers.',\n",
              "              'description': 'Customers of personal loan products',\n",
              "              '__init__': <function __main__.Customer.__init__(self, name, income, years, criminal='No')>,\n",
              "              'apply_loan': <function __main__.Customer.apply_loan(a)>,\n",
              "              '__dict__': <attribute '__dict__' of 'Customer' objects>,\n",
              "              '__weakref__': <attribute '__weakref__' of 'Customer' objects>})"
            ]
          },
          "execution_count": 139,
          "metadata": {},
          "output_type": "execute_result"
        }
      ],
      "source": [
        "Customer.__dict__"
      ]
    },
    {
      "cell_type": "code",
      "execution_count": 33,
      "metadata": {
        "colab": {
          "base_uri": "https://localhost:8080/"
        },
        "id": "hptIG3agxQAM",
        "outputId": "cc00f2d6-2cab-4cda-8dd4-1c41348713ad"
      },
      "outputs": [
        {
          "data": {
            "text/plain": [
              "{'name': 'Amy', 'income': 27, 'years': 4.2, 'criminal': 'No'}"
            ]
          },
          "execution_count": 33,
          "metadata": {},
          "output_type": "execute_result"
        }
      ],
      "source": [
        "customer_1.__dict__"
      ]
    },
    {
      "cell_type": "code",
      "execution_count": 34,
      "metadata": {
        "colab": {
          "base_uri": "https://localhost:8080/"
        },
        "id": "HBHiKf-Qxhzy",
        "outputId": "d4bceaca-69db-4d5f-8aee-f2377ee1a6cc"
      },
      "outputs": [
        {
          "data": {
            "text/plain": [
              "{'name': 'Sam', 'income': 32, 'years': 1.5, 'criminal': 'Yes'}"
            ]
          },
          "execution_count": 34,
          "metadata": {},
          "output_type": "execute_result"
        }
      ],
      "source": [
        "customer_2.__dict__"
      ]
    },
    {
      "cell_type": "markdown",
      "metadata": {
        "id": "Bc3OiZob10JT"
      },
      "source": [
        "*Exercise:* Write a Python class `Employee` with attributes like `emp_id`, `emp_name`, `emp_salary`, and `emp_department` and methods like `calculate_emp_salary`, and `assign_emp_department`.\n",
        "\n",
        "- Use 'assign_emp_department' method to change the department of an employee.\n",
        "\n",
        "- Use 'calculate_emp_salary' method to add overtime amount to salary. The method takes one argument: hours_worked, which is the number of hours worked by the employee. If the number of hours worked is more than 50, the method computes overtime and adds it to the salary. Overtime is calculated as following formula:\n",
        "\n",
        "  - overtime = hours_worked - 50\n",
        "  - overtime amount = (overtime * (salary / 50))"
      ]
    },
    {
      "cell_type": "code",
      "execution_count": 35,
      "metadata": {
        "id": "-sSZZj4o10JT"
      },
      "outputs": [],
      "source": [
        "# define your class here\n",
        "class Employee:\n",
        "  '''A class for company employees'''\n",
        "  def __init__(self, emp_id, emp_name, emp_salary, emp_department):\n",
        "    self.emp_id = emp_id\n",
        "    self.emp_name = emp_name\n",
        "    self.emp_salary = emp_salary\n",
        "    self.emp_department = emp_department\n",
        "\n",
        "  def assign_emp_department(self, new_department):\n",
        "    self.emp_department = new_department\n",
        "\n",
        "  def calculate_emp_salary(self, hours_worked):\n",
        "    overtime = 0\n",
        "    if hours_worked > 50:\n",
        "      overtime = hours_worked - 50\n",
        "    overtime_amount = (overtime * (self.emp_salary / 50))\n",
        "    self.emp_salary += overtime_amount"
      ]
    },
    {
      "cell_type": "markdown",
      "metadata": {
        "id": "gsk09WhR10JT"
      },
      "source": [
        "Instantiate Employee using `\"E7876\", \"ADAMS\", 50000, \"ACCOUNTING\"` and name it as `employee1`. Use `employee1.__dict__` to check attribute values."
      ]
    },
    {
      "cell_type": "code",
      "execution_count": 36,
      "metadata": {
        "colab": {
          "base_uri": "https://localhost:8080/"
        },
        "id": "s0fY6TPo10JT",
        "outputId": "8832ad9c-18f4-4933-908c-807454eeb849"
      },
      "outputs": [
        {
          "data": {
            "text/plain": [
              "{'emp_id': 'E7876',\n",
              " 'emp_name': 'ADAMS',\n",
              " 'emp_salary': 50000,\n",
              " 'emp_department': 'ACCOUNTING'}"
            ]
          },
          "execution_count": 36,
          "metadata": {},
          "output_type": "execute_result"
        }
      ],
      "source": [
        "# write your code here\n",
        "employee1 = Employee(\"E7876\", \"ADAMS\", 50000, \"ACCOUNTING\")\n",
        "employee1.__dict__"
      ]
    },
    {
      "cell_type": "markdown",
      "metadata": {
        "id": "YSxOKbf510JT"
      },
      "source": [
        "Use `assign_emp_department` method to change the department of employee1 to `OPERATIONS`"
      ]
    },
    {
      "cell_type": "code",
      "execution_count": 37,
      "metadata": {
        "id": "sZ5yDOvt10JU"
      },
      "outputs": [],
      "source": [
        "# write your code here\n",
        "employee1.assign_emp_department(\"OPERATIONS\")"
      ]
    },
    {
      "cell_type": "markdown",
      "metadata": {
        "id": "t1VSUEc010JU"
      },
      "source": [
        "Use `calculate_emp_salary` method to add the overtime amount to salary of employee1 if he works for 60 hours"
      ]
    },
    {
      "cell_type": "code",
      "execution_count": 38,
      "metadata": {
        "id": "GdC2_M3X10JU"
      },
      "outputs": [],
      "source": [
        "# write your code here\n",
        "employee1.calculate_emp_salary(60)"
      ]
    },
    {
      "cell_type": "markdown",
      "metadata": {
        "id": "lvU_w3Qr10JU"
      },
      "source": [
        "Use `employee1.__dict__` to check updated attribute values."
      ]
    },
    {
      "cell_type": "code",
      "execution_count": 39,
      "metadata": {
        "colab": {
          "base_uri": "https://localhost:8080/"
        },
        "id": "7C8ZbcOY10JU",
        "outputId": "95b96826-0dcc-4973-d4db-6ef36bd9a619"
      },
      "outputs": [
        {
          "data": {
            "text/plain": [
              "{'emp_id': 'E7876',\n",
              " 'emp_name': 'ADAMS',\n",
              " 'emp_salary': 60000.0,\n",
              " 'emp_department': 'OPERATIONS'}"
            ]
          },
          "execution_count": 39,
          "metadata": {},
          "output_type": "execute_result"
        }
      ],
      "source": [
        "# write your code here\n",
        "employee1.__dict__"
      ]
    },
    {
      "cell_type": "markdown",
      "metadata": {
        "id": "WOXlTihQQFT4"
      },
      "source": [
        "> Polling questions: https://www.menti.com/al194un19hjp"
      ]
    },
    {
      "cell_type": "markdown",
      "metadata": {
        "id": "YDLd63Dp4v1z"
      },
      "source": [
        "\n",
        "<br>\n",
        "\n",
        "\n",
        "## 2.4 `__X__()` Methods\n",
        "\n",
        "\n",
        "Running `dir(customer_1)` shows that some `__X__()` (pronouced as \"dunder X\") methods  are available to `customer_1` (inherited from somewhere)."
      ]
    },
    {
      "cell_type": "code",
      "execution_count": null,
      "metadata": {
        "colab": {
          "base_uri": "https://localhost:8080/"
        },
        "id": "9M-RS1XE4v10",
        "outputId": "1da3f781-aa6c-4eb9-d12c-eda2cc62448d"
      },
      "outputs": [
        {
          "data": {
            "text/plain": [
              "['__class__',\n",
              " '__delattr__',\n",
              " '__dict__',\n",
              " '__dir__',\n",
              " '__doc__',\n",
              " '__eq__',\n",
              " '__format__',\n",
              " '__ge__',\n",
              " '__getattribute__',\n",
              " '__getstate__',\n",
              " '__gt__',\n",
              " '__hash__',\n",
              " '__init__',\n",
              " '__init_subclass__',\n",
              " '__le__',\n",
              " '__lt__',\n",
              " '__module__',\n",
              " '__ne__',\n",
              " '__new__',\n",
              " '__reduce__',\n",
              " '__reduce_ex__',\n",
              " '__repr__',\n",
              " '__setattr__',\n",
              " '__sizeof__',\n",
              " '__str__',\n",
              " '__subclasshook__',\n",
              " '__weakref__',\n",
              " 'apply_loan',\n",
              " 'criminal',\n",
              " 'description',\n",
              " 'income',\n",
              " 'name',\n",
              " 'years']"
            ]
          },
          "execution_count": 147,
          "metadata": {},
          "output_type": "execute_result"
        }
      ],
      "source": [
        "dir(customer_1)"
      ]
    },
    {
      "cell_type": "markdown",
      "metadata": {
        "id": "VvCiZBrl4v11"
      },
      "source": [
        "\n",
        "In Python, [dunder methods](https://docs.python.org/3/reference/datamodel.html#special-method-names) are methods that allow instances of a class to interact with the built-in functions and operators of the language. The word “dunder” comes from “double underscore”, because the names of dunder methods start and end with two underscores.\n",
        "\n",
        "Dunder methods exist for nearly every operation available to built-in types. The mapping from each of these operations to a dunder method is ***fixed*** and ***unchangeable***. The table below lists a few of the most straightforward ones:\n",
        "\n",
        "\n",
        "\n",
        "\n",
        "\n"
      ]
    },
    {
      "cell_type": "markdown",
      "metadata": {
        "id": "2yYKbkOPMtSI"
      },
      "source": [
        "|Operation | Expression (or Statement) | And Python Calls\n",
        "|:-- |:-- |:-- |\n",
        "|Addition |`a + b`| `a.__add__(b)` |\n",
        "|Subtraction| `a - b`|`a.__sub__(b)`|\n",
        "|Multiplication |`a * b`|`a.__mul__(b)`|\n",
        "| Division |`a / b`|`a.__truediv__(b)`|\n",
        "| Equality |`a == b`|`a.__eq__(b)`|\n",
        "| Inequality |`a != b`|`a.__ne__(b)`|\n",
        "| Less than |`a < b`|`a.__lt__(b)`|\n",
        "| Greater than |`a > b`|`a.__gt__(b)`|\n",
        "| Less than or equal to|\t`a <= b`|`a.__le__(b)`|\n",
        "| Greater than or equal to|\t`a <= b`|`a.__ge__(b)`|\n",
        "| Length |\t`len(s)`|`s.__len__()`|\n",
        "| Membership tests  |\t`x in s` | `s.__contains__(x)`|\n",
        "| Attribute listing  |\t`dir(x)` | `x.__dir__()`|\n",
        "\n",
        "\n",
        "\n"
      ]
    },
    {
      "cell_type": "markdown",
      "metadata": {
        "id": "Z7eeYgH0nHwV"
      },
      "source": [
        "The `hasattr()` method returns true if an object has the given named attribute and false if it does not."
      ]
    },
    {
      "cell_type": "code",
      "execution_count": null,
      "metadata": {
        "colab": {
          "base_uri": "https://localhost:8080/"
        },
        "id": "0HkkFXgMMFq8",
        "outputId": "10496b5f-87f0-4e7f-8140-e30b29a2d259"
      },
      "outputs": [
        {
          "data": {
            "text/plain": [
              "True"
            ]
          },
          "execution_count": 149,
          "metadata": {},
          "output_type": "execute_result"
        }
      ],
      "source": [
        "hasattr(\"string\", \"__len__\")"
      ]
    },
    {
      "cell_type": "code",
      "execution_count": null,
      "metadata": {
        "colab": {
          "base_uri": "https://localhost:8080/"
        },
        "id": "Fg1Wx-XvPu_u",
        "outputId": "27326b1b-f076-48f9-8847-c8b204243aa4"
      },
      "outputs": [
        {
          "data": {
            "text/plain": [
              "False"
            ]
          },
          "execution_count": 150,
          "metadata": {},
          "output_type": "execute_result"
        }
      ],
      "source": [
        "hasattr(1, \"__len__\")"
      ]
    },
    {
      "cell_type": "code",
      "execution_count": null,
      "metadata": {
        "colab": {
          "base_uri": "https://localhost:8080/"
        },
        "id": "MyHf0hqJPhfv",
        "outputId": "abfc7b98-a56f-4520-b257-c31910e004c2"
      },
      "outputs": [
        {
          "data": {
            "text/plain": [
              "True"
            ]
          },
          "execution_count": 151,
          "metadata": {},
          "output_type": "execute_result"
        }
      ],
      "source": [
        "hasattr(1, \"__add__\")"
      ]
    },
    {
      "cell_type": "code",
      "execution_count": null,
      "metadata": {
        "colab": {
          "base_uri": "https://localhost:8080/"
        },
        "id": "cGBXiobXPprA",
        "outputId": "e066620f-a7f1-426e-e6d5-a3d60f827784"
      },
      "outputs": [
        {
          "data": {
            "text/plain": [
              "True"
            ]
          },
          "execution_count": 152,
          "metadata": {},
          "output_type": "execute_result"
        }
      ],
      "source": [
        "hasattr(\"string\", \"__add__\")"
      ]
    },
    {
      "cell_type": "code",
      "execution_count": null,
      "metadata": {
        "colab": {
          "base_uri": "https://localhost:8080/"
        },
        "id": "13RwPs-bVKFB",
        "outputId": "d764cf6d-5d77-4283-cf6f-35f2f3d5d8f7"
      },
      "outputs": [
        {
          "data": {
            "text/plain": [
              "True"
            ]
          },
          "execution_count": 153,
          "metadata": {},
          "output_type": "execute_result"
        }
      ],
      "source": [
        "hasattr(\"string\", \"__contains__\")"
      ]
    },
    {
      "cell_type": "code",
      "execution_count": null,
      "metadata": {
        "colab": {
          "base_uri": "https://localhost:8080/"
        },
        "id": "K8pca4B9VMmY",
        "outputId": "597c115d-2b36-463e-8eab-83fdd3b97ce5"
      },
      "outputs": [
        {
          "data": {
            "text/plain": [
              "False"
            ]
          },
          "execution_count": 154,
          "metadata": {},
          "output_type": "execute_result"
        }
      ],
      "source": [
        "hasattr(1, \"__contains__\")"
      ]
    },
    {
      "cell_type": "markdown",
      "metadata": {
        "id": "KoyFG_KIUvSF"
      },
      "source": [
        "By defining dunder methods, we can retrofit operations invoked by Python's built-in syntax (such as arithmetic operations, comparisons, indexing, and slicing) to a user-defined class."
      ]
    },
    {
      "cell_type": "markdown",
      "metadata": {
        "id": "jshrquEtMEnB"
      },
      "source": [
        "---\n",
        "\n",
        "<br>\n",
        "\n",
        "### `__repr__()`\n",
        "\n",
        "\n",
        "Typing the name directly into the interpreter prints out its string representation:"
      ]
    },
    {
      "cell_type": "code",
      "execution_count": null,
      "metadata": {
        "colab": {
          "base_uri": "https://localhost:8080/"
        },
        "id": "x8acvDcB4v12",
        "outputId": "623b0b4d-0efc-4bb9-acae-c23f421bfd70"
      },
      "outputs": [
        {
          "data": {
            "text/plain": [
              "<__main__.Customer at 0x7e968750d910>"
            ]
          },
          "execution_count": 155,
          "metadata": {},
          "output_type": "execute_result"
        }
      ],
      "source": [
        "customer_1"
      ]
    },
    {
      "cell_type": "markdown",
      "metadata": {
        "id": "JEYpFUlg4v13"
      },
      "source": [
        "Behind the scene,  [`__repr__()`](https://docs.python.org/3/reference/datamodel.html#object.__repr__) is invoked to return a string representing the object.\n",
        "It's what we get when the Python intepreter shows an object:\n"
      ]
    },
    {
      "cell_type": "code",
      "execution_count": null,
      "metadata": {
        "colab": {
          "base_uri": "https://localhost:8080/",
          "height": 35
        },
        "id": "y_wLIowQ4v13",
        "outputId": "583dfe70-f8b2-4bad-cde5-1082824a9a4f"
      },
      "outputs": [
        {
          "data": {
            "application/vnd.google.colaboratory.intrinsic+json": {
              "type": "string"
            },
            "text/plain": [
              "'<__main__.Customer object at 0x7e968750d910>'"
            ]
          },
          "execution_count": 156,
          "metadata": {},
          "output_type": "execute_result"
        }
      ],
      "source": [
        "customer_1.__repr__()"
      ]
    },
    {
      "cell_type": "markdown",
      "metadata": {
        "id": "xUiRkf9C4v14"
      },
      "source": [
        "We can override the default `__repr__()` to produce a more readable string representation:"
      ]
    },
    {
      "cell_type": "code",
      "execution_count": null,
      "metadata": {
        "id": "L-lXi12q4v15"
      },
      "outputs": [],
      "source": [
        "class Customer:\n",
        "    '''A class for bank customers.'''\n",
        "\n",
        "    def __init__(self, name, income, years, criminal='No'):\n",
        "        '''populate the attributes of a particular customer'''\n",
        "        self.name = name\n",
        "        self.income = income\n",
        "        self.years = years\n",
        "        self.criminal = criminal\n",
        "\n",
        "    __repr__ = lambda self: f\"Customer: {self.__dict__}\""
      ]
    },
    {
      "cell_type": "code",
      "execution_count": 41,
      "metadata": {
        "colab": {
          "base_uri": "https://localhost:8080/"
        },
        "id": "bUPjfenhRr1d",
        "outputId": "eec03244-f735-4500-f829-e0232f0d3e73"
      },
      "outputs": [
        {
          "data": {
            "text/plain": [
              "Customer: {'name': 'Amy', 'income': 27, 'years': 4.2, 'criminal': 'No'}"
            ]
          },
          "execution_count": 41,
          "metadata": {},
          "output_type": "execute_result"
        }
      ],
      "source": [
        "customer_1 = Customer(\"Amy\", 27, 4.2)\n",
        "customer_1"
      ]
    },
    {
      "cell_type": "code",
      "execution_count": 42,
      "metadata": {
        "colab": {
          "base_uri": "https://localhost:8080/"
        },
        "id": "yo131WWhBfW1",
        "outputId": "96030812-6fae-40d3-ede6-7a01e7581a9f"
      },
      "outputs": [
        {
          "data": {
            "text/plain": [
              "Customer: {'name': 'Sam', 'income': 32, 'years': 1.5, 'criminal': 'Yes'}"
            ]
          },
          "execution_count": 42,
          "metadata": {},
          "output_type": "execute_result"
        }
      ],
      "source": [
        "customer_2 = Customer(\"Sam\", 32, 1.5, \"Yes\")\n",
        "customer_2"
      ]
    },
    {
      "cell_type": "markdown",
      "metadata": {
        "id": "ZoyRMf7SAaVc"
      },
      "source": [
        "\n",
        "---\n",
        "\n",
        "<br>\n",
        "\n",
        "### `__str__()`\n",
        "\n",
        "The `__str__` method is called when you use the str() function on an object or when you use the print() function to print an object."
      ]
    },
    {
      "cell_type": "code",
      "execution_count": 43,
      "metadata": {
        "colab": {
          "base_uri": "https://localhost:8080/",
          "height": 35
        },
        "id": "7rJRsH4-VkZz",
        "outputId": "eb0deb78-5050-4609-c009-92725fd37a7e"
      },
      "outputs": [
        {
          "data": {
            "text/plain": [
              "'multi-line\\nstring'"
            ]
          },
          "execution_count": 43,
          "metadata": {},
          "output_type": "execute_result"
        }
      ],
      "source": [
        "\"multi-line\\nstring\""
      ]
    },
    {
      "cell_type": "code",
      "execution_count": 44,
      "metadata": {
        "colab": {
          "base_uri": "https://localhost:8080/"
        },
        "id": "Zrbt4PTEVlsD",
        "outputId": "b402b19d-fb24-41ff-9ebf-1861a82a8799"
      },
      "outputs": [
        {
          "name": "stdout",
          "output_type": "stream",
          "text": [
            "multi-line\n",
            "string\n"
          ]
        }
      ],
      "source": [
        "print(\"multi-line\\nstring\")"
      ]
    },
    {
      "cell_type": "code",
      "execution_count": 46,
      "metadata": {
        "colab": {
          "base_uri": "https://localhost:8080/"
        },
        "id": "X3kIZZICAjx0",
        "outputId": "9f9c9bb4-7cba-4e8d-db23-db7ed88b2b59"
      },
      "outputs": [
        {
          "name": "stdout",
          "output_type": "stream",
          "text": [
            "Customer: {'name': 'Amy', 'income': 27, 'years': 4.2, 'criminal': 'No'}\n"
          ]
        }
      ],
      "source": [
        "print(customer_1)"
      ]
    },
    {
      "cell_type": "code",
      "execution_count": null,
      "metadata": {
        "id": "ma3oIUDcA36F"
      },
      "outputs": [],
      "source": [
        "class Customer:\n",
        "    '''A class for bank customers.'''\n",
        "\n",
        "    def __init__(self, name, income, years, criminal='No'):\n",
        "        '''populate the attributes of a particular instance'''\n",
        "        self.name = name\n",
        "        self.income = income\n",
        "        self.years = years\n",
        "        self.criminal = criminal\n",
        "\n",
        "    def __repr__(self):\n",
        "        '''defines a string representation of a given instance'''\n",
        "        return f\"Customer: {self.__dict__}\"\n",
        "\n",
        "    def __str__(self):\n",
        "        '''defines a printable representation of a given instance'''\n",
        "        prefix = \"Customer:\\n\"\n",
        "        return prefix + '\\n'.join([f'{k.title()} -> {v}' for k, v in self.__dict__.items()])   # The title() method returns a string where the first character in every word is upper case.\n",
        "        # The return value must be a string object\n"
      ]
    },
    {
      "cell_type": "code",
      "execution_count": null,
      "metadata": {
        "colab": {
          "base_uri": "https://localhost:8080/"
        },
        "id": "2p4ZBR--BYyo",
        "outputId": "c4ef3b88-e9ec-4e95-dc98-44c86be437d2"
      },
      "outputs": [
        {
          "name": "stdout",
          "output_type": "stream",
          "text": [
            "Customer:\n",
            "Name -> Amy\n",
            "Income -> 27\n",
            "Years -> 4.2\n",
            "Criminal -> No\n"
          ]
        }
      ],
      "source": [
        "customer_1 = Customer(\"Amy\", 27, 4.2)\n",
        "print(customer_1)"
      ]
    },
    {
      "cell_type": "markdown",
      "metadata": {
        "id": "RoOgED6QKik-"
      },
      "source": [
        "\n",
        "---\n",
        "\n",
        " <br>\n",
        "\n",
        "###  `__iter__()`\n",
        "\n",
        "\n",
        "`__iter__()` methods for most commonly used operations are not provided by default. The corresponding operations are then not supported for the class's instances.\n",
        "\n"
      ]
    },
    {
      "cell_type": "code",
      "execution_count": 48,
      "metadata": {
        "colab": {
          "base_uri": "https://localhost:8080/",
          "height": 159
        },
        "id": "siOeXdyfKluc",
        "outputId": "997ffa90-d0ff-47c4-e73c-43f352592766"
      },
      "outputs": [
        {
          "ename": "TypeError",
          "evalue": "'Customer' object is not iterable",
          "output_type": "error",
          "traceback": [
            "\u001b[1;31m---------------------------------------------------------------------------\u001b[0m",
            "\u001b[1;31mTypeError\u001b[0m                                 Traceback (most recent call last)",
            "Cell \u001b[1;32mIn[48], line 1\u001b[0m\n\u001b[1;32m----> 1\u001b[0m \u001b[38;5;28;01mfor\u001b[39;00m k, v \u001b[38;5;129;01min\u001b[39;00m customer_1:\n\u001b[0;32m      2\u001b[0m     \u001b[38;5;28mprint\u001b[39m(\u001b[38;5;124mf\u001b[39m\u001b[38;5;124m\"\u001b[39m\u001b[38;5;132;01m{\u001b[39;00mk\u001b[38;5;132;01m}\u001b[39;00m\u001b[38;5;124m -> \u001b[39m\u001b[38;5;132;01m{\u001b[39;00mv\u001b[38;5;132;01m}\u001b[39;00m\u001b[38;5;124m\"\u001b[39m)\n",
            "\u001b[1;31mTypeError\u001b[0m: 'Customer' object is not iterable"
          ]
        }
      ],
      "source": [
        "for k, v in customer_1:\n",
        "    print(f\"{k} -> {v}\")"
      ]
    },
    {
      "cell_type": "markdown",
      "metadata": {
        "id": "S3QqF8haLfza"
      },
      "source": [
        "`__iter__()` makes a class's instances iterable. We implement it by using a generator expression to yield the components one after the other:"
      ]
    },
    {
      "cell_type": "code",
      "execution_count": 50,
      "metadata": {
        "id": "HmZSFlGOKw2d"
      },
      "outputs": [],
      "source": [
        "class Customer:\n",
        "    '''A class for bank customers.'''\n",
        "\n",
        "    def __init__(self, name, income, years, criminal='No'):\n",
        "        '''populate the attributes of a particular instance'''\n",
        "        self.name = name\n",
        "        self.income = income\n",
        "        self.years = years\n",
        "        self.criminal = criminal\n",
        "\n",
        "    def __repr__(self):\n",
        "        '''define a string representation of a given instance'''\n",
        "        return f\"Customer: {self.__dict__}\"\n",
        "\n",
        "    def __str__(self):\n",
        "        '''define a printable string representation of a given instance'''\n",
        "        prefix = \"Customer:\\n\"\n",
        "        return prefix + '\\n'.join([f'{k.title()} -> {v}' for k, v in self.__dict__.items()])    # The return value must be a string object\n",
        "\n",
        "    def __iter__(self):\n",
        "        '''make an instance iterable'''\n",
        "        return ((k, v) for k, v in self.__dict__.items())\n"
      ]
    },
    {
      "cell_type": "code",
      "execution_count": 51,
      "metadata": {
        "colab": {
          "base_uri": "https://localhost:8080/"
        },
        "id": "tHJqRc8-LFo6",
        "outputId": "b0aa135b-5552-48f4-f00a-ec2893fee6af"
      },
      "outputs": [
        {
          "name": "stdout",
          "output_type": "stream",
          "text": [
            "name -> Amy\n",
            "income -> 27\n",
            "years -> 4.2\n",
            "criminal -> No\n"
          ]
        }
      ],
      "source": [
        "customer_1 = Customer(\"Amy\", 27, 4.2)\n",
        "for k, v in customer_1:\n",
        "    print(f\"{k} -> {v}\")"
      ]
    },
    {
      "cell_type": "markdown",
      "metadata": {
        "id": "tA67DyPk4v2A"
      },
      "source": [
        "\n",
        "<br>\n",
        "\n",
        "\n",
        "## 2.5 Defining a Derived Class (Optional)\n",
        "\n",
        "\n",
        "\n",
        "Python allows us to form a **derived class** (**subclass**) from one or more than one **base class** (**superclass**) to specialize behaviors while reusing existing code.\n",
        "\n",
        "To create a subclass, we just list the base class in parentheses in the `class` statement's header (seperated by `,` if there is more than one base class) :"
      ]
    },
    {
      "cell_type": "code",
      "execution_count": 2,
      "metadata": {
        "id": "rsNNNIPz4v2B"
      },
      "outputs": [],
      "source": [
        "class Person:\n",
        "\n",
        "    def __init__(self, name, date_of_birth, gender):\n",
        "        self.name = name\n",
        "        self.date_of_birth = date_of_birth\n",
        "        self.gender = gender\n",
        "\n",
        "    def __repr__(self):\n",
        "        '''define a string representation of a given instance'''\n",
        "        return f\"{self.__dict__}\"\n",
        "\n",
        "\n",
        "class Customer(Person):\n",
        "\n",
        "    def __init__(self, name, date_of_birth, gender, income, years, criminal=\"No\"):\n",
        "        # a method call notation; self should not be present\n",
        "        super().__init__(name, date_of_birth, gender)\n",
        "        self.income = income\n",
        "        self.years = years\n",
        "        self.criminal = criminal\n",
        "\n",
        "    def apply_loan(self):\n",
        "        if self.income >= 70:\n",
        "            result = 'Approve'\n",
        "        elif self.income >= 30:\n",
        "            if self.years >= 2:\n",
        "                result = 'Approve'\n",
        "            else:result = 'Reject'\n",
        "        else:\n",
        "            if self.criminal == \"No\":\n",
        "                result = 'Approve'\n",
        "            else: result = 'Reject'\n",
        "        return result"
      ]
    },
    {
      "cell_type": "code",
      "execution_count": null,
      "metadata": {
        "colab": {
          "base_uri": "https://localhost:8080/"
        },
        "id": "Sn6iEqV5wKLC",
        "outputId": "d0b43579-32c1-4bfc-bd5a-4948c48a156a"
      },
      "outputs": [
        {
          "data": {
            "text/plain": [
              "mappingproxy({'__module__': '__main__',\n",
              "              '__init__': <function __main__.Person.__init__(self, name, date_of_birth, gender)>,\n",
              "              '__repr__': <function __main__.Person.__repr__(self)>,\n",
              "              '__dict__': <attribute '__dict__' of 'Person' objects>,\n",
              "              '__weakref__': <attribute '__weakref__' of 'Person' objects>,\n",
              "              '__doc__': None})"
            ]
          },
          "execution_count": 169,
          "metadata": {},
          "output_type": "execute_result"
        }
      ],
      "source": [
        "Person.__dict__"
      ]
    },
    {
      "cell_type": "code",
      "execution_count": null,
      "metadata": {
        "colab": {
          "base_uri": "https://localhost:8080/"
        },
        "id": "jH3gWdT2wXhc",
        "outputId": "f7702089-8ba8-48d3-8dab-17b501133992"
      },
      "outputs": [
        {
          "data": {
            "text/plain": [
              "mappingproxy({'__module__': '__main__',\n",
              "              '__init__': <function __main__.Customer.__init__(self, name, date_of_birth, gender, income, years, criminal='No')>,\n",
              "              'apply_loan': <function __main__.Customer.apply_loan(self)>,\n",
              "              '__doc__': None})"
            ]
          },
          "execution_count": 170,
          "metadata": {},
          "output_type": "execute_result"
        }
      ],
      "source": [
        "Customer.__dict__"
      ]
    },
    {
      "cell_type": "code",
      "execution_count": 3,
      "metadata": {
        "colab": {
          "base_uri": "https://localhost:8080/"
        },
        "id": "DvrwZnAfpwwQ",
        "outputId": "68a24135-5fc4-40d5-8f17-72166d283121"
      },
      "outputs": [
        {
          "data": {
            "text/plain": [
              "{'name': 'Amy', 'date_of_birth': 'Oct. 10, 1999', 'gender': 'F'}"
            ]
          },
          "execution_count": 3,
          "metadata": {},
          "output_type": "execute_result"
        }
      ],
      "source": [
        "a_person = Person(\"Amy\", \"Oct. 10, 1999\", \"F\")\n",
        "a_person"
      ]
    },
    {
      "cell_type": "code",
      "execution_count": 4,
      "metadata": {
        "colab": {
          "base_uri": "https://localhost:8080/"
        },
        "id": "pl3DS11TTh_0",
        "outputId": "11a7d9ce-c612-4801-a5e6-178684e430fb"
      },
      "outputs": [
        {
          "data": {
            "text/plain": [
              "{'name': 'Amy', 'date_of_birth': 'Oct. 10, 1999', 'gender': 'F'}"
            ]
          },
          "execution_count": 4,
          "metadata": {},
          "output_type": "execute_result"
        }
      ],
      "source": [
        "a_person.__dict__"
      ]
    },
    {
      "cell_type": "code",
      "execution_count": null,
      "metadata": {
        "colab": {
          "base_uri": "https://localhost:8080/"
        },
        "id": "jZUiY6t1m2ct",
        "outputId": "e46189f3-4977-4bc3-f5dd-9d1f2b40aa4d"
      },
      "outputs": [
        {
          "data": {
            "text/plain": [
              "{'name': 'Amy', 'date_of_birth': 'Oct. 10, 1999', 'gender': 'F', 'income': 27, 'years': 4.2, 'criminal': 'No'}"
            ]
          },
          "execution_count": 173,
          "metadata": {},
          "output_type": "execute_result"
        }
      ],
      "source": [
        "customer_3 = Customer(\"Amy\", \"Oct. 10, 1999\", \"F\", 27, 4.2)\n",
        "customer_3"
      ]
    },
    {
      "cell_type": "code",
      "execution_count": null,
      "metadata": {
        "colab": {
          "base_uri": "https://localhost:8080/"
        },
        "id": "tYctLU5YnPtw",
        "outputId": "3833b971-03e7-4e02-82bb-fb991f6cc9c7"
      },
      "outputs": [
        {
          "data": {
            "text/plain": [
              "{'name': 'Amy',\n",
              " 'date_of_birth': 'Oct. 10, 1999',\n",
              " 'gender': 'F',\n",
              " 'income': 27,\n",
              " 'years': 4.2,\n",
              " 'criminal': 'No'}"
            ]
          },
          "execution_count": 174,
          "metadata": {},
          "output_type": "execute_result"
        }
      ],
      "source": [
        "customer_3.__dict__"
      ]
    },
    {
      "cell_type": "markdown",
      "metadata": {
        "id": "TM-P1e104v2F"
      },
      "source": [
        "Each instance inherits names from the class it's generated from, as well as all of that class's superclasses:"
      ]
    },
    {
      "cell_type": "code",
      "execution_count": null,
      "metadata": {
        "colab": {
          "base_uri": "https://localhost:8080/"
        },
        "id": "kLdKCIxp4v2F",
        "outputId": "29302961-05e7-4c67-96ed-a81acb18e355"
      },
      "outputs": [
        {
          "name": "stdout",
          "output_type": "stream",
          "text": [
            "['__class__', '__delattr__', '__dict__', '__dir__', '__doc__', '__eq__', '__format__', '__ge__', '__getattribute__', '__getstate__', '__gt__', '__hash__', '__init__', '__init_subclass__', '__le__', '__lt__', '__module__', '__ne__', '__new__', '__reduce__', '__reduce_ex__', '__repr__', '__setattr__', '__sizeof__', '__str__', '__subclasshook__', '__weakref__', 'apply_loan']\n"
          ]
        }
      ],
      "source": [
        "print(dir(Customer))"
      ]
    },
    {
      "cell_type": "markdown",
      "metadata": {
        "id": "xqfqpGy24v2H"
      },
      "source": [
        "To resolve attribute references, Python goes through the following steps:\n",
        "\n",
        "1. The search first checks the instance's namespace and then its class's namespace.\n",
        "2. If a requested attribute is not found in the class's namespace, the search proceeds to look in the most recent superclass.\n",
        "3. This rule is applied ***recursively*** upward through a **hirerarchy of classes** until all superclasses are searched.\n",
        "\n",
        "Searches stop at the first appearance of the attribute name that it finds."
      ]
    },
    {
      "cell_type": "markdown",
      "metadata": {
        "id": "7mrijKs8Z4sw"
      },
      "source": [
        "\n",
        "<br/>\n",
        "\n",
        "# 3 Modules\n",
        "\n",
        "Most of the functionality in Python is provided by **modules**, which are typically Python program files that contain definitions and statements we want to import to use.\n",
        "\n",
        "\n",
        "Let's look at a .py file that contains the following code:"
      ]
    },
    {
      "cell_type": "code",
      "execution_count": null,
      "metadata": {
        "colab": {
          "base_uri": "https://localhost:8080/"
        },
        "id": "oH0QJYCH9N1G",
        "outputId": "e03814d7-9b83-4cdf-80ef-779344231501"
      },
      "outputs": [
        {
          "name": "stdout",
          "output_type": "stream",
          "text": [
            "Overwriting mod.py\n"
          ]
        }
      ],
      "source": [
        "%%writefile mod.py\n",
        "\n",
        "name = \"Business Analytics\"\n",
        "\n",
        "array = [1, 2, 3]\n",
        "\n",
        "def foo(arg):\n",
        "    print(f'arg = {arg}')"
      ]
    },
    {
      "cell_type": "markdown",
      "metadata": {
        "id": "2Gx7V0he9Wx-"
      },
      "source": [
        "- <a href=\"https://ipython.readthedocs.io/en/stable/interactive/magics.html#cellmagic-writefile\"><code>%%writefile</code> </a> is a magic command of Jupyter Notebook that writes the contents of the cell to a specified file.\n",
        "- The .py file can be imported as a module using [the `import` statement](https://docs.python.org/3/reference/simple_stmts.html#import):"
      ]
    },
    {
      "cell_type": "code",
      "execution_count": null,
      "metadata": {
        "id": "9uYDLlgqkgRG"
      },
      "outputs": [],
      "source": [
        "import mod"
      ]
    },
    {
      "cell_type": "code",
      "execution_count": null,
      "metadata": {
        "colab": {
          "base_uri": "https://localhost:8080/"
        },
        "id": "10uylO6gjIKT",
        "outputId": "374972e9-1ffb-45c5-a969-2f267490eeab"
      },
      "outputs": [
        {
          "data": {
            "text/plain": [
              "['Customer',\n",
              " 'Employee',\n",
              " 'In',\n",
              " 'Out',\n",
              " 'Person',\n",
              " '_',\n",
              " '_102',\n",
              " '_103',\n",
              " '_104',\n",
              " '_105',\n",
              " '_106',\n",
              " '_107',\n",
              " '_108',\n",
              " '_109',\n",
              " '_11',\n",
              " '_110',\n",
              " '_111',\n",
              " '_115',\n",
              " '_116',\n",
              " '_119',\n",
              " '_120',\n",
              " '_121',\n",
              " '_122',\n",
              " '_124',\n",
              " '_125',\n",
              " '_126',\n",
              " '_127',\n",
              " '_128',\n",
              " '_129',\n",
              " '_130',\n",
              " '_131',\n",
              " '_132',\n",
              " '_133',\n",
              " '_134',\n",
              " '_136',\n",
              " '_137',\n",
              " '_139',\n",
              " '_140',\n",
              " '_141',\n",
              " '_143',\n",
              " '_146',\n",
              " '_147',\n",
              " '_149',\n",
              " '_150',\n",
              " '_151',\n",
              " '_152',\n",
              " '_153',\n",
              " '_154',\n",
              " '_155',\n",
              " '_156',\n",
              " '_158',\n",
              " '_159',\n",
              " '_160',\n",
              " '_169',\n",
              " '_17',\n",
              " '_170',\n",
              " '_171',\n",
              " '_172',\n",
              " '_173',\n",
              " '_174',\n",
              " '_20',\n",
              " '_22',\n",
              " '_23',\n",
              " '_40',\n",
              " '_41',\n",
              " '_43',\n",
              " '_44',\n",
              " '_52',\n",
              " '_8',\n",
              " '_9',\n",
              " '_90',\n",
              " '_94',\n",
              " '_95',\n",
              " '_97',\n",
              " '_98',\n",
              " '__',\n",
              " '___',\n",
              " '__builtin__',\n",
              " '__builtins__',\n",
              " '__doc__',\n",
              " '__loader__',\n",
              " '__name__',\n",
              " '__package__',\n",
              " '__spec__',\n",
              " '_dh',\n",
              " '_i',\n",
              " '_i1',\n",
              " '_i10',\n",
              " '_i100',\n",
              " '_i101',\n",
              " '_i102',\n",
              " '_i103',\n",
              " '_i104',\n",
              " '_i105',\n",
              " '_i106',\n",
              " '_i107',\n",
              " '_i108',\n",
              " '_i109',\n",
              " '_i11',\n",
              " '_i110',\n",
              " '_i111',\n",
              " '_i112',\n",
              " '_i113',\n",
              " '_i114',\n",
              " '_i115',\n",
              " '_i116',\n",
              " '_i117',\n",
              " '_i118',\n",
              " '_i119',\n",
              " '_i12',\n",
              " '_i120',\n",
              " '_i121',\n",
              " '_i122',\n",
              " '_i123',\n",
              " '_i124',\n",
              " '_i125',\n",
              " '_i126',\n",
              " '_i127',\n",
              " '_i128',\n",
              " '_i129',\n",
              " '_i13',\n",
              " '_i130',\n",
              " '_i131',\n",
              " '_i132',\n",
              " '_i133',\n",
              " '_i134',\n",
              " '_i135',\n",
              " '_i136',\n",
              " '_i137',\n",
              " '_i138',\n",
              " '_i139',\n",
              " '_i14',\n",
              " '_i140',\n",
              " '_i141',\n",
              " '_i142',\n",
              " '_i143',\n",
              " '_i144',\n",
              " '_i145',\n",
              " '_i146',\n",
              " '_i147',\n",
              " '_i148',\n",
              " '_i149',\n",
              " '_i15',\n",
              " '_i150',\n",
              " '_i151',\n",
              " '_i152',\n",
              " '_i153',\n",
              " '_i154',\n",
              " '_i155',\n",
              " '_i156',\n",
              " '_i157',\n",
              " '_i158',\n",
              " '_i159',\n",
              " '_i16',\n",
              " '_i160',\n",
              " '_i161',\n",
              " '_i162',\n",
              " '_i163',\n",
              " '_i164',\n",
              " '_i165',\n",
              " '_i166',\n",
              " '_i167',\n",
              " '_i168',\n",
              " '_i169',\n",
              " '_i17',\n",
              " '_i170',\n",
              " '_i171',\n",
              " '_i172',\n",
              " '_i173',\n",
              " '_i174',\n",
              " '_i175',\n",
              " '_i176',\n",
              " '_i177',\n",
              " '_i178',\n",
              " '_i179',\n",
              " '_i18',\n",
              " '_i19',\n",
              " '_i2',\n",
              " '_i20',\n",
              " '_i21',\n",
              " '_i22',\n",
              " '_i23',\n",
              " '_i24',\n",
              " '_i25',\n",
              " '_i26',\n",
              " '_i27',\n",
              " '_i28',\n",
              " '_i29',\n",
              " '_i3',\n",
              " '_i30',\n",
              " '_i31',\n",
              " '_i32',\n",
              " '_i33',\n",
              " '_i34',\n",
              " '_i35',\n",
              " '_i36',\n",
              " '_i37',\n",
              " '_i38',\n",
              " '_i39',\n",
              " '_i4',\n",
              " '_i40',\n",
              " '_i41',\n",
              " '_i42',\n",
              " '_i43',\n",
              " '_i44',\n",
              " '_i45',\n",
              " '_i46',\n",
              " '_i47',\n",
              " '_i48',\n",
              " '_i49',\n",
              " '_i5',\n",
              " '_i50',\n",
              " '_i51',\n",
              " '_i52',\n",
              " '_i53',\n",
              " '_i54',\n",
              " '_i55',\n",
              " '_i56',\n",
              " '_i57',\n",
              " '_i58',\n",
              " '_i59',\n",
              " '_i6',\n",
              " '_i60',\n",
              " '_i61',\n",
              " '_i62',\n",
              " '_i63',\n",
              " '_i64',\n",
              " '_i65',\n",
              " '_i66',\n",
              " '_i67',\n",
              " '_i68',\n",
              " '_i69',\n",
              " '_i7',\n",
              " '_i70',\n",
              " '_i71',\n",
              " '_i72',\n",
              " '_i73',\n",
              " '_i74',\n",
              " '_i75',\n",
              " '_i76',\n",
              " '_i77',\n",
              " '_i78',\n",
              " '_i79',\n",
              " '_i8',\n",
              " '_i80',\n",
              " '_i81',\n",
              " '_i82',\n",
              " '_i83',\n",
              " '_i84',\n",
              " '_i85',\n",
              " '_i86',\n",
              " '_i87',\n",
              " '_i88',\n",
              " '_i89',\n",
              " '_i9',\n",
              " '_i90',\n",
              " '_i91',\n",
              " '_i92',\n",
              " '_i93',\n",
              " '_i94',\n",
              " '_i95',\n",
              " '_i96',\n",
              " '_i97',\n",
              " '_i98',\n",
              " '_i99',\n",
              " '_ih',\n",
              " '_ii',\n",
              " '_iii',\n",
              " '_oh',\n",
              " 'a',\n",
              " 'a_person',\n",
              " 'apply_loan',\n",
              " 'b',\n",
              " 'c',\n",
              " 'currency_converter',\n",
              " 'customer_1',\n",
              " 'customer_2',\n",
              " 'customer_3',\n",
              " 'd',\n",
              " 'details',\n",
              " 'employee1',\n",
              " 'exit',\n",
              " 'f',\n",
              " 'first',\n",
              " 'get_ipython',\n",
              " 'gradebook',\n",
              " 'gradebooks',\n",
              " 'greet',\n",
              " 'i',\n",
              " 'k',\n",
              " 'listOfNums',\n",
              " 'mean_v1',\n",
              " 'mean_v2',\n",
              " 'mod',\n",
              " 'multiply_v1',\n",
              " 'multiply_v2',\n",
              " 'print_all_args',\n",
              " 'print_args_1',\n",
              " 'print_args_2',\n",
              " 'print_args_3',\n",
              " 'print_args_4',\n",
              " 'print_args_5',\n",
              " 'quad_1',\n",
              " 'quad_2',\n",
              " 'quit',\n",
              " 'remaining',\n",
              " 'sort_letters',\n",
              " 'text',\n",
              " 'update_detail',\n",
              " 'v']"
            ]
          },
          "execution_count": 179,
          "metadata": {},
          "output_type": "execute_result"
        }
      ],
      "source": [
        "dir()"
      ]
    },
    {
      "cell_type": "code",
      "execution_count": null,
      "metadata": {
        "colab": {
          "base_uri": "https://localhost:8080/"
        },
        "id": "71iQwgnNjIKT",
        "outputId": "0e5fb4a7-d60b-4fd5-e7dd-c9e22d3b5410"
      },
      "outputs": [
        {
          "data": {
            "text/plain": [
              "<module 'mod' from '/content/mod.py'>"
            ]
          },
          "execution_count": 181,
          "metadata": {},
          "output_type": "execute_result"
        }
      ],
      "source": [
        "mod"
      ]
    },
    {
      "cell_type": "code",
      "execution_count": null,
      "metadata": {
        "colab": {
          "base_uri": "https://localhost:8080/"
        },
        "id": "ZDtthmdj0krP",
        "outputId": "bd0ccab6-0fd5-4973-80a0-4cd0da7b69c2"
      },
      "outputs": [
        {
          "data": {
            "text/plain": [
              "module"
            ]
          },
          "execution_count": 182,
          "metadata": {},
          "output_type": "execute_result"
        }
      ],
      "source": [
        "type(mod)"
      ]
    },
    {
      "cell_type": "markdown",
      "metadata": {
        "id": "4z5sXyVgMSSH"
      },
      "source": [
        "\n",
        "The first time a module is imported, Python creates a module object, which is a wrapper of a namespace, and executes all ***top-level*** assignments (including function and class definitions) to create module attributes that populate the new namespace:\n",
        "\n",
        "<br>\n",
        "\n",
        "<img src=\"https://raw.githubusercontent.com/justinjiajia/img/master/python/module.png\" width=500 />"
      ]
    },
    {
      "cell_type": "code",
      "execution_count": null,
      "metadata": {
        "colab": {
          "base_uri": "https://localhost:8080/"
        },
        "id": "-RqJmwcJMSSH",
        "outputId": "4e596631-d587-40ea-da72-3e1ce8f988b3",
        "scrolled": true
      },
      "outputs": [
        {
          "data": {
            "text/plain": [
              "['__builtins__',\n",
              " '__cached__',\n",
              " '__doc__',\n",
              " '__file__',\n",
              " '__loader__',\n",
              " '__name__',\n",
              " '__package__',\n",
              " '__spec__',\n",
              " 'array',\n",
              " 'foo',\n",
              " 'name']"
            ]
          },
          "execution_count": 183,
          "metadata": {},
          "output_type": "execute_result"
        }
      ],
      "source": [
        "dir(mod)"
      ]
    },
    {
      "cell_type": "markdown",
      "metadata": {
        "id": "HohMk_GT7IQ0"
      },
      "source": [
        "These names are now available for use, and the dot notation is used to refer to them:"
      ]
    },
    {
      "cell_type": "code",
      "execution_count": null,
      "metadata": {
        "colab": {
          "base_uri": "https://localhost:8080/"
        },
        "id": "3ydFDxA6MSSJ",
        "outputId": "f8f164bd-20f1-4cb9-dadd-14bc4ee36e1c"
      },
      "outputs": [
        {
          "data": {
            "text/plain": [
              "[1, 2, 3]"
            ]
          },
          "execution_count": 184,
          "metadata": {},
          "output_type": "execute_result"
        }
      ],
      "source": [
        "mod.array"
      ]
    },
    {
      "cell_type": "code",
      "execution_count": null,
      "metadata": {
        "colab": {
          "base_uri": "https://localhost:8080/",
          "height": 35
        },
        "id": "I2G8fCyrz3ap",
        "outputId": "3c9fcd43-9cbd-437c-aba4-fec6fe09b643"
      },
      "outputs": [
        {
          "data": {
            "application/vnd.google.colaboratory.intrinsic+json": {
              "type": "string"
            },
            "text/plain": [
              "'mod'"
            ]
          },
          "execution_count": 185,
          "metadata": {},
          "output_type": "execute_result"
        }
      ],
      "source": [
        "mod.__name__"
      ]
    },
    {
      "cell_type": "code",
      "execution_count": null,
      "metadata": {
        "colab": {
          "base_uri": "https://localhost:8080/",
          "height": 35
        },
        "id": "tWmm3TA_jIKV",
        "outputId": "86adc1cb-859c-4a51-9637-a65cdd68bef2"
      },
      "outputs": [
        {
          "data": {
            "application/vnd.google.colaboratory.intrinsic+json": {
              "type": "string"
            },
            "text/plain": [
              "'/content/mod.py'"
            ]
          },
          "execution_count": 186,
          "metadata": {},
          "output_type": "execute_result"
        }
      ],
      "source": [
        "mod.__file__"
      ]
    },
    {
      "cell_type": "markdown",
      "metadata": {
        "id": "vwvr50KNMSSK"
      },
      "source": [
        "\n",
        "\n",
        "> Normally, module namespaces last until the session terminates.</div>"
      ]
    },
    {
      "cell_type": "markdown",
      "metadata": {
        "id": "IYNU-r1sMSSK"
      },
      "source": [
        "\n",
        "\n",
        "<br/>\n",
        "\n",
        "\n",
        "### The `import` Statement\n",
        "\n",
        "Useful modules that form the [standard library](https://docs.python.org/3/library/) include `os`, `sys`, `math`, `random`, `shutil`, and so on."
      ]
    },
    {
      "cell_type": "code",
      "execution_count": null,
      "metadata": {
        "id": "Cqc561sLxEPz"
      },
      "outputs": [],
      "source": [
        "import random"
      ]
    },
    {
      "cell_type": "code",
      "execution_count": null,
      "metadata": {
        "colab": {
          "base_uri": "https://localhost:8080/"
        },
        "id": "gLR427M20wL5",
        "outputId": "a94ff8da-b620-4194-e039-3809112a3c73"
      },
      "outputs": [
        {
          "data": {
            "text/plain": [
              "<module 'random' from '/usr/lib/python3.11/random.py'>"
            ]
          },
          "execution_count": 188,
          "metadata": {},
          "output_type": "execute_result"
        }
      ],
      "source": [
        "random"
      ]
    },
    {
      "cell_type": "code",
      "execution_count": null,
      "metadata": {
        "colab": {
          "base_uri": "https://localhost:8080/"
        },
        "id": "QzMtHOldMSSL",
        "outputId": "bb5ee0fc-8e0e-4f3f-b0fb-29c218765a9f"
      },
      "outputs": [
        {
          "data": {
            "text/plain": [
              "['BPF',\n",
              " 'LOG4',\n",
              " 'NV_MAGICCONST',\n",
              " 'RECIP_BPF',\n",
              " 'Random',\n",
              " 'SG_MAGICCONST',\n",
              " 'SystemRandom',\n",
              " 'TWOPI',\n",
              " '_ONE',\n",
              " '_Sequence',\n",
              " '_Set',\n",
              " '__all__',\n",
              " '__builtins__',\n",
              " '__cached__',\n",
              " '__doc__',\n",
              " '__file__',\n",
              " '__loader__',\n",
              " '__name__',\n",
              " '__package__',\n",
              " '__spec__',\n",
              " '_accumulate',\n",
              " '_acos',\n",
              " '_bisect',\n",
              " '_ceil',\n",
              " '_cos',\n",
              " '_e',\n",
              " '_exp',\n",
              " '_floor',\n",
              " '_index',\n",
              " '_inst',\n",
              " '_isfinite',\n",
              " '_log',\n",
              " '_os',\n",
              " '_pi',\n",
              " '_random',\n",
              " '_repeat',\n",
              " '_sha512',\n",
              " '_sin',\n",
              " '_sqrt',\n",
              " '_test',\n",
              " '_test_generator',\n",
              " '_urandom',\n",
              " '_warn',\n",
              " 'betavariate',\n",
              " 'choice',\n",
              " 'choices',\n",
              " 'expovariate',\n",
              " 'gammavariate',\n",
              " 'gauss',\n",
              " 'getrandbits',\n",
              " 'getstate',\n",
              " 'lognormvariate',\n",
              " 'normalvariate',\n",
              " 'paretovariate',\n",
              " 'randbytes',\n",
              " 'randint',\n",
              " 'random',\n",
              " 'randrange',\n",
              " 'sample',\n",
              " 'seed',\n",
              " 'setstate',\n",
              " 'shuffle',\n",
              " 'triangular',\n",
              " 'uniform',\n",
              " 'vonmisesvariate',\n",
              " 'weibullvariate']"
            ]
          },
          "execution_count": 189,
          "metadata": {},
          "output_type": "execute_result"
        }
      ],
      "source": [
        "dir(random)  # random.py"
      ]
    },
    {
      "cell_type": "code",
      "execution_count": null,
      "metadata": {
        "colab": {
          "base_uri": "https://localhost:8080/"
        },
        "id": "ZXUsJ1dE7HWQ",
        "outputId": "7a828a39-59b2-4b3c-e7b7-0ae4cd8881c7"
      },
      "outputs": [
        {
          "name": "stdout",
          "output_type": "stream",
          "text": [
            "0\n",
            "5\n",
            "2\n",
            "10\n",
            "5\n",
            "3\n",
            "8\n",
            "3\n",
            "1\n",
            "8\n"
          ]
        }
      ],
      "source": [
        "for i in range(10):\n",
        "    print(random.randint(0, 10)) # Return a random number between 0 and 10 (both included)"
      ]
    },
    {
      "cell_type": "markdown",
      "metadata": {
        "id": "-TjIpMyO7QTV"
      },
      "source": [
        "Using `help()` gets the documentation for this function:"
      ]
    },
    {
      "cell_type": "code",
      "execution_count": null,
      "metadata": {
        "colab": {
          "base_uri": "https://localhost:8080/"
        },
        "id": "gnnxEoo37Wsw",
        "outputId": "9821a84e-1b3c-440f-83f0-195cd144b38c"
      },
      "outputs": [
        {
          "name": "stdout",
          "output_type": "stream",
          "text": [
            "Help on method randint in module random:\n",
            "\n",
            "randint(a, b) method of random.Random instance\n",
            "    Return random integer in range [a, b], including both end points.\n",
            "\n"
          ]
        }
      ],
      "source": [
        "help(random.randint)"
      ]
    },
    {
      "cell_type": "markdown",
      "metadata": {
        "id": "h8XKNCqw7c_A"
      },
      "source": [
        "The module's `__file__` attribute gives the location where the module was found in the file system:"
      ]
    },
    {
      "cell_type": "code",
      "execution_count": null,
      "metadata": {
        "colab": {
          "base_uri": "https://localhost:8080/",
          "height": 35
        },
        "id": "7sAr-IhR7geW",
        "outputId": "b4e10117-361d-4ac1-f9dc-ee22ea9225f6"
      },
      "outputs": [
        {
          "data": {
            "application/vnd.google.colaboratory.intrinsic+json": {
              "type": "string"
            },
            "text/plain": [
              "'/usr/lib/python3.11/random.py'"
            ]
          },
          "execution_count": 200,
          "metadata": {},
          "output_type": "execute_result"
        }
      ],
      "source": [
        "random.__file__"
      ]
    },
    {
      "cell_type": "markdown",
      "metadata": {
        "id": "wC35N2nM7vJ9"
      },
      "source": [
        "Alternatively, we can import all names in a module to the current namespace using the `from` form of the `import` statement:"
      ]
    },
    {
      "cell_type": "code",
      "execution_count": null,
      "metadata": {
        "id": "dKwMljvF7ywQ"
      },
      "outputs": [],
      "source": [
        "from random import *"
      ]
    },
    {
      "cell_type": "markdown",
      "metadata": {
        "id": "3lHQXYs-8BEa"
      },
      "source": [
        "\n",
        "Then we don't need to use the prefix every time we use something from it:\n"
      ]
    },
    {
      "cell_type": "code",
      "execution_count": null,
      "metadata": {
        "colab": {
          "base_uri": "https://localhost:8080/"
        },
        "id": "pi7GSbj18eDv",
        "outputId": "1cecf5e1-2eb3-4995-9133-78e2b20bb40b"
      },
      "outputs": [
        {
          "data": {
            "text/plain": [
              "9"
            ]
          },
          "execution_count": 202,
          "metadata": {},
          "output_type": "execute_result"
        }
      ],
      "source": [
        "randint(0, 10)"
      ]
    },
    {
      "cell_type": "code",
      "execution_count": null,
      "metadata": {
        "colab": {
          "base_uri": "https://localhost:8080/"
        },
        "id": "moPuxp5HjIKX",
        "outputId": "af9777bb-886e-4dca-b3aa-037d7aa97b0a"
      },
      "outputs": [
        {
          "data": {
            "text/plain": [
              "['Customer',\n",
              " 'Employee',\n",
              " 'In',\n",
              " 'Out',\n",
              " 'Person',\n",
              " 'Random',\n",
              " 'SystemRandom',\n",
              " '_',\n",
              " '_102',\n",
              " '_103',\n",
              " '_104',\n",
              " '_105',\n",
              " '_106',\n",
              " '_107',\n",
              " '_108',\n",
              " '_109',\n",
              " '_11',\n",
              " '_110',\n",
              " '_111',\n",
              " '_115',\n",
              " '_116',\n",
              " '_119',\n",
              " '_120',\n",
              " '_121',\n",
              " '_122',\n",
              " '_124',\n",
              " '_125',\n",
              " '_126',\n",
              " '_127',\n",
              " '_128',\n",
              " '_129',\n",
              " '_130',\n",
              " '_131',\n",
              " '_132',\n",
              " '_133',\n",
              " '_134',\n",
              " '_136',\n",
              " '_137',\n",
              " '_139',\n",
              " '_140',\n",
              " '_141',\n",
              " '_143',\n",
              " '_146',\n",
              " '_147',\n",
              " '_149',\n",
              " '_150',\n",
              " '_151',\n",
              " '_152',\n",
              " '_153',\n",
              " '_154',\n",
              " '_155',\n",
              " '_156',\n",
              " '_158',\n",
              " '_159',\n",
              " '_160',\n",
              " '_169',\n",
              " '_17',\n",
              " '_170',\n",
              " '_171',\n",
              " '_172',\n",
              " '_173',\n",
              " '_174',\n",
              " '_179',\n",
              " '_181',\n",
              " '_182',\n",
              " '_183',\n",
              " '_184',\n",
              " '_185',\n",
              " '_186',\n",
              " '_188',\n",
              " '_189',\n",
              " '_190',\n",
              " '_20',\n",
              " '_200',\n",
              " '_202',\n",
              " '_22',\n",
              " '_23',\n",
              " '_40',\n",
              " '_41',\n",
              " '_43',\n",
              " '_44',\n",
              " '_52',\n",
              " '_8',\n",
              " '_9',\n",
              " '_90',\n",
              " '_94',\n",
              " '_95',\n",
              " '_97',\n",
              " '_98',\n",
              " '__',\n",
              " '___',\n",
              " '__builtin__',\n",
              " '__builtins__',\n",
              " '__doc__',\n",
              " '__loader__',\n",
              " '__name__',\n",
              " '__package__',\n",
              " '__spec__',\n",
              " '_dh',\n",
              " '_i',\n",
              " '_i1',\n",
              " '_i10',\n",
              " '_i100',\n",
              " '_i101',\n",
              " '_i102',\n",
              " '_i103',\n",
              " '_i104',\n",
              " '_i105',\n",
              " '_i106',\n",
              " '_i107',\n",
              " '_i108',\n",
              " '_i109',\n",
              " '_i11',\n",
              " '_i110',\n",
              " '_i111',\n",
              " '_i112',\n",
              " '_i113',\n",
              " '_i114',\n",
              " '_i115',\n",
              " '_i116',\n",
              " '_i117',\n",
              " '_i118',\n",
              " '_i119',\n",
              " '_i12',\n",
              " '_i120',\n",
              " '_i121',\n",
              " '_i122',\n",
              " '_i123',\n",
              " '_i124',\n",
              " '_i125',\n",
              " '_i126',\n",
              " '_i127',\n",
              " '_i128',\n",
              " '_i129',\n",
              " '_i13',\n",
              " '_i130',\n",
              " '_i131',\n",
              " '_i132',\n",
              " '_i133',\n",
              " '_i134',\n",
              " '_i135',\n",
              " '_i136',\n",
              " '_i137',\n",
              " '_i138',\n",
              " '_i139',\n",
              " '_i14',\n",
              " '_i140',\n",
              " '_i141',\n",
              " '_i142',\n",
              " '_i143',\n",
              " '_i144',\n",
              " '_i145',\n",
              " '_i146',\n",
              " '_i147',\n",
              " '_i148',\n",
              " '_i149',\n",
              " '_i15',\n",
              " '_i150',\n",
              " '_i151',\n",
              " '_i152',\n",
              " '_i153',\n",
              " '_i154',\n",
              " '_i155',\n",
              " '_i156',\n",
              " '_i157',\n",
              " '_i158',\n",
              " '_i159',\n",
              " '_i16',\n",
              " '_i160',\n",
              " '_i161',\n",
              " '_i162',\n",
              " '_i163',\n",
              " '_i164',\n",
              " '_i165',\n",
              " '_i166',\n",
              " '_i167',\n",
              " '_i168',\n",
              " '_i169',\n",
              " '_i17',\n",
              " '_i170',\n",
              " '_i171',\n",
              " '_i172',\n",
              " '_i173',\n",
              " '_i174',\n",
              " '_i175',\n",
              " '_i176',\n",
              " '_i177',\n",
              " '_i178',\n",
              " '_i179',\n",
              " '_i18',\n",
              " '_i180',\n",
              " '_i181',\n",
              " '_i182',\n",
              " '_i183',\n",
              " '_i184',\n",
              " '_i185',\n",
              " '_i186',\n",
              " '_i187',\n",
              " '_i188',\n",
              " '_i189',\n",
              " '_i19',\n",
              " '_i190',\n",
              " '_i191',\n",
              " '_i192',\n",
              " '_i193',\n",
              " '_i194',\n",
              " '_i195',\n",
              " '_i196',\n",
              " '_i197',\n",
              " '_i198',\n",
              " '_i199',\n",
              " '_i2',\n",
              " '_i20',\n",
              " '_i200',\n",
              " '_i201',\n",
              " '_i202',\n",
              " '_i203',\n",
              " '_i21',\n",
              " '_i22',\n",
              " '_i23',\n",
              " '_i24',\n",
              " '_i25',\n",
              " '_i26',\n",
              " '_i27',\n",
              " '_i28',\n",
              " '_i29',\n",
              " '_i3',\n",
              " '_i30',\n",
              " '_i31',\n",
              " '_i32',\n",
              " '_i33',\n",
              " '_i34',\n",
              " '_i35',\n",
              " '_i36',\n",
              " '_i37',\n",
              " '_i38',\n",
              " '_i39',\n",
              " '_i4',\n",
              " '_i40',\n",
              " '_i41',\n",
              " '_i42',\n",
              " '_i43',\n",
              " '_i44',\n",
              " '_i45',\n",
              " '_i46',\n",
              " '_i47',\n",
              " '_i48',\n",
              " '_i49',\n",
              " '_i5',\n",
              " '_i50',\n",
              " '_i51',\n",
              " '_i52',\n",
              " '_i53',\n",
              " '_i54',\n",
              " '_i55',\n",
              " '_i56',\n",
              " '_i57',\n",
              " '_i58',\n",
              " '_i59',\n",
              " '_i6',\n",
              " '_i60',\n",
              " '_i61',\n",
              " '_i62',\n",
              " '_i63',\n",
              " '_i64',\n",
              " '_i65',\n",
              " '_i66',\n",
              " '_i67',\n",
              " '_i68',\n",
              " '_i69',\n",
              " '_i7',\n",
              " '_i70',\n",
              " '_i71',\n",
              " '_i72',\n",
              " '_i73',\n",
              " '_i74',\n",
              " '_i75',\n",
              " '_i76',\n",
              " '_i77',\n",
              " '_i78',\n",
              " '_i79',\n",
              " '_i8',\n",
              " '_i80',\n",
              " '_i81',\n",
              " '_i82',\n",
              " '_i83',\n",
              " '_i84',\n",
              " '_i85',\n",
              " '_i86',\n",
              " '_i87',\n",
              " '_i88',\n",
              " '_i89',\n",
              " '_i9',\n",
              " '_i90',\n",
              " '_i91',\n",
              " '_i92',\n",
              " '_i93',\n",
              " '_i94',\n",
              " '_i95',\n",
              " '_i96',\n",
              " '_i97',\n",
              " '_i98',\n",
              " '_i99',\n",
              " '_ih',\n",
              " '_ii',\n",
              " '_iii',\n",
              " '_oh',\n",
              " 'a',\n",
              " 'a_person',\n",
              " 'apply_loan',\n",
              " 'b',\n",
              " 'betavariate',\n",
              " 'c',\n",
              " 'choice',\n",
              " 'choices',\n",
              " 'currency_converter',\n",
              " 'customer_1',\n",
              " 'customer_2',\n",
              " 'customer_3',\n",
              " 'd',\n",
              " 'details',\n",
              " 'employee1',\n",
              " 'exit',\n",
              " 'expovariate',\n",
              " 'f',\n",
              " 'first',\n",
              " 'gammavariate',\n",
              " 'gauss',\n",
              " 'get_ipython',\n",
              " 'getrandbits',\n",
              " 'getstate',\n",
              " 'gradebook',\n",
              " 'gradebooks',\n",
              " 'greet',\n",
              " 'i',\n",
              " 'k',\n",
              " 'listOfNums',\n",
              " 'lognormvariate',\n",
              " 'mean_v1',\n",
              " 'mean_v2',\n",
              " 'mod',\n",
              " 'multiply_v1',\n",
              " 'multiply_v2',\n",
              " 'normalvariate',\n",
              " 'paretovariate',\n",
              " 'print_all_args',\n",
              " 'print_args_1',\n",
              " 'print_args_2',\n",
              " 'print_args_3',\n",
              " 'print_args_4',\n",
              " 'print_args_5',\n",
              " 'quad_1',\n",
              " 'quad_2',\n",
              " 'quit',\n",
              " 'randbytes',\n",
              " 'randint',\n",
              " 'random',\n",
              " 'randrange',\n",
              " 'remaining',\n",
              " 'sample',\n",
              " 'seed',\n",
              " 'setstate',\n",
              " 'shuffle',\n",
              " 'sort_letters',\n",
              " 'text',\n",
              " 'triangular',\n",
              " 'uniform',\n",
              " 'update_detail',\n",
              " 'v',\n",
              " 'vonmisesvariate',\n",
              " 'weibullvariate']"
            ]
          },
          "execution_count": 203,
          "metadata": {},
          "output_type": "execute_result"
        }
      ],
      "source": [
        "dir()"
      ]
    },
    {
      "cell_type": "markdown",
      "metadata": {
        "id": "gPc8Ul-c8ouA"
      },
      "source": [
        "However, this should be used with caution, as it would potentially create <b>*name collisions*</b>:"
      ]
    },
    {
      "cell_type": "code",
      "execution_count": null,
      "metadata": {
        "colab": {
          "base_uri": "https://localhost:8080/",
          "height": 159
        },
        "id": "fzSy6Jpe8riI",
        "outputId": "6899dcc0-00bd-415d-8ad2-bab4072c733f"
      },
      "outputs": [
        {
          "ename": "TypeError",
          "evalue": "'int' object is not callable",
          "output_type": "error",
          "traceback": [
            "\u001b[0;31m---------------------------------------------------------------------------\u001b[0m",
            "\u001b[0;31mTypeError\u001b[0m                                 Traceback (most recent call last)",
            "\u001b[0;32m<ipython-input-204-84ebe905224a>\u001b[0m in \u001b[0;36m<cell line: 0>\u001b[0;34m()\u001b[0m\n\u001b[1;32m      1\u001b[0m \u001b[0mrandint\u001b[0m \u001b[0;34m=\u001b[0m \u001b[0;36m2\u001b[0m\u001b[0;34m\u001b[0m\u001b[0;34m\u001b[0m\u001b[0m\n\u001b[0;32m----> 2\u001b[0;31m \u001b[0mrandint\u001b[0m\u001b[0;34m(\u001b[0m\u001b[0;36m0\u001b[0m\u001b[0;34m,\u001b[0m \u001b[0;36m10\u001b[0m\u001b[0;34m)\u001b[0m\u001b[0;34m\u001b[0m\u001b[0;34m\u001b[0m\u001b[0m\n\u001b[0m",
            "\u001b[0;31mTypeError\u001b[0m: 'int' object is not callable"
          ]
        }
      ],
      "source": [
        "randint = 2\n",
        "randint(0, 10)"
      ]
    },
    {
      "cell_type": "markdown",
      "metadata": {
        "id": "fWFSqe9V8xFX"
      },
      "source": [
        "As a third alternative, we can import only a few selected names from a module by explicitly listing them:"
      ]
    },
    {
      "cell_type": "code",
      "execution_count": null,
      "metadata": {
        "id": "i82ePuMB8zdK"
      },
      "outputs": [],
      "source": [
        "from random import randint, sample"
      ]
    },
    {
      "cell_type": "code",
      "execution_count": null,
      "metadata": {
        "colab": {
          "base_uri": "https://localhost:8080/"
        },
        "id": "lTwfBNKN815J",
        "outputId": "e89ef3a7-4a6f-44ba-f8f7-d77bd6919cf7"
      },
      "outputs": [
        {
          "data": {
            "text/plain": [
              "0"
            ]
          },
          "execution_count": 206,
          "metadata": {},
          "output_type": "execute_result"
        }
      ],
      "source": [
        "randint(0, 10)"
      ]
    },
    {
      "cell_type": "code",
      "execution_count": null,
      "metadata": {
        "colab": {
          "base_uri": "https://localhost:8080/"
        },
        "id": "YUS2ARV684MW",
        "outputId": "057b7d63-1c60-4214-a8c8-4fd48878d869"
      },
      "outputs": [
        {
          "data": {
            "text/plain": [
              "[70, 18, 4, 13, 55, 41, 60, 49, 72, 76, 73, 35, 24, 63, 52, 36, 14, 96, 57, 50]"
            ]
          },
          "execution_count": 208,
          "metadata": {},
          "output_type": "execute_result"
        }
      ],
      "source": [
        "sample(range(100), 20)       #  help(sample)"
      ]
    },
    {
      "cell_type": "code",
      "execution_count": null,
      "metadata": {
        "colab": {
          "base_uri": "https://localhost:8080/"
        },
        "id": "AB1RbzbgtFR-",
        "outputId": "033c84f5-3d2a-4312-d921-edbd3557e8fa"
      },
      "outputs": [
        {
          "name": "stdout",
          "output_type": "stream",
          "text": [
            "Help on method sample in module random:\n",
            "\n",
            "sample(population, k, *, counts=None) method of random.Random instance\n",
            "    Chooses k unique random elements from a population sequence or set.\n",
            "    \n",
            "    Returns a new list containing elements from the population while\n",
            "    leaving the original population unchanged.  The resulting list is\n",
            "    in selection order so that all sub-slices will also be valid random\n",
            "    samples.  This allows raffle winners (the sample) to be partitioned\n",
            "    into grand prize and second place winners (the subslices).\n",
            "    \n",
            "    Members of the population need not be hashable or unique.  If the\n",
            "    population contains repeats, then each occurrence is a possible\n",
            "    selection in the sample.\n",
            "    \n",
            "    Repeated elements can be specified one at a time or with the optional\n",
            "    counts parameter.  For example:\n",
            "    \n",
            "        sample(['red', 'blue'], counts=[4, 2], k=5)\n",
            "    \n",
            "    is equivalent to:\n",
            "    \n",
            "        sample(['red', 'red', 'red', 'red', 'blue', 'blue'], k=5)\n",
            "    \n",
            "    To choose a sample from a range of integers, use range() for the\n",
            "    population argument.  This is especially fast and space efficient\n",
            "    for sampling from a large population:\n",
            "    \n",
            "        sample(range(10000000), 60)\n",
            "\n"
          ]
        }
      ],
      "source": [
        "help(sample)"
      ]
    },
    {
      "cell_type": "markdown",
      "metadata": {
        "id": "OvY9e-3O10Jg"
      },
      "source": [
        "If we want to use the module with a different name, we can use `from...import...as` statement."
      ]
    },
    {
      "cell_type": "code",
      "execution_count": null,
      "metadata": {
        "colab": {
          "base_uri": "https://localhost:8080/"
        },
        "id": "YQHlBuQz10Jh",
        "outputId": "2fa3d641-8d4c-4709-fc74-9f9b634a3004"
      },
      "outputs": [
        {
          "data": {
            "text/plain": [
              "16"
            ]
          },
          "execution_count": 213,
          "metadata": {},
          "output_type": "execute_result"
        }
      ],
      "source": [
        "import random as rand\n",
        "\n",
        "rand.randrange(10, 20, 2)   #returns a randomly selected element from the specified range."
      ]
    },
    {
      "cell_type": "markdown",
      "metadata": {
        "id": "TsDOGxpTVtLY"
      },
      "source": [
        "We can use the command below to check the installed packages:"
      ]
    },
    {
      "cell_type": "code",
      "execution_count": null,
      "metadata": {
        "colab": {
          "base_uri": "https://localhost:8080/"
        },
        "id": "aeDT9Nh_B2ua",
        "outputId": "c02b6e9d-e5bc-4130-e48e-83cace824d91"
      },
      "outputs": [
        {
          "name": "stdout",
          "output_type": "stream",
          "text": [
            "Package                            Version\n",
            "---------------------------------- ------------------\n",
            "absl-py                            1.4.0\n",
            "accelerate                         1.3.0\n",
            "aiohappyeyeballs                   2.4.6\n",
            "aiohttp                            3.11.13\n",
            "aiosignal                          1.3.2\n",
            "alabaster                          1.0.0\n",
            "albucore                           0.0.23\n",
            "albumentations                     2.0.5\n",
            "ale-py                             0.10.2\n",
            "altair                             5.5.0\n",
            "annotated-types                    0.7.0\n",
            "anyio                              3.7.1\n",
            "argon2-cffi                        23.1.0\n",
            "argon2-cffi-bindings               21.2.0\n",
            "array_record                       0.6.0\n",
            "arviz                              0.20.0\n",
            "astropy                            7.0.1\n",
            "astropy-iers-data                  0.2025.3.3.0.34.45\n",
            "astunparse                         1.6.3\n",
            "atpublic                           4.1.0\n",
            "attrs                              25.1.0\n",
            "audioread                          3.0.1\n",
            "autograd                           1.7.0\n",
            "babel                              2.17.0\n",
            "backcall                           0.2.0\n",
            "beautifulsoup4                     4.13.3\n",
            "betterproto                        2.0.0b6\n",
            "bigframes                          1.38.0\n",
            "bigquery-magics                    0.6.0\n",
            "bleach                             6.2.0\n",
            "blinker                            1.9.0\n",
            "blis                               0.7.11\n",
            "blosc2                             3.2.0\n",
            "bokeh                              3.6.3\n",
            "Bottleneck                         1.4.2\n",
            "bqplot                             0.12.44\n",
            "branca                             0.8.1\n",
            "CacheControl                       0.14.2\n",
            "cachetools                         5.5.2\n",
            "catalogue                          2.0.10\n",
            "certifi                            2025.1.31\n",
            "cffi                               1.17.1\n",
            "chardet                            5.2.0\n",
            "charset-normalizer                 3.4.1\n",
            "chex                               0.1.89\n",
            "clarabel                           0.10.0\n",
            "click                              8.1.8\n",
            "cloudpathlib                       0.20.0\n",
            "cloudpickle                        3.1.1\n",
            "cmake                              3.31.6\n",
            "cmdstanpy                          1.2.5\n",
            "colorcet                           3.1.0\n",
            "colorlover                         0.3.0\n",
            "colour                             0.1.5\n",
            "community                          1.0.0b1\n",
            "confection                         0.1.5\n",
            "cons                               0.4.6\n",
            "contourpy                          1.3.1\n",
            "cramjam                            2.9.1\n",
            "cryptography                       43.0.3\n",
            "cuda-python                        12.6.2.post1\n",
            "cudf-cu12                          25.2.1\n",
            "cudf-polars-cu12                   25.2.2\n",
            "cufflinks                          0.17.3\n",
            "cuml-cu12                          25.2.1\n",
            "cupy-cuda12x                       13.3.0\n",
            "cuvs-cu12                          25.2.1\n",
            "cvxopt                             1.3.2\n",
            "cvxpy                              1.6.2\n",
            "cycler                             0.12.1\n",
            "cyipopt                            1.5.0\n",
            "cymem                              2.0.11\n",
            "Cython                             3.0.12\n",
            "dask                               2024.12.1\n",
            "dask-cuda                          25.2.0\n",
            "dask-cudf-cu12                     25.2.2\n",
            "dask-expr                          1.1.21\n",
            "datascience                        0.17.6\n",
            "db-dtypes                          1.4.1\n",
            "dbus-python                        1.2.18\n",
            "debugpy                            1.8.0\n",
            "decorator                          4.4.2\n",
            "defusedxml                         0.7.1\n",
            "Deprecated                         1.2.18\n",
            "diffusers                          0.32.2\n",
            "distributed                        2024.12.1\n",
            "distributed-ucxx-cu12              0.42.0\n",
            "distro                             1.9.0\n",
            "dlib                               19.24.2\n",
            "dm-tree                            0.1.9\n",
            "docker-pycreds                     0.4.0\n",
            "docstring_parser                   0.16\n",
            "docutils                           0.21.2\n",
            "dopamine_rl                        4.1.2\n",
            "duckdb                             1.1.3\n",
            "earthengine-api                    1.5.4\n",
            "easydict                           1.13\n",
            "editdistance                       0.8.1\n",
            "eerepr                             0.1.1\n",
            "einops                             0.8.1\n",
            "en-core-web-sm                     3.7.1\n",
            "entrypoints                        0.4\n",
            "et_xmlfile                         2.0.0\n",
            "etils                              1.12.0\n",
            "etuples                            0.3.9\n",
            "Farama-Notifications               0.0.4\n",
            "fastai                             2.7.18\n",
            "fastcore                           1.7.29\n",
            "fastdownload                       0.0.7\n",
            "fastjsonschema                     2.21.1\n",
            "fastprogress                       1.0.3\n",
            "fastrlock                          0.8.3\n",
            "filelock                           3.17.0\n",
            "firebase-admin                     6.6.0\n",
            "Flask                              3.1.0\n",
            "flatbuffers                        25.2.10\n",
            "flax                               0.10.4\n",
            "folium                             0.19.5\n",
            "fonttools                          4.56.0\n",
            "frozendict                         2.4.6\n",
            "frozenlist                         1.5.0\n",
            "fsspec                             2024.10.0\n",
            "future                             1.0.0\n",
            "gast                               0.6.0\n",
            "gcsfs                              2024.10.0\n",
            "GDAL                               3.6.4\n",
            "gdown                              5.2.0\n",
            "geemap                             0.35.2\n",
            "gensim                             4.3.3\n",
            "geocoder                           1.38.1\n",
            "geographiclib                      2.0\n",
            "geopandas                          1.0.1\n",
            "geopy                              2.4.1\n",
            "gin-config                         0.5.0\n",
            "gitdb                              4.0.12\n",
            "GitPython                          3.1.44\n",
            "glob2                              0.7\n",
            "google                             2.0.3\n",
            "google-ai-generativelanguage       0.6.15\n",
            "google-api-core                    2.24.1\n",
            "google-api-python-client           2.160.0\n",
            "google-auth                        2.38.0\n",
            "google-auth-httplib2               0.2.0\n",
            "google-auth-oauthlib               1.2.1\n",
            "google-cloud-aiplatform            1.79.0\n",
            "google-cloud-bigquery              3.29.0\n",
            "google-cloud-bigquery-connection   1.18.1\n",
            "google-cloud-bigquery-storage      2.28.0\n",
            "google-cloud-bigtable              2.29.0\n",
            "google-cloud-core                  2.4.2\n",
            "google-cloud-dataproc              5.18.0\n",
            "google-cloud-datastore             2.20.2\n",
            "google-cloud-firestore             2.20.1\n",
            "google-cloud-functions             1.19.0\n",
            "google-cloud-iam                   2.18.1\n",
            "google-cloud-language              2.16.0\n",
            "google-cloud-pubsub                2.25.0\n",
            "google-cloud-resource-manager      1.14.1\n",
            "google-cloud-spanner               3.52.0\n",
            "google-cloud-storage               2.19.0\n",
            "google-cloud-translate             3.19.0\n",
            "google-colab                       1.0.0\n",
            "google-crc32c                      1.6.0\n",
            "google-genai                       1.2.0\n",
            "google-generativeai                0.8.4\n",
            "google-pasta                       0.2.0\n",
            "google-resumable-media             2.7.2\n",
            "google-spark-connect               0.5.3\n",
            "googleapis-common-protos           1.69.0\n",
            "googledrivedownloader              1.1.0\n",
            "graphviz                           0.20.3\n",
            "greenlet                           3.1.1\n",
            "grpc-google-iam-v1                 0.14.1\n",
            "grpc-interceptor                   0.15.4\n",
            "grpcio                             1.70.0\n",
            "grpcio-status                      1.62.3\n",
            "grpclib                            0.4.7\n",
            "gspread                            6.1.4\n",
            "gspread-dataframe                  4.0.0\n",
            "gym                                0.25.2\n",
            "gym-notices                        0.0.8\n",
            "gymnasium                          1.1.0\n",
            "h11                                0.14.0\n",
            "h2                                 4.2.0\n",
            "h5netcdf                           1.5.0\n",
            "h5py                               3.12.1\n",
            "hdbscan                            0.8.40\n",
            "highspy                            1.9.0\n",
            "holidays                           0.68\n",
            "holoviews                          1.20.1\n",
            "hpack                              4.1.0\n",
            "html5lib                           1.1\n",
            "httpcore                           1.0.7\n",
            "httpimport                         1.4.0\n",
            "httplib2                           0.22.0\n",
            "httpx                              0.28.1\n",
            "huggingface-hub                    0.28.1\n",
            "humanize                           4.11.0\n",
            "hyperframe                         6.1.0\n",
            "hyperopt                           0.2.7\n",
            "ibis-framework                     9.2.0\n",
            "idna                               3.10\n",
            "imageio                            2.37.0\n",
            "imageio-ffmpeg                     0.6.0\n",
            "imagesize                          1.4.1\n",
            "imbalanced-learn                   0.13.0\n",
            "imgaug                             0.4.0\n",
            "immutabledict                      4.2.1\n",
            "importlib_metadata                 8.6.1\n",
            "importlib_resources                6.5.2\n",
            "imutils                            0.5.4\n",
            "inflect                            7.5.0\n",
            "iniconfig                          2.0.0\n",
            "intel-cmplr-lib-ur                 2025.0.4\n",
            "intel-openmp                       2025.0.4\n",
            "ipyevents                          2.0.2\n",
            "ipyfilechooser                     0.6.0\n",
            "ipykernel                          6.17.1\n",
            "ipyleaflet                         0.19.2\n",
            "ipyparallel                        8.8.0\n",
            "ipython                            7.34.0\n",
            "ipython-genutils                   0.2.0\n",
            "ipython-sql                        0.5.0\n",
            "ipytree                            0.2.2\n",
            "ipywidgets                         7.7.1\n",
            "itsdangerous                       2.2.0\n",
            "jax                                0.4.33\n",
            "jax-cuda12-pjrt                    0.4.33\n",
            "jax-cuda12-plugin                  0.4.33\n",
            "jaxlib                             0.4.33\n",
            "jeepney                            0.7.1\n",
            "jellyfish                          1.1.0\n",
            "jieba                              0.42.1\n",
            "Jinja2                             3.1.5\n",
            "jiter                              0.8.2\n",
            "joblib                             1.4.2\n",
            "jsonpatch                          1.33\n",
            "jsonpickle                         4.0.2\n",
            "jsonpointer                        3.0.0\n",
            "jsonschema                         4.23.0\n",
            "jsonschema-specifications          2024.10.1\n",
            "jupyter-client                     6.1.12\n",
            "jupyter-console                    6.1.0\n",
            "jupyter_core                       5.7.2\n",
            "jupyter-leaflet                    0.19.2\n",
            "jupyter-server                     1.24.0\n",
            "jupyterlab_pygments                0.3.0\n",
            "jupyterlab_widgets                 3.0.13\n",
            "kaggle                             1.6.17\n",
            "kagglehub                          0.3.10\n",
            "keras                              3.8.0\n",
            "keras-hub                          0.18.1\n",
            "keras-nlp                          0.18.1\n",
            "keyring                            23.5.0\n",
            "kiwisolver                         1.4.8\n",
            "langchain                          0.3.19\n",
            "langchain-core                     0.3.40\n",
            "langchain-text-splitters           0.3.6\n",
            "langcodes                          3.5.0\n",
            "langsmith                          0.3.11\n",
            "language_data                      1.3.0\n",
            "launchpadlib                       1.10.16\n",
            "lazr.restfulclient                 0.14.4\n",
            "lazr.uri                           1.0.6\n",
            "lazy_loader                        0.4\n",
            "libclang                           18.1.1\n",
            "libcudf-cu12                       25.2.1\n",
            "libcugraph-cu12                    25.2.0\n",
            "libcuml-cu12                       25.2.1\n",
            "libcuvs-cu12                       25.2.1\n",
            "libkvikio-cu12                     25.2.1\n",
            "libraft-cu12                       25.2.0\n",
            "librosa                            0.10.2.post1\n",
            "libucx-cu12                        1.18.0\n",
            "libucxx-cu12                       0.42.0\n",
            "lightgbm                           4.5.0\n",
            "linkify-it-py                      2.0.3\n",
            "llvmlite                           0.43.0\n",
            "locket                             1.0.0\n",
            "logical-unification                0.4.6\n",
            "lxml                               5.3.1\n",
            "marisa-trie                        1.2.1\n",
            "Markdown                           3.7\n",
            "markdown-it-py                     3.0.0\n",
            "MarkupSafe                         3.0.2\n",
            "matplotlib                         3.10.0\n",
            "matplotlib-inline                  0.1.7\n",
            "matplotlib-venn                    1.1.2\n",
            "mdit-py-plugins                    0.4.2\n",
            "mdurl                              0.1.2\n",
            "miniKanren                         1.0.3\n",
            "missingno                          0.5.2\n",
            "mistune                            3.1.2\n",
            "mizani                             0.13.1\n",
            "mkl                                2025.0.1\n",
            "ml-dtypes                          0.4.1\n",
            "mlxtend                            0.23.4\n",
            "more-itertools                     10.6.0\n",
            "moviepy                            1.0.3\n",
            "mpmath                             1.3.0\n",
            "msgpack                            1.1.0\n",
            "multidict                          6.1.0\n",
            "multipledispatch                   1.0.0\n",
            "multitasking                       0.0.11\n",
            "murmurhash                         1.0.12\n",
            "music21                            9.3.0\n",
            "namex                              0.0.8\n",
            "narwhals                           1.29.0\n",
            "natsort                            8.4.0\n",
            "nbclassic                          1.2.0\n",
            "nbclient                           0.10.2\n",
            "nbconvert                          7.16.6\n",
            "nbformat                           5.10.4\n",
            "ndindex                            1.9.2\n",
            "nest-asyncio                       1.6.0\n",
            "networkx                           3.4.2\n",
            "nibabel                            5.3.2\n",
            "nltk                               3.9.1\n",
            "notebook                           6.5.5\n",
            "notebook_shim                      0.2.4\n",
            "numba                              0.60.0\n",
            "numba-cuda                         0.2.0\n",
            "numexpr                            2.10.2\n",
            "numpy                              1.26.4\n",
            "nvidia-cublas-cu12                 12.5.3.2\n",
            "nvidia-cuda-cupti-cu12             12.5.82\n",
            "nvidia-cuda-nvcc-cu12              12.5.82\n",
            "nvidia-cuda-nvrtc-cu12             12.5.82\n",
            "nvidia-cuda-runtime-cu12           12.5.82\n",
            "nvidia-cudnn-cu12                  9.3.0.75\n",
            "nvidia-cufft-cu12                  11.2.3.61\n",
            "nvidia-curand-cu12                 10.3.6.82\n",
            "nvidia-cusolver-cu12               11.6.3.83\n",
            "nvidia-cusparse-cu12               12.5.1.3\n",
            "nvidia-ml-py                       12.570.86\n",
            "nvidia-nccl-cu12                   2.21.5\n",
            "nvidia-nvcomp-cu12                 4.2.0.11\n",
            "nvidia-nvjitlink-cu12              12.5.82\n",
            "nvidia-nvtx-cu12                   12.4.127\n",
            "nvtx                               0.2.11\n",
            "nx-cugraph-cu12                    25.2.0\n",
            "oauth2client                       4.1.3\n",
            "oauthlib                           3.2.2\n",
            "openai                             1.61.1\n",
            "opencv-contrib-python              4.11.0.86\n",
            "opencv-python                      4.11.0.86\n",
            "opencv-python-headless             4.11.0.86\n",
            "openpyxl                           3.1.5\n",
            "opentelemetry-api                  1.16.0\n",
            "opentelemetry-sdk                  1.16.0\n",
            "opentelemetry-semantic-conventions 0.37b0\n",
            "opt_einsum                         3.4.0\n",
            "optax                              0.2.4\n",
            "optree                             0.14.1\n",
            "orbax-checkpoint                   0.6.4\n",
            "orjson                             3.10.15\n",
            "osqp                               0.6.7.post3\n",
            "packaging                          24.2\n",
            "pandas                             2.2.2\n",
            "pandas-datareader                  0.10.0\n",
            "pandas-gbq                         0.28.0\n",
            "pandas-stubs                       2.2.2.240909\n",
            "pandocfilters                      1.5.1\n",
            "panel                              1.6.1\n",
            "param                              2.2.0\n",
            "parso                              0.8.4\n",
            "parsy                              2.1\n",
            "partd                              1.4.2\n",
            "pathlib                            1.0.1\n",
            "patsy                              1.0.1\n",
            "peewee                             3.17.9\n",
            "peft                               0.14.0\n",
            "pexpect                            4.9.0\n",
            "pickleshare                        0.7.5\n",
            "pillow                             11.1.0\n",
            "pip                                24.1.2\n",
            "platformdirs                       4.3.6\n",
            "plotly                             5.24.1\n",
            "plotnine                           0.14.5\n",
            "pluggy                             1.5.0\n",
            "ply                                3.11\n",
            "polars                             1.21.0\n",
            "pooch                              1.8.2\n",
            "portpicker                         1.5.2\n",
            "preshed                            3.0.9\n",
            "prettytable                        3.15.1\n",
            "proglog                            0.1.10\n",
            "progressbar2                       4.5.0\n",
            "prometheus_client                  0.21.1\n",
            "promise                            2.3\n",
            "prompt_toolkit                     3.0.50\n",
            "propcache                          0.3.0\n",
            "prophet                            1.1.6\n",
            "proto-plus                         1.26.0\n",
            "protobuf                           4.25.6\n",
            "psutil                             5.9.5\n",
            "psycopg2                           2.9.10\n",
            "ptyprocess                         0.7.0\n",
            "py-cpuinfo                         9.0.0\n",
            "py4j                               0.10.9.7\n",
            "pyarrow                            18.1.0\n",
            "pyasn1                             0.6.1\n",
            "pyasn1_modules                     0.4.1\n",
            "pycocotools                        2.0.8\n",
            "pycparser                          2.22\n",
            "pydantic                           2.10.6\n",
            "pydantic_core                      2.27.2\n",
            "pydata-google-auth                 1.9.1\n",
            "pydot                              3.0.4\n",
            "pydotplus                          2.0.2\n",
            "PyDrive                            1.3.1\n",
            "PyDrive2                           1.21.3\n",
            "pyerfa                             2.0.1.5\n",
            "pygame                             2.6.1\n",
            "pygit2                             1.17.0\n",
            "Pygments                           2.18.0\n",
            "PyGObject                          3.42.1\n",
            "PyJWT                              2.10.1\n",
            "pylibcudf-cu12                     25.2.1\n",
            "pylibcugraph-cu12                  25.2.0\n",
            "pylibraft-cu12                     25.2.0\n",
            "pymc                               5.20.1\n",
            "pymystem3                          0.2.0\n",
            "pynndescent                        0.5.13\n",
            "pynvjitlink-cu12                   0.5.0\n",
            "pynvml                             12.0.0\n",
            "pyogrio                            0.10.0\n",
            "Pyomo                              6.8.2\n",
            "PyOpenGL                           3.1.9\n",
            "pyOpenSSL                          24.2.1\n",
            "pyparsing                          3.2.1\n",
            "pyperclip                          1.9.0\n",
            "pyproj                             3.7.1\n",
            "pyshp                              2.3.1\n",
            "PySocks                            1.7.1\n",
            "pyspark                            3.5.5\n",
            "pytensor                           2.27.1\n",
            "pytest                             8.3.5\n",
            "python-apt                         0.0.0\n",
            "python-box                         7.3.2\n",
            "python-dateutil                    2.8.2\n",
            "python-louvain                     0.16\n",
            "python-slugify                     8.0.4\n",
            "python-snappy                      0.7.3\n",
            "python-utils                       3.9.1\n",
            "pytz                               2025.1\n",
            "pyviz_comms                        3.0.4\n",
            "PyYAML                             6.0.2\n",
            "pyzmq                              24.0.1\n",
            "qdldl                              0.1.7.post5\n",
            "raft-dask-cu12                     25.2.0\n",
            "rapids-dask-dependency             25.2.0\n",
            "ratelim                            0.1.6\n",
            "referencing                        0.36.2\n",
            "regex                              2024.11.6\n",
            "requests                           2.32.3\n",
            "requests-oauthlib                  2.0.0\n",
            "requests-toolbelt                  1.0.0\n",
            "requirements-parser                0.9.0\n",
            "rich                               13.9.4\n",
            "rmm-cu12                           25.2.0\n",
            "rpds-py                            0.23.1\n",
            "rpy2                               3.5.17\n",
            "rsa                                4.9\n",
            "safetensors                        0.5.3\n",
            "scikit-image                       0.25.2\n",
            "scikit-learn                       1.6.1\n",
            "scipy                              1.13.1\n",
            "scooby                             0.10.0\n",
            "scs                                3.2.7.post2\n",
            "seaborn                            0.13.2\n",
            "SecretStorage                      3.3.1\n",
            "Send2Trash                         1.8.3\n",
            "sentence-transformers              3.4.1\n",
            "sentencepiece                      0.2.0\n",
            "sentry-sdk                         2.22.0\n",
            "setproctitle                       1.3.5\n",
            "setuptools                         75.1.0\n",
            "shap                               0.46.0\n",
            "shapely                            2.0.7\n",
            "shellingham                        1.5.4\n",
            "simple-parsing                     0.1.7\n",
            "simsimd                            6.2.1\n",
            "six                                1.17.0\n",
            "sklearn-compat                     0.1.3\n",
            "sklearn-pandas                     2.2.0\n",
            "slicer                             0.0.8\n",
            "smart-open                         7.1.0\n",
            "smmap                              5.0.2\n",
            "sniffio                            1.3.1\n",
            "snowballstemmer                    2.2.0\n",
            "sortedcontainers                   2.4.0\n",
            "soundfile                          0.13.1\n",
            "soupsieve                          2.6\n",
            "soxr                               0.5.0.post1\n",
            "spacy                              3.7.5\n",
            "spacy-legacy                       3.0.12\n",
            "spacy-loggers                      1.0.5\n",
            "spanner-graph-notebook             1.1.1\n",
            "Sphinx                             8.1.3\n",
            "sphinxcontrib-applehelp            2.0.0\n",
            "sphinxcontrib-devhelp              2.0.0\n",
            "sphinxcontrib-htmlhelp             2.1.0\n",
            "sphinxcontrib-jsmath               1.0.1\n",
            "sphinxcontrib-qthelp               2.0.0\n",
            "sphinxcontrib-serializinghtml      2.0.0\n",
            "SQLAlchemy                         2.0.38\n",
            "sqlglot                            25.6.1\n",
            "sqlparse                           0.5.3\n",
            "srsly                              2.5.1\n",
            "stanio                             0.5.1\n",
            "statsmodels                        0.14.4\n",
            "stringzilla                        3.12.2\n",
            "sympy                              1.13.1\n",
            "tables                             3.10.2\n",
            "tabulate                           0.9.0\n",
            "tbb                                2022.0.0\n",
            "tblib                              3.0.0\n",
            "tcmlib                             1.2.0\n",
            "tenacity                           9.0.0\n",
            "tensorboard                        2.18.0\n",
            "tensorboard-data-server            0.7.2\n",
            "tensorflow                         2.18.0\n",
            "tensorflow-datasets                4.9.7\n",
            "tensorflow-hub                     0.16.1\n",
            "tensorflow-io-gcs-filesystem       0.37.1\n",
            "tensorflow-metadata                1.16.1\n",
            "tensorflow-probability             0.25.0\n",
            "tensorflow-text                    2.18.1\n",
            "tensorstore                        0.1.72\n",
            "termcolor                          2.5.0\n",
            "terminado                          0.18.1\n",
            "text-unidecode                     1.3\n",
            "textblob                           0.19.0\n",
            "tf_keras                           2.18.0\n",
            "tf-slim                            1.1.0\n",
            "thinc                              8.2.5\n",
            "threadpoolctl                      3.5.0\n",
            "tifffile                           2025.2.18\n",
            "timm                               1.0.15\n",
            "tinycss2                           1.4.0\n",
            "tokenizers                         0.21.0\n",
            "toml                               0.10.2\n",
            "toolz                              0.12.1\n",
            "torch                              2.5.1+cu124\n",
            "torchaudio                         2.5.1+cu124\n",
            "torchsummary                       1.5.1\n",
            "torchvision                        0.20.1+cu124\n",
            "tornado                            6.4.2\n",
            "tqdm                               4.67.1\n",
            "traitlets                          5.7.1\n",
            "traittypes                         0.2.1\n",
            "transformers                       4.48.3\n",
            "treelite                           4.4.1\n",
            "treescope                          0.1.9\n",
            "triton                             3.1.0\n",
            "tweepy                             4.15.0\n",
            "typeguard                          4.4.2\n",
            "typer                              0.15.2\n",
            "types-pytz                         2025.1.0.20250204\n",
            "types-setuptools                   75.8.2.20250305\n",
            "typing_extensions                  4.12.2\n",
            "tzdata                             2025.1\n",
            "tzlocal                            5.3\n",
            "uc-micro-py                        1.0.3\n",
            "ucx-py-cu12                        0.42.0\n",
            "ucxx-cu12                          0.42.0\n",
            "umap-learn                         0.5.7\n",
            "umf                                0.9.1\n",
            "uritemplate                        4.1.1\n",
            "urllib3                            2.3.0\n",
            "vega-datasets                      0.9.0\n",
            "wadllib                            1.3.6\n",
            "wandb                              0.19.7\n",
            "wasabi                             1.1.3\n",
            "wcwidth                            0.2.13\n",
            "weasel                             0.4.1\n",
            "webcolors                          24.11.1\n",
            "webencodings                       0.5.1\n",
            "websocket-client                   1.8.0\n",
            "websockets                         14.2\n",
            "Werkzeug                           3.1.3\n",
            "wheel                              0.45.1\n",
            "widgetsnbextension                 3.6.10\n",
            "wordcloud                          1.9.4\n",
            "wrapt                              1.17.2\n",
            "xarray                             2025.1.2\n",
            "xarray-einstats                    0.8.0\n",
            "xgboost                            2.1.4\n",
            "xlrd                               2.0.1\n",
            "xyzservices                        2025.1.0\n",
            "yarl                               1.18.3\n",
            "yellowbrick                        1.5\n",
            "yfinance                           0.2.54\n",
            "zict                               3.0.0\n",
            "zipp                               3.21.0\n",
            "zstandard                          0.23.0\n"
          ]
        }
      ],
      "source": [
        "! pip list   # packages are listed in a case-insensitive sorted order"
      ]
    },
    {
      "cell_type": "markdown",
      "metadata": {
        "id": "E_0bU-Uf_XRa"
      },
      "source": [
        "---\n",
        "\n",
        "\n",
        "### How to pick up an unfamiliar Python library?"
      ]
    },
    {
      "cell_type": "markdown",
      "metadata": {
        "id": "5QqaOjTCDCTe"
      },
      "source": [
        "The `googletrans-py` library is a Python package used for language translation and detection by interacting with Google's Translate API."
      ]
    },
    {
      "cell_type": "code",
      "execution_count": null,
      "metadata": {
        "colab": {
          "base_uri": "https://localhost:8080/"
        },
        "id": "b2exQeVZ_e31",
        "outputId": "6579b906-fa0f-4540-cfa2-3f8570922df6"
      },
      "outputs": [
        {
          "name": "stdout",
          "output_type": "stream",
          "text": [
            "  Preparing metadata (setup.py) ... \u001b[?25l\u001b[?25hdone\n",
            "  Building wheel for googletrans-py (setup.py) ... \u001b[?25l\u001b[?25hdone\n"
          ]
        }
      ],
      "source": [
        "! pip install googletrans-py -q"
      ]
    },
    {
      "cell_type": "code",
      "execution_count": null,
      "metadata": {
        "colab": {
          "base_uri": "https://localhost:8080/"
        },
        "id": "Hn-MnL_I_h_7",
        "outputId": "be5b67bb-a53c-4dac-a0f2-a45a9c4c6397"
      },
      "outputs": [
        {
          "name": "stdout",
          "output_type": "stream",
          "text": [
            "4.0.0\n"
          ]
        },
        {
          "data": {
            "text/plain": [
              "['LANGCODES',\n",
              " 'LANGUAGES',\n",
              " 'Translator',\n",
              " '__all__',\n",
              " '__builtins__',\n",
              " '__cached__',\n",
              " '__doc__',\n",
              " '__file__',\n",
              " '__loader__',\n",
              " '__name__',\n",
              " '__package__',\n",
              " '__path__',\n",
              " '__spec__',\n",
              " '__version__',\n",
              " 'client',\n",
              " 'constants',\n",
              " 'gtoken',\n",
              " 'models',\n",
              " 'urls',\n",
              " 'utils']"
            ]
          },
          "execution_count": 216,
          "metadata": {},
          "output_type": "execute_result"
        }
      ],
      "source": [
        "import googletrans\n",
        "\n",
        "print(googletrans.__version__)\n",
        "dir(googletrans)"
      ]
    },
    {
      "cell_type": "code",
      "execution_count": null,
      "metadata": {
        "colab": {
          "base_uri": "https://localhost:8080/"
        },
        "id": "wMr0bMvL_kF3",
        "outputId": "78b69117-1c9e-4b61-aec7-3f648ba55d56"
      },
      "outputs": [
        {
          "name": "stdout",
          "output_type": "stream",
          "text": [
            "Help on class Translator in module googletrans.client:\n",
            "\n",
            "class Translator(builtins.object)\n",
            " |  Translator(service_urls=('translate.google.com',), user_agent='Mozilla/5.0 (Windows NT 10.0; Win64; x64)', raise_exception=False, proxies: Dict[str, httpcore._sync.interfaces.RequestInterface] = None, timeout: httpx.Timeout = None, http2=True, use_fallback=False)\n",
            " |  \n",
            " |  Methods defined here:\n",
            " |  \n",
            " |  __init__(self, service_urls=('translate.google.com',), user_agent='Mozilla/5.0 (Windows NT 10.0; Win64; x64)', raise_exception=False, proxies: Dict[str, httpcore._sync.interfaces.RequestInterface] = None, timeout: httpx.Timeout = None, http2=True, use_fallback=False)\n",
            " |      Initialize self.  See help(type(self)) for accurate signature.\n",
            " |  \n",
            " |  detect(self, text: str)\n",
            " |  \n",
            " |  detect_legacy(self, text, **kwargs)\n",
            " |  \n",
            " |  translate(self, text: str, dest='en', src='auto')\n",
            " |  \n",
            " |  translate_legacy(self, text, dest='en', src='auto', **kwargs)\n",
            " |  \n",
            " |  ----------------------------------------------------------------------\n",
            " |  Data descriptors defined here:\n",
            " |  \n",
            " |  __dict__\n",
            " |      dictionary for instance variables\n",
            " |  \n",
            " |  __weakref__\n",
            " |      list of weak references to the object\n",
            "\n"
          ]
        }
      ],
      "source": [
        "from googletrans import Translator\n",
        "\n",
        "help(Translator)"
      ]
    },
    {
      "cell_type": "markdown",
      "metadata": {
        "id": "FLtREYVO_oxt"
      },
      "source": [
        "Let's instantiate a `Translator` object, which allow us to access Google's translation functionalities."
      ]
    },
    {
      "cell_type": "code",
      "execution_count": null,
      "metadata": {
        "id": "x-xOw3P9_pjm"
      },
      "outputs": [],
      "source": [
        "translator =  Translator()"
      ]
    },
    {
      "cell_type": "code",
      "execution_count": null,
      "metadata": {
        "colab": {
          "base_uri": "https://localhost:8080/",
          "height": 52
        },
        "id": "-Cr5qIi6_reS",
        "outputId": "315ad458-14d0-49ba-eb94-38ae91cee60d"
      },
      "outputs": [
        {
          "data": {
            "application/vnd.google.colaboratory.intrinsic+json": {
              "type": "string"
            },
            "text/plain": [
              "'人工知能（AI）は、産業および学界全体のアプリケーションで使用されています。\\n電気やコンピューターと同様に、AIは多数のアプリケーションを備えた汎用技術として機能します。\\nそのアプリケーションは、言語翻訳、画像認識、意思決定、クレジットスコアリングに及びます。\\neコマースおよび他のさまざまなドメイン。'"
            ]
          },
          "execution_count": 219,
          "metadata": {},
          "output_type": "execute_result"
        }
      ],
      "source": [
        "text = \"\"\"Artificial intelligence (AI) has been used in applications throughout industry and academia.\n",
        "Similar to electricity or computers, AI serves as a general-purpose technology that has numerous applications.\n",
        "Its applications span language translation, image recognition, decision-making, credit scoring,\n",
        "e-commerce and various other domains.\n",
        "\"\"\"\n",
        "\n",
        "out = translator.translate(text, dest='ja')\n",
        "\n",
        "out.text"
      ]
    },
    {
      "cell_type": "code",
      "execution_count": null,
      "metadata": {
        "colab": {
          "base_uri": "https://localhost:8080/"
        },
        "id": "qKM8aJ4W_wKg",
        "outputId": "9b1341e5-2116-4989-ec99-41d3a6da460b"
      },
      "outputs": [
        {
          "data": {
            "text/plain": [
              "dict"
            ]
          },
          "execution_count": 220,
          "metadata": {},
          "output_type": "execute_result"
        }
      ],
      "source": [
        "type(googletrans.LANGCODES)"
      ]
    },
    {
      "cell_type": "code",
      "execution_count": null,
      "metadata": {
        "colab": {
          "base_uri": "https://localhost:8080/"
        },
        "id": "M0MNycUV_xUs",
        "outputId": "e1565a7b-228a-4ebc-d24e-fad9fa51c247"
      },
      "outputs": [
        {
          "name": "stdout",
          "output_type": "stream",
          "text": [
            "{'afrikaans': 'af', 'albanian': 'sq', 'amharic': 'am', 'arabic': 'ar', 'armenian': 'hy', 'azerbaijani': 'az', 'basque': 'eu', 'belarusian': 'be', 'bengali': 'bn', 'bosnian': 'bs', 'bulgarian': 'bg', 'catalan': 'ca', 'cebuano': 'ceb', 'chichewa': 'ny', 'chinese (simplified)': 'zh-cn', 'chinese (traditional)': 'zh-tw', 'corsican': 'co', 'croatian': 'hr', 'czech': 'cs', 'danish': 'da', 'dutch': 'nl', 'english': 'en', 'esperanto': 'eo', 'estonian': 'et', 'filipino': 'tl', 'finnish': 'fi', 'french': 'fr', 'frisian': 'fy', 'galician': 'gl', 'georgian': 'ka', 'german': 'de', 'greek': 'el', 'gujarati': 'gu', 'haitian creole': 'ht', 'hausa': 'ha', 'hawaiian': 'haw', 'hebrew': 'he', 'hindi': 'hi', 'hmong': 'hmn', 'hungarian': 'hu', 'icelandic': 'is', 'igbo': 'ig', 'indonesian': 'id', 'irish': 'ga', 'italian': 'it', 'japanese': 'ja', 'javanese': 'jw', 'kannada': 'kn', 'kazakh': 'kk', 'khmer': 'km', 'korean': 'ko', 'kurdish (kurmanji)': 'ku', 'kyrgyz': 'ky', 'lao': 'lo', 'latin': 'la', 'latvian': 'lv', 'lithuanian': 'lt', 'luxembourgish': 'lb', 'macedonian': 'mk', 'malagasy': 'mg', 'malay': 'ms', 'malayalam': 'ml', 'maltese': 'mt', 'maori': 'mi', 'marathi': 'mr', 'mongolian': 'mn', 'myanmar (burmese)': 'my', 'nepali': 'ne', 'norwegian': 'no', 'odia': 'or', 'pashto': 'ps', 'persian': 'fa', 'polish': 'pl', 'portuguese': 'pt', 'punjabi': 'pa', 'romanian': 'ro', 'russian': 'ru', 'samoan': 'sm', 'scots gaelic': 'gd', 'serbian': 'sr', 'sesotho': 'st', 'shona': 'sn', 'sindhi': 'sd', 'sinhala': 'si', 'slovak': 'sk', 'slovenian': 'sl', 'somali': 'so', 'spanish': 'es', 'sundanese': 'su', 'swahili': 'sw', 'swedish': 'sv', 'tajik': 'tg', 'tamil': 'ta', 'telugu': 'te', 'thai': 'th', 'turkish': 'tr', 'ukrainian': 'uk', 'urdu': 'ur', 'uyghur': 'ug', 'uzbek': 'uz', 'vietnamese': 'vi', 'welsh': 'cy', 'xhosa': 'xh', 'yiddish': 'yi', 'yoruba': 'yo', 'zulu': 'zu'}\n"
          ]
        }
      ],
      "source": [
        "# get the codes of supported language\n",
        "print(googletrans.LANGCODES)"
      ]
    },
    {
      "cell_type": "markdown",
      "metadata": {
        "id": "99mM9eJj4v2J"
      },
      "source": [
        "<br>\n",
        "\n",
        "---\n",
        "\n",
        "<br>\n",
        "\n",
        "# Appendix: Python Statements (Updated)\n",
        "\n",
        "\n",
        "\n",
        "\n",
        "|Statement|Role|Example\n",
        "|:-- |:-- |:-- |\n",
        "|Assignment: `=`|Creating and assigning references|`a, b = 'good', 'bad'` <br> `ls = [1, 5]; ls[1] = 2; ls[2:2] = [3, 4]`   |\n",
        "|Augmented assignment: <br>`+=`, `-=`, `*=`, `/=`,  `%=`, etc.| Combining a binary operation and <br> an assignment statement|`a *= 2` <br> `a += b` |\n",
        "|`del`|Deleting references|`del variable` <br> `del object.attribute` <br> `del data[index]` <br> `del data[index:index]`|\n",
        "|`if/elif/else`| Selecting actions|`if \"python\":` <br> &nbsp; &nbsp; `print(\"programming\")` |\n",
        "|`for`| Definite loops |`for x in \"python\":` <br> &nbsp; &nbsp;  &nbsp;`print(x)` |\n",
        "|`while`| Indefinite/general loops |`while x > 0:` <br> &nbsp; &nbsp; &nbsp; &nbsp;    `print(\"positive\")` |\n",
        "|`break`| Loop exit |`while True:` <br> &nbsp; &nbsp; &nbsp; &nbsp;    `if exittest(): break` |\n",
        "|`continue`| Loop continue |`while True:` <br> &nbsp; &nbsp; &nbsp; &nbsp;    `if skiptest(): continue` |\n",
        "|`try/except/finally`| Catching exceptions |`try:` <br> &nbsp; &nbsp; &nbsp; &nbsp;    `action()` <br> `except:` <br> &nbsp; &nbsp; &nbsp; &nbsp; `print('action error')` |\n",
        "|`def`| Creating functions |`def f(a, b, c=1, *d):`<br> &nbsp; &nbsp; &nbsp; &nbsp;  ` print(a+b+c+d[0])` |\n",
        "|`return`| Specifying return values |`def f(a, b, c=1, *d):`<br> &nbsp; &nbsp; &nbsp; &nbsp;  ` return a+b+c+d[0]` |\n",
        "|`class`| Creating classes |`class Subclass(Superclass):`<br> <br> &nbsp;&nbsp;&nbsp;&nbsp;&nbsp; &nbsp; &nbsp; &nbsp; `data_attr = []`<br><br> &nbsp;&nbsp;&nbsp;&nbsp;&nbsp; &nbsp; &nbsp; &nbsp; `def fun_attr(self):` <br> &nbsp;&nbsp;&nbsp;&nbsp; &nbsp;&nbsp; &nbsp; &nbsp; &nbsp; &nbsp; &nbsp; &nbsp; &nbsp;`pass` |\n",
        "|`import/from`| Module access or attribute access from a module | `import random` <br>  `from random import randint` |\n",
        "\n",
        "\n",
        "\n",
        "\n"
      ]
    },
    {
      "cell_type": "code",
      "execution_count": null,
      "metadata": {
        "id": "uXb4NiaTjIKY"
      },
      "outputs": [],
      "source": []
    }
  ],
  "metadata": {
    "colab": {
      "provenance": []
    },
    "hide_input": false,
    "kernelspec": {
      "display_name": "base",
      "language": "python",
      "name": "python3"
    },
    "language_info": {
      "codemirror_mode": {
        "name": "ipython",
        "version": 3
      },
      "file_extension": ".py",
      "mimetype": "text/x-python",
      "name": "python",
      "nbconvert_exporter": "python",
      "pygments_lexer": "ipython3",
      "version": "3.12.7"
    },
    "toc": {
      "base_numbering": 1,
      "nav_menu": {},
      "number_sections": false,
      "sideBar": true,
      "skip_h1_title": false,
      "title_cell": "Table of Contents",
      "title_sidebar": "Contents",
      "toc_cell": false,
      "toc_position": {},
      "toc_section_display": true,
      "toc_window_display": false
    }
  },
  "nbformat": 4,
  "nbformat_minor": 0
}

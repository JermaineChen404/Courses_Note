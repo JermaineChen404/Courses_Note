{
  "cells": [
    {
      "cell_type": "markdown",
      "metadata": {
        "id": "LPRYsq_O1sly"
      },
      "source": [
        "## Section 1: Warm-up Questions"
      ]
    },
    {
      "cell_type": "markdown",
      "metadata": {
        "id": "5BmXzB_TehIB"
      },
      "source": [
        "\n",
        "**Question 1.**\n",
        "\n",
        "Suppose you are asked to develop a frontend program for a database system that backs an ecommerce website.\n",
        "You need to write an `add_product` function, which allow people to add a new batch of products into the database.\n",
        "\n",
        "The information people should provide at the point of call includes the product name, the quantity, the time when this batch is added (defaults to `None`), and, optionally, any other specifics (with keyword matching) about the batch to add.\n",
        "\n",
        "Which of the following signatures is the most appropriate for this desired function:\n",
        "\n",
        "- [ ] `add_product(name, quantity, time=None, *args)`\n",
        "- [ ] `add_product(name=None, quantity, time=None, **kwargs)`\n",
        "- [ ] `add_product(name=None, quantity=None, time=None, *args)`\n",
        "- [x] `add_product(name, quantity, time=None, **kwargs)`\n",
        "\n",
        "\n"
      ]
    },
    {
      "cell_type": "markdown",
      "source": [
        "---\n",
        "\n",
        "**Question 2.**\n",
        "\n",
        "Given a function definition as follows, which of the following options is an incorrect way to call it?\n",
        "\n",
        "```python\n",
        "def print_all_args(x1, x2='3400', /, *args, y1,  y2='python', **kwargs):\n",
        "    print(\"x1 is: \", x1)\n",
        "    print(\"x2 is: \", x2)\n",
        "    print(\"args is: \", args)\n",
        "    print(\"y1 is: \", y1)\n",
        "    print(\"y2 is: \", y2)\n",
        "    print(\"kwargs is: \", kwargs)\n",
        "```\n",
        "\n",
        "\n",
        "- [ ] `print_all_args('3320', '2020', '3360', y1=\"java\", title3=\"html\")`\n",
        "- [ ] `print_all_args('3320', title3=\"html\", title4=\"CSS\", y1='java')`\n",
        "- [x] `print_all_args(y1=\"java\", x1='3320', title3=\"html\")`\n",
        "- [ ] `print_all_args('3320', y1=\"java\", title3=\"html\")`"
      ],
      "metadata": {
        "id": "1QDu9ifAbSIA"
      }
    },
    {
      "cell_type": "markdown",
      "source": [
        "\n",
        "---\n",
        "\n",
        "\n",
        "**Question 3.**\n",
        "\n",
        "Read through the code snippet below, figure out what would be the outputs if the following inputs are provided and why:\n",
        "\n",
        "- `32 // 0`\n",
        "\n",
        "- `21 * 4`\n",
        "\n",
        "- `34+3`\n",
        "\n",
        "```python\n",
        "while True:\n",
        "    \n",
        "    exp_str = input(\"Input an arithmetic expression (separate different parts with spaces): \")\n",
        "    output = None\n",
        "    \n",
        "    try:\n",
        "        \n",
        "        str_ls = exp_str.split()\n",
        "        operand2 = float(str_ls[2])  \n",
        "        operand1 = float(str_ls[0])\n",
        "    \n",
        "\n",
        "        if str_ls[1] == '*':\n",
        "            output = operand1 * operand2\n",
        "        elif str_ls[1] == '/':\n",
        "            output = operand1 / operand2    \n",
        "        elif str_ls[1] == '+':\n",
        "            output = operand1 + operand2\n",
        "        elif str_ls[1] == '-':\n",
        "            output = operand1 - operand2\n",
        "               \n",
        "        \n",
        "    except IndexError:\n",
        "        print(\"Failed to provide the right number of inputs. Remember to separate different parts with spaces!\")\n",
        "    \n",
        "    except ValueError:        \n",
        "        print(\"Failed to provide a valid numeric input.\")\n",
        "    \n",
        "    except Exception as e:        \n",
        "        print(f\"Other errors: {e}\")\n",
        "    \n",
        "    else:          \n",
        "        if not output:\n",
        "            print(\"Undefined operation!\")\n",
        "        else:   \n",
        "            print(f\"{' '.join(exp_str.split())} = {output}\")\n",
        "            break     \n",
        "            \n",
        "```    \n",
        "\n"
      ],
      "metadata": {
        "id": "SvTRcebBfRC-"
      }
    },
    {
      "cell_type": "markdown",
      "source": [
        "The output of `32 // 0` is `Undefined operation!`. Explanation: [The operator // in str_ls[1] is not recognized, therefore output remains None.]\n",
        "\n",
        "The output of `21 * 4` is `21 * 4 = 84.0`. Explanation: [No exceptions are raised, so the last else block executes.]\n",
        "\n",
        "The output of `34+3` is `Failed to provide the right number of inputs. Remember to separate different parts with spaces!`. Explanation: [The input string is split into str_ls = ['34+3'] because there are no spaces separating the parts of the expression. Attempting to access str_ls[2] results in an IndexError, as the list does not have enough elements.]"
      ],
      "metadata": {
        "id": "uhYv7Jd4fUC5"
      }
    },
    {
      "cell_type": "markdown",
      "source": [
        "---\n",
        "\n",
        "\n",
        "## Section 2\n",
        "\n",
        "\n",
        "For each question below, please write the corresponding code and then run the code to show the output."
      ],
      "metadata": {
        "id": "O2nfTtYbfb5o"
      }
    },
    {
      "cell_type": "markdown",
      "metadata": {
        "id": "_WGDTJwdehID"
      },
      "source": [
        "---\n",
        "\n",
        "**Question 1. Element-wise text concatenation**\n",
        "\n",
        "Suppose you are given two lists, with their elements at the corresponding position representing the first name and the last name of the same person:\n",
        "\n",
        "```python\n",
        "first_names = ['Alice', 'Bob', 'Carol', 'David']\n",
        "last_names = ['Alligator', 'Bear', 'Chimpanzee', 'Deer']\n",
        "```\n",
        "\n",
        "Write a lambda expression (hint: you need zip function and list comprehension), name it `concat_names`, and call it with the two lists above to form a list of full names. The expected output is as follows:\n",
        "\n",
        "\n",
        "```python\n",
        "['Alice Alligator', 'Bob Bear', 'Carol Chimpanzee', 'David Deer']\n",
        "```"
      ]
    },
    {
      "cell_type": "code",
      "execution_count": null,
      "metadata": {
        "id": "CeqliF8zehIE",
        "colab": {
          "base_uri": "https://localhost:8080/"
        },
        "outputId": "6c34b3b7-c98c-4296-f711-4cb8b43e5790"
      },
      "outputs": [
        {
          "output_type": "execute_result",
          "data": {
            "text/plain": [
              "['Alice Alligator', 'Bob Bear', 'Carol Chimpanzee', 'David Deer']"
            ]
          },
          "metadata": {},
          "execution_count": 4
        }
      ],
      "source": [
        "first_names = ['Alice','Bob','Carol','David']\n",
        "last_names = ['Alligator','Bear','Chimpanzee','Deer']\n",
        "\n",
        "# Write your code below\n",
        "\n",
        "concat_names = lambda fn, ln : [f'{first} {last}'for first, last in zip(fn,ln)]\n",
        "concat_names(first_names, last_names)"
      ]
    },
    {
      "cell_type": "markdown",
      "metadata": {
        "id": "gO5fbOf_5Mr2"
      },
      "source": [
        "---\n",
        "\n",
        "\n",
        "**Question 2. Use of `lambda`s as function arguments**\n",
        "\n",
        "\n",
        "\n",
        "Suppose a music streaming service uses two lists to maintain a user's favorite songs and the corresponding ratings, respectively:\n",
        "\n",
        "```python\n",
        "songs = ['Back to Black', 'Poker Face', 'Yellow', 'Lolipop', 'All Too Well', 'Delicate', 'Moves Like Jagger']\n",
        "ratings = [9.5, 8, 9, 8, 10, 7.5, 8]\n",
        "```\n",
        "\n",
        "Write code **without using loop statements** to create a playlist, which orders the user's favorite songs based on their ratings. And if a tie is observed, break the tie by sorting song titles lexicographically.\n",
        "\n",
        "\n",
        "**Expected output**:\n",
        "\n",
        "\n",
        "```python\n",
        "[('All Too Well', 10),\n",
        " ('Back to Black', 9.5),\n",
        " ('Yellow', 9),\n",
        " ('Lolipop', 8),\n",
        " ('Moves Like Jagger', 8),\n",
        " ('Poker Face', 8),\n",
        " ('Delicate', 7.5)]\n",
        "```\n",
        "\n",
        "\n",
        "Tips: use `zip()` and `sorted()` with a lambda expression."
      ]
    },
    {
      "cell_type": "code",
      "execution_count": null,
      "metadata": {
        "id": "Yn0q5mhE7h2y",
        "colab": {
          "base_uri": "https://localhost:8080/"
        },
        "outputId": "022791ca-c4b2-4137-a8da-5f3c5134025c"
      },
      "outputs": [
        {
          "output_type": "execute_result",
          "data": {
            "text/plain": [
              "[('All Too Well', 10),\n",
              " ('Back to Black', 9.5),\n",
              " ('Yellow', 9),\n",
              " ('Lolipop', 8),\n",
              " ('Moves Like Jagger', 8),\n",
              " ('Poker Face', 8),\n",
              " ('Delicate', 7.5)]"
            ]
          },
          "metadata": {},
          "execution_count": 13
        }
      ],
      "source": [
        "songs = ['Back to Black', 'Poker Face', 'Yellow', 'Lolipop',\n",
        "         'All Too Well', 'Delicate', 'Moves Like Jagger']\n",
        "\n",
        "ratings = [9.5, 8, 9, 8, 10, 7.5, 8]\n",
        "\n",
        "# Write your code below\n",
        "sorted(zip(songs, ratings), key = lambda x : (-x[1],x[0]))"
      ]
    },
    {
      "cell_type": "markdown",
      "source": [
        "---\n",
        "\n",
        "**Question 3**\n",
        "\n",
        "\n",
        "Suppose the organizer of the Hong Kong International Film Festival wants to determine the winner of a popularity award by conducting an online survey. In the survey form, respondents are asked to rate each nominated movie on a 5-point scale. The ratings collected by each form is stored as a flat Python list (e.g., `[4, 5, 3, 4, 5]` if there are 5 nominees), and the winner will be the movie that receives the highest average rating (or the largest sum of ratings).\n",
        "\n",
        "Please define a custom Python function, `determine_winner(*forms)`, to perform the necessary calculation and return the index of the winner in the form (e.g., if the 2nd movie gets the highest average rating, return `2` as the output of this function). Hint: Given a list of numbers, we find the position of the maximum using `list.index()` and `max()`\n",
        "\n",
        "For example, calling it with the data collected by the following 4 forms:\n",
        "\n",
        "```python\n",
        "collected_forms = [[4, 5, 3, 4, 5], [3, 5, 2, 4, 4], [4, 5, 4, 4, 5], [3, 4, 4, 3, 3]]\n",
        "determine_winner(*collected_forms)\n",
        "```\n",
        "\n",
        "produces `2`.\n",
        "\n",
        "\n",
        "Assume that there will be no ties in the case of mass responses, and no missing values as well (so every list fed into the function contains the same number of ratings).\n"
      ],
      "metadata": {
        "id": "f5T_-RKJj4pm"
      }
    },
    {
      "cell_type": "code",
      "source": [
        "# Write your code below\n",
        "def determine_winner(*forms):\n",
        "  sum_ratings = [sum(ratings) for ratings in zip(*forms)]\n",
        "  return sum_ratings.index(max(sum_ratings)) + 1\n",
        "\n",
        "collected_forms = [[4, 5, 3, 4, 5], [3, 5, 2, 4, 4], [4, 5, 4, 4, 5], [3, 4, 4, 3, 3]]\n",
        "determine_winner(*collected_forms)"
      ],
      "metadata": {
        "id": "9kQG5iKsj-TX",
        "colab": {
          "base_uri": "https://localhost:8080/"
        },
        "outputId": "21bb17f6-c76e-4ec8-d9df-61e18c81d1fd"
      },
      "execution_count": null,
      "outputs": [
        {
          "output_type": "execute_result",
          "data": {
            "text/plain": [
              "2"
            ]
          },
          "metadata": {},
          "execution_count": 21
        }
      ]
    },
    {
      "cell_type": "markdown",
      "metadata": {
        "id": "PzusxNtL12fu"
      },
      "source": [
        "\n",
        "---\n",
        "\n",
        "**Question 4**\n",
        "\n",
        "Many programming languages implement a function called `sum()`, which returns the sum of an arbitrary sequence of numbers.\n",
        "\n",
        "Define a function `mySum` that allows us to sum up any number of numeric values. For example:\n",
        "\n",
        "- We should be able to call `mySum(1, 12, 89, 5)` with 4 arguments or `mySum(*range(100))` with 100 arguments.\n",
        "- Calling `mySum()` with no arguments returns zero.\n",
        "\n",
        "The built-in function `sum()` is not allowed to use in the function body."
      ]
    },
    {
      "cell_type": "code",
      "execution_count": null,
      "metadata": {
        "id": "LJIylDFMOF2a"
      },
      "outputs": [],
      "source": [
        "# Write your function definition below\n",
        "def mySum(*nums):\n",
        "    sum = 0\n",
        "    for num in nums:\n",
        "        sum += num\n",
        "    return sum"
      ]
    },
    {
      "cell_type": "code",
      "source": [
        "mySum(1, 12, 89, 5)"
      ],
      "metadata": {
        "id": "PLB2pDLSP4hR",
        "colab": {
          "base_uri": "https://localhost:8080/"
        },
        "outputId": "2820de04-7d68-416a-a8c1-2bbc73275858"
      },
      "execution_count": null,
      "outputs": [
        {
          "output_type": "execute_result",
          "data": {
            "text/plain": [
              "107"
            ]
          },
          "metadata": {},
          "execution_count": 3
        }
      ]
    },
    {
      "cell_type": "code",
      "source": [
        "mySum(*range(100))"
      ],
      "metadata": {
        "id": "lVBif-wgq6lf",
        "colab": {
          "base_uri": "https://localhost:8080/"
        },
        "outputId": "63d85197-e697-427f-e6ea-0b8d279de782"
      },
      "execution_count": null,
      "outputs": [
        {
          "output_type": "execute_result",
          "data": {
            "text/plain": [
              "4950"
            ]
          },
          "metadata": {},
          "execution_count": 4
        }
      ]
    },
    {
      "cell_type": "markdown",
      "metadata": {
        "id": "heHERBTxOva-"
      },
      "source": [
        "---\n",
        "\n",
        "**Question 5**\n",
        "\n",
        "Parallel processing of multiple sequences is a powerful functionality for data analysis.\n",
        "\n",
        "Define a function `mySumParallel(seqs)` that applies `mySum()` defined in **Question 4** to an arbitrary collection of sequences of numeric values in parallel. This function returns a list of sums of all sequences in the passed-in collection.\n",
        "\n",
        "For example, calling `mySumParallel(collection)` where `collection = [[1, 12, 89, 5], range(100), range(2, 9, 3)]` returns `[107, 4950, 15]`.\n",
        "\n"
      ]
    },
    {
      "cell_type": "code",
      "execution_count": null,
      "metadata": {
        "id": "awki1rUvOgz3"
      },
      "outputs": [],
      "source": [
        "collection = [[1, 12, 89, 5], range(100), range(2, 9, 3)]\n",
        "\n",
        "# Write your function definition below\n",
        "\n",
        "def mySumParallel(seqs):\n",
        "    return [mySum(*num_list) for num_list in seqs]\n"
      ]
    },
    {
      "cell_type": "code",
      "source": [
        "mySumParallel(collection)"
      ],
      "metadata": {
        "id": "3z_7yTqNQDJ8",
        "colab": {
          "base_uri": "https://localhost:8080/"
        },
        "outputId": "37812eaf-1bff-41bb-b874-541ff9a44e91"
      },
      "execution_count": null,
      "outputs": [
        {
          "output_type": "execute_result",
          "data": {
            "text/plain": [
              "[107, 4950, 15]"
            ]
          },
          "metadata": {},
          "execution_count": 10
        }
      ]
    },
    {
      "cell_type": "markdown",
      "metadata": {
        "id": "9KX718YvSJrp"
      },
      "source": [
        "---\n",
        "\n",
        "**Question 6**\n",
        "\n",
        "Further define a function `myParallel(aggfunc, seqs)` that allows any aggregation function to be applied to an arbitrary collection of sequences of numeric values.\n",
        "\n",
        "For example, calling `myParallel(mySum, collection)` yields `[107, 4950, 15]`, while calling `myParallel(max, collection)` yields `[89, 99, 8]`."
      ]
    },
    {
      "cell_type": "code",
      "execution_count": null,
      "metadata": {
        "id": "uXdszPh8SoeT"
      },
      "outputs": [],
      "source": [
        "# Write your function definition below\n",
        "def myParallel(aggfunc, seqs):\n",
        "  return [aggfunc(*num_list) for num_list in seqs]\n"
      ]
    },
    {
      "cell_type": "code",
      "source": [
        "myParallel(mySum, collection)\n"
      ],
      "metadata": {
        "id": "MznYTunnQJ62",
        "colab": {
          "base_uri": "https://localhost:8080/"
        },
        "outputId": "22cacd64-eddc-4262-fc79-920f8e01cd46"
      },
      "execution_count": null,
      "outputs": [
        {
          "output_type": "execute_result",
          "data": {
            "text/plain": [
              "[107, 4950, 15]"
            ]
          },
          "metadata": {},
          "execution_count": 12
        }
      ]
    },
    {
      "cell_type": "code",
      "source": [
        "myParallel(max, collection)"
      ],
      "metadata": {
        "id": "AIhwbS2GSkX9",
        "colab": {
          "base_uri": "https://localhost:8080/"
        },
        "outputId": "ad845f98-5ef6-4129-9738-069de9d6198a"
      },
      "execution_count": null,
      "outputs": [
        {
          "output_type": "execute_result",
          "data": {
            "text/plain": [
              "[89, 99, 8]"
            ]
          },
          "metadata": {},
          "execution_count": 13
        }
      ]
    },
    {
      "cell_type": "markdown",
      "source": [
        "---\n",
        "\n",
        "**Question 7**\n",
        "\n",
        "Given a partial class definition below:\n",
        "\n",
        "```python\n",
        "class Gradebook:\n",
        "    \n",
        "    def __init__(self, course_name, records):\n",
        "        \"\"\"\n",
        "        Required arguments:\n",
        "        course_name: a string that represents the course name\n",
        "        records: a dictionary with each entry representing a student score pair\n",
        "        \"\"\"\n",
        "        self.records = {}\n",
        "        self.course_name = course_name\n",
        "        self.records |= records\n",
        "        \n",
        "    def remove(self, student):\n",
        "        del self.records[student]    \n",
        "    \n",
        "    def __repr__(self):   \n",
        "        # substitute your code for pass below\n",
        "        pass\n",
        "    \n",
        "    def update(self, student, score):  \n",
        "        # substitute your code below for pass below\n",
        "        pass\n",
        "    \n",
        "    def sort(self):   \n",
        "        # substitute your code for pass below\n",
        "        pass      \n",
        "\n",
        "    def average(self):   \n",
        "        # substitute your code for pass below\n",
        "        pass  \n",
        "```        \n",
        "\n",
        "Complete the definitions for the methods `__repr__(self)`, `update(self, student, score)`, `sort(self)`, and `average(self)`  for the `Gradebook` class so that invoking them will generate outputs as follows:\n",
        "\n",
        "*Code cell 1:*\n",
        "```python\n",
        "gradebook1 = Gradebook('Python Programming',\n",
        "                       {'Troy': 92, 'Calvin': 95, 'James': 89, 'Charles': 100, 'Bryn': 59, 'Alice': 95})\n",
        "gradebook1\n",
        "```\n",
        "*Output 1:*\n",
        "```\n",
        "Troy -> 92\n",
        "Calvin -> 95\n",
        "James -> 89\n",
        "Charles -> 100\n",
        "Bryn -> 59\n",
        "Alice -> 95\n",
        "```\n",
        "*Code cell 2:*\n",
        "```python\n",
        "gradebook1.update(\"Amy\", 100)\n",
        "```\n",
        "*Output 2:*\n",
        "```\n",
        "A new student record (Amy -> 100) is added!\n",
        "```\n",
        "*Code cell 3:*\n",
        "```python\n",
        "gradebook1.update(\"Bryn\", 62)\n",
        "```\n",
        "*Output 3:*\n",
        "```\n",
        "Bryn's score has been updated from 59 to 62!\n",
        "```\n",
        "\n",
        "*Code cell 4:*\n",
        "```python\n",
        "gradebook1.sort()\n",
        "gradebook1\n",
        "```\n",
        "*Output 4:* Note that the recods are sorted first by score, and then by name in alphabetically.\n",
        "```\n",
        "Amy -> 100\n",
        "Charles -> 100\n",
        "Alice -> 95\n",
        "Calvin -> 95\n",
        "Troy -> 92\n",
        "James -> 89\n",
        "Bryn -> 62\n",
        "```\n",
        "\n",
        "*Code cell 5:*\n",
        "```python\n",
        "gradebook1.average()\n",
        "```\n",
        "*Output 5:*\n",
        "```\n",
        "The average of the course Python Programming is: 90.43\n",
        "```"
      ],
      "metadata": {
        "id": "HilSkFJ1JdaV"
      }
    },
    {
      "cell_type": "code",
      "source": [
        "class Gradebook:\n",
        "\n",
        "    def __init__(self, course_name, records):\n",
        "        \"\"\"\n",
        "        Required arguments:\n",
        "        course_name: a string that represents the course name\n",
        "        records: a dictionary with each entry representing a student score pair\n",
        "        \"\"\"\n",
        "        self.records = {}\n",
        "        self.course_name = course_name\n",
        "        self.records |= records\n",
        "\n",
        "    def remove(self, student):\n",
        "        del self.records[student]\n",
        "\n",
        "    def __repr__(self):\n",
        "        # substitute your code for pass below\n",
        "        pass\n",
        "\n",
        "    def update(self, student, score):\n",
        "        # substitute your code below for pass below\n",
        "        pass\n",
        "\n",
        "    def sort(self):\n",
        "        # substitute your code for pass below\n",
        "        pass\n",
        "\n",
        "    def average(self):\n",
        "        # substitute your code for pass below\n",
        "        pass"
      ],
      "metadata": {
        "id": "ZhktAOQGL0fb"
      },
      "execution_count": null,
      "outputs": []
    },
    {
      "cell_type": "code",
      "source": [
        "class Gradebook:\n",
        "\n",
        "    def __init__(self, course_name, records):\n",
        "        self.records = {}\n",
        "        self.course_name = course_name\n",
        "        self.records |= records\n",
        "\n",
        "    def remove(self, student):\n",
        "        del self.records[student]\n",
        "\n",
        "    def __repr__(self):\n",
        "        str_ls = []\n",
        "        for student, score in self.records.items():\n",
        "            str_ls.append(f\"{student} -> {score}\")\n",
        "        return '\\n'.join(str_ls)\n",
        "\n",
        "    def update(self, student, score):\n",
        "        if student not in self.records:\n",
        "            print(f\"A new student record ({student} -> {score}) is added!\")\n",
        "        else:\n",
        "            print(f\"{student}'s score has been updated from {self.records[student]} to {score}!\")\n",
        "        self.records[student] = score\n",
        "\n",
        "    def sort(self):\n",
        "        self.records = dict(sorted(self.records.items(), key=lambda x: (-x[1], x[0])))\n",
        "\n",
        "\n",
        "    def average(self):\n",
        "        average_score = sum(self.records.values())/len(self.records)\n",
        "        print(f\"The average of the course {self.course_name} is: {average_score:.2f}\")"
      ],
      "metadata": {
        "id": "6Tltj_OIG_iK"
      },
      "execution_count": null,
      "outputs": []
    },
    {
      "cell_type": "code",
      "source": [
        "gradebook1 = Gradebook('Python Programming',\n",
        "                       {'Troy': 92, 'Calvin': 95, 'James': 89, 'Charles': 100, 'Bryn': 59, 'Alice': 95})\n",
        "gradebook1"
      ],
      "metadata": {
        "id": "YAes_5qAL4X4",
        "colab": {
          "base_uri": "https://localhost:8080/"
        },
        "outputId": "d1129c56-827f-436e-fa35-bc35787dcd4d"
      },
      "execution_count": null,
      "outputs": [
        {
          "output_type": "execute_result",
          "data": {
            "text/plain": [
              "Troy -> 92\n",
              "Calvin -> 95\n",
              "James -> 89\n",
              "Charles -> 100\n",
              "Bryn -> 59\n",
              "Alice -> 95"
            ]
          },
          "metadata": {},
          "execution_count": 15
        }
      ]
    },
    {
      "cell_type": "code",
      "source": [
        "gradebook1.update(\"Amy\", 100)"
      ],
      "metadata": {
        "id": "Tv7lat1hL7vx",
        "colab": {
          "base_uri": "https://localhost:8080/"
        },
        "outputId": "8d86f50d-6ed2-49b7-ddc7-abf05a6cdcf5"
      },
      "execution_count": null,
      "outputs": [
        {
          "output_type": "stream",
          "name": "stdout",
          "text": [
            "A new student record (Amy -> 100) is added!\n"
          ]
        }
      ]
    },
    {
      "cell_type": "code",
      "source": [
        "gradebook1.update(\"Bryn\", 62)"
      ],
      "metadata": {
        "id": "cBgQIZtVL_aY",
        "colab": {
          "base_uri": "https://localhost:8080/"
        },
        "outputId": "d5543181-ad60-453b-b131-a56dc543410b"
      },
      "execution_count": null,
      "outputs": [
        {
          "output_type": "stream",
          "name": "stdout",
          "text": [
            "Bryn's score has been updated from 59 to 62!\n"
          ]
        }
      ]
    },
    {
      "cell_type": "code",
      "source": [
        "gradebook1.sort()\n",
        "gradebook1"
      ],
      "metadata": {
        "id": "qADxxffyME_-",
        "colab": {
          "base_uri": "https://localhost:8080/"
        },
        "outputId": "ea1da9c6-ae3b-414e-b3ba-018e2f4bc95c"
      },
      "execution_count": null,
      "outputs": [
        {
          "output_type": "execute_result",
          "data": {
            "text/plain": [
              "Amy -> 100\n",
              "Charles -> 100\n",
              "Alice -> 95\n",
              "Calvin -> 95\n",
              "Troy -> 92\n",
              "James -> 89\n",
              "Bryn -> 62"
            ]
          },
          "metadata": {},
          "execution_count": 18
        }
      ]
    },
    {
      "cell_type": "code",
      "source": [
        "gradebook1.average()"
      ],
      "metadata": {
        "id": "1JlXG7J-MG5K",
        "colab": {
          "base_uri": "https://localhost:8080/"
        },
        "outputId": "9b4ca96f-35f2-4d7c-f603-51efbb26806f"
      },
      "execution_count": null,
      "outputs": [
        {
          "output_type": "stream",
          "name": "stdout",
          "text": [
            "The average of the course Python Programming is: 90.43\n"
          ]
        }
      ]
    }
  ],
  "metadata": {
    "colab": {
      "provenance": []
    },
    "kernelspec": {
      "display_name": "Python 3 (ipykernel)",
      "language": "python",
      "name": "python3"
    },
    "language_info": {
      "codemirror_mode": {
        "name": "ipython",
        "version": 3
      },
      "file_extension": ".py",
      "mimetype": "text/x-python",
      "name": "python",
      "nbconvert_exporter": "python",
      "pygments_lexer": "ipython3",
      "version": "3.7.13"
    }
  },
  "nbformat": 4,
  "nbformat_minor": 0
}
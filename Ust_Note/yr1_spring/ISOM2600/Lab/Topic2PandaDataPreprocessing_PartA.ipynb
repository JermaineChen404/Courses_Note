{
 "cells": [
  {
   "cell_type": "markdown",
   "metadata": {
    "id": "8JYeQVzvDeHJ"
   },
   "source": [
    "\n",
    "## Import all modules.\n",
    "---"
   ]
  },
  {
   "cell_type": "code",
   "execution_count": 1,
   "metadata": {
    "id": "f4gP71tm0dJb"
   },
   "outputs": [],
   "source": [
    "import pandas as pd\n",
    "import matplotlib.pyplot as plt\n",
    "plt.style.use('ggplot')\n",
    "import warnings\n",
    "warnings.filterwarnings('ignore') \n"
   ]
  },
  {
   "cell_type": "markdown",
   "metadata": {
    "id": "_SMgIhQZ0dJh"
   },
   "source": [
    "## Series and DataFrame\n",
    "---"
   ]
  },
  {
   "cell_type": "code",
   "execution_count": 2,
   "metadata": {
    "colab": {
     "base_uri": "https://localhost:8080/",
     "height": 35
    },
    "id": "HKdNQcXHAcrU",
    "outputId": "2c116edf-90de-45f8-a2d1-3bf0ff481e0a"
   },
   "outputs": [],
   "source": [
    "# America power consumption data (hourly)\n",
    "data_path = 'https://drive.google.com/uc?export=download&id=1EpczybaLAzV053G8pG-kB38IXT7NC580'\n",
    "#the path can be an online file with Internet address or a path of the file from your local drive e.g. 'C:\\Users\\pc\\Desktop\\Work\\flight.csv'"
   ]
  },
  {
   "cell_type": "code",
   "execution_count": 3,
   "metadata": {},
   "outputs": [
    {
     "data": {
      "text/html": [
       "<div>\n",
       "<style scoped>\n",
       "    .dataframe tbody tr th:only-of-type {\n",
       "        vertical-align: middle;\n",
       "    }\n",
       "\n",
       "    .dataframe tbody tr th {\n",
       "        vertical-align: top;\n",
       "    }\n",
       "\n",
       "    .dataframe thead th {\n",
       "        text-align: right;\n",
       "    }\n",
       "</style>\n",
       "<table border=\"1\" class=\"dataframe\">\n",
       "  <thead>\n",
       "    <tr style=\"text-align: right;\">\n",
       "      <th></th>\n",
       "      <th>Datetime</th>\n",
       "      <th>AEP</th>\n",
       "      <th>COMED</th>\n",
       "      <th>DAYTON</th>\n",
       "      <th>DEOK</th>\n",
       "      <th>DOM</th>\n",
       "      <th>DUQ</th>\n",
       "      <th>EKPC</th>\n",
       "      <th>FE</th>\n",
       "      <th>NI</th>\n",
       "      <th>PJME</th>\n",
       "      <th>PJMW</th>\n",
       "      <th>PJM_Load</th>\n",
       "    </tr>\n",
       "  </thead>\n",
       "  <tbody>\n",
       "    <tr>\n",
       "      <th>0</th>\n",
       "      <td>1998-04-01 01:00:00</td>\n",
       "      <td>NaN</td>\n",
       "      <td>NaN</td>\n",
       "      <td>NaN</td>\n",
       "      <td>NaN</td>\n",
       "      <td>NaN</td>\n",
       "      <td>NaN</td>\n",
       "      <td>NaN</td>\n",
       "      <td>NaN</td>\n",
       "      <td>NaN</td>\n",
       "      <td>NaN</td>\n",
       "      <td>NaN</td>\n",
       "      <td>22259.0</td>\n",
       "    </tr>\n",
       "    <tr>\n",
       "      <th>1</th>\n",
       "      <td>1998-04-01 02:00:00</td>\n",
       "      <td>NaN</td>\n",
       "      <td>NaN</td>\n",
       "      <td>NaN</td>\n",
       "      <td>NaN</td>\n",
       "      <td>NaN</td>\n",
       "      <td>NaN</td>\n",
       "      <td>NaN</td>\n",
       "      <td>NaN</td>\n",
       "      <td>NaN</td>\n",
       "      <td>NaN</td>\n",
       "      <td>NaN</td>\n",
       "      <td>21244.0</td>\n",
       "    </tr>\n",
       "    <tr>\n",
       "      <th>2</th>\n",
       "      <td>1998-04-01 03:00:00</td>\n",
       "      <td>NaN</td>\n",
       "      <td>NaN</td>\n",
       "      <td>NaN</td>\n",
       "      <td>NaN</td>\n",
       "      <td>NaN</td>\n",
       "      <td>NaN</td>\n",
       "      <td>NaN</td>\n",
       "      <td>NaN</td>\n",
       "      <td>NaN</td>\n",
       "      <td>NaN</td>\n",
       "      <td>NaN</td>\n",
       "      <td>20651.0</td>\n",
       "    </tr>\n",
       "    <tr>\n",
       "      <th>3</th>\n",
       "      <td>1998-04-01 04:00:00</td>\n",
       "      <td>NaN</td>\n",
       "      <td>NaN</td>\n",
       "      <td>NaN</td>\n",
       "      <td>NaN</td>\n",
       "      <td>NaN</td>\n",
       "      <td>NaN</td>\n",
       "      <td>NaN</td>\n",
       "      <td>NaN</td>\n",
       "      <td>NaN</td>\n",
       "      <td>NaN</td>\n",
       "      <td>NaN</td>\n",
       "      <td>20421.0</td>\n",
       "    </tr>\n",
       "    <tr>\n",
       "      <th>4</th>\n",
       "      <td>1998-04-01 05:00:00</td>\n",
       "      <td>NaN</td>\n",
       "      <td>NaN</td>\n",
       "      <td>NaN</td>\n",
       "      <td>NaN</td>\n",
       "      <td>NaN</td>\n",
       "      <td>NaN</td>\n",
       "      <td>NaN</td>\n",
       "      <td>NaN</td>\n",
       "      <td>NaN</td>\n",
       "      <td>NaN</td>\n",
       "      <td>NaN</td>\n",
       "      <td>20713.0</td>\n",
       "    </tr>\n",
       "    <tr>\n",
       "      <th>...</th>\n",
       "      <td>...</td>\n",
       "      <td>...</td>\n",
       "      <td>...</td>\n",
       "      <td>...</td>\n",
       "      <td>...</td>\n",
       "      <td>...</td>\n",
       "      <td>...</td>\n",
       "      <td>...</td>\n",
       "      <td>...</td>\n",
       "      <td>...</td>\n",
       "      <td>...</td>\n",
       "      <td>...</td>\n",
       "      <td>...</td>\n",
       "    </tr>\n",
       "    <tr>\n",
       "      <th>178257</th>\n",
       "      <td>2018-08-02 20:00:00</td>\n",
       "      <td>17673.0</td>\n",
       "      <td>16437.0</td>\n",
       "      <td>2554.0</td>\n",
       "      <td>4052.0</td>\n",
       "      <td>14038.0</td>\n",
       "      <td>1966.0</td>\n",
       "      <td>1815.0</td>\n",
       "      <td>9866.0</td>\n",
       "      <td>NaN</td>\n",
       "      <td>44057.0</td>\n",
       "      <td>6545.0</td>\n",
       "      <td>NaN</td>\n",
       "    </tr>\n",
       "    <tr>\n",
       "      <th>178258</th>\n",
       "      <td>2018-08-02 21:00:00</td>\n",
       "      <td>17303.0</td>\n",
       "      <td>15590.0</td>\n",
       "      <td>2481.0</td>\n",
       "      <td>3892.0</td>\n",
       "      <td>13832.0</td>\n",
       "      <td>1944.0</td>\n",
       "      <td>1769.0</td>\n",
       "      <td>9656.0</td>\n",
       "      <td>NaN</td>\n",
       "      <td>43256.0</td>\n",
       "      <td>6496.0</td>\n",
       "      <td>NaN</td>\n",
       "    </tr>\n",
       "    <tr>\n",
       "      <th>178259</th>\n",
       "      <td>2018-08-02 22:00:00</td>\n",
       "      <td>17001.0</td>\n",
       "      <td>15086.0</td>\n",
       "      <td>2405.0</td>\n",
       "      <td>3851.0</td>\n",
       "      <td>13312.0</td>\n",
       "      <td>1901.0</td>\n",
       "      <td>1756.0</td>\n",
       "      <td>9532.0</td>\n",
       "      <td>NaN</td>\n",
       "      <td>41552.0</td>\n",
       "      <td>6325.0</td>\n",
       "      <td>NaN</td>\n",
       "    </tr>\n",
       "    <tr>\n",
       "      <th>178260</th>\n",
       "      <td>2018-08-02 23:00:00</td>\n",
       "      <td>15964.0</td>\n",
       "      <td>14448.0</td>\n",
       "      <td>2250.0</td>\n",
       "      <td>3575.0</td>\n",
       "      <td>12390.0</td>\n",
       "      <td>1789.0</td>\n",
       "      <td>1619.0</td>\n",
       "      <td>8872.0</td>\n",
       "      <td>NaN</td>\n",
       "      <td>38500.0</td>\n",
       "      <td>5892.0</td>\n",
       "      <td>NaN</td>\n",
       "    </tr>\n",
       "    <tr>\n",
       "      <th>178261</th>\n",
       "      <td>2018-08-03 00:00:00</td>\n",
       "      <td>14809.0</td>\n",
       "      <td>13335.0</td>\n",
       "      <td>2042.0</td>\n",
       "      <td>3281.0</td>\n",
       "      <td>11385.0</td>\n",
       "      <td>1656.0</td>\n",
       "      <td>1448.0</td>\n",
       "      <td>8198.0</td>\n",
       "      <td>NaN</td>\n",
       "      <td>35486.0</td>\n",
       "      <td>5489.0</td>\n",
       "      <td>NaN</td>\n",
       "    </tr>\n",
       "  </tbody>\n",
       "</table>\n",
       "<p>178262 rows × 13 columns</p>\n",
       "</div>"
      ],
      "text/plain": [
       "                   Datetime      AEP    COMED  DAYTON    DEOK      DOM  \\\n",
       "0       1998-04-01 01:00:00      NaN      NaN     NaN     NaN      NaN   \n",
       "1       1998-04-01 02:00:00      NaN      NaN     NaN     NaN      NaN   \n",
       "2       1998-04-01 03:00:00      NaN      NaN     NaN     NaN      NaN   \n",
       "3       1998-04-01 04:00:00      NaN      NaN     NaN     NaN      NaN   \n",
       "4       1998-04-01 05:00:00      NaN      NaN     NaN     NaN      NaN   \n",
       "...                     ...      ...      ...     ...     ...      ...   \n",
       "178257  2018-08-02 20:00:00  17673.0  16437.0  2554.0  4052.0  14038.0   \n",
       "178258  2018-08-02 21:00:00  17303.0  15590.0  2481.0  3892.0  13832.0   \n",
       "178259  2018-08-02 22:00:00  17001.0  15086.0  2405.0  3851.0  13312.0   \n",
       "178260  2018-08-02 23:00:00  15964.0  14448.0  2250.0  3575.0  12390.0   \n",
       "178261  2018-08-03 00:00:00  14809.0  13335.0  2042.0  3281.0  11385.0   \n",
       "\n",
       "           DUQ    EKPC      FE  NI     PJME    PJMW  PJM_Load  \n",
       "0          NaN     NaN     NaN NaN      NaN     NaN   22259.0  \n",
       "1          NaN     NaN     NaN NaN      NaN     NaN   21244.0  \n",
       "2          NaN     NaN     NaN NaN      NaN     NaN   20651.0  \n",
       "3          NaN     NaN     NaN NaN      NaN     NaN   20421.0  \n",
       "4          NaN     NaN     NaN NaN      NaN     NaN   20713.0  \n",
       "...        ...     ...     ...  ..      ...     ...       ...  \n",
       "178257  1966.0  1815.0  9866.0 NaN  44057.0  6545.0       NaN  \n",
       "178258  1944.0  1769.0  9656.0 NaN  43256.0  6496.0       NaN  \n",
       "178259  1901.0  1756.0  9532.0 NaN  41552.0  6325.0       NaN  \n",
       "178260  1789.0  1619.0  8872.0 NaN  38500.0  5892.0       NaN  \n",
       "178261  1656.0  1448.0  8198.0 NaN  35486.0  5489.0       NaN  \n",
       "\n",
       "[178262 rows x 13 columns]"
      ]
     },
     "execution_count": 3,
     "metadata": {},
     "output_type": "execute_result"
    }
   ],
   "source": [
    "pd.read_csv(data_path)"
   ]
  },
  {
   "cell_type": "code",
   "execution_count": 14,
   "metadata": {
    "id": "calHMGIo4EtM"
   },
   "outputs": [],
   "source": [
    "df = pd.read_csv(data_path,index_col=0) # Read the first column as the index (labelling index)."
   ]
  },
  {
   "cell_type": "code",
   "execution_count": 15,
   "metadata": {
    "colab": {
     "base_uri": "https://localhost:8080/",
     "height": 690
    },
    "id": "H9RZatlfAyxM",
    "outputId": "55b44863-28f5-4ba1-bcd9-546c848e4eb9"
   },
   "outputs": [
    {
     "data": {
      "text/html": [
       "<div>\n",
       "<style scoped>\n",
       "    .dataframe tbody tr th:only-of-type {\n",
       "        vertical-align: middle;\n",
       "    }\n",
       "\n",
       "    .dataframe tbody tr th {\n",
       "        vertical-align: top;\n",
       "    }\n",
       "\n",
       "    .dataframe thead th {\n",
       "        text-align: right;\n",
       "    }\n",
       "</style>\n",
       "<table border=\"1\" class=\"dataframe\">\n",
       "  <thead>\n",
       "    <tr style=\"text-align: right;\">\n",
       "      <th></th>\n",
       "      <th>AEP</th>\n",
       "      <th>COMED</th>\n",
       "      <th>DAYTON</th>\n",
       "      <th>DEOK</th>\n",
       "      <th>DOM</th>\n",
       "      <th>DUQ</th>\n",
       "      <th>EKPC</th>\n",
       "      <th>FE</th>\n",
       "      <th>NI</th>\n",
       "      <th>PJME</th>\n",
       "      <th>PJMW</th>\n",
       "      <th>PJM_Load</th>\n",
       "    </tr>\n",
       "    <tr>\n",
       "      <th>Datetime</th>\n",
       "      <th></th>\n",
       "      <th></th>\n",
       "      <th></th>\n",
       "      <th></th>\n",
       "      <th></th>\n",
       "      <th></th>\n",
       "      <th></th>\n",
       "      <th></th>\n",
       "      <th></th>\n",
       "      <th></th>\n",
       "      <th></th>\n",
       "      <th></th>\n",
       "    </tr>\n",
       "  </thead>\n",
       "  <tbody>\n",
       "    <tr>\n",
       "      <th>1998-04-01 01:00:00</th>\n",
       "      <td>NaN</td>\n",
       "      <td>NaN</td>\n",
       "      <td>NaN</td>\n",
       "      <td>NaN</td>\n",
       "      <td>NaN</td>\n",
       "      <td>NaN</td>\n",
       "      <td>NaN</td>\n",
       "      <td>NaN</td>\n",
       "      <td>NaN</td>\n",
       "      <td>NaN</td>\n",
       "      <td>NaN</td>\n",
       "      <td>22259.0</td>\n",
       "    </tr>\n",
       "    <tr>\n",
       "      <th>1998-04-01 02:00:00</th>\n",
       "      <td>NaN</td>\n",
       "      <td>NaN</td>\n",
       "      <td>NaN</td>\n",
       "      <td>NaN</td>\n",
       "      <td>NaN</td>\n",
       "      <td>NaN</td>\n",
       "      <td>NaN</td>\n",
       "      <td>NaN</td>\n",
       "      <td>NaN</td>\n",
       "      <td>NaN</td>\n",
       "      <td>NaN</td>\n",
       "      <td>21244.0</td>\n",
       "    </tr>\n",
       "    <tr>\n",
       "      <th>1998-04-01 03:00:00</th>\n",
       "      <td>NaN</td>\n",
       "      <td>NaN</td>\n",
       "      <td>NaN</td>\n",
       "      <td>NaN</td>\n",
       "      <td>NaN</td>\n",
       "      <td>NaN</td>\n",
       "      <td>NaN</td>\n",
       "      <td>NaN</td>\n",
       "      <td>NaN</td>\n",
       "      <td>NaN</td>\n",
       "      <td>NaN</td>\n",
       "      <td>20651.0</td>\n",
       "    </tr>\n",
       "    <tr>\n",
       "      <th>1998-04-01 04:00:00</th>\n",
       "      <td>NaN</td>\n",
       "      <td>NaN</td>\n",
       "      <td>NaN</td>\n",
       "      <td>NaN</td>\n",
       "      <td>NaN</td>\n",
       "      <td>NaN</td>\n",
       "      <td>NaN</td>\n",
       "      <td>NaN</td>\n",
       "      <td>NaN</td>\n",
       "      <td>NaN</td>\n",
       "      <td>NaN</td>\n",
       "      <td>20421.0</td>\n",
       "    </tr>\n",
       "    <tr>\n",
       "      <th>1998-04-01 05:00:00</th>\n",
       "      <td>NaN</td>\n",
       "      <td>NaN</td>\n",
       "      <td>NaN</td>\n",
       "      <td>NaN</td>\n",
       "      <td>NaN</td>\n",
       "      <td>NaN</td>\n",
       "      <td>NaN</td>\n",
       "      <td>NaN</td>\n",
       "      <td>NaN</td>\n",
       "      <td>NaN</td>\n",
       "      <td>NaN</td>\n",
       "      <td>20713.0</td>\n",
       "    </tr>\n",
       "    <tr>\n",
       "      <th>...</th>\n",
       "      <td>...</td>\n",
       "      <td>...</td>\n",
       "      <td>...</td>\n",
       "      <td>...</td>\n",
       "      <td>...</td>\n",
       "      <td>...</td>\n",
       "      <td>...</td>\n",
       "      <td>...</td>\n",
       "      <td>...</td>\n",
       "      <td>...</td>\n",
       "      <td>...</td>\n",
       "      <td>...</td>\n",
       "    </tr>\n",
       "    <tr>\n",
       "      <th>2018-08-02 20:00:00</th>\n",
       "      <td>17673.0</td>\n",
       "      <td>16437.0</td>\n",
       "      <td>2554.0</td>\n",
       "      <td>4052.0</td>\n",
       "      <td>14038.0</td>\n",
       "      <td>1966.0</td>\n",
       "      <td>1815.0</td>\n",
       "      <td>9866.0</td>\n",
       "      <td>NaN</td>\n",
       "      <td>44057.0</td>\n",
       "      <td>6545.0</td>\n",
       "      <td>NaN</td>\n",
       "    </tr>\n",
       "    <tr>\n",
       "      <th>2018-08-02 21:00:00</th>\n",
       "      <td>17303.0</td>\n",
       "      <td>15590.0</td>\n",
       "      <td>2481.0</td>\n",
       "      <td>3892.0</td>\n",
       "      <td>13832.0</td>\n",
       "      <td>1944.0</td>\n",
       "      <td>1769.0</td>\n",
       "      <td>9656.0</td>\n",
       "      <td>NaN</td>\n",
       "      <td>43256.0</td>\n",
       "      <td>6496.0</td>\n",
       "      <td>NaN</td>\n",
       "    </tr>\n",
       "    <tr>\n",
       "      <th>2018-08-02 22:00:00</th>\n",
       "      <td>17001.0</td>\n",
       "      <td>15086.0</td>\n",
       "      <td>2405.0</td>\n",
       "      <td>3851.0</td>\n",
       "      <td>13312.0</td>\n",
       "      <td>1901.0</td>\n",
       "      <td>1756.0</td>\n",
       "      <td>9532.0</td>\n",
       "      <td>NaN</td>\n",
       "      <td>41552.0</td>\n",
       "      <td>6325.0</td>\n",
       "      <td>NaN</td>\n",
       "    </tr>\n",
       "    <tr>\n",
       "      <th>2018-08-02 23:00:00</th>\n",
       "      <td>15964.0</td>\n",
       "      <td>14448.0</td>\n",
       "      <td>2250.0</td>\n",
       "      <td>3575.0</td>\n",
       "      <td>12390.0</td>\n",
       "      <td>1789.0</td>\n",
       "      <td>1619.0</td>\n",
       "      <td>8872.0</td>\n",
       "      <td>NaN</td>\n",
       "      <td>38500.0</td>\n",
       "      <td>5892.0</td>\n",
       "      <td>NaN</td>\n",
       "    </tr>\n",
       "    <tr>\n",
       "      <th>2018-08-03 00:00:00</th>\n",
       "      <td>14809.0</td>\n",
       "      <td>13335.0</td>\n",
       "      <td>2042.0</td>\n",
       "      <td>3281.0</td>\n",
       "      <td>11385.0</td>\n",
       "      <td>1656.0</td>\n",
       "      <td>1448.0</td>\n",
       "      <td>8198.0</td>\n",
       "      <td>NaN</td>\n",
       "      <td>35486.0</td>\n",
       "      <td>5489.0</td>\n",
       "      <td>NaN</td>\n",
       "    </tr>\n",
       "  </tbody>\n",
       "</table>\n",
       "<p>178262 rows × 12 columns</p>\n",
       "</div>"
      ],
      "text/plain": [
       "                         AEP    COMED  DAYTON    DEOK      DOM     DUQ  \\\n",
       "Datetime                                                                 \n",
       "1998-04-01 01:00:00      NaN      NaN     NaN     NaN      NaN     NaN   \n",
       "1998-04-01 02:00:00      NaN      NaN     NaN     NaN      NaN     NaN   \n",
       "1998-04-01 03:00:00      NaN      NaN     NaN     NaN      NaN     NaN   \n",
       "1998-04-01 04:00:00      NaN      NaN     NaN     NaN      NaN     NaN   \n",
       "1998-04-01 05:00:00      NaN      NaN     NaN     NaN      NaN     NaN   \n",
       "...                      ...      ...     ...     ...      ...     ...   \n",
       "2018-08-02 20:00:00  17673.0  16437.0  2554.0  4052.0  14038.0  1966.0   \n",
       "2018-08-02 21:00:00  17303.0  15590.0  2481.0  3892.0  13832.0  1944.0   \n",
       "2018-08-02 22:00:00  17001.0  15086.0  2405.0  3851.0  13312.0  1901.0   \n",
       "2018-08-02 23:00:00  15964.0  14448.0  2250.0  3575.0  12390.0  1789.0   \n",
       "2018-08-03 00:00:00  14809.0  13335.0  2042.0  3281.0  11385.0  1656.0   \n",
       "\n",
       "                       EKPC      FE  NI     PJME    PJMW  PJM_Load  \n",
       "Datetime                                                            \n",
       "1998-04-01 01:00:00     NaN     NaN NaN      NaN     NaN   22259.0  \n",
       "1998-04-01 02:00:00     NaN     NaN NaN      NaN     NaN   21244.0  \n",
       "1998-04-01 03:00:00     NaN     NaN NaN      NaN     NaN   20651.0  \n",
       "1998-04-01 04:00:00     NaN     NaN NaN      NaN     NaN   20421.0  \n",
       "1998-04-01 05:00:00     NaN     NaN NaN      NaN     NaN   20713.0  \n",
       "...                     ...     ...  ..      ...     ...       ...  \n",
       "2018-08-02 20:00:00  1815.0  9866.0 NaN  44057.0  6545.0       NaN  \n",
       "2018-08-02 21:00:00  1769.0  9656.0 NaN  43256.0  6496.0       NaN  \n",
       "2018-08-02 22:00:00  1756.0  9532.0 NaN  41552.0  6325.0       NaN  \n",
       "2018-08-02 23:00:00  1619.0  8872.0 NaN  38500.0  5892.0       NaN  \n",
       "2018-08-03 00:00:00  1448.0  8198.0 NaN  35486.0  5489.0       NaN  \n",
       "\n",
       "[178262 rows x 12 columns]"
      ]
     },
     "execution_count": 15,
     "metadata": {},
     "output_type": "execute_result"
    }
   ],
   "source": [
    "df"
   ]
  },
  {
   "cell_type": "code",
   "execution_count": 6,
   "metadata": {
    "colab": {
     "base_uri": "https://localhost:8080/"
    },
    "id": "kqvn2qXKWDnr",
    "outputId": "68d6d915-7758-417f-a99d-868b27fa43ed"
   },
   "outputs": [
    {
     "data": {
      "text/plain": [
       "pandas.core.frame.DataFrame"
      ]
     },
     "execution_count": 6,
     "metadata": {},
     "output_type": "execute_result"
    }
   ],
   "source": [
    "type(df)"
   ]
  },
  {
   "cell_type": "code",
   "execution_count": 7,
   "metadata": {
    "colab": {
     "base_uri": "https://localhost:8080/",
     "height": 314
    },
    "id": "kwL_9hnIc1kg",
    "outputId": "ae6832e1-cc87-4da3-9a8a-c0f53da5b219"
   },
   "outputs": [
    {
     "data": {
      "text/html": [
       "<div>\n",
       "<style scoped>\n",
       "    .dataframe tbody tr th:only-of-type {\n",
       "        vertical-align: middle;\n",
       "    }\n",
       "\n",
       "    .dataframe tbody tr th {\n",
       "        vertical-align: top;\n",
       "    }\n",
       "\n",
       "    .dataframe thead th {\n",
       "        text-align: right;\n",
       "    }\n",
       "</style>\n",
       "<table border=\"1\" class=\"dataframe\">\n",
       "  <thead>\n",
       "    <tr style=\"text-align: right;\">\n",
       "      <th></th>\n",
       "      <th>AEP</th>\n",
       "      <th>COMED</th>\n",
       "      <th>DAYTON</th>\n",
       "      <th>DEOK</th>\n",
       "      <th>DOM</th>\n",
       "      <th>DUQ</th>\n",
       "      <th>EKPC</th>\n",
       "      <th>FE</th>\n",
       "      <th>NI</th>\n",
       "      <th>PJME</th>\n",
       "      <th>PJMW</th>\n",
       "      <th>PJM_Load</th>\n",
       "    </tr>\n",
       "    <tr>\n",
       "      <th>Datetime</th>\n",
       "      <th></th>\n",
       "      <th></th>\n",
       "      <th></th>\n",
       "      <th></th>\n",
       "      <th></th>\n",
       "      <th></th>\n",
       "      <th></th>\n",
       "      <th></th>\n",
       "      <th></th>\n",
       "      <th></th>\n",
       "      <th></th>\n",
       "      <th></th>\n",
       "    </tr>\n",
       "  </thead>\n",
       "  <tbody>\n",
       "    <tr>\n",
       "      <th>1998-04-01 01:00:00</th>\n",
       "      <td>NaN</td>\n",
       "      <td>NaN</td>\n",
       "      <td>NaN</td>\n",
       "      <td>NaN</td>\n",
       "      <td>NaN</td>\n",
       "      <td>NaN</td>\n",
       "      <td>NaN</td>\n",
       "      <td>NaN</td>\n",
       "      <td>NaN</td>\n",
       "      <td>NaN</td>\n",
       "      <td>NaN</td>\n",
       "      <td>22259.0</td>\n",
       "    </tr>\n",
       "    <tr>\n",
       "      <th>1998-04-01 02:00:00</th>\n",
       "      <td>NaN</td>\n",
       "      <td>NaN</td>\n",
       "      <td>NaN</td>\n",
       "      <td>NaN</td>\n",
       "      <td>NaN</td>\n",
       "      <td>NaN</td>\n",
       "      <td>NaN</td>\n",
       "      <td>NaN</td>\n",
       "      <td>NaN</td>\n",
       "      <td>NaN</td>\n",
       "      <td>NaN</td>\n",
       "      <td>21244.0</td>\n",
       "    </tr>\n",
       "    <tr>\n",
       "      <th>1998-04-01 03:00:00</th>\n",
       "      <td>NaN</td>\n",
       "      <td>NaN</td>\n",
       "      <td>NaN</td>\n",
       "      <td>NaN</td>\n",
       "      <td>NaN</td>\n",
       "      <td>NaN</td>\n",
       "      <td>NaN</td>\n",
       "      <td>NaN</td>\n",
       "      <td>NaN</td>\n",
       "      <td>NaN</td>\n",
       "      <td>NaN</td>\n",
       "      <td>20651.0</td>\n",
       "    </tr>\n",
       "    <tr>\n",
       "      <th>1998-04-01 04:00:00</th>\n",
       "      <td>NaN</td>\n",
       "      <td>NaN</td>\n",
       "      <td>NaN</td>\n",
       "      <td>NaN</td>\n",
       "      <td>NaN</td>\n",
       "      <td>NaN</td>\n",
       "      <td>NaN</td>\n",
       "      <td>NaN</td>\n",
       "      <td>NaN</td>\n",
       "      <td>NaN</td>\n",
       "      <td>NaN</td>\n",
       "      <td>20421.0</td>\n",
       "    </tr>\n",
       "    <tr>\n",
       "      <th>1998-04-01 05:00:00</th>\n",
       "      <td>NaN</td>\n",
       "      <td>NaN</td>\n",
       "      <td>NaN</td>\n",
       "      <td>NaN</td>\n",
       "      <td>NaN</td>\n",
       "      <td>NaN</td>\n",
       "      <td>NaN</td>\n",
       "      <td>NaN</td>\n",
       "      <td>NaN</td>\n",
       "      <td>NaN</td>\n",
       "      <td>NaN</td>\n",
       "      <td>20713.0</td>\n",
       "    </tr>\n",
       "  </tbody>\n",
       "</table>\n",
       "</div>"
      ],
      "text/plain": [
       "                     AEP  COMED  DAYTON  DEOK  DOM  DUQ  EKPC  FE  NI  PJME  \\\n",
       "Datetime                                                                      \n",
       "1998-04-01 01:00:00  NaN    NaN     NaN   NaN  NaN  NaN   NaN NaN NaN   NaN   \n",
       "1998-04-01 02:00:00  NaN    NaN     NaN   NaN  NaN  NaN   NaN NaN NaN   NaN   \n",
       "1998-04-01 03:00:00  NaN    NaN     NaN   NaN  NaN  NaN   NaN NaN NaN   NaN   \n",
       "1998-04-01 04:00:00  NaN    NaN     NaN   NaN  NaN  NaN   NaN NaN NaN   NaN   \n",
       "1998-04-01 05:00:00  NaN    NaN     NaN   NaN  NaN  NaN   NaN NaN NaN   NaN   \n",
       "\n",
       "                     PJMW  PJM_Load  \n",
       "Datetime                             \n",
       "1998-04-01 01:00:00   NaN   22259.0  \n",
       "1998-04-01 02:00:00   NaN   21244.0  \n",
       "1998-04-01 03:00:00   NaN   20651.0  \n",
       "1998-04-01 04:00:00   NaN   20421.0  \n",
       "1998-04-01 05:00:00   NaN   20713.0  "
      ]
     },
     "execution_count": 7,
     "metadata": {},
     "output_type": "execute_result"
    }
   ],
   "source": [
    "df.head()"
   ]
  },
  {
   "cell_type": "code",
   "execution_count": 8,
   "metadata": {},
   "outputs": [
    {
     "data": {
      "text/html": [
       "<div>\n",
       "<style scoped>\n",
       "    .dataframe tbody tr th:only-of-type {\n",
       "        vertical-align: middle;\n",
       "    }\n",
       "\n",
       "    .dataframe tbody tr th {\n",
       "        vertical-align: top;\n",
       "    }\n",
       "\n",
       "    .dataframe thead th {\n",
       "        text-align: right;\n",
       "    }\n",
       "</style>\n",
       "<table border=\"1\" class=\"dataframe\">\n",
       "  <thead>\n",
       "    <tr style=\"text-align: right;\">\n",
       "      <th></th>\n",
       "      <th>AEP</th>\n",
       "      <th>COMED</th>\n",
       "      <th>DAYTON</th>\n",
       "      <th>DEOK</th>\n",
       "      <th>DOM</th>\n",
       "      <th>DUQ</th>\n",
       "      <th>EKPC</th>\n",
       "      <th>FE</th>\n",
       "      <th>NI</th>\n",
       "      <th>PJME</th>\n",
       "      <th>PJMW</th>\n",
       "      <th>PJM_Load</th>\n",
       "    </tr>\n",
       "    <tr>\n",
       "      <th>Datetime</th>\n",
       "      <th></th>\n",
       "      <th></th>\n",
       "      <th></th>\n",
       "      <th></th>\n",
       "      <th></th>\n",
       "      <th></th>\n",
       "      <th></th>\n",
       "      <th></th>\n",
       "      <th></th>\n",
       "      <th></th>\n",
       "      <th></th>\n",
       "      <th></th>\n",
       "    </tr>\n",
       "  </thead>\n",
       "  <tbody>\n",
       "    <tr>\n",
       "      <th>1998-04-01 01:00:00</th>\n",
       "      <td>NaN</td>\n",
       "      <td>NaN</td>\n",
       "      <td>NaN</td>\n",
       "      <td>NaN</td>\n",
       "      <td>NaN</td>\n",
       "      <td>NaN</td>\n",
       "      <td>NaN</td>\n",
       "      <td>NaN</td>\n",
       "      <td>NaN</td>\n",
       "      <td>NaN</td>\n",
       "      <td>NaN</td>\n",
       "      <td>22259.0</td>\n",
       "    </tr>\n",
       "    <tr>\n",
       "      <th>1998-04-01 02:00:00</th>\n",
       "      <td>NaN</td>\n",
       "      <td>NaN</td>\n",
       "      <td>NaN</td>\n",
       "      <td>NaN</td>\n",
       "      <td>NaN</td>\n",
       "      <td>NaN</td>\n",
       "      <td>NaN</td>\n",
       "      <td>NaN</td>\n",
       "      <td>NaN</td>\n",
       "      <td>NaN</td>\n",
       "      <td>NaN</td>\n",
       "      <td>21244.0</td>\n",
       "    </tr>\n",
       "    <tr>\n",
       "      <th>1998-04-01 03:00:00</th>\n",
       "      <td>NaN</td>\n",
       "      <td>NaN</td>\n",
       "      <td>NaN</td>\n",
       "      <td>NaN</td>\n",
       "      <td>NaN</td>\n",
       "      <td>NaN</td>\n",
       "      <td>NaN</td>\n",
       "      <td>NaN</td>\n",
       "      <td>NaN</td>\n",
       "      <td>NaN</td>\n",
       "      <td>NaN</td>\n",
       "      <td>20651.0</td>\n",
       "    </tr>\n",
       "  </tbody>\n",
       "</table>\n",
       "</div>"
      ],
      "text/plain": [
       "                     AEP  COMED  DAYTON  DEOK  DOM  DUQ  EKPC  FE  NI  PJME  \\\n",
       "Datetime                                                                      \n",
       "1998-04-01 01:00:00  NaN    NaN     NaN   NaN  NaN  NaN   NaN NaN NaN   NaN   \n",
       "1998-04-01 02:00:00  NaN    NaN     NaN   NaN  NaN  NaN   NaN NaN NaN   NaN   \n",
       "1998-04-01 03:00:00  NaN    NaN     NaN   NaN  NaN  NaN   NaN NaN NaN   NaN   \n",
       "\n",
       "                     PJMW  PJM_Load  \n",
       "Datetime                             \n",
       "1998-04-01 01:00:00   NaN   22259.0  \n",
       "1998-04-01 02:00:00   NaN   21244.0  \n",
       "1998-04-01 03:00:00   NaN   20651.0  "
      ]
     },
     "execution_count": 8,
     "metadata": {},
     "output_type": "execute_result"
    }
   ],
   "source": [
    "df.head(3)"
   ]
  },
  {
   "cell_type": "code",
   "execution_count": 9,
   "metadata": {
    "colab": {
     "base_uri": "https://localhost:8080/",
     "height": 314
    },
    "id": "4Fh-dQOCVWOC",
    "outputId": "53445c37-79ee-49f3-dfd2-7d2598c266a5"
   },
   "outputs": [
    {
     "data": {
      "text/html": [
       "<div>\n",
       "<style scoped>\n",
       "    .dataframe tbody tr th:only-of-type {\n",
       "        vertical-align: middle;\n",
       "    }\n",
       "\n",
       "    .dataframe tbody tr th {\n",
       "        vertical-align: top;\n",
       "    }\n",
       "\n",
       "    .dataframe thead th {\n",
       "        text-align: right;\n",
       "    }\n",
       "</style>\n",
       "<table border=\"1\" class=\"dataframe\">\n",
       "  <thead>\n",
       "    <tr style=\"text-align: right;\">\n",
       "      <th></th>\n",
       "      <th>AEP</th>\n",
       "      <th>COMED</th>\n",
       "      <th>DAYTON</th>\n",
       "      <th>DEOK</th>\n",
       "      <th>DOM</th>\n",
       "      <th>DUQ</th>\n",
       "      <th>EKPC</th>\n",
       "      <th>FE</th>\n",
       "      <th>NI</th>\n",
       "      <th>PJME</th>\n",
       "      <th>PJMW</th>\n",
       "      <th>PJM_Load</th>\n",
       "    </tr>\n",
       "    <tr>\n",
       "      <th>Datetime</th>\n",
       "      <th></th>\n",
       "      <th></th>\n",
       "      <th></th>\n",
       "      <th></th>\n",
       "      <th></th>\n",
       "      <th></th>\n",
       "      <th></th>\n",
       "      <th></th>\n",
       "      <th></th>\n",
       "      <th></th>\n",
       "      <th></th>\n",
       "      <th></th>\n",
       "    </tr>\n",
       "  </thead>\n",
       "  <tbody>\n",
       "    <tr>\n",
       "      <th>2018-08-02 20:00:00</th>\n",
       "      <td>17673.0</td>\n",
       "      <td>16437.0</td>\n",
       "      <td>2554.0</td>\n",
       "      <td>4052.0</td>\n",
       "      <td>14038.0</td>\n",
       "      <td>1966.0</td>\n",
       "      <td>1815.0</td>\n",
       "      <td>9866.0</td>\n",
       "      <td>NaN</td>\n",
       "      <td>44057.0</td>\n",
       "      <td>6545.0</td>\n",
       "      <td>NaN</td>\n",
       "    </tr>\n",
       "    <tr>\n",
       "      <th>2018-08-02 21:00:00</th>\n",
       "      <td>17303.0</td>\n",
       "      <td>15590.0</td>\n",
       "      <td>2481.0</td>\n",
       "      <td>3892.0</td>\n",
       "      <td>13832.0</td>\n",
       "      <td>1944.0</td>\n",
       "      <td>1769.0</td>\n",
       "      <td>9656.0</td>\n",
       "      <td>NaN</td>\n",
       "      <td>43256.0</td>\n",
       "      <td>6496.0</td>\n",
       "      <td>NaN</td>\n",
       "    </tr>\n",
       "    <tr>\n",
       "      <th>2018-08-02 22:00:00</th>\n",
       "      <td>17001.0</td>\n",
       "      <td>15086.0</td>\n",
       "      <td>2405.0</td>\n",
       "      <td>3851.0</td>\n",
       "      <td>13312.0</td>\n",
       "      <td>1901.0</td>\n",
       "      <td>1756.0</td>\n",
       "      <td>9532.0</td>\n",
       "      <td>NaN</td>\n",
       "      <td>41552.0</td>\n",
       "      <td>6325.0</td>\n",
       "      <td>NaN</td>\n",
       "    </tr>\n",
       "    <tr>\n",
       "      <th>2018-08-02 23:00:00</th>\n",
       "      <td>15964.0</td>\n",
       "      <td>14448.0</td>\n",
       "      <td>2250.0</td>\n",
       "      <td>3575.0</td>\n",
       "      <td>12390.0</td>\n",
       "      <td>1789.0</td>\n",
       "      <td>1619.0</td>\n",
       "      <td>8872.0</td>\n",
       "      <td>NaN</td>\n",
       "      <td>38500.0</td>\n",
       "      <td>5892.0</td>\n",
       "      <td>NaN</td>\n",
       "    </tr>\n",
       "    <tr>\n",
       "      <th>2018-08-03 00:00:00</th>\n",
       "      <td>14809.0</td>\n",
       "      <td>13335.0</td>\n",
       "      <td>2042.0</td>\n",
       "      <td>3281.0</td>\n",
       "      <td>11385.0</td>\n",
       "      <td>1656.0</td>\n",
       "      <td>1448.0</td>\n",
       "      <td>8198.0</td>\n",
       "      <td>NaN</td>\n",
       "      <td>35486.0</td>\n",
       "      <td>5489.0</td>\n",
       "      <td>NaN</td>\n",
       "    </tr>\n",
       "  </tbody>\n",
       "</table>\n",
       "</div>"
      ],
      "text/plain": [
       "                         AEP    COMED  DAYTON    DEOK      DOM     DUQ  \\\n",
       "Datetime                                                                 \n",
       "2018-08-02 20:00:00  17673.0  16437.0  2554.0  4052.0  14038.0  1966.0   \n",
       "2018-08-02 21:00:00  17303.0  15590.0  2481.0  3892.0  13832.0  1944.0   \n",
       "2018-08-02 22:00:00  17001.0  15086.0  2405.0  3851.0  13312.0  1901.0   \n",
       "2018-08-02 23:00:00  15964.0  14448.0  2250.0  3575.0  12390.0  1789.0   \n",
       "2018-08-03 00:00:00  14809.0  13335.0  2042.0  3281.0  11385.0  1656.0   \n",
       "\n",
       "                       EKPC      FE  NI     PJME    PJMW  PJM_Load  \n",
       "Datetime                                                            \n",
       "2018-08-02 20:00:00  1815.0  9866.0 NaN  44057.0  6545.0       NaN  \n",
       "2018-08-02 21:00:00  1769.0  9656.0 NaN  43256.0  6496.0       NaN  \n",
       "2018-08-02 22:00:00  1756.0  9532.0 NaN  41552.0  6325.0       NaN  \n",
       "2018-08-02 23:00:00  1619.0  8872.0 NaN  38500.0  5892.0       NaN  \n",
       "2018-08-03 00:00:00  1448.0  8198.0 NaN  35486.0  5489.0       NaN  "
      ]
     },
     "execution_count": 9,
     "metadata": {},
     "output_type": "execute_result"
    }
   ],
   "source": [
    "df.tail()"
   ]
  },
  {
   "cell_type": "code",
   "execution_count": 10,
   "metadata": {},
   "outputs": [
    {
     "data": {
      "text/html": [
       "<div>\n",
       "<style scoped>\n",
       "    .dataframe tbody tr th:only-of-type {\n",
       "        vertical-align: middle;\n",
       "    }\n",
       "\n",
       "    .dataframe tbody tr th {\n",
       "        vertical-align: top;\n",
       "    }\n",
       "\n",
       "    .dataframe thead th {\n",
       "        text-align: right;\n",
       "    }\n",
       "</style>\n",
       "<table border=\"1\" class=\"dataframe\">\n",
       "  <thead>\n",
       "    <tr style=\"text-align: right;\">\n",
       "      <th></th>\n",
       "      <th>AEP</th>\n",
       "      <th>COMED</th>\n",
       "      <th>DAYTON</th>\n",
       "      <th>DEOK</th>\n",
       "      <th>DOM</th>\n",
       "      <th>DUQ</th>\n",
       "      <th>EKPC</th>\n",
       "      <th>FE</th>\n",
       "      <th>NI</th>\n",
       "      <th>PJME</th>\n",
       "      <th>PJMW</th>\n",
       "      <th>PJM_Load</th>\n",
       "    </tr>\n",
       "    <tr>\n",
       "      <th>Datetime</th>\n",
       "      <th></th>\n",
       "      <th></th>\n",
       "      <th></th>\n",
       "      <th></th>\n",
       "      <th></th>\n",
       "      <th></th>\n",
       "      <th></th>\n",
       "      <th></th>\n",
       "      <th></th>\n",
       "      <th></th>\n",
       "      <th></th>\n",
       "      <th></th>\n",
       "    </tr>\n",
       "  </thead>\n",
       "  <tbody>\n",
       "    <tr>\n",
       "      <th>2018-08-02 15:00:00</th>\n",
       "      <td>18534.0</td>\n",
       "      <td>16584.0</td>\n",
       "      <td>2576.0</td>\n",
       "      <td>4070.0</td>\n",
       "      <td>14941.0</td>\n",
       "      <td>1983.0</td>\n",
       "      <td>1790.0</td>\n",
       "      <td>10322.0</td>\n",
       "      <td>NaN</td>\n",
       "      <td>47154.0</td>\n",
       "      <td>6492.0</td>\n",
       "      <td>NaN</td>\n",
       "    </tr>\n",
       "    <tr>\n",
       "      <th>2018-08-02 16:00:00</th>\n",
       "      <td>18826.0</td>\n",
       "      <td>16869.0</td>\n",
       "      <td>2594.0</td>\n",
       "      <td>4113.0</td>\n",
       "      <td>14791.0</td>\n",
       "      <td>2029.0</td>\n",
       "      <td>1813.0</td>\n",
       "      <td>10489.0</td>\n",
       "      <td>NaN</td>\n",
       "      <td>46989.0</td>\n",
       "      <td>6627.0</td>\n",
       "      <td>NaN</td>\n",
       "    </tr>\n",
       "    <tr>\n",
       "      <th>2018-08-02 17:00:00</th>\n",
       "      <td>18869.0</td>\n",
       "      <td>17015.0</td>\n",
       "      <td>2626.0</td>\n",
       "      <td>4136.0</td>\n",
       "      <td>14924.0</td>\n",
       "      <td>2039.0</td>\n",
       "      <td>1837.0</td>\n",
       "      <td>10564.0</td>\n",
       "      <td>NaN</td>\n",
       "      <td>46816.0</td>\n",
       "      <td>6708.0</td>\n",
       "      <td>NaN</td>\n",
       "    </tr>\n",
       "    <tr>\n",
       "      <th>2018-08-02 18:00:00</th>\n",
       "      <td>18562.0</td>\n",
       "      <td>17068.0</td>\n",
       "      <td>2624.0</td>\n",
       "      <td>4168.0</td>\n",
       "      <td>14898.0</td>\n",
       "      <td>2050.0</td>\n",
       "      <td>1856.0</td>\n",
       "      <td>10458.0</td>\n",
       "      <td>NaN</td>\n",
       "      <td>46760.0</td>\n",
       "      <td>6758.0</td>\n",
       "      <td>NaN</td>\n",
       "    </tr>\n",
       "    <tr>\n",
       "      <th>2018-08-02 19:00:00</th>\n",
       "      <td>18118.0</td>\n",
       "      <td>16897.0</td>\n",
       "      <td>2600.0</td>\n",
       "      <td>4122.0</td>\n",
       "      <td>14453.0</td>\n",
       "      <td>1999.0</td>\n",
       "      <td>1818.0</td>\n",
       "      <td>10158.0</td>\n",
       "      <td>NaN</td>\n",
       "      <td>45641.0</td>\n",
       "      <td>6693.0</td>\n",
       "      <td>NaN</td>\n",
       "    </tr>\n",
       "    <tr>\n",
       "      <th>2018-08-02 20:00:00</th>\n",
       "      <td>17673.0</td>\n",
       "      <td>16437.0</td>\n",
       "      <td>2554.0</td>\n",
       "      <td>4052.0</td>\n",
       "      <td>14038.0</td>\n",
       "      <td>1966.0</td>\n",
       "      <td>1815.0</td>\n",
       "      <td>9866.0</td>\n",
       "      <td>NaN</td>\n",
       "      <td>44057.0</td>\n",
       "      <td>6545.0</td>\n",
       "      <td>NaN</td>\n",
       "    </tr>\n",
       "    <tr>\n",
       "      <th>2018-08-02 21:00:00</th>\n",
       "      <td>17303.0</td>\n",
       "      <td>15590.0</td>\n",
       "      <td>2481.0</td>\n",
       "      <td>3892.0</td>\n",
       "      <td>13832.0</td>\n",
       "      <td>1944.0</td>\n",
       "      <td>1769.0</td>\n",
       "      <td>9656.0</td>\n",
       "      <td>NaN</td>\n",
       "      <td>43256.0</td>\n",
       "      <td>6496.0</td>\n",
       "      <td>NaN</td>\n",
       "    </tr>\n",
       "    <tr>\n",
       "      <th>2018-08-02 22:00:00</th>\n",
       "      <td>17001.0</td>\n",
       "      <td>15086.0</td>\n",
       "      <td>2405.0</td>\n",
       "      <td>3851.0</td>\n",
       "      <td>13312.0</td>\n",
       "      <td>1901.0</td>\n",
       "      <td>1756.0</td>\n",
       "      <td>9532.0</td>\n",
       "      <td>NaN</td>\n",
       "      <td>41552.0</td>\n",
       "      <td>6325.0</td>\n",
       "      <td>NaN</td>\n",
       "    </tr>\n",
       "    <tr>\n",
       "      <th>2018-08-02 23:00:00</th>\n",
       "      <td>15964.0</td>\n",
       "      <td>14448.0</td>\n",
       "      <td>2250.0</td>\n",
       "      <td>3575.0</td>\n",
       "      <td>12390.0</td>\n",
       "      <td>1789.0</td>\n",
       "      <td>1619.0</td>\n",
       "      <td>8872.0</td>\n",
       "      <td>NaN</td>\n",
       "      <td>38500.0</td>\n",
       "      <td>5892.0</td>\n",
       "      <td>NaN</td>\n",
       "    </tr>\n",
       "    <tr>\n",
       "      <th>2018-08-03 00:00:00</th>\n",
       "      <td>14809.0</td>\n",
       "      <td>13335.0</td>\n",
       "      <td>2042.0</td>\n",
       "      <td>3281.0</td>\n",
       "      <td>11385.0</td>\n",
       "      <td>1656.0</td>\n",
       "      <td>1448.0</td>\n",
       "      <td>8198.0</td>\n",
       "      <td>NaN</td>\n",
       "      <td>35486.0</td>\n",
       "      <td>5489.0</td>\n",
       "      <td>NaN</td>\n",
       "    </tr>\n",
       "  </tbody>\n",
       "</table>\n",
       "</div>"
      ],
      "text/plain": [
       "                         AEP    COMED  DAYTON    DEOK      DOM     DUQ  \\\n",
       "Datetime                                                                 \n",
       "2018-08-02 15:00:00  18534.0  16584.0  2576.0  4070.0  14941.0  1983.0   \n",
       "2018-08-02 16:00:00  18826.0  16869.0  2594.0  4113.0  14791.0  2029.0   \n",
       "2018-08-02 17:00:00  18869.0  17015.0  2626.0  4136.0  14924.0  2039.0   \n",
       "2018-08-02 18:00:00  18562.0  17068.0  2624.0  4168.0  14898.0  2050.0   \n",
       "2018-08-02 19:00:00  18118.0  16897.0  2600.0  4122.0  14453.0  1999.0   \n",
       "2018-08-02 20:00:00  17673.0  16437.0  2554.0  4052.0  14038.0  1966.0   \n",
       "2018-08-02 21:00:00  17303.0  15590.0  2481.0  3892.0  13832.0  1944.0   \n",
       "2018-08-02 22:00:00  17001.0  15086.0  2405.0  3851.0  13312.0  1901.0   \n",
       "2018-08-02 23:00:00  15964.0  14448.0  2250.0  3575.0  12390.0  1789.0   \n",
       "2018-08-03 00:00:00  14809.0  13335.0  2042.0  3281.0  11385.0  1656.0   \n",
       "\n",
       "                       EKPC       FE  NI     PJME    PJMW  PJM_Load  \n",
       "Datetime                                                             \n",
       "2018-08-02 15:00:00  1790.0  10322.0 NaN  47154.0  6492.0       NaN  \n",
       "2018-08-02 16:00:00  1813.0  10489.0 NaN  46989.0  6627.0       NaN  \n",
       "2018-08-02 17:00:00  1837.0  10564.0 NaN  46816.0  6708.0       NaN  \n",
       "2018-08-02 18:00:00  1856.0  10458.0 NaN  46760.0  6758.0       NaN  \n",
       "2018-08-02 19:00:00  1818.0  10158.0 NaN  45641.0  6693.0       NaN  \n",
       "2018-08-02 20:00:00  1815.0   9866.0 NaN  44057.0  6545.0       NaN  \n",
       "2018-08-02 21:00:00  1769.0   9656.0 NaN  43256.0  6496.0       NaN  \n",
       "2018-08-02 22:00:00  1756.0   9532.0 NaN  41552.0  6325.0       NaN  \n",
       "2018-08-02 23:00:00  1619.0   8872.0 NaN  38500.0  5892.0       NaN  \n",
       "2018-08-03 00:00:00  1448.0   8198.0 NaN  35486.0  5489.0       NaN  "
      ]
     },
     "execution_count": 10,
     "metadata": {},
     "output_type": "execute_result"
    }
   ],
   "source": [
    "df.tail(10)"
   ]
  },
  {
   "cell_type": "markdown",
   "metadata": {},
   "source": [
    "#### pandas series"
   ]
  },
  {
   "cell_type": "code",
   "execution_count": 11,
   "metadata": {
    "colab": {
     "base_uri": "https://localhost:8080/"
    },
    "id": "5kz8-_rjVgLf",
    "outputId": "164672c6-77d3-4cbe-b17d-fc73ac407094"
   },
   "outputs": [
    {
     "data": {
      "text/plain": [
       "Datetime\n",
       "1998-04-01 01:00:00        NaN\n",
       "1998-04-01 02:00:00        NaN\n",
       "1998-04-01 03:00:00        NaN\n",
       "1998-04-01 04:00:00        NaN\n",
       "1998-04-01 05:00:00        NaN\n",
       "                        ...   \n",
       "2018-08-02 20:00:00    17673.0\n",
       "2018-08-02 21:00:00    17303.0\n",
       "2018-08-02 22:00:00    17001.0\n",
       "2018-08-02 23:00:00    15964.0\n",
       "2018-08-03 00:00:00    14809.0\n",
       "Name: AEP, Length: 178262, dtype: float64"
      ]
     },
     "execution_count": 11,
     "metadata": {},
     "output_type": "execute_result"
    }
   ],
   "source": [
    "aSeries=df[\"AEP\"]\n",
    "aSeries"
   ]
  },
  {
   "cell_type": "code",
   "execution_count": 16,
   "metadata": {
    "colab": {
     "base_uri": "https://localhost:8080/"
    },
    "id": "AfYKQ3Ln0dJk",
    "outputId": "c6656bf1-b5e9-4c1d-bc1a-ebe1a16a8562"
   },
   "outputs": [
    {
     "data": {
      "text/plain": [
       "pandas.core.series.Series"
      ]
     },
     "execution_count": 16,
     "metadata": {},
     "output_type": "execute_result"
    }
   ],
   "source": [
    "type(aSeries)"
   ]
  },
  {
   "cell_type": "markdown",
   "metadata": {},
   "source": [
    "#### basic attributes of dataframe"
   ]
  },
  {
   "cell_type": "code",
   "execution_count": 17,
   "metadata": {
    "colab": {
     "base_uri": "https://localhost:8080/"
    },
    "id": "eAx20Psv0dJm",
    "outputId": "a1a7b500-6ea0-4d6c-eefd-e1e9a9da9543"
   },
   "outputs": [
    {
     "data": {
      "text/plain": [
       "Index(['1998-04-01 01:00:00', '1998-04-01 02:00:00', '1998-04-01 03:00:00',\n",
       "       '1998-04-01 04:00:00', '1998-04-01 05:00:00', '1998-04-01 06:00:00',\n",
       "       '1998-04-01 07:00:00', '1998-04-01 08:00:00', '1998-04-01 09:00:00',\n",
       "       '1998-04-01 10:00:00',\n",
       "       ...\n",
       "       '2018-08-02 15:00:00', '2018-08-02 16:00:00', '2018-08-02 17:00:00',\n",
       "       '2018-08-02 18:00:00', '2018-08-02 19:00:00', '2018-08-02 20:00:00',\n",
       "       '2018-08-02 21:00:00', '2018-08-02 22:00:00', '2018-08-02 23:00:00',\n",
       "       '2018-08-03 00:00:00'],\n",
       "      dtype='object', name='Datetime', length=178262)"
      ]
     },
     "execution_count": 17,
     "metadata": {},
     "output_type": "execute_result"
    }
   ],
   "source": [
    "df.index # check index names\n",
    "# attribute of df or series"
   ]
  },
  {
   "cell_type": "code",
   "execution_count": 18,
   "metadata": {
    "colab": {
     "base_uri": "https://localhost:8080/"
    },
    "id": "zLykM2dp0dJm",
    "outputId": "1cb40780-96fe-4677-9d77-e8f633471db6"
   },
   "outputs": [
    {
     "data": {
      "text/plain": [
       "Index(['AEP', 'COMED', 'DAYTON', 'DEOK', 'DOM', 'DUQ', 'EKPC', 'FE', 'NI',\n",
       "       'PJME', 'PJMW', 'PJM_Load'],\n",
       "      dtype='object')"
      ]
     },
     "execution_count": 18,
     "metadata": {},
     "output_type": "execute_result"
    }
   ],
   "source": [
    "df.columns # check columns' name"
   ]
  },
  {
   "cell_type": "code",
   "execution_count": 19,
   "metadata": {
    "colab": {
     "base_uri": "https://localhost:8080/"
    },
    "id": "_nCyGUkFETBW",
    "outputId": "3afab83e-bd78-40db-956c-261e11b6cff1"
   },
   "outputs": [
    {
     "data": {
      "text/plain": [
       "Index(['DEOK', 'DOM', 'DUQ'], dtype='object')"
      ]
     },
     "execution_count": 19,
     "metadata": {},
     "output_type": "execute_result"
    }
   ],
   "source": [
    "df.columns[3:6]"
   ]
  },
  {
   "cell_type": "code",
   "execution_count": 20,
   "metadata": {
    "colab": {
     "base_uri": "https://localhost:8080/"
    },
    "id": "w4qlzM2_FAAI",
    "outputId": "ac2e141c-2204-44c9-9118-6cf077754dc2"
   },
   "outputs": [
    {
     "data": {
      "text/plain": [
       "Index(['1998-04-01 01:00:00', '1998-04-01 02:00:00', '1998-04-01 03:00:00'], dtype='object', name='Datetime')"
      ]
     },
     "execution_count": 20,
     "metadata": {},
     "output_type": "execute_result"
    }
   ],
   "source": [
    "df.index[:3]"
   ]
  },
  {
   "cell_type": "code",
   "execution_count": 21,
   "metadata": {
    "colab": {
     "base_uri": "https://localhost:8080/"
    },
    "id": "eaVgZD_b0dJn",
    "outputId": "bced6131-affe-44c0-bef0-d9408e6ddda3"
   },
   "outputs": [
    {
     "data": {
      "text/plain": [
       "(178262, 12)"
      ]
     },
     "execution_count": 21,
     "metadata": {},
     "output_type": "execute_result"
    }
   ],
   "source": [
    "df.shape\n",
    "# the first number is the number of rows, sample size\n",
    "# the second number is the number of columns "
   ]
  },
  {
   "cell_type": "code",
   "execution_count": 22,
   "metadata": {
    "colab": {
     "base_uri": "https://localhost:8080/"
    },
    "id": "neYlFgss0dJo",
    "outputId": "16c22241-fa19-4fd1-8d8c-c11f26886af2"
   },
   "outputs": [
    {
     "data": {
      "text/plain": [
       "178262"
      ]
     },
     "execution_count": 22,
     "metadata": {},
     "output_type": "execute_result"
    }
   ],
   "source": [
    "len(df)"
   ]
  },
  {
   "cell_type": "markdown",
   "metadata": {
    "id": "3kCqLkw5RqA0",
    "tags": []
   },
   "source": [
    "### **Practice**\n",
    "print the columns names of last three columns"
   ]
  },
  {
   "cell_type": "code",
   "execution_count": 26,
   "metadata": {},
   "outputs": [
    {
     "data": {
      "text/plain": [
       "Index(['PJME', 'PJMW', 'PJM_Load'], dtype='object')"
      ]
     },
     "execution_count": 26,
     "metadata": {},
     "output_type": "execute_result"
    }
   ],
   "source": [
    "df.columns[-3:]"
   ]
  },
  {
   "cell_type": "markdown",
   "metadata": {
    "id": "YN0ezzQlLBiW"
   },
   "source": [
    "### **Methods of Statistics**"
   ]
  },
  {
   "cell_type": "code",
   "execution_count": 27,
   "metadata": {
    "colab": {
     "base_uri": "https://localhost:8080/"
    },
    "id": "CaGiuEhcXXc9",
    "outputId": "dd388648-d49e-46ac-fa2f-de091ddd4388"
   },
   "outputs": [
    {
     "data": {
      "text/plain": [
       "15499.513716985644"
      ]
     },
     "execution_count": 27,
     "metadata": {},
     "output_type": "execute_result"
    }
   ],
   "source": [
    "aSeries.mean()"
   ]
  },
  {
   "cell_type": "code",
   "execution_count": 28,
   "metadata": {
    "colab": {
     "base_uri": "https://localhost:8080/"
    },
    "id": "J7Rp6EYoXdiN",
    "outputId": "7db6889d-5c56-456e-c798-52ec13c48f48"
   },
   "outputs": [
    {
     "data": {
      "text/plain": [
       "15310.0"
      ]
     },
     "execution_count": 28,
     "metadata": {},
     "output_type": "execute_result"
    }
   ],
   "source": [
    "aSeries.median()"
   ]
  },
  {
   "cell_type": "code",
   "execution_count": 29,
   "metadata": {
    "colab": {
     "base_uri": "https://localhost:8080/"
    },
    "id": "LsGX20hTXdVz",
    "outputId": "c4136e10-95dc-44df-9024-09eae7864341"
   },
   "outputs": [
    {
     "data": {
      "text/plain": [
       "(2591.39906540791, 2591.388381230857, 2591.39906540791)"
      ]
     },
     "execution_count": 29,
     "metadata": {},
     "output_type": "execute_result"
    }
   ],
   "source": [
    "aSeries.std(ddof=1),aSeries.std(ddof=0), aSeries.std()\n",
    "# ddof=1 divided by n-1, sample std, default setting\n",
    "# ddof=0 divided by n-0, population std "
   ]
  },
  {
   "cell_type": "code",
   "execution_count": 30,
   "metadata": {
    "colab": {
     "base_uri": "https://localhost:8080/"
    },
    "id": "3Q4xlFW5XdLy",
    "outputId": "61450fc7-192c-4126-d407-4c338b7a69f7"
   },
   "outputs": [
    {
     "data": {
      "text/plain": [
       "25695.0"
      ]
     },
     "execution_count": 30,
     "metadata": {},
     "output_type": "execute_result"
    }
   ],
   "source": [
    "aSeries.max()"
   ]
  },
  {
   "cell_type": "code",
   "execution_count": 31,
   "metadata": {
    "colab": {
     "base_uri": "https://localhost:8080/"
    },
    "id": "EHkIQI81XkWu",
    "outputId": "f7bdaaf6-0b94-4530-ab81-6da220497f6b"
   },
   "outputs": [
    {
     "data": {
      "text/plain": [
       "9581.0"
      ]
     },
     "execution_count": 31,
     "metadata": {},
     "output_type": "execute_result"
    }
   ],
   "source": [
    "aSeries.min()"
   ]
  },
  {
   "cell_type": "code",
   "execution_count": 32,
   "metadata": {
    "colab": {
     "base_uri": "https://localhost:8080/"
    },
    "id": "AuiMPgodIF3d",
    "outputId": "7515f64d-1677-4248-f8ad-e71c6796602b"
   },
   "outputs": [
    {
     "data": {
      "text/plain": [
       "16114.0"
      ]
     },
     "execution_count": 32,
     "metadata": {},
     "output_type": "execute_result"
    }
   ],
   "source": [
    "aSeries.max()-aSeries.min() #i.e range of the series"
   ]
  },
  {
   "cell_type": "code",
   "execution_count": 33,
   "metadata": {
    "colab": {
     "base_uri": "https://localhost:8080/"
    },
    "id": "2VgfXvpDXnZ6",
    "outputId": "5d4494fb-11d1-43f3-9ab3-ef73ed2148a4"
   },
   "outputs": [
    {
     "data": {
      "text/plain": [
       "13630.0"
      ]
     },
     "execution_count": 33,
     "metadata": {},
     "output_type": "execute_result"
    }
   ],
   "source": [
    "aSeries.quantile(0.25) # Q1"
   ]
  },
  {
   "cell_type": "code",
   "execution_count": 34,
   "metadata": {
    "colab": {
     "base_uri": "https://localhost:8080/"
    },
    "id": "nxm_pE_fX6t0",
    "outputId": "bf294910-321b-4a06-ddc2-500c889545d5"
   },
   "outputs": [
    {
     "data": {
      "text/plain": [
       "17200.0"
      ]
     },
     "execution_count": 34,
     "metadata": {},
     "output_type": "execute_result"
    }
   ],
   "source": [
    "aSeries.quantile(0.75) #Q3"
   ]
  },
  {
   "cell_type": "code",
   "execution_count": 35,
   "metadata": {
    "colab": {
     "base_uri": "https://localhost:8080/"
    },
    "id": "S84Nwl3CX6jb",
    "outputId": "df322c8a-f945-4ecb-9ff3-27ef809763de"
   },
   "outputs": [
    {
     "data": {
      "text/plain": [
       "15310.0"
      ]
     },
     "execution_count": 35,
     "metadata": {},
     "output_type": "execute_result"
    }
   ],
   "source": [
    "aSeries.quantile(0.5)# Q also median"
   ]
  },
  {
   "cell_type": "code",
   "execution_count": 36,
   "metadata": {
    "colab": {
     "base_uri": "https://localhost:8080/"
    },
    "id": "6yM8EplaX-2A",
    "outputId": "6edcae19-b075-4563-a9d7-58face3d535c"
   },
   "outputs": [
    {
     "data": {
      "text/plain": [
       "0.00     9581.0\n",
       "0.25    13630.0\n",
       "0.50    15310.0\n",
       "0.75    17200.0\n",
       "1.00    25695.0\n",
       "Name: AEP, dtype: float64"
      ]
     },
     "execution_count": 36,
     "metadata": {},
     "output_type": "execute_result"
    }
   ],
   "source": [
    "aSeries.quantile([0,0.25,0.5,0.75,1])"
   ]
  },
  {
   "cell_type": "code",
   "execution_count": null,
   "metadata": {},
   "outputs": [],
   "source": []
  },
  {
   "cell_type": "code",
   "execution_count": 37,
   "metadata": {
    "colab": {
     "base_uri": "https://localhost:8080/",
     "height": 211
    },
    "id": "WllUJiqtYa1C",
    "outputId": "fd692ab0-d282-4545-df32-34fa9686a546"
   },
   "outputs": [
    {
     "data": {
      "text/html": [
       "<div>\n",
       "<style scoped>\n",
       "    .dataframe tbody tr th:only-of-type {\n",
       "        vertical-align: middle;\n",
       "    }\n",
       "\n",
       "    .dataframe tbody tr th {\n",
       "        vertical-align: top;\n",
       "    }\n",
       "\n",
       "    .dataframe thead th {\n",
       "        text-align: right;\n",
       "    }\n",
       "</style>\n",
       "<table border=\"1\" class=\"dataframe\">\n",
       "  <thead>\n",
       "    <tr style=\"text-align: right;\">\n",
       "      <th></th>\n",
       "      <th>AEP</th>\n",
       "      <th>COMED</th>\n",
       "      <th>DAYTON</th>\n",
       "      <th>DEOK</th>\n",
       "      <th>DOM</th>\n",
       "      <th>DUQ</th>\n",
       "      <th>EKPC</th>\n",
       "      <th>FE</th>\n",
       "      <th>NI</th>\n",
       "      <th>PJME</th>\n",
       "      <th>PJMW</th>\n",
       "      <th>PJM_Load</th>\n",
       "    </tr>\n",
       "    <tr>\n",
       "      <th>Datetime</th>\n",
       "      <th></th>\n",
       "      <th></th>\n",
       "      <th></th>\n",
       "      <th></th>\n",
       "      <th></th>\n",
       "      <th></th>\n",
       "      <th></th>\n",
       "      <th></th>\n",
       "      <th></th>\n",
       "      <th></th>\n",
       "      <th></th>\n",
       "      <th></th>\n",
       "    </tr>\n",
       "  </thead>\n",
       "  <tbody>\n",
       "    <tr>\n",
       "      <th>1998-04-01 01:00:00</th>\n",
       "      <td>NaN</td>\n",
       "      <td>NaN</td>\n",
       "      <td>NaN</td>\n",
       "      <td>NaN</td>\n",
       "      <td>NaN</td>\n",
       "      <td>NaN</td>\n",
       "      <td>NaN</td>\n",
       "      <td>NaN</td>\n",
       "      <td>NaN</td>\n",
       "      <td>NaN</td>\n",
       "      <td>NaN</td>\n",
       "      <td>22259.0</td>\n",
       "    </tr>\n",
       "    <tr>\n",
       "      <th>1998-04-01 02:00:00</th>\n",
       "      <td>NaN</td>\n",
       "      <td>NaN</td>\n",
       "      <td>NaN</td>\n",
       "      <td>NaN</td>\n",
       "      <td>NaN</td>\n",
       "      <td>NaN</td>\n",
       "      <td>NaN</td>\n",
       "      <td>NaN</td>\n",
       "      <td>NaN</td>\n",
       "      <td>NaN</td>\n",
       "      <td>NaN</td>\n",
       "      <td>21244.0</td>\n",
       "    </tr>\n",
       "    <tr>\n",
       "      <th>1998-04-01 03:00:00</th>\n",
       "      <td>NaN</td>\n",
       "      <td>NaN</td>\n",
       "      <td>NaN</td>\n",
       "      <td>NaN</td>\n",
       "      <td>NaN</td>\n",
       "      <td>NaN</td>\n",
       "      <td>NaN</td>\n",
       "      <td>NaN</td>\n",
       "      <td>NaN</td>\n",
       "      <td>NaN</td>\n",
       "      <td>NaN</td>\n",
       "      <td>20651.0</td>\n",
       "    </tr>\n",
       "    <tr>\n",
       "      <th>1998-04-01 04:00:00</th>\n",
       "      <td>NaN</td>\n",
       "      <td>NaN</td>\n",
       "      <td>NaN</td>\n",
       "      <td>NaN</td>\n",
       "      <td>NaN</td>\n",
       "      <td>NaN</td>\n",
       "      <td>NaN</td>\n",
       "      <td>NaN</td>\n",
       "      <td>NaN</td>\n",
       "      <td>NaN</td>\n",
       "      <td>NaN</td>\n",
       "      <td>20421.0</td>\n",
       "    </tr>\n",
       "    <tr>\n",
       "      <th>1998-04-01 05:00:00</th>\n",
       "      <td>NaN</td>\n",
       "      <td>NaN</td>\n",
       "      <td>NaN</td>\n",
       "      <td>NaN</td>\n",
       "      <td>NaN</td>\n",
       "      <td>NaN</td>\n",
       "      <td>NaN</td>\n",
       "      <td>NaN</td>\n",
       "      <td>NaN</td>\n",
       "      <td>NaN</td>\n",
       "      <td>NaN</td>\n",
       "      <td>20713.0</td>\n",
       "    </tr>\n",
       "  </tbody>\n",
       "</table>\n",
       "</div>"
      ],
      "text/plain": [
       "                     AEP  COMED  DAYTON  DEOK  DOM  DUQ  EKPC  FE  NI  PJME  \\\n",
       "Datetime                                                                      \n",
       "1998-04-01 01:00:00  NaN    NaN     NaN   NaN  NaN  NaN   NaN NaN NaN   NaN   \n",
       "1998-04-01 02:00:00  NaN    NaN     NaN   NaN  NaN  NaN   NaN NaN NaN   NaN   \n",
       "1998-04-01 03:00:00  NaN    NaN     NaN   NaN  NaN  NaN   NaN NaN NaN   NaN   \n",
       "1998-04-01 04:00:00  NaN    NaN     NaN   NaN  NaN  NaN   NaN NaN NaN   NaN   \n",
       "1998-04-01 05:00:00  NaN    NaN     NaN   NaN  NaN  NaN   NaN NaN NaN   NaN   \n",
       "\n",
       "                     PJMW  PJM_Load  \n",
       "Datetime                             \n",
       "1998-04-01 01:00:00   NaN   22259.0  \n",
       "1998-04-01 02:00:00   NaN   21244.0  \n",
       "1998-04-01 03:00:00   NaN   20651.0  \n",
       "1998-04-01 04:00:00   NaN   20421.0  \n",
       "1998-04-01 05:00:00   NaN   20713.0  "
      ]
     },
     "execution_count": 37,
     "metadata": {},
     "output_type": "execute_result"
    }
   ],
   "source": [
    "df.head()"
   ]
  },
  {
   "cell_type": "code",
   "execution_count": 38,
   "metadata": {
    "colab": {
     "base_uri": "https://localhost:8080/"
    },
    "id": "OtICDQaMYU85",
    "outputId": "fed80060-e18c-4e6d-c7de-cdb4c0554dd7"
   },
   "outputs": [
    {
     "data": {
      "text/plain": [
       "AEP         15499.513717\n",
       "COMED       11420.152112\n",
       "DAYTON       2037.851140\n",
       "DEOK         3105.096486\n",
       "DOM         10949.203625\n",
       "DUQ          1658.820296\n",
       "EKPC         1464.218423\n",
       "FE           7792.159064\n",
       "NI          11701.682943\n",
       "PJME        32080.222831\n",
       "PJMW         5602.375089\n",
       "PJM_Load    29766.427408\n",
       "dtype: float64"
      ]
     },
     "execution_count": 38,
     "metadata": {},
     "output_type": "execute_result"
    }
   ],
   "source": [
    "df.mean()# mean for each column"
   ]
  },
  {
   "cell_type": "code",
   "execution_count": 39,
   "metadata": {},
   "outputs": [
    {
     "data": {
      "text/plain": [
       "AEP         2591.399065\n",
       "COMED       2304.139517\n",
       "DAYTON       393.403153\n",
       "DEOK         599.859026\n",
       "DOM         2413.946569\n",
       "DUQ          301.740640\n",
       "EKPC         378.868404\n",
       "FE          1331.268006\n",
       "NI          2371.498701\n",
       "PJME        6464.012166\n",
       "PJMW         979.142872\n",
       "PJM_Load    5849.769954\n",
       "dtype: float64"
      ]
     },
     "execution_count": 39,
     "metadata": {},
     "output_type": "execute_result"
    }
   ],
   "source": [
    "df.std()"
   ]
  },
  {
   "cell_type": "markdown",
   "metadata": {
    "id": "e1zRxUb_YITj"
   },
   "source": [
    "### **Practice**\n",
    "Find Interquantile range of aSeries"
   ]
  },
  {
   "cell_type": "code",
   "execution_count": null,
   "metadata": {},
   "outputs": [],
   "source": []
  },
  {
   "cell_type": "markdown",
   "metadata": {
    "id": "sl5iGuP3RQ53"
   },
   "source": [
    "### **Axes of DataFrame**"
   ]
  },
  {
   "cell_type": "code",
   "execution_count": 40,
   "metadata": {
    "colab": {
     "base_uri": "https://localhost:8080/"
    },
    "id": "e16lf_VJLF0-",
    "outputId": "06f33822-8956-446c-acaf-d79b38bd06f0"
   },
   "outputs": [
    {
     "data": {
      "text/plain": [
       "AEP         1.879673e+09\n",
       "COMED       7.594059e+08\n",
       "DAYTON      2.471404e+08\n",
       "DEOK        1.792852e+08\n",
       "DOM         1.272177e+09\n",
       "DUQ         1.975124e+08\n",
       "EKPC        6.637888e+07\n",
       "FE          4.899242e+08\n",
       "NI          6.839634e+08\n",
       "PJME        4.663374e+09\n",
       "PJMW        8.022937e+08\n",
       "PJM_Load    9.791964e+08\n",
       "dtype: float64"
      ]
     },
     "execution_count": 40,
     "metadata": {},
     "output_type": "execute_result"
    }
   ],
   "source": [
    "# summing up all rows\n",
    "df.sum(axis=0)"
   ]
  },
  {
   "cell_type": "code",
   "execution_count": 41,
   "metadata": {
    "colab": {
     "base_uri": "https://localhost:8080/"
    },
    "id": "usBc-lPAZ42h",
    "outputId": "6c2c5967-a42b-4787-bac9-89c31a9eb753"
   },
   "outputs": [
    {
     "data": {
      "text/plain": [
       "Datetime\n",
       "1998-04-01 01:00:00     22259.0\n",
       "1998-04-01 02:00:00     21244.0\n",
       "1998-04-01 03:00:00     20651.0\n",
       "1998-04-01 04:00:00     20421.0\n",
       "1998-04-01 05:00:00     20713.0\n",
       "                         ...   \n",
       "2018-08-02 20:00:00    119003.0\n",
       "2018-08-02 21:00:00    116219.0\n",
       "2018-08-02 22:00:00    112721.0\n",
       "2018-08-02 23:00:00    105299.0\n",
       "2018-08-03 00:00:00     97129.0\n",
       "Length: 178262, dtype: float64"
      ]
     },
     "execution_count": 41,
     "metadata": {},
     "output_type": "execute_result"
    }
   ],
   "source": [
    "# summing up all columns\n",
    "df.sum(axis=1)"
   ]
  },
  {
   "cell_type": "code",
   "execution_count": 42,
   "metadata": {},
   "outputs": [
    {
     "data": {
      "text/plain": [
       "Datetime\n",
       "1998-04-01 01:00:00    22259.0\n",
       "1998-04-01 02:00:00    21244.0\n",
       "1998-04-01 03:00:00    20651.0\n",
       "1998-04-01 04:00:00    20421.0\n",
       "1998-04-01 05:00:00    20713.0\n",
       "                        ...   \n",
       "2018-08-02 20:00:00    11900.3\n",
       "2018-08-02 21:00:00    11621.9\n",
       "2018-08-02 22:00:00    11272.1\n",
       "2018-08-02 23:00:00    10529.9\n",
       "2018-08-03 00:00:00     9712.9\n",
       "Length: 178262, dtype: float64"
      ]
     },
     "execution_count": 42,
     "metadata": {},
     "output_type": "execute_result"
    }
   ],
   "source": [
    "# average among columns\n",
    "df.mean(axis=1)"
   ]
  },
  {
   "cell_type": "code",
   "execution_count": 43,
   "metadata": {
    "colab": {
     "base_uri": "https://localhost:8080/"
    },
    "id": "z6dX1xyJLXqL",
    "outputId": "e6e2d2c3-cfcc-477a-c46c-ed8aa51e30a4"
   },
   "outputs": [
    {
     "data": {
      "text/plain": [
       "Datetime\n",
       "1998-04-01 01:00:00    22259.0\n",
       "1998-04-01 02:00:00    21244.0\n",
       "1998-04-01 03:00:00    20651.0\n",
       "1998-04-01 04:00:00    20421.0\n",
       "1998-04-01 05:00:00    20713.0\n",
       "                        ...   \n",
       "2018-08-02 20:00:00    44057.0\n",
       "2018-08-02 21:00:00    43256.0\n",
       "2018-08-02 22:00:00    41552.0\n",
       "2018-08-02 23:00:00    38500.0\n",
       "2018-08-03 00:00:00    35486.0\n",
       "Length: 178262, dtype: float64"
      ]
     },
     "execution_count": 43,
     "metadata": {},
     "output_type": "execute_result"
    }
   ],
   "source": [
    "# maximum among columns\n",
    "df.max(axis=1)"
   ]
  },
  {
   "cell_type": "markdown",
   "metadata": {
    "id": "4PNCZEynP42X"
   },
   "source": [
    "## **Advanced methods**\n",
    "---"
   ]
  },
  {
   "cell_type": "markdown",
   "metadata": {
    "id": "0Ogl6zVuRWDi"
   },
   "source": [
    "### **value_counts()**"
   ]
  },
  {
   "cell_type": "code",
   "execution_count": 44,
   "metadata": {
    "colab": {
     "base_uri": "https://localhost:8080/",
     "height": 196
    },
    "id": "08L3-OTfak99",
    "outputId": "8741c3d6-c13e-455e-83ba-6d5c9994c47c"
   },
   "outputs": [
    {
     "data": {
      "text/html": [
       "<div>\n",
       "<style scoped>\n",
       "    .dataframe tbody tr th:only-of-type {\n",
       "        vertical-align: middle;\n",
       "    }\n",
       "\n",
       "    .dataframe tbody tr th {\n",
       "        vertical-align: top;\n",
       "    }\n",
       "\n",
       "    .dataframe thead th {\n",
       "        text-align: right;\n",
       "    }\n",
       "</style>\n",
       "<table border=\"1\" class=\"dataframe\">\n",
       "  <thead>\n",
       "    <tr style=\"text-align: right;\">\n",
       "      <th></th>\n",
       "      <th>name</th>\n",
       "      <th>gender</th>\n",
       "      <th>age</th>\n",
       "      <th>class</th>\n",
       "      <th>embarked</th>\n",
       "      <th>country</th>\n",
       "      <th>ticketno</th>\n",
       "      <th>fare</th>\n",
       "      <th>survived</th>\n",
       "    </tr>\n",
       "  </thead>\n",
       "  <tbody>\n",
       "    <tr>\n",
       "      <th>0</th>\n",
       "      <td>Abbing, Mr. Anthony</td>\n",
       "      <td>male</td>\n",
       "      <td>42.0</td>\n",
       "      <td>3rd</td>\n",
       "      <td>S</td>\n",
       "      <td>United States</td>\n",
       "      <td>5547.0</td>\n",
       "      <td>7.11</td>\n",
       "      <td>0</td>\n",
       "    </tr>\n",
       "    <tr>\n",
       "      <th>1</th>\n",
       "      <td>Abbott, Mr. Eugene Joseph</td>\n",
       "      <td>male</td>\n",
       "      <td>13.0</td>\n",
       "      <td>3rd</td>\n",
       "      <td>S</td>\n",
       "      <td>United States</td>\n",
       "      <td>2673.0</td>\n",
       "      <td>20.05</td>\n",
       "      <td>0</td>\n",
       "    </tr>\n",
       "    <tr>\n",
       "      <th>2</th>\n",
       "      <td>Abbott, Mr. Rossmore Edward</td>\n",
       "      <td>male</td>\n",
       "      <td>16.0</td>\n",
       "      <td>3rd</td>\n",
       "      <td>S</td>\n",
       "      <td>United States</td>\n",
       "      <td>2673.0</td>\n",
       "      <td>20.05</td>\n",
       "      <td>0</td>\n",
       "    </tr>\n",
       "    <tr>\n",
       "      <th>3</th>\n",
       "      <td>Abbott, Mrs. Rhoda Mary 'Rosa'</td>\n",
       "      <td>female</td>\n",
       "      <td>39.0</td>\n",
       "      <td>3rd</td>\n",
       "      <td>S</td>\n",
       "      <td>England</td>\n",
       "      <td>2673.0</td>\n",
       "      <td>20.05</td>\n",
       "      <td>1</td>\n",
       "    </tr>\n",
       "    <tr>\n",
       "      <th>4</th>\n",
       "      <td>Abelseth, Miss. Karen Marie</td>\n",
       "      <td>female</td>\n",
       "      <td>16.0</td>\n",
       "      <td>3rd</td>\n",
       "      <td>S</td>\n",
       "      <td>Norway</td>\n",
       "      <td>348125.0</td>\n",
       "      <td>7.13</td>\n",
       "      <td>1</td>\n",
       "    </tr>\n",
       "  </tbody>\n",
       "</table>\n",
       "</div>"
      ],
      "text/plain": [
       "                             name  gender   age class embarked        country  \\\n",
       "0             Abbing, Mr. Anthony    male  42.0   3rd        S  United States   \n",
       "1       Abbott, Mr. Eugene Joseph    male  13.0   3rd        S  United States   \n",
       "2     Abbott, Mr. Rossmore Edward    male  16.0   3rd        S  United States   \n",
       "3  Abbott, Mrs. Rhoda Mary 'Rosa'  female  39.0   3rd        S        England   \n",
       "4     Abelseth, Miss. Karen Marie  female  16.0   3rd        S         Norway   \n",
       "\n",
       "   ticketno   fare  survived  \n",
       "0    5547.0   7.11         0  \n",
       "1    2673.0  20.05         0  \n",
       "2    2673.0  20.05         0  \n",
       "3    2673.0  20.05         1  \n",
       "4  348125.0   7.13         1  "
      ]
     },
     "execution_count": 44,
     "metadata": {},
     "output_type": "execute_result"
    }
   ],
   "source": [
    "# titanic data, a typical data for ML\n",
    "titanic=pd.read_csv(\"https://dlsun.github.io/pods/data/titanic.csv\")\n",
    "titanic.head()"
   ]
  },
  {
   "cell_type": "code",
   "execution_count": 45,
   "metadata": {
    "colab": {
     "base_uri": "https://localhost:8080/",
     "height": 280
    },
    "id": "BiKY2aeOM1P2",
    "outputId": "77fcac60-59d0-4346-da0f-2292400b8c44"
   },
   "outputs": [
    {
     "data": {
      "text/html": [
       "<div>\n",
       "<style scoped>\n",
       "    .dataframe tbody tr th:only-of-type {\n",
       "        vertical-align: middle;\n",
       "    }\n",
       "\n",
       "    .dataframe tbody tr th {\n",
       "        vertical-align: top;\n",
       "    }\n",
       "\n",
       "    .dataframe thead th {\n",
       "        text-align: right;\n",
       "    }\n",
       "</style>\n",
       "<table border=\"1\" class=\"dataframe\">\n",
       "  <thead>\n",
       "    <tr style=\"text-align: right;\">\n",
       "      <th></th>\n",
       "      <th>name</th>\n",
       "      <th>gender</th>\n",
       "      <th>age</th>\n",
       "      <th>class</th>\n",
       "      <th>embarked</th>\n",
       "      <th>country</th>\n",
       "      <th>ticketno</th>\n",
       "      <th>fare</th>\n",
       "      <th>survived</th>\n",
       "    </tr>\n",
       "  </thead>\n",
       "  <tbody>\n",
       "    <tr>\n",
       "      <th>2202</th>\n",
       "      <td>Wynn, Mr. Walter</td>\n",
       "      <td>male</td>\n",
       "      <td>41.0</td>\n",
       "      <td>deck crew</td>\n",
       "      <td>B</td>\n",
       "      <td>England</td>\n",
       "      <td>NaN</td>\n",
       "      <td>NaN</td>\n",
       "      <td>1</td>\n",
       "    </tr>\n",
       "    <tr>\n",
       "      <th>2203</th>\n",
       "      <td>Yearsley, Mr. Harry</td>\n",
       "      <td>male</td>\n",
       "      <td>40.0</td>\n",
       "      <td>victualling crew</td>\n",
       "      <td>S</td>\n",
       "      <td>England</td>\n",
       "      <td>NaN</td>\n",
       "      <td>NaN</td>\n",
       "      <td>1</td>\n",
       "    </tr>\n",
       "    <tr>\n",
       "      <th>2204</th>\n",
       "      <td>Young, Mr. Francis James</td>\n",
       "      <td>male</td>\n",
       "      <td>32.0</td>\n",
       "      <td>engineering crew</td>\n",
       "      <td>S</td>\n",
       "      <td>England</td>\n",
       "      <td>NaN</td>\n",
       "      <td>NaN</td>\n",
       "      <td>0</td>\n",
       "    </tr>\n",
       "    <tr>\n",
       "      <th>2205</th>\n",
       "      <td>Zanetti, Sig. Minio</td>\n",
       "      <td>male</td>\n",
       "      <td>20.0</td>\n",
       "      <td>restaurant staff</td>\n",
       "      <td>S</td>\n",
       "      <td>England</td>\n",
       "      <td>NaN</td>\n",
       "      <td>NaN</td>\n",
       "      <td>0</td>\n",
       "    </tr>\n",
       "    <tr>\n",
       "      <th>2206</th>\n",
       "      <td>Zarracchi, Sig. L.</td>\n",
       "      <td>male</td>\n",
       "      <td>26.0</td>\n",
       "      <td>restaurant staff</td>\n",
       "      <td>S</td>\n",
       "      <td>England</td>\n",
       "      <td>NaN</td>\n",
       "      <td>NaN</td>\n",
       "      <td>0</td>\n",
       "    </tr>\n",
       "  </tbody>\n",
       "</table>\n",
       "</div>"
      ],
      "text/plain": [
       "                          name gender   age             class embarked  \\\n",
       "2202          Wynn, Mr. Walter   male  41.0         deck crew        B   \n",
       "2203       Yearsley, Mr. Harry   male  40.0  victualling crew        S   \n",
       "2204  Young, Mr. Francis James   male  32.0  engineering crew        S   \n",
       "2205       Zanetti, Sig. Minio   male  20.0  restaurant staff        S   \n",
       "2206        Zarracchi, Sig. L.   male  26.0  restaurant staff        S   \n",
       "\n",
       "      country  ticketno  fare  survived  \n",
       "2202  England       NaN   NaN         1  \n",
       "2203  England       NaN   NaN         1  \n",
       "2204  England       NaN   NaN         0  \n",
       "2205  England       NaN   NaN         0  \n",
       "2206  England       NaN   NaN         0  "
      ]
     },
     "execution_count": 45,
     "metadata": {},
     "output_type": "execute_result"
    }
   ],
   "source": [
    "titanic.tail()"
   ]
  },
  {
   "cell_type": "code",
   "execution_count": 46,
   "metadata": {
    "colab": {
     "base_uri": "https://localhost:8080/"
    },
    "id": "JQV4ypyUM3gV",
    "outputId": "ff82d647-50c0-40e6-c93d-f6f6df24fa18"
   },
   "outputs": [
    {
     "data": {
      "text/plain": [
       "(2207, 9)"
      ]
     },
     "execution_count": 46,
     "metadata": {},
     "output_type": "execute_result"
    }
   ],
   "source": [
    "titanic.shape"
   ]
  },
  {
   "cell_type": "code",
   "execution_count": 47,
   "metadata": {
    "colab": {
     "base_uri": "https://localhost:8080/"
    },
    "id": "yC1fEGWHc7z-",
    "outputId": "25515166-cecd-41fe-917a-4143060a4f27"
   },
   "outputs": [
    {
     "data": {
      "text/plain": [
       "country\n",
       "England                  1125\n",
       "United States             264\n",
       "Ireland                   137\n",
       "Sweden                    105\n",
       "Lebanon                    71\n",
       "Finland                    54\n",
       "Scotland                   36\n",
       "Canada                     34\n",
       "Norway                     26\n",
       "France                     26\n",
       "Belgium                    22\n",
       "Northern Ireland           21\n",
       "Wales                      20\n",
       "Bulgaria                   19\n",
       "Switzerland                18\n",
       "Channel Islands            17\n",
       "Croatia (Modern)           12\n",
       "Croatia                    11\n",
       "Italy                      11\n",
       "Spain                       9\n",
       "India                       8\n",
       "Hungary                     7\n",
       "Denmark                     7\n",
       "Argentina                   7\n",
       "South Africa                6\n",
       "Germany                     6\n",
       "Turkey                      6\n",
       "Australia                   5\n",
       "Slovenia                    4\n",
       "Bosnia                      4\n",
       "Poland                      3\n",
       "Austria                     3\n",
       "Netherlands                 2\n",
       "Greece                      2\n",
       "Uruguay                     2\n",
       "Russia                      2\n",
       "Peru                        2\n",
       "Siam                        2\n",
       "Syria                       1\n",
       "China/Hong Kong             1\n",
       "Japan                       1\n",
       "Latvia                      1\n",
       "Yugoslavia                  1\n",
       "Slovakia (Modern day)       1\n",
       "Egypt                       1\n",
       "Cuba                        1\n",
       "Mexico                      1\n",
       "Guyana                      1\n",
       "Name: count, dtype: int64"
      ]
     },
     "execution_count": 47,
     "metadata": {},
     "output_type": "execute_result"
    }
   ],
   "source": [
    "titanic[\"country\"].value_counts()"
   ]
  },
  {
   "cell_type": "code",
   "execution_count": 48,
   "metadata": {
    "colab": {
     "base_uri": "https://localhost:8080/"
    },
    "id": "K-V1_Yy9NcBO",
    "outputId": "28e20359-db07-4aa3-85ff-8ac6e9ec3ed2"
   },
   "outputs": [
    {
     "data": {
      "text/plain": [
       "gender\n",
       "male      1718\n",
       "female     489\n",
       "Name: count, dtype: int64"
      ]
     },
     "execution_count": 48,
     "metadata": {},
     "output_type": "execute_result"
    }
   ],
   "source": [
    "titanic['gender'].value_counts()"
   ]
  },
  {
   "cell_type": "code",
   "execution_count": 49,
   "metadata": {
    "colab": {
     "base_uri": "https://localhost:8080/"
    },
    "id": "GAnjMKrDNc7-",
    "outputId": "0f01e58b-69c1-4515-98d4-1cc1c71fd232"
   },
   "outputs": [
    {
     "data": {
      "text/plain": [
       "survived\n",
       "0    1496\n",
       "1     711\n",
       "Name: count, dtype: int64"
      ]
     },
     "execution_count": 49,
     "metadata": {},
     "output_type": "execute_result"
    }
   ],
   "source": [
    "titanic[\"survived\"].value_counts()"
   ]
  },
  {
   "cell_type": "markdown",
   "metadata": {
    "id": "rS68DXsIfbiB"
   },
   "source": []
  },
  {
   "cell_type": "markdown",
   "metadata": {
    "id": "Zy07NV9nRV5y"
   },
   "source": [
    "### **sort_values()**"
   ]
  },
  {
   "cell_type": "code",
   "execution_count": 50,
   "metadata": {
    "colab": {
     "base_uri": "https://localhost:8080/"
    },
    "id": "jyP0ZH-GdmKh",
    "outputId": "a22201af-93d2-435f-8991-ab95c5e75741"
   },
   "outputs": [
    {
     "data": {
      "text/plain": [
       "316      0.166667\n",
       "296      0.333333\n",
       "1182     0.416667\n",
       "948      0.583333\n",
       "491      0.583333\n",
       "          ...    \n",
       "53      71.000000\n",
       "820     72.000000\n",
       "1176    74.000000\n",
       "439           NaN\n",
       "677           NaN\n",
       "Name: age, Length: 2207, dtype: float64"
      ]
     },
     "execution_count": 50,
     "metadata": {},
     "output_type": "execute_result"
    }
   ],
   "source": [
    "titanic[\"age\"].sort_values()"
   ]
  },
  {
   "cell_type": "markdown",
   "metadata": {
    "id": "_iSxQdG8d5FO"
   },
   "source": []
  },
  {
   "cell_type": "code",
   "execution_count": 51,
   "metadata": {
    "colab": {
     "base_uri": "https://localhost:8080/"
    },
    "id": "RtiH3J70dz4-",
    "outputId": "d9563eff-e88a-41ee-f263-b65f99f5da3d"
   },
   "outputs": [
    {
     "data": {
      "text/plain": [
       "1176    74.000000\n",
       "820     72.000000\n",
       "53      71.000000\n",
       "456     71.000000\n",
       "282     70.000000\n",
       "          ...    \n",
       "1182     0.416667\n",
       "296      0.333333\n",
       "316      0.166667\n",
       "439           NaN\n",
       "677           NaN\n",
       "Name: age, Length: 2207, dtype: float64"
      ]
     },
     "execution_count": 51,
     "metadata": {},
     "output_type": "execute_result"
    }
   ],
   "source": [
    "titanic[\"age\"].sort_values(ascending=False)"
   ]
  },
  {
   "cell_type": "code",
   "execution_count": 52,
   "metadata": {
    "colab": {
     "base_uri": "https://localhost:8080/",
     "height": 837
    },
    "id": "9JHoEqmmef8k",
    "outputId": "8e8d90b1-49d7-49cd-fa21-5c57c82fdceb"
   },
   "outputs": [
    {
     "data": {
      "text/html": [
       "<div>\n",
       "<style scoped>\n",
       "    .dataframe tbody tr th:only-of-type {\n",
       "        vertical-align: middle;\n",
       "    }\n",
       "\n",
       "    .dataframe tbody tr th {\n",
       "        vertical-align: top;\n",
       "    }\n",
       "\n",
       "    .dataframe thead th {\n",
       "        text-align: right;\n",
       "    }\n",
       "</style>\n",
       "<table border=\"1\" class=\"dataframe\">\n",
       "  <thead>\n",
       "    <tr style=\"text-align: right;\">\n",
       "      <th></th>\n",
       "      <th>name</th>\n",
       "      <th>gender</th>\n",
       "      <th>age</th>\n",
       "      <th>class</th>\n",
       "      <th>embarked</th>\n",
       "      <th>country</th>\n",
       "      <th>ticketno</th>\n",
       "      <th>fare</th>\n",
       "      <th>survived</th>\n",
       "    </tr>\n",
       "  </thead>\n",
       "  <tbody>\n",
       "    <tr>\n",
       "      <th>1176</th>\n",
       "      <td>Svensson, Mr. Johan</td>\n",
       "      <td>male</td>\n",
       "      <td>74.000000</td>\n",
       "      <td>3rd</td>\n",
       "      <td>S</td>\n",
       "      <td>Sweden</td>\n",
       "      <td>347060.0</td>\n",
       "      <td>7.1506</td>\n",
       "      <td>0</td>\n",
       "    </tr>\n",
       "    <tr>\n",
       "      <th>820</th>\n",
       "      <td>Mitchell, Mr. Henry Michael</td>\n",
       "      <td>male</td>\n",
       "      <td>72.000000</td>\n",
       "      <td>2nd</td>\n",
       "      <td>S</td>\n",
       "      <td>England</td>\n",
       "      <td>24580.0</td>\n",
       "      <td>10.1000</td>\n",
       "      <td>0</td>\n",
       "    </tr>\n",
       "    <tr>\n",
       "      <th>53</th>\n",
       "      <td>Artagaveytia, Mr. Ramon</td>\n",
       "      <td>male</td>\n",
       "      <td>71.000000</td>\n",
       "      <td>1st</td>\n",
       "      <td>C</td>\n",
       "      <td>Argentina</td>\n",
       "      <td>17609.0</td>\n",
       "      <td>49.1001</td>\n",
       "      <td>0</td>\n",
       "    </tr>\n",
       "    <tr>\n",
       "      <th>456</th>\n",
       "      <td>Goldschmidt, Mr. George B.</td>\n",
       "      <td>male</td>\n",
       "      <td>71.000000</td>\n",
       "      <td>1st</td>\n",
       "      <td>C</td>\n",
       "      <td>United States</td>\n",
       "      <td>17754.0</td>\n",
       "      <td>34.1301</td>\n",
       "      <td>0</td>\n",
       "    </tr>\n",
       "    <tr>\n",
       "      <th>282</th>\n",
       "      <td>Crosby, Captain. Edward Gifford</td>\n",
       "      <td>male</td>\n",
       "      <td>70.000000</td>\n",
       "      <td>1st</td>\n",
       "      <td>S</td>\n",
       "      <td>United States</td>\n",
       "      <td>5735.0</td>\n",
       "      <td>71.0000</td>\n",
       "      <td>0</td>\n",
       "    </tr>\n",
       "    <tr>\n",
       "      <th>...</th>\n",
       "      <td>...</td>\n",
       "      <td>...</td>\n",
       "      <td>...</td>\n",
       "      <td>...</td>\n",
       "      <td>...</td>\n",
       "      <td>...</td>\n",
       "      <td>...</td>\n",
       "      <td>...</td>\n",
       "      <td>...</td>\n",
       "    </tr>\n",
       "    <tr>\n",
       "      <th>1182</th>\n",
       "      <td>Tannūs, Master. As'ad</td>\n",
       "      <td>male</td>\n",
       "      <td>0.416667</td>\n",
       "      <td>3rd</td>\n",
       "      <td>C</td>\n",
       "      <td>Lebanon</td>\n",
       "      <td>2625.0</td>\n",
       "      <td>8.1004</td>\n",
       "      <td>1</td>\n",
       "    </tr>\n",
       "    <tr>\n",
       "      <th>296</th>\n",
       "      <td>Danbom, Master. Gilbert Sigvard Emanuel</td>\n",
       "      <td>male</td>\n",
       "      <td>0.333333</td>\n",
       "      <td>3rd</td>\n",
       "      <td>S</td>\n",
       "      <td>Sweden</td>\n",
       "      <td>347080.0</td>\n",
       "      <td>14.0800</td>\n",
       "      <td>0</td>\n",
       "    </tr>\n",
       "    <tr>\n",
       "      <th>316</th>\n",
       "      <td>Dean, Miss. Elizabeth Gladys 'Millvina'</td>\n",
       "      <td>female</td>\n",
       "      <td>0.166667</td>\n",
       "      <td>3rd</td>\n",
       "      <td>S</td>\n",
       "      <td>England</td>\n",
       "      <td>2315.0</td>\n",
       "      <td>20.1106</td>\n",
       "      <td>1</td>\n",
       "    </tr>\n",
       "    <tr>\n",
       "      <th>439</th>\n",
       "      <td>Gheorgheff, Mr. Stanio</td>\n",
       "      <td>male</td>\n",
       "      <td>NaN</td>\n",
       "      <td>3rd</td>\n",
       "      <td>C</td>\n",
       "      <td>Bulgaria</td>\n",
       "      <td>349254.0</td>\n",
       "      <td>7.1711</td>\n",
       "      <td>0</td>\n",
       "    </tr>\n",
       "    <tr>\n",
       "      <th>677</th>\n",
       "      <td>Kraeff, Mr. Theodor</td>\n",
       "      <td>male</td>\n",
       "      <td>NaN</td>\n",
       "      <td>3rd</td>\n",
       "      <td>C</td>\n",
       "      <td>Bulgaria</td>\n",
       "      <td>349253.0</td>\n",
       "      <td>7.1711</td>\n",
       "      <td>0</td>\n",
       "    </tr>\n",
       "  </tbody>\n",
       "</table>\n",
       "<p>2207 rows × 9 columns</p>\n",
       "</div>"
      ],
      "text/plain": [
       "                                         name  gender        age class  \\\n",
       "1176                      Svensson, Mr. Johan    male  74.000000   3rd   \n",
       "820               Mitchell, Mr. Henry Michael    male  72.000000   2nd   \n",
       "53                    Artagaveytia, Mr. Ramon    male  71.000000   1st   \n",
       "456                Goldschmidt, Mr. George B.    male  71.000000   1st   \n",
       "282           Crosby, Captain. Edward Gifford    male  70.000000   1st   \n",
       "...                                       ...     ...        ...   ...   \n",
       "1182                    Tannūs, Master. As'ad    male   0.416667   3rd   \n",
       "296   Danbom, Master. Gilbert Sigvard Emanuel    male   0.333333   3rd   \n",
       "316   Dean, Miss. Elizabeth Gladys 'Millvina'  female   0.166667   3rd   \n",
       "439                    Gheorgheff, Mr. Stanio    male        NaN   3rd   \n",
       "677                       Kraeff, Mr. Theodor    male        NaN   3rd   \n",
       "\n",
       "     embarked        country  ticketno     fare  survived  \n",
       "1176        S         Sweden  347060.0   7.1506         0  \n",
       "820         S        England   24580.0  10.1000         0  \n",
       "53          C      Argentina   17609.0  49.1001         0  \n",
       "456         C  United States   17754.0  34.1301         0  \n",
       "282         S  United States    5735.0  71.0000         0  \n",
       "...       ...            ...       ...      ...       ...  \n",
       "1182        C        Lebanon    2625.0   8.1004         1  \n",
       "296         S         Sweden  347080.0  14.0800         0  \n",
       "316         S        England    2315.0  20.1106         1  \n",
       "439         C       Bulgaria  349254.0   7.1711         0  \n",
       "677         C       Bulgaria  349253.0   7.1711         0  \n",
       "\n",
       "[2207 rows x 9 columns]"
      ]
     },
     "execution_count": 52,
     "metadata": {},
     "output_type": "execute_result"
    }
   ],
   "source": [
    "titanic.sort_values(by=\"age\",ascending=False)"
   ]
  },
  {
   "cell_type": "markdown",
   "metadata": {
    "id": "AUNuyqtMLLjP"
   },
   "source": [
    "#### Chaining styles of methods"
   ]
  },
  {
   "cell_type": "code",
   "execution_count": 53,
   "metadata": {
    "colab": {
     "base_uri": "https://localhost:8080/"
    },
    "id": "T0qYQlcVffT6",
    "outputId": "8a37cf70-fd37-4eef-8a4c-0851af5a85ab"
   },
   "outputs": [
    {
     "data": {
      "text/plain": [
       "country\n",
       "Guyana                      1\n",
       "Syria                       1\n",
       "China/Hong Kong             1\n",
       "Japan                       1\n",
       "Latvia                      1\n",
       "Mexico                      1\n",
       "Slovakia (Modern day)       1\n",
       "Egypt                       1\n",
       "Cuba                        1\n",
       "Yugoslavia                  1\n",
       "Greece                      2\n",
       "Uruguay                     2\n",
       "Netherlands                 2\n",
       "Peru                        2\n",
       "Siam                        2\n",
       "Russia                      2\n",
       "Austria                     3\n",
       "Poland                      3\n",
       "Bosnia                      4\n",
       "Slovenia                    4\n",
       "Australia                   5\n",
       "Turkey                      6\n",
       "Germany                     6\n",
       "South Africa                6\n",
       "Argentina                   7\n",
       "Hungary                     7\n",
       "Denmark                     7\n",
       "India                       8\n",
       "Spain                       9\n",
       "Italy                      11\n",
       "Croatia                    11\n",
       "Croatia (Modern)           12\n",
       "Channel Islands            17\n",
       "Switzerland                18\n",
       "Bulgaria                   19\n",
       "Wales                      20\n",
       "Northern Ireland           21\n",
       "Belgium                    22\n",
       "Norway                     26\n",
       "France                     26\n",
       "Canada                     34\n",
       "Scotland                   36\n",
       "Finland                    54\n",
       "Lebanon                    71\n",
       "Sweden                    105\n",
       "Ireland                   137\n",
       "United States             264\n",
       "England                  1125\n",
       "Name: count, dtype: int64"
      ]
     },
     "execution_count": 53,
     "metadata": {},
     "output_type": "execute_result"
    }
   ],
   "source": [
    "titanic[\"country\"].value_counts().sort_values()"
   ]
  },
  {
   "cell_type": "markdown",
   "metadata": {
    "id": "bUy6j5zveq3h"
   },
   "source": [
    "### **Practice**\n",
    "Sort titanic data in an ascending order of fare. "
   ]
  },
  {
   "cell_type": "code",
   "execution_count": null,
   "metadata": {
    "colab": {
     "base_uri": "https://localhost:8080/",
     "height": 637
    },
    "id": "MOVDbrSkeqOl",
    "outputId": "c45651c9-f35d-461f-986d-8d33aed6dbb8"
   },
   "outputs": [],
   "source": []
  },
  {
   "cell_type": "markdown",
   "metadata": {
    "id": "2mvf9C_gLPan"
   },
   "source": [
    "### **Special data type for time: Datetime**"
   ]
  },
  {
   "cell_type": "code",
   "execution_count": 54,
   "metadata": {
    "id": "6SJViGRUhF_j"
   },
   "outputs": [],
   "source": [
    "# weather data (daily)\n",
    "url=\"https://drive.google.com/uc?export=download&id=18rpxu7b3LQt81aPLYYleI16_C3RiKB_6\"\n",
    "weather=pd.read_csv(url,index_col=0)"
   ]
  },
  {
   "cell_type": "code",
   "execution_count": 55,
   "metadata": {
    "colab": {
     "base_uri": "https://localhost:8080/",
     "height": 196
    },
    "id": "K73BuKWchJv_",
    "outputId": "77e950b7-f10a-470b-f1ae-c15fb5841a9d"
   },
   "outputs": [
    {
     "data": {
      "text/html": [
       "<div>\n",
       "<style scoped>\n",
       "    .dataframe tbody tr th:only-of-type {\n",
       "        vertical-align: middle;\n",
       "    }\n",
       "\n",
       "    .dataframe tbody tr th {\n",
       "        vertical-align: top;\n",
       "    }\n",
       "\n",
       "    .dataframe thead th {\n",
       "        text-align: right;\n",
       "    }\n",
       "</style>\n",
       "<table border=\"1\" class=\"dataframe\">\n",
       "  <thead>\n",
       "    <tr style=\"text-align: right;\">\n",
       "      <th></th>\n",
       "      <th>meantemp</th>\n",
       "      <th>humidity</th>\n",
       "      <th>wind_speed</th>\n",
       "      <th>meanpressure</th>\n",
       "    </tr>\n",
       "    <tr>\n",
       "      <th>date</th>\n",
       "      <th></th>\n",
       "      <th></th>\n",
       "      <th></th>\n",
       "      <th></th>\n",
       "    </tr>\n",
       "  </thead>\n",
       "  <tbody>\n",
       "    <tr>\n",
       "      <th>2013-01-01</th>\n",
       "      <td>10.000000</td>\n",
       "      <td>84.500000</td>\n",
       "      <td>0.000000</td>\n",
       "      <td>1015.666667</td>\n",
       "    </tr>\n",
       "    <tr>\n",
       "      <th>2013-01-02</th>\n",
       "      <td>7.400000</td>\n",
       "      <td>92.000000</td>\n",
       "      <td>2.980000</td>\n",
       "      <td>1017.800000</td>\n",
       "    </tr>\n",
       "    <tr>\n",
       "      <th>2013-01-03</th>\n",
       "      <td>7.166667</td>\n",
       "      <td>87.000000</td>\n",
       "      <td>4.633333</td>\n",
       "      <td>1018.666667</td>\n",
       "    </tr>\n",
       "    <tr>\n",
       "      <th>2013-01-04</th>\n",
       "      <td>8.666667</td>\n",
       "      <td>71.333333</td>\n",
       "      <td>1.233333</td>\n",
       "      <td>1017.166667</td>\n",
       "    </tr>\n",
       "    <tr>\n",
       "      <th>2013-01-05</th>\n",
       "      <td>6.000000</td>\n",
       "      <td>86.833333</td>\n",
       "      <td>3.700000</td>\n",
       "      <td>1016.500000</td>\n",
       "    </tr>\n",
       "  </tbody>\n",
       "</table>\n",
       "</div>"
      ],
      "text/plain": [
       "             meantemp   humidity  wind_speed  meanpressure\n",
       "date                                                      \n",
       "2013-01-01  10.000000  84.500000    0.000000   1015.666667\n",
       "2013-01-02   7.400000  92.000000    2.980000   1017.800000\n",
       "2013-01-03   7.166667  87.000000    4.633333   1018.666667\n",
       "2013-01-04   8.666667  71.333333    1.233333   1017.166667\n",
       "2013-01-05   6.000000  86.833333    3.700000   1016.500000"
      ]
     },
     "execution_count": 55,
     "metadata": {},
     "output_type": "execute_result"
    }
   ],
   "source": [
    "weather.head()"
   ]
  },
  {
   "cell_type": "code",
   "execution_count": 56,
   "metadata": {},
   "outputs": [],
   "source": [
    "weather.index = pd.to_datetime(weather.index)"
   ]
  },
  {
   "cell_type": "code",
   "execution_count": 57,
   "metadata": {},
   "outputs": [
    {
     "data": {
      "text/plain": [
       "(2013, 1, 1)"
      ]
     },
     "execution_count": 57,
     "metadata": {},
     "output_type": "execute_result"
    }
   ],
   "source": [
    "weather.index[0].year, weather.index[0].month, weather.index[0].day"
   ]
  },
  {
   "cell_type": "markdown",
   "metadata": {},
   "source": [
    "### **Plotting**"
   ]
  },
  {
   "cell_type": "code",
   "execution_count": 58,
   "metadata": {
    "id": "V92ZiPC0hPlc"
   },
   "outputs": [],
   "source": [
    "temp=weather[\"meantemp\"]"
   ]
  },
  {
   "cell_type": "code",
   "execution_count": 59,
   "metadata": {},
   "outputs": [
    {
     "data": {
      "text/plain": [
       "date\n",
       "2013-01-01    10.000000\n",
       "2013-01-02     7.400000\n",
       "2013-01-03     7.166667\n",
       "2013-01-04     8.666667\n",
       "2013-01-05     6.000000\n",
       "Name: meantemp, dtype: float64"
      ]
     },
     "execution_count": 59,
     "metadata": {},
     "output_type": "execute_result"
    }
   ],
   "source": [
    "temp.head()"
   ]
  },
  {
   "cell_type": "code",
   "execution_count": 60,
   "metadata": {
    "colab": {
     "base_uri": "https://localhost:8080/",
     "height": 299
    },
    "id": "JzxWXPG_X2nF",
    "outputId": "ad7110ee-924f-4817-ebc9-85d7cc203ae4"
   },
   "outputs": [
    {
     "data": {
      "text/plain": [
       "<Axes: title={'center': 'Temperature'}, ylabel='Frequency'>"
      ]
     },
     "execution_count": 60,
     "metadata": {},
     "output_type": "execute_result"
    },
    {
     "data": {
      "image/png": "[encoded data removed]",
      "text/plain": [
       "<Figure size 640x480 with 1 Axes>"
      ]
     },
     "metadata": {},
     "output_type": "display_data"
    }
   ],
   "source": [
    "temp.plot.hist(bins=30,title=\"Temperature\")"
   ]
  },
  {
   "cell_type": "code",
   "execution_count": 61,
   "metadata": {
    "colab": {
     "base_uri": "https://localhost:8080/",
     "height": 284
    },
    "id": "S6sIYLI0YKsg",
    "outputId": "8586345a-55e9-4425-85d4-01e7d586074a"
   },
   "outputs": [
    {
     "data": {
      "text/plain": [
       "<Axes: >"
      ]
     },
     "execution_count": 61,
     "metadata": {},
     "output_type": "execute_result"
    },
    {
     "data": {
      "image/png": "[encoded data removed]",
      "text/plain": [
       "<Figure size 640x480 with 1 Axes>"
      ]
     },
     "metadata": {},
     "output_type": "display_data"
    }
   ],
   "source": [
    "temp.plot.box()"
   ]
  },
  {
   "cell_type": "code",
   "execution_count": 62,
   "metadata": {
    "colab": {
     "base_uri": "https://localhost:8080/",
     "height": 301
    },
    "id": "9Em5hZ2YU0j7",
    "outputId": "51f90c50-e5eb-451e-b471-e8cbfd5892ef"
   },
   "outputs": [
    {
     "data": {
      "text/plain": [
       "<Axes: xlabel='date'>"
      ]
     },
     "execution_count": 62,
     "metadata": {},
     "output_type": "execute_result"
    },
    {
     "data": {
      "image/png": "[encoded data removed]",
      "text/plain": [
       "<Figure size 640x480 with 1 Axes>"
      ]
     },
     "metadata": {},
     "output_type": "display_data"
    }
   ],
   "source": [
    "temp.plot.line()"
   ]
  },
  {
   "cell_type": "code",
   "execution_count": 63,
   "metadata": {
    "id": "tDq26KpxZrua"
   },
   "outputs": [],
   "source": [
    "# Listed companies data\n",
    "url=\"https://drive.google.com/uc?export=download&id=1gCCH0lMJFvBGf6YQCtYnGMrYKw2IMbhy\"\n",
    "company=pd.read_csv(url)"
   ]
  },
  {
   "cell_type": "code",
   "execution_count": 64,
   "metadata": {
    "colab": {
     "base_uri": "https://localhost:8080/",
     "height": 508
    },
    "id": "zTGLongoal_Z",
    "outputId": "85d530c7-e423-4586-cf4f-3f7594eaf260"
   },
   "outputs": [
    {
     "data": {
      "text/html": [
       "<div>\n",
       "<style scoped>\n",
       "    .dataframe tbody tr th:only-of-type {\n",
       "        vertical-align: middle;\n",
       "    }\n",
       "\n",
       "    .dataframe tbody tr th {\n",
       "        vertical-align: top;\n",
       "    }\n",
       "\n",
       "    .dataframe thead th {\n",
       "        text-align: right;\n",
       "    }\n",
       "</style>\n",
       "<table border=\"1\" class=\"dataframe\">\n",
       "  <thead>\n",
       "    <tr style=\"text-align: right;\">\n",
       "      <th></th>\n",
       "      <th>Unnamed: 0</th>\n",
       "      <th>sector</th>\n",
       "      <th>market</th>\n",
       "      <th>exchange</th>\n",
       "      <th>marketCap</th>\n",
       "      <th>currentPrice</th>\n",
       "      <th>averageVolume</th>\n",
       "      <th>fiftyTwoWeekHigh</th>\n",
       "      <th>fiftyTwoWeekLow</th>\n",
       "      <th>forwardPE</th>\n",
       "      <th>...</th>\n",
       "      <th>quickRatio</th>\n",
       "      <th>trailingEps</th>\n",
       "      <th>shortRatio</th>\n",
       "      <th>dividendYield</th>\n",
       "      <th>startdatetime</th>\n",
       "      <th>epsestimate</th>\n",
       "      <th>epsactual</th>\n",
       "      <th>epssurprisepct</th>\n",
       "      <th>nextDate</th>\n",
       "      <th>isWharton</th>\n",
       "    </tr>\n",
       "  </thead>\n",
       "  <tbody>\n",
       "    <tr>\n",
       "      <th>0</th>\n",
       "      <td>SI</td>\n",
       "      <td>Financial Services</td>\n",
       "      <td>us_market</td>\n",
       "      <td>NYQ</td>\n",
       "      <td>2.126421e+09</td>\n",
       "      <td>67.17</td>\n",
       "      <td>801910.0</td>\n",
       "      <td>239.26</td>\n",
       "      <td>50.65</td>\n",
       "      <td>8.459698</td>\n",
       "      <td>...</td>\n",
       "      <td>NaN</td>\n",
       "      <td>3.480</td>\n",
       "      <td>5.50</td>\n",
       "      <td>NaN</td>\n",
       "      <td>NaN</td>\n",
       "      <td>NaN</td>\n",
       "      <td>NaN</td>\n",
       "      <td>NaN</td>\n",
       "      <td>2022-10-17 08:00:00</td>\n",
       "      <td>False</td>\n",
       "    </tr>\n",
       "    <tr>\n",
       "      <th>1</th>\n",
       "      <td>LESL</td>\n",
       "      <td>Consumer Cyclical</td>\n",
       "      <td>us_market</td>\n",
       "      <td>NMS</td>\n",
       "      <td>2.520296e+09</td>\n",
       "      <td>13.77</td>\n",
       "      <td>2674142.0</td>\n",
       "      <td>24.40</td>\n",
       "      <td>13.01</td>\n",
       "      <td>13.770000</td>\n",
       "      <td>...</td>\n",
       "      <td>0.555</td>\n",
       "      <td>0.760</td>\n",
       "      <td>8.11</td>\n",
       "      <td>NaN</td>\n",
       "      <td>NaN</td>\n",
       "      <td>NaN</td>\n",
       "      <td>NaN</td>\n",
       "      <td>NaN</td>\n",
       "      <td>2022-08-05 08:00:00</td>\n",
       "      <td>False</td>\n",
       "    </tr>\n",
       "    <tr>\n",
       "      <th>2</th>\n",
       "      <td>CPB</td>\n",
       "      <td>Consumer Defensive</td>\n",
       "      <td>us_market</td>\n",
       "      <td>NYQ</td>\n",
       "      <td>1.507896e+10</td>\n",
       "      <td>50.37</td>\n",
       "      <td>2281620.0</td>\n",
       "      <td>51.94</td>\n",
       "      <td>39.76</td>\n",
       "      <td>16.514753</td>\n",
       "      <td>...</td>\n",
       "      <td>0.225</td>\n",
       "      <td>2.510</td>\n",
       "      <td>5.47</td>\n",
       "      <td>0.0304</td>\n",
       "      <td>NaN</td>\n",
       "      <td>NaN</td>\n",
       "      <td>NaN</td>\n",
       "      <td>NaN</td>\n",
       "      <td>2022-12-06 08:00:00</td>\n",
       "      <td>False</td>\n",
       "    </tr>\n",
       "    <tr>\n",
       "      <th>3</th>\n",
       "      <td>CCCC</td>\n",
       "      <td>Healthcare</td>\n",
       "      <td>us_market</td>\n",
       "      <td>NMS</td>\n",
       "      <td>3.970583e+08</td>\n",
       "      <td>7.96</td>\n",
       "      <td>424926.0</td>\n",
       "      <td>48.75</td>\n",
       "      <td>4.84</td>\n",
       "      <td>-2.559486</td>\n",
       "      <td>...</td>\n",
       "      <td>6.706</td>\n",
       "      <td>-1.992</td>\n",
       "      <td>14.35</td>\n",
       "      <td>NaN</td>\n",
       "      <td>NaN</td>\n",
       "      <td>NaN</td>\n",
       "      <td>NaN</td>\n",
       "      <td>NaN</td>\n",
       "      <td>2022-11-08 08:00:00</td>\n",
       "      <td>False</td>\n",
       "    </tr>\n",
       "    <tr>\n",
       "      <th>4</th>\n",
       "      <td>BNS</td>\n",
       "      <td>Financial Services</td>\n",
       "      <td>us_market</td>\n",
       "      <td>NYQ</td>\n",
       "      <td>5.667854e+10</td>\n",
       "      <td>47.15</td>\n",
       "      <td>1525284.0</td>\n",
       "      <td>74.86</td>\n",
       "      <td>45.26</td>\n",
       "      <td>7.666667</td>\n",
       "      <td>...</td>\n",
       "      <td>NaN</td>\n",
       "      <td>6.050</td>\n",
       "      <td>25.39</td>\n",
       "      <td>0.0647</td>\n",
       "      <td>NaN</td>\n",
       "      <td>NaN</td>\n",
       "      <td>NaN</td>\n",
       "      <td>NaN</td>\n",
       "      <td>2022-11-28 08:00:00</td>\n",
       "      <td>False</td>\n",
       "    </tr>\n",
       "  </tbody>\n",
       "</table>\n",
       "<p>5 rows × 34 columns</p>\n",
       "</div>"
      ],
      "text/plain": [
       "  Unnamed: 0              sector     market exchange     marketCap  \\\n",
       "0         SI  Financial Services  us_market      NYQ  2.126421e+09   \n",
       "1       LESL   Consumer Cyclical  us_market      NMS  2.520296e+09   \n",
       "2        CPB  Consumer Defensive  us_market      NYQ  1.507896e+10   \n",
       "3       CCCC          Healthcare  us_market      NMS  3.970583e+08   \n",
       "4        BNS  Financial Services  us_market      NYQ  5.667854e+10   \n",
       "\n",
       "   currentPrice  averageVolume  fiftyTwoWeekHigh  fiftyTwoWeekLow  forwardPE  \\\n",
       "0         67.17       801910.0            239.26            50.65   8.459698   \n",
       "1         13.77      2674142.0             24.40            13.01  13.770000   \n",
       "2         50.37      2281620.0             51.94            39.76  16.514753   \n",
       "3          7.96       424926.0             48.75             4.84  -2.559486   \n",
       "4         47.15      1525284.0             74.86            45.26   7.666667   \n",
       "\n",
       "   ...  quickRatio  trailingEps  shortRatio  dividendYield  startdatetime  \\\n",
       "0  ...         NaN        3.480        5.50            NaN            NaN   \n",
       "1  ...       0.555        0.760        8.11            NaN            NaN   \n",
       "2  ...       0.225        2.510        5.47         0.0304            NaN   \n",
       "3  ...       6.706       -1.992       14.35            NaN            NaN   \n",
       "4  ...         NaN        6.050       25.39         0.0647            NaN   \n",
       "\n",
       "   epsestimate  epsactual  epssurprisepct             nextDate  isWharton  \n",
       "0          NaN        NaN             NaN  2022-10-17 08:00:00      False  \n",
       "1          NaN        NaN             NaN  2022-08-05 08:00:00      False  \n",
       "2          NaN        NaN             NaN  2022-12-06 08:00:00      False  \n",
       "3          NaN        NaN             NaN  2022-11-08 08:00:00      False  \n",
       "4          NaN        NaN             NaN  2022-11-28 08:00:00      False  \n",
       "\n",
       "[5 rows x 34 columns]"
      ]
     },
     "execution_count": 64,
     "metadata": {},
     "output_type": "execute_result"
    }
   ],
   "source": [
    "company.head()"
   ]
  },
  {
   "cell_type": "code",
   "execution_count": 65,
   "metadata": {
    "colab": {
     "base_uri": "https://localhost:8080/"
    },
    "id": "kuJo_855arSQ",
    "outputId": "cd6ad578-17b5-4011-c04d-eff8ae6a4577"
   },
   "outputs": [
    {
     "data": {
      "text/plain": [
       "0       Financial Services\n",
       "1        Consumer Cyclical\n",
       "2       Consumer Defensive\n",
       "3               Healthcare\n",
       "4       Financial Services\n",
       "               ...        \n",
       "3079     Consumer Cyclical\n",
       "3080            Healthcare\n",
       "3081           Industrials\n",
       "3082    Financial Services\n",
       "3083    Financial Services\n",
       "Name: sector, Length: 3084, dtype: object"
      ]
     },
     "execution_count": 65,
     "metadata": {},
     "output_type": "execute_result"
    }
   ],
   "source": [
    "sector=company[\"sector\"]\n",
    "sector"
   ]
  },
  {
   "cell_type": "code",
   "execution_count": 66,
   "metadata": {
    "colab": {
     "base_uri": "https://localhost:8080/"
    },
    "id": "6QWiBmVxBans",
    "outputId": "118e17a7-08dd-4f50-d02e-9f584e862663"
   },
   "outputs": [
    {
     "data": {
      "text/plain": [
       "sector\n",
       "Healthcare                500\n",
       "Technology                486\n",
       "Financial Services        447\n",
       "Industrials               429\n",
       "Consumer Cyclical         389\n",
       "Energy                    170\n",
       "Real Estate               164\n",
       "Communication Services    149\n",
       "Consumer Defensive        146\n",
       "Basic Materials           130\n",
       "Utilities                  74\n",
       "Name: count, dtype: int64"
      ]
     },
     "execution_count": 66,
     "metadata": {},
     "output_type": "execute_result"
    }
   ],
   "source": [
    "sector.value_counts()"
   ]
  },
  {
   "cell_type": "code",
   "execution_count": 67,
   "metadata": {
    "colab": {
     "base_uri": "https://localhost:8080/",
     "height": 413
    },
    "id": "g8ejMbpnawYW",
    "outputId": "a9abaced-86a6-4582-a0b6-906baf3d787a"
   },
   "outputs": [
    {
     "data": {
      "text/plain": [
       "<Axes: title={'center': 'The Distribution of Public Companies'}, xlabel='sector'>"
      ]
     },
     "execution_count": 67,
     "metadata": {},
     "output_type": "execute_result"
    },
    {
     "data": {
      "image/png": "[encoded data removed]",
      "text/plain": [
       "<Figure size 640x480 with 1 Axes>"
      ]
     },
     "metadata": {},
     "output_type": "display_data"
    }
   ],
   "source": [
    "sector.value_counts().plot.bar(title=\"The Distribution of Public Companies\")"
   ]
  },
  {
   "cell_type": "code",
   "execution_count": 68,
   "metadata": {
    "colab": {
     "base_uri": "https://localhost:8080/",
     "height": 299
    },
    "id": "fhsUyLXUbRgQ",
    "outputId": "dd5d6d04-a3d0-419a-f9ca-0939f6ec496e"
   },
   "outputs": [
    {
     "data": {
      "text/plain": [
       "<Axes: title={'center': 'The Distribution of Public Companies'}, ylabel='sector'>"
      ]
     },
     "execution_count": 68,
     "metadata": {},
     "output_type": "execute_result"
    },
    {
     "data": {
      "image/png": "[encoded data removed]",
      "text/plain": [
       "<Figure size 640x480 with 1 Axes>"
      ]
     },
     "metadata": {},
     "output_type": "display_data"
    }
   ],
   "source": [
    "sector.value_counts().plot.barh(title=\"The Distribution of Public Companies\")"
   ]
  },
  {
   "cell_type": "code",
   "execution_count": 69,
   "metadata": {
    "colab": {
     "base_uri": "https://localhost:8080/",
     "height": 282
    },
    "id": "-VePziPybbtU",
    "outputId": "2873d87c-1faf-452d-f9d9-e9bd4f7668ba"
   },
   "outputs": [
    {
     "data": {
      "text/plain": [
       "<Axes: title={'center': 'The Distribution of Public Companies'}, ylabel='count'>"
      ]
     },
     "execution_count": 69,
     "metadata": {},
     "output_type": "execute_result"
    },
    {
     "data": {
      "image/png": "[encoded data removed]",
      "text/plain": [
       "<Figure size 640x480 with 1 Axes>"
      ]
     },
     "metadata": {},
     "output_type": "display_data"
    }
   ],
   "source": [
    "sector.value_counts().plot.pie(title=\"The Distribution of Public Companies\")"
   ]
  },
  {
   "cell_type": "markdown",
   "metadata": {
    "id": "vW-CmPNK0dJp"
   },
   "source": [
    "## **Data Slicing** \n",
    "---"
   ]
  },
  {
   "cell_type": "markdown",
   "metadata": {
    "id": "d5bGTR166gIM"
   },
   "source": [
    "### **Select columns**"
   ]
  },
  {
   "cell_type": "code",
   "execution_count": 70,
   "metadata": {
    "colab": {
     "base_uri": "https://localhost:8080/"
    },
    "id": "mryVI5_y6jv_",
    "outputId": "2e8be047-1a20-439d-f622-9eaa71d3eb5b"
   },
   "outputs": [
    {
     "data": {
      "text/plain": [
       "Datetime\n",
       "1998-04-01 01:00:00       NaN\n",
       "1998-04-01 02:00:00       NaN\n",
       "1998-04-01 03:00:00       NaN\n",
       "1998-04-01 04:00:00       NaN\n",
       "1998-04-01 05:00:00       NaN\n",
       "                        ...  \n",
       "2018-08-02 20:00:00    9866.0\n",
       "2018-08-02 21:00:00    9656.0\n",
       "2018-08-02 22:00:00    9532.0\n",
       "2018-08-02 23:00:00    8872.0\n",
       "2018-08-03 00:00:00    8198.0\n",
       "Name: FE, Length: 178262, dtype: float64"
      ]
     },
     "execution_count": 70,
     "metadata": {},
     "output_type": "execute_result"
    }
   ],
   "source": [
    "df[\"FE\"] # Select one column"
   ]
  },
  {
   "cell_type": "markdown",
   "metadata": {
    "id": "FJkLhu79EAn1"
   },
   "source": []
  },
  {
   "cell_type": "code",
   "execution_count": 71,
   "metadata": {
    "colab": {
     "base_uri": "https://localhost:8080/",
     "height": 492
    },
    "id": "V9q-3JXD6yF_",
    "outputId": "b55b01f7-e3e0-40fa-e409-5235ed0e365b"
   },
   "outputs": [
    {
     "data": {
      "text/html": [
       "<div>\n",
       "<style scoped>\n",
       "    .dataframe tbody tr th:only-of-type {\n",
       "        vertical-align: middle;\n",
       "    }\n",
       "\n",
       "    .dataframe tbody tr th {\n",
       "        vertical-align: top;\n",
       "    }\n",
       "\n",
       "    .dataframe thead th {\n",
       "        text-align: right;\n",
       "    }\n",
       "</style>\n",
       "<table border=\"1\" class=\"dataframe\">\n",
       "  <thead>\n",
       "    <tr style=\"text-align: right;\">\n",
       "      <th></th>\n",
       "      <th>FE</th>\n",
       "      <th>AEP</th>\n",
       "    </tr>\n",
       "    <tr>\n",
       "      <th>Datetime</th>\n",
       "      <th></th>\n",
       "      <th></th>\n",
       "    </tr>\n",
       "  </thead>\n",
       "  <tbody>\n",
       "    <tr>\n",
       "      <th>1998-04-01 01:00:00</th>\n",
       "      <td>NaN</td>\n",
       "      <td>NaN</td>\n",
       "    </tr>\n",
       "    <tr>\n",
       "      <th>1998-04-01 02:00:00</th>\n",
       "      <td>NaN</td>\n",
       "      <td>NaN</td>\n",
       "    </tr>\n",
       "    <tr>\n",
       "      <th>1998-04-01 03:00:00</th>\n",
       "      <td>NaN</td>\n",
       "      <td>NaN</td>\n",
       "    </tr>\n",
       "    <tr>\n",
       "      <th>1998-04-01 04:00:00</th>\n",
       "      <td>NaN</td>\n",
       "      <td>NaN</td>\n",
       "    </tr>\n",
       "    <tr>\n",
       "      <th>1998-04-01 05:00:00</th>\n",
       "      <td>NaN</td>\n",
       "      <td>NaN</td>\n",
       "    </tr>\n",
       "    <tr>\n",
       "      <th>...</th>\n",
       "      <td>...</td>\n",
       "      <td>...</td>\n",
       "    </tr>\n",
       "    <tr>\n",
       "      <th>2018-08-02 20:00:00</th>\n",
       "      <td>9866.0</td>\n",
       "      <td>17673.0</td>\n",
       "    </tr>\n",
       "    <tr>\n",
       "      <th>2018-08-02 21:00:00</th>\n",
       "      <td>9656.0</td>\n",
       "      <td>17303.0</td>\n",
       "    </tr>\n",
       "    <tr>\n",
       "      <th>2018-08-02 22:00:00</th>\n",
       "      <td>9532.0</td>\n",
       "      <td>17001.0</td>\n",
       "    </tr>\n",
       "    <tr>\n",
       "      <th>2018-08-02 23:00:00</th>\n",
       "      <td>8872.0</td>\n",
       "      <td>15964.0</td>\n",
       "    </tr>\n",
       "    <tr>\n",
       "      <th>2018-08-03 00:00:00</th>\n",
       "      <td>8198.0</td>\n",
       "      <td>14809.0</td>\n",
       "    </tr>\n",
       "  </tbody>\n",
       "</table>\n",
       "<p>178262 rows × 2 columns</p>\n",
       "</div>"
      ],
      "text/plain": [
       "                         FE      AEP\n",
       "Datetime                            \n",
       "1998-04-01 01:00:00     NaN      NaN\n",
       "1998-04-01 02:00:00     NaN      NaN\n",
       "1998-04-01 03:00:00     NaN      NaN\n",
       "1998-04-01 04:00:00     NaN      NaN\n",
       "1998-04-01 05:00:00     NaN      NaN\n",
       "...                     ...      ...\n",
       "2018-08-02 20:00:00  9866.0  17673.0\n",
       "2018-08-02 21:00:00  9656.0  17303.0\n",
       "2018-08-02 22:00:00  9532.0  17001.0\n",
       "2018-08-02 23:00:00  8872.0  15964.0\n",
       "2018-08-03 00:00:00  8198.0  14809.0\n",
       "\n",
       "[178262 rows x 2 columns]"
      ]
     },
     "execution_count": 71,
     "metadata": {},
     "output_type": "execute_result"
    }
   ],
   "source": [
    "df[[\"FE\",\"AEP\"]]# Select multiple columns"
   ]
  },
  {
   "cell_type": "markdown",
   "metadata": {
    "id": "sPqFScbqED8z"
   },
   "source": [
    "### **Practice**\n",
    "Select the first three columns."
   ]
  },
  {
   "cell_type": "code",
   "execution_count": null,
   "metadata": {
    "colab": {
     "base_uri": "https://localhost:8080/"
    },
    "id": "ncQQQBl9ETxz",
    "outputId": "bbf41072-3429-4775-9b75-3c116b77ddf3"
   },
   "outputs": [],
   "source": []
  },
  {
   "cell_type": "code",
   "execution_count": null,
   "metadata": {
    "colab": {
     "base_uri": "https://localhost:8080/",
     "height": 196
    },
    "id": "P9iahXRuEC47",
    "outputId": "08b1720c-c764-475f-e71b-9f27e08063ce"
   },
   "outputs": [],
   "source": []
  },
  {
   "cell_type": "markdown",
   "metadata": {
    "id": "TUOcLF-w6X17"
   },
   "source": [
    "### **Select rows with iloc and loc**"
   ]
  },
  {
   "cell_type": "code",
   "execution_count": 72,
   "metadata": {
    "colab": {
     "base_uri": "https://localhost:8080/",
     "height": 132
    },
    "id": "tRz6-VHFGR0t",
    "outputId": "344408b4-e16b-4b2a-9511-df9dd0708a6a"
   },
   "outputs": [
    {
     "data": {
      "text/html": [
       "<div>\n",
       "<style scoped>\n",
       "    .dataframe tbody tr th:only-of-type {\n",
       "        vertical-align: middle;\n",
       "    }\n",
       "\n",
       "    .dataframe tbody tr th {\n",
       "        vertical-align: top;\n",
       "    }\n",
       "\n",
       "    .dataframe thead th {\n",
       "        text-align: right;\n",
       "    }\n",
       "</style>\n",
       "<table border=\"1\" class=\"dataframe\">\n",
       "  <thead>\n",
       "    <tr style=\"text-align: right;\">\n",
       "      <th></th>\n",
       "      <th>AEP</th>\n",
       "      <th>COMED</th>\n",
       "      <th>DAYTON</th>\n",
       "      <th>DEOK</th>\n",
       "      <th>DOM</th>\n",
       "      <th>DUQ</th>\n",
       "      <th>EKPC</th>\n",
       "      <th>FE</th>\n",
       "      <th>NI</th>\n",
       "      <th>PJME</th>\n",
       "      <th>PJMW</th>\n",
       "      <th>PJM_Load</th>\n",
       "    </tr>\n",
       "    <tr>\n",
       "      <th>Datetime</th>\n",
       "      <th></th>\n",
       "      <th></th>\n",
       "      <th></th>\n",
       "      <th></th>\n",
       "      <th></th>\n",
       "      <th></th>\n",
       "      <th></th>\n",
       "      <th></th>\n",
       "      <th></th>\n",
       "      <th></th>\n",
       "      <th></th>\n",
       "      <th></th>\n",
       "    </tr>\n",
       "  </thead>\n",
       "  <tbody>\n",
       "    <tr>\n",
       "      <th>1998-04-01 01:00:00</th>\n",
       "      <td>NaN</td>\n",
       "      <td>NaN</td>\n",
       "      <td>NaN</td>\n",
       "      <td>NaN</td>\n",
       "      <td>NaN</td>\n",
       "      <td>NaN</td>\n",
       "      <td>NaN</td>\n",
       "      <td>NaN</td>\n",
       "      <td>NaN</td>\n",
       "      <td>NaN</td>\n",
       "      <td>NaN</td>\n",
       "      <td>22259.0</td>\n",
       "    </tr>\n",
       "    <tr>\n",
       "      <th>1998-04-01 02:00:00</th>\n",
       "      <td>NaN</td>\n",
       "      <td>NaN</td>\n",
       "      <td>NaN</td>\n",
       "      <td>NaN</td>\n",
       "      <td>NaN</td>\n",
       "      <td>NaN</td>\n",
       "      <td>NaN</td>\n",
       "      <td>NaN</td>\n",
       "      <td>NaN</td>\n",
       "      <td>NaN</td>\n",
       "      <td>NaN</td>\n",
       "      <td>21244.0</td>\n",
       "    </tr>\n",
       "    <tr>\n",
       "      <th>1998-04-01 03:00:00</th>\n",
       "      <td>NaN</td>\n",
       "      <td>NaN</td>\n",
       "      <td>NaN</td>\n",
       "      <td>NaN</td>\n",
       "      <td>NaN</td>\n",
       "      <td>NaN</td>\n",
       "      <td>NaN</td>\n",
       "      <td>NaN</td>\n",
       "      <td>NaN</td>\n",
       "      <td>NaN</td>\n",
       "      <td>NaN</td>\n",
       "      <td>20651.0</td>\n",
       "    </tr>\n",
       "    <tr>\n",
       "      <th>1998-04-01 04:00:00</th>\n",
       "      <td>NaN</td>\n",
       "      <td>NaN</td>\n",
       "      <td>NaN</td>\n",
       "      <td>NaN</td>\n",
       "      <td>NaN</td>\n",
       "      <td>NaN</td>\n",
       "      <td>NaN</td>\n",
       "      <td>NaN</td>\n",
       "      <td>NaN</td>\n",
       "      <td>NaN</td>\n",
       "      <td>NaN</td>\n",
       "      <td>20421.0</td>\n",
       "    </tr>\n",
       "    <tr>\n",
       "      <th>1998-04-01 05:00:00</th>\n",
       "      <td>NaN</td>\n",
       "      <td>NaN</td>\n",
       "      <td>NaN</td>\n",
       "      <td>NaN</td>\n",
       "      <td>NaN</td>\n",
       "      <td>NaN</td>\n",
       "      <td>NaN</td>\n",
       "      <td>NaN</td>\n",
       "      <td>NaN</td>\n",
       "      <td>NaN</td>\n",
       "      <td>NaN</td>\n",
       "      <td>20713.0</td>\n",
       "    </tr>\n",
       "  </tbody>\n",
       "</table>\n",
       "</div>"
      ],
      "text/plain": [
       "                     AEP  COMED  DAYTON  DEOK  DOM  DUQ  EKPC  FE  NI  PJME  \\\n",
       "Datetime                                                                      \n",
       "1998-04-01 01:00:00  NaN    NaN     NaN   NaN  NaN  NaN   NaN NaN NaN   NaN   \n",
       "1998-04-01 02:00:00  NaN    NaN     NaN   NaN  NaN  NaN   NaN NaN NaN   NaN   \n",
       "1998-04-01 03:00:00  NaN    NaN     NaN   NaN  NaN  NaN   NaN NaN NaN   NaN   \n",
       "1998-04-01 04:00:00  NaN    NaN     NaN   NaN  NaN  NaN   NaN NaN NaN   NaN   \n",
       "1998-04-01 05:00:00  NaN    NaN     NaN   NaN  NaN  NaN   NaN NaN NaN   NaN   \n",
       "\n",
       "                     PJMW  PJM_Load  \n",
       "Datetime                             \n",
       "1998-04-01 01:00:00   NaN   22259.0  \n",
       "1998-04-01 02:00:00   NaN   21244.0  \n",
       "1998-04-01 03:00:00   NaN   20651.0  \n",
       "1998-04-01 04:00:00   NaN   20421.0  \n",
       "1998-04-01 05:00:00   NaN   20713.0  "
      ]
     },
     "execution_count": 72,
     "metadata": {},
     "output_type": "execute_result"
    }
   ],
   "source": [
    "df.head()"
   ]
  },
  {
   "cell_type": "code",
   "execution_count": 73,
   "metadata": {
    "colab": {
     "base_uri": "https://localhost:8080/"
    },
    "id": "FlHceiRjGf_1",
    "outputId": "57d5624a-8e94-41c9-db52-eb9f66a85edf"
   },
   "outputs": [
    {
     "data": {
      "text/plain": [
       "AEP             NaN\n",
       "COMED           NaN\n",
       "DAYTON          NaN\n",
       "DEOK            NaN\n",
       "DOM             NaN\n",
       "DUQ             NaN\n",
       "EKPC            NaN\n",
       "FE              NaN\n",
       "NI              NaN\n",
       "PJME            NaN\n",
       "PJMW            NaN\n",
       "PJM_Load    22259.0\n",
       "Name: 1998-04-01 01:00:00, dtype: float64"
      ]
     },
     "execution_count": 73,
     "metadata": {},
     "output_type": "execute_result"
    }
   ],
   "source": [
    "df.iloc[0]"
   ]
  },
  {
   "cell_type": "code",
   "execution_count": 74,
   "metadata": {
    "colab": {
     "base_uri": "https://localhost:8080/",
     "height": 155
    },
    "id": "0jdOqHg30dJu",
    "outputId": "4adcb8c7-7f12-4e3d-9070-ad66ac46ee71"
   },
   "outputs": [
    {
     "data": {
      "text/html": [
       "<div>\n",
       "<style scoped>\n",
       "    .dataframe tbody tr th:only-of-type {\n",
       "        vertical-align: middle;\n",
       "    }\n",
       "\n",
       "    .dataframe tbody tr th {\n",
       "        vertical-align: top;\n",
       "    }\n",
       "\n",
       "    .dataframe thead th {\n",
       "        text-align: right;\n",
       "    }\n",
       "</style>\n",
       "<table border=\"1\" class=\"dataframe\">\n",
       "  <thead>\n",
       "    <tr style=\"text-align: right;\">\n",
       "      <th></th>\n",
       "      <th>AEP</th>\n",
       "      <th>COMED</th>\n",
       "      <th>DAYTON</th>\n",
       "      <th>DEOK</th>\n",
       "      <th>DOM</th>\n",
       "      <th>DUQ</th>\n",
       "      <th>EKPC</th>\n",
       "      <th>FE</th>\n",
       "      <th>NI</th>\n",
       "      <th>PJME</th>\n",
       "      <th>PJMW</th>\n",
       "      <th>PJM_Load</th>\n",
       "    </tr>\n",
       "    <tr>\n",
       "      <th>Datetime</th>\n",
       "      <th></th>\n",
       "      <th></th>\n",
       "      <th></th>\n",
       "      <th></th>\n",
       "      <th></th>\n",
       "      <th></th>\n",
       "      <th></th>\n",
       "      <th></th>\n",
       "      <th></th>\n",
       "      <th></th>\n",
       "      <th></th>\n",
       "      <th></th>\n",
       "    </tr>\n",
       "  </thead>\n",
       "  <tbody>\n",
       "    <tr>\n",
       "      <th>1998-04-01 01:00:00</th>\n",
       "      <td>NaN</td>\n",
       "      <td>NaN</td>\n",
       "      <td>NaN</td>\n",
       "      <td>NaN</td>\n",
       "      <td>NaN</td>\n",
       "      <td>NaN</td>\n",
       "      <td>NaN</td>\n",
       "      <td>NaN</td>\n",
       "      <td>NaN</td>\n",
       "      <td>NaN</td>\n",
       "      <td>NaN</td>\n",
       "      <td>22259.0</td>\n",
       "    </tr>\n",
       "    <tr>\n",
       "      <th>1998-04-01 02:00:00</th>\n",
       "      <td>NaN</td>\n",
       "      <td>NaN</td>\n",
       "      <td>NaN</td>\n",
       "      <td>NaN</td>\n",
       "      <td>NaN</td>\n",
       "      <td>NaN</td>\n",
       "      <td>NaN</td>\n",
       "      <td>NaN</td>\n",
       "      <td>NaN</td>\n",
       "      <td>NaN</td>\n",
       "      <td>NaN</td>\n",
       "      <td>21244.0</td>\n",
       "    </tr>\n",
       "    <tr>\n",
       "      <th>1998-04-01 03:00:00</th>\n",
       "      <td>NaN</td>\n",
       "      <td>NaN</td>\n",
       "      <td>NaN</td>\n",
       "      <td>NaN</td>\n",
       "      <td>NaN</td>\n",
       "      <td>NaN</td>\n",
       "      <td>NaN</td>\n",
       "      <td>NaN</td>\n",
       "      <td>NaN</td>\n",
       "      <td>NaN</td>\n",
       "      <td>NaN</td>\n",
       "      <td>20651.0</td>\n",
       "    </tr>\n",
       "  </tbody>\n",
       "</table>\n",
       "</div>"
      ],
      "text/plain": [
       "                     AEP  COMED  DAYTON  DEOK  DOM  DUQ  EKPC  FE  NI  PJME  \\\n",
       "Datetime                                                                      \n",
       "1998-04-01 01:00:00  NaN    NaN     NaN   NaN  NaN  NaN   NaN NaN NaN   NaN   \n",
       "1998-04-01 02:00:00  NaN    NaN     NaN   NaN  NaN  NaN   NaN NaN NaN   NaN   \n",
       "1998-04-01 03:00:00  NaN    NaN     NaN   NaN  NaN  NaN   NaN NaN NaN   NaN   \n",
       "\n",
       "                     PJMW  PJM_Load  \n",
       "Datetime                             \n",
       "1998-04-01 01:00:00   NaN   22259.0  \n",
       "1998-04-01 02:00:00   NaN   21244.0  \n",
       "1998-04-01 03:00:00   NaN   20651.0  "
      ]
     },
     "execution_count": 74,
     "metadata": {},
     "output_type": "execute_result"
    }
   ],
   "source": [
    "df.iloc[0:3]# iloc is right exclusive "
   ]
  },
  {
   "cell_type": "code",
   "execution_count": null,
   "metadata": {},
   "outputs": [],
   "source": []
  },
  {
   "cell_type": "code",
   "execution_count": 75,
   "metadata": {
    "colab": {
     "base_uri": "https://localhost:8080/"
    },
    "id": "OHufbIxTGVZt",
    "outputId": "31956aa9-f3ce-468b-ac1b-1a66b43a1b4d"
   },
   "outputs": [
    {
     "data": {
      "text/plain": [
       "AEP             NaN\n",
       "COMED           NaN\n",
       "DAYTON          NaN\n",
       "DEOK            NaN\n",
       "DOM             NaN\n",
       "DUQ             NaN\n",
       "EKPC            NaN\n",
       "FE              NaN\n",
       "NI              NaN\n",
       "PJME            NaN\n",
       "PJMW            NaN\n",
       "PJM_Load    22259.0\n",
       "Name: 1998-04-01 01:00:00, dtype: float64"
      ]
     },
     "execution_count": 75,
     "metadata": {},
     "output_type": "execute_result"
    }
   ],
   "source": [
    "df.loc[\"1998-04-01 01:00:00\"]"
   ]
  },
  {
   "cell_type": "code",
   "execution_count": 76,
   "metadata": {
    "colab": {
     "base_uri": "https://localhost:8080/",
     "height": 198
    },
    "id": "ZSCLX6Nk0dJs",
    "outputId": "b2be308f-6e0f-431f-a7e2-18b2096eb258"
   },
   "outputs": [
    {
     "data": {
      "text/html": [
       "<div>\n",
       "<style scoped>\n",
       "    .dataframe tbody tr th:only-of-type {\n",
       "        vertical-align: middle;\n",
       "    }\n",
       "\n",
       "    .dataframe tbody tr th {\n",
       "        vertical-align: top;\n",
       "    }\n",
       "\n",
       "    .dataframe thead th {\n",
       "        text-align: right;\n",
       "    }\n",
       "</style>\n",
       "<table border=\"1\" class=\"dataframe\">\n",
       "  <thead>\n",
       "    <tr style=\"text-align: right;\">\n",
       "      <th></th>\n",
       "      <th>AEP</th>\n",
       "      <th>COMED</th>\n",
       "      <th>DAYTON</th>\n",
       "      <th>DEOK</th>\n",
       "      <th>DOM</th>\n",
       "      <th>DUQ</th>\n",
       "      <th>EKPC</th>\n",
       "      <th>FE</th>\n",
       "      <th>NI</th>\n",
       "      <th>PJME</th>\n",
       "      <th>PJMW</th>\n",
       "      <th>PJM_Load</th>\n",
       "    </tr>\n",
       "    <tr>\n",
       "      <th>Datetime</th>\n",
       "      <th></th>\n",
       "      <th></th>\n",
       "      <th></th>\n",
       "      <th></th>\n",
       "      <th></th>\n",
       "      <th></th>\n",
       "      <th></th>\n",
       "      <th></th>\n",
       "      <th></th>\n",
       "      <th></th>\n",
       "      <th></th>\n",
       "      <th></th>\n",
       "    </tr>\n",
       "  </thead>\n",
       "  <tbody>\n",
       "    <tr>\n",
       "      <th>1998-12-31 01:00:00</th>\n",
       "      <td>NaN</td>\n",
       "      <td>NaN</td>\n",
       "      <td>NaN</td>\n",
       "      <td>NaN</td>\n",
       "      <td>NaN</td>\n",
       "      <td>NaN</td>\n",
       "      <td>NaN</td>\n",
       "      <td>NaN</td>\n",
       "      <td>NaN</td>\n",
       "      <td>NaN</td>\n",
       "      <td>NaN</td>\n",
       "      <td>29309.0</td>\n",
       "    </tr>\n",
       "    <tr>\n",
       "      <th>1998-12-31 02:00:00</th>\n",
       "      <td>NaN</td>\n",
       "      <td>NaN</td>\n",
       "      <td>NaN</td>\n",
       "      <td>NaN</td>\n",
       "      <td>NaN</td>\n",
       "      <td>NaN</td>\n",
       "      <td>NaN</td>\n",
       "      <td>NaN</td>\n",
       "      <td>NaN</td>\n",
       "      <td>NaN</td>\n",
       "      <td>NaN</td>\n",
       "      <td>28236.0</td>\n",
       "    </tr>\n",
       "    <tr>\n",
       "      <th>1998-12-31 03:00:00</th>\n",
       "      <td>NaN</td>\n",
       "      <td>NaN</td>\n",
       "      <td>NaN</td>\n",
       "      <td>NaN</td>\n",
       "      <td>NaN</td>\n",
       "      <td>NaN</td>\n",
       "      <td>NaN</td>\n",
       "      <td>NaN</td>\n",
       "      <td>NaN</td>\n",
       "      <td>NaN</td>\n",
       "      <td>NaN</td>\n",
       "      <td>27692.0</td>\n",
       "    </tr>\n",
       "    <tr>\n",
       "      <th>1998-12-31 04:00:00</th>\n",
       "      <td>NaN</td>\n",
       "      <td>NaN</td>\n",
       "      <td>NaN</td>\n",
       "      <td>NaN</td>\n",
       "      <td>NaN</td>\n",
       "      <td>NaN</td>\n",
       "      <td>NaN</td>\n",
       "      <td>NaN</td>\n",
       "      <td>NaN</td>\n",
       "      <td>NaN</td>\n",
       "      <td>NaN</td>\n",
       "      <td>27596.0</td>\n",
       "    </tr>\n",
       "    <tr>\n",
       "      <th>1998-12-31 05:00:00</th>\n",
       "      <td>NaN</td>\n",
       "      <td>NaN</td>\n",
       "      <td>NaN</td>\n",
       "      <td>NaN</td>\n",
       "      <td>NaN</td>\n",
       "      <td>NaN</td>\n",
       "      <td>NaN</td>\n",
       "      <td>NaN</td>\n",
       "      <td>NaN</td>\n",
       "      <td>NaN</td>\n",
       "      <td>NaN</td>\n",
       "      <td>27888.0</td>\n",
       "    </tr>\n",
       "  </tbody>\n",
       "</table>\n",
       "</div>"
      ],
      "text/plain": [
       "                     AEP  COMED  DAYTON  DEOK  DOM  DUQ  EKPC  FE  NI  PJME  \\\n",
       "Datetime                                                                      \n",
       "1998-12-31 01:00:00  NaN    NaN     NaN   NaN  NaN  NaN   NaN NaN NaN   NaN   \n",
       "1998-12-31 02:00:00  NaN    NaN     NaN   NaN  NaN  NaN   NaN NaN NaN   NaN   \n",
       "1998-12-31 03:00:00  NaN    NaN     NaN   NaN  NaN  NaN   NaN NaN NaN   NaN   \n",
       "1998-12-31 04:00:00  NaN    NaN     NaN   NaN  NaN  NaN   NaN NaN NaN   NaN   \n",
       "1998-12-31 05:00:00  NaN    NaN     NaN   NaN  NaN  NaN   NaN NaN NaN   NaN   \n",
       "\n",
       "                     PJMW  PJM_Load  \n",
       "Datetime                             \n",
       "1998-12-31 01:00:00   NaN   29309.0  \n",
       "1998-12-31 02:00:00   NaN   28236.0  \n",
       "1998-12-31 03:00:00   NaN   27692.0  \n",
       "1998-12-31 04:00:00   NaN   27596.0  \n",
       "1998-12-31 05:00:00   NaN   27888.0  "
      ]
     },
     "execution_count": 76,
     "metadata": {},
     "output_type": "execute_result"
    }
   ],
   "source": [
    "df.loc[\"1998-12-31 01:00:00\":\"1998-12-31 05:00:00\"] # with loc, right inclusive"
   ]
  },
  {
   "cell_type": "code",
   "execution_count": 77,
   "metadata": {
    "colab": {
     "base_uri": "https://localhost:8080/",
     "height": 168
    },
    "id": "BwOuZgnp0dJt",
    "outputId": "d99322a5-9fb8-4f48-ec35-c2ef39d469ee"
   },
   "outputs": [
    {
     "data": {
      "text/html": [
       "<div>\n",
       "<style scoped>\n",
       "    .dataframe tbody tr th:only-of-type {\n",
       "        vertical-align: middle;\n",
       "    }\n",
       "\n",
       "    .dataframe tbody tr th {\n",
       "        vertical-align: top;\n",
       "    }\n",
       "\n",
       "    .dataframe thead th {\n",
       "        text-align: right;\n",
       "    }\n",
       "</style>\n",
       "<table border=\"1\" class=\"dataframe\">\n",
       "  <thead>\n",
       "    <tr style=\"text-align: right;\">\n",
       "      <th></th>\n",
       "      <th>AEP</th>\n",
       "      <th>COMED</th>\n",
       "      <th>DAYTON</th>\n",
       "      <th>DEOK</th>\n",
       "      <th>DOM</th>\n",
       "      <th>DUQ</th>\n",
       "      <th>EKPC</th>\n",
       "      <th>FE</th>\n",
       "      <th>NI</th>\n",
       "      <th>PJME</th>\n",
       "      <th>PJMW</th>\n",
       "      <th>PJM_Load</th>\n",
       "    </tr>\n",
       "    <tr>\n",
       "      <th>Datetime</th>\n",
       "      <th></th>\n",
       "      <th></th>\n",
       "      <th></th>\n",
       "      <th></th>\n",
       "      <th></th>\n",
       "      <th></th>\n",
       "      <th></th>\n",
       "      <th></th>\n",
       "      <th></th>\n",
       "      <th></th>\n",
       "      <th></th>\n",
       "      <th></th>\n",
       "    </tr>\n",
       "  </thead>\n",
       "  <tbody>\n",
       "    <tr>\n",
       "      <th>2018-01-01 22:00:00</th>\n",
       "      <td>20820.0</td>\n",
       "      <td>13627.0</td>\n",
       "      <td>2664.0</td>\n",
       "      <td>4355.0</td>\n",
       "      <td>18307.0</td>\n",
       "      <td>1891.0</td>\n",
       "      <td>2883.0</td>\n",
       "      <td>9044.0</td>\n",
       "      <td>NaN</td>\n",
       "      <td>42402.0</td>\n",
       "      <td>8238.0</td>\n",
       "      <td>NaN</td>\n",
       "    </tr>\n",
       "    <tr>\n",
       "      <th>2018-01-01 23:00:00</th>\n",
       "      <td>20415.0</td>\n",
       "      <td>13336.0</td>\n",
       "      <td>2614.0</td>\n",
       "      <td>4224.0</td>\n",
       "      <td>17814.0</td>\n",
       "      <td>1820.0</td>\n",
       "      <td>2880.0</td>\n",
       "      <td>8676.0</td>\n",
       "      <td>NaN</td>\n",
       "      <td>40164.0</td>\n",
       "      <td>7958.0</td>\n",
       "      <td>NaN</td>\n",
       "    </tr>\n",
       "    <tr>\n",
       "      <th>2018-01-02 00:00:00</th>\n",
       "      <td>19993.0</td>\n",
       "      <td>12816.0</td>\n",
       "      <td>2552.0</td>\n",
       "      <td>4100.0</td>\n",
       "      <td>17428.0</td>\n",
       "      <td>1721.0</td>\n",
       "      <td>2846.0</td>\n",
       "      <td>8393.0</td>\n",
       "      <td>NaN</td>\n",
       "      <td>38608.0</td>\n",
       "      <td>7691.0</td>\n",
       "      <td>NaN</td>\n",
       "    </tr>\n",
       "  </tbody>\n",
       "</table>\n",
       "</div>"
      ],
      "text/plain": [
       "                         AEP    COMED  DAYTON    DEOK      DOM     DUQ  \\\n",
       "Datetime                                                                 \n",
       "2018-01-01 22:00:00  20820.0  13627.0  2664.0  4355.0  18307.0  1891.0   \n",
       "2018-01-01 23:00:00  20415.0  13336.0  2614.0  4224.0  17814.0  1820.0   \n",
       "2018-01-02 00:00:00  19993.0  12816.0  2552.0  4100.0  17428.0  1721.0   \n",
       "\n",
       "                       EKPC      FE  NI     PJME    PJMW  PJM_Load  \n",
       "Datetime                                                            \n",
       "2018-01-01 22:00:00  2883.0  9044.0 NaN  42402.0  8238.0       NaN  \n",
       "2018-01-01 23:00:00  2880.0  8676.0 NaN  40164.0  7958.0       NaN  \n",
       "2018-01-02 00:00:00  2846.0  8393.0 NaN  38608.0  7691.0       NaN  "
      ]
     },
     "execution_count": 77,
     "metadata": {},
     "output_type": "execute_result"
    }
   ],
   "source": [
    "df.loc[\"2018-01-01 22:00:00\":\"2018-01-02 00:00:00\"] # right-inclsive "
   ]
  },
  {
   "cell_type": "code",
   "execution_count": null,
   "metadata": {
    "colab": {
     "base_uri": "https://localhost:8080/",
     "height": 155
    },
    "id": "0jdOqHg30dJu",
    "outputId": "4adcb8c7-7f12-4e3d-9070-ad66ac46ee71"
   },
   "outputs": [],
   "source": []
  },
  {
   "cell_type": "markdown",
   "metadata": {
    "id": "R9lGwW-m6-nj"
   },
   "source": [
    "### **Mixed Selection**"
   ]
  },
  {
   "cell_type": "code",
   "execution_count": 78,
   "metadata": {
    "colab": {
     "base_uri": "https://localhost:8080/",
     "height": 262
    },
    "id": "ssOOa0qx7BKC",
    "outputId": "621145f6-544a-4d32-a72a-caa3ee08f6aa"
   },
   "outputs": [
    {
     "data": {
      "text/html": [
       "<div>\n",
       "<style scoped>\n",
       "    .dataframe tbody tr th:only-of-type {\n",
       "        vertical-align: middle;\n",
       "    }\n",
       "\n",
       "    .dataframe tbody tr th {\n",
       "        vertical-align: top;\n",
       "    }\n",
       "\n",
       "    .dataframe thead th {\n",
       "        text-align: right;\n",
       "    }\n",
       "</style>\n",
       "<table border=\"1\" class=\"dataframe\">\n",
       "  <thead>\n",
       "    <tr style=\"text-align: right;\">\n",
       "      <th></th>\n",
       "      <th>AEP</th>\n",
       "      <th>COMED</th>\n",
       "      <th>DAYTON</th>\n",
       "    </tr>\n",
       "    <tr>\n",
       "      <th>Datetime</th>\n",
       "      <th></th>\n",
       "      <th></th>\n",
       "      <th></th>\n",
       "    </tr>\n",
       "  </thead>\n",
       "  <tbody>\n",
       "    <tr>\n",
       "      <th>2008-12-31 01:00:00</th>\n",
       "      <td>14548.0</td>\n",
       "      <td>NaN</td>\n",
       "      <td>1722.0</td>\n",
       "    </tr>\n",
       "    <tr>\n",
       "      <th>2008-12-31 02:00:00</th>\n",
       "      <td>14045.0</td>\n",
       "      <td>NaN</td>\n",
       "      <td>1687.0</td>\n",
       "    </tr>\n",
       "    <tr>\n",
       "      <th>2008-12-31 03:00:00</th>\n",
       "      <td>13851.0</td>\n",
       "      <td>NaN</td>\n",
       "      <td>1677.0</td>\n",
       "    </tr>\n",
       "    <tr>\n",
       "      <th>2008-12-31 04:00:00</th>\n",
       "      <td>13790.0</td>\n",
       "      <td>NaN</td>\n",
       "      <td>1687.0</td>\n",
       "    </tr>\n",
       "    <tr>\n",
       "      <th>2008-12-31 05:00:00</th>\n",
       "      <td>14152.0</td>\n",
       "      <td>NaN</td>\n",
       "      <td>1730.0</td>\n",
       "    </tr>\n",
       "    <tr>\n",
       "      <th>2008-12-31 06:00:00</th>\n",
       "      <td>14879.0</td>\n",
       "      <td>NaN</td>\n",
       "      <td>1827.0</td>\n",
       "    </tr>\n",
       "    <tr>\n",
       "      <th>2008-12-31 07:00:00</th>\n",
       "      <td>15853.0</td>\n",
       "      <td>NaN</td>\n",
       "      <td>1968.0</td>\n",
       "    </tr>\n",
       "    <tr>\n",
       "      <th>2008-12-31 08:00:00</th>\n",
       "      <td>16940.0</td>\n",
       "      <td>NaN</td>\n",
       "      <td>2098.0</td>\n",
       "    </tr>\n",
       "  </tbody>\n",
       "</table>\n",
       "</div>"
      ],
      "text/plain": [
       "                         AEP  COMED  DAYTON\n",
       "Datetime                                   \n",
       "2008-12-31 01:00:00  14548.0    NaN  1722.0\n",
       "2008-12-31 02:00:00  14045.0    NaN  1687.0\n",
       "2008-12-31 03:00:00  13851.0    NaN  1677.0\n",
       "2008-12-31 04:00:00  13790.0    NaN  1687.0\n",
       "2008-12-31 05:00:00  14152.0    NaN  1730.0\n",
       "2008-12-31 06:00:00  14879.0    NaN  1827.0\n",
       "2008-12-31 07:00:00  15853.0    NaN  1968.0\n",
       "2008-12-31 08:00:00  16940.0    NaN  2098.0"
      ]
     },
     "execution_count": 78,
     "metadata": {},
     "output_type": "execute_result"
    }
   ],
   "source": [
    "df.loc[\"2008-12-31 01:00:00\":\"2008-12-31 08:00:00\",[\"AEP\",\"COMED\",\"DAYTON\"]]"
   ]
  },
  {
   "cell_type": "code",
   "execution_count": 79,
   "metadata": {
    "colab": {
     "base_uri": "https://localhost:8080/",
     "height": 198
    },
    "id": "EKoB5Pxt0dJu",
    "outputId": "410caeb5-6288-440b-b8fe-743920f04f0a"
   },
   "outputs": [
    {
     "data": {
      "text/html": [
       "<div>\n",
       "<style scoped>\n",
       "    .dataframe tbody tr th:only-of-type {\n",
       "        vertical-align: middle;\n",
       "    }\n",
       "\n",
       "    .dataframe tbody tr th {\n",
       "        vertical-align: top;\n",
       "    }\n",
       "\n",
       "    .dataframe thead th {\n",
       "        text-align: right;\n",
       "    }\n",
       "</style>\n",
       "<table border=\"1\" class=\"dataframe\">\n",
       "  <thead>\n",
       "    <tr style=\"text-align: right;\">\n",
       "      <th></th>\n",
       "      <th>FE</th>\n",
       "      <th>NI</th>\n",
       "      <th>PJME</th>\n",
       "      <th>PJMW</th>\n",
       "      <th>PJM_Load</th>\n",
       "    </tr>\n",
       "    <tr>\n",
       "      <th>Datetime</th>\n",
       "      <th></th>\n",
       "      <th></th>\n",
       "      <th></th>\n",
       "      <th></th>\n",
       "      <th></th>\n",
       "    </tr>\n",
       "  </thead>\n",
       "  <tbody>\n",
       "    <tr>\n",
       "      <th>2018-08-02 20:00:00</th>\n",
       "      <td>9866.0</td>\n",
       "      <td>NaN</td>\n",
       "      <td>44057.0</td>\n",
       "      <td>6545.0</td>\n",
       "      <td>NaN</td>\n",
       "    </tr>\n",
       "    <tr>\n",
       "      <th>2018-08-02 21:00:00</th>\n",
       "      <td>9656.0</td>\n",
       "      <td>NaN</td>\n",
       "      <td>43256.0</td>\n",
       "      <td>6496.0</td>\n",
       "      <td>NaN</td>\n",
       "    </tr>\n",
       "    <tr>\n",
       "      <th>2018-08-02 22:00:00</th>\n",
       "      <td>9532.0</td>\n",
       "      <td>NaN</td>\n",
       "      <td>41552.0</td>\n",
       "      <td>6325.0</td>\n",
       "      <td>NaN</td>\n",
       "    </tr>\n",
       "    <tr>\n",
       "      <th>2018-08-02 23:00:00</th>\n",
       "      <td>8872.0</td>\n",
       "      <td>NaN</td>\n",
       "      <td>38500.0</td>\n",
       "      <td>5892.0</td>\n",
       "      <td>NaN</td>\n",
       "    </tr>\n",
       "    <tr>\n",
       "      <th>2018-08-03 00:00:00</th>\n",
       "      <td>8198.0</td>\n",
       "      <td>NaN</td>\n",
       "      <td>35486.0</td>\n",
       "      <td>5489.0</td>\n",
       "      <td>NaN</td>\n",
       "    </tr>\n",
       "  </tbody>\n",
       "</table>\n",
       "</div>"
      ],
      "text/plain": [
       "                         FE  NI     PJME    PJMW  PJM_Load\n",
       "Datetime                                                  \n",
       "2018-08-02 20:00:00  9866.0 NaN  44057.0  6545.0       NaN\n",
       "2018-08-02 21:00:00  9656.0 NaN  43256.0  6496.0       NaN\n",
       "2018-08-02 22:00:00  9532.0 NaN  41552.0  6325.0       NaN\n",
       "2018-08-02 23:00:00  8872.0 NaN  38500.0  5892.0       NaN\n",
       "2018-08-03 00:00:00  8198.0 NaN  35486.0  5489.0       NaN"
      ]
     },
     "execution_count": 79,
     "metadata": {},
     "output_type": "execute_result"
    }
   ],
   "source": [
    "df.iloc[-5:,-5:]"
   ]
  },
  {
   "cell_type": "markdown",
   "metadata": {
    "id": "JCAYkjmi7iDT"
   },
   "source": [
    "### **Conditional Selection**"
   ]
  },
  {
   "cell_type": "code",
   "execution_count": 80,
   "metadata": {},
   "outputs": [
    {
     "data": {
      "text/html": [
       "<div>\n",
       "<style scoped>\n",
       "    .dataframe tbody tr th:only-of-type {\n",
       "        vertical-align: middle;\n",
       "    }\n",
       "\n",
       "    .dataframe tbody tr th {\n",
       "        vertical-align: top;\n",
       "    }\n",
       "\n",
       "    .dataframe thead th {\n",
       "        text-align: right;\n",
       "    }\n",
       "</style>\n",
       "<table border=\"1\" class=\"dataframe\">\n",
       "  <thead>\n",
       "    <tr style=\"text-align: right;\">\n",
       "      <th></th>\n",
       "      <th>Unnamed: 0.1</th>\n",
       "      <th>Unnamed: 0</th>\n",
       "      <th>Location</th>\n",
       "      <th>Profit</th>\n",
       "      <th>Income</th>\n",
       "      <th>Disposable Income</th>\n",
       "      <th>Birth Rate (per 1,000)</th>\n",
       "      <th>Soc Security (per 1,000)</th>\n",
       "      <th>CV Death (per 100,000)</th>\n",
       "      <th>% 65 or Older</th>\n",
       "    </tr>\n",
       "  </thead>\n",
       "  <tbody>\n",
       "    <tr>\n",
       "      <th>0</th>\n",
       "      <td>0</td>\n",
       "      <td>0</td>\n",
       "      <td>Albany-Schenectady-Troy,NY</td>\n",
       "      <td>199780.0</td>\n",
       "      <td>28719</td>\n",
       "      <td>22701</td>\n",
       "      <td>13.1</td>\n",
       "      <td>177.7</td>\n",
       "      <td>429.9</td>\n",
       "      <td>14.6</td>\n",
       "    </tr>\n",
       "    <tr>\n",
       "      <th>1</th>\n",
       "      <td>1</td>\n",
       "      <td>1</td>\n",
       "      <td>Albuquerque,NM</td>\n",
       "      <td>165530.0</td>\n",
       "      <td>25835</td>\n",
       "      <td>19890</td>\n",
       "      <td>15.8</td>\n",
       "      <td>143.8</td>\n",
       "      <td>222.9</td>\n",
       "      <td>10.7</td>\n",
       "    </tr>\n",
       "    <tr>\n",
       "      <th>2</th>\n",
       "      <td>2</td>\n",
       "      <td>2</td>\n",
       "      <td>Altoona,PA</td>\n",
       "      <td>208670.0</td>\n",
       "      <td>22675</td>\n",
       "      <td>18051</td>\n",
       "      <td>11.6</td>\n",
       "      <td>179.8</td>\n",
       "      <td>561.5</td>\n",
       "      <td>17.6</td>\n",
       "    </tr>\n",
       "    <tr>\n",
       "      <th>3</th>\n",
       "      <td>3</td>\n",
       "      <td>3</td>\n",
       "      <td>Anchorage,AK</td>\n",
       "      <td>166890.0</td>\n",
       "      <td>33501</td>\n",
       "      <td>27031</td>\n",
       "      <td>18.5</td>\n",
       "      <td>62.5</td>\n",
       "      <td>99.8</td>\n",
       "      <td>4.7</td>\n",
       "    </tr>\n",
       "    <tr>\n",
       "      <th>4</th>\n",
       "      <td>4</td>\n",
       "      <td>4</td>\n",
       "      <td>Appleton-Oshkosh-Neenah,WI</td>\n",
       "      <td>209190.0</td>\n",
       "      <td>27107</td>\n",
       "      <td>21182</td>\n",
       "      <td>13.6</td>\n",
       "      <td>152.6</td>\n",
       "      <td>319.4</td>\n",
       "      <td>12.0</td>\n",
       "    </tr>\n",
       "  </tbody>\n",
       "</table>\n",
       "</div>"
      ],
      "text/plain": [
       "   Unnamed: 0.1  Unnamed: 0                    Location    Profit  Income  \\\n",
       "0             0           0  Albany-Schenectady-Troy,NY  199780.0   28719   \n",
       "1             1           1              Albuquerque,NM  165530.0   25835   \n",
       "2             2           2                  Altoona,PA  208670.0   22675   \n",
       "3             3           3                Anchorage,AK  166890.0   33501   \n",
       "4             4           4  Appleton-Oshkosh-Neenah,WI  209190.0   27107   \n",
       "\n",
       "   Disposable Income  Birth Rate (per 1,000)  Soc Security (per 1,000)  \\\n",
       "0              22701                    13.1                     177.7   \n",
       "1              19890                    15.8                     143.8   \n",
       "2              18051                    11.6                     179.8   \n",
       "3              27031                    18.5                      62.5   \n",
       "4              21182                    13.6                     152.6   \n",
       "\n",
       "   CV Death (per 100,000)  % 65 or Older  \n",
       "0                   429.9           14.6  \n",
       "1                   222.9           10.7  \n",
       "2                   561.5           17.6  \n",
       "3                    99.8            4.7  \n",
       "4                   319.4           12.0  "
      ]
     },
     "execution_count": 80,
     "metadata": {},
     "output_type": "execute_result"
    }
   ],
   "source": [
    "# pharmacy profit data\n",
    "url = 'https://drive.google.com/uc?export=download&id=1EYSwUg8xf-gQEn1HsIXcjgZSe3g7nP7u'\n",
    "profitdata = pd.read_csv(url)\n",
    "profitdata.head()"
   ]
  },
  {
   "cell_type": "markdown",
   "metadata": {
    "id": "cg5WEvrQHr8Q"
   },
   "source": [
    "### Selection with one condition"
   ]
  },
  {
   "cell_type": "code",
   "execution_count": 81,
   "metadata": {
    "colab": {
     "base_uri": "https://localhost:8080/"
    },
    "id": "lgC6PeM30dJy",
    "outputId": "9b4e680e-19c1-4c4f-ef2e-1de761fb05a4"
   },
   "outputs": [
    {
     "data": {
      "text/plain": [
       "24939.0"
      ]
     },
     "execution_count": 81,
     "metadata": {},
     "output_type": "execute_result"
    }
   ],
   "source": [
    "profitdata[\"Income\"].median()"
   ]
  },
  {
   "cell_type": "code",
   "execution_count": 82,
   "metadata": {
    "colab": {
     "base_uri": "https://localhost:8080/",
     "height": 864
    },
    "id": "YEcfoOL-0dJy",
    "outputId": "c94664ca-6c4b-4ea6-e0bc-d70dd8995db4"
   },
   "outputs": [
    {
     "data": {
      "text/html": [
       "<div>\n",
       "<style scoped>\n",
       "    .dataframe tbody tr th:only-of-type {\n",
       "        vertical-align: middle;\n",
       "    }\n",
       "\n",
       "    .dataframe tbody tr th {\n",
       "        vertical-align: top;\n",
       "    }\n",
       "\n",
       "    .dataframe thead th {\n",
       "        text-align: right;\n",
       "    }\n",
       "</style>\n",
       "<table border=\"1\" class=\"dataframe\">\n",
       "  <thead>\n",
       "    <tr style=\"text-align: right;\">\n",
       "      <th></th>\n",
       "      <th>Unnamed: 0.1</th>\n",
       "      <th>Unnamed: 0</th>\n",
       "      <th>Location</th>\n",
       "      <th>Profit</th>\n",
       "      <th>Income</th>\n",
       "      <th>Disposable Income</th>\n",
       "      <th>Birth Rate (per 1,000)</th>\n",
       "      <th>Soc Security (per 1,000)</th>\n",
       "      <th>CV Death (per 100,000)</th>\n",
       "      <th>% 65 or Older</th>\n",
       "    </tr>\n",
       "  </thead>\n",
       "  <tbody>\n",
       "    <tr>\n",
       "      <th>0</th>\n",
       "      <td>0</td>\n",
       "      <td>0</td>\n",
       "      <td>Albany-Schenectady-Troy,NY</td>\n",
       "      <td>199780.0</td>\n",
       "      <td>28719</td>\n",
       "      <td>22701</td>\n",
       "      <td>13.1</td>\n",
       "      <td>177.7</td>\n",
       "      <td>429.9</td>\n",
       "      <td>14.6</td>\n",
       "    </tr>\n",
       "    <tr>\n",
       "      <th>1</th>\n",
       "      <td>1</td>\n",
       "      <td>1</td>\n",
       "      <td>Albuquerque,NM</td>\n",
       "      <td>165530.0</td>\n",
       "      <td>25835</td>\n",
       "      <td>19890</td>\n",
       "      <td>15.8</td>\n",
       "      <td>143.8</td>\n",
       "      <td>222.9</td>\n",
       "      <td>10.7</td>\n",
       "    </tr>\n",
       "    <tr>\n",
       "      <th>3</th>\n",
       "      <td>3</td>\n",
       "      <td>3</td>\n",
       "      <td>Anchorage,AK</td>\n",
       "      <td>166890.0</td>\n",
       "      <td>33501</td>\n",
       "      <td>27031</td>\n",
       "      <td>18.5</td>\n",
       "      <td>62.5</td>\n",
       "      <td>99.8</td>\n",
       "      <td>4.7</td>\n",
       "    </tr>\n",
       "    <tr>\n",
       "      <th>4</th>\n",
       "      <td>4</td>\n",
       "      <td>4</td>\n",
       "      <td>Appleton-Oshkosh-Neenah,WI</td>\n",
       "      <td>209190.0</td>\n",
       "      <td>27107</td>\n",
       "      <td>21182</td>\n",
       "      <td>13.6</td>\n",
       "      <td>152.6</td>\n",
       "      <td>319.4</td>\n",
       "      <td>12.0</td>\n",
       "    </tr>\n",
       "    <tr>\n",
       "      <th>6</th>\n",
       "      <td>6</td>\n",
       "      <td>6</td>\n",
       "      <td>Atlanta,GA</td>\n",
       "      <td>182340.0</td>\n",
       "      <td>31354</td>\n",
       "      <td>23633</td>\n",
       "      <td>16.2</td>\n",
       "      <td>110.8</td>\n",
       "      <td>239.0</td>\n",
       "      <td>7.9</td>\n",
       "    </tr>\n",
       "    <tr>\n",
       "      <th>7</th>\n",
       "      <td>7</td>\n",
       "      <td>7</td>\n",
       "      <td>Augusta-Aiken,GA-SC</td>\n",
       "      <td>161300.0</td>\n",
       "      <td>25976</td>\n",
       "      <td>18746</td>\n",
       "      <td>15.4</td>\n",
       "      <td>147.4</td>\n",
       "      <td>349.2</td>\n",
       "      <td>9.9</td>\n",
       "    </tr>\n",
       "    <tr>\n",
       "      <th>8</th>\n",
       "      <td>8</td>\n",
       "      <td>8</td>\n",
       "      <td>Austin-SanMarcos,TX</td>\n",
       "      <td>172860.0</td>\n",
       "      <td>28707</td>\n",
       "      <td>20611</td>\n",
       "      <td>16.2</td>\n",
       "      <td>101.0</td>\n",
       "      <td>203.4</td>\n",
       "      <td>8.0</td>\n",
       "    </tr>\n",
       "    <tr>\n",
       "      <th>10</th>\n",
       "      <td>10</td>\n",
       "      <td>10</td>\n",
       "      <td>Beaumont-PortArthur,TX</td>\n",
       "      <td>186810.0</td>\n",
       "      <td>27318</td>\n",
       "      <td>18937</td>\n",
       "      <td>14.8</td>\n",
       "      <td>179.3</td>\n",
       "      <td>381.7</td>\n",
       "      <td>13.2</td>\n",
       "    </tr>\n",
       "    <tr>\n",
       "      <th>12</th>\n",
       "      <td>12</td>\n",
       "      <td>12</td>\n",
       "      <td>Birmingham,AL</td>\n",
       "      <td>191490.0</td>\n",
       "      <td>28520</td>\n",
       "      <td>21217</td>\n",
       "      <td>14.2</td>\n",
       "      <td>178.2</td>\n",
       "      <td>370.3</td>\n",
       "      <td>13.0</td>\n",
       "    </tr>\n",
       "    <tr>\n",
       "      <th>14</th>\n",
       "      <td>14</td>\n",
       "      <td>14</td>\n",
       "      <td>Boston-Worcester-Lawrence-Lowell-Brockt</td>\n",
       "      <td>228020.0</td>\n",
       "      <td>34383</td>\n",
       "      <td>26093</td>\n",
       "      <td>14.2</td>\n",
       "      <td>161.3</td>\n",
       "      <td>340.4</td>\n",
       "      <td>13.2</td>\n",
       "    </tr>\n",
       "    <tr>\n",
       "      <th>15</th>\n",
       "      <td>15</td>\n",
       "      <td>15</td>\n",
       "      <td>Canton-Massillon,OH</td>\n",
       "      <td>207750.0</td>\n",
       "      <td>25109</td>\n",
       "      <td>19471</td>\n",
       "      <td>13.2</td>\n",
       "      <td>190.2</td>\n",
       "      <td>394.9</td>\n",
       "      <td>14.9</td>\n",
       "    </tr>\n",
       "    <tr>\n",
       "      <th>18</th>\n",
       "      <td>18</td>\n",
       "      <td>18</td>\n",
       "      <td>Charleston,WV</td>\n",
       "      <td>199840.0</td>\n",
       "      <td>26700</td>\n",
       "      <td>21300</td>\n",
       "      <td>13.8</td>\n",
       "      <td>208.9</td>\n",
       "      <td>428.7</td>\n",
       "      <td>15.0</td>\n",
       "    </tr>\n",
       "    <tr>\n",
       "      <th>21</th>\n",
       "      <td>21</td>\n",
       "      <td>21</td>\n",
       "      <td>Cincinnati-Hamilton,OH-KY-IN</td>\n",
       "      <td>198180.0</td>\n",
       "      <td>28878</td>\n",
       "      <td>21881</td>\n",
       "      <td>14.7</td>\n",
       "      <td>156.3</td>\n",
       "      <td>350.5</td>\n",
       "      <td>12.1</td>\n",
       "    </tr>\n",
       "    <tr>\n",
       "      <th>23</th>\n",
       "      <td>23</td>\n",
       "      <td>23</td>\n",
       "      <td>Cleveland-Akron,OH</td>\n",
       "      <td>197050.0</td>\n",
       "      <td>29355</td>\n",
       "      <td>22921</td>\n",
       "      <td>14.2</td>\n",
       "      <td>178.3</td>\n",
       "      <td>399.3</td>\n",
       "      <td>14.3</td>\n",
       "    </tr>\n",
       "    <tr>\n",
       "      <th>25</th>\n",
       "      <td>25</td>\n",
       "      <td>25</td>\n",
       "      <td>Columbus,OH</td>\n",
       "      <td>154450.0</td>\n",
       "      <td>27888</td>\n",
       "      <td>22060</td>\n",
       "      <td>15.4</td>\n",
       "      <td>132.5</td>\n",
       "      <td>298.6</td>\n",
       "      <td>10.4</td>\n",
       "    </tr>\n",
       "    <tr>\n",
       "      <th>26</th>\n",
       "      <td>26</td>\n",
       "      <td>26</td>\n",
       "      <td>CorpusChristi,TX</td>\n",
       "      <td>160360.0</td>\n",
       "      <td>24976</td>\n",
       "      <td>17350</td>\n",
       "      <td>16.8</td>\n",
       "      <td>141.9</td>\n",
       "      <td>279.8</td>\n",
       "      <td>10.3</td>\n",
       "    </tr>\n",
       "    <tr>\n",
       "      <th>28</th>\n",
       "      <td>28</td>\n",
       "      <td>28</td>\n",
       "      <td>Dallas-FortWorth,TX</td>\n",
       "      <td>172500.0</td>\n",
       "      <td>31713</td>\n",
       "      <td>23449</td>\n",
       "      <td>17.3</td>\n",
       "      <td>111.3</td>\n",
       "      <td>258.2</td>\n",
       "      <td>8.5</td>\n",
       "    </tr>\n",
       "    <tr>\n",
       "      <th>29</th>\n",
       "      <td>29</td>\n",
       "      <td>29</td>\n",
       "      <td>Davenport-Moline-RockIsland,IA-IL</td>\n",
       "      <td>206280.0</td>\n",
       "      <td>26510</td>\n",
       "      <td>20843</td>\n",
       "      <td>13.4</td>\n",
       "      <td>177.0</td>\n",
       "      <td>396.5</td>\n",
       "      <td>13.6</td>\n",
       "    </tr>\n",
       "    <tr>\n",
       "      <th>30</th>\n",
       "      <td>30</td>\n",
       "      <td>30</td>\n",
       "      <td>Denver-Boulder-Greeley,CO</td>\n",
       "      <td>148440.0</td>\n",
       "      <td>31198</td>\n",
       "      <td>24379</td>\n",
       "      <td>15.0</td>\n",
       "      <td>120.9</td>\n",
       "      <td>227.6</td>\n",
       "      <td>9.3</td>\n",
       "    </tr>\n",
       "    <tr>\n",
       "      <th>31</th>\n",
       "      <td>31</td>\n",
       "      <td>31</td>\n",
       "      <td>DesMoines,IA</td>\n",
       "      <td>195590.0</td>\n",
       "      <td>27528</td>\n",
       "      <td>23680</td>\n",
       "      <td>15.2</td>\n",
       "      <td>149.1</td>\n",
       "      <td>296.8</td>\n",
       "      <td>11.5</td>\n",
       "    </tr>\n",
       "    <tr>\n",
       "      <th>35</th>\n",
       "      <td>35</td>\n",
       "      <td>35</td>\n",
       "      <td>Erie,PA</td>\n",
       "      <td>195240.0</td>\n",
       "      <td>25941</td>\n",
       "      <td>19254</td>\n",
       "      <td>14.0</td>\n",
       "      <td>181.5</td>\n",
       "      <td>410.1</td>\n",
       "      <td>14.3</td>\n",
       "    </tr>\n",
       "    <tr>\n",
       "      <th>45</th>\n",
       "      <td>45</td>\n",
       "      <td>45</td>\n",
       "      <td>Greensboro--Winston-Salem--HighPoint,</td>\n",
       "      <td>181630.0</td>\n",
       "      <td>26130</td>\n",
       "      <td>21786</td>\n",
       "      <td>13.4</td>\n",
       "      <td>171.7</td>\n",
       "      <td>374.5</td>\n",
       "      <td>12.9</td>\n",
       "    </tr>\n",
       "    <tr>\n",
       "      <th>47</th>\n",
       "      <td>47</td>\n",
       "      <td>47</td>\n",
       "      <td>Houston-Galveston-Brazoria,TX</td>\n",
       "      <td>162230.0</td>\n",
       "      <td>32620</td>\n",
       "      <td>22651</td>\n",
       "      <td>17.8</td>\n",
       "      <td>99.3</td>\n",
       "      <td>226.5</td>\n",
       "      <td>7.4</td>\n",
       "    </tr>\n",
       "    <tr>\n",
       "      <th>49</th>\n",
       "      <td>49</td>\n",
       "      <td>49</td>\n",
       "      <td>Huntsville,AL</td>\n",
       "      <td>160340.0</td>\n",
       "      <td>31473</td>\n",
       "      <td>21139</td>\n",
       "      <td>14.5</td>\n",
       "      <td>125.3</td>\n",
       "      <td>309.8</td>\n",
       "      <td>9.5</td>\n",
       "    </tr>\n",
       "    <tr>\n",
       "      <th>50</th>\n",
       "      <td>50</td>\n",
       "      <td>50</td>\n",
       "      <td>Indianapolis,IN</td>\n",
       "      <td>193380.0</td>\n",
       "      <td>29137</td>\n",
       "      <td>23168</td>\n",
       "      <td>15.8</td>\n",
       "      <td>151.9</td>\n",
       "      <td>335.1</td>\n",
       "      <td>11.3</td>\n",
       "    </tr>\n",
       "    <tr>\n",
       "      <th>51</th>\n",
       "      <td>51</td>\n",
       "      <td>51</td>\n",
       "      <td>Jackson,MI</td>\n",
       "      <td>200930.0</td>\n",
       "      <td>27640</td>\n",
       "      <td>18573</td>\n",
       "      <td>13.5</td>\n",
       "      <td>173.9</td>\n",
       "      <td>363.4</td>\n",
       "      <td>13.1</td>\n",
       "    </tr>\n",
       "    <tr>\n",
       "      <th>53</th>\n",
       "      <td>53</td>\n",
       "      <td>53</td>\n",
       "      <td>Janesville-Beloit,WI</td>\n",
       "      <td>206120.0</td>\n",
       "      <td>27832</td>\n",
       "      <td>20483</td>\n",
       "      <td>13.8</td>\n",
       "      <td>167.6</td>\n",
       "      <td>367.1</td>\n",
       "      <td>12.6</td>\n",
       "    </tr>\n",
       "    <tr>\n",
       "      <th>56</th>\n",
       "      <td>56</td>\n",
       "      <td>56</td>\n",
       "      <td>Kokomo,IN</td>\n",
       "      <td>189830.0</td>\n",
       "      <td>34779</td>\n",
       "      <td>21814</td>\n",
       "      <td>13.7</td>\n",
       "      <td>178.5</td>\n",
       "      <td>374.8</td>\n",
       "      <td>12.3</td>\n",
       "    </tr>\n",
       "    <tr>\n",
       "      <th>58</th>\n",
       "      <td>58</td>\n",
       "      <td>58</td>\n",
       "      <td>Lafayette,IN</td>\n",
       "      <td>157890.0</td>\n",
       "      <td>25990</td>\n",
       "      <td>18988</td>\n",
       "      <td>13.3</td>\n",
       "      <td>134.0</td>\n",
       "      <td>330.1</td>\n",
       "      <td>10.8</td>\n",
       "    </tr>\n",
       "    <tr>\n",
       "      <th>59</th>\n",
       "      <td>59</td>\n",
       "      <td>59</td>\n",
       "      <td>LakeCharles,LA</td>\n",
       "      <td>166690.0</td>\n",
       "      <td>26059</td>\n",
       "      <td>17933</td>\n",
       "      <td>16.0</td>\n",
       "      <td>169.2</td>\n",
       "      <td>351.6</td>\n",
       "      <td>11.3</td>\n",
       "    </tr>\n",
       "    <tr>\n",
       "      <th>61</th>\n",
       "      <td>61</td>\n",
       "      <td>61</td>\n",
       "      <td>Lexington,KY</td>\n",
       "      <td>159640.0</td>\n",
       "      <td>25746</td>\n",
       "      <td>20162</td>\n",
       "      <td>13.9</td>\n",
       "      <td>139.4</td>\n",
       "      <td>306.0</td>\n",
       "      <td>10.3</td>\n",
       "    </tr>\n",
       "    <tr>\n",
       "      <th>62</th>\n",
       "      <td>62</td>\n",
       "      <td>62</td>\n",
       "      <td>LittleRock-NorthLittleRock,AR</td>\n",
       "      <td>152840.0</td>\n",
       "      <td>25392</td>\n",
       "      <td>19988</td>\n",
       "      <td>15.0</td>\n",
       "      <td>159.0</td>\n",
       "      <td>312.2</td>\n",
       "      <td>10.9</td>\n",
       "    </tr>\n",
       "    <tr>\n",
       "      <th>64</th>\n",
       "      <td>64</td>\n",
       "      <td>64</td>\n",
       "      <td>Louisville,KY-IN</td>\n",
       "      <td>203790.0</td>\n",
       "      <td>26628</td>\n",
       "      <td>22080</td>\n",
       "      <td>14.0</td>\n",
       "      <td>173.8</td>\n",
       "      <td>386.7</td>\n",
       "      <td>12.4</td>\n",
       "    </tr>\n",
       "    <tr>\n",
       "      <th>67</th>\n",
       "      <td>67</td>\n",
       "      <td>67</td>\n",
       "      <td>Memphis,TN-AR-MS</td>\n",
       "      <td>163370.0</td>\n",
       "      <td>27912</td>\n",
       "      <td>21564</td>\n",
       "      <td>17.3</td>\n",
       "      <td>144.8</td>\n",
       "      <td>350.6</td>\n",
       "      <td>10.0</td>\n",
       "    </tr>\n",
       "    <tr>\n",
       "      <th>69</th>\n",
       "      <td>69</td>\n",
       "      <td>69</td>\n",
       "      <td>Miami-FortLauderdale,FL</td>\n",
       "      <td>211650.0</td>\n",
       "      <td>28056</td>\n",
       "      <td>21918</td>\n",
       "      <td>15.4</td>\n",
       "      <td>169.8</td>\n",
       "      <td>436.7</td>\n",
       "      <td>16.9</td>\n",
       "    </tr>\n",
       "    <tr>\n",
       "      <th>70</th>\n",
       "      <td>70</td>\n",
       "      <td>70</td>\n",
       "      <td>Milwaukee-Racine,WI</td>\n",
       "      <td>195090.0</td>\n",
       "      <td>28979</td>\n",
       "      <td>23729</td>\n",
       "      <td>15.0</td>\n",
       "      <td>167.0</td>\n",
       "      <td>350.8</td>\n",
       "      <td>12.2</td>\n",
       "    </tr>\n",
       "    <tr>\n",
       "      <th>73</th>\n",
       "      <td>73</td>\n",
       "      <td>73</td>\n",
       "      <td>Muncie,IN</td>\n",
       "      <td>184420.0</td>\n",
       "      <td>25144</td>\n",
       "      <td>19292</td>\n",
       "      <td>12.1</td>\n",
       "      <td>176.6</td>\n",
       "      <td>391.4</td>\n",
       "      <td>12.8</td>\n",
       "    </tr>\n",
       "    <tr>\n",
       "      <th>75</th>\n",
       "      <td>75</td>\n",
       "      <td>75</td>\n",
       "      <td>NewYork-No. NewJersey-LongIsland,NYA</td>\n",
       "      <td>230070.0</td>\n",
       "      <td>40089</td>\n",
       "      <td>29021</td>\n",
       "      <td>15.8</td>\n",
       "      <td>157.0</td>\n",
       "      <td>403.0</td>\n",
       "      <td>13.4</td>\n",
       "    </tr>\n",
       "    <tr>\n",
       "      <th>77</th>\n",
       "      <td>77</td>\n",
       "      <td>77</td>\n",
       "      <td>Odessa-Midland,TX</td>\n",
       "      <td>179080.0</td>\n",
       "      <td>25897</td>\n",
       "      <td>19798</td>\n",
       "      <td>17.4</td>\n",
       "      <td>137.3</td>\n",
       "      <td>219.4</td>\n",
       "      <td>9.2</td>\n",
       "    </tr>\n",
       "    <tr>\n",
       "      <th>78</th>\n",
       "      <td>78</td>\n",
       "      <td>78</td>\n",
       "      <td>Omaha,NE-IA</td>\n",
       "      <td>186260.0</td>\n",
       "      <td>25961</td>\n",
       "      <td>22514</td>\n",
       "      <td>15.6</td>\n",
       "      <td>139.6</td>\n",
       "      <td>322.1</td>\n",
       "      <td>10.5</td>\n",
       "    </tr>\n",
       "    <tr>\n",
       "      <th>79</th>\n",
       "      <td>79</td>\n",
       "      <td>79</td>\n",
       "      <td>Orlando,FL</td>\n",
       "      <td>205360.0</td>\n",
       "      <td>25204</td>\n",
       "      <td>20120</td>\n",
       "      <td>15.0</td>\n",
       "      <td>168.0</td>\n",
       "      <td>316.2</td>\n",
       "      <td>13.2</td>\n",
       "    </tr>\n",
       "    <tr>\n",
       "      <th>81</th>\n",
       "      <td>81</td>\n",
       "      <td>81</td>\n",
       "      <td>Philadelphia-Wilmington-AtlanticCity,</td>\n",
       "      <td>209200.0</td>\n",
       "      <td>32625</td>\n",
       "      <td>25055</td>\n",
       "      <td>14.8</td>\n",
       "      <td>168.6</td>\n",
       "      <td>385.6</td>\n",
       "      <td>13.8</td>\n",
       "    </tr>\n",
       "    <tr>\n",
       "      <th>82</th>\n",
       "      <td>82</td>\n",
       "      <td>82</td>\n",
       "      <td>Portland,ME NECMA</td>\n",
       "      <td>194580.0</td>\n",
       "      <td>26379</td>\n",
       "      <td>24090</td>\n",
       "      <td>12.4</td>\n",
       "      <td>173.2</td>\n",
       "      <td>346.2</td>\n",
       "      <td>13.7</td>\n",
       "    </tr>\n",
       "    <tr>\n",
       "      <th>83</th>\n",
       "      <td>83</td>\n",
       "      <td>83</td>\n",
       "      <td>Portland-Salem,OR-WA</td>\n",
       "      <td>178870.0</td>\n",
       "      <td>29112</td>\n",
       "      <td>22172</td>\n",
       "      <td>14.6</td>\n",
       "      <td>147.8</td>\n",
       "      <td>319.4</td>\n",
       "      <td>12.0</td>\n",
       "    </tr>\n",
       "    <tr>\n",
       "      <th>86</th>\n",
       "      <td>86</td>\n",
       "      <td>86</td>\n",
       "      <td>Reading,PA</td>\n",
       "      <td>215630.0</td>\n",
       "      <td>28205</td>\n",
       "      <td>22467</td>\n",
       "      <td>13.4</td>\n",
       "      <td>190.2</td>\n",
       "      <td>440.7</td>\n",
       "      <td>16.1</td>\n",
       "    </tr>\n",
       "    <tr>\n",
       "      <th>88</th>\n",
       "      <td>88</td>\n",
       "      <td>88</td>\n",
       "      <td>Rochester,NY</td>\n",
       "      <td>179670.0</td>\n",
       "      <td>30241</td>\n",
       "      <td>22593</td>\n",
       "      <td>14.0</td>\n",
       "      <td>169.0</td>\n",
       "      <td>342.5</td>\n",
       "      <td>12.8</td>\n",
       "    </tr>\n",
       "    <tr>\n",
       "      <th>89</th>\n",
       "      <td>89</td>\n",
       "      <td>89</td>\n",
       "      <td>Rockford,IL</td>\n",
       "      <td>160050.0</td>\n",
       "      <td>28093</td>\n",
       "      <td>20838</td>\n",
       "      <td>14.6</td>\n",
       "      <td>170.8</td>\n",
       "      <td>316.5</td>\n",
       "      <td>12.8</td>\n",
       "    </tr>\n",
       "    <tr>\n",
       "      <th>90</th>\n",
       "      <td>90</td>\n",
       "      <td>90</td>\n",
       "      <td>Sacramento-Yolo,CA</td>\n",
       "      <td>196420.0</td>\n",
       "      <td>29519</td>\n",
       "      <td>21811</td>\n",
       "      <td>15.9</td>\n",
       "      <td>139.0</td>\n",
       "      <td>271.1</td>\n",
       "      <td>11.5</td>\n",
       "    </tr>\n",
       "    <tr>\n",
       "      <th>92</th>\n",
       "      <td>92</td>\n",
       "      <td>92</td>\n",
       "      <td>SanFrancisco-Oakland-SanJose,CA</td>\n",
       "      <td>229110.0</td>\n",
       "      <td>37966</td>\n",
       "      <td>28322</td>\n",
       "      <td>15.3</td>\n",
       "      <td>128.1</td>\n",
       "      <td>280.4</td>\n",
       "      <td>11.7</td>\n",
       "    </tr>\n",
       "    <tr>\n",
       "      <th>97</th>\n",
       "      <td>97</td>\n",
       "      <td>97</td>\n",
       "      <td>SouthBend,IN</td>\n",
       "      <td>172110.0</td>\n",
       "      <td>25661</td>\n",
       "      <td>20587</td>\n",
       "      <td>14.3</td>\n",
       "      <td>180.7</td>\n",
       "      <td>399.7</td>\n",
       "      <td>14.2</td>\n",
       "    </tr>\n",
       "    <tr>\n",
       "      <th>100</th>\n",
       "      <td>100</td>\n",
       "      <td>100</td>\n",
       "      <td>Steubenville-Weirton,OH-WV</td>\n",
       "      <td>213310.0</td>\n",
       "      <td>26245</td>\n",
       "      <td>17643</td>\n",
       "      <td>10.6</td>\n",
       "      <td>228.2</td>\n",
       "      <td>493.4</td>\n",
       "      <td>17.2</td>\n",
       "    </tr>\n",
       "    <tr>\n",
       "      <th>106</th>\n",
       "      <td>106</td>\n",
       "      <td>106</td>\n",
       "      <td>Waterloo-CedarFalls,IA</td>\n",
       "      <td>211060.0</td>\n",
       "      <td>25170</td>\n",
       "      <td>19444</td>\n",
       "      <td>13.0</td>\n",
       "      <td>187.8</td>\n",
       "      <td>422.1</td>\n",
       "      <td>13.5</td>\n",
       "    </tr>\n",
       "    <tr>\n",
       "      <th>107</th>\n",
       "      <td>107</td>\n",
       "      <td>107</td>\n",
       "      <td>WestPalmBeach-BocaRaton,FL</td>\n",
       "      <td>305020.0</td>\n",
       "      <td>29057</td>\n",
       "      <td>33519</td>\n",
       "      <td>13.3</td>\n",
       "      <td>255.2</td>\n",
       "      <td>528.4</td>\n",
       "      <td>24.3</td>\n",
       "    </tr>\n",
       "    <tr>\n",
       "      <th>109</th>\n",
       "      <td>109</td>\n",
       "      <td>109</td>\n",
       "      <td>Youngstown-Warren,OH</td>\n",
       "      <td>211620.0</td>\n",
       "      <td>25981</td>\n",
       "      <td>19155</td>\n",
       "      <td>12.8</td>\n",
       "      <td>212.3</td>\n",
       "      <td>477.9</td>\n",
       "      <td>16.2</td>\n",
       "    </tr>\n",
       "    <tr>\n",
       "      <th>110</th>\n",
       "      <td>110</td>\n",
       "      <td>110</td>\n",
       "      <td>KansasCity,MO-KS</td>\n",
       "      <td>NaN</td>\n",
       "      <td>28774</td>\n",
       "      <td>22642</td>\n",
       "      <td>14.4</td>\n",
       "      <td>148.8</td>\n",
       "      <td>338.5</td>\n",
       "      <td>11.4</td>\n",
       "    </tr>\n",
       "  </tbody>\n",
       "</table>\n",
       "</div>"
      ],
      "text/plain": [
       "     Unnamed: 0.1  Unnamed: 0                                 Location  \\\n",
       "0               0           0               Albany-Schenectady-Troy,NY   \n",
       "1               1           1                           Albuquerque,NM   \n",
       "3               3           3                             Anchorage,AK   \n",
       "4               4           4               Appleton-Oshkosh-Neenah,WI   \n",
       "6               6           6                               Atlanta,GA   \n",
       "7               7           7                      Augusta-Aiken,GA-SC   \n",
       "8               8           8                      Austin-SanMarcos,TX   \n",
       "10             10          10                   Beaumont-PortArthur,TX   \n",
       "12             12          12                            Birmingham,AL   \n",
       "14             14          14  Boston-Worcester-Lawrence-Lowell-Brockt   \n",
       "15             15          15                      Canton-Massillon,OH   \n",
       "18             18          18                            Charleston,WV   \n",
       "21             21          21             Cincinnati-Hamilton,OH-KY-IN   \n",
       "23             23          23                       Cleveland-Akron,OH   \n",
       "25             25          25                              Columbus,OH   \n",
       "26             26          26                         CorpusChristi,TX   \n",
       "28             28          28                      Dallas-FortWorth,TX   \n",
       "29             29          29        Davenport-Moline-RockIsland,IA-IL   \n",
       "30             30          30                Denver-Boulder-Greeley,CO   \n",
       "31             31          31                             DesMoines,IA   \n",
       "35             35          35                                  Erie,PA   \n",
       "45             45          45    Greensboro--Winston-Salem--HighPoint,   \n",
       "47             47          47            Houston-Galveston-Brazoria,TX   \n",
       "49             49          49                            Huntsville,AL   \n",
       "50             50          50                          Indianapolis,IN   \n",
       "51             51          51                               Jackson,MI   \n",
       "53             53          53                     Janesville-Beloit,WI   \n",
       "56             56          56                                Kokomo,IN   \n",
       "58             58          58                             Lafayette,IN   \n",
       "59             59          59                           LakeCharles,LA   \n",
       "61             61          61                             Lexington,KY   \n",
       "62             62          62            LittleRock-NorthLittleRock,AR   \n",
       "64             64          64                         Louisville,KY-IN   \n",
       "67             67          67                         Memphis,TN-AR-MS   \n",
       "69             69          69                  Miami-FortLauderdale,FL   \n",
       "70             70          70                      Milwaukee-Racine,WI   \n",
       "73             73          73                                Muncie,IN   \n",
       "75             75          75     NewYork-No. NewJersey-LongIsland,NYA   \n",
       "77             77          77                        Odessa-Midland,TX   \n",
       "78             78          78                              Omaha,NE-IA   \n",
       "79             79          79                               Orlando,FL   \n",
       "81             81          81    Philadelphia-Wilmington-AtlanticCity,   \n",
       "82             82          82                        Portland,ME NECMA   \n",
       "83             83          83                     Portland-Salem,OR-WA   \n",
       "86             86          86                               Reading,PA   \n",
       "88             88          88                             Rochester,NY   \n",
       "89             89          89                              Rockford,IL   \n",
       "90             90          90                       Sacramento-Yolo,CA   \n",
       "92             92          92          SanFrancisco-Oakland-SanJose,CA   \n",
       "97             97          97                             SouthBend,IN   \n",
       "100           100         100               Steubenville-Weirton,OH-WV   \n",
       "106           106         106                   Waterloo-CedarFalls,IA   \n",
       "107           107         107               WestPalmBeach-BocaRaton,FL   \n",
       "109           109         109                     Youngstown-Warren,OH   \n",
       "110           110         110                         KansasCity,MO-KS   \n",
       "\n",
       "       Profit  Income  Disposable Income  Birth Rate (per 1,000)  \\\n",
       "0    199780.0   28719              22701                    13.1   \n",
       "1    165530.0   25835              19890                    15.8   \n",
       "3    166890.0   33501              27031                    18.5   \n",
       "4    209190.0   27107              21182                    13.6   \n",
       "6    182340.0   31354              23633                    16.2   \n",
       "7    161300.0   25976              18746                    15.4   \n",
       "8    172860.0   28707              20611                    16.2   \n",
       "10   186810.0   27318              18937                    14.8   \n",
       "12   191490.0   28520              21217                    14.2   \n",
       "14   228020.0   34383              26093                    14.2   \n",
       "15   207750.0   25109              19471                    13.2   \n",
       "18   199840.0   26700              21300                    13.8   \n",
       "21   198180.0   28878              21881                    14.7   \n",
       "23   197050.0   29355              22921                    14.2   \n",
       "25   154450.0   27888              22060                    15.4   \n",
       "26   160360.0   24976              17350                    16.8   \n",
       "28   172500.0   31713              23449                    17.3   \n",
       "29   206280.0   26510              20843                    13.4   \n",
       "30   148440.0   31198              24379                    15.0   \n",
       "31   195590.0   27528              23680                    15.2   \n",
       "35   195240.0   25941              19254                    14.0   \n",
       "45   181630.0   26130              21786                    13.4   \n",
       "47   162230.0   32620              22651                    17.8   \n",
       "49   160340.0   31473              21139                    14.5   \n",
       "50   193380.0   29137              23168                    15.8   \n",
       "51   200930.0   27640              18573                    13.5   \n",
       "53   206120.0   27832              20483                    13.8   \n",
       "56   189830.0   34779              21814                    13.7   \n",
       "58   157890.0   25990              18988                    13.3   \n",
       "59   166690.0   26059              17933                    16.0   \n",
       "61   159640.0   25746              20162                    13.9   \n",
       "62   152840.0   25392              19988                    15.0   \n",
       "64   203790.0   26628              22080                    14.0   \n",
       "67   163370.0   27912              21564                    17.3   \n",
       "69   211650.0   28056              21918                    15.4   \n",
       "70   195090.0   28979              23729                    15.0   \n",
       "73   184420.0   25144              19292                    12.1   \n",
       "75   230070.0   40089              29021                    15.8   \n",
       "77   179080.0   25897              19798                    17.4   \n",
       "78   186260.0   25961              22514                    15.6   \n",
       "79   205360.0   25204              20120                    15.0   \n",
       "81   209200.0   32625              25055                    14.8   \n",
       "82   194580.0   26379              24090                    12.4   \n",
       "83   178870.0   29112              22172                    14.6   \n",
       "86   215630.0   28205              22467                    13.4   \n",
       "88   179670.0   30241              22593                    14.0   \n",
       "89   160050.0   28093              20838                    14.6   \n",
       "90   196420.0   29519              21811                    15.9   \n",
       "92   229110.0   37966              28322                    15.3   \n",
       "97   172110.0   25661              20587                    14.3   \n",
       "100  213310.0   26245              17643                    10.6   \n",
       "106  211060.0   25170              19444                    13.0   \n",
       "107  305020.0   29057              33519                    13.3   \n",
       "109  211620.0   25981              19155                    12.8   \n",
       "110       NaN   28774              22642                    14.4   \n",
       "\n",
       "     Soc Security (per 1,000)  CV Death (per 100,000)  % 65 or Older  \n",
       "0                       177.7                   429.9           14.6  \n",
       "1                       143.8                   222.9           10.7  \n",
       "3                        62.5                    99.8            4.7  \n",
       "4                       152.6                   319.4           12.0  \n",
       "6                       110.8                   239.0            7.9  \n",
       "7                       147.4                   349.2            9.9  \n",
       "8                       101.0                   203.4            8.0  \n",
       "10                      179.3                   381.7           13.2  \n",
       "12                      178.2                   370.3           13.0  \n",
       "14                      161.3                   340.4           13.2  \n",
       "15                      190.2                   394.9           14.9  \n",
       "18                      208.9                   428.7           15.0  \n",
       "21                      156.3                   350.5           12.1  \n",
       "23                      178.3                   399.3           14.3  \n",
       "25                      132.5                   298.6           10.4  \n",
       "26                      141.9                   279.8           10.3  \n",
       "28                      111.3                   258.2            8.5  \n",
       "29                      177.0                   396.5           13.6  \n",
       "30                      120.9                   227.6            9.3  \n",
       "31                      149.1                   296.8           11.5  \n",
       "35                      181.5                   410.1           14.3  \n",
       "45                      171.7                   374.5           12.9  \n",
       "47                       99.3                   226.5            7.4  \n",
       "49                      125.3                   309.8            9.5  \n",
       "50                      151.9                   335.1           11.3  \n",
       "51                      173.9                   363.4           13.1  \n",
       "53                      167.6                   367.1           12.6  \n",
       "56                      178.5                   374.8           12.3  \n",
       "58                      134.0                   330.1           10.8  \n",
       "59                      169.2                   351.6           11.3  \n",
       "61                      139.4                   306.0           10.3  \n",
       "62                      159.0                   312.2           10.9  \n",
       "64                      173.8                   386.7           12.4  \n",
       "67                      144.8                   350.6           10.0  \n",
       "69                      169.8                   436.7           16.9  \n",
       "70                      167.0                   350.8           12.2  \n",
       "73                      176.6                   391.4           12.8  \n",
       "75                      157.0                   403.0           13.4  \n",
       "77                      137.3                   219.4            9.2  \n",
       "78                      139.6                   322.1           10.5  \n",
       "79                      168.0                   316.2           13.2  \n",
       "81                      168.6                   385.6           13.8  \n",
       "82                      173.2                   346.2           13.7  \n",
       "83                      147.8                   319.4           12.0  \n",
       "86                      190.2                   440.7           16.1  \n",
       "88                      169.0                   342.5           12.8  \n",
       "89                      170.8                   316.5           12.8  \n",
       "90                      139.0                   271.1           11.5  \n",
       "92                      128.1                   280.4           11.7  \n",
       "97                      180.7                   399.7           14.2  \n",
       "100                     228.2                   493.4           17.2  \n",
       "106                     187.8                   422.1           13.5  \n",
       "107                     255.2                   528.4           24.3  \n",
       "109                     212.3                   477.9           16.2  \n",
       "110                     148.8                   338.5           11.4  "
      ]
     },
     "execution_count": 82,
     "metadata": {},
     "output_type": "execute_result"
    }
   ],
   "source": [
    "median_income=profitdata[\"Income\"].median()\n",
    "profitdata[profitdata[\"Income\"]>median_income] #those with income above the median"
   ]
  },
  {
   "cell_type": "code",
   "execution_count": 84,
   "metadata": {
    "colab": {
     "base_uri": "https://localhost:8080/"
    },
    "id": "G-BVoqS6Ovtn",
    "outputId": "8202f3d1-0f94-4c1f-8ee4-edce08d11555"
   },
   "outputs": [
    {
     "data": {
      "text/plain": [
       "190132.40740740742"
      ]
     },
     "execution_count": 84,
     "metadata": {},
     "output_type": "execute_result"
    }
   ],
   "source": [
    "profitdata[profitdata[\"Income\"]>median_income][\"Profit\"].mean()\n",
    "#compute average profit for the stores whose income is above median "
   ]
  },
  {
   "cell_type": "code",
   "execution_count": 85,
   "metadata": {
    "colab": {
     "base_uri": "https://localhost:8080/"
    },
    "id": "6dSh5VZ5PS-i",
    "outputId": "7d76a5d4-a7a4-4c95-a0f7-0933d6a633f9"
   },
   "outputs": [
    {
     "data": {
      "text/plain": [
       "178180.18181818182"
      ]
     },
     "execution_count": 85,
     "metadata": {},
     "output_type": "execute_result"
    }
   ],
   "source": [
    "profitdata[profitdata[\"Income\"]<median_income][\"Profit\"].mean()\n",
    "#compute average profit for the stores whose income is below median "
   ]
  },
  {
   "cell_type": "markdown",
   "metadata": {
    "id": "Eeawj357Hxpu"
   },
   "source": [
    "### **Selection with multiple conditions**"
   ]
  },
  {
   "cell_type": "code",
   "execution_count": 86,
   "metadata": {
    "id": "_0fcXyvYIHuX"
   },
   "outputs": [],
   "source": [
    "Q1=profitdata[\"Income\"].quantile(0.25)\n",
    "Q3=profitdata[\"Income\"].quantile(0.75)\n"
   ]
  },
  {
   "cell_type": "code",
   "execution_count": 87,
   "metadata": {
    "colab": {
     "base_uri": "https://localhost:8080/",
     "height": 277
    },
    "id": "bjgn0Uk4IHqE",
    "outputId": "70f2075c-b7b9-424b-9869-3de39705f26b"
   },
   "outputs": [
    {
     "data": {
      "text/html": [
       "<div>\n",
       "<style scoped>\n",
       "    .dataframe tbody tr th:only-of-type {\n",
       "        vertical-align: middle;\n",
       "    }\n",
       "\n",
       "    .dataframe tbody tr th {\n",
       "        vertical-align: top;\n",
       "    }\n",
       "\n",
       "    .dataframe thead th {\n",
       "        text-align: right;\n",
       "    }\n",
       "</style>\n",
       "<table border=\"1\" class=\"dataframe\">\n",
       "  <thead>\n",
       "    <tr style=\"text-align: right;\">\n",
       "      <th></th>\n",
       "      <th>Unnamed: 0.1</th>\n",
       "      <th>Unnamed: 0</th>\n",
       "      <th>Location</th>\n",
       "      <th>Profit</th>\n",
       "      <th>Income</th>\n",
       "      <th>Disposable Income</th>\n",
       "      <th>Birth Rate (per 1,000)</th>\n",
       "      <th>Soc Security (per 1,000)</th>\n",
       "      <th>CV Death (per 100,000)</th>\n",
       "      <th>% 65 or Older</th>\n",
       "    </tr>\n",
       "  </thead>\n",
       "  <tbody>\n",
       "    <tr>\n",
       "      <th>1</th>\n",
       "      <td>1</td>\n",
       "      <td>1</td>\n",
       "      <td>Albuquerque,NM</td>\n",
       "      <td>165530.0</td>\n",
       "      <td>25835</td>\n",
       "      <td>19890</td>\n",
       "      <td>15.8</td>\n",
       "      <td>143.8</td>\n",
       "      <td>222.9</td>\n",
       "      <td>10.7</td>\n",
       "    </tr>\n",
       "    <tr>\n",
       "      <th>4</th>\n",
       "      <td>4</td>\n",
       "      <td>4</td>\n",
       "      <td>Appleton-Oshkosh-Neenah,WI</td>\n",
       "      <td>209190.0</td>\n",
       "      <td>27107</td>\n",
       "      <td>21182</td>\n",
       "      <td>13.6</td>\n",
       "      <td>152.6</td>\n",
       "      <td>319.4</td>\n",
       "      <td>12.0</td>\n",
       "    </tr>\n",
       "    <tr>\n",
       "      <th>5</th>\n",
       "      <td>5</td>\n",
       "      <td>5</td>\n",
       "      <td>Athens,GA</td>\n",
       "      <td>162600.0</td>\n",
       "      <td>23304</td>\n",
       "      <td>18148</td>\n",
       "      <td>12.9</td>\n",
       "      <td>125.4</td>\n",
       "      <td>254.6</td>\n",
       "      <td>9.4</td>\n",
       "    </tr>\n",
       "    <tr>\n",
       "      <th>7</th>\n",
       "      <td>7</td>\n",
       "      <td>7</td>\n",
       "      <td>Augusta-Aiken,GA-SC</td>\n",
       "      <td>161300.0</td>\n",
       "      <td>25976</td>\n",
       "      <td>18746</td>\n",
       "      <td>15.4</td>\n",
       "      <td>147.4</td>\n",
       "      <td>349.2</td>\n",
       "      <td>9.9</td>\n",
       "    </tr>\n",
       "    <tr>\n",
       "      <th>9</th>\n",
       "      <td>9</td>\n",
       "      <td>9</td>\n",
       "      <td>Bangor,ME NECMA</td>\n",
       "      <td>158400.0</td>\n",
       "      <td>23523</td>\n",
       "      <td>18291</td>\n",
       "      <td>11.0</td>\n",
       "      <td>172.6</td>\n",
       "      <td>338.2</td>\n",
       "      <td>12.2</td>\n",
       "    </tr>\n",
       "  </tbody>\n",
       "</table>\n",
       "</div>"
      ],
      "text/plain": [
       "   Unnamed: 0.1  Unnamed: 0                    Location    Profit  Income  \\\n",
       "1             1           1              Albuquerque,NM  165530.0   25835   \n",
       "4             4           4  Appleton-Oshkosh-Neenah,WI  209190.0   27107   \n",
       "5             5           5                   Athens,GA  162600.0   23304   \n",
       "7             7           7         Augusta-Aiken,GA-SC  161300.0   25976   \n",
       "9             9           9             Bangor,ME NECMA  158400.0   23523   \n",
       "\n",
       "   Disposable Income  Birth Rate (per 1,000)  Soc Security (per 1,000)  \\\n",
       "1              19890                    15.8                     143.8   \n",
       "4              21182                    13.6                     152.6   \n",
       "5              18148                    12.9                     125.4   \n",
       "7              18746                    15.4                     147.4   \n",
       "9              18291                    11.0                     172.6   \n",
       "\n",
       "   CV Death (per 100,000)  % 65 or Older  \n",
       "1                   222.9           10.7  \n",
       "4                   319.4           12.0  \n",
       "5                   254.6            9.4  \n",
       "7                   349.2            9.9  \n",
       "9                   338.2           12.2  "
      ]
     },
     "execution_count": 87,
     "metadata": {},
     "output_type": "execute_result"
    }
   ],
   "source": [
    "# condition 1 and condition 2\n",
    "profitdata[(profitdata[\"Income\"]>Q1) & (profitdata[\"Income\"]<Q3)].head()"
   ]
  },
  {
   "cell_type": "code",
   "execution_count": 88,
   "metadata": {
    "colab": {
     "base_uri": "https://localhost:8080/",
     "height": 261
    },
    "id": "wQgQ_Ohdjt1L",
    "outputId": "0a1b606d-ad3a-432c-d94c-dbe4fc6b59b5"
   },
   "outputs": [
    {
     "data": {
      "text/html": [
       "<div>\n",
       "<style scoped>\n",
       "    .dataframe tbody tr th:only-of-type {\n",
       "        vertical-align: middle;\n",
       "    }\n",
       "\n",
       "    .dataframe tbody tr th {\n",
       "        vertical-align: top;\n",
       "    }\n",
       "\n",
       "    .dataframe thead th {\n",
       "        text-align: right;\n",
       "    }\n",
       "</style>\n",
       "<table border=\"1\" class=\"dataframe\">\n",
       "  <thead>\n",
       "    <tr style=\"text-align: right;\">\n",
       "      <th></th>\n",
       "      <th>Unnamed: 0.1</th>\n",
       "      <th>Unnamed: 0</th>\n",
       "      <th>Location</th>\n",
       "      <th>Profit</th>\n",
       "      <th>Income</th>\n",
       "      <th>Disposable Income</th>\n",
       "      <th>Birth Rate (per 1,000)</th>\n",
       "      <th>Soc Security (per 1,000)</th>\n",
       "      <th>CV Death (per 100,000)</th>\n",
       "      <th>% 65 or Older</th>\n",
       "    </tr>\n",
       "  </thead>\n",
       "  <tbody>\n",
       "    <tr>\n",
       "      <th>0</th>\n",
       "      <td>0</td>\n",
       "      <td>0</td>\n",
       "      <td>Albany-Schenectady-Troy,NY</td>\n",
       "      <td>199780.0</td>\n",
       "      <td>28719</td>\n",
       "      <td>22701</td>\n",
       "      <td>13.1</td>\n",
       "      <td>177.7</td>\n",
       "      <td>429.9</td>\n",
       "      <td>14.6</td>\n",
       "    </tr>\n",
       "    <tr>\n",
       "      <th>2</th>\n",
       "      <td>2</td>\n",
       "      <td>2</td>\n",
       "      <td>Altoona,PA</td>\n",
       "      <td>208670.0</td>\n",
       "      <td>22675</td>\n",
       "      <td>18051</td>\n",
       "      <td>11.6</td>\n",
       "      <td>179.8</td>\n",
       "      <td>561.5</td>\n",
       "      <td>17.6</td>\n",
       "    </tr>\n",
       "    <tr>\n",
       "      <th>3</th>\n",
       "      <td>3</td>\n",
       "      <td>3</td>\n",
       "      <td>Anchorage,AK</td>\n",
       "      <td>166890.0</td>\n",
       "      <td>33501</td>\n",
       "      <td>27031</td>\n",
       "      <td>18.5</td>\n",
       "      <td>62.5</td>\n",
       "      <td>99.8</td>\n",
       "      <td>4.7</td>\n",
       "    </tr>\n",
       "    <tr>\n",
       "      <th>6</th>\n",
       "      <td>6</td>\n",
       "      <td>6</td>\n",
       "      <td>Atlanta,GA</td>\n",
       "      <td>182340.0</td>\n",
       "      <td>31354</td>\n",
       "      <td>23633</td>\n",
       "      <td>16.2</td>\n",
       "      <td>110.8</td>\n",
       "      <td>239.0</td>\n",
       "      <td>7.9</td>\n",
       "    </tr>\n",
       "    <tr>\n",
       "      <th>8</th>\n",
       "      <td>8</td>\n",
       "      <td>8</td>\n",
       "      <td>Austin-SanMarcos,TX</td>\n",
       "      <td>172860.0</td>\n",
       "      <td>28707</td>\n",
       "      <td>20611</td>\n",
       "      <td>16.2</td>\n",
       "      <td>101.0</td>\n",
       "      <td>203.4</td>\n",
       "      <td>8.0</td>\n",
       "    </tr>\n",
       "  </tbody>\n",
       "</table>\n",
       "</div>"
      ],
      "text/plain": [
       "   Unnamed: 0.1  Unnamed: 0                    Location    Profit  Income  \\\n",
       "0             0           0  Albany-Schenectady-Troy,NY  199780.0   28719   \n",
       "2             2           2                  Altoona,PA  208670.0   22675   \n",
       "3             3           3                Anchorage,AK  166890.0   33501   \n",
       "6             6           6                  Atlanta,GA  182340.0   31354   \n",
       "8             8           8         Austin-SanMarcos,TX  172860.0   28707   \n",
       "\n",
       "   Disposable Income  Birth Rate (per 1,000)  Soc Security (per 1,000)  \\\n",
       "0              22701                    13.1                     177.7   \n",
       "2              18051                    11.6                     179.8   \n",
       "3              27031                    18.5                      62.5   \n",
       "6              23633                    16.2                     110.8   \n",
       "8              20611                    16.2                     101.0   \n",
       "\n",
       "   CV Death (per 100,000)  % 65 or Older  \n",
       "0                   429.9           14.6  \n",
       "2                   561.5           17.6  \n",
       "3                    99.8            4.7  \n",
       "6                   239.0            7.9  \n",
       "8                   203.4            8.0  "
      ]
     },
     "execution_count": 88,
     "metadata": {},
     "output_type": "execute_result"
    }
   ],
   "source": [
    "# condition 1 or condition 2\n",
    "profitdata[(profitdata[\"Income\"]<Q1) | (profitdata[\"Income\"]>Q3)].head()"
   ]
  },
  {
   "cell_type": "markdown",
   "metadata": {
    "id": "-M9ALuqbIFbd"
   },
   "source": [
    "### **Practice**\n",
    "Select data from profitdata whose profit and income are all in the upper tail."
   ]
  },
  {
   "cell_type": "code",
   "execution_count": null,
   "metadata": {
    "colab": {
     "base_uri": "https://localhost:8080/",
     "height": 432
    },
    "id": "MeSTu9fhQ2fS",
    "outputId": "5d57c7b8-ca18-4098-9a0a-d0a7716f073b"
   },
   "outputs": [],
   "source": []
  }
 ],
 "metadata": {
  "colab": {
   "provenance": []
  },
  "kernelspec": {
   "display_name": "base",
   "language": "python",
   "name": "python3"
  },
  "language_info": {
   "codemirror_mode": {
    "name": "ipython",
    "version": 3
   },
   "file_extension": ".py",
   "mimetype": "text/x-python",
   "name": "python",
   "nbconvert_exporter": "python",
   "pygments_lexer": "ipython3",
   "version": "3.12.7"
  },
  "nteract": {
   "version": "0.27.0"
  }
 },
 "nbformat": 4,
 "nbformat_minor": 4
}

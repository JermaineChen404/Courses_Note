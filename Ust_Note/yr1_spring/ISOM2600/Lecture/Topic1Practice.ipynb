{
  "cells": [
    {
      "cell_type": "code",
      "execution_count": null,
      "metadata": {
        "id": "OZT4DUZPZNKI"
      },
      "outputs": [],
      "source": [
        "import numpy as np\n",
        "import matplotlib.pyplot as plt\n",
        "import scipy.stats as sci"
      ]
    },
    {
      "cell_type": "code",
      "source": [],
      "metadata": {
        "id": "rXXxBrfz0iLy"
      },
      "execution_count": null,
      "outputs": []
    },
    {
      "cell_type": "code",
      "source": [],
      "metadata": {
        "id": "WuGLlf7z0igT"
      },
      "execution_count": null,
      "outputs": []
    },
    {
      "cell_type": "markdown",
      "metadata": {
        "id": "jh8b-Vg4ZNKM"
      },
      "source": [
        "# Q2"
      ]
    },
    {
      "cell_type": "code",
      "execution_count": null,
      "metadata": {
        "id": "Mw4KpEfFZNKN",
        "outputId": "2579c9a4-68b0-4a05-9e0e-fc13336b0f29",
        "colab": {
          "base_uri": "https://localhost:8080/"
        }
      },
      "outputs": [
        {
          "output_type": "stream",
          "name": "stdout",
          "text": [
            "[0, 0, 0, 0, 0, 0, 0, 0, 0, 0, 0, 0, 0, 0, 0, 0, 0, 1, 0, 1, 0, 0, 0, 1, 0, 0, 0, 0, 0]\n"
          ]
        },
        {
          "output_type": "execute_result",
          "data": {
            "text/plain": [
              "3"
            ]
          },
          "metadata": {},
          "execution_count": 2
        }
      ],
      "source": [
        "word = \"Python Code for Data Analysis\"\n",
        "count = [1 if x == 'a' else 0 for x in word]\n",
        "print(count)\n",
        "np.array(count).sum()"
      ]
    },
    {
      "cell_type": "markdown",
      "metadata": {
        "id": "Oa7Gs1diZNKP"
      },
      "source": [
        "# Q3"
      ]
    },
    {
      "cell_type": "markdown",
      "metadata": {
        "id": "jp08xeP6ZNKR"
      },
      "source": [
        "# Q4"
      ]
    },
    {
      "cell_type": "code",
      "execution_count": null,
      "metadata": {
        "id": "-L_T71o7ZNKQ",
        "outputId": "17fc9838-7787-4d23-f125-25656e7a38fa",
        "colab": {
          "base_uri": "https://localhost:8080/"
        }
      },
      "outputs": [
        {
          "output_type": "stream",
          "name": "stdout",
          "text": [
            "TrueFalse\n"
          ]
        },
        {
          "output_type": "execute_result",
          "data": {
            "text/plain": [
              "str"
            ]
          },
          "metadata": {},
          "execution_count": 3
        }
      ],
      "source": [
        "a = \"True\"\n",
        "b = \"False\"\n",
        "print(a+b)\n",
        "type(a+b)"
      ]
    },
    {
      "cell_type": "code",
      "execution_count": null,
      "metadata": {
        "id": "ItvJBkT8ZNKS"
      },
      "outputs": [],
      "source": [
        "A = np.arange(0,1,1000)\n",
        "B = np.random.randn(1000)\n",
        "C = np.random.rand(1000)\n",
        "D = sci.norm.rvs(0,1,10000)"
      ]
    },
    {
      "cell_type": "code",
      "execution_count": null,
      "metadata": {
        "id": "2pQWjnx7ZNKT",
        "outputId": "18f5e735-5246-4a22-a432-9b4757f4598b",
        "colab": {
          "base_uri": "https://localhost:8080/",
          "height": 265
        }
      },
      "outputs": [
        {
          "output_type": "display_data",
          "data": {
            "text/plain": [
              "<Figure size 432x288 with 1 Axes>"
            ],
            "image/png": "[encoded data removed]"
          },
          "metadata": {
            "needs_background": "light"
          }
        }
      ],
      "source": [
        "x = C\n",
        "plt.hist(x, density = True)\n",
        "plt.show()"
      ]
    },
    {
      "cell_type": "markdown",
      "metadata": {
        "id": "I3IoIpj8ZNKU"
      },
      "source": [
        "# Q5"
      ]
    },
    {
      "cell_type": "code",
      "execution_count": null,
      "metadata": {
        "id": "QDFscNMNZNKV",
        "outputId": "e532a17a-82ac-4e9d-bfd1-4ade68538f1c",
        "colab": {
          "base_uri": "https://localhost:8080/"
        }
      },
      "outputs": [
        {
          "output_type": "stream",
          "name": "stdout",
          "text": [
            "[10, 20, 30, 40, 50, 60]\n",
            "[10, 20, 30, 40, 50, 60, 60]\n",
            "[10, 20, 30, 40, 50, 60, 60, 60]\n"
          ]
        }
      ],
      "source": [
        "sampleList = [10, 20, 30, 40, 50]\n",
        "sampleList.append(60)\n",
        "print(sampleList)\n",
        "\n",
        "sampleList.append(60)\n",
        "print(sampleList)\n",
        "\n",
        "sampleList.append(60)\n",
        "print(sampleList)"
      ]
    }
  ],
  "metadata": {
    "kernelspec": {
      "display_name": "Python 3",
      "language": "python",
      "name": "python3"
    },
    "language_info": {
      "codemirror_mode": {
        "name": "ipython",
        "version": 3
      },
      "file_extension": ".py",
      "mimetype": "text/x-python",
      "name": "python",
      "nbconvert_exporter": "python",
      "pygments_lexer": "ipython3",
      "version": "3.7.3"
    },
    "colab": {
      "provenance": []
    }
  },
  "nbformat": 4,
  "nbformat_minor": 0
}
{
  "cells": [
    {
      "cell_type": "markdown",
      "metadata": {
        "id": "AntaR4mLZE9_"
      },
      "source": [
        "# Part 1: Install Packages and Import Libraries"
      ]
    },
    {
      "cell_type": "code",
      "execution_count": 102,
      "metadata": {
        "colab": {
          "base_uri": "https://localhost:8080/"
        },
        "id": "gHUHBUCOZExU",
        "outputId": "b0b6cc30-c2b8-430e-a682-12fece47679e"
      },
      "outputs": [
        {
          "name": "stderr",
          "output_type": "stream",
          "text": [
            "ERROR: Could not find a version that satisfies the requirement google.colab (from versions: none)\n",
            "ERROR: No matching distribution found for google.colab\n"
          ]
        }
      ],
      "source": [
        "# @title Install Packages { run: \"auto\", vertical-output: true, form-width: \"50%\", display-mode: \"form\" }\n",
        "!pip install isom2600 --quiet\n",
        "!pip install yfinance --quiet"
      ]
    },
    {
      "cell_type": "markdown",
      "metadata": {
        "id": "FbcOhdpN4BGr"
      },
      "source": [
        "Optional: It tells Python’s package installer (pip) to reduce the amount of output shown in the terminal when you’re installing packages. ***isom2600*** is the package we will use through out the course, it is not pre-installed in Colab, so please install it everytime when you want to run the notebooks from ISOM 2600."
      ]
    },
    {
      "cell_type": "markdown",
      "metadata": {
        "id": "20YQq-QoxpYY"
      },
      "source": []
    },
    {
      "cell_type": "code",
      "execution_count": 100,
      "metadata": {
        "id": "k5qMYId8UEnt"
      },
      "outputs": [],
      "source": [
        "# @title Import Libraries { run: \"auto\", vertical-output: true, form-width: \"50%\", display-mode: \"form\" }\n",
        "#import numpy\n",
        "import numpy as np\n",
        "import scipy as sp\n",
        "import isom2600\n",
        "import matplotlib.pyplot as plt\n",
        "from matplotlib import  pyplot as plt\n",
        "plt.style.use('ggplot')\n",
        "import warnings\n",
        "warnings.filterwarnings('ignore')\n"
      ]
    },
    {
      "cell_type": "code",
      "execution_count": null,
      "metadata": {
        "colab": {
          "base_uri": "https://localhost:8080/",
          "height": 455
        },
        "id": "wV-sQC_ttOVd",
        "outputId": "5dce5d3d-0bbc-4aba-c85a-9b9cc1ff6afa"
      },
      "outputs": [
        {
          "data": {
            "application/vnd.google.colaboratory.intrinsic+json": {
              "summary": "{\n  \"name\": \"isom2600\",\n  \"rows\": 254,\n  \"fields\": [\n    {\n      \"column\": \"Date\",\n      \"properties\": {\n        \"dtype\": \"date\",\n        \"min\": \"2019-12-31 00:00:00\",\n        \"max\": \"2020-12-31 00:00:00\",\n        \"num_unique_values\": 254,\n        \"samples\": [\n          \"2020-10-01 00:00:00\",\n          \"2020-01-09 00:00:00\",\n          \"2020-04-24 00:00:00\"\n        ],\n        \"semantic_type\": \"\",\n        \"description\": \"\"\n      }\n    },\n    {\n      \"column\": \"Open\",\n      \"properties\": {\n        \"dtype\": \"number\",\n        \"std\": 317.73317350210675,\n        \"min\": 2290.709961,\n        \"max\": 3750.01001,\n        \"num_unique_values\": 254,\n        \"samples\": [\n          3385.870117,\n          3266.030029,\n          2812.639893\n        ],\n        \"semantic_type\": \"\",\n        \"description\": \"\"\n      }\n    },\n    {\n      \"column\": \"High\",\n      \"properties\": {\n        \"dtype\": \"number\",\n        \"std\": 308.0232066394434,\n        \"min\": 2300.72998,\n        \"max\": 3760.199951,\n        \"num_unique_values\": 254,\n        \"samples\": [\n          3397.179932,\n          3275.580078,\n          2842.709961\n        ],\n        \"semantic_type\": \"\",\n        \"description\": \"\"\n      }\n    },\n    {\n      \"column\": \"Low\",\n      \"properties\": {\n        \"dtype\": \"number\",\n        \"std\": 329.5830362010508,\n        \"min\": 2191.860107,\n        \"max\": 3730.209961,\n        \"num_unique_values\": 254,\n        \"samples\": [\n          3361.389893,\n          3263.669922,\n          2791.76001\n        ],\n        \"semantic_type\": \"\",\n        \"description\": \"\"\n      }\n    },\n    {\n      \"column\": \"Close\",\n      \"properties\": {\n        \"dtype\": \"number\",\n        \"std\": 318.5956822281796,\n        \"min\": 2237.399902,\n        \"max\": 3756.070068,\n        \"num_unique_values\": 254,\n        \"samples\": [\n          3380.800049,\n          3274.699951,\n          2836.73999\n        ],\n        \"semantic_type\": \"\",\n        \"description\": \"\"\n      }\n    },\n    {\n      \"column\": \"Adj Close\",\n      \"properties\": {\n        \"dtype\": \"number\",\n        \"std\": 318.5956822281796,\n        \"min\": 2237.399902,\n        \"max\": 3756.070068,\n        \"num_unique_values\": 254,\n        \"samples\": [\n          3380.800049,\n          3274.699951,\n          2836.73999\n        ],\n        \"semantic_type\": \"\",\n        \"description\": \"\"\n      }\n    },\n    {\n      \"column\": \"Volume\",\n      \"properties\": {\n        \"dtype\": \"number\",\n        \"std\": 1351097236,\n        \"min\": 1885090000,\n        \"max\": 9044690000,\n        \"num_unique_values\": 254,\n        \"samples\": [\n          4070530000,\n          3638390000,\n          5374480000\n        ],\n        \"semantic_type\": \"\",\n        \"description\": \"\"\n      }\n    }\n  ]\n}",
              "type": "dataframe"
            },
            "text/html": [
              "\n",
              "  <div id=\"df-be010b57-9da9-4395-aeeb-2086ecf14438\" class=\"colab-df-container\">\n",
              "    <div>\n",
              "<style scoped>\n",
              "    .dataframe tbody tr th:only-of-type {\n",
              "        vertical-align: middle;\n",
              "    }\n",
              "\n",
              "    .dataframe tbody tr th {\n",
              "        vertical-align: top;\n",
              "    }\n",
              "\n",
              "    .dataframe thead th {\n",
              "        text-align: right;\n",
              "    }\n",
              "</style>\n",
              "<table border=\"1\" class=\"dataframe\">\n",
              "  <thead>\n",
              "    <tr style=\"text-align: right;\">\n",
              "      <th></th>\n",
              "      <th>Open</th>\n",
              "      <th>High</th>\n",
              "      <th>Low</th>\n",
              "      <th>Close</th>\n",
              "      <th>Adj Close</th>\n",
              "      <th>Volume</th>\n",
              "    </tr>\n",
              "    <tr>\n",
              "      <th>Date</th>\n",
              "      <th></th>\n",
              "      <th></th>\n",
              "      <th></th>\n",
              "      <th></th>\n",
              "      <th></th>\n",
              "      <th></th>\n",
              "    </tr>\n",
              "  </thead>\n",
              "  <tbody>\n",
              "    <tr>\n",
              "      <th>2019-12-31</th>\n",
              "      <td>3215.179932</td>\n",
              "      <td>3231.719971</td>\n",
              "      <td>3212.030029</td>\n",
              "      <td>3230.780029</td>\n",
              "      <td>3230.780029</td>\n",
              "      <td>2893810000</td>\n",
              "    </tr>\n",
              "    <tr>\n",
              "      <th>2020-01-02</th>\n",
              "      <td>3244.669922</td>\n",
              "      <td>3258.139893</td>\n",
              "      <td>3235.530029</td>\n",
              "      <td>3257.850098</td>\n",
              "      <td>3257.850098</td>\n",
              "      <td>3458250000</td>\n",
              "    </tr>\n",
              "    <tr>\n",
              "      <th>2020-01-03</th>\n",
              "      <td>3226.360107</td>\n",
              "      <td>3246.149902</td>\n",
              "      <td>3222.340088</td>\n",
              "      <td>3234.850098</td>\n",
              "      <td>3234.850098</td>\n",
              "      <td>3461290000</td>\n",
              "    </tr>\n",
              "    <tr>\n",
              "      <th>2020-01-06</th>\n",
              "      <td>3217.550049</td>\n",
              "      <td>3246.840088</td>\n",
              "      <td>3214.639893</td>\n",
              "      <td>3246.280029</td>\n",
              "      <td>3246.280029</td>\n",
              "      <td>3674070000</td>\n",
              "    </tr>\n",
              "    <tr>\n",
              "      <th>2020-01-07</th>\n",
              "      <td>3241.860107</td>\n",
              "      <td>3244.909912</td>\n",
              "      <td>3232.429932</td>\n",
              "      <td>3237.179932</td>\n",
              "      <td>3237.179932</td>\n",
              "      <td>3420380000</td>\n",
              "    </tr>\n",
              "    <tr>\n",
              "      <th>...</th>\n",
              "      <td>...</td>\n",
              "      <td>...</td>\n",
              "      <td>...</td>\n",
              "      <td>...</td>\n",
              "      <td>...</td>\n",
              "      <td>...</td>\n",
              "    </tr>\n",
              "    <tr>\n",
              "      <th>2020-12-24</th>\n",
              "      <td>3694.030029</td>\n",
              "      <td>3703.820068</td>\n",
              "      <td>3689.320068</td>\n",
              "      <td>3703.060059</td>\n",
              "      <td>3703.060059</td>\n",
              "      <td>1885090000</td>\n",
              "    </tr>\n",
              "    <tr>\n",
              "      <th>2020-12-28</th>\n",
              "      <td>3723.030029</td>\n",
              "      <td>3740.510010</td>\n",
              "      <td>3723.030029</td>\n",
              "      <td>3735.360107</td>\n",
              "      <td>3735.360107</td>\n",
              "      <td>3527460000</td>\n",
              "    </tr>\n",
              "    <tr>\n",
              "      <th>2020-12-29</th>\n",
              "      <td>3750.010010</td>\n",
              "      <td>3756.120117</td>\n",
              "      <td>3723.310059</td>\n",
              "      <td>3727.040039</td>\n",
              "      <td>3727.040039</td>\n",
              "      <td>3387030000</td>\n",
              "    </tr>\n",
              "    <tr>\n",
              "      <th>2020-12-30</th>\n",
              "      <td>3736.189941</td>\n",
              "      <td>3744.629883</td>\n",
              "      <td>3730.209961</td>\n",
              "      <td>3732.040039</td>\n",
              "      <td>3732.040039</td>\n",
              "      <td>3145200000</td>\n",
              "    </tr>\n",
              "    <tr>\n",
              "      <th>2020-12-31</th>\n",
              "      <td>3733.270020</td>\n",
              "      <td>3760.199951</td>\n",
              "      <td>3726.879883</td>\n",
              "      <td>3756.070068</td>\n",
              "      <td>3756.070068</td>\n",
              "      <td>3172510000</td>\n",
              "    </tr>\n",
              "  </tbody>\n",
              "</table>\n",
              "<p>254 rows × 6 columns</p>\n",
              "</div>\n",
              "    <div class=\"colab-df-buttons\">\n",
              "\n",
              "  <div class=\"colab-df-container\">\n",
              "    <button class=\"colab-df-convert\" onclick=\"convertToInteractive('df-be010b57-9da9-4395-aeeb-2086ecf14438')\"\n",
              "            title=\"Convert this dataframe to an interactive table.\"\n",
              "            style=\"display:none;\">\n",
              "\n",
              "  <svg xmlns=\"http://www.w3.org/2000/svg\" height=\"24px\" viewBox=\"0 -960 960 960\">\n",
              "    <path d=\"M120-120v-720h720v720H120Zm60-500h600v-160H180v160Zm220 220h160v-160H400v160Zm0 220h160v-160H400v160ZM180-400h160v-160H180v160Zm440 0h160v-160H620v160ZM180-180h160v-160H180v160Zm440 0h160v-160H620v160Z\"/>\n",
              "  </svg>\n",
              "    </button>\n",
              "\n",
              "  <style>\n",
              "    .colab-df-container {\n",
              "      display:flex;\n",
              "      gap: 12px;\n",
              "    }\n",
              "\n",
              "    .colab-df-convert {\n",
              "      background-color: #E8F0FE;\n",
              "      border: none;\n",
              "      border-radius: 50%;\n",
              "      cursor: pointer;\n",
              "      display: none;\n",
              "      fill: #1967D2;\n",
              "      height: 32px;\n",
              "      padding: 0 0 0 0;\n",
              "      width: 32px;\n",
              "    }\n",
              "\n",
              "    .colab-df-convert:hover {\n",
              "      background-color: #E2EBFA;\n",
              "      box-shadow: 0px 1px 2px rgba(60, 64, 67, 0.3), 0px 1px 3px 1px rgba(60, 64, 67, 0.15);\n",
              "      fill: #174EA6;\n",
              "    }\n",
              "\n",
              "    .colab-df-buttons div {\n",
              "      margin-bottom: 4px;\n",
              "    }\n",
              "\n",
              "    [theme=dark] .colab-df-convert {\n",
              "      background-color: #3B4455;\n",
              "      fill: #D2E3FC;\n",
              "    }\n",
              "\n",
              "    [theme=dark] .colab-df-convert:hover {\n",
              "      background-color: #434B5C;\n",
              "      box-shadow: 0px 1px 3px 1px rgba(0, 0, 0, 0.15);\n",
              "      filter: drop-shadow(0px 1px 2px rgba(0, 0, 0, 0.3));\n",
              "      fill: #FFFFFF;\n",
              "    }\n",
              "  </style>\n",
              "\n",
              "    <script>\n",
              "      const buttonEl =\n",
              "        document.querySelector('#df-be010b57-9da9-4395-aeeb-2086ecf14438 button.colab-df-convert');\n",
              "      buttonEl.style.display =\n",
              "        google.colab.kernel.accessAllowed ? 'block' : 'none';\n",
              "\n",
              "      async function convertToInteractive(key) {\n",
              "        const element = document.querySelector('#df-be010b57-9da9-4395-aeeb-2086ecf14438');\n",
              "        const dataTable =\n",
              "          await google.colab.kernel.invokeFunction('convertToInteractive',\n",
              "                                                    [key], {});\n",
              "        if (!dataTable) return;\n",
              "\n",
              "        const docLinkHtml = 'Like what you see? Visit the ' +\n",
              "          '<a target=\"_blank\" href=https://colab.research.google.com/notebooks/data_table.ipynb>data table notebook</a>'\n",
              "          + ' to learn more about interactive tables.';\n",
              "        element.innerHTML = '';\n",
              "        dataTable['output_type'] = 'display_data';\n",
              "        await google.colab.output.renderOutput(dataTable, element);\n",
              "        const docLink = document.createElement('div');\n",
              "        docLink.innerHTML = docLinkHtml;\n",
              "        element.appendChild(docLink);\n",
              "      }\n",
              "    </script>\n",
              "  </div>\n",
              "\n",
              "\n",
              "<div id=\"df-091499f3-3006-41a6-9b09-939957839b83\">\n",
              "  <button class=\"colab-df-quickchart\" onclick=\"quickchart('df-091499f3-3006-41a6-9b09-939957839b83')\"\n",
              "            title=\"Suggest charts\"\n",
              "            style=\"display:none;\">\n",
              "\n",
              "<svg xmlns=\"http://www.w3.org/2000/svg\" height=\"24px\"viewBox=\"0 0 24 24\"\n",
              "     width=\"24px\">\n",
              "    <g>\n",
              "        <path d=\"M19 3H5c-1.1 0-2 .9-2 2v14c0 1.1.9 2 2 2h14c1.1 0 2-.9 2-2V5c0-1.1-.9-2-2-2zM9 17H7v-7h2v7zm4 0h-2V7h2v10zm4 0h-2v-4h2v4z\"/>\n",
              "    </g>\n",
              "</svg>\n",
              "  </button>\n",
              "\n",
              "<style>\n",
              "  .colab-df-quickchart {\n",
              "      --bg-color: #E8F0FE;\n",
              "      --fill-color: #1967D2;\n",
              "      --hover-bg-color: #E2EBFA;\n",
              "      --hover-fill-color: #174EA6;\n",
              "      --disabled-fill-color: #AAA;\n",
              "      --disabled-bg-color: #DDD;\n",
              "  }\n",
              "\n",
              "  [theme=dark] .colab-df-quickchart {\n",
              "      --bg-color: #3B4455;\n",
              "      --fill-color: #D2E3FC;\n",
              "      --hover-bg-color: #434B5C;\n",
              "      --hover-fill-color: #FFFFFF;\n",
              "      --disabled-bg-color: #3B4455;\n",
              "      --disabled-fill-color: #666;\n",
              "  }\n",
              "\n",
              "  .colab-df-quickchart {\n",
              "    background-color: var(--bg-color);\n",
              "    border: none;\n",
              "    border-radius: 50%;\n",
              "    cursor: pointer;\n",
              "    display: none;\n",
              "    fill: var(--fill-color);\n",
              "    height: 32px;\n",
              "    padding: 0;\n",
              "    width: 32px;\n",
              "  }\n",
              "\n",
              "  .colab-df-quickchart:hover {\n",
              "    background-color: var(--hover-bg-color);\n",
              "    box-shadow: 0 1px 2px rgba(60, 64, 67, 0.3), 0 1px 3px 1px rgba(60, 64, 67, 0.15);\n",
              "    fill: var(--button-hover-fill-color);\n",
              "  }\n",
              "\n",
              "  .colab-df-quickchart-complete:disabled,\n",
              "  .colab-df-quickchart-complete:disabled:hover {\n",
              "    background-color: var(--disabled-bg-color);\n",
              "    fill: var(--disabled-fill-color);\n",
              "    box-shadow: none;\n",
              "  }\n",
              "\n",
              "  .colab-df-spinner {\n",
              "    border: 2px solid var(--fill-color);\n",
              "    border-color: transparent;\n",
              "    border-bottom-color: var(--fill-color);\n",
              "    animation:\n",
              "      spin 1s steps(1) infinite;\n",
              "  }\n",
              "\n",
              "  @keyframes spin {\n",
              "    0% {\n",
              "      border-color: transparent;\n",
              "      border-bottom-color: var(--fill-color);\n",
              "      border-left-color: var(--fill-color);\n",
              "    }\n",
              "    20% {\n",
              "      border-color: transparent;\n",
              "      border-left-color: var(--fill-color);\n",
              "      border-top-color: var(--fill-color);\n",
              "    }\n",
              "    30% {\n",
              "      border-color: transparent;\n",
              "      border-left-color: var(--fill-color);\n",
              "      border-top-color: var(--fill-color);\n",
              "      border-right-color: var(--fill-color);\n",
              "    }\n",
              "    40% {\n",
              "      border-color: transparent;\n",
              "      border-right-color: var(--fill-color);\n",
              "      border-top-color: var(--fill-color);\n",
              "    }\n",
              "    60% {\n",
              "      border-color: transparent;\n",
              "      border-right-color: var(--fill-color);\n",
              "    }\n",
              "    80% {\n",
              "      border-color: transparent;\n",
              "      border-right-color: var(--fill-color);\n",
              "      border-bottom-color: var(--fill-color);\n",
              "    }\n",
              "    90% {\n",
              "      border-color: transparent;\n",
              "      border-bottom-color: var(--fill-color);\n",
              "    }\n",
              "  }\n",
              "</style>\n",
              "\n",
              "  <script>\n",
              "    async function quickchart(key) {\n",
              "      const quickchartButtonEl =\n",
              "        document.querySelector('#' + key + ' button');\n",
              "      quickchartButtonEl.disabled = true;  // To prevent multiple clicks.\n",
              "      quickchartButtonEl.classList.add('colab-df-spinner');\n",
              "      try {\n",
              "        const charts = await google.colab.kernel.invokeFunction(\n",
              "            'suggestCharts', [key], {});\n",
              "      } catch (error) {\n",
              "        console.error('Error during call to suggestCharts:', error);\n",
              "      }\n",
              "      quickchartButtonEl.classList.remove('colab-df-spinner');\n",
              "      quickchartButtonEl.classList.add('colab-df-quickchart-complete');\n",
              "    }\n",
              "    (() => {\n",
              "      let quickchartButtonEl =\n",
              "        document.querySelector('#df-091499f3-3006-41a6-9b09-939957839b83 button');\n",
              "      quickchartButtonEl.style.display =\n",
              "        google.colab.kernel.accessAllowed ? 'block' : 'none';\n",
              "    })();\n",
              "  </script>\n",
              "</div>\n",
              "\n",
              "    </div>\n",
              "  </div>\n"
            ],
            "text/plain": [
              "                   Open         High          Low        Close    Adj Close  \\\n",
              "Date                                                                          \n",
              "2019-12-31  3215.179932  3231.719971  3212.030029  3230.780029  3230.780029   \n",
              "2020-01-02  3244.669922  3258.139893  3235.530029  3257.850098  3257.850098   \n",
              "2020-01-03  3226.360107  3246.149902  3222.340088  3234.850098  3234.850098   \n",
              "2020-01-06  3217.550049  3246.840088  3214.639893  3246.280029  3246.280029   \n",
              "2020-01-07  3241.860107  3244.909912  3232.429932  3237.179932  3237.179932   \n",
              "...                 ...          ...          ...          ...          ...   \n",
              "2020-12-24  3694.030029  3703.820068  3689.320068  3703.060059  3703.060059   \n",
              "2020-12-28  3723.030029  3740.510010  3723.030029  3735.360107  3735.360107   \n",
              "2020-12-29  3750.010010  3756.120117  3723.310059  3727.040039  3727.040039   \n",
              "2020-12-30  3736.189941  3744.629883  3730.209961  3732.040039  3732.040039   \n",
              "2020-12-31  3733.270020  3760.199951  3726.879883  3756.070068  3756.070068   \n",
              "\n",
              "                Volume  \n",
              "Date                    \n",
              "2019-12-31  2893810000  \n",
              "2020-01-02  3458250000  \n",
              "2020-01-03  3461290000  \n",
              "2020-01-06  3674070000  \n",
              "2020-01-07  3420380000  \n",
              "...                ...  \n",
              "2020-12-24  1885090000  \n",
              "2020-12-28  3527460000  \n",
              "2020-12-29  3387030000  \n",
              "2020-12-30  3145200000  \n",
              "2020-12-31  3172510000  \n",
              "\n",
              "[254 rows x 6 columns]"
            ]
          },
          "execution_count": 3,
          "metadata": {},
          "output_type": "execute_result"
        }
      ],
      "source": [
        "isom2600.data.sp500()"
      ]
    },
    {
      "cell_type": "code",
      "execution_count": null,
      "metadata": {
        "colab": {
          "base_uri": "https://localhost:8080/"
        },
        "id": "Nrf3DM3l5BmT",
        "outputId": "49ac597e-59d8-42b1-c4f9-278d76dbde6b"
      },
      "outputs": [
        {
          "name": "stdout",
          "output_type": "stream",
          "text": [
            "Help on module isom2600.data in isom2600:\n",
            "\n",
            "NAME\n",
            "    isom2600.data\n",
            "\n",
            "FUNCTIONS\n",
            "    appl()\n",
            "    \n",
            "    energy(Clean=True)\n",
            "    \n",
            "    getStock(symbol)\n",
            "    \n",
            "    profit()\n",
            "    \n",
            "    publicCompany()\n",
            "    \n",
            "    returnsp500_tesla()\n",
            "    \n",
            "    sp500()\n",
            "    \n",
            "    titanic()\n",
            "    \n",
            "    weather()\n",
            "\n",
            "FILE\n",
            "    /usr/local/lib/python3.11/dist-packages/isom2600/data.py\n",
            "\n",
            "\n"
          ]
        }
      ],
      "source": [
        "# use help() or ?? lets you peek at the libraries\n",
        "help(isom2600.data)"
      ]
    },
    {
      "cell_type": "code",
      "execution_count": null,
      "metadata": {
        "colab": {
          "base_uri": "https://localhost:8080/",
          "height": 121
        },
        "id": "uvGV2W0l5q3V",
        "outputId": "6dc62146-a9b8-438b-9e45-7871ba72d5f9"
      },
      "outputs": [
        {
          "data": {
            "text/html": [
              "<div style=\"max-width:800px; border: 1px solid var(--colab-border-color);\"><style>\n",
              "      pre.function-repr-contents {\n",
              "        overflow-x: auto;\n",
              "        padding: 8px 12px;\n",
              "        max-height: 500px;\n",
              "      }\n",
              "\n",
              "      pre.function-repr-contents.function-repr-contents-collapsed {\n",
              "        cursor: pointer;\n",
              "        max-height: 100px;\n",
              "      }\n",
              "    </style>\n",
              "    <pre style=\"white-space: initial; background:\n",
              "         var(--colab-secondary-surface-color); padding: 8px 12px;\n",
              "         border-bottom: 1px solid var(--colab-border-color);\"><b>isom2600.data.sp500</b><br/>def sp500()</pre><pre class=\"function-repr-contents function-repr-contents-collapsed\" style=\"\"><a class=\"filepath\" style=\"display:none\" href=\"#\">/usr/local/lib/python3.11/dist-packages/isom2600/data.py</a>&lt;no docstring&gt;</pre>\n",
              "      <script>\n",
              "      if (google.colab.kernel.accessAllowed && google.colab.files && google.colab.files.view) {\n",
              "        for (const element of document.querySelectorAll('.filepath')) {\n",
              "          element.style.display = 'block'\n",
              "          element.onclick = (event) => {\n",
              "            event.preventDefault();\n",
              "            event.stopPropagation();\n",
              "            google.colab.files.view(element.textContent, 32);\n",
              "          };\n",
              "        }\n",
              "      }\n",
              "      for (const element of document.querySelectorAll('.function-repr-contents')) {\n",
              "        element.onclick = (event) => {\n",
              "          event.preventDefault();\n",
              "          event.stopPropagation();\n",
              "          element.classList.toggle('function-repr-contents-collapsed');\n",
              "        };\n",
              "      }\n",
              "      </script>\n",
              "      </div>"
            ],
            "text/plain": [
              "<function isom2600.data.sp500()>"
            ]
          },
          "execution_count": 9,
          "metadata": {},
          "output_type": "execute_result"
        }
      ],
      "source": [
        "isom2600.data.sp500#check the information on the side bar"
      ]
    },
    {
      "cell_type": "markdown",
      "metadata": {
        "id": "kFoXVZstZtJ-"
      },
      "source": [
        "# Part 2: Basic Data Types and Data Structures"
      ]
    },
    {
      "cell_type": "code",
      "execution_count": null,
      "metadata": {
        "colab": {
          "base_uri": "https://localhost:8080/"
        },
        "id": "GUBYPaidUEnv",
        "outputId": "6b6c3ade-aba2-47f4-92f0-659ca3073f4f"
      },
      "outputs": [
        {
          "name": "stdout",
          "output_type": "stream",
          "text": [
            "The type of your input nunmber is:  <class 'float'>\n"
          ]
        }
      ],
      "source": [
        "# @title Float and Integer { run: \"auto\", vertical-output: true, form-width: \"50%\", display-mode: \"form\" }\n",
        "# @markdown Input a number\n",
        "youinput = 5.3 # @param {type:\"number\"}\n",
        "\n",
        "aNumber = youinput\n",
        "\n",
        "print(\"The type of your input nunmber is: \",type(aNumber))"
      ]
    },
    {
      "cell_type": "code",
      "execution_count": null,
      "metadata": {
        "colab": {
          "base_uri": "https://localhost:8080/"
        },
        "id": "HVuJZNx_kU8N",
        "outputId": "83ecb982-4213-44ba-fdcb-1ef7ef9998aa"
      },
      "outputs": [
        {
          "name": "stdout",
          "output_type": "stream",
          "text": [
            "<class 'int'> <class 'int'> <class 'int'>\n"
          ]
        }
      ],
      "source": [
        "# Int: Whole numbers (positive, negative, or zero)\n",
        "x = 10    # Integer\n",
        "y = -5    # Negative integer\n",
        "z = 0     # Zero\n",
        "print(type(x), type(y), type(z))"
      ]
    },
    {
      "cell_type": "code",
      "execution_count": null,
      "metadata": {
        "id": "Ob5miCDPkXx9"
      },
      "outputs": [],
      "source": [
        "# Float: Decimal numbers\n",
        "a = 3.14   # Float\n",
        "b = -0.5   # Negative float\n",
        "c = 2.0    # Float (even though it's a whole number)\n",
        "print(type(a), type(b), type(c))"
      ]
    },
    {
      "cell_type": "code",
      "execution_count": null,
      "metadata": {
        "colab": {
          "base_uri": "https://localhost:8080/"
        },
        "id": "gAk9P9BBkcEs",
        "outputId": "41004e37-2540-41be-b550-ff3ff1a4fdda"
      },
      "outputs": [
        {
          "data": {
            "text/plain": [
              "(int, float)"
            ]
          },
          "execution_count": 27,
          "metadata": {},
          "output_type": "execute_result"
        }
      ],
      "source": [
        "a = 100\n",
        "b = 100.00\n",
        "type(a), type(b)"
      ]
    },
    {
      "cell_type": "code",
      "execution_count": null,
      "metadata": {
        "colab": {
          "base_uri": "https://localhost:8080/"
        },
        "id": "gnXLZfu069ZT",
        "outputId": "94e56273-aba7-4537-8567-f89b1d70d8a7"
      },
      "outputs": [
        {
          "data": {
            "text/plain": [
              "float"
            ]
          },
          "execution_count": 12,
          "metadata": {},
          "output_type": "execute_result"
        }
      ],
      "source": [
        "type(a+b)"
      ]
    },
    {
      "cell_type": "code",
      "execution_count": null,
      "metadata": {
        "id": "fR7Uo7Mn_94e"
      },
      "outputs": [],
      "source": [
        "bNumber = 10.23\n",
        "type(bNumber)"
      ]
    },
    {
      "cell_type": "markdown",
      "metadata": {
        "id": "kTI9HU-1UEnx"
      },
      "source": [
        "##Bool"
      ]
    },
    {
      "cell_type": "markdown",
      "metadata": {
        "id": "XWh9lbtwk_Rt"
      },
      "source": [
        "In Python, bool (short for Boolean) is a data type that represents True or False values. It is commonly used in conditional statements, comparisons, and logical operations.\n",
        "\n",
        "\n",
        "*   The Boolean type has only two possible values: True and False\n",
        "*   True is equivalent to 1 and False is equivalent to 0. This means Booleans can be used in mathematical operations like integers\n",
        "\n"
      ]
    },
    {
      "cell_type": "code",
      "execution_count": null,
      "metadata": {
        "id": "ihrc1-FhlbuA"
      },
      "outputs": [],
      "source": []
    },
    {
      "cell_type": "code",
      "execution_count": null,
      "metadata": {
        "colab": {
          "base_uri": "https://localhost:8080/"
        },
        "id": "YK7OdQfNk4rg",
        "outputId": "6cfde426-15d2-4bb9-e22b-309087a554c6"
      },
      "outputs": [
        {
          "name": "stdout",
          "output_type": "stream",
          "text": [
            "True\n",
            "False\n"
          ]
        }
      ],
      "source": [
        "x = 10\n",
        "y = 5\n",
        "print(x > y)\n",
        "print(x == y)"
      ]
    },
    {
      "cell_type": "code",
      "execution_count": null,
      "metadata": {
        "colab": {
          "base_uri": "https://localhost:8080/"
        },
        "id": "TWj7HuoyORFt",
        "outputId": "1ddfb6ff-111f-47c5-fb5b-3e00ec3a1092"
      },
      "outputs": [
        {
          "data": {
            "text/plain": [
              "bool"
            ]
          },
          "execution_count": 100,
          "metadata": {},
          "output_type": "execute_result"
        }
      ],
      "source": [
        "type(True)"
      ]
    },
    {
      "cell_type": "code",
      "execution_count": null,
      "metadata": {
        "colab": {
          "base_uri": "https://localhost:8080/"
        },
        "id": "_isx2tQ-UEny",
        "outputId": "cef0f2d9-b191-4771-85f0-29d9e9419ce0"
      },
      "outputs": [
        {
          "data": {
            "text/plain": [
              "(bool, bool)"
            ]
          },
          "execution_count": 98,
          "metadata": {},
          "output_type": "execute_result"
        }
      ],
      "source": [
        "type(True), type(False)"
      ]
    },
    {
      "cell_type": "code",
      "execution_count": null,
      "metadata": {
        "colab": {
          "base_uri": "https://localhost:8080/"
        },
        "id": "318n6q9YUCh_",
        "outputId": "a1df9d2d-a536-415d-97c7-f8924b652827"
      },
      "outputs": [
        {
          "data": {
            "text/plain": [
              "False"
            ]
          },
          "execution_count": 11,
          "metadata": {},
          "output_type": "execute_result"
        }
      ],
      "source": [
        "10 == 20 #equality test"
      ]
    },
    {
      "cell_type": "code",
      "execution_count": null,
      "metadata": {
        "id": "ZXzrbfIYUEnz"
      },
      "outputs": [],
      "source": [
        "a = 10 == 20\n",
        "a,type(a)"
      ]
    },
    {
      "cell_type": "code",
      "execution_count": null,
      "metadata": {
        "colab": {
          "base_uri": "https://localhost:8080/"
        },
        "id": "FUlZ4heJA1HP",
        "outputId": "20d51fef-ec6d-4309-b425-addd7e77aaa9"
      },
      "outputs": [
        {
          "data": {
            "text/plain": [
              "2"
            ]
          },
          "execution_count": 30,
          "metadata": {},
          "output_type": "execute_result"
        }
      ],
      "source": [
        "# Booleans can be used in mathematical operations like integers\n",
        "isom2020 = True\n",
        "isom2500 = True\n",
        "isom2020 + isom2500"
      ]
    },
    {
      "cell_type": "code",
      "execution_count": null,
      "metadata": {
        "colab": {
          "base_uri": "https://localhost:8080/"
        },
        "id": "u3ndeMA_lkWq",
        "outputId": "12a624a6-cd62-4016-85db-a76ba607c656"
      },
      "outputs": [
        {
          "name": "stdout",
          "output_type": "stream",
          "text": [
            "[False, False, False, False, True]\n",
            "1\n"
          ]
        }
      ],
      "source": [
        "alist = [1, 2, 3, 4, 5]\n",
        "blist = [x > 4 for x in alist]\n",
        "print(blist)\n",
        "print(sum(blist))"
      ]
    },
    {
      "cell_type": "markdown",
      "metadata": {
        "id": "bpmACxmWUEn1"
      },
      "source": [
        "## String"
      ]
    },
    {
      "cell_type": "markdown",
      "metadata": {
        "id": "2DFsyFaslySG"
      },
      "source": [
        "In Python, str (short for string) is a sequence of characters used to store and manipulate text. Strings can be created using single ('), double (\"), or triple quotes (''')."
      ]
    },
    {
      "cell_type": "code",
      "execution_count": null,
      "metadata": {
        "colab": {
          "base_uri": "https://localhost:8080/"
        },
        "id": "wBF3Ff5oUEn2",
        "outputId": "80698397-3275-4a93-d0e4-4ea95f1adc2a"
      },
      "outputs": [
        {
          "data": {
            "text/plain": [
              "str"
            ]
          },
          "execution_count": 33,
          "metadata": {},
          "output_type": "execute_result"
        }
      ],
      "source": [
        "firstVariable = \"Sex Gender\"\n",
        "type(firstVariable)"
      ]
    },
    {
      "cell_type": "code",
      "execution_count": null,
      "metadata": {
        "colab": {
          "base_uri": "https://localhost:8080/"
        },
        "id": "FrqqIzrT9GHU",
        "outputId": "99bf9335-babb-425a-ed84-6449ebd65a2f"
      },
      "outputs": [
        {
          "name": "stdout",
          "output_type": "stream",
          "text": [
            "Cooper\n"
          ]
        }
      ],
      "source": [
        "name = \"Cooper\"\n",
        "print(name)"
      ]
    },
    {
      "cell_type": "code",
      "execution_count": null,
      "metadata": {
        "colab": {
          "base_uri": "https://localhost:8080/",
          "height": 141
        },
        "id": "9s6HK_tBGuGX",
        "outputId": "e3fc0e58-36d3-4b32-e4c9-b68eb70917a4"
      },
      "outputs": [
        {
          "ename": "TypeError",
          "evalue": "'str' object does not support item assignment",
          "output_type": "error",
          "traceback": [
            "\u001b[0;31m---------------------------------------------------------------------------\u001b[0m",
            "\u001b[0;31mTypeError\u001b[0m                                 Traceback (most recent call last)",
            "\u001b[0;32m<ipython-input-35-bfe877e6515f>\u001b[0m in \u001b[0;36m<cell line: 0>\u001b[0;34m()\u001b[0m\n\u001b[0;32m----> 1\u001b[0;31m \u001b[0mname\u001b[0m\u001b[0;34m[\u001b[0m\u001b[0;36m0\u001b[0m\u001b[0;34m]\u001b[0m \u001b[0;34m=\u001b[0m \u001b[0;34m\"B\"\u001b[0m   \u001b[0;31m#str is immutable, this will cause an error!\u001b[0m\u001b[0;34m\u001b[0m\u001b[0;34m\u001b[0m\u001b[0m\n\u001b[0m",
            "\u001b[0;31mTypeError\u001b[0m: 'str' object does not support item assignment"
          ]
        }
      ],
      "source": [
        "name[0] = \"B\"   #str is immutable, this will cause an error!"
      ]
    },
    {
      "cell_type": "code",
      "execution_count": null,
      "metadata": {
        "colab": {
          "base_uri": "https://localhost:8080/"
        },
        "id": "4i7Fgl8BGljt",
        "outputId": "cab7d14a-87b7-4648-b8c2-13a04a62b15e"
      },
      "outputs": [
        {
          "name": "stdout",
          "output_type": "stream",
          "text": [
            "Booper\n"
          ]
        }
      ],
      "source": [
        "name = \"Booper\"\n",
        "print(name)"
      ]
    },
    {
      "cell_type": "code",
      "execution_count": null,
      "metadata": {
        "colab": {
          "base_uri": "https://localhost:8080/",
          "height": 35
        },
        "id": "eLNW-vwEl_Pl",
        "outputId": "aa42d09f-e9bd-45cc-8698-8cf4f0e4d98e"
      },
      "outputs": [
        {
          "data": {
            "application/vnd.google.colaboratory.intrinsic+json": {
              "type": "string"
            },
            "text/plain": [
              "'x'"
            ]
          },
          "execution_count": 105,
          "metadata": {},
          "output_type": "execute_result"
        }
      ],
      "source": [
        "firstVariable[2]"
      ]
    },
    {
      "cell_type": "code",
      "execution_count": null,
      "metadata": {
        "colab": {
          "base_uri": "https://localhost:8080/",
          "height": 35
        },
        "id": "uFiAmMDKb1Uw",
        "outputId": "54d1270b-f38c-49a7-d6c6-9507bdd05b95"
      },
      "outputs": [
        {
          "data": {
            "application/vnd.google.colaboratory.intrinsic+json": {
              "type": "string"
            },
            "text/plain": [
              "' Gend'"
            ]
          },
          "execution_count": 38,
          "metadata": {},
          "output_type": "execute_result"
        }
      ],
      "source": [
        "firstVariable[3:-2]\n",
        "# data selection with index."
      ]
    },
    {
      "cell_type": "code",
      "execution_count": null,
      "metadata": {
        "id": "cNAG58DpB_d_"
      },
      "outputs": [],
      "source": [
        "firstVariable[3:-3]"
      ]
    },
    {
      "cell_type": "code",
      "execution_count": null,
      "metadata": {
        "id": "gkc3uHt8JafJ"
      },
      "outputs": [],
      "source": [
        "firstVariable[-6:], firstVariable[4:]"
      ]
    },
    {
      "cell_type": "code",
      "execution_count": null,
      "metadata": {
        "id": "447EN7QSUEn2"
      },
      "outputs": [],
      "source": [
        "firstVariable[0:4]"
      ]
    },
    {
      "cell_type": "code",
      "execution_count": null,
      "metadata": {
        "id": "yF2dGCWhUEn3"
      },
      "outputs": [],
      "source": [
        "firstVariable[-2:-1]"
      ]
    },
    {
      "cell_type": "code",
      "execution_count": null,
      "metadata": {
        "colab": {
          "base_uri": "https://localhost:8080/",
          "height": 35
        },
        "id": "FtYnX75OmC1j",
        "outputId": "076bec9c-eae4-423b-8db2-68bc76485911"
      },
      "outputs": [
        {
          "data": {
            "application/vnd.google.colaboratory.intrinsic+json": {
              "type": "string"
            },
            "text/plain": [
              "'Sex Gender'"
            ]
          },
          "execution_count": 39,
          "metadata": {},
          "output_type": "execute_result"
        }
      ],
      "source": [
        "firstVariable[:3] + ' ' + firstVariable[-6:]"
      ]
    },
    {
      "cell_type": "code",
      "execution_count": null,
      "metadata": {
        "colab": {
          "base_uri": "https://localhost:8080/"
        },
        "id": "iWlS1rW-g_Dw",
        "outputId": "c14c32ac-a343-49ef-8418-09f5f5a838f4"
      },
      "outputs": [
        {
          "name": "stdout",
          "output_type": "stream",
          "text": [
            "Your selection is : GPT\n"
          ]
        }
      ],
      "source": [
        "# @title Practice on the index of strings { run: \"auto\", vertical-output: true, form-width: \"30%\", display-mode: \"form\" }\n",
        "# @markdown Input a long string:\n",
        "yourstring = \"OpenAI releases new GPT model with enhanced reasoning skills\" # @param {type:\"string\"}\n",
        "startindex = 20 # @param {type:\"integer\"}\n",
        "endindex = 23 # @param {type:\"integer\"}\n",
        "print(\"Your selection is :\",yourstring[startindex:endindex])"
      ]
    },
    {
      "cell_type": "code",
      "execution_count": null,
      "metadata": {
        "id": "jyDYGn7sz09N"
      },
      "outputs": [],
      "source": [
        "headline =  \"OpenAI releases new GPT model with enhanced reasoning skills\""
      ]
    },
    {
      "cell_type": "code",
      "execution_count": null,
      "metadata": {
        "colab": {
          "base_uri": "https://localhost:8080/",
          "height": 35
        },
        "id": "oaJ9O38bRITW",
        "outputId": "64d03392-ec4c-479f-fb46-9e771b59b816"
      },
      "outputs": [
        {
          "data": {
            "application/vnd.google.colaboratory.intrinsic+json": {
              "type": "string"
            },
            "text/plain": [
              "'OpenAI'"
            ]
          },
          "execution_count": 47,
          "metadata": {},
          "output_type": "execute_result"
        }
      ],
      "source": [
        "headline[0:6]"
      ]
    },
    {
      "cell_type": "code",
      "execution_count": null,
      "metadata": {
        "colab": {
          "base_uri": "https://localhost:8080/"
        },
        "id": "60b_JIf5RNhO",
        "outputId": "a47ed65a-6f05-42c6-e015-043456b39283"
      },
      "outputs": [
        {
          "data": {
            "text/plain": [
              "False"
            ]
          },
          "execution_count": 50,
          "metadata": {},
          "output_type": "execute_result"
        }
      ],
      "source": [
        "headline.islower()"
      ]
    },
    {
      "cell_type": "markdown",
      "metadata": {
        "id": "eGe2ZNZBRH0f"
      },
      "source": []
    },
    {
      "cell_type": "markdown",
      "metadata": {
        "id": "cnI3cKULCRf1"
      },
      "source": [
        "### Attributes and Methods"
      ]
    },
    {
      "cell_type": "code",
      "execution_count": null,
      "metadata": {
        "id": "fPWIDgEpC4N-"
      },
      "outputs": [],
      "source": [
        "a = 5.3\n",
        "a.is_integer()"
      ]
    },
    {
      "cell_type": "code",
      "execution_count": null,
      "metadata": {
        "id": "svX17I-GkguF"
      },
      "outputs": [],
      "source": [
        "b = 5.0\n",
        "b.is_integer() #method"
      ]
    },
    {
      "cell_type": "code",
      "execution_count": null,
      "metadata": {
        "id": "EhdYC86UTBqt"
      },
      "outputs": [],
      "source": [
        "aNumber = 100\n",
        "aNumber.bit_length() #method of the integer type"
      ]
    },
    {
      "cell_type": "code",
      "execution_count": null,
      "metadata": {
        "id": "zL4wevytTWqc"
      },
      "outputs": [],
      "source": [
        "aNumber.real #attribute of the integer type"
      ]
    },
    {
      "cell_type": "code",
      "execution_count": null,
      "metadata": {
        "id": "kaz3lf5hCWHY"
      },
      "outputs": [],
      "source": [
        "text = \"hello world\"\n",
        "text.upper() #method: Converts string to uppercase"
      ]
    },
    {
      "cell_type": "code",
      "execution_count": null,
      "metadata": {
        "id": "LIpBpu0jEf-m"
      },
      "outputs": [],
      "source": [
        "dir(aNumber) #Use dir() to list all attributes and methods"
      ]
    },
    {
      "cell_type": "markdown",
      "metadata": {
        "id": "k2yAm0e9mJF1"
      },
      "source": [
        "### In-class Exercise 1"
      ]
    },
    {
      "cell_type": "code",
      "execution_count": null,
      "metadata": {
        "colab": {
          "base_uri": "https://localhost:8080/"
        },
        "id": "yGiCVXXtmF5G",
        "outputId": "90bf343d-9942-4345-d420-8a7c1b0d4911"
      },
      "outputs": [
        {
          "name": "stdout",
          "output_type": "stream",
          "text": [
            "What is your Last Name?Sun\n",
            "Hello Mr/Ms Sun\n"
          ]
        }
      ],
      "source": [
        "myLast = input(\"What is your Last Name?\")\n",
        "print(\"Hello Mr/Ms \" + myLast)"
      ]
    },
    {
      "cell_type": "markdown",
      "metadata": {
        "id": "vH3jd3qYUEn4"
      },
      "source": [
        "## List  "
      ]
    },
    {
      "cell_type": "markdown",
      "metadata": {
        "id": "OROhzA9JqI7v"
      },
      "source": [
        "### Create a List and Accessing Elements"
      ]
    },
    {
      "cell_type": "markdown",
      "metadata": {
        "id": "7kj096jbpm9p"
      },
      "source": [
        "Lists support indexing ([]) and slicing ([:])"
      ]
    },
    {
      "cell_type": "code",
      "execution_count": null,
      "metadata": {
        "colab": {
          "base_uri": "https://localhost:8080/"
        },
        "id": "5DdZlXQ2UEn4",
        "outputId": "e033bfd7-62d7-406f-9970-fe940e272806"
      },
      "outputs": [
        {
          "data": {
            "text/plain": [
              "(10, True)"
            ]
          },
          "execution_count": 43,
          "metadata": {},
          "output_type": "execute_result"
        }
      ],
      "source": [
        "my_list = [10, 3.14, \"Hello\", True]\n",
        "my_list[0], my_list[-1] #negative index counts from the end"
      ]
    },
    {
      "cell_type": "markdown",
      "metadata": {
        "id": "rbw_OHy4qZqF"
      },
      "source": [
        "Lists can be changed after creation"
      ]
    },
    {
      "cell_type": "code",
      "execution_count": null,
      "metadata": {
        "colab": {
          "base_uri": "https://localhost:8080/"
        },
        "id": "MbB2ge6Zzof1",
        "outputId": "f3b50e23-762e-4649-ac44-bd490f0e3468"
      },
      "outputs": [
        {
          "data": {
            "text/plain": [
              "[10, 3.14, 'Hello', True, 'Python']"
            ]
          },
          "execution_count": 44,
          "metadata": {},
          "output_type": "execute_result"
        }
      ],
      "source": [
        "my_list.append(\"Python\")\n",
        "my_list"
      ]
    },
    {
      "cell_type": "code",
      "execution_count": null,
      "metadata": {
        "id": "4ACi7iPr0i8M"
      },
      "outputs": [],
      "source": [
        "my_list.remove(\"Hello\")\n",
        "my_list"
      ]
    },
    {
      "cell_type": "code",
      "execution_count": null,
      "metadata": {
        "id": "j3TzQmB005G1"
      },
      "outputs": [],
      "source": [
        "len(my_list) # len is global method"
      ]
    },
    {
      "cell_type": "code",
      "execution_count": null,
      "metadata": {
        "colab": {
          "base_uri": "https://localhost:8080/"
        },
        "id": "pit3CWjLp7PX",
        "outputId": "4506c52e-fd43-4fd0-f10d-46ad9b17dff2"
      },
      "outputs": [
        {
          "data": {
            "text/plain": [
              "[10, 3.14, 'Hello', True, 'Python', 'Katy', 167]"
            ]
          },
          "execution_count": 46,
          "metadata": {},
          "output_type": "execute_result"
        }
      ],
      "source": [
        "new_list = [\"Katy\", 167]\n",
        "my_list.extend(new_list)\n",
        "my_list"
      ]
    },
    {
      "cell_type": "markdown",
      "metadata": {
        "id": "bW1pdqnVqu7h"
      },
      "source": [
        "Lists within lists"
      ]
    },
    {
      "cell_type": "code",
      "execution_count": null,
      "metadata": {
        "colab": {
          "base_uri": "https://localhost:8080/"
        },
        "id": "VrIlvHrgqzcq",
        "outputId": "2a2484bd-b4e6-4863-9037-31073b4f905a"
      },
      "outputs": [
        {
          "data": {
            "text/plain": [
              "[[1, 2, 3], [4, 5, 6], [7, 8, 9]]"
            ]
          },
          "execution_count": 53,
          "metadata": {},
          "output_type": "execute_result"
        }
      ],
      "source": [
        "matrix = [[1, 2, 3], [4, 5, 6], [7, 8, 9]]\n",
        "matrix\n",
        "#print(matrix[1][2])"
      ]
    },
    {
      "cell_type": "code",
      "execution_count": null,
      "metadata": {
        "colab": {
          "base_uri": "https://localhost:8080/"
        },
        "id": "ktDfy2gs4wKB",
        "outputId": "e3354d0e-1538-4c95-aa38-f4b82d1dda38"
      },
      "outputs": [
        {
          "name": "stdout",
          "output_type": "stream",
          "text": [
            "6\n"
          ]
        }
      ],
      "source": [
        "print(matrix[1][2])"
      ]
    },
    {
      "cell_type": "code",
      "execution_count": null,
      "metadata": {
        "id": "50vgxouqqfN2"
      },
      "outputs": [],
      "source": [
        "fruits = [\"apple\", \"banana\", \"cherry\"]\n",
        "# Using a for loop\n",
        "for fruit in fruits:\n",
        "    print(fruit)"
      ]
    },
    {
      "cell_type": "markdown",
      "metadata": {
        "id": "cIy4fm9gUEn7"
      },
      "source": [
        "### List Comprehension"
      ]
    },
    {
      "cell_type": "markdown",
      "metadata": {
        "id": "g92jhBVIEkN3"
      },
      "source": [
        "You write the whole logic in one line (general form):\n",
        "\n",
        "new_list = [**expression (if condition)** for **member** in **iterable (if condition)**]\n",
        "\n",
        "*   what to take\n",
        "*   what to do with it\n",
        "*   whether to keep it\n",
        "\n"
      ]
    },
    {
      "cell_type": "code",
      "execution_count": null,
      "metadata": {
        "colab": {
          "base_uri": "https://localhost:8080/"
        },
        "id": "3Am5XTd5EvwV",
        "outputId": "a7e105c8-0bfe-4036-fed4-7929c62fc370"
      },
      "outputs": [
        {
          "data": {
            "text/plain": [
              "[1, 4, 9, 16]"
            ]
          },
          "execution_count": 55,
          "metadata": {},
          "output_type": "execute_result"
        }
      ],
      "source": [
        "# for loop\n",
        "alist = [1, 2, 3, 4] # 1, 4, 9, 16\n",
        "blist = []\n",
        "for n in alist:\n",
        "  blist.append(n**2)\n",
        "blist"
      ]
    },
    {
      "cell_type": "code",
      "execution_count": null,
      "metadata": {
        "colab": {
          "base_uri": "https://localhost:8080/"
        },
        "id": "_yOrm6cGUEn9",
        "outputId": "38c60994-9ff9-4082-8f95-89ef6d099d2e"
      },
      "outputs": [
        {
          "name": "stdout",
          "output_type": "stream",
          "text": [
            "[1, 4, 9, 16]\n"
          ]
        }
      ],
      "source": [
        "# @title Plain comprehension\n",
        "# Make a new list for every item of the orginal list\n",
        "alist = [1, 2, 3, 4]\n",
        "newlist = [x**2 for x in alist]\n",
        "print(newlist)"
      ]
    },
    {
      "cell_type": "code",
      "execution_count": null,
      "metadata": {
        "colab": {
          "base_uri": "https://localhost:8080/"
        },
        "id": "AryrR5pUr17z",
        "outputId": "009ec796-bd62-4ec4-c85c-274805a606b3"
      },
      "outputs": [
        {
          "name": "stdout",
          "output_type": "stream",
          "text": [
            "[0, 1, 2, 3, 4, 5, 6, 7, 8, 9]\n"
          ]
        }
      ],
      "source": [
        "numbers = [i for i in range(10)]\n",
        "print(numbers)"
      ]
    },
    {
      "cell_type": "markdown",
      "metadata": {
        "id": "ONAcDKdDrSeI"
      },
      "source": [
        "List comprehension is a concise and efficient way to create lists in Python. It allows you to generate a new list in a single line of code using a simple syntax."
      ]
    },
    {
      "cell_type": "code",
      "execution_count": null,
      "metadata": {
        "colab": {
          "base_uri": "https://localhost:8080/"
        },
        "id": "MuC5RX1AhlDz",
        "outputId": "ece14a0d-35f8-4005-fa9e-0f5fe6fd93a0"
      },
      "outputs": [
        {
          "data": {
            "text/plain": [
              "[8, 27, 64, 125]"
            ]
          },
          "execution_count": 54,
          "metadata": {},
          "output_type": "execute_result"
        }
      ],
      "source": [
        "newlist = [(x + 1) ** 3 for x in alist]\n",
        "newlist"
      ]
    },
    {
      "cell_type": "code",
      "execution_count": null,
      "metadata": {
        "colab": {
          "base_uri": "https://localhost:8080/"
        },
        "id": "LKqRfBm0UEoA",
        "outputId": "4487c083-8018-4d42-d4cb-02ea345a05cd"
      },
      "outputs": [
        {
          "name": "stdout",
          "output_type": "stream",
          "text": [
            "[1, 4, 9, 16, 25]\n"
          ]
        }
      ],
      "source": [
        "# @title Filtered compreshension\n",
        "# make a new list out of the orginal list with certain condition\n",
        "alist = [1, 2, 3, 4, 5, 100, 200]\n",
        "newlist = [x**2 for x in alist if x < 50]\n",
        "# Select big numbers (>50) and take squares.\n",
        "print(newlist)"
      ]
    },
    {
      "cell_type": "code",
      "execution_count": null,
      "metadata": {
        "colab": {
          "base_uri": "https://localhost:8080/"
        },
        "id": "CaIJOtlPiRhj",
        "outputId": "513b884e-ca0e-4907-c8ea-3a62768db74f"
      },
      "outputs": [
        {
          "data": {
            "text/plain": [
              "[100, 70, 80]"
            ]
          },
          "execution_count": 59,
          "metadata": {},
          "output_type": "execute_result"
        }
      ],
      "source": [
        "scoresheet = [100, 60, 70, 80, 20, 10]\n",
        "passgrades = [ x for x in scoresheet if x > 60]\n",
        "passgrades"
      ]
    },
    {
      "cell_type": "code",
      "execution_count": null,
      "metadata": {
        "id": "DF-xCxY1sEZZ"
      },
      "outputs": [],
      "source": [
        "len(scoresheet), len(passgrades)"
      ]
    },
    {
      "cell_type": "code",
      "execution_count": null,
      "metadata": {
        "colab": {
          "base_uri": "https://localhost:8080/"
        },
        "id": "-Pt5vJ5K4Tui",
        "outputId": "ef933181-069c-4842-a4fb-ab1d9a80c5ba"
      },
      "outputs": [
        {
          "data": {
            "text/plain": [
              "[8, 18, 28]"
            ]
          },
          "execution_count": 55,
          "metadata": {},
          "output_type": "execute_result"
        }
      ],
      "source": [
        "alist = [10, 20, 30, 40, 50, 60]\n",
        "blist = [x - 2 for x in alist if x < 40]\n",
        "# A=[10,20,30,40,50,60]\n",
        "# B=[8,18,28,38]\n",
        "# C= [8,18,28]\n",
        "blist"
      ]
    },
    {
      "cell_type": "code",
      "execution_count": null,
      "metadata": {
        "id": "gBmhGa4_YSM5"
      },
      "outputs": [],
      "source": [
        "# use for loop to implement the same operation\n",
        "newlist = []\n",
        "for x in alist:\n",
        "  if x < 40:\n",
        "    newlist.append(x - 2)\n",
        "newlist"
      ]
    },
    {
      "cell_type": "code",
      "execution_count": null,
      "metadata": {
        "colab": {
          "base_uri": "https://localhost:8080/"
        },
        "id": "VFdHcLlYUEoB",
        "outputId": "dc02ad48-a24a-41a9-ee90-c2bcf1e5d867"
      },
      "outputs": [
        {
          "name": "stdout",
          "output_type": "stream",
          "text": [
            "[1, 4, 9, 16, 25, 10.0, 14.142135623730951]\n"
          ]
        }
      ],
      "source": [
        "# @title Conditional comprehension\n",
        "# Make a new list for every item of the orginal list with different condition\n",
        "alist = [1, 2, 3, 4, 5, 100, 200]\n",
        "newlist = [x**2 if x < 50 else x**0.5 for x in alist]\n",
        "print(newlist)"
      ]
    },
    {
      "cell_type": "code",
      "execution_count": null,
      "metadata": {
        "id": "vHc4EGQ9ZBKe"
      },
      "outputs": [],
      "source": [
        "# use for loop to implement the same operation\n",
        "newlist = []\n",
        "for x in alist:\n",
        "  if x < 50:\n",
        "    newlist.append(x**2)\n",
        "  else:\n",
        "    newlist.append(x**0.5)\n",
        "newlist"
      ]
    },
    {
      "cell_type": "code",
      "execution_count": null,
      "metadata": {
        "colab": {
          "base_uri": "https://localhost:8080/"
        },
        "id": "gfQOxHxCMBK2",
        "outputId": "b3111fab-9d5f-4962-b24e-29cc3f906a63"
      },
      "outputs": [
        {
          "data": {
            "text/plain": [
              "['Strong', 'Strong', 'Slim', 'Slim']"
            ]
          },
          "execution_count": 56,
          "metadata": {},
          "output_type": "execute_result"
        }
      ],
      "source": [
        "bodyweight = [100, 80, 60, 50]\n",
        "# change to \"strong\" if w>60, else \"slim\"\n",
        "bodyshape = [\"Strong\" if x>60 else \"Slim\"  for x in bodyweight]\n",
        "# conditional list comprehension\n",
        "bodyshape"
      ]
    },
    {
      "cell_type": "code",
      "execution_count": null,
      "metadata": {
        "id": "ZUvOcFgb1Uoa"
      },
      "outputs": [],
      "source": [
        "score = [100, 10, 5, 40, 50]\n",
        "# if score>40, \"Pass\"\n",
        "# If  >10 and score<=40, \"Partial Pass\"\n",
        "# if <=10, \"Fail\"\n",
        "#A\n",
        "gradeA = [\"Pass\" if x>40 else \"Partial pass\" if x>10 else \"Fail\" for x in score]\n",
        "# no elif\n",
        "gradeA\n"
      ]
    },
    {
      "cell_type": "markdown",
      "metadata": {
        "id": "8ky1D0tmUEoB"
      },
      "source": [
        "## Numpy: multimensional **array**"
      ]
    },
    {
      "cell_type": "markdown",
      "metadata": {
        "id": "cLlTxsLQQIZi"
      },
      "source": [
        "A collection of elements of the **same type**, used for efficient **numerical computations**"
      ]
    },
    {
      "cell_type": "markdown",
      "metadata": {
        "id": "ue3xbrItQ0-K"
      },
      "source": [
        "A array expects elements of the same type for optimal performance. When initialized from a list with uniform data types (e.g., all integers or all floats), the array adopts that type directly."
      ]
    },
    {
      "cell_type": "code",
      "execution_count": 5,
      "metadata": {
        "id": "pM1dj8SzRD7n"
      },
      "outputs": [
        {
          "data": {
            "text/plain": [
              "array([1, 2, 3])"
            ]
          },
          "execution_count": 5,
          "metadata": {},
          "output_type": "execute_result"
        }
      ],
      "source": [
        "arr = np.array([1, 2, 3])  # dtype = int\n",
        "arr"
      ]
    },
    {
      "cell_type": "markdown",
      "metadata": {
        "id": "c_KQSe2ORBtS"
      },
      "source": [
        " If the list contains mixed types, NumPy attempts upcasting to a common type that can represent all elements without data loss. This follows a hierarchy:\n",
        "*bool → int → float → complex* (or string/object if non-numeric)."
      ]
    },
    {
      "cell_type": "code",
      "execution_count": 6,
      "metadata": {
        "id": "VshC3N_tRJh6"
      },
      "outputs": [
        {
          "data": {
            "text/plain": [
              "array([1. , 2.5, 3. ])"
            ]
          },
          "execution_count": 6,
          "metadata": {},
          "output_type": "execute_result"
        }
      ],
      "source": [
        "arr = np.array([1, 2.5, 3])  # int + float → upcast to float (dtype=float64)\n",
        "arr"
      ]
    },
    {
      "cell_type": "markdown",
      "metadata": {
        "id": "oN0EJBdXRVM6"
      },
      "source": [
        "If elements are incompatible (e.g., numbers mixed with strings), NumPy defaults to dtype=object, storing references to Python objects. This avoids errors but sacrifices performance benefits."
      ]
    },
    {
      "cell_type": "code",
      "execution_count": 11,
      "metadata": {
        "id": "Dsra7HNPRYng"
      },
      "outputs": [
        {
          "data": {
            "text/plain": [
              "array(['1', 'text', '3.5'], dtype='<U32')"
            ]
          },
          "execution_count": 11,
          "metadata": {},
          "output_type": "execute_result"
        }
      ],
      "source": [
        "arr = np.array([1, \"text\", 3.5])  # dtype=object (heterogeneous, inefficient)\n",
        "arr"
      ]
    },
    {
      "cell_type": "markdown",
      "metadata": {
        "id": "MJY0KNGJRvkr"
      },
      "source": [
        "Key Implications:\n"
      ]
    },
    {
      "cell_type": "markdown",
      "metadata": {
        "id": "XHR7hCzgR7HV"
      },
      "source": [
        "\n",
        "\n",
        "*   **Efficiency**: Homogeneous ndarray (e.g., int, float) enables fast, vectorized operations.\n",
        "*   **Type Coercion**: Upcasting ensures uniformity but may implicitly change data types.\n",
        "*   **Object Arrays**: Heterogeneous object arrays are flexible but lack NumPy's speed optimizations.\n",
        "\n"
      ]
    },
    {
      "cell_type": "markdown",
      "metadata": {
        "id": "c9hnXnUhSY-r"
      },
      "source": [
        "An **Array** can do **element-wise** **computation**, while a **list** cannot."
      ]
    },
    {
      "cell_type": "code",
      "execution_count": 12,
      "metadata": {
        "colab": {
          "base_uri": "https://localhost:8080/"
        },
        "id": "9ZqSLqSh9eW1",
        "outputId": "59a9eda0-d40d-4ac0-dc76-ca3412e0c959"
      },
      "outputs": [
        {
          "data": {
            "text/plain": [
              "[1, 4, 9, 16]"
            ]
          },
          "execution_count": 12,
          "metadata": {},
          "output_type": "execute_result"
        }
      ],
      "source": [
        "alist = [1, 2, 3, 4]\n",
        "blist = [x**2 for x in alist]\n",
        "blist"
      ]
    },
    {
      "cell_type": "code",
      "execution_count": 13,
      "metadata": {
        "colab": {
          "base_uri": "https://localhost:8080/",
          "height": 141
        },
        "id": "Oh7hcy_udBvp",
        "outputId": "e66d2dce-0eac-4912-d985-92881a8bac11"
      },
      "outputs": [
        {
          "ename": "TypeError",
          "evalue": "unsupported operand type(s) for ** or pow(): 'list' and 'int'",
          "output_type": "error",
          "traceback": [
            "\u001b[1;31m---------------------------------------------------------------------------\u001b[0m",
            "\u001b[1;31mTypeError\u001b[0m                                 Traceback (most recent call last)",
            "Cell \u001b[1;32mIn[13], line 1\u001b[0m\n\u001b[1;32m----> 1\u001b[0m alist\u001b[38;5;241m*\u001b[39m\u001b[38;5;241m*\u001b[39m\u001b[38;5;241m2\u001b[39m\n",
            "\u001b[1;31mTypeError\u001b[0m: unsupported operand type(s) for ** or pow(): 'list' and 'int'"
          ]
        }
      ],
      "source": [
        "alist**2  #It will cause an error"
      ]
    },
    {
      "cell_type": "markdown",
      "metadata": {
        "id": "6o21meL-tMt-"
      },
      "source": [
        "The exponentiation ** operator is meant for numeric values, not lists.\n",
        "\n",
        "\n",
        "*   Method 1: If you want to square each element in the list, use list comprehension\n",
        "*   Method 2: Use NumPy array for Efficient Computation\n",
        "\n"
      ]
    },
    {
      "cell_type": "code",
      "execution_count": 14,
      "metadata": {
        "colab": {
          "base_uri": "https://localhost:8080/"
        },
        "id": "4N5AdOexUEoB",
        "outputId": "f0ecc4b3-bd2b-4889-9f56-d56740c99582"
      },
      "outputs": [
        {
          "data": {
            "text/plain": [
              "array([1. , 2.1, 3. , 4. ])"
            ]
          },
          "execution_count": 14,
          "metadata": {},
          "output_type": "execute_result"
        }
      ],
      "source": [
        "alist = [1, 2.1, 3, 4]\n",
        "firstarray = np.array(alist)\n",
        "# convert list \"alist\" to numpy array : firstarray\n",
        "#print(type(alist),type(firstarray))\n",
        "firstarray"
      ]
    },
    {
      "cell_type": "code",
      "execution_count": 15,
      "metadata": {
        "colab": {
          "base_uri": "https://localhost:8080/"
        },
        "id": "xX4MQTxe977H",
        "outputId": "5c1e502c-742a-413d-fa06-c89becf8df32"
      },
      "outputs": [
        {
          "data": {
            "text/plain": [
              "array([ 1.  ,  4.41,  9.  , 16.  ])"
            ]
          },
          "execution_count": 15,
          "metadata": {},
          "output_type": "execute_result"
        }
      ],
      "source": [
        "firstarray**2"
      ]
    },
    {
      "cell_type": "code",
      "execution_count": null,
      "metadata": {
        "colab": {
          "base_uri": "https://localhost:8080/",
          "height": 141
        },
        "id": "9cN1x6d08F48",
        "outputId": "c0429b1e-d8bb-49d6-af21-6ea78b00a99a"
      },
      "outputs": [
        {
          "ename": "TypeError",
          "evalue": "unsupported operand type(s) for ** or pow(): 'list' and 'int'",
          "output_type": "error",
          "traceback": [
            "\u001b[0;31m---------------------------------------------------------------------------\u001b[0m",
            "\u001b[0;31mTypeError\u001b[0m                                 Traceback (most recent call last)",
            "\u001b[0;32m<ipython-input-62-20863e160fbf>\u001b[0m in \u001b[0;36m<cell line: 0>\u001b[0;34m()\u001b[0m\n\u001b[0;32m----> 1\u001b[0;31m \u001b[0malist\u001b[0m\u001b[0;34m**\u001b[0m\u001b[0;36m2\u001b[0m\u001b[0;34m\u001b[0m\u001b[0;34m\u001b[0m\u001b[0m\n\u001b[0m",
            "\u001b[0;31mTypeError\u001b[0m: unsupported operand type(s) for ** or pow(): 'list' and 'int'"
          ]
        }
      ],
      "source": [
        "alist**2"
      ]
    },
    {
      "cell_type": "code",
      "execution_count": null,
      "metadata": {
        "colab": {
          "base_uri": "https://localhost:8080/"
        },
        "id": "9cAev-Fa5Fs-",
        "outputId": "92a5bd5b-7aa9-446e-a000-9778501e9187"
      },
      "outputs": [
        {
          "data": {
            "text/plain": [
              "array([-98. , -95.8, -94. , -92. ])"
            ]
          },
          "execution_count": 65,
          "metadata": {},
          "output_type": "execute_result"
        }
      ],
      "source": [
        "firstarray*2 - 100"
      ]
    },
    {
      "cell_type": "code",
      "execution_count": null,
      "metadata": {
        "colab": {
          "base_uri": "https://localhost:8080/",
          "height": 141
        },
        "id": "zhM31ylWnjh8",
        "outputId": "65f8b392-ed6f-4c4a-ba98-a85018a4a8b8"
      },
      "outputs": [
        {
          "ename": "TypeError",
          "evalue": "unsupported operand type(s) for /: 'list' and 'int'",
          "output_type": "error",
          "traceback": [
            "\u001b[0;31m---------------------------------------------------------------------------\u001b[0m",
            "\u001b[0;31mTypeError\u001b[0m                                 Traceback (most recent call last)",
            "\u001b[0;32m<ipython-input-7-1081caf838b9>\u001b[0m in \u001b[0;36m<cell line: 0>\u001b[0;34m()\u001b[0m\n\u001b[0;32m----> 1\u001b[0;31m \u001b[0malist\u001b[0m\u001b[0;34m/\u001b[0m\u001b[0;36m10\u001b[0m\u001b[0;34m\u001b[0m\u001b[0;34m\u001b[0m\u001b[0m\n\u001b[0m",
            "\u001b[0;31mTypeError\u001b[0m: unsupported operand type(s) for /: 'list' and 'int'"
          ]
        }
      ],
      "source": [
        "alist/10"
      ]
    },
    {
      "cell_type": "code",
      "execution_count": null,
      "metadata": {
        "colab": {
          "base_uri": "https://localhost:8080/"
        },
        "id": "R8sxs8FSbNZY",
        "outputId": "87af4000-efb8-48d0-bf09-42b870504db8"
      },
      "outputs": [
        {
          "data": {
            "text/plain": [
              "array([0.01 , 0.021, 0.03 , 0.04 ])"
            ]
          },
          "execution_count": 8,
          "metadata": {},
          "output_type": "execute_result"
        }
      ],
      "source": [
        "firstarray/100\n",
        "# elementwise-operation\n",
        "# Broadcasting"
      ]
    },
    {
      "cell_type": "code",
      "execution_count": null,
      "metadata": {
        "id": "gPlRaOIiUEoB"
      },
      "outputs": [],
      "source": [
        "firstarray + 3"
      ]
    },
    {
      "cell_type": "code",
      "execution_count": null,
      "metadata": {
        "id": "vhmwtP5f59m8"
      },
      "outputs": [],
      "source": [
        "firstarray"
      ]
    },
    {
      "cell_type": "code",
      "execution_count": null,
      "metadata": {
        "id": "gGmue-ENN-w2"
      },
      "outputs": [],
      "source": [
        "firstarray**0.5"
      ]
    },
    {
      "cell_type": "markdown",
      "metadata": {
        "id": "u2sLRZ1LuQGg"
      },
      "source": [
        "The array objects in NumPy is called ndarray, can be defined from a list (contain the same type, if not, upcast)"
      ]
    },
    {
      "cell_type": "markdown",
      "metadata": {
        "id": "Epn-dPeSw-hC"
      },
      "source": [
        "### Index of Array and Slicing"
      ]
    },
    {
      "cell_type": "code",
      "execution_count": 17,
      "metadata": {
        "colab": {
          "base_uri": "https://localhost:8080/"
        },
        "id": "hMKUCONKLsg_",
        "outputId": "d0ea60f2-3972-4046-c84f-e7bbd97097a0"
      },
      "outputs": [
        {
          "data": {
            "text/plain": [
              "6"
            ]
          },
          "execution_count": 17,
          "metadata": {},
          "output_type": "execute_result"
        }
      ],
      "source": [
        "list2D = [[1, 2, 3], [4, 5, 6], [7, 8, 9]] # a list of list\n",
        "list2D[1][2] #index of list of list"
      ]
    },
    {
      "cell_type": "code",
      "execution_count": 18,
      "metadata": {
        "colab": {
          "base_uri": "https://localhost:8080/"
        },
        "id": "URdGYj6o9Ini",
        "outputId": "2ecc2c8f-5bf7-46f0-835e-b6cc1e9061d0"
      },
      "outputs": [
        {
          "data": {
            "text/plain": [
              "array([1, 2, 3])"
            ]
          },
          "execution_count": 18,
          "metadata": {},
          "output_type": "execute_result"
        }
      ],
      "source": [
        "arr1D = np.array([1, 2, 3])\n",
        "arr1D"
      ]
    },
    {
      "cell_type": "markdown",
      "metadata": {},
      "source": [
        "Index returns the element"
      ]
    },
    {
      "cell_type": "code",
      "execution_count": 19,
      "metadata": {
        "colab": {
          "base_uri": "https://localhost:8080/"
        },
        "id": "nSOX-aW59UJX",
        "outputId": "af037a43-510a-42e2-a229-e24ea8e0a14e"
      },
      "outputs": [
        {
          "data": {
            "text/plain": [
              "2"
            ]
          },
          "execution_count": 19,
          "metadata": {},
          "output_type": "execute_result"
        }
      ],
      "source": [
        "arr1D[1]"
      ]
    },
    {
      "cell_type": "markdown",
      "metadata": {},
      "source": [
        "But slicing returns an array"
      ]
    },
    {
      "cell_type": "code",
      "execution_count": 20,
      "metadata": {
        "colab": {
          "base_uri": "https://localhost:8080/"
        },
        "id": "s4DwbJoI9YMZ",
        "outputId": "edb5bb12-656d-40e6-90c0-2ca6e56b1c6b"
      },
      "outputs": [
        {
          "data": {
            "text/plain": [
              "array([2])"
            ]
          },
          "execution_count": 20,
          "metadata": {},
          "output_type": "execute_result"
        }
      ],
      "source": [
        "arr1D[1:2]"
      ]
    },
    {
      "cell_type": "code",
      "execution_count": 22,
      "metadata": {
        "colab": {
          "base_uri": "https://localhost:8080/"
        },
        "id": "1iUmpVr89dtp",
        "outputId": "a98b8e06-e6fd-4550-bc82-4b33d670ebc9"
      },
      "outputs": [
        {
          "data": {
            "text/plain": [
              "array([2, 3])"
            ]
          },
          "execution_count": 22,
          "metadata": {},
          "output_type": "execute_result"
        }
      ],
      "source": [
        "arr1D[1:3]"
      ]
    },
    {
      "cell_type": "code",
      "execution_count": 23,
      "metadata": {
        "colab": {
          "base_uri": "https://localhost:8080/"
        },
        "id": "namBa-6GuH5P",
        "outputId": "069b607c-9aa1-4359-86f4-1459de0ace4f"
      },
      "outputs": [
        {
          "name": "stdout",
          "output_type": "stream",
          "text": [
            "[[1 2 3]\n",
            " [4 5 6]\n",
            " [7 8 9]]\n"
          ]
        }
      ],
      "source": [
        "arr2D = np.array([[1, 2, 3], [4, 5, 6], [7, 8, 9]])\n",
        "print(arr2D)"
      ]
    },
    {
      "cell_type": "code",
      "execution_count": 24,
      "metadata": {
        "colab": {
          "base_uri": "https://localhost:8080/"
        },
        "id": "XQp1m2W2uq36",
        "outputId": "a93efbef-bd71-464b-81d3-95ada3479872"
      },
      "outputs": [
        {
          "data": {
            "text/plain": [
              "5"
            ]
          },
          "execution_count": 24,
          "metadata": {},
          "output_type": "execute_result"
        }
      ],
      "source": [
        "# indexing: access one element\n",
        "arr2D[1, 1]"
      ]
    },
    {
      "cell_type": "code",
      "execution_count": 25,
      "metadata": {
        "id": "oiFvv3nfvHBk"
      },
      "outputs": [
        {
          "data": {
            "text/plain": [
              "array([[4, 5, 6],\n",
              "       [7, 8, 9]])"
            ]
          },
          "execution_count": 25,
          "metadata": {},
          "output_type": "execute_result"
        }
      ],
      "source": [
        "# slicing: extracting subarrays\n",
        "arr2D[1:3]"
      ]
    },
    {
      "cell_type": "code",
      "execution_count": 26,
      "metadata": {
        "colab": {
          "base_uri": "https://localhost:8080/"
        },
        "id": "uWS2ZmMKuozE",
        "outputId": "e61f543b-bea0-45cc-d72e-88764349868d"
      },
      "outputs": [
        {
          "name": "stdout",
          "output_type": "stream",
          "text": [
            "[[[1 2]\n",
            "  [3 4]]\n",
            "\n",
            " [[5 6]\n",
            "  [7 8]]]\n"
          ]
        }
      ],
      "source": [
        "arr3D = np.array([[[1, 2], [3, 4]], [[5, 6], [7, 8]]])\n",
        "print(arr3D)"
      ]
    },
    {
      "cell_type": "markdown",
      "metadata": {},
      "source": [
        "Index takes tuple as the argument"
      ]
    },
    {
      "cell_type": "code",
      "execution_count": 27,
      "metadata": {
        "colab": {
          "base_uri": "https://localhost:8080/"
        },
        "id": "KQp_oBxVurzC",
        "outputId": "70bcd738-d1c1-49ad-a9f2-0f5432d6c411"
      },
      "outputs": [
        {
          "data": {
            "text/plain": [
              "8"
            ]
          },
          "execution_count": 27,
          "metadata": {},
          "output_type": "execute_result"
        }
      ],
      "source": [
        "arr3D[1,1,1] # indexing: access one element using a tuple of indices in a square bracket"
      ]
    },
    {
      "cell_type": "code",
      "execution_count": null,
      "metadata": {
        "colab": {
          "base_uri": "https://localhost:8080/"
        },
        "id": "8S-Ih9tIuZot",
        "outputId": "78af2532-e273-469b-d4a1-89cec80deb15"
      },
      "outputs": [
        {
          "name": "stdout",
          "output_type": "stream",
          "text": [
            "[[1 2 3]\n",
            " [4 5 6]\n",
            " [7 8 9]]\n"
          ]
        }
      ],
      "source": [
        "matrix = np.array([[1, 2, 3], [4, 5, 6], [7, 8, 9]])\n",
        "print(matrix)"
      ]
    },
    {
      "cell_type": "code",
      "execution_count": null,
      "metadata": {
        "colab": {
          "base_uri": "https://localhost:8080/"
        },
        "id": "J-8DBOSBu7eV",
        "outputId": "b8692063-f578-46cf-f48e-a0b66aae7217"
      },
      "outputs": [
        {
          "name": "stdout",
          "output_type": "stream",
          "text": [
            "2\n",
            "[2 5 8]\n",
            "[4 5 6]\n"
          ]
        }
      ],
      "source": [
        "matrix = np.array([[1, 2, 3], [4, 5, 6], [7, 8, 9]])\n",
        "print(matrix[0, 1])  # Output: 2 (Row 0, Column 1)\n",
        "print(matrix[:, 1])  # Output: [2 5 8] (Second column)\n",
        "print(matrix[1, :])  # Output: [4 5 6] (Second row)"
      ]
    },
    {
      "cell_type": "markdown",
      "metadata": {
        "id": "NVf3pnghtnxX"
      },
      "source": [
        "### Build-in functions to create arrays"
      ]
    },
    {
      "cell_type": "code",
      "execution_count": null,
      "metadata": {
        "colab": {
          "base_uri": "https://localhost:8080/"
        },
        "id": "2KjqPc6Jts3W",
        "outputId": "b0521d3c-d3ff-4a6e-bf26-879d53d543e3"
      },
      "outputs": [
        {
          "data": {
            "text/plain": [
              "array([[1., 1., 1.],\n",
              "       [1., 1., 1.],\n",
              "       [1., 1., 1.]])"
            ]
          },
          "execution_count": 77,
          "metadata": {},
          "output_type": "execute_result"
        }
      ],
      "source": [
        "np.ones((3,3))"
      ]
    },
    {
      "cell_type": "code",
      "execution_count": 28,
      "metadata": {
        "colab": {
          "base_uri": "https://localhost:8080/"
        },
        "id": "z34ybCt_ts6A",
        "outputId": "f718a0bb-47d1-47b6-c1a8-2860b9dadb9c"
      },
      "outputs": [
        {
          "ename": "AttributeError",
          "evalue": "module 'numpy' has no attribute 'threes'",
          "output_type": "error",
          "traceback": [
            "\u001b[1;31m---------------------------------------------------------------------------\u001b[0m",
            "\u001b[1;31mAttributeError\u001b[0m                            Traceback (most recent call last)",
            "Cell \u001b[1;32mIn[28], line 1\u001b[0m\n\u001b[1;32m----> 1\u001b[0m np\u001b[38;5;241m.\u001b[39mthrees((\u001b[38;5;241m3\u001b[39m,\u001b[38;5;241m3\u001b[39m))\n",
            "File \u001b[1;32md:\\Anaconda\\Lib\\site-packages\\numpy\\__init__.py:333\u001b[0m, in \u001b[0;36m__getattr__\u001b[1;34m(attr)\u001b[0m\n\u001b[0;32m    330\u001b[0m     \u001b[38;5;124m\"\u001b[39m\u001b[38;5;124mRemoved in NumPy 1.25.0\u001b[39m\u001b[38;5;124m\"\u001b[39m\n\u001b[0;32m    331\u001b[0m     \u001b[38;5;28;01mraise\u001b[39;00m \u001b[38;5;167;01mRuntimeError\u001b[39;00m(\u001b[38;5;124m\"\u001b[39m\u001b[38;5;124mTester was removed in NumPy 1.25.\u001b[39m\u001b[38;5;124m\"\u001b[39m)\n\u001b[1;32m--> 333\u001b[0m \u001b[38;5;28;01mraise\u001b[39;00m \u001b[38;5;167;01mAttributeError\u001b[39;00m(\u001b[38;5;124m\"\u001b[39m\u001b[38;5;124mmodule \u001b[39m\u001b[38;5;132;01m{!r}\u001b[39;00m\u001b[38;5;124m has no attribute \u001b[39m\u001b[38;5;124m\"\u001b[39m\n\u001b[0;32m    334\u001b[0m                      \u001b[38;5;124m\"\u001b[39m\u001b[38;5;132;01m{!r}\u001b[39;00m\u001b[38;5;124m\"\u001b[39m\u001b[38;5;241m.\u001b[39mformat(\u001b[38;5;18m__name__\u001b[39m, attr))\n",
            "\u001b[1;31mAttributeError\u001b[0m: module 'numpy' has no attribute 'threes'"
          ]
        }
      ],
      "source": [
        "np.threes((3,3))"
      ]
    },
    {
      "cell_type": "code",
      "execution_count": null,
      "metadata": {
        "colab": {
          "base_uri": "https://localhost:8080/"
        },
        "id": "MKy2gRRpts8z",
        "outputId": "ed259bb6-2ebd-417c-bc36-da88c516b759"
      },
      "outputs": [
        {
          "data": {
            "text/plain": [
              "array([[0., 0., 0.],\n",
              "       [0., 0., 0.],\n",
              "       [0., 0., 0.]])"
            ]
          },
          "execution_count": 75,
          "metadata": {},
          "output_type": "execute_result"
        }
      ],
      "source": [
        "np.zeros((3,3))"
      ]
    },
    {
      "cell_type": "code",
      "execution_count": 29,
      "metadata": {
        "colab": {
          "base_uri": "https://localhost:8080/"
        },
        "id": "U3DcC0STt4-P",
        "outputId": "5ae988e2-12d8-43bc-c36c-3b4e29cf97be"
      },
      "outputs": [
        {
          "data": {
            "text/plain": [
              "array([0.  , 0.25, 0.5 , 0.75, 1.  ])"
            ]
          },
          "execution_count": 29,
          "metadata": {},
          "output_type": "execute_result"
        }
      ],
      "source": [
        "# Create an array of five values evenly spaced between 0 and 1\n",
        "np.linspace(0, 1, 5)"
      ]
    },
    {
      "cell_type": "code",
      "execution_count": 30,
      "metadata": {
        "colab": {
          "base_uri": "https://localhost:8080/"
        },
        "id": "xVpBBPr8t0nX",
        "outputId": "23da9cb3-d76d-4f1c-e4fa-962aa9a82e20"
      },
      "outputs": [
        {
          "data": {
            "text/plain": [
              "array([3, 5, 7, 9])"
            ]
          },
          "execution_count": 30,
          "metadata": {},
          "output_type": "execute_result"
        }
      ],
      "source": [
        "# Create an array filled with a linear sequence\n",
        "# Starting at 3, ending at 10, stepping by 2\n",
        "np.arange(3, 10, 2)"
      ]
    },
    {
      "cell_type": "code",
      "execution_count": 31,
      "metadata": {
        "id": "l0-DkaHot7gM"
      },
      "outputs": [
        {
          "data": {
            "text/plain": [
              "array([1, 4, 7])"
            ]
          },
          "execution_count": 31,
          "metadata": {},
          "output_type": "execute_result"
        }
      ],
      "source": [
        "np.arange(1,10,3)"
      ]
    },
    {
      "cell_type": "code",
      "execution_count": 32,
      "metadata": {
        "id": "aKUSpB1qt7og"
      },
      "outputs": [
        {
          "data": {
            "text/plain": [
              "array([[1., 0., 0.],\n",
              "       [0., 1., 0.],\n",
              "       [0., 0., 1.]])"
            ]
          },
          "execution_count": 32,
          "metadata": {},
          "output_type": "execute_result"
        }
      ],
      "source": [
        "np.eye(3)"
      ]
    },
    {
      "cell_type": "markdown",
      "metadata": {
        "id": "f7AcIFkjvY17"
      },
      "source": [
        "### Random Number Generator\n"
      ]
    },
    {
      "cell_type": "code",
      "execution_count": 33,
      "metadata": {
        "colab": {
          "base_uri": "https://localhost:8080/"
        },
        "id": "7fGwNx0A5ob1",
        "outputId": "189ed26b-9ec3-4efb-a349-8935fd2b8ef6"
      },
      "outputs": [
        {
          "name": "stdout",
          "output_type": "stream",
          "text": [
            "[ 0.2949663   0.14180832 -0.24171169  1.15239734  0.24706741]\n"
          ]
        }
      ],
      "source": [
        "#{ run: \"auto\", vertical-output: true, form-width: \"50%\", display-mode: \"form\" }\n",
        "# @markdown How many numbers do you want to generate from normal population?\n",
        "samplesize = 5 # @param {type:\"slider\", min:0, max:100, step:1}\n",
        "# @markdown The means and standard deviation of normal population are :\n",
        "mean = 0 # @param {type:\"slider\", min:-50, max:50, step:1}\n",
        "sd = 1 # @param {type:\"slider\", min:0, max:100, step:1}\n",
        "B=np.random.normal(mean,sd,samplesize)\n",
        "print(B)"
      ]
    },
    {
      "cell_type": "markdown",
      "metadata": {
        "id": "T3Vhn9oKV814"
      },
      "source": [
        "#### Normal Distribution"
      ]
    },
    {
      "cell_type": "code",
      "execution_count": null,
      "metadata": {
        "colab": {
          "base_uri": "https://localhost:8080/"
        },
        "id": "if9hUqw0Y_3P",
        "outputId": "433f094d-212d-4dd2-e92f-91a95aba9a35"
      },
      "outputs": [
        {
          "data": {
            "text/plain": [
              "array([[ 3.87448584,  8.24864864,  2.0282768 ,  5.80198415, -1.110558  ],\n",
              "       [ 0.50089883,  4.04444144,  4.21777987,  0.03696541,  4.29087149],\n",
              "       [ 5.41615273, -1.42966389,  1.76017355,  5.58878614,  4.04163371]])"
            ]
          },
          "execution_count": 16,
          "metadata": {},
          "output_type": "execute_result"
        }
      ],
      "source": [
        "np.random.normal(4, 3, (3,5))\n"
      ]
    },
    {
      "cell_type": "code",
      "execution_count": null,
      "metadata": {
        "colab": {
          "base_uri": "https://localhost:8080/"
        },
        "id": "qyFXNfJ56fyP",
        "outputId": "2b00f28e-6a1b-4527-ca54-4e4aca0df84e"
      },
      "outputs": [
        {
          "data": {
            "text/plain": [
              "array([ 0.64980574,  1.66817663,  7.63818202,  4.06943359,  8.33692792,\n",
              "       -7.7029063 ,  9.27174951,  8.99021494,  6.61367081, 13.3070663 ])"
            ]
          },
          "execution_count": 84,
          "metadata": {},
          "output_type": "execute_result"
        }
      ],
      "source": [
        "np.random.normal(10, 5, 10)\n",
        "# sample from a normal porpulation\n",
        "# 10: mean of normal population\n",
        "# 5: std of normal population\n",
        "# 20: sample size"
      ]
    },
    {
      "cell_type": "code",
      "execution_count": 34,
      "metadata": {
        "colab": {
          "base_uri": "https://localhost:8080/"
        },
        "id": "qguUU9JMcveC",
        "outputId": "822e6d03-20bb-4a63-e2aa-9451bf098e85"
      },
      "outputs": [
        {
          "name": "stdout",
          "output_type": "stream",
          "text": [
            "<class 'numpy.ndarray'>\n"
          ]
        }
      ],
      "source": [
        "sample1 = np.random.normal(10, 5, 1000)\n",
        "# sample is a random sample with n = 1000 from normal population with mena 10 and std 5.\n",
        "# sample has a data type : numpy array\n",
        "# sample.min(), sample.max(),sample.mean(), sample.std()\n",
        "print(type(sample1))"
      ]
    },
    {
      "cell_type": "code",
      "execution_count": 35,
      "metadata": {
        "colab": {
          "base_uri": "https://localhost:8080/"
        },
        "id": "TihSt8qTyQFz",
        "outputId": "a6ef4a6c-4c8c-471a-a411-cde46b10cc3d"
      },
      "outputs": [
        {
          "data": {
            "text/plain": [
              "10.000854093281642"
            ]
          },
          "execution_count": 35,
          "metadata": {},
          "output_type": "execute_result"
        }
      ],
      "source": [
        "# take a random sample with sample size=5000, from normal population with mean=10, std=5\n",
        "anothersample = np.random.normal(10, 5, 5000)\n",
        "anothersample.mean()"
      ]
    },
    {
      "cell_type": "code",
      "execution_count": null,
      "metadata": {
        "colab": {
          "base_uri": "https://localhost:8080/"
        },
        "id": "cys598uEv9vQ",
        "outputId": "66ec30a5-bb13-4577-be33-1b503c53de0d"
      },
      "outputs": [
        {
          "name": "stdout",
          "output_type": "stream",
          "text": [
            "[[-18.77220069   8.00634566  30.89345747]\n",
            " [ -4.40356823   1.65546606  11.00982022]]\n"
          ]
        }
      ],
      "source": [
        "# 2*3 array with samples from normal with mean = 10 and sd= 20\n",
        "B = np.random.normal(10, 20, (2, 3)) #（2,3) is the size of the array\n",
        "print(B)"
      ]
    },
    {
      "cell_type": "code",
      "execution_count": null,
      "metadata": {
        "id": "lKo5CUmGQWNY"
      },
      "outputs": [],
      "source": [
        "#help(np.random.normal)"
      ]
    },
    {
      "cell_type": "markdown",
      "metadata": {
        "id": "dxD_FK7OV5-B"
      },
      "source": [
        "#### Standard normal"
      ]
    },
    {
      "cell_type": "code",
      "execution_count": null,
      "metadata": {
        "colab": {
          "base_uri": "https://localhost:8080/"
        },
        "id": "gfzdGIctv7Oj",
        "outputId": "2dc555df-f799-484c-994b-7285b05822c9"
      },
      "outputs": [
        {
          "name": "stdout",
          "output_type": "stream",
          "text": [
            "[-0.31403625 -0.53498323  1.82163413  0.64222911  0.44837162 -1.28499863]\n"
          ]
        }
      ],
      "source": [
        "# 2*3 array with samples from standard normal\n",
        "A = np.random.randn(6)\n",
        "print(A)"
      ]
    },
    {
      "cell_type": "code",
      "execution_count": null,
      "metadata": {
        "id": "0PULw_xWwIMG"
      },
      "outputs": [],
      "source": []
    },
    {
      "cell_type": "code",
      "execution_count": null,
      "metadata": {
        "colab": {
          "base_uri": "https://localhost:8080/"
        },
        "id": "CwSbM40zv7AB",
        "outputId": "4015c674-e287-4cdb-dd8b-290d1d1d6ea8"
      },
      "outputs": [
        {
          "name": "stdout",
          "output_type": "stream",
          "text": [
            "[[ 0.61796972 -0.08037081]\n",
            " [-1.00356092 -0.69448075]]\n"
          ]
        }
      ],
      "source": [
        "B = np.random.randn(2,2)\n",
        "print(B)"
      ]
    },
    {
      "cell_type": "markdown",
      "metadata": {
        "id": "kz-Zkx0uVYAz"
      },
      "source": [
        "\n",
        "\n",
        "```\n",
        "# This is formatted as code\n",
        "```\n",
        "\n",
        "#### Uniform Distribution"
      ]
    },
    {
      "cell_type": "code",
      "execution_count": 36,
      "metadata": {
        "colab": {
          "base_uri": "https://localhost:8080/"
        },
        "id": "np1jSTZ_v_j9",
        "outputId": "790cd1b1-5e0e-4601-f70c-238ed36920d4"
      },
      "outputs": [
        {
          "name": "stdout",
          "output_type": "stream",
          "text": [
            "[[0.16815955 0.51465802 0.99863264]\n",
            " [0.20358425 0.2913126  0.80726512]]\n"
          ]
        }
      ],
      "source": [
        "# 2*3 array with samples from uniform[0,1]\n",
        "C = np.random.rand(2, 3)\n",
        "print(C)"
      ]
    },
    {
      "cell_type": "code",
      "execution_count": 37,
      "metadata": {
        "id": "XJKUSCxkVcSt"
      },
      "outputs": [
        {
          "data": {
            "text/plain": [
              "1000"
            ]
          },
          "execution_count": 37,
          "metadata": {},
          "output_type": "execute_result"
        }
      ],
      "source": [
        "# generate 1000 random sample from uniform[0,1]\n",
        "D = np.random.rand(1000)\n",
        "len(D)"
      ]
    },
    {
      "cell_type": "code",
      "execution_count": 38,
      "metadata": {
        "id": "4AmlIHrEwBy4"
      },
      "outputs": [
        {
          "data": {
            "text/plain": [
              "['BitGenerator',\n",
              " 'Generator',\n",
              " 'MT19937',\n",
              " 'PCG64',\n",
              " 'PCG64DXSM',\n",
              " 'Philox',\n",
              " 'RandomState',\n",
              " 'SFC64',\n",
              " 'SeedSequence',\n",
              " '__RandomState_ctor',\n",
              " '__all__',\n",
              " '__builtins__',\n",
              " '__cached__',\n",
              " '__doc__',\n",
              " '__file__',\n",
              " '__loader__',\n",
              " '__name__',\n",
              " '__package__',\n",
              " '__path__',\n",
              " '__spec__',\n",
              " '_bounded_integers',\n",
              " '_common',\n",
              " '_generator',\n",
              " '_mt19937',\n",
              " '_pcg64',\n",
              " '_philox',\n",
              " '_pickle',\n",
              " '_sfc64',\n",
              " 'beta',\n",
              " 'binomial',\n",
              " 'bit_generator',\n",
              " 'bytes',\n",
              " 'chisquare',\n",
              " 'choice',\n",
              " 'default_rng',\n",
              " 'dirichlet',\n",
              " 'exponential',\n",
              " 'f',\n",
              " 'gamma',\n",
              " 'geometric',\n",
              " 'get_bit_generator',\n",
              " 'get_state',\n",
              " 'gumbel',\n",
              " 'hypergeometric',\n",
              " 'laplace',\n",
              " 'logistic',\n",
              " 'lognormal',\n",
              " 'logseries',\n",
              " 'mtrand',\n",
              " 'multinomial',\n",
              " 'multivariate_normal',\n",
              " 'negative_binomial',\n",
              " 'noncentral_chisquare',\n",
              " 'noncentral_f',\n",
              " 'normal',\n",
              " 'pareto',\n",
              " 'permutation',\n",
              " 'poisson',\n",
              " 'power',\n",
              " 'rand',\n",
              " 'randint',\n",
              " 'randn',\n",
              " 'random',\n",
              " 'random_integers',\n",
              " 'random_sample',\n",
              " 'ranf',\n",
              " 'rayleigh',\n",
              " 'sample',\n",
              " 'seed',\n",
              " 'set_bit_generator',\n",
              " 'set_state',\n",
              " 'shuffle',\n",
              " 'standard_cauchy',\n",
              " 'standard_exponential',\n",
              " 'standard_gamma',\n",
              " 'standard_normal',\n",
              " 'standard_t',\n",
              " 'test',\n",
              " 'triangular',\n",
              " 'uniform',\n",
              " 'vonmises',\n",
              " 'wald',\n",
              " 'weibull',\n",
              " 'zipf']"
            ]
          },
          "execution_count": 38,
          "metadata": {},
          "output_type": "execute_result"
        }
      ],
      "source": [
        "#Lists all attributes (functions, variables, classes) in np.random\n",
        "dir(np.random)"
      ]
    },
    {
      "cell_type": "code",
      "execution_count": 39,
      "metadata": {
        "id": "WicH4wNXwNc0"
      },
      "outputs": [
        {
          "name": "stdout",
          "output_type": "stream",
          "text": [
            "[[4 0 4 4 8]\n",
            " [6 8 4 2 4]\n",
            " [8 4 6 9 5]\n",
            " [7 8 7 0 5]\n",
            " [0 0 4 2 1]]\n"
          ]
        }
      ],
      "source": [
        "D = np.random.randint(0, 10, (5, 5))\n",
        "print(D)"
      ]
    },
    {
      "cell_type": "markdown",
      "metadata": {
        "id": "wYBCNR9VQvKW"
      },
      "source": [
        "### Element-wise Operation"
      ]
    },
    {
      "cell_type": "code",
      "execution_count": 41,
      "metadata": {
        "colab": {
          "base_uri": "https://localhost:8080/"
        },
        "id": "CiSqVIyuwTKq",
        "outputId": "c6181f91-a207-4624-a7d3-92fb53d5f172"
      },
      "outputs": [
        {
          "data": {
            "text/plain": [
              "array([[1, 2],\n",
              "       [3, 4]])"
            ]
          },
          "execution_count": 41,
          "metadata": {},
          "output_type": "execute_result"
        }
      ],
      "source": [
        "xArray = np.array([[1, 2], [3, 4]])\n",
        "xArray"
      ]
    },
    {
      "cell_type": "code",
      "execution_count": 42,
      "metadata": {
        "colab": {
          "base_uri": "https://localhost:8080/"
        },
        "id": "SgTPrXaSwRsq",
        "outputId": "1a6cb212-3a53-4dcc-f0ba-a570cada5a3b"
      },
      "outputs": [
        {
          "data": {
            "text/plain": [
              "array([[1., 1.],\n",
              "       [1., 1.]])"
            ]
          },
          "execution_count": 42,
          "metadata": {},
          "output_type": "execute_result"
        }
      ],
      "source": [
        "yArray = np.ones((2,2))\n",
        "yArray"
      ]
    },
    {
      "cell_type": "markdown",
      "metadata": {
        "id": "pumP3naGwteo"
      },
      "source": [
        "The upcasting follows this hierarchy of data types:\n",
        "int → float → complex → string\n"
      ]
    },
    {
      "cell_type": "code",
      "execution_count": 43,
      "metadata": {
        "colab": {
          "base_uri": "https://localhost:8080/"
        },
        "id": "kwzaUjClwVP_",
        "outputId": "76a7f983-d68f-4a71-dc3b-711f69c973ee"
      },
      "outputs": [
        {
          "data": {
            "text/plain": [
              "array([[2., 3.],\n",
              "       [4., 5.]])"
            ]
          },
          "execution_count": 43,
          "metadata": {},
          "output_type": "execute_result"
        }
      ],
      "source": [
        "xArray + yArray #Python automatically converts all elements to the most compatible data type with the highest precision."
      ]
    },
    {
      "cell_type": "code",
      "execution_count": 44,
      "metadata": {
        "id": "wxsnfUNSwWIy"
      },
      "outputs": [
        {
          "data": {
            "text/plain": [
              "array([[0., 1.],\n",
              "       [2., 3.]])"
            ]
          },
          "execution_count": 44,
          "metadata": {},
          "output_type": "execute_result"
        }
      ],
      "source": [
        "xArray - yArray"
      ]
    },
    {
      "cell_type": "code",
      "execution_count": 45,
      "metadata": {
        "id": "6Zu1QkTDwZPO"
      },
      "outputs": [
        {
          "data": {
            "text/plain": [
              "array([[1., 2.],\n",
              "       [3., 4.]])"
            ]
          },
          "execution_count": 45,
          "metadata": {},
          "output_type": "execute_result"
        }
      ],
      "source": [
        "xArray * yArray"
      ]
    },
    {
      "cell_type": "markdown",
      "metadata": {
        "id": "c8shWUfDxYb1"
      },
      "source": [
        "### Descriptive Statistics"
      ]
    },
    {
      "cell_type": "markdown",
      "metadata": {
        "id": "2ReDQVuIXoHb"
      },
      "source": [
        "#### Numpy global functions (called as np.method(array))"
      ]
    },
    {
      "cell_type": "code",
      "execution_count": 46,
      "metadata": {
        "colab": {
          "base_uri": "https://localhost:8080/"
        },
        "id": "hLxw4DssxX4R",
        "outputId": "e26cfe65-0f52-4e45-ffd1-83d87c53a2af"
      },
      "outputs": [
        {
          "name": "stdout",
          "output_type": "stream",
          "text": [
            "[[10 60 30 80]\n",
            " [50 20 70 40]]\n",
            "45.0\n",
            "45.0\n",
            "10\n",
            "80\n",
            "22.9128784747792\n",
            "360\n",
            "[ 10  70 100 180 230 250 320 360]\n"
          ]
        }
      ],
      "source": [
        "data = np.array([[10, 60, 30, 80], [50, 20, 70, 40]])\n",
        "print(data)\n",
        "print(np.mean(data))\n",
        "print(np.median(data))\n",
        "print(np.min(data))\n",
        "print(np.max(data))\n",
        "print(np.std(data))\n",
        "print(np.sum(data))\n",
        "print(np.cumsum(data))"
      ]
    },
    {
      "cell_type": "markdown",
      "metadata": {
        "id": "kv-4ntdNXg20"
      },
      "source": [
        "#### array.method()"
      ]
    },
    {
      "cell_type": "code",
      "execution_count": 76,
      "metadata": {
        "colab": {
          "base_uri": "https://localhost:8080/"
        },
        "id": "BgwhDGe-xX7T",
        "outputId": "f1752a6c-8db2-4371-9f4b-a58b9085828d"
      },
      "outputs": [
        {
          "name": "stdout",
          "output_type": "stream",
          "text": [
            "45.0\n",
            "10\n",
            "80\n",
            "22.9128784747792\n",
            "360\n",
            "[ 10  70 100 180 230 250 320 360]\n"
          ]
        }
      ],
      "source": [
        "# array has statistical methods\n",
        "print(data.mean())\n",
        "print(data.min())\n",
        "print(data.max())\n",
        "print(data.std())\n",
        "print(data.sum())\n",
        "print(data.cumsum())"
      ]
    },
    {
      "cell_type": "code",
      "execution_count": 77,
      "metadata": {
        "colab": {
          "base_uri": "https://localhost:8080/"
        },
        "id": "52CR-ABKxm0a",
        "outputId": "b69a8049-7e7b-45cf-bcda-cef14003c1f6"
      },
      "outputs": [
        {
          "name": "stdout",
          "output_type": "stream",
          "text": [
            "27.5\n",
            "45.0\n",
            "62.5\n"
          ]
        }
      ],
      "source": [
        "print(np.percentile(data, 25))\n",
        "print(np.median(data))\n",
        "print(np.percentile(data, 75))"
      ]
    },
    {
      "cell_type": "code",
      "execution_count": 78,
      "metadata": {
        "colab": {
          "base_uri": "https://localhost:8080/"
        },
        "id": "zDb-dNgAxpK5",
        "outputId": "059acbfb-d640-4955-fdc3-1c718c5be71c"
      },
      "outputs": [
        {
          "name": "stdout",
          "output_type": "stream",
          "text": [
            "360\n",
            "[ 60  80 100 120]\n",
            "[180 180]\n"
          ]
        }
      ],
      "source": [
        "print(data.sum())\n",
        "print(data.sum(axis = 0)) # by column\n",
        "print(data.sum(axis = 1)) # by row"
      ]
    },
    {
      "cell_type": "code",
      "execution_count": 79,
      "metadata": {
        "colab": {
          "base_uri": "https://localhost:8080/"
        },
        "id": "LsuKQNAHxtni",
        "outputId": "6ca07074-955e-4070-b58d-07a40ad1de53"
      },
      "outputs": [
        {
          "name": "stdout",
          "output_type": "stream",
          "text": [
            "80\n",
            "[50 60 70 80]\n",
            "[80 70]\n"
          ]
        }
      ],
      "source": [
        "print(data.max())\n",
        "print(data.max(axis = 0)) # by column\n",
        "print(data.max(axis = 1)) # by row"
      ]
    },
    {
      "cell_type": "markdown",
      "metadata": {
        "id": "8MF4QofzacW_"
      },
      "source": [
        "#### Advanced Aggregation"
      ]
    },
    {
      "cell_type": "markdown",
      "metadata": {
        "id": "RYannM43aiMa"
      },
      "source": [
        "**Conditional Aggregation**: Use masking to aggregate subsets."
      ]
    },
    {
      "cell_type": "code",
      "execution_count": 85,
      "metadata": {
        "colab": {
          "base_uri": "https://localhost:8080/"
        },
        "id": "BFrvo56IarYR",
        "outputId": "5b42da9a-2a5f-41d4-e884-b3b3a56d0ae0"
      },
      "outputs": [
        {
          "name": "stdout",
          "output_type": "stream",
          "text": [
            "[ True False  True False]\n",
            "<class 'numpy.ndarray'>\n",
            "4\n"
          ]
        }
      ],
      "source": [
        "arr = np.array([1, -2, 3, -4])\n",
        "print(arr>0)\n",
        "print(type(arr>0))  # Boolean array: True for positive elements, False for others\n",
        "print(arr[arr > 0].sum())# Sum positive elements: 4"
      ]
    },
    {
      "cell_type": "markdown",
      "metadata": {},
      "source": [
        "Integer Array Indexing selects elements from the original array at specified positions."
      ]
    },
    {
      "cell_type": "code",
      "execution_count": 86,
      "metadata": {},
      "outputs": [
        {
          "data": {
            "text/plain": [
              "array([ 1, -2, -2,  1])"
            ]
          },
          "execution_count": 86,
          "metadata": {},
          "output_type": "execute_result"
        }
      ],
      "source": [
        "arr[[0,1,1,0]]"
      ]
    },
    {
      "cell_type": "markdown",
      "metadata": {},
      "source": [
        "Boolean Mask Indexing keeps elements where the boolean mask is True"
      ]
    },
    {
      "cell_type": "code",
      "execution_count": 87,
      "metadata": {},
      "outputs": [
        {
          "data": {
            "text/plain": [
              "array([-2,  3])"
            ]
          },
          "execution_count": 87,
          "metadata": {},
          "output_type": "execute_result"
        }
      ],
      "source": [
        "arr[[False, True, True, False]] #Boolean array: True for positive elements, False for others"
      ]
    },
    {
      "cell_type": "markdown",
      "metadata": {
        "id": "0rEj0SjPatm-"
      },
      "source": [
        "**Multi-Axis Aggregation**: Combine axes in higher-dimensional arrays."
      ]
    },
    {
      "cell_type": "markdown",
      "metadata": {},
      "source": [
        "**Sum Across Axis**:\n",
        "Axes represent the dimensions of an array.\n",
        "- 0: Depth/Layers\n",
        "- 1: Rows\n",
        "- 2: Columns<br>\n",
        "It aligns with the order of tuple argument when creating an array.\n",
        "The **sum(axis=n)** operation collapses the specified axis, aggregating values along that dimension. The resulting array's shape loses the summed axis."
      ]
    },
    {
      "cell_type": "code",
      "execution_count": 88,
      "metadata": {
        "id": "Xu6uX648a1Pa"
      },
      "outputs": [
        {
          "name": "stdout",
          "output_type": "stream",
          "text": [
            "[[[0.37456632 0.36105669 0.41426762 0.35346455]\n",
            "  [0.84648637 0.12819825 0.51566443 0.28226079]\n",
            "  [0.48582706 0.3265071  0.68133839 0.08992984]]\n",
            "\n",
            " [[0.9939664  0.26659524 0.9656809  0.60201174]\n",
            "  [0.36874551 0.90719333 0.73570587 0.80921795]\n",
            "  [0.85243739 0.56974616 0.91843815 0.26453138]]]\n",
            "[4.33160946 4.5934725  4.18875546]\n"
          ]
        }
      ],
      "source": [
        "arr_3d = np.random.rand(2, 3, 4)  # 3D array\n",
        "print(arr_3d)\n",
        "print(arr_3d.sum(axis=(0, 2)))    # Sum over axis 0 and 2"
      ]
    },
    {
      "cell_type": "markdown",
      "metadata": {
        "id": "wV2pYGsIa29-"
      },
      "source": [
        "**Keep Dimensions**: Use keepdims=True to retain the original array’s dimensionality."
      ]
    },
    {
      "cell_type": "code",
      "execution_count": 91,
      "metadata": {
        "id": "56xRdEsoa5e9"
      },
      "outputs": [
        {
          "name": "stdout",
          "output_type": "stream",
          "text": [
            "[[ 6]\n",
            " [15]]\n"
          ]
        }
      ],
      "source": [
        "arr_2d = np.array([[1, 2, 3], [4, 5, 6]])\n",
        "print(arr_2d.sum(axis=1, keepdims=True))\n",
        "# Output: [[6], [15]] (shape: 2x1)"
      ]
    },
    {
      "cell_type": "markdown",
      "metadata": {
        "id": "1dqqRutGx0Nv"
      },
      "source": [
        "### Extra: Transpose of Array"
      ]
    },
    {
      "cell_type": "markdown",
      "metadata": {},
      "source": [
        "For a 2D array, the transpose swaps rows and columns."
      ]
    },
    {
      "cell_type": "code",
      "execution_count": 92,
      "metadata": {
        "id": "08WRQMzAx4jn"
      },
      "outputs": [
        {
          "name": "stdout",
          "output_type": "stream",
          "text": [
            "[[1 2]\n",
            " [3 4]\n",
            " [5 6]]\n",
            "[[1 3 5]\n",
            " [2 4 6]]\n"
          ]
        }
      ],
      "source": [
        "A = np.array([[1, 2], [3, 4], [5, 6]])\n",
        "print(A)\n",
        "print(A.T)"
      ]
    },
    {
      "cell_type": "code",
      "execution_count": 93,
      "metadata": {
        "id": "-tQKuwD8x9aQ"
      },
      "outputs": [
        {
          "name": "stdout",
          "output_type": "stream",
          "text": [
            "[[1 2 3]\n",
            " [4 5 6]]\n",
            "[[1 4]\n",
            " [2 5]\n",
            " [3 6]]\n"
          ]
        }
      ],
      "source": [
        "B = np.array([[1, 2, 3], [4, 5, 6]])\n",
        "print(B)\n",
        "print(B.T)"
      ]
    },
    {
      "cell_type": "markdown",
      "metadata": {
        "id": "Su_Pvtd3yNOS"
      },
      "source": [
        "### In-class Exercise 2"
      ]
    },
    {
      "cell_type": "markdown",
      "metadata": {
        "id": "lOGnuLK1R_sy"
      },
      "source": [
        "Note: how to read data from Google Drive is optional"
      ]
    },
    {
      "cell_type": "code",
      "execution_count": 98,
      "metadata": {
        "colab": {
          "base_uri": "https://localhost:8080/",
          "height": 339
        },
        "id": "X6XGq29BRlZ8",
        "outputId": "e9cf8fa5-0581-4fb2-f834-ec1406436eff"
      },
      "outputs": [
        {
          "name": "stderr",
          "output_type": "stream",
          "text": [
            "ERROR: Could not find a version that satisfies the requirement google.colab (from versions: none)\n",
            "ERROR: No matching distribution found for google.colab\n"
          ]
        },
        {
          "ename": "ModuleNotFoundError",
          "evalue": "No module named 'google.colab'",
          "output_type": "error",
          "traceback": [
            "\u001b[1;31m---------------------------------------------------------------------------\u001b[0m",
            "\u001b[1;31mModuleNotFoundError\u001b[0m                       Traceback (most recent call last)",
            "Cell \u001b[1;32mIn[98], line 2\u001b[0m\n\u001b[0;32m      1\u001b[0m get_ipython()\u001b[38;5;241m.\u001b[39msystem(\u001b[38;5;124m'\u001b[39m\u001b[38;5;124mpip install google.colab --quiet\u001b[39m\u001b[38;5;124m'\u001b[39m)\n\u001b[1;32m----> 2\u001b[0m \u001b[38;5;28;01mfrom\u001b[39;00m \u001b[38;5;21;01mgoogle\u001b[39;00m\u001b[38;5;21;01m.\u001b[39;00m\u001b[38;5;21;01mcolab\u001b[39;00m \u001b[38;5;28;01mimport\u001b[39;00m drive\n\u001b[0;32m      3\u001b[0m drive\u001b[38;5;241m.\u001b[39mmount(\u001b[38;5;124m'\u001b[39m\u001b[38;5;124m/content/drive\u001b[39m\u001b[38;5;124m'\u001b[39m)\n",
            "\u001b[1;31mModuleNotFoundError\u001b[0m: No module named 'google.colab'"
          ]
        }
      ],
      "source": [
        "from google.colab import drive\n",
        "drive.mount('/content/drive')"
      ]
    },
    {
      "cell_type": "code",
      "execution_count": null,
      "metadata": {
        "colab": {
          "base_uri": "https://localhost:8080/"
        },
        "id": "biezEJuAR16b",
        "outputId": "1a56396b-717f-44fa-ba35-14a451fb0d9d"
      },
      "outputs": [
        {
          "name": "stdout",
          "output_type": "stream",
          "text": [
            "/content/drive/My Drive/Colab Notebooks\n"
          ]
        }
      ],
      "source": [
        "import os\n",
        "os.chdir(\"/content/drive/My Drive/Colab Notebooks/\")\n",
        "print(os.getcwd())"
      ]
    },
    {
      "cell_type": "code",
      "execution_count": 106,
      "metadata": {
        "colab": {
          "base_uri": "https://localhost:8080/",
          "height": 206
        },
        "id": "wblcOvwcyRTx",
        "outputId": "53b9a331-b2b8-42c3-b182-e5d10b11b72c"
      },
      "outputs": [
        {
          "ename": "FileNotFoundError",
          "evalue": "[Errno 2] No such file or directory: 'president_heights.csv'",
          "output_type": "error",
          "traceback": [
            "\u001b[1;31m---------------------------------------------------------------------------\u001b[0m",
            "\u001b[1;31mFileNotFoundError\u001b[0m                         Traceback (most recent call last)",
            "Cell \u001b[1;32mIn[106], line 2\u001b[0m\n\u001b[0;32m      1\u001b[0m \u001b[38;5;28;01mimport\u001b[39;00m \u001b[38;5;21;01mpandas\u001b[39;00m \u001b[38;5;28;01mas\u001b[39;00m \u001b[38;5;21;01mpd\u001b[39;00m\n\u001b[1;32m----> 2\u001b[0m data \u001b[38;5;241m=\u001b[39m pd\u001b[38;5;241m.\u001b[39mread_csv(\u001b[38;5;124m'\u001b[39m\u001b[38;5;124mpresident_heights.csv\u001b[39m\u001b[38;5;124m'\u001b[39m)\n\u001b[0;32m      3\u001b[0m data\u001b[38;5;241m.\u001b[39mhead(\u001b[38;5;241m5\u001b[39m)\n",
            "File \u001b[1;32md:\\Anaconda\\Lib\\site-packages\\pandas\\io\\parsers\\readers.py:1026\u001b[0m, in \u001b[0;36mread_csv\u001b[1;34m(filepath_or_buffer, sep, delimiter, header, names, index_col, usecols, dtype, engine, converters, true_values, false_values, skipinitialspace, skiprows, skipfooter, nrows, na_values, keep_default_na, na_filter, verbose, skip_blank_lines, parse_dates, infer_datetime_format, keep_date_col, date_parser, date_format, dayfirst, cache_dates, iterator, chunksize, compression, thousands, decimal, lineterminator, quotechar, quoting, doublequote, escapechar, comment, encoding, encoding_errors, dialect, on_bad_lines, delim_whitespace, low_memory, memory_map, float_precision, storage_options, dtype_backend)\u001b[0m\n\u001b[0;32m   1013\u001b[0m kwds_defaults \u001b[38;5;241m=\u001b[39m _refine_defaults_read(\n\u001b[0;32m   1014\u001b[0m     dialect,\n\u001b[0;32m   1015\u001b[0m     delimiter,\n\u001b[1;32m   (...)\u001b[0m\n\u001b[0;32m   1022\u001b[0m     dtype_backend\u001b[38;5;241m=\u001b[39mdtype_backend,\n\u001b[0;32m   1023\u001b[0m )\n\u001b[0;32m   1024\u001b[0m kwds\u001b[38;5;241m.\u001b[39mupdate(kwds_defaults)\n\u001b[1;32m-> 1026\u001b[0m \u001b[38;5;28;01mreturn\u001b[39;00m _read(filepath_or_buffer, kwds)\n",
            "File \u001b[1;32md:\\Anaconda\\Lib\\site-packages\\pandas\\io\\parsers\\readers.py:620\u001b[0m, in \u001b[0;36m_read\u001b[1;34m(filepath_or_buffer, kwds)\u001b[0m\n\u001b[0;32m    617\u001b[0m _validate_names(kwds\u001b[38;5;241m.\u001b[39mget(\u001b[38;5;124m\"\u001b[39m\u001b[38;5;124mnames\u001b[39m\u001b[38;5;124m\"\u001b[39m, \u001b[38;5;28;01mNone\u001b[39;00m))\n\u001b[0;32m    619\u001b[0m \u001b[38;5;66;03m# Create the parser.\u001b[39;00m\n\u001b[1;32m--> 620\u001b[0m parser \u001b[38;5;241m=\u001b[39m TextFileReader(filepath_or_buffer, \u001b[38;5;241m*\u001b[39m\u001b[38;5;241m*\u001b[39mkwds)\n\u001b[0;32m    622\u001b[0m \u001b[38;5;28;01mif\u001b[39;00m chunksize \u001b[38;5;129;01mor\u001b[39;00m iterator:\n\u001b[0;32m    623\u001b[0m     \u001b[38;5;28;01mreturn\u001b[39;00m parser\n",
            "File \u001b[1;32md:\\Anaconda\\Lib\\site-packages\\pandas\\io\\parsers\\readers.py:1620\u001b[0m, in \u001b[0;36mTextFileReader.__init__\u001b[1;34m(self, f, engine, **kwds)\u001b[0m\n\u001b[0;32m   1617\u001b[0m     \u001b[38;5;28mself\u001b[39m\u001b[38;5;241m.\u001b[39moptions[\u001b[38;5;124m\"\u001b[39m\u001b[38;5;124mhas_index_names\u001b[39m\u001b[38;5;124m\"\u001b[39m] \u001b[38;5;241m=\u001b[39m kwds[\u001b[38;5;124m\"\u001b[39m\u001b[38;5;124mhas_index_names\u001b[39m\u001b[38;5;124m\"\u001b[39m]\n\u001b[0;32m   1619\u001b[0m \u001b[38;5;28mself\u001b[39m\u001b[38;5;241m.\u001b[39mhandles: IOHandles \u001b[38;5;241m|\u001b[39m \u001b[38;5;28;01mNone\u001b[39;00m \u001b[38;5;241m=\u001b[39m \u001b[38;5;28;01mNone\u001b[39;00m\n\u001b[1;32m-> 1620\u001b[0m \u001b[38;5;28mself\u001b[39m\u001b[38;5;241m.\u001b[39m_engine \u001b[38;5;241m=\u001b[39m \u001b[38;5;28mself\u001b[39m\u001b[38;5;241m.\u001b[39m_make_engine(f, \u001b[38;5;28mself\u001b[39m\u001b[38;5;241m.\u001b[39mengine)\n",
            "File \u001b[1;32md:\\Anaconda\\Lib\\site-packages\\pandas\\io\\parsers\\readers.py:1880\u001b[0m, in \u001b[0;36mTextFileReader._make_engine\u001b[1;34m(self, f, engine)\u001b[0m\n\u001b[0;32m   1878\u001b[0m     \u001b[38;5;28;01mif\u001b[39;00m \u001b[38;5;124m\"\u001b[39m\u001b[38;5;124mb\u001b[39m\u001b[38;5;124m\"\u001b[39m \u001b[38;5;129;01mnot\u001b[39;00m \u001b[38;5;129;01min\u001b[39;00m mode:\n\u001b[0;32m   1879\u001b[0m         mode \u001b[38;5;241m+\u001b[39m\u001b[38;5;241m=\u001b[39m \u001b[38;5;124m\"\u001b[39m\u001b[38;5;124mb\u001b[39m\u001b[38;5;124m\"\u001b[39m\n\u001b[1;32m-> 1880\u001b[0m \u001b[38;5;28mself\u001b[39m\u001b[38;5;241m.\u001b[39mhandles \u001b[38;5;241m=\u001b[39m get_handle(\n\u001b[0;32m   1881\u001b[0m     f,\n\u001b[0;32m   1882\u001b[0m     mode,\n\u001b[0;32m   1883\u001b[0m     encoding\u001b[38;5;241m=\u001b[39m\u001b[38;5;28mself\u001b[39m\u001b[38;5;241m.\u001b[39moptions\u001b[38;5;241m.\u001b[39mget(\u001b[38;5;124m\"\u001b[39m\u001b[38;5;124mencoding\u001b[39m\u001b[38;5;124m\"\u001b[39m, \u001b[38;5;28;01mNone\u001b[39;00m),\n\u001b[0;32m   1884\u001b[0m     compression\u001b[38;5;241m=\u001b[39m\u001b[38;5;28mself\u001b[39m\u001b[38;5;241m.\u001b[39moptions\u001b[38;5;241m.\u001b[39mget(\u001b[38;5;124m\"\u001b[39m\u001b[38;5;124mcompression\u001b[39m\u001b[38;5;124m\"\u001b[39m, \u001b[38;5;28;01mNone\u001b[39;00m),\n\u001b[0;32m   1885\u001b[0m     memory_map\u001b[38;5;241m=\u001b[39m\u001b[38;5;28mself\u001b[39m\u001b[38;5;241m.\u001b[39moptions\u001b[38;5;241m.\u001b[39mget(\u001b[38;5;124m\"\u001b[39m\u001b[38;5;124mmemory_map\u001b[39m\u001b[38;5;124m\"\u001b[39m, \u001b[38;5;28;01mFalse\u001b[39;00m),\n\u001b[0;32m   1886\u001b[0m     is_text\u001b[38;5;241m=\u001b[39mis_text,\n\u001b[0;32m   1887\u001b[0m     errors\u001b[38;5;241m=\u001b[39m\u001b[38;5;28mself\u001b[39m\u001b[38;5;241m.\u001b[39moptions\u001b[38;5;241m.\u001b[39mget(\u001b[38;5;124m\"\u001b[39m\u001b[38;5;124mencoding_errors\u001b[39m\u001b[38;5;124m\"\u001b[39m, \u001b[38;5;124m\"\u001b[39m\u001b[38;5;124mstrict\u001b[39m\u001b[38;5;124m\"\u001b[39m),\n\u001b[0;32m   1888\u001b[0m     storage_options\u001b[38;5;241m=\u001b[39m\u001b[38;5;28mself\u001b[39m\u001b[38;5;241m.\u001b[39moptions\u001b[38;5;241m.\u001b[39mget(\u001b[38;5;124m\"\u001b[39m\u001b[38;5;124mstorage_options\u001b[39m\u001b[38;5;124m\"\u001b[39m, \u001b[38;5;28;01mNone\u001b[39;00m),\n\u001b[0;32m   1889\u001b[0m )\n\u001b[0;32m   1890\u001b[0m \u001b[38;5;28;01massert\u001b[39;00m \u001b[38;5;28mself\u001b[39m\u001b[38;5;241m.\u001b[39mhandles \u001b[38;5;129;01mis\u001b[39;00m \u001b[38;5;129;01mnot\u001b[39;00m \u001b[38;5;28;01mNone\u001b[39;00m\n\u001b[0;32m   1891\u001b[0m f \u001b[38;5;241m=\u001b[39m \u001b[38;5;28mself\u001b[39m\u001b[38;5;241m.\u001b[39mhandles\u001b[38;5;241m.\u001b[39mhandle\n",
            "File \u001b[1;32md:\\Anaconda\\Lib\\site-packages\\pandas\\io\\common.py:873\u001b[0m, in \u001b[0;36mget_handle\u001b[1;34m(path_or_buf, mode, encoding, compression, memory_map, is_text, errors, storage_options)\u001b[0m\n\u001b[0;32m    868\u001b[0m \u001b[38;5;28;01melif\u001b[39;00m \u001b[38;5;28misinstance\u001b[39m(handle, \u001b[38;5;28mstr\u001b[39m):\n\u001b[0;32m    869\u001b[0m     \u001b[38;5;66;03m# Check whether the filename is to be opened in binary mode.\u001b[39;00m\n\u001b[0;32m    870\u001b[0m     \u001b[38;5;66;03m# Binary mode does not support 'encoding' and 'newline'.\u001b[39;00m\n\u001b[0;32m    871\u001b[0m     \u001b[38;5;28;01mif\u001b[39;00m ioargs\u001b[38;5;241m.\u001b[39mencoding \u001b[38;5;129;01mand\u001b[39;00m \u001b[38;5;124m\"\u001b[39m\u001b[38;5;124mb\u001b[39m\u001b[38;5;124m\"\u001b[39m \u001b[38;5;129;01mnot\u001b[39;00m \u001b[38;5;129;01min\u001b[39;00m ioargs\u001b[38;5;241m.\u001b[39mmode:\n\u001b[0;32m    872\u001b[0m         \u001b[38;5;66;03m# Encoding\u001b[39;00m\n\u001b[1;32m--> 873\u001b[0m         handle \u001b[38;5;241m=\u001b[39m \u001b[38;5;28mopen\u001b[39m(\n\u001b[0;32m    874\u001b[0m             handle,\n\u001b[0;32m    875\u001b[0m             ioargs\u001b[38;5;241m.\u001b[39mmode,\n\u001b[0;32m    876\u001b[0m             encoding\u001b[38;5;241m=\u001b[39mioargs\u001b[38;5;241m.\u001b[39mencoding,\n\u001b[0;32m    877\u001b[0m             errors\u001b[38;5;241m=\u001b[39merrors,\n\u001b[0;32m    878\u001b[0m             newline\u001b[38;5;241m=\u001b[39m\u001b[38;5;124m\"\u001b[39m\u001b[38;5;124m\"\u001b[39m,\n\u001b[0;32m    879\u001b[0m         )\n\u001b[0;32m    880\u001b[0m     \u001b[38;5;28;01melse\u001b[39;00m:\n\u001b[0;32m    881\u001b[0m         \u001b[38;5;66;03m# Binary mode\u001b[39;00m\n\u001b[0;32m    882\u001b[0m         handle \u001b[38;5;241m=\u001b[39m \u001b[38;5;28mopen\u001b[39m(handle, ioargs\u001b[38;5;241m.\u001b[39mmode)\n",
            "\u001b[1;31mFileNotFoundError\u001b[0m: [Errno 2] No such file or directory: 'president_heights.csv'"
          ]
        }
      ],
      "source": [
        "import pandas as pd\n",
        "data = pd.read_csv('president_heights.csv')\n",
        "data.head(5)"
      ]
    },
    {
      "cell_type": "code",
      "execution_count": null,
      "metadata": {
        "id": "fP1NlvI-x1qG"
      },
      "outputs": [],
      "source": []
    },
    {
      "cell_type": "code",
      "execution_count": null,
      "metadata": {
        "id": "Ymt23jEsyk73"
      },
      "outputs": [],
      "source": [
        "heights = np.array(data.iloc[:, 1]) #pandas will be taught next class"
      ]
    },
    {
      "cell_type": "code",
      "execution_count": null,
      "metadata": {
        "colab": {
          "base_uri": "https://localhost:8080/"
        },
        "id": "O9Prs_IyymhY",
        "outputId": "8fdf9c08-812c-46d3-e82a-c873220d80b5"
      },
      "outputs": [
        {
          "name": "stdout",
          "output_type": "stream",
          "text": [
            "Mean height:  70.8\n",
            "Standard deviation: 2.729265265394496\n",
            "Minimum height:  64\n",
            "Maximum height:  75\n",
            "25th percentile:  69.0\n",
            "Median:  71.0\n",
            "75th percentile:  73.0\n"
          ]
        }
      ],
      "source": [
        "print(\"Mean height: \", heights.mean())\n",
        "print(\"Standard deviation:\", heights.std())\n",
        "print(\"Minimum height: \", heights.min())\n",
        "print(\"Maximum height: \", heights.max())\n",
        "print(\"25th percentile: \", np.percentile(heights, 25))\n",
        "print(\"Median: \", np.median(heights))\n",
        "print(\"75th percentile: \", np.percentile(heights, 75))"
      ]
    },
    {
      "cell_type": "markdown",
      "metadata": {
        "id": "eWIDEcdeUEoJ"
      },
      "source": [
        "# Part 3: Scipy - Statistical Methods"
      ]
    },
    {
      "cell_type": "code",
      "execution_count": 117,
      "metadata": {
        "id": "12E-iGq5UEoJ"
      },
      "outputs": [
        {
          "name": "stdout",
          "output_type": "stream",
          "text": [
            "The probability is  9.865876450376946e-10\n"
          ]
        }
      ],
      "source": [
        "# @title Calculating CDF of a Normal Random Variable { run: \"auto\", vertical-output: true, form-width: \"50%\", display-mode: \"form\" }\n",
        "# @markdown -  P(X<x)=?  X is normal with mean  and sd.\n",
        "x = None # @param {type:\"number\"}\n",
        "mean = 60 # @param {type:\"number\"}\n",
        "sd = 10 # @param {type:\"number\"}\n",
        "#P(X<10)=?  X is normal with mean 8 and sd 5.\n",
        "p=sp.stats.norm.cdf(0,loc=mean,scale=sd)\n",
        "print(\"The probability is \", p)"
      ]
    },
    {
      "cell_type": "code",
      "execution_count": 118,
      "metadata": {
        "colab": {
          "base_uri": "https://localhost:8080/"
        },
        "id": "EvVsSGi4hgBT",
        "outputId": "876608bf-0e76-4cd9-dd7f-76e3eb8ec3a1"
      },
      "outputs": [
        {
          "data": {
            "text/plain": [
              "0.42074029056089696"
            ]
          },
          "execution_count": 118,
          "metadata": {},
          "output_type": "execute_result"
        }
      ],
      "source": [
        "#P(X < a) = ?  X is normal with mean 8 and sd 5\n",
        "# a = 0, calculate prob from negative infinity to this value\n",
        "sp.stats.norm.cdf(7, loc = 8, scale = 5)"
      ]
    },
    {
      "cell_type": "markdown",
      "metadata": {
        "id": "4myPcLbNYiLP"
      },
      "source": [
        "$$\n",
        "P(X>0)=1-P(X<0)\n",
        "$$"
      ]
    },
    {
      "cell_type": "code",
      "execution_count": null,
      "metadata": {
        "colab": {
          "base_uri": "https://localhost:8080/"
        },
        "id": "225GutOBR-yv",
        "outputId": "4444c203-df85-4f50-9f86-bc2da52e48f5"
      },
      "outputs": [
        {
          "data": {
            "text/plain": [
              "np.float64(0.945200708300442)"
            ]
          },
          "execution_count": 99,
          "metadata": {},
          "output_type": "execute_result"
        }
      ],
      "source": [
        "#P(X > 0) = ?  X is normal with mean 8 and sd 5\n",
        "1 - sp.stats.norm.cdf(0, 8, 5)"
      ]
    },
    {
      "cell_type": "code",
      "execution_count": 119,
      "metadata": {
        "colab": {
          "base_uri": "https://localhost:8080/"
        },
        "id": "9sJaXZnACFl5",
        "outputId": "7a1499c5-e591-4b5a-d2f4-1c8ba2e592be"
      },
      "outputs": [
        {
          "data": {
            "text/plain": [
              "0.018868972586632185"
            ]
          },
          "execution_count": 119,
          "metadata": {},
          "output_type": "execute_result"
        }
      ],
      "source": [
        "#P(-1<X<0)=?  X is normal with mean 8 and sd 5.\n",
        "sp.stats.norm.cdf(0, 8, 5) - sp.stats.norm.cdf(-1, 8, 5)"
      ]
    },
    {
      "cell_type": "markdown",
      "metadata": {
        "id": "edcB1csSCV3B"
      },
      "source": [
        "$$\n",
        "P(-1<X<0)=P(X<0)-P(X<-1)\n",
        "$$"
      ]
    },
    {
      "cell_type": "code",
      "execution_count": 120,
      "metadata": {
        "id": "H9ptPwruUEoK"
      },
      "outputs": [
        {
          "name": "stdout",
          "output_type": "stream",
          "text": [
            "The critical value is  -1.6448536269514729\n"
          ]
        }
      ],
      "source": [
        "# @title Computing the critical value { run: \"auto\", vertical-output: true, form-width: \"50%\", display-mode: \"form\" }\n",
        "# @markdown - P(X<?)=p, X is normal with mean  and sd\n",
        "p = 0.05 # @param {type:\"slider\", min:0, max:1, step:0.005}\n",
        "mean = 0 # @param {type:\"number\"}\n",
        "sd = 1 # @param {type:\"number\"}\n",
        "c=sp.stats.norm.ppf(p,loc=mean,scale=sd)\n",
        "print(\"The critical value is \", c)"
      ]
    },
    {
      "cell_type": "code",
      "execution_count": null,
      "metadata": {
        "colab": {
          "base_uri": "https://localhost:8080/"
        },
        "id": "Bhf0x-HBLfF4",
        "outputId": "03db2f66-5396-48bd-e2a1-6a770c626c92"
      },
      "outputs": [
        {
          "name": "stdout",
          "output_type": "stream",
          "text": [
            "1.2815515655446004\n"
          ]
        }
      ],
      "source": [
        "# Find the uppper 95th percentile of standard normal\n",
        "# P(X < ?) = 0.95 X is standard normal with mean 0 and sd 1\n",
        "print(sp.stats.norm.ppf(0.90,loc = 0, scale = 1))"
      ]
    },
    {
      "cell_type": "code",
      "execution_count": null,
      "metadata": {
        "id": "Cwb-AFSkL_MH"
      },
      "outputs": [],
      "source": [
        "# Find the upper 5th percentile of standard normal\n",
        "# P(X < ?) = 0.05 X is standard normal with mean 0 and sd 1\n",
        "print(sp.stats.norm.ppf(0.05,loc = 0, scale = 1))"
      ]
    },
    {
      "cell_type": "markdown",
      "metadata": {
        "id": "5hjNiBhzRyE9"
      },
      "source": [
        "Exercise 1: Find c in $P(X<c)=0.95$, X is normal with mean=10,std=5\n",
        "\n",
        "- A. sp.stats.norm.cdf(0.95,10,5)\n",
        "- B. np.stats.norm.ppf(0.95,10,5)\n",
        "- C. sp.stats.norm.ppf(0.95,10,5)\n",
        "- D. 1-sp.stats.norm.ppf(0.95,10,5)"
      ]
    },
    {
      "cell_type": "markdown",
      "metadata": {
        "id": "4FbAjG4vtPsT"
      },
      "source": [
        "Exercise 2: Find c in $P(X>c)=0.95$, X is normal with mean=10,std=5\n",
        "\n",
        "- A. sp.stats.norm.cdf(0.95,10,5)\n",
        "- B. sp.stats.norm.ppf(0.05,10,5)\n",
        "- C. sp.stats.norm.ppf(0.95,10,5)\n",
        "- D. 1-sp.stats.norm.ppf(0.95,10,5)"
      ]
    },
    {
      "cell_type": "markdown",
      "metadata": {
        "id": "9xS2FsFybh-J"
      },
      "source": [
        "$$\n",
        "P(X>10)=1-P(X<10)?\n",
        "$$"
      ]
    },
    {
      "cell_type": "markdown",
      "metadata": {
        "id": "nleQVPrNfnZP"
      },
      "source": [
        "### Extra: Plot of Standard Normal CDF"
      ]
    },
    {
      "cell_type": "code",
      "execution_count": 121,
      "metadata": {
        "id": "5yheuPDxfdEY"
      },
      "outputs": [
        {
          "data": {
            "image/png": "[encoded data removed]",
            "text/plain": [
              "<Figure size 640x480 with 1 Axes>"
            ]
          },
          "metadata": {},
          "output_type": "display_data"
        }
      ],
      "source": [
        "x = np.linspace(-4, 4, 100)\n",
        "y = sp.stats.norm.cdf(x)  # Standard Normal CDF\n",
        "\n",
        "plt.plot(x, y, label=\"Standard Normal CDF\", color=\"blue\")\n",
        "plt.xlabel(\"x\")\n",
        "plt.ylabel(\"P(X ≤ x)\")\n",
        "plt.title(\"Cumulative Distribution Function (CDF)\")\n",
        "plt.legend()\n",
        "plt.grid()\n",
        "plt.show()"
      ]
    },
    {
      "cell_type": "markdown",
      "metadata": {
        "id": "gFWEUrYETAQq"
      },
      "source": [
        "### In-class Exercise 3"
      ]
    },
    {
      "cell_type": "markdown",
      "metadata": {
        "id": "xls5PnKFTEuq"
      },
      "source": [
        "$$\n",
        "p = P(Z > 2.3) = 1 - P(Z < 2.3)\n",
        "$$"
      ]
    },
    {
      "cell_type": "code",
      "execution_count": null,
      "metadata": {
        "colab": {
          "base_uri": "https://localhost:8080/"
        },
        "id": "voTZI1BNTVb_",
        "outputId": "44002fe1-031e-466e-a8b0-d5fc78aa9337"
      },
      "outputs": [
        {
          "name": "stdout",
          "output_type": "stream",
          "text": [
            "The p-value is  0.010724110021675837\n"
          ]
        }
      ],
      "source": [
        "pvalue = 1 - sp.stats.norm.cdf(2.3,loc = 0, scale = 1)\n",
        "print(\"The p-value is \", pvalue)"
      ]
    },
    {
      "cell_type": "markdown",
      "metadata": {
        "id": "BMAfrJ-5UEoK"
      },
      "source": [
        "# Part 4: Matplotlib and Statistical Graphing"
      ]
    },
    {
      "cell_type": "code",
      "execution_count": 128,
      "metadata": {
        "id": "9Ztn4iCcN9gL"
      },
      "outputs": [
        {
          "data": {
            "text/plain": [
              "array([-1.01594486e+00, -1.75905903e+00,  1.14546193e+00,  1.17361313e+00,\n",
              "       -7.08930854e-01,  4.61782606e-02,  1.91011195e+00, -3.15674372e-01,\n",
              "       -2.78676004e-01,  8.32582851e-01,  1.33934451e+00, -5.58593545e-01,\n",
              "        1.78399146e+00,  7.03920665e-02, -1.39867000e+00,  6.87704283e-01,\n",
              "       -2.44101206e-01, -1.93708528e-01,  1.75725894e+00,  1.70796244e+00,\n",
              "       -2.16174968e+00,  1.28845647e+00,  1.09790989e+00, -2.35195079e+00,\n",
              "        8.79859824e-01, -1.65880337e+00, -5.56093370e-01, -7.69231162e-01,\n",
              "       -1.22491765e+00,  3.04852344e-01, -2.68184780e-01,  1.23999850e-02,\n",
              "        9.48556371e-01, -7.27363608e-01,  2.09149544e+00, -1.67778900e-01,\n",
              "        1.72686472e-01,  6.76198852e-02, -1.07580631e+00, -7.04771649e-02,\n",
              "        1.48920725e-01, -2.69418938e-01,  2.52842915e-01, -1.36082771e+00,\n",
              "       -8.54238177e-01, -1.21843932e+00,  6.87926481e-01, -5.53688279e-04,\n",
              "       -1.16776971e+00, -3.33947173e-01, -8.47885795e-01, -1.26399465e+00,\n",
              "        1.29181990e+00,  1.48443751e-01,  1.91389912e-01,  1.68569171e+00,\n",
              "       -6.34988708e-02,  1.59337662e+00,  1.52777592e+00,  1.05342211e+00,\n",
              "        7.03847770e-01,  6.35678860e-01,  6.33948525e-02,  6.33622119e-01,\n",
              "        9.59649527e-01,  1.41099960e+00, -1.63836662e+00, -5.94446790e-01,\n",
              "        4.99900690e-01, -8.10060182e-02,  2.39842905e+00, -7.66910527e-01,\n",
              "       -2.68416312e-01,  2.66254330e-01, -2.08062611e+00, -1.63653467e-01,\n",
              "       -3.22535620e-01, -5.76881361e-01, -4.64832516e-01,  3.78007998e-01,\n",
              "        1.08602574e+00, -2.36473040e+00, -2.48056092e-02, -2.75677297e-01,\n",
              "        7.43382073e-01, -1.58759146e-02,  4.82959311e-01, -2.65069259e-01,\n",
              "       -5.54485635e-01,  1.90281925e+00, -1.61722637e-01,  1.59296436e-01,\n",
              "        4.50394254e-01, -2.04725855e+00,  2.86528105e-01,  9.62503252e-01,\n",
              "        1.23034308e+00,  9.65473207e-01, -8.15836329e-01,  1.59752788e-01,\n",
              "        5.61818532e-01, -7.39750771e-01, -3.71238537e-01, -1.03632093e+00,\n",
              "       -6.94936164e-01,  6.50072882e-01, -4.05330557e-02, -1.62018131e+00,\n",
              "       -1.73270650e+00,  4.54124731e-01, -1.02237085e+00, -7.85095806e-01,\n",
              "       -1.75870404e+00,  4.00122170e-01, -3.93414663e-01, -8.97772808e-01,\n",
              "        1.13189787e+00,  5.72291114e-02,  1.36779599e-01, -4.06394964e-01,\n",
              "       -1.06337116e+00, -4.22344078e-01,  8.44408711e-01, -6.51571376e-01,\n",
              "        6.19881443e-02, -1.37452115e+00, -1.05004382e-01,  1.69074559e+00,\n",
              "       -2.05549757e-01, -2.29530230e-01,  3.09693011e-01, -2.11661786e-01,\n",
              "       -5.98099843e-01, -9.95606251e-01,  1.18514703e+00,  2.57801427e-01,\n",
              "        4.32605593e-01, -2.01866727e+00, -1.55677777e+00,  7.22606488e-01,\n",
              "        4.33294693e-01,  6.94033772e-01, -1.94744255e+00, -7.98266842e-01,\n",
              "       -4.54622858e-01,  1.97566550e+00,  4.80261655e-01,  6.04558132e-01,\n",
              "       -2.29945035e-01, -4.27658426e-01,  1.08278548e-01,  2.61107184e-01,\n",
              "        3.94335037e-01, -3.66839723e-01, -7.96698256e-01, -4.12321832e-01,\n",
              "        1.35311706e+00, -5.56386620e-01,  1.16566768e-01, -9.05969058e-03,\n",
              "       -3.45216344e-01, -1.24987182e+00,  1.77695301e-02,  1.34527336e+00,\n",
              "       -1.26648403e+00, -1.80551916e+00,  1.80393607e+00,  4.68305565e-01,\n",
              "        2.13137193e-01, -1.00028738e+00, -1.54918383e+00,  1.25736880e-01,\n",
              "       -1.36989292e+00, -6.66626942e-02, -2.81268692e-01, -4.35057692e-01,\n",
              "        4.01965122e-01,  1.81681856e-01,  1.03829162e+00, -9.64058064e-01,\n",
              "       -3.58165744e-01, -1.30679717e-01, -8.09660036e-01, -7.31295137e-01,\n",
              "       -1.54533349e+00, -7.29116475e-02, -8.52657452e-01,  9.55826679e-01,\n",
              "        3.87077404e-01,  7.31010314e-01, -1.90174243e+00, -1.40447275e+00,\n",
              "        2.03372174e-01, -2.04617278e-01, -1.35388474e+00, -5.77994479e-01,\n",
              "       -4.27422684e-01, -1.72680386e+00,  1.96593683e-01,  6.93479813e-01,\n",
              "       -6.58788443e-01,  1.67737798e+00, -1.84273705e+00,  9.74763305e-01,\n",
              "        5.83286006e-01,  1.31827215e+00,  3.45451592e-01, -6.92570702e-01,\n",
              "        7.87204588e-01,  5.45081718e-01, -6.46977872e-01,  1.10228804e+00,\n",
              "        2.13518784e+00, -1.27436466e-01, -1.44811961e+00, -7.04728477e-02,\n",
              "        1.98691890e-01,  1.62119962e+00,  2.91367950e-01, -9.38211643e-01,\n",
              "       -1.69586863e-01,  1.46848252e+00, -6.76196339e-01,  1.30379267e+00,\n",
              "        1.11136747e+00, -1.25917951e+00, -1.09050758e+00, -4.62648310e-01,\n",
              "        8.77039789e-01, -1.44809821e-01,  8.55781993e-02, -6.94098717e-01,\n",
              "        5.12827764e-02,  1.57247758e-01, -8.18645799e-01, -1.05075351e+00,\n",
              "       -9.10285543e-01,  1.25572126e+00, -1.77774120e+00, -1.51903941e-01,\n",
              "       -4.82710592e-01,  1.44266866e-02, -3.35613751e-01, -4.35477065e-01,\n",
              "        1.66263130e+00,  2.38118040e+00, -7.81935079e-01, -1.93092209e+00,\n",
              "        2.01071085e+00,  1.53428066e+00,  1.70165477e+00, -8.69242033e-01,\n",
              "       -7.88602051e-01,  9.55695832e-01, -1.59210582e-01, -3.87172916e-01,\n",
              "        1.05405378e+00, -9.11273263e-01,  2.41470395e-01,  1.39916162e+00,\n",
              "        4.33419241e-01,  1.01755505e+00,  1.33878541e+00,  6.62879913e-01,\n",
              "        8.45032033e-01,  3.99924907e-01,  4.52739675e-01, -1.03760014e+00,\n",
              "        3.44538060e-01,  9.81844256e-01, -1.43820543e-01,  2.11958569e-01,\n",
              "       -5.32498431e-01, -1.45419315e+00,  1.07988799e+00, -8.63647219e-01,\n",
              "        1.67089618e-02,  1.41085823e-01, -1.22175754e+00, -5.01161363e-01,\n",
              "       -1.15186676e-02, -6.04154960e-01, -1.29997647e-01, -8.82534203e-01,\n",
              "       -1.55533694e+00, -6.45005439e-01,  6.49997189e-01,  1.11846937e-01,\n",
              "        1.71571297e+00,  5.63458572e-01, -2.97999917e-03,  2.19891936e+00,\n",
              "       -2.20594909e+00,  8.41098762e-02, -1.74767098e-01,  1.76300285e+00,\n",
              "       -1.37764408e+00, -7.53602957e-01,  1.21055890e+00, -4.17000989e-01,\n",
              "       -1.11125182e+00,  6.74738773e-01, -2.45423391e+00,  3.13533375e-01,\n",
              "        4.93278696e-01,  1.25371611e+00,  2.64315873e-01,  1.20677728e+00,\n",
              "        1.43641929e+00,  1.56194557e+00,  5.92747081e-01,  1.76853386e+00,\n",
              "       -1.24720592e+00,  5.98144509e-01,  1.82055407e+00, -1.18925740e+00,\n",
              "       -4.84218527e-01,  1.84356446e+00, -1.25630851e+00, -1.72806551e+00,\n",
              "        4.37773834e-01,  5.03979886e-01,  1.45503547e+00,  1.06570926e+00,\n",
              "        5.04310642e-02, -9.88381225e-01,  2.57118793e-02, -1.33345188e+00,\n",
              "        2.36095522e-01,  5.55270214e-01, -2.13804853e-01, -1.60046824e+00,\n",
              "       -1.45046830e+00,  4.41271373e-01,  1.80972342e+00, -1.97597351e-01,\n",
              "       -4.89506480e-01, -2.68809790e-01, -1.65581640e+00,  2.24207853e-01,\n",
              "       -3.60141660e-01, -1.92903955e-01, -2.50481425e-01,  1.22929410e+00,\n",
              "       -2.53239934e+00, -8.48009504e-01, -8.20259762e-01,  1.16552130e+00,\n",
              "       -8.37412832e-01,  2.27922703e+00, -3.91320160e-01, -3.71653996e-01,\n",
              "       -3.23988116e-01, -5.26219496e-01,  7.73869537e-01,  9.12100444e-01,\n",
              "        1.31910032e+00, -7.07030750e-01,  9.21803388e-01, -4.56118344e-01,\n",
              "       -2.10104074e+00, -2.02209757e+00, -2.05852637e+00,  1.23273251e-01,\n",
              "       -1.47295618e-01, -1.80924202e+00, -7.34052113e-01, -4.56083651e-01,\n",
              "       -5.45181270e-01, -2.33780378e+00, -1.13181266e+00,  4.75523644e-01,\n",
              "        3.85359885e-02,  5.76085400e-01,  9.62761986e-01, -2.08477845e+00,\n",
              "        3.03520135e-01, -7.38893541e-01, -1.16521763e+00,  1.16945252e+00,\n",
              "        6.67906879e-01, -7.81945659e-01,  5.56924916e-01,  1.24428482e-01,\n",
              "        1.12398359e+00, -4.02594485e-01,  7.91066456e-01, -4.33214076e-01,\n",
              "        8.06176966e-01,  5.75519190e-01,  3.59518875e-01,  7.13853236e-01,\n",
              "       -1.19661618e+00, -1.05169734e+00,  2.54270531e-01, -3.56697291e-01,\n",
              "       -7.92873970e-01, -2.37029195e-01,  7.59313090e-01,  7.32756552e-01,\n",
              "        4.99450123e-01, -5.84120650e-01, -4.27221846e-01, -2.50341872e-01,\n",
              "        5.44108028e-01, -4.98519773e-01,  1.50019416e+00,  1.11588844e+00,\n",
              "        1.54082997e+00,  6.03626806e-01,  3.16932348e-01,  6.47595542e-01,\n",
              "        2.32256790e-01,  4.35392563e-01,  2.00605043e+00, -1.34473306e+00,\n",
              "       -1.79092361e-02,  3.57919703e+00, -1.08229734e+00,  4.28979690e-01,\n",
              "       -3.31444588e-01, -2.04807026e-01, -9.11693840e-01,  2.27832604e+00,\n",
              "        1.53587643e+00, -4.17099178e-01, -1.90198632e+00,  5.79779999e-01,\n",
              "       -8.77385188e-01, -7.72460632e-01,  2.11504411e+00, -2.57580633e-01,\n",
              "       -4.21577434e-02,  2.04000458e+00,  8.05241681e-01,  5.64245340e-02,\n",
              "       -5.61192334e-01,  4.70848377e-01,  6.75217734e-01, -2.37588477e+00,\n",
              "        4.26521783e-01,  6.90279337e-01,  2.72006226e-01, -1.58935587e+00,\n",
              "        9.63535344e-02,  9.84323593e-01,  6.57376734e-01, -1.46401647e+00,\n",
              "       -4.73562120e-01,  1.53550369e+00,  1.42421885e+00,  7.46967528e-02,\n",
              "        3.92717715e-01,  8.75205341e-01,  6.60689338e-01,  3.80694615e-01,\n",
              "        2.52904233e-01, -6.04477653e-01, -8.18484246e-02, -2.78204256e-01,\n",
              "       -5.67113901e-01,  4.87983920e-01, -1.92934174e+00,  2.88828131e-01,\n",
              "       -1.83237034e-01, -1.60590366e+00, -5.56254677e-01,  1.49427450e+00,\n",
              "       -4.36279505e-01, -3.95456034e-01, -1.04114907e-01,  4.71830768e-01,\n",
              "       -1.35173695e+00, -5.96616762e-01,  1.09318566e-01, -3.91272853e-01,\n",
              "       -4.55449175e-01, -2.68566146e-01, -1.80586378e-01,  4.43597578e-01,\n",
              "       -1.30848261e-01,  1.11279319e+00,  9.35752676e-01,  9.63745804e-01,\n",
              "       -1.63758747e+00,  3.50160335e-01, -7.14388775e-01,  7.87999173e-01,\n",
              "        4.83658154e-01, -7.02872589e-01, -1.59648203e-01,  9.00094518e-01,\n",
              "        2.98535371e-01,  1.75833985e+00, -1.22363764e+00,  1.74877508e+00,\n",
              "       -2.19870544e-01, -2.62917616e-01,  1.68888640e+00, -9.07662623e-02,\n",
              "       -3.97301123e-02, -1.63798420e+00,  7.37877605e-01,  9.01449957e-01,\n",
              "        2.30671951e+00,  1.03531169e+00,  3.85391253e-01, -3.11866386e-01,\n",
              "        1.51947861e+00,  1.35887109e+00,  7.97158747e-02, -4.06762018e-01,\n",
              "        5.11629752e-01,  4.49270831e-01,  1.06466285e+00,  1.45652927e-01,\n",
              "        3.12632677e-01,  6.71665656e-01,  6.49554168e-01,  1.29865351e+00,\n",
              "       -6.65792139e-01, -3.77249931e-01,  8.66680394e-02, -1.16074113e+00,\n",
              "        1.48187768e+00, -1.19253965e+00, -2.21279053e+00,  1.98962912e+00,\n",
              "       -9.93361971e-01,  2.19790291e+00,  1.31274578e+00, -1.68428323e+00,\n",
              "       -3.82403777e-01,  9.24232598e-01, -1.93010269e+00, -1.74716788e-01,\n",
              "       -7.87842197e-01, -5.55876490e-01, -7.18486062e-01, -1.96069379e-01,\n",
              "       -2.40166227e-01, -1.45577658e+00, -5.64938290e-01, -3.70484522e-01,\n",
              "       -1.40938460e+00,  5.42547821e-01, -2.73069653e-02,  1.76979887e+00,\n",
              "       -6.93148107e-01, -4.53540206e-01, -7.14273675e-02,  1.85904684e-01,\n",
              "       -9.86448460e-01, -8.73099273e-02, -2.18682591e-01,  2.05988238e-02,\n",
              "       -2.54545517e+00, -4.00357848e-01,  4.10738591e-01,  6.16243929e-01,\n",
              "        9.82293339e-01, -1.28210967e+00,  6.85637337e-01,  1.40418345e+00,\n",
              "        1.75817373e-01, -1.63550982e+00, -5.87222677e-02, -7.01707742e-01,\n",
              "        6.16409466e-01,  5.89777313e-02, -4.53080000e-01,  8.05336941e-02,\n",
              "       -1.08325219e+00,  3.53445089e-02,  1.55233380e+00,  1.66826236e+00,\n",
              "        4.87941399e-01,  4.25290094e-01, -1.19990335e+00, -6.97674614e-01,\n",
              "       -6.66383252e-01, -1.30247841e+00, -8.92077110e-01, -2.58329822e+00,\n",
              "       -1.34117716e+00, -1.54502570e+00, -2.38705008e-02, -1.42079605e-01,\n",
              "        2.37071933e-01,  1.31189990e-01, -4.74647776e-01,  1.57708228e+00,\n",
              "       -6.54672324e-02, -2.20429747e+00, -2.47993231e-01,  2.92289171e+00,\n",
              "       -6.70287062e-02,  1.95774766e-01, -4.16015637e-01,  8.21386928e-01,\n",
              "       -2.45317800e-02,  4.80430294e-01,  5.54427789e-01,  1.70936050e+00,\n",
              "        1.11967443e+00, -9.46338920e-02,  8.43781074e-01,  8.62103177e-01,\n",
              "       -5.22553634e-01, -1.37803733e+00, -3.67735694e-01, -1.35855515e+00,\n",
              "        6.49577331e-01, -9.34083801e-02, -2.28537959e-01,  2.00493760e+00,\n",
              "        8.20771332e-01, -1.71911627e+00, -1.79894014e+00,  6.73047632e-01,\n",
              "        2.96684700e-01,  9.50795685e-01, -2.27033620e+00,  5.82784778e-01,\n",
              "       -2.19313245e-01,  1.11882308e+00,  1.38040573e+00, -1.98685508e+00,\n",
              "        3.24399822e+00, -1.98744932e+00,  1.11998090e-01,  1.01984521e+00,\n",
              "       -8.67420964e-02,  6.64256706e-01,  2.87230943e-01, -1.88732264e+00,\n",
              "       -1.87256087e-01, -3.32447631e+00, -8.40921777e-01,  1.31627307e+00,\n",
              "        1.79999943e+00,  1.28537833e+00,  2.44706580e+00, -4.87707805e-01,\n",
              "       -2.26955270e+00, -2.28174795e-01,  4.92404711e-01, -1.28210938e+00,\n",
              "       -2.09026852e-01, -1.23684671e+00,  1.71027487e-01, -1.30130832e+00,\n",
              "       -3.60391047e-01,  9.78500853e-01,  1.12963531e+00,  7.99609348e-02,\n",
              "        1.07108570e+00,  1.33785424e-01,  7.83219439e-02, -1.48429329e+00,\n",
              "       -7.09365399e-01,  3.25793975e+00,  8.24391041e-01,  2.27319686e-01,\n",
              "       -1.31390520e-02, -1.16852037e+00,  2.34255591e-01,  9.22926094e-01,\n",
              "        5.98768508e-01,  5.53260576e-01,  1.43306965e+00,  1.31914921e+00,\n",
              "       -9.90278293e-02, -1.27859617e+00,  5.23087751e-02, -9.41526415e-01,\n",
              "       -6.39369436e-01,  1.14884264e+00,  8.90028174e-01, -3.64402714e-01,\n",
              "        4.18566103e-01,  2.07915243e+00, -4.91853484e-01, -8.63040326e-01,\n",
              "        4.59242787e-02, -8.17973385e-01,  1.62775026e+00, -9.98615757e-02,\n",
              "        4.12600199e-01, -9.06788069e-01,  2.63147418e-01, -4.50057711e-01,\n",
              "       -5.41315249e-01,  1.35696530e+00, -6.21567422e-01, -1.80093632e+00,\n",
              "       -2.79430360e+00,  8.42959166e-01, -1.58318997e+00, -8.05668628e-01,\n",
              "       -4.02967533e-01, -2.73540934e-01,  8.69180811e-02,  2.79494857e-01,\n",
              "        1.79152218e+00, -3.08848800e-01,  2.00058099e-01, -5.18202035e-01,\n",
              "       -5.60905574e-01,  1.37437020e+00,  5.84178705e-02, -4.48696554e-01,\n",
              "       -4.74082661e-01, -6.93705857e-01, -8.14956889e-01,  1.04860891e+00,\n",
              "       -2.04925129e+00,  7.30618348e-01,  9.76181697e-01, -1.47837880e+00,\n",
              "        5.99795714e-01, -4.65396254e-01, -3.33849531e-01, -2.14068177e+00,\n",
              "       -1.27453334e+00, -3.03579998e-01, -3.18245046e-01, -4.20132231e-01,\n",
              "        2.21901530e+00, -1.25888721e-02, -1.70530306e+00, -1.09818107e+00,\n",
              "        2.08522831e+00, -1.60154127e-01,  1.41964498e+00,  2.23858225e-01,\n",
              "       -4.48710029e-01, -5.86432045e-01, -5.56233897e-01,  7.58140067e-01,\n",
              "        1.11409397e-02, -1.00550688e+00,  6.51650203e-03,  4.44135988e-01,\n",
              "       -8.37142544e-02, -1.77631454e+00,  1.41604936e+00, -6.82648919e-01,\n",
              "       -2.49217390e-01, -3.36869328e-01,  6.41513310e-01,  4.39216590e-02,\n",
              "        1.41329435e+00, -4.22100482e-01, -7.28558016e-02, -5.55599006e-02,\n",
              "        3.98923925e-01,  1.09732773e+00, -6.21618873e-01,  1.39937655e+00,\n",
              "        1.03930569e-01, -1.18651510e-02, -1.49929503e+00,  1.06591606e+00,\n",
              "       -8.61365876e-01,  1.13038096e+00,  1.37168263e+00,  1.30973812e+00,\n",
              "       -6.56179690e-01, -1.15167715e+00, -4.23433892e-02, -1.34705985e-01,\n",
              "       -1.60651973e-01, -6.91855768e-01, -2.71309078e-01, -1.64907094e-01,\n",
              "       -5.52274285e-01,  7.00698462e-01, -2.75228634e+00, -2.56392172e+00,\n",
              "        8.96732728e-01, -2.68359469e-01,  2.52739768e-01, -6.44754350e-01,\n",
              "       -3.77047880e-01, -3.23461907e-01, -3.75774262e-01, -1.69715775e-01,\n",
              "       -1.39601975e+00,  1.67958624e-01,  4.61424997e-01, -6.74796601e-01,\n",
              "        1.54768456e+00, -1.09187474e-01,  3.68028059e-01,  1.45239313e+00,\n",
              "        8.02152772e-02,  1.21582190e+00,  1.21024034e+00, -6.34944495e-01,\n",
              "       -4.65958708e-01,  3.54528505e-01,  6.11623731e-01, -8.05735903e-01,\n",
              "       -1.59951535e-01, -2.13340674e+00, -8.00297231e-01, -5.16790055e-01,\n",
              "        4.59726619e-01, -2.13579584e-01, -1.11979515e+00, -3.29015605e-01,\n",
              "        1.50186812e+00, -1.14409379e+00,  4.51278904e-01, -4.53847244e-01,\n",
              "       -2.20937270e-01,  1.90176868e+00,  1.72202383e+00, -7.09785681e-01,\n",
              "       -8.12494961e-01,  1.02155268e+00,  3.38548661e-01,  5.91321617e-01,\n",
              "       -1.82605238e+00, -1.01214639e+00, -1.04825238e+00, -1.52855554e+00,\n",
              "        7.71940057e-01, -7.62741461e-02, -9.48365972e-02,  1.67342401e+00,\n",
              "       -2.36250551e+00,  1.69029336e-01, -1.66737259e-01, -1.08201555e+00,\n",
              "        1.31616132e+00, -1.78550083e+00,  5.24200407e-01, -7.79885812e-01,\n",
              "       -5.97978340e-01,  5.90025520e-01, -1.79869029e+00, -8.39277067e-01,\n",
              "        8.32443263e-02, -5.18724398e-01, -1.04047821e+00,  2.21374528e+00,\n",
              "       -4.80732061e-01, -1.85115907e-01,  5.58549486e-01,  5.61619014e-01,\n",
              "       -2.55288376e-01, -8.10816498e-01, -2.38104552e-01,  4.53236994e-01,\n",
              "        1.00247755e-02,  2.17905981e-01, -2.74469270e-01,  8.25934714e-01,\n",
              "        1.19940170e+00,  9.48749432e-01,  1.12916404e-02,  1.37773003e+00,\n",
              "        1.05851878e-01,  2.16383742e+00, -1.80169357e+00, -1.64550988e+00,\n",
              "        7.00139710e-01, -9.86982772e-01, -9.87167739e-03, -1.50670324e+00,\n",
              "        2.77296401e-01, -1.22666080e+00, -1.48431865e+00, -1.29807409e+00,\n",
              "        1.48021056e+00,  2.58073843e+00, -9.70691080e-01,  2.74101969e-01,\n",
              "       -2.41147322e-01, -5.30490274e-01,  8.51083926e-01, -2.11788614e-01,\n",
              "       -5.32458302e-01, -9.66828528e-01, -3.03405295e-01,  7.38375417e-01,\n",
              "       -6.20826151e-01,  1.99883496e+00, -1.28047686e+00,  1.94938394e+00,\n",
              "       -1.25383824e+00,  4.10600715e-01, -2.01548871e-01,  6.81812098e-01,\n",
              "       -5.60459772e-02, -5.89147801e-01, -4.15117390e-01, -9.59413309e-01,\n",
              "       -1.37161709e-01, -1.55685408e-01, -3.84974483e-01, -5.50083758e-01,\n",
              "        1.15248572e+00,  1.14420712e+00, -6.42984513e-01, -4.57130959e-01,\n",
              "       -1.22801069e+00, -9.96451077e-01, -1.66047473e+00,  1.34957807e+00,\n",
              "       -3.61142048e-01, -5.44552341e-01, -9.88712939e-01,  1.25026250e+00,\n",
              "       -5.51594362e-01,  8.08844579e-01,  2.44398595e-01,  2.10035027e-01,\n",
              "        1.28433151e+00,  2.73390171e+00, -4.76941789e-01, -6.23235894e-01,\n",
              "       -1.75511806e+00,  5.67950246e-01, -1.07144624e+00, -5.93420017e-01,\n",
              "        2.39811538e-01, -6.35037682e-01, -8.00187823e-01,  5.57674238e-01,\n",
              "       -6.96821483e-01,  3.91778395e-01,  1.14619521e-01, -1.11636149e+00,\n",
              "       -6.48833051e-01,  3.13138353e-01,  2.05534671e+00,  1.10149533e+00,\n",
              "       -1.39500324e+00, -8.44086071e-01, -1.00065489e+00,  5.05241692e-01,\n",
              "       -1.05897984e+00, -8.25824758e-02,  1.18618040e+00, -6.94080950e-01,\n",
              "        1.98604270e-01, -7.25464355e-01, -1.72784058e+00, -7.54218247e-01,\n",
              "       -7.43955303e-01, -1.71215984e+00,  4.81196459e-01,  3.05193450e-01,\n",
              "        1.32637030e+00,  1.20890671e+00,  2.59969750e-01, -6.33714166e-01,\n",
              "        5.81018406e-02, -6.03301478e-01,  1.35512218e+00,  7.40264143e-01,\n",
              "        7.66804556e-01, -4.58615523e-01, -1.94966240e-01, -1.46440697e-02,\n",
              "        3.06859245e-01, -8.11085294e-02,  7.01810509e-01, -5.56506809e-01,\n",
              "       -1.24719632e+00,  4.04600468e-01, -1.32596035e-01, -5.22466290e-02,\n",
              "       -9.01742433e-01,  1.11907105e+00, -9.03516830e-02,  9.02993515e-01,\n",
              "        2.02504831e-03,  2.76111525e-02,  1.38096052e+00,  1.16389870e+00,\n",
              "        7.68004695e-01, -9.13490310e-01,  5.06734771e-01, -1.90543493e-01,\n",
              "        1.03412962e+00,  9.36027449e-02,  1.24593303e+00, -5.87997344e-01,\n",
              "       -3.37134743e-01, -7.39693027e-01, -2.02698254e-01, -6.18380902e-01,\n",
              "        1.65865902e-01, -5.65188467e-01,  8.27598588e-01, -4.46835253e-01])"
            ]
          },
          "execution_count": 128,
          "metadata": {},
          "output_type": "execute_result"
        }
      ],
      "source": [
        "import matplotlib.pyplot as plt"
      ]
    },
    {
      "cell_type": "code",
      "execution_count": 123,
      "metadata": {
        "id": "eS37w7HiUEoK"
      },
      "outputs": [
        {
          "data": {
            "image/png": "[encoded data removed]",
            "text/plain": [
              "<Figure size 2000x500 with 1 Axes>"
            ]
          },
          "metadata": {},
          "output_type": "display_data"
        }
      ],
      "source": [
        "# @title Line plot { run: \"auto\", vertical-output: true, form-width: \"50%\", display-mode: \"form\" }\n",
        "mean = 7 # @param {type:\"slider\", min:-10, max:10, step:1}\n",
        "sd = 3 # @param {type:\"slider\", min:0, max:20, step:1}\n",
        "pjme=np.random.normal(mean,sd,500)\n",
        "plt.figure(figsize=(20,5))\n",
        "plt.plot(pjme,color=\"deeppink\")\n",
        "plt.ylim(-20,20)\n",
        "plt.xlim(0,500)\n",
        "plt.title(\"My first time series line plot\")\n",
        "plt.show()"
      ]
    },
    {
      "cell_type": "code",
      "execution_count": 124,
      "metadata": {
        "colab": {
          "base_uri": "https://localhost:8080/",
          "height": 288
        },
        "id": "5U9c6h0wlbpq",
        "outputId": "31d9168c-1449-4c6f-bce6-1c4229c4232c"
      },
      "outputs": [
        {
          "data": {
            "image/png": "[encoded data removed]",
            "text/plain": [
              "<Figure size 2000x500 with 1 Axes>"
            ]
          },
          "metadata": {},
          "output_type": "display_data"
        }
      ],
      "source": [
        "pjme1 = np.random.normal(10, 3, 500)\n",
        "pjme2 = np.random.normal(-10, 3, 500)\n",
        "plt.figure(figsize=(20,5))\n",
        "plt.plot(pjme1, color=\"blue\") #plt.plot() by default draws a line chart in Matplotlib\n",
        "plt.plot(pjme2, color=\"red\")\n",
        "plt.ylim(-20,20)\n",
        "plt.xlim(0,500)\n",
        "plt.title(\"My first time series line plot\")\n",
        "plt.show()"
      ]
    },
    {
      "cell_type": "code",
      "execution_count": 125,
      "metadata": {
        "colab": {
          "base_uri": "https://localhost:8080/",
          "height": 690
        },
        "id": "LZSzq8RzVbhX",
        "outputId": "9955d01b-f8a3-49da-cae5-3a2b5a8c79c3"
      },
      "outputs": [
        {
          "data": {
            "text/plain": [
              "(array([0.00311558, 0.00311558, 0.00623115, 0.        , 0.00934673,\n",
              "        0.01246231, 0.03427134, 0.03427134, 0.06542711, 0.0529648 ,\n",
              "        0.06854269, 0.11839191, 0.08100499, 0.14020095, 0.11216076,\n",
              "        0.13708537, 0.09969845, 0.13085422, 0.11216076, 0.09035172,\n",
              "        0.04984923, 0.0529648 , 0.06542711, 0.03115577, 0.01246231,\n",
              "        0.00623115, 0.01246231, 0.01246231, 0.        , 0.00311558]),\n",
              " array([-19.97015848, -19.32822273, -18.68628699, -18.04435125,\n",
              "        -17.4024155 , -16.76047976, -16.11854402, -15.47660827,\n",
              "        -14.83467253, -14.19273679, -13.55080104, -12.9088653 ,\n",
              "        -12.26692955, -11.62499381, -10.98305807, -10.34112232,\n",
              "         -9.69918658,  -9.05725084,  -8.41531509,  -7.77337935,\n",
              "         -7.13144361,  -6.48950786,  -5.84757212,  -5.20563638,\n",
              "         -4.56370063,  -3.92176489,  -3.27982914,  -2.6378934 ,\n",
              "         -1.99595766,  -1.35402191,  -0.71208617]),\n",
              " <BarContainer object of 30 artists>)"
            ]
          },
          "execution_count": 125,
          "metadata": {},
          "output_type": "execute_result"
        },
        {
          "data": {
            "image/png": "[encoded data removed]",
            "text/plain": [
              "<Figure size 640x480 with 1 Axes>"
            ]
          },
          "metadata": {},
          "output_type": "display_data"
        }
      ],
      "source": [
        "plt.hist(pjme1,bins=30,density=True, edgecolor=\"black\",color=\"pink\" )\n",
        "plt.hist(pjme2,bins=30,density=True, edgecolor=\"black\",color=\"red\" )"
      ]
    },
    {
      "cell_type": "markdown",
      "metadata": {
        "id": "9EyUkKuPG8Nq"
      },
      "source": []
    },
    {
      "cell_type": "code",
      "execution_count": 126,
      "metadata": {
        "id": "hwmGoFtjG8uS"
      },
      "outputs": [
        {
          "data": {
            "text/plain": [
              "Date\n",
              "2019-12-31    3215.179932\n",
              "2020-01-02    3244.669922\n",
              "2020-01-03    3226.360107\n",
              "2020-01-06    3217.550049\n",
              "2020-01-07    3241.860107\n",
              "                 ...     \n",
              "2020-12-24    3694.030029\n",
              "2020-12-28    3723.030029\n",
              "2020-12-29    3750.010010\n",
              "2020-12-30    3736.189941\n",
              "2020-12-31    3733.270020\n",
              "Name: Open, Length: 254, dtype: float64"
            ]
          },
          "execution_count": 126,
          "metadata": {},
          "output_type": "execute_result"
        }
      ],
      "source": [
        "data = isom2600.data.sp500()[\"Open\"]\n",
        "data"
      ]
    },
    {
      "cell_type": "code",
      "execution_count": 127,
      "metadata": {
        "id": "o1XghfxDG626"
      },
      "outputs": [
        {
          "data": {
            "image/png": "[encoded data removed]",
            "text/plain": [
              "<Figure size 2000x500 with 1 Axes>"
            ]
          },
          "metadata": {},
          "output_type": "display_data"
        }
      ],
      "source": [
        "plt.figure(figsize = (20,5))\n",
        "plt.plot(data, color = \"deeppink\")\n",
        "plt.show()"
      ]
    },
    {
      "cell_type": "code",
      "execution_count": 132,
      "metadata": {
        "id": "eSGqWcN1UEoL"
      },
      "outputs": [
        {
          "data": {
            "image/png": "[encoded data removed]",
            "text/plain": [
              "<Figure size 640x480 with 1 Axes>"
            ]
          },
          "metadata": {},
          "output_type": "display_data"
        }
      ],
      "source": [
        "# @title Histogram { run: \"auto\", vertical-output: true, form-width: \"40%\", display-mode: \"form\" }\n",
        "# @markdown Input your data\n",
        "X= np.random.normal(10,5,2000) # @param {type:\"raw\"}\n",
        "\n",
        "barcolor = \"red\" # @param [\"red\", \"pink\", \"cyan\", \"blue\", \"yellow\"] {allow-input: true}\n",
        "edge_color = \"black\" # @param [\"black\", \"green\", \"purple\", \"white\"] {allow-input: true}\n",
        "density = False # @param [\"True\", \"False\"] {type:\"raw\"}\n",
        "binnumber = 21 # @param {type:\"slider\", min:1, max:1000, step:10}\n",
        "plt.hist(X,edgecolor=edge_color,density=density,bins=binnumber,color=barcolor)\n",
        "plt.show()"
      ]
    },
    {
      "cell_type": "code",
      "execution_count": 133,
      "metadata": {
        "id": "ax7mEaj0UEoM"
      },
      "outputs": [],
      "source": [
        "pjme1 = np.random.normal(10,5,5000)\n",
        "pjme2 = np.random.normal(20,7,5000)\n",
        "pjme3 = np.random.normal(40,10,5000)\n",
        "pjme4 = np.random.normal(80,20,5000)"
      ]
    },
    {
      "cell_type": "code",
      "execution_count": 134,
      "metadata": {
        "id": "wraL_k2ZUEoM"
      },
      "outputs": [
        {
          "data": {
            "image/png": "[encoded data removed]",
            "text/plain": [
              "<Figure size 640x480 with 1 Axes>"
            ]
          },
          "metadata": {},
          "output_type": "display_data"
        }
      ],
      "source": [
        "plt.hist(pjme1,bins=30,density=True, edgecolor=\"black\",color=\"pink\" )\n",
        "plt.hist(pjme2,bins=30,density=True, edgecolor=\"black\",color=\"red\" )\n",
        "plt.hist(pjme3,bins=30,density=True, edgecolor=\"black\" ,color=\"purple\")\n",
        "plt.hist(pjme4,bins=30,density=True, edgecolor=\"black\",color=\"blue\" )\n",
        "plt.show()"
      ]
    },
    {
      "cell_type": "code",
      "execution_count": 136,
      "metadata": {
        "id": "CH1jpXHtzspH"
      },
      "outputs": [
        {
          "data": {
            "image/png": "[encoded data removed]",
            "text/plain": [
              "<Figure size 640x480 with 1 Axes>"
            ]
          },
          "metadata": {},
          "output_type": "display_data"
        }
      ],
      "source": [
        "pjme = np.random.normal(10,5,5000)**2 # Chi-square\n",
        "plt.hist(pjme, edgecolor=\"black\",bins=50)\n",
        "plt.show()"
      ]
    },
    {
      "cell_type": "markdown",
      "metadata": {
        "id": "p2u7gkJULCqg"
      },
      "source": [
        "$$\n",
        "Y=\\beta_0+\\beta_1 X+ \\epsilon\n",
        "$$"
      ]
    },
    {
      "cell_type": "code",
      "execution_count": 137,
      "metadata": {
        "id": "T4eb7zT0lR7k"
      },
      "outputs": [
        {
          "data": {
            "text/plain": [
              "Text(0.5, 1.0, 'The pattern between X and Y')"
            ]
          },
          "execution_count": 137,
          "metadata": {},
          "output_type": "execute_result"
        },
        {
          "data": {
            "image/png": "[encoded data removed]",
            "text/plain": [
              "<Figure size 640x480 with 1 Axes>"
            ]
          },
          "metadata": {},
          "output_type": "display_data"
        }
      ],
      "source": [
        "# @title Scatter plot { run: \"auto\", vertical-output: true, form-width: \"50%\", display-mode: \"form\" }\n",
        "# @markdown Input your X\n",
        "X = np.random.normal(5,10,100) # @param {type:\"raw\"}\n",
        "# @markdown Input Y\n",
        "Y = 100+5*X+np.random.normal(0,20,100) # @param {type:\"raw\"}\n",
        "fig=plt.figure()\n",
        "ax1=fig.add_subplot(1,1,1) #ignore\n",
        "ax1.scatter(X, Y)\n",
        "ax1.set_xlabel(\"Variable X \")\n",
        "ax1.set_ylabel(\"Variabl Y\")\n",
        "ax1.set_title(\"The pattern between X and Y\")"
      ]
    },
    {
      "cell_type": "markdown",
      "metadata": {
        "id": "fOQp78EkLk2B"
      },
      "source": [
        "The example above is to generate data  $(X,Y)$ with the following relationship\n",
        "\\begin{equation}\n",
        "Y=100+5X+\\epsilon\n",
        "\\end{equation}"
      ]
    },
    {
      "cell_type": "markdown",
      "metadata": {
        "id": "hnNqSXFLz0k8"
      },
      "source": [
        "### Figure Object (Optional)"
      ]
    },
    {
      "cell_type": "code",
      "execution_count": 138,
      "metadata": {
        "id": "rRcuJDs9z1E8"
      },
      "outputs": [
        {
          "data": {
            "image/png": "[encoded data removed]",
            "text/plain": [
              "<Figure size 1000x500 with 2 Axes>"
            ]
          },
          "metadata": {},
          "output_type": "display_data"
        }
      ],
      "source": [
        "# Create a figure object\n",
        "fig = plt.figure(figsize=(10, 5))\n",
        "# A Figure can contain multiple Axes (subplots)\n",
        "# Figure (fig) is the container.\n",
        "# Axes (axes1, axes2) are individual plots inside the figure\n",
        "axes1 = fig.add_subplot(2, 1, 1)\n",
        "axes1.hist(pjme1, bins=30, density=True, edgecolor=\"black\" )\n",
        "axes1.set_title(\"Stock return on Day 1\")\n",
        "axes1.set_ylabel(\"Return Day 1\")\n",
        "axes2 = fig.add_subplot(2, 1, 2)\n",
        "axes2.hist(pjme2, bins=30, density=True, edgecolor=\"black\" )\n",
        "axes2.set_title(\"Stock return on Day 2\")\n",
        "axes2.set_ylabel(\"Return Day 2\")\n",
        "fig.show()"
      ]
    },
    {
      "cell_type": "markdown",
      "metadata": {
        "id": "-xO2uhGLP3qT"
      },
      "source": [
        "# In-class Exercise 4"
      ]
    },
    {
      "cell_type": "markdown",
      "metadata": {
        "id": "G5s5IrSRQOu_"
      },
      "source": [
        "Question 1: We will use a random number generator to simulate daily stock price changes over 252 days. For simplicity, we assume that these daily changes follow a **standard normal distribution**"
      ]
    },
    {
      "cell_type": "code",
      "execution_count": null,
      "metadata": {
        "id": "2SN-a4vSP7w6"
      },
      "outputs": [],
      "source": [
        "# Set random seed for reproducibility\n",
        "np.random.seed(42)\n",
        "\n",
        "# Number of trading days (1 year)\n",
        "days = 252\n",
        "\n",
        "# Generate daily stock price changes from a standard normal distribution\n",
        "daily_changes = np.random.randn(days)"
      ]
    },
    {
      "cell_type": "code",
      "execution_count": null,
      "metadata": {
        "id": "vlpvy92HQn1e"
      },
      "outputs": [],
      "source": [
        "#daily_changes"
      ]
    },
    {
      "cell_type": "markdown",
      "metadata": {
        "id": "m3rD2UuUQJ2b"
      },
      "source": [
        "Question 2: Using NumPy’s cumulative sum method, we will compute the accumulated sum of daily changes, which serves as a proxy for stock price movements"
      ]
    },
    {
      "cell_type": "code",
      "execution_count": null,
      "metadata": {
        "id": "aA-RnzG2QHaY"
      },
      "outputs": [],
      "source": [
        "# Compute the cumulative sum to simulate stock price movements\n",
        "simulated_stock_price = np.cumsum(daily_changes)"
      ]
    },
    {
      "cell_type": "markdown",
      "metadata": {
        "id": "CW-_6e8pQrqd"
      },
      "source": [
        "Question 3: Finally, we will plot the simulated stock price to visualize its trend"
      ]
    },
    {
      "cell_type": "code",
      "execution_count": null,
      "metadata": {
        "id": "XFAtJFGVQLdP"
      },
      "outputs": [],
      "source": [
        "# Plot the simulated stock price\n",
        "plt.figure(figsize=(10, 5))\n",
        "plt.plot(simulated_stock_price, label='Simulated Stock Price', color='blue')\n",
        "plt.axhline(y=0, color='black', linestyle='--', linewidth=1)  # Reference line\n",
        "plt.xlabel('Days')\n",
        "plt.ylabel('Stock Price Change')\n",
        "plt.title('Simulated Stock Price Movements Over 252 Days')\n",
        "plt.legend()\n",
        "plt.grid()\n",
        "plt.show()"
      ]
    },
    {
      "cell_type": "markdown",
      "metadata": {
        "id": "KqH0MgHHP-16"
      },
      "source": []
    },
    {
      "cell_type": "markdown",
      "metadata": {
        "id": "3CvN4qPIUXg0"
      },
      "source": [
        "# Part 5: Topic Questions for the final exam\n"
      ]
    },
    {
      "cell_type": "markdown",
      "metadata": {
        "id": "8nR0B_JOUjYr"
      },
      "source": [
        "\n",
        "\n",
        "\n",
        "\n",
        "1.   [Problems](https://drive.google.com/file/d/1E3M21WQGToCPNZ8EPkdLOuA35USecopR/view?usp=sharing)\n",
        "2.   [Accompanied notebook](https://colab.research.google.com/drive/1E7Nw-AW53ArWPnqkoa20zct4CE2cpHuQ)\n",
        "\n"
      ]
    },
    {
      "cell_type": "markdown",
      "metadata": {
        "id": "UBoJczGLOSIL"
      },
      "source": [
        "## Warm-up"
      ]
    },
    {
      "cell_type": "markdown",
      "metadata": {
        "id": "I3K_foDMZdBC"
      },
      "source": [
        "### Q1"
      ]
    },
    {
      "cell_type": "markdown",
      "metadata": {
        "id": "nC6dsKE6OYGv"
      },
      "source": [
        "You’re analyzing customer purchase frequencies at a retail store. The number of purchases made by five customers last month is stored in the list:\n",
        "**purchase_freq = [7, 1, 4, 2, 5]**\n",
        "\n",
        "Each customer spends $50 per order on average. You want to calculate the total spend of customers who made more than 3 purchases last month. The desired output is\n",
        "**[350, 200, 250]**"
      ]
    },
    {
      "cell_type": "markdown",
      "metadata": {
        "id": "l7NwuDvTPMZl"
      },
      "source": [
        "\n",
        "\n",
        "1.   [x * 50 for x in purchase_freq if x > 3]\n",
        "2.   [x * 50 if x > 3 else 0 for x in purchase_freq]\n",
        "3.   [x * 50 for x in purchase_freq if x < 3]\n",
        "4.   [50 for x in purchase_freq if x > 3]"
      ]
    },
    {
      "cell_type": "code",
      "execution_count": null,
      "metadata": {
        "id": "GtzKcZHAOHUu"
      },
      "outputs": [],
      "source": [
        "purchase_freq = [7, 1, 4, 2, 5]"
      ]
    },
    {
      "cell_type": "code",
      "execution_count": null,
      "metadata": {
        "id": "TrRUtoAJPj-g"
      },
      "outputs": [],
      "source": []
    },
    {
      "cell_type": "markdown",
      "metadata": {
        "id": "6X1W4jlPZjat"
      },
      "source": [
        "### Q2"
      ]
    },
    {
      "cell_type": "markdown",
      "metadata": {
        "id": "w09UG_JOSQ3U"
      },
      "source": [
        "You’re reviewing an inventory list of different item quantities (some booleans were mistakenly included):\n",
        "\n",
        "**stock_list = [5, True, 0, False, 3]**\n",
        "\n",
        "You apply a filter to include only items with positive stock, and subtract 1 unit from each for internal recordkeeping:\n",
        "\n",
        "**adjusted_stock = [x - 1 for x in stock_list if x > 0]**\n",
        "\n",
        "**print(adjusted_stock[2])**\n",
        "\n",
        "What will be the output?"
      ]
    },
    {
      "cell_type": "code",
      "execution_count": null,
      "metadata": {
        "id": "RI4pfyk-SdC_"
      },
      "outputs": [],
      "source": [
        "stock_list = [5, True, 0, False, 3]"
      ]
    },
    {
      "cell_type": "code",
      "execution_count": null,
      "metadata": {
        "id": "gZmVLjDIS2Rt"
      },
      "outputs": [],
      "source": [
        "adjusted_stock = [x - 1 for x in stock_list if x > 0]"
      ]
    },
    {
      "cell_type": "code",
      "execution_count": null,
      "metadata": {
        "colab": {
          "base_uri": "https://localhost:8080/"
        },
        "id": "iPXCzAkCS4Xa",
        "outputId": "ecfa11e2-3f0d-4766-dc69-1ddf2c7debee"
      },
      "outputs": [
        {
          "name": "stdout",
          "output_type": "stream",
          "text": [
            "2\n"
          ]
        }
      ],
      "source": [
        "print(adjusted_stock[2])"
      ]
    },
    {
      "cell_type": "code",
      "execution_count": null,
      "metadata": {
        "colab": {
          "base_uri": "https://localhost:8080/"
        },
        "id": "sG1pp4J5S7_g",
        "outputId": "374e634a-3192-424e-92c4-05e70b018524"
      },
      "outputs": [
        {
          "name": "stdout",
          "output_type": "stream",
          "text": [
            "[4, 0, 2]\n"
          ]
        }
      ],
      "source": [
        "print(adjusted_stock)"
      ]
    },
    {
      "cell_type": "code",
      "execution_count": null,
      "metadata": {
        "colab": {
          "base_uri": "https://localhost:8080/"
        },
        "id": "gbXwNjf3S_IR",
        "outputId": "3d0ef816-e31f-43d5-9039-57f1e3c143f3"
      },
      "outputs": [
        {
          "data": {
            "text/plain": [
              "[4, 0]"
            ]
          },
          "execution_count": 11,
          "metadata": {},
          "output_type": "execute_result"
        }
      ],
      "source": [
        "adjusted_stock[:2]"
      ]
    },
    {
      "cell_type": "code",
      "execution_count": null,
      "metadata": {
        "colab": {
          "base_uri": "https://localhost:8080/"
        },
        "id": "ow-0GimVT8eN",
        "outputId": "40386af5-4a80-49dc-9420-337c3b106bdf"
      },
      "outputs": [
        {
          "data": {
            "text/plain": [
              "[0, 2]"
            ]
          },
          "execution_count": 12,
          "metadata": {},
          "output_type": "execute_result"
        }
      ],
      "source": [
        "adjusted_stock[-2:]"
      ]
    },
    {
      "cell_type": "code",
      "execution_count": null,
      "metadata": {
        "id": "l8Xbq7hkZWtM"
      },
      "outputs": [],
      "source": []
    },
    {
      "cell_type": "markdown",
      "metadata": {
        "id": "L72j8j_sZpIZ"
      },
      "source": [
        "### Q3"
      ]
    },
    {
      "cell_type": "markdown",
      "metadata": {
        "id": "Flp_jV45Zt2c"
      },
      "source": [
        "You’re analyzing weekly sales data for two branches of a retail store. The sales (in thousands of dollars) for four product categories are stored in a NumPy array as follows:\n",
        "\n",
        "Each column represents a different product category, and each row represents a different store branch.\n",
        "\n",
        "You want to calculate the total sales for the largest 3 product categories across both branches.\n",
        "\n",
        "Which of the following commands would give you that result?\n"
      ]
    },
    {
      "cell_type": "markdown",
      "metadata": {
        "id": "WHR7IA8LaXrJ"
      },
      "source": [
        "A. top3.sum(axis=1)\n",
        "\n",
        "B. top3.sum(axis=0)\n",
        "\n",
        "C. top3.mean(axis=0)\n",
        "\n",
        "D. np.sum(top3)\n"
      ]
    },
    {
      "cell_type": "code",
      "execution_count": null,
      "metadata": {
        "id": "qN4S19YBT_IU"
      },
      "outputs": [],
      "source": [
        "sales = np.array([\n",
        "    [10, 20, 30, 0.2],  # Branch A\n",
        "    [50, 60, 70, 0.1]   # Branch B\n",
        "])"
      ]
    },
    {
      "cell_type": "markdown",
      "metadata": {
        "id": "kWoJKQvfZru1"
      },
      "source": [
        "### Q4"
      ]
    },
    {
      "cell_type": "markdown",
      "metadata": {
        "id": "6BSN1RrrU_hB"
      },
      "source": [
        "A shipping company tracks delivery times, which are normally distributed with a mean of 5 days and a standard deviation of 1.2 days.\n",
        "\n",
        "You want to calculate the probability that a randomly selected delivery takes more than 6 days to arrive.\n",
        "\n",
        "Which of the following Python commands will correctly compute this probability?"
      ]
    },
    {
      "cell_type": "code",
      "execution_count": null,
      "metadata": {
        "id": "PDuxZFudVB_8"
      },
      "outputs": [],
      "source": []
    },
    {
      "cell_type": "markdown",
      "metadata": {
        "id": "RPXjUALoVEw8"
      },
      "source": [
        "A. 1 - scipy.stats.norm.ppf(6, loc=5, scale=1.2)\n",
        "\n",
        "B. scipy.stats.norm.cdf(6, loc=5, scale=1.2)\n",
        "\n",
        "C. 1 - scipy.stats.norm.cdf(6, loc=5, scale=1.2)\n",
        "\n",
        "D. scipy.stats.norm.pdf(6, loc=5, scale=1.2)"
      ]
    },
    {
      "cell_type": "code",
      "execution_count": null,
      "metadata": {
        "id": "RmmADYf9VHYv"
      },
      "outputs": [],
      "source": []
    }
  ],
  "metadata": {
    "colab": {
      "provenance": []
    },
    "kernelspec": {
      "display_name": "base",
      "language": "python",
      "name": "python3"
    },
    "language_info": {
      "codemirror_mode": {
        "name": "ipython",
        "version": 3
      },
      "file_extension": ".py",
      "mimetype": "text/x-python",
      "name": "python",
      "nbconvert_exporter": "python",
      "pygments_lexer": "ipython3",
      "version": "3.12.7"
    },
    "nteract": {
      "version": "0.27.0"
    }
  },
  "nbformat": 4,
  "nbformat_minor": 0
}

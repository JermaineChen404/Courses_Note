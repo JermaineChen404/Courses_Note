{
  "cells": [
    {
      "cell_type": "markdown",
      "metadata": {
        "id": "Vq4oHro1mb7r"
      },
      "source": [
        "# Assignment  1 (100 pts)\n",
        "\n",
        "## Due Date & Time: 25-Mar-2025 (11:59pm HKT)\n",
        "\n",
        "\n",
        "\n",
        "\n"
      ]
    },
    {
      "cell_type": "markdown",
      "metadata": {
        "id": "UYbPCE-WBVnX"
      },
      "source": [
        "---\n",
        "## Question 1\n",
        "\n",
        "Given a list of revenues and a list of costs as follows:\n",
        "```python\n",
        "revenue = [30000, 50000, 70000, 90000]\n",
        "cost = [10000, 15000, 20000, 30000]\n",
        "```\n",
        "\n",
        "Write a **list comprehension** together with the `zip()` function to make a new list that maintains profits (i.e., the difference between the revenues and costs)\n",
        "\n",
        "<font color='red'>**Full credits will be awarded only if your answer satisfies the above requirements. Otherwise, you will get at most 80% of full marks.**</font>"
      ]
    },
    {
      "cell_type": "code",
      "execution_count": 4,
      "metadata": {
        "id": "KjndUyc1BkPz",
        "colab": {
          "base_uri": "https://localhost:8080/"
        },
        "outputId": "d6c5ba11-b319-4ba2-826f-54923838a6e2"
      },
      "outputs": [
        {
          "output_type": "stream",
          "name": "stdout",
          "text": [
            "[20000, 35000, 50000, 60000]\n"
          ]
        }
      ],
      "source": [
        "#starter code\n",
        "revenue = [30000, 50000, 70000, 90000]\n",
        "cost = [10000, 15000, 20000, 30000]\n",
        "\n",
        "# write your code below\n",
        "profits = [r-c for r, c in zip(revenue, cost)]"
      ]
    },
    {
      "cell_type": "markdown",
      "source": [
        "---\n",
        "\n",
        "## Question 2\n",
        "\n",
        "Write a Python program that helps generate a receipt for a customer's shopping. The program should:\n",
        "\n",
        "1. Take the following inputs from the user (using `input` function):\n",
        "  - Customer Name (a string)\n",
        "  - Item Name (a string)\n",
        "  - Quantity (an integer)\n",
        "  - Price per Item (a float)\n",
        "2. Calculate the total cost by multiplying the quantity and price per item.\n",
        "3. Using an f-string, display a formatted receipt:\n",
        "  - The customer's name should be displayed in title case (e.g., \"John Doe\").\n",
        "  - The total cost should be displayed with exactly two decimal places.\n",
        "  - Add other messages based on the example output below.\n",
        "\n",
        "Example Input:\n",
        "```python\n",
        "Customer Name: john doe\n",
        "Item Name: laptop\n",
        "Quantity: 2\n",
        "Price per Item: 1300.5\n",
        "```\n",
        "\n",
        "Example Output:\n",
        "```\n",
        "Receipt\n",
        "--------------------------------------\n",
        "Customer Name: John Doe\n",
        "Item: Laptop\n",
        "Quantity: 2\n",
        "Price per Item: $1300.50\n",
        "Total Cost: $2601.00\n",
        "--------------------------------------\n",
        "Thank you for shopping with us!\n",
        "```"
      ],
      "metadata": {
        "id": "hkmZet5KyN64"
      }
    },
    {
      "cell_type": "code",
      "source": [
        "# provide your code below\n",
        "\n",
        "customer_name = input(\"Customer Name: \").title()\n",
        "item_name = input(\"Item Name: \").title()\n",
        "quantity = int(input(\"Quantity: \"))\n",
        "price_per_item = float(input(\"Price per Item: \"))\n",
        "\n",
        "print(f'Receipt\\n--------------------------------------\\nCustomer Name: {customer_name}\\nItem: {item_name}\\nQuantity: {quantity}\\nPrice per Item: ${price_per_item:.2f}\\nTotal Cost: ${quantity*price_per_item:.2f}\\n--------------------------------------\\nThank you for shopping with us!')"
      ],
      "metadata": {
        "id": "lt15wBm7zGsl",
        "colab": {
          "base_uri": "https://localhost:8080/"
        },
        "outputId": "fb4533b8-788e-4668-e034-6eeab063aa8d"
      },
      "execution_count": 9,
      "outputs": [
        {
          "output_type": "stream",
          "name": "stdout",
          "text": [
            "Customer Name:jhon doe\n",
            "Item Name:laptop\n",
            "Quantity:2\n",
            "Price per Item:1300.50\n",
            "Receipt\n",
            "--------------------------------------\n",
            "Customer Name: Jhon Doe\n",
            "Item: Laptop\n",
            "Quantity: 2\n",
            "Price per Item: $1300.50\n",
            "Total Cost: $2601.00\n",
            "--------------------------------------\n",
            "Thank you for shopping with us!\n"
          ]
        }
      ]
    },
    {
      "cell_type": "markdown",
      "metadata": {
        "id": "iThMTMZnirAq"
      },
      "source": [
        "---\n",
        "\n",
        "## Question 3\n",
        "\n",
        "\n",
        "***Tokenization*** is often the first step in text analytics. It is the process of breaking down a text paragraph into smaller chunks such as words or sentences.\n",
        "\n",
        "\n"
      ]
    },
    {
      "cell_type": "markdown",
      "metadata": {
        "id": "fWPLZgkrirAr"
      },
      "source": [
        "### Task 1.\n",
        "\n",
        "Write code to split the following string into its constituent words. Then, process the resulting data structure to remove punctuation marks and lowercase all characters.\n",
        "\n",
        "\n",
        "<br>\n",
        "\n",
        "`\"Writing programs is a very creative and rewarding activity , \" says University of Michigan and Coursera instructor Charles R Severance in his book Python for Everybody . \" You can write programs for many reasons , ranging from making your living to solving a difficult data analysis problem to having fun to helping someone else solve a problem .\"`\n",
        "\n",
        "<br>\n",
        "\n",
        "All punctuation marks to be removed are included in a string literal as follows:\n",
        "\n",
        "```python\n",
        "punctuation = '!\"#$%&\\'()*+, -./:;<=>?@[\\]^_{|}~'\n",
        "\n",
        "```\n",
        "\n",
        "\n",
        "The expected output looks like the following:\n",
        "\n",
        "```python\n",
        "['writing', 'programs', 'is', 'a', 'very', 'creative', 'and', 'rewarding', 'activity', 'says',\n",
        " 'university', 'of', 'michigan', 'and', 'coursera', 'instructor', 'charles', 'r', 'severance',\n",
        " 'in', 'his', 'book', 'python', 'for', 'everybody', 'you', 'can', 'write', 'programs', 'for',\n",
        " 'many', 'reasons', 'ranging', 'from', 'making', 'your',  'living', 'to', 'solving', 'a',\n",
        " 'difficult', 'data', 'analysis', 'problem', 'to', 'having', 'fun', 'to', 'helping',\n",
        " 'someone', 'else', 'solve', 'a', 'problem']\n",
        "```\n",
        "\n",
        "\n",
        "\n",
        "\n",
        "<font color='red'>*Requirements:*</font>\n",
        "- <font color='red'>*Use a list comprehension to achieve the goal, and save your result in a variable called `a_list`*</font>\n",
        "\n",
        "Tip: use `str.split()` and `str.lower()`. Include only if the split substrings is not a member of the string `punctuation`.\n",
        "\n",
        "\n",
        "<font color='red'>**Full credits will be awarded only if your answer satisfies the above requirements. Otherwise, you will get at most 80% of full marks.**</font>"
      ]
    },
    {
      "cell_type": "code",
      "execution_count": 13,
      "metadata": {
        "id": "9q1C8ha_irAr",
        "colab": {
          "base_uri": "https://localhost:8080/"
        },
        "outputId": "5932505b-d355-4812-f389-01dffb15ee5f"
      },
      "outputs": [
        {
          "output_type": "execute_result",
          "data": {
            "text/plain": [
              "['writing',\n",
              " 'programs',\n",
              " 'is',\n",
              " 'a',\n",
              " 'very',\n",
              " 'creative',\n",
              " 'and',\n",
              " 'rewarding',\n",
              " 'activity',\n",
              " 'says',\n",
              " 'university',\n",
              " 'of',\n",
              " 'michigan',\n",
              " 'and',\n",
              " 'coursera',\n",
              " 'instructor',\n",
              " 'charles',\n",
              " 'r',\n",
              " 'severance',\n",
              " 'in',\n",
              " 'his',\n",
              " 'book',\n",
              " 'python',\n",
              " 'for',\n",
              " 'everybody',\n",
              " 'you',\n",
              " 'can',\n",
              " 'write',\n",
              " 'programs',\n",
              " 'for',\n",
              " 'many',\n",
              " 'reasons',\n",
              " 'ranging',\n",
              " 'from',\n",
              " 'making',\n",
              " 'your',\n",
              " 'living',\n",
              " 'to',\n",
              " 'solving',\n",
              " 'a',\n",
              " 'difficult',\n",
              " 'data',\n",
              " 'analysis',\n",
              " 'problem',\n",
              " 'to',\n",
              " 'having',\n",
              " 'fun',\n",
              " 'to',\n",
              " 'helping',\n",
              " 'someone',\n",
              " 'else',\n",
              " 'solve',\n",
              " 'a',\n",
              " 'problem']"
            ]
          },
          "metadata": {},
          "execution_count": 13
        }
      ],
      "source": [
        "# starter code\n",
        "\n",
        "a_str = \"\"\"Writing programs is a very creative and rewarding activity , \" says University of Michigan and Coursera instructor Charles R Severance in his book Python for Everybody . \" You can write programs for many reasons , ranging from making your living to solving a difficult data analysis problem to having fun to helping someone else solve a problem .\"\"\"\n",
        "punctuation = '!\"#$%&\\'()*+, -./:;<=>?@[]^_{|}~'\n",
        "\n",
        "# write your code below\n",
        "a_list = [n for n in a_str.lower().split() if n not in punctuation]"
      ]
    },
    {
      "cell_type": "markdown",
      "metadata": {
        "id": "C3VTGPewirAr"
      },
      "source": [
        "---\n",
        "\n",
        "### Task 2.\n",
        "\n",
        "<font color='red'>*Requirements:*</font>\n",
        "\n",
        "\n",
        "Write a loop to count the number of occurrences of each distinct word in `a_list`, and create a dictionary of word-count pairs, called `word_count_pairs`.\n",
        "You are not allowed to use membership tests in your code. Instead, try to use `dict.get()`.\n",
        "\n",
        "Expected output:\n",
        "\n",
        "\n",
        "```python\n",
        "{'writing': 1, 'programs': 2, 'is': 1, 'a': 3, 'very': 1, 'creative': 1, 'and': 2, 'rewarding': 1,\n",
        " 'activity': 1, 'says': 1, 'university': 1, 'of': 1, 'michigan': 1, 'coursera': 1, 'instructor': 1,\n",
        " 'charles': 1, 'r': 1, 'severance': 1, 'in': 1, 'his': 1, 'book': 1, 'python': 1, 'for': 2, 'everybody': 1,\n",
        " 'you': 1, 'can': 1, 'write': 1, 'many': 1, 'reasons': 1, 'ranging': 1, 'from': 1, 'making': 1, 'your': 1, 'living': 1,\n",
        " 'to': 3, 'solving': 1, 'difficult': 1, 'data': 1, 'analysis': 1, 'problem': 2, 'having': 1, 'fun': 1,\n",
        " 'helping': 1, 'someone': 1, 'else': 1, 'solve': 1}\n",
        "```\n",
        "\n",
        "<font color='red'>**Full credits will be awarded only if your answer satisfies the above requirements. Otherwise, you will get at most 80% of full marks.**</font>"
      ]
    },
    {
      "cell_type": "code",
      "execution_count": 20,
      "metadata": {
        "id": "rksaqrYAirAs",
        "colab": {
          "base_uri": "https://localhost:8080/"
        },
        "outputId": "bb302228-883b-4811-93ab-8497dae145df"
      },
      "outputs": [
        {
          "output_type": "execute_result",
          "data": {
            "text/plain": [
              "{'writing': 1,\n",
              " 'programs': 2,\n",
              " 'is': 1,\n",
              " 'a': 3,\n",
              " 'very': 1,\n",
              " 'creative': 1,\n",
              " 'and': 2,\n",
              " 'rewarding': 1,\n",
              " 'activity': 1,\n",
              " 'says': 1,\n",
              " 'university': 1,\n",
              " 'of': 1,\n",
              " 'michigan': 1,\n",
              " 'coursera': 1,\n",
              " 'instructor': 1,\n",
              " 'charles': 1,\n",
              " 'r': 1,\n",
              " 'severance': 1,\n",
              " 'in': 1,\n",
              " 'his': 1,\n",
              " 'book': 1,\n",
              " 'python': 1,\n",
              " 'for': 2,\n",
              " 'everybody': 1,\n",
              " 'you': 1,\n",
              " 'can': 1,\n",
              " 'write': 1,\n",
              " 'many': 1,\n",
              " 'reasons': 1,\n",
              " 'ranging': 1,\n",
              " 'from': 1,\n",
              " 'making': 1,\n",
              " 'your': 1,\n",
              " 'living': 1,\n",
              " 'to': 3,\n",
              " 'solving': 1,\n",
              " 'difficult': 1,\n",
              " 'data': 1,\n",
              " 'analysis': 1,\n",
              " 'problem': 2,\n",
              " 'having': 1,\n",
              " 'fun': 1,\n",
              " 'helping': 1,\n",
              " 'someone': 1,\n",
              " 'else': 1,\n",
              " 'solve': 1}"
            ]
          },
          "metadata": {},
          "execution_count": 20
        }
      ],
      "source": [
        "# write your code below\n",
        "word_count_pairs={}\n",
        "\n",
        "for word in a_list:\n",
        "  word_count_pairs[word] = word_count_pairs.get(word, 0) + 1\n",
        "\n",
        "word_count_pairs"
      ]
    },
    {
      "cell_type": "markdown",
      "metadata": {
        "id": "u3XaefJlirAs"
      },
      "source": [
        "---\n",
        "### Task 3.\n",
        "\n",
        "<font color='red'>*Requirements:*</font>\n",
        "\n",
        "Write a (possibly nested) loop to create a list with above words sorted first by number of occurrences in descending order and then by word in ascending order in case of ties.\n",
        "\n",
        "\n",
        "Expected output:\n",
        "\n",
        "\n",
        "```python\n",
        "['a', 'to', 'and', 'for', 'problem', 'programs', 'activity', 'analysis', 'book', 'can', 'charles',\n",
        " 'coursera', 'creative', 'data', 'difficult', 'else', 'everybody', 'from', 'fun', 'having', 'helping',\n",
        " 'his', 'in', 'instructor', 'is', 'living', 'making', 'many', 'michigan', 'of', 'python', 'r', 'ranging',\n",
        " 'reasons', 'rewarding', 'says', 'severance', 'solve', 'solving', 'someone', 'university', 'very', 'write',\n",
        " 'writing', 'you', 'your']\n",
        "```\n",
        "\n",
        "In this output, `'a'` and `'to'` come first because they both appeared 3 times in the original passage. Additionally, `'a'` precedes `'to'`in dictionary order. The remaining words are sorted in the same manner.\n",
        "\n",
        "Tips:\n",
        "\n",
        "- Write an outer for loop to iterate over distinct counts sorted in decreasing order; The code that sorts distinct counts in descending order: `sorted(set(word_count_pairs.values()), reverse=True)`\n",
        "- Write an inner for loop to iterate the dictionary to find all words with a certain count;\n",
        "- Use `+` to extend the output list at each iteration."
      ]
    },
    {
      "cell_type": "code",
      "execution_count": 27,
      "metadata": {
        "id": "4cfE5X7EirAs",
        "colab": {
          "base_uri": "https://localhost:8080/"
        },
        "outputId": "ed7cf3ec-bc17-4c0d-bef2-4ad25b289c92"
      },
      "outputs": [
        {
          "output_type": "execute_result",
          "data": {
            "text/plain": [
              "['a',\n",
              " 'to',\n",
              " 'and',\n",
              " 'for',\n",
              " 'problem',\n",
              " 'programs',\n",
              " 'activity',\n",
              " 'analysis',\n",
              " 'book',\n",
              " 'can',\n",
              " 'charles',\n",
              " 'coursera',\n",
              " 'creative',\n",
              " 'data',\n",
              " 'difficult',\n",
              " 'else',\n",
              " 'everybody',\n",
              " 'from',\n",
              " 'fun',\n",
              " 'having',\n",
              " 'helping',\n",
              " 'his',\n",
              " 'in',\n",
              " 'instructor',\n",
              " 'is',\n",
              " 'living',\n",
              " 'making',\n",
              " 'many',\n",
              " 'michigan',\n",
              " 'of',\n",
              " 'python',\n",
              " 'r',\n",
              " 'ranging',\n",
              " 'reasons',\n",
              " 'rewarding',\n",
              " 'says',\n",
              " 'severance',\n",
              " 'solve',\n",
              " 'solving',\n",
              " 'someone',\n",
              " 'university',\n",
              " 'very',\n",
              " 'write',\n",
              " 'writing',\n",
              " 'you',\n",
              " 'your']"
            ]
          },
          "metadata": {},
          "execution_count": 27
        }
      ],
      "source": [
        "# write your code below\n",
        "sorted_list = []\n",
        "\n",
        "for m in sorted(set(word_count_pairs.values()), reverse=True):\n",
        "  b_list = []\n",
        "  for word in word_count_pairs:\n",
        "    if word_count_pairs[word] == m:\n",
        "      b_list += [word]\n",
        "  sorted_list += sorted(b_list)\n",
        "\n",
        "sorted_list"
      ]
    },
    {
      "cell_type": "markdown",
      "metadata": {
        "id": "EuVWs-NWJw41"
      },
      "source": [
        "---\n",
        "\n",
        "## Question 4: \"Customers Who Bought This Item Also Bought\"\n",
        "\n",
        "\n",
        "When landing on a product webpage at Amazon.com, customers will find a section called \"Customers Who Bought This Item Also Bought\" for recommending books, CDs, and other products that are commonly co-purchased with the current product, a feature designed to boost cross-selling.\n",
        "\n",
        "![](https://raw.githubusercontent.com/justinjiajia/img/master/python/carousel.png)\n",
        "\n",
        "Here we're going to write Python code to process historical transaction data to implement the feature.\n",
        "\n",
        "Suppose that we are using a Python list to maintain all products purchased in different transactions:\n",
        "\n",
        "```python\n",
        "\n",
        "transactions = [[2, 8, 3, 6, 1, 9], [0, 5, 9], [0, 9], [4, 7, 0, 5, 9],\n",
        "                [8, 3], [1, 6, 3, 8], [9, 0, 5], [3, 8], [5, 7, 0, 4], [3, 1, 2, 6, 0]]\n",
        "```\n",
        "\n",
        "Elements in each sublist represent product IDs co-purchased in a transaction.\n",
        "\n",
        "\n",
        "Our goal is, for each product in this tiny transaction dataset, recommend products that are most frequently purchased together with the current product.\n",
        "\n",
        "Please complete the following tasks based on the problem description.\n",
        "\n",
        "\n",
        "\n"
      ]
    },
    {
      "cell_type": "code",
      "execution_count": 1,
      "metadata": {
        "id": "YnPOkTURmzOw"
      },
      "outputs": [],
      "source": [
        "# starter code\n",
        "\n",
        "transactions = [[2, 8, 3, 6, 1, 9], [0, 5, 9], [0, 9], [4, 7, 0, 5, 9],\n",
        "                [8, 3], [1, 6, 3, 8], [9, 0, 5], [3, 8], [5, 7, 0, 4], [3, 1, 2, 6, 0]]\n"
      ]
    },
    {
      "cell_type": "markdown",
      "metadata": {
        "id": "Ua91RTEjUF2m"
      },
      "source": [
        "\n",
        "### Task 1.\n",
        "\n",
        "For each transaction, enumerate all pairs of products that co-occur in the corresponding sublist. For example, processing the sublist `[9, 0, 5]` should produce three pairs `(0, 5)`, `(0, 9)`, and `(5, 9)`.\n",
        "\n",
        "Pay attention to the order of product IDs in each pair. The same product pair (e.g., product 5 and product 9) can have two different representations (i.e., `(5, 9)` and `(9, 5)`). To facilitate the subsequent processing, make sure all pairs each are represented by its ascending representation (e.g., `(0, 5)` rather than `(5, 0)`).\n",
        "\n",
        "Moreover, make sure product pairs created from the same sublist are sorted first by the 1st element and then by the 2nd element. E.g., the list of pairs created from the sublist `[1, 6, 3, 8]` should be presented as `[(1, 3), (1, 6), (1, 8), (3, 6), (3, 8), (6, 8)]`.\n",
        "\n",
        "Produce a Python list, `product_pairs`, whose values each are a list of such pairs.\n",
        "\n",
        "The expected output of `print(product_pairs)` is as follows:\n",
        "\n",
        "\n",
        "```python\n",
        "[[(1, 2), (1, 3), (1, 6), (1, 8), (1, 9), (2, 3), (2, 6), (2, 8), (2, 9), (3, 6), (3, 8), (3, 9), (6, 8), (6, 9), (8, 9)],\n",
        " [(0, 5), (0, 9), (5, 9)],\n",
        " [(0, 9)],\n",
        " [(0, 4), (0, 5), (0, 7), (0, 9), (4, 5), (4, 7), (4, 9), (5, 7), (5, 9), (7, 9)],\n",
        " [(3, 8)],\n",
        " [(1, 3), (1, 6), (1, 8), (3, 6), (3, 8), (6, 8)],\n",
        " [(0, 5), (0, 9), (5, 9)],\n",
        " [(3, 8)],\n",
        " [(0, 4), (0, 5), (0, 7), (4, 5), (4, 7), (5, 7)],\n",
        " [(0, 1), (0, 2), (0, 3), (0, 6), (1, 2), (1, 3), (1, 6), (2, 3), (2, 6), (3, 6)]]\n",
        "\n",
        "```\n",
        "\n",
        "<font color='red'>**Your output must have the tuples arranged in the exact same order as shown above to receive full credit. Note: you don't need to worry about the line breaks that prevent lines from running off the screen.**</font>"
      ]
    },
    {
      "cell_type": "code",
      "execution_count": 24,
      "metadata": {
        "id": "iED_sEwNfLXg",
        "colab": {
          "base_uri": "https://localhost:8080/"
        },
        "outputId": "bc67c025-8aad-4972-9720-fa0570dcb3fc"
      },
      "outputs": [
        {
          "output_type": "execute_result",
          "data": {
            "text/plain": [
              "[[(1, 2),\n",
              "  (1, 3),\n",
              "  (1, 6),\n",
              "  (1, 8),\n",
              "  (1, 9),\n",
              "  (2, 3),\n",
              "  (2, 6),\n",
              "  (2, 8),\n",
              "  (2, 9),\n",
              "  (3, 6),\n",
              "  (3, 8),\n",
              "  (3, 9),\n",
              "  (6, 8),\n",
              "  (6, 9),\n",
              "  (8, 9)],\n",
              " [(0, 5), (0, 9), (5, 9)],\n",
              " [(0, 9)],\n",
              " [(0, 4),\n",
              "  (0, 5),\n",
              "  (0, 7),\n",
              "  (0, 9),\n",
              "  (4, 5),\n",
              "  (4, 7),\n",
              "  (4, 9),\n",
              "  (5, 7),\n",
              "  (5, 9),\n",
              "  (7, 9)],\n",
              " [(3, 8)],\n",
              " [(1, 3), (1, 6), (1, 8), (3, 6), (3, 8), (6, 8)],\n",
              " [(0, 5), (0, 9), (5, 9)],\n",
              " [(3, 8)],\n",
              " [(0, 4), (0, 5), (0, 7), (4, 5), (4, 7), (5, 7)],\n",
              " [(0, 1),\n",
              "  (0, 2),\n",
              "  (0, 3),\n",
              "  (0, 6),\n",
              "  (1, 2),\n",
              "  (1, 3),\n",
              "  (1, 6),\n",
              "  (2, 3),\n",
              "  (2, 6),\n",
              "  (3, 6)]]"
            ]
          },
          "metadata": {},
          "execution_count": 24
        }
      ],
      "source": [
        "# write your code below\n",
        "product_pairs = []\n",
        "\n",
        "for subtran in transactions:\n",
        "  sublist = []\n",
        "  sorted_tran = sorted(subtran, reverse=False)\n",
        "  l = len(subtran)\n",
        "  for m in range(l):\n",
        "    for n in range(l-m-1):\n",
        "      sublist.append((sorted_tran[m], sorted_tran[m+n+1]))\n",
        "  product_pairs.append(sublist)\n",
        "\n",
        "product_pairs"
      ]
    },
    {
      "cell_type": "markdown",
      "metadata": {
        "id": "OsfRmKw4UJUG"
      },
      "source": [
        "---\n",
        "\n",
        "### Task 2.\n",
        "\n",
        "\n",
        "\n",
        "Next, we will process `product_pairs` to create a dictionary `cooccurrences`, whose keys are product pairs and whose values represent the number of their co-occurrences across transactions.\n",
        "\n",
        "\n",
        "The expected output of `print(cooccurrences)` should look like the following (the output formatting can be different):\n",
        "\n",
        "```python\n",
        "{(0, 1): 1, (0, 2): 1, (0, 3): 1, (0, 4): 2, (0, 5): 4, (0, 6): 1, (0, 7): 2, (0, 9): 4,\n",
        " (1, 2): 2, (1, 3): 3, (1, 6): 3, (1, 8): 2, (1, 9): 1,\n",
        " (2, 3): 2, (2, 6): 2, (2, 8): 1, (2, 9): 1,\n",
        " (3, 6): 3, (3, 8): 4, (3, 9): 1,\n",
        " (4, 5): 2, (4, 7): 2, (4, 9): 1,\n",
        " (5, 7): 2, (5, 9): 3,\n",
        " (6, 8): 2, (6, 9): 1,  \n",
        " (7, 9): 1,\n",
        " (8, 9): 1}\n",
        " ```\n",
        "\n",
        "\n",
        "<font color='red'>*Requirements:*</font>\n",
        "\n",
        "- <font color='red'>*First, write a nested for loop to convert the nested list `product_pairs` into a flat list; then sort it using `sorted()`*</font>\n",
        "- <font color='red'>*Write another loop to create the desired dictionary*</font>\n",
        "- <font color='red'>*You are not allowed to use membership tests in your code*. Instead, try to use `dict.get()`</font>\n",
        "\n",
        "<font color='red'>**Your output must have the entries arranged in the exact same order as shown above to receive full credit. Note: you don't need to worry about the line breaks that prevent lines from running off the screen.**</font>\n"
      ]
    },
    {
      "cell_type": "code",
      "execution_count": 26,
      "metadata": {
        "id": "ka2HsHrsULmV",
        "colab": {
          "base_uri": "https://localhost:8080/"
        },
        "outputId": "cb911da4-ddbd-43bd-f02c-e3c07e063b4f"
      },
      "outputs": [
        {
          "output_type": "execute_result",
          "data": {
            "text/plain": [
              "{(0, 1): 1,\n",
              " (0, 2): 1,\n",
              " (0, 3): 1,\n",
              " (0, 4): 2,\n",
              " (0, 5): 4,\n",
              " (0, 6): 1,\n",
              " (0, 7): 2,\n",
              " (0, 9): 4,\n",
              " (1, 2): 2,\n",
              " (1, 3): 3,\n",
              " (1, 6): 3,\n",
              " (1, 8): 2,\n",
              " (1, 9): 1,\n",
              " (2, 3): 2,\n",
              " (2, 6): 2,\n",
              " (2, 8): 1,\n",
              " (2, 9): 1,\n",
              " (3, 6): 3,\n",
              " (3, 8): 4,\n",
              " (3, 9): 1,\n",
              " (4, 5): 2,\n",
              " (4, 7): 2,\n",
              " (4, 9): 1,\n",
              " (5, 7): 2,\n",
              " (5, 9): 3,\n",
              " (6, 8): 2,\n",
              " (6, 9): 1,\n",
              " (7, 9): 1,\n",
              " (8, 9): 1}"
            ]
          },
          "metadata": {},
          "execution_count": 26
        }
      ],
      "source": [
        "# write your code below\n",
        "flat_list = [subsubpair for sublist in product_pairs for subsubpair in sublist]\n",
        "sorted_flat_list = sorted(flat_list, reverse=False)\n",
        "cooccurrences = {}\n",
        "\n",
        "for pair in sorted_flat_list:\n",
        "  cooccurrences[pair] = cooccurrences.get(pair, 0)+1\n",
        "\n",
        "cooccurrences"
      ]
    }
  ],
  "metadata": {
    "colab": {
      "provenance": []
    },
    "kernelspec": {
      "display_name": "Python 3 (ipykernel)",
      "language": "python",
      "name": "python3"
    },
    "language_info": {
      "codemirror_mode": {
        "name": "ipython",
        "version": 3
      },
      "file_extension": ".py",
      "mimetype": "text/x-python",
      "name": "python",
      "nbconvert_exporter": "python",
      "pygments_lexer": "ipython3",
      "version": "3.11.5"
    }
  },
  "nbformat": 4,
  "nbformat_minor": 0
}
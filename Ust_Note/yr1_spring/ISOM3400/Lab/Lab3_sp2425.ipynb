{
  "nbformat": 4,
  "nbformat_minor": 0,
  "metadata": {
    "colab": {
      "provenance": [],
      "toc_visible": true
    },
    "kernelspec": {
      "name": "python3",
      "display_name": "Python 3"
    },
    "language_info": {
      "name": "python"
    }
  },
  "cells": [
    {
      "cell_type": "markdown",
      "source": [
        "# **f-string Example**"
      ],
      "metadata": {
        "id": "bUu52iwgs3lm"
      }
    },
    {
      "cell_type": "markdown",
      "source": [
        "Expected Output:\n",
        "\n",
        "**I am taking ISOM3400!**"
      ],
      "metadata": {
        "id": "7J60xUNfrN8m"
      }
    },
    {
      "cell_type": "code",
      "source": [
        "course_codes = 'ISOM3230, ISOM3260, ISOM3400'\n"
      ],
      "metadata": {
        "colab": {
          "base_uri": "https://localhost:8080/"
        },
        "id": "-rfEFitOtBeT",
        "outputId": "08364b08-2f58-43aa-d770-7d5d519112be"
      },
      "execution_count": 1,
      "outputs": [
        {
          "output_type": "stream",
          "name": "stdout",
          "text": [
            "I am taking ISOM3400!\n"
          ]
        }
      ]
    },
    {
      "cell_type": "code",
      "source": [
        "course_codes = 'ISOM3230, ISOM3260, ISOM3400'\n",
        "avg_score = 0.72864406779661\n",
        "avg_student = 57.6666666667"
      ],
      "metadata": {
        "id": "BkcMa2F0t3x1"
      },
      "execution_count": null,
      "outputs": []
    },
    {
      "cell_type": "code",
      "source": [],
      "metadata": {
        "colab": {
          "base_uri": "https://localhost:8080/"
        },
        "id": "wp7B6ni0zx_e",
        "outputId": "38fb74db-5828-4b18-a725-bfa81be849b9"
      },
      "execution_count": null,
      "outputs": [
        {
          "output_type": "stream",
          "name": "stdout",
          "text": [
            "The mean of the ISOM3400 final exam is 72.86%. The average number of students per section is 57.67.\n"
          ]
        }
      ]
    },
    {
      "cell_type": "markdown",
      "source": [
        "# **f-string Practice**"
      ],
      "metadata": {
        "id": "G0dZ3OR33UYf"
      }
    },
    {
      "cell_type": "markdown",
      "source": [
        "**Q1a. Expected Output:**\n",
        "\n",
        "**46.67% of the students are female, while 53.33% are male. ISOM3400 is all about gender equality haha :D...**"
      ],
      "metadata": {
        "id": "vjfuuJL04-pU"
      }
    },
    {
      "cell_type": "code",
      "source": [
        "course_codes = 'ISOM3230, ISOM3260, ISOM3400'\n",
        "female = 0.4666666666666667\n",
        "male = 0.5333333333333333"
      ],
      "metadata": {
        "id": "rgpMPY--3ZSD"
      },
      "execution_count": null,
      "outputs": []
    },
    {
      "cell_type": "code",
      "source": [],
      "metadata": {
        "colab": {
          "base_uri": "https://localhost:8080/"
        },
        "id": "oWutDM2I3IUG",
        "outputId": "a165edfa-4d62-4457-c137-9ecfc1f6af47"
      },
      "execution_count": null,
      "outputs": [
        {
          "output_type": "stream",
          "name": "stdout",
          "text": [
            "46.67% of the students are female, while 53.33% are male. ISOM3400 is all about gender equality haha :D...\n"
          ]
        }
      ]
    },
    {
      "cell_type": "markdown",
      "source": [
        "**Q1b. Expected Output:**\n",
        "\n",
        "**The average score of the assignment is 8.232/10. I think I can succeed in ISOM3400 :')**"
      ],
      "metadata": {
        "id": "CFslrs5T9Pb1"
      }
    },
    {
      "cell_type": "code",
      "source": [
        "course_codes = 'ISOM3230, ISOM3260, ISOM3400'\n",
        "assignment_average = 8.2324434"
      ],
      "metadata": {
        "id": "DbDwOj8-8-HA"
      },
      "execution_count": null,
      "outputs": []
    },
    {
      "cell_type": "code",
      "source": [],
      "metadata": {
        "colab": {
          "base_uri": "https://localhost:8080/"
        },
        "id": "MkgQXIOj1-qC",
        "outputId": "3d3610d4-a0e8-48a9-d18d-5e276d1167bf"
      },
      "execution_count": null,
      "outputs": [
        {
          "output_type": "stream",
          "name": "stdout",
          "text": [
            "The average score of the the assignment is 8.232/10. I think I can succeed in ISOM3400 :')\n"
          ]
        }
      ]
    },
    {
      "cell_type": "markdown",
      "source": [
        "# **Method Examples**"
      ],
      "metadata": {
        "id": "N3C2jA418pnC"
      }
    },
    {
      "cell_type": "code",
      "execution_count": null,
      "metadata": {
        "id": "d588c8f3",
        "colab": {
          "base_uri": "https://localhost:8080/"
        },
        "outputId": "457521b6-d5e7-42f1-af4c-2f8545f70cd4"
      },
      "outputs": [
        {
          "output_type": "execute_result",
          "data": {
            "text/plain": [
              "2"
            ]
          },
          "metadata": {},
          "execution_count": 14
        }
      ],
      "source": [
        "'ISOM3400'.count('0')"
      ]
    },
    {
      "cell_type": "code",
      "source": [
        "x = 'ISOM3400'\n",
        "x.count('0')"
      ],
      "metadata": {
        "colab": {
          "base_uri": "https://localhost:8080/"
        },
        "id": "ucRfXsPPzCqD",
        "outputId": "859f328c-e673-41c3-e2f6-c8ee47355455"
      },
      "execution_count": null,
      "outputs": [
        {
          "output_type": "execute_result",
          "data": {
            "text/plain": [
              "2"
            ]
          },
          "metadata": {},
          "execution_count": 15
        }
      ]
    },
    {
      "cell_type": "code",
      "execution_count": null,
      "metadata": {
        "id": "3970166d",
        "colab": {
          "base_uri": "https://localhost:8080/"
        },
        "outputId": "4b26aaae-d795-4b89-f876-bd13e2d29abf"
      },
      "outputs": [
        {
          "output_type": "execute_result",
          "data": {
            "text/plain": [
              "2"
            ]
          },
          "metadata": {},
          "execution_count": 16
        }
      ],
      "source": [
        "#.count() is a string/list method\n",
        "['I', 'S', 'O', 'M', '3', '4', '0', '0'].count('0')"
      ]
    },
    {
      "cell_type": "code",
      "execution_count": null,
      "metadata": {
        "id": "ae1ccdd8",
        "colab": {
          "base_uri": "https://localhost:8080/",
          "height": 36
        },
        "outputId": "6d4517e9-3f91-40f8-862e-b957f464d8ef"
      },
      "outputs": [
        {
          "output_type": "execute_result",
          "data": {
            "text/plain": [
              "'isom3400'"
            ],
            "application/vnd.google.colaboratory.intrinsic+json": {
              "type": "string"
            }
          },
          "metadata": {},
          "execution_count": 4
        }
      ],
      "source": [
        "'ISOM3400'.lower()"
      ]
    },
    {
      "cell_type": "code",
      "execution_count": null,
      "metadata": {
        "id": "d0af3062",
        "colab": {
          "base_uri": "https://localhost:8080/",
          "height": 175
        },
        "outputId": "a4680ef5-1cb5-49be-cdf7-3ba0fbfdc293"
      },
      "outputs": [
        {
          "output_type": "error",
          "ename": "AttributeError",
          "evalue": "ignored",
          "traceback": [
            "\u001b[0;31m---------------------------------------------------------------------------\u001b[0m",
            "\u001b[0;31mAttributeError\u001b[0m                            Traceback (most recent call last)",
            "\u001b[0;32m<ipython-input-18-aecec2a763ce>\u001b[0m in \u001b[0;36m<cell line: 1>\u001b[0;34m()\u001b[0m\n\u001b[0;32m----> 1\u001b[0;31m \u001b[0;34m[\u001b[0m\u001b[0;34m'I'\u001b[0m\u001b[0;34m,\u001b[0m \u001b[0;34m'S'\u001b[0m\u001b[0;34m,\u001b[0m \u001b[0;34m'O'\u001b[0m\u001b[0;34m,\u001b[0m \u001b[0;34m'M'\u001b[0m\u001b[0;34m,\u001b[0m \u001b[0;34m'3'\u001b[0m\u001b[0;34m,\u001b[0m \u001b[0;34m'4'\u001b[0m\u001b[0;34m,\u001b[0m \u001b[0;34m'0'\u001b[0m\u001b[0;34m,\u001b[0m \u001b[0;34m'0'\u001b[0m\u001b[0;34m]\u001b[0m\u001b[0;34m.\u001b[0m\u001b[0mlower\u001b[0m\u001b[0;34m(\u001b[0m\u001b[0;34m)\u001b[0m\u001b[0;34m\u001b[0m\u001b[0;34m\u001b[0m\u001b[0m\n\u001b[0m",
            "\u001b[0;31mAttributeError\u001b[0m: 'list' object has no attribute 'lower'"
          ]
        }
      ],
      "source": [
        "#.lower() is a string method, but not a list method\n",
        "['I', 'S', 'O', 'M', '3', '4', '0', '0'].lower()"
      ]
    },
    {
      "cell_type": "markdown",
      "source": [
        "# **Tuples and Strings are Immutable**"
      ],
      "metadata": {
        "id": "eyPxkbcy81HY"
      }
    },
    {
      "cell_type": "code",
      "source": [
        "list_ex = ['I','S','O','M','3','4','0','0']\n",
        "list_ex[4:] = ['3', '2', '3', '0']\n",
        "list_ex"
      ],
      "metadata": {
        "colab": {
          "base_uri": "https://localhost:8080/"
        },
        "id": "xvRuoh0xwFb3",
        "outputId": "b1594c18-7d11-461d-d9c4-a376338b49a8"
      },
      "execution_count": 6,
      "outputs": [
        {
          "output_type": "execute_result",
          "data": {
            "text/plain": [
              "['I', 'S', 'O', 'M', '3', '2', '3', '0']"
            ]
          },
          "metadata": {},
          "execution_count": 6
        }
      ]
    },
    {
      "cell_type": "code",
      "source": [
        "#Error\n",
        "string_ex= \"ISOM3400\"\n",
        "string_ex[4:] = \"3230\""
      ],
      "metadata": {
        "id": "DrwQAoYQ8-qy"
      },
      "execution_count": null,
      "outputs": []
    },
    {
      "cell_type": "code",
      "source": [
        "#Reassignment\n",
        "string_ex = \"ISOM3400\"\n",
        "string_ex = \"ISOM3230\"\n",
        "print(string_ex)"
      ],
      "metadata": {
        "id": "k0DDLGGW03Sg"
      },
      "execution_count": null,
      "outputs": []
    },
    {
      "cell_type": "code",
      "source": [
        "#Error\n",
        "tuple_ex = (1,2,3)\n",
        "tuple_ex[0] = 0"
      ],
      "metadata": {
        "id": "h0sTrHI91MC1"
      },
      "execution_count": null,
      "outputs": []
    },
    {
      "cell_type": "code",
      "source": [
        "#Reassignment\n",
        "tuple_ex = (1,2,3)\n",
        "tuple_ex = (0,2,3)\n",
        "print(tuple_ex)"
      ],
      "metadata": {
        "id": "xsu-FihV1ZSV",
        "collapsed": true
      },
      "execution_count": null,
      "outputs": []
    },
    {
      "cell_type": "markdown",
      "source": [
        "# **for-loop Example**"
      ],
      "metadata": {
        "id": "h04hRWg4QDpD"
      }
    },
    {
      "cell_type": "markdown",
      "source": [
        "**Example 1**"
      ],
      "metadata": {
        "id": "gs0rSoanNYOh"
      }
    },
    {
      "cell_type": "code",
      "source": [
        "course_info = (('James Kwok', 'ISOM3230'), ('Jia Jia', 'ISOM2020'))\n"
      ],
      "metadata": {
        "colab": {
          "base_uri": "https://localhost:8080/"
        },
        "id": "fG4b33qervtd",
        "outputId": "f66c0d95-faa2-4866-9fb6-33fae1456805"
      },
      "execution_count": null,
      "outputs": [
        {
          "output_type": "stream",
          "name": "stdout",
          "text": [
            "The instrctor for ISOM3230 is James Kwok.\n",
            "The instrctor for ISOM2020 is Jia Jia.\n"
          ]
        }
      ]
    },
    {
      "cell_type": "markdown",
      "source": [
        "**Example 2**"
      ],
      "metadata": {
        "id": "c4ByzE57NT4F"
      }
    },
    {
      "cell_type": "code",
      "source": [
        "info = [('Peter', 'M', 30), ('Paul', 'M', 40), ('Mary', 'F', 36)]\n"
      ],
      "metadata": {
        "colab": {
          "base_uri": "https://localhost:8080/"
        },
        "id": "tT1kyvXknqsg",
        "outputId": "c7940a6d-926c-4fae-a27e-014aae8e6913"
      },
      "execution_count": null,
      "outputs": [
        {
          "output_type": "stream",
          "name": "stdout",
          "text": [
            "Peter\n",
            "Paul\n",
            "Mary\n"
          ]
        }
      ]
    },
    {
      "cell_type": "markdown",
      "source": [
        "**Example 3: Print out the following text using *my_fav_books***\n",
        "\n",
        "    My favourite books are\n",
        "    1.Crime and Punishment\n",
        "    2.Jane Eyre\n",
        "    3.The Picture of Dorian Gray"
      ],
      "metadata": {
        "id": "ctZuD-j1vL9z"
      }
    },
    {
      "cell_type": "code",
      "source": [
        "my_fav_books = ['Crime and Punishment', 'Jane Eyre', 'The Picture of Dorian Gray']"
      ],
      "metadata": {
        "id": "IbAfVYWxI1iu"
      },
      "execution_count": null,
      "outputs": []
    },
    {
      "cell_type": "code",
      "source": [],
      "metadata": {
        "colab": {
          "base_uri": "https://localhost:8080/"
        },
        "id": "7GFL395vuBo-",
        "outputId": "0705076b-2877-4785-bad7-a4f0338386df"
      },
      "execution_count": null,
      "outputs": [
        {
          "output_type": "stream",
          "name": "stdout",
          "text": [
            "My favourite books are\n",
            "1.Crime and Punishment\n",
            "2.Jane Eyre\n",
            "3.The Picture of Dorian Gray\n"
          ]
        }
      ]
    },
    {
      "cell_type": "markdown",
      "source": [
        "# **Exercise**"
      ],
      "metadata": {
        "id": "1vQHMJNzcGvC"
      }
    },
    {
      "cell_type": "markdown",
      "source": [
        "Expected Output:\n",
        "\n",
        "**For grade A, my reaction is ^_^**\n",
        "\n",
        "**For grade B, my reaction is :b**\n",
        "\n",
        "**For grade C, my reaction is :c**\n",
        "\n",
        "**For grade D, my reaction is D:**\n",
        "\n",
        "**For grade F, my reaction is :O) See you again next year!**"
      ],
      "metadata": {
        "id": "fgCdUk6i_a7k"
      }
    },
    {
      "cell_type": "code",
      "source": [
        "grade_reactions = (('C', ':c'), ('B', ':b'), ('D', 'D:'), ('F', ':O)'), ('A', '^_^'))"
      ],
      "metadata": {
        "id": "9JtnQnJX76eq"
      },
      "execution_count": null,
      "outputs": []
    },
    {
      "cell_type": "code",
      "source": [
        "#sort\n"
      ],
      "metadata": {
        "colab": {
          "base_uri": "https://localhost:8080/"
        },
        "id": "oxFzS-TF6XSe",
        "outputId": "def0ee9d-5f61-42e2-e3b1-e3cdbb1f40c6"
      },
      "execution_count": null,
      "outputs": [
        {
          "output_type": "execute_result",
          "data": {
            "text/plain": [
              "[('A', '^_^'), ('B', ':b'), ('C', ':c'), ('D', 'D:'), ('F', ':O)')]"
            ]
          },
          "metadata": {},
          "execution_count": 30
        }
      ]
    },
    {
      "cell_type": "code",
      "source": [],
      "metadata": {
        "colab": {
          "base_uri": "https://localhost:8080/"
        },
        "id": "qSMfTkV6Ae0q",
        "outputId": "1af0ba76-0fc6-4e0d-b528-4e2ee00f7ebe"
      },
      "execution_count": null,
      "outputs": [
        {
          "output_type": "stream",
          "name": "stdout",
          "text": [
            "For grade A, my reaction is ^_^\n",
            "For grade B, my reaction is :b\n",
            "For grade C, my reaction is :c\n",
            "For grade D, my reaction is D:\n",
            "For grade F, my reaction is :O) See you again next year!\n"
          ]
        }
      ]
    }
  ]
}
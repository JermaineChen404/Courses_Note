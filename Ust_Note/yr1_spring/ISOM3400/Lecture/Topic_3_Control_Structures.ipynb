{
  "cells": [
    {
      "cell_type": "markdown",
      "metadata": {
        "id": "L-IWldJT1QF_"
      },
      "source": [
        "\n",
        "# 1 Python Expressions and  Statements\n",
        "\n",
        "\n",
        "A combination of objects and operators that evaluates to a value/object (by itself a simple expression):\n",
        "\n",
        "\n",
        "|Expression|Meaning|\n",
        "|:-- |:-- |\n",
        "|`(...)`, `[...]`, `{key: value...}`, `{...}`|Grouping, list display, dictionary display, set display (comprehension) |\n",
        "|`x[index]`, `x[index:index]`, `x(arguements...)`, `x.attribute`|Indexing, slicing, call, attribute reference|\n",
        "|`x ** y`|Exponentiation|\n",
        "|`+x`, `-x`|Identity, negation|\n",
        "|`x * y`, `x / y`, `x // y`, `x % y`|Multiplication (repetition), division, integer division, remainder (format)|\n",
        "|`x + y`, `x - y`|Addition (concatenation), substraction|\n",
        "|`x < y`, `x <= y`, `x > y`, `x >= y`, `x == y`, `x != y`, <br>`x in y`, `x not in y`, `x is y`,  `x is not y`|Comparisons, membership tests, identity tests|\n",
        "|`not x`|Logical negation|\n",
        "|`x and y`|Logical AND|\n",
        "|`x or y`|Logical OR|\n",
        "|`x if y else z`| Conditional selection |\n",
        "|`lambda arguments: expression`|Anonymous function generation|\n",
        "\n",
        "<br>\n",
        "Python expressions cannot span multiple lines without proper line continuation mechanisms."
      ]
    },
    {
      "cell_type": "markdown",
      "metadata": {
        "id": "HG-Ei5nq1QGB"
      },
      "source": [
        "---\n",
        "\n",
        "**Statements** are the larger logic of a program's operation, and the **basic units of instruction** that the Python interpreter parses and processes.\n",
        "\n",
        "Statements use and direct (thereby embed) expressions to process objects, for example:\n",
        "\n",
        "\n",
        "|Statement|Role|Example\n",
        "|:-- |:-- |:-- |\n",
        "|Assignment: `=`|Creating and assigning references|`a, b = 'good', 'bad'` <br> `ls = [1, 5]; ls[1] = 2; ls[2:2] = [3, 4]`   |\n",
        "|Augmented assignment: <br>`+=`, `-=`, `*=`, `/=`,  `%=`, etc.| Combining a binary operation and <br> an assignment statement|`a *= 2` <br> `a += b` |\n",
        "|`del`|Deleting references|`del variable` <br> `del object.attribute` <br> `del data[index]` <br> `del data[index:index]`|\n",
        "\n",
        "\n",
        "\n",
        "\n"
      ]
    },
    {
      "cell_type": "code",
      "execution_count": null,
      "metadata": {
        "id": "9GjcGcggI3Z8"
      },
      "outputs": [],
      "source": [
        "x = 7 % 3                # statements use expressions"
      ]
    },
    {
      "cell_type": "code",
      "execution_count": null,
      "metadata": {
        "id": "SIyMpNZ9I3Z9"
      },
      "outputs": [],
      "source": [
        "(x = 7) % 3              # but not the other way around!"
      ]
    },
    {
      "cell_type": "markdown",
      "metadata": {
        "id": "GLN14Y87I3Z9"
      },
      "source": [
        "\n",
        "In general, the interpreter executes statements ***sequentially***, one after the next as it encounters them."
      ]
    },
    {
      "cell_type": "code",
      "execution_count": null,
      "metadata": {
        "id": "alFh6R-nI3Z-"
      },
      "outputs": [],
      "source": [
        "name = \"Charles\"\n",
        "age =  30\n",
        "gender = \"male\"\n",
        "print(f\"{name} is a {gender} student at the age of {age}.\")"
      ]
    },
    {
      "cell_type": "markdown",
      "metadata": {
        "id": "iGR4TpSs1QGO"
      },
      "source": [
        "\n",
        "<br>\n",
        "\n",
        "\n",
        "In many cases, we want programs to have behaviors other than **sequential execution** of statements.\n",
        "\n",
        "For a bank to consider whether or not to offer someone a loan:\n"
      ]
    },
    {
      "cell_type": "markdown",
      "metadata": {
        "id": "ODb6fCqo1QGR"
      },
      "source": [
        "\n",
        "| Name |  Income | Result |\n",
        "|-----|-----|-----|\n",
        "| Amy | 27 | ? |\n",
        "\n",
        "<img src=\"https://raw.githubusercontent.com/justinjiajia/img/master/python/1dt.png\" width=500   style=\"float: left; \"  />\n",
        "\n",
        "Pseudo code:\n",
        "<pre>\n",
        "<span style=\"color:#2767C5\";>if</span> <span style=\"color:#BB2F29\";>income >= 30</span> <span style=\"color:#2767C5\";>=></span> approve\n",
        "<span style=\"color:#2767C5\";>else</span> <span style=\"color:#2767C5\";>=></span> reject\n",
        "</pre>"
      ]
    },
    {
      "cell_type": "markdown",
      "metadata": {
        "id": "NQEKyquU1QGT"
      },
      "source": [
        "\n",
        "\n",
        "**Control structures** direct the order of execution of the statements and allow programmers to put some \"logic\" into their python code.\n",
        "\n",
        "Two groups of **control flow statements**:\n",
        "\n",
        "- Conditionals:\n",
        "\n",
        "    - `if` statements\n",
        "\n",
        "- Loops:\n",
        "    - `for` statements (***definite*** loops)\n",
        "    - `while` statements (***indefinite*** loops)\n",
        "    \n",
        "These statements contain (groups of) other statements (spanning multiple lines), and are called **compound statements**."
      ]
    },
    {
      "cell_type": "markdown",
      "metadata": {
        "id": "PBxb2kWC1QGU"
      },
      "source": [
        "\n",
        "<br>\n",
        "\n",
        "# 2 Conditional Execution: The `if` Statement\n",
        "\n",
        "\n",
        "\n",
        "\n"
      ]
    },
    {
      "cell_type": "markdown",
      "metadata": {
        "id": "tECSWmEcxh6r"
      },
      "source": [
        "\n",
        "## 2.1 Basic Format\n",
        "\n",
        "The `if` statement tests a condition and acts on it depending on whether it's ***true*** or ***false***.\n",
        "\n",
        "The simplest form is as follows:\n"
      ]
    },
    {
      "cell_type": "markdown",
      "metadata": {
        "id": "IAuAa2O31QGV"
      },
      "source": [
        "\n",
        "<pre class=\"lang-python\">\n",
        "<span style=\"color:#2767C5\";>if</span> <span style=\"color:#BB2F29\";>&lt;condition&gt;</span>:             <span style=\"font-style: italic; color:dark teal;\"># The colon (:) is required</span>\n",
        "                            <span style=\"font-style: italic; color:dark teal;\"># Indentation is used to define a group of statements.</span>\n",
        "<div style=\" border-left: 6px solid red; background-color: #e8e9ea;\">  statement 1               \n",
        "  statement 2                  \n",
        "  ...\n",
        "  statement N</div>    \n",
        "following statement(s)\n",
        "</pre>\n",
        "\n",
        "<br>\n",
        "\n",
        "- `<condition>` is an expression that evaluates to a **Boolean value**.\n",
        "\n",
        "- Contiguous statements ***at the matching indentation level*** are considered part of the same group. They are executed (***sequentially***) only if `<condition>` is `True`. Indentation is part of Python's syntax. It defines the grouping of statements.\n",
        "\n",
        "- If `<condition>` is `False`, the entire group is skipped over and not executed.\n",
        "\n",
        "---"
      ]
    },
    {
      "cell_type": "code",
      "execution_count": null,
      "metadata": {
        "id": "KSb2sPvYI3aE"
      },
      "outputs": [],
      "source": [
        "income=float(input('Please enter the income of the customer: '))\n",
        "\n",
        "if income >= 30:                              # check if the condition is met or not\n",
        "    print(f\"The customer's monthly income is {income}K\")\n",
        "    print(\"Approve!\")"
      ]
    },
    {
      "cell_type": "markdown",
      "metadata": {
        "id": "wjdevCKJiUlZ"
      },
      "source": [
        "Non-Boolean values can be used in place of `<condition>`. Rules for deciding the truthiness or falsehood of a non-Boolean value:\n",
        "\n",
        "- All ***non-zero*** numbers and all ***non-empty*** strings are true;\n",
        "\n",
        "- `0` and the ***empty*** string (`\"\"`) are false;\n",
        "\n",
        "- Other built-in data types that can be considered to be ***empty*** or ***not empty*** follow the same pattern."
      ]
    },
    {
      "cell_type": "code",
      "execution_count": null,
      "metadata": {
        "id": "UPYqZRPvH_8X"
      },
      "outputs": [],
      "source": [
        "# without executing the code, predict the return value\n",
        "bool(\"\")"
      ]
    },
    {
      "cell_type": "code",
      "execution_count": null,
      "metadata": {
        "id": "RCGq2ZPtISCp"
      },
      "outputs": [],
      "source": [
        "# without executing the code, predict the return value\n",
        "bool([])"
      ]
    },
    {
      "cell_type": "code",
      "execution_count": null,
      "metadata": {
        "id": "RBMCPV3BI3aD"
      },
      "outputs": [],
      "source": [
        "name = 'Amy'\n",
        "if name:\n",
        "    print(f\"Hello, {name}!\")"
      ]
    },
    {
      "cell_type": "markdown",
      "metadata": {
        "id": "pUvGXayBItcy"
      },
      "source": [
        "Notice: It is permissible to condense the clause header and the entire group on one line with `;` separating them:\n",
        "\n",
        "<pre class=\"lang-python\">\n",
        "<span style=\"color:#2767C5\";>if</span> <span style=\"color:#BB2F29\";>&lt;condition&gt;</span>: statement 1; statement 2, ...; statement N</pre>"
      ]
    },
    {
      "cell_type": "code",
      "execution_count": null,
      "metadata": {
        "id": "6yVzNHIKIyHq"
      },
      "outputs": [],
      "source": [
        "name = 'Amy'\n",
        "if name: print(f\"Hello, {name}!\"); print(f\"Hello, {name}+1!\"); print(f\"Hello, {name}+2!\")"
      ]
    },
    {
      "cell_type": "markdown",
      "metadata": {
        "id": "_yDxB0HpccO8"
      },
      "source": [
        "But to make the code more readable, it is better to avoid semicolons and write each statement on a new line."
      ]
    },
    {
      "cell_type": "markdown",
      "metadata": {
        "id": "W51jhFDXI3aF"
      },
      "source": [
        "\n",
        "\n",
        "## 2.2 Multiway Branching: The `else` and `elif` Clauses\n",
        "\n",
        "\n",
        "\n",
        "The optional `elif` (short for *else if*) and `else` clauses allows conditional execution to be based on multiple alternatives.\n",
        "\n",
        "<br/>\n",
        "\n",
        "<img src=\"https://raw.githubusercontent.com/justinjiajia/img/master/python/4dt.png\" width=500  />\n",
        "\n",
        "\n",
        "Here is a code skeleton that shows the full potentional of an `if` statement:\n",
        "\n",
        "<pre class=\"lang-python\">\n",
        "<span style=\"color:#2767C5\";>if</span> <span style=\"color:#BB2F29\";>&lt;condition 1&gt;</span>:\n",
        "   statement(s)         \n",
        "\n",
        "<span style=\"color:#2767C5\";>elif</span> <span style=\"color:#BB2F29\";>&lt;condition 2&gt;</span>:\n",
        "   statement(s)\n",
        "   \n",
        "   ...\n",
        "\n",
        "<span style=\"color:#2767C5\";>elif</span> <span style=\"color:#BB2F29\";>&lt;condition N&gt;</span>:\n",
        "   statement(s)   \n",
        "\n",
        "<span style=\"color:#2767C5\";>else</span>:                      <span style=\"font-style: italic; color:dark teal;\"># All clause headers are all at the same indentation level.</span>\n",
        "   statement(s)\n",
        "\n",
        "following statement(s)\n",
        "</pre>\n",
        "\n",
        "\n",
        "\n",
        "- An arbitrary number of `elif` clauses can be specified. Conditions are evaluated in turn and the block corresponding to the first that is `True` is executed.\n",
        "    \n",
        "- Once one of the expressions is `True` and its block is executed, none of the remaining expressions are tested.\n",
        "\n",
        "- If none of the expressions are `True`, and the group of an ***optional*** `else` clause is executed if specified.\n",
        "\n",
        "    - There can be only one `else` clause, and it must be specified last.\n",
        "    \n",
        "    \n",
        "\n",
        "    \n",
        "\n",
        "---\n",
        "\n",
        "\n"
      ]
    },
    {
      "cell_type": "code",
      "execution_count": null,
      "metadata": {
        "id": "6Nh4PGpeI3aG"
      },
      "outputs": [],
      "source": [
        "income = 50\n",
        "\n",
        "print(f\"The customer's monthly income is {income}K\")\n",
        "\n",
        "if income >= 70:\n",
        "    print(\"Approve!\")\n",
        "elif income >= 30:                       # why not 30 <= income < 70?\n",
        "    print(\"Collect more information!\")\n",
        "else:\n",
        "    print(\"Reject!\")\n",
        "\n",
        "print(\"Done\")"
      ]
    },
    {
      "cell_type": "markdown",
      "metadata": {
        "id": "922WdGwwKPWn"
      },
      "source": [
        "<img src=\"https://raw.githubusercontent.com/justinjiajia/img/master/python/5dt.png\" width=500 style=\"float: left; margin-top: 1.5em; \" />\n",
        "\n",
        "*Exercise:* Following the same logic, try to write codes for the above decision rule."
      ]
    },
    {
      "cell_type": "code",
      "execution_count": null,
      "metadata": {
        "id": "rH5XP269KVTJ"
      },
      "outputs": [],
      "source": [
        "#write your codes here\n"
      ]
    },
    {
      "cell_type": "markdown",
      "metadata": {
        "id": "3KMM-HKJkP9v"
      },
      "source": [
        "<br/>\n",
        "\n",
        "## 2.3 Nested `if` statements\n",
        "\n",
        "\n",
        "An `if` statement enclosed inside another `if` statement is called a ***nested*** `if` statement.\n",
        "\n",
        "\n",
        " `if` statements can nest (***to arbitrary depth***) to formulate more complicated conditionals.\n",
        "\n",
        "\n",
        "\n",
        " | Name |  Income  | Criminal | Result |\n",
        "|-----|-----|-----|-----|\n",
        "| Amy | 27 | No | ? |\n",
        "\n",
        "\n",
        "<img src=\"https://raw.githubusercontent.com/justinjiajia/img/master/python/2dt.png\" width=500 style=\"float: left;\" />\n",
        "\n",
        "\n",
        "\n",
        "Pseudo code:\n",
        "\n",
        "<pre>\n",
        "<span style=\"color:#2767C5\";>if</span> <span style=\"color:#BB2F29\";>income >= 30</span> <span style=\"color:#2767C5\";>=></span> approve\n",
        "<span style=\"color:#2767C5\";>else</span> =>\n",
        "     <span style=\"color:#2767C5\";>if</span> <span style=\"color:#BB2F29\";>criminal == No</span> <span style=\"color:#2767C5\";>=></span> approve\n",
        "     <span style=\"color:#2767C5\";>else</span> <span style=\"color:#2767C5\";>=></span> reject\n",
        "</pre>"
      ]
    },
    {
      "cell_type": "code",
      "execution_count": null,
      "metadata": {
        "id": "Q9jLhZjZI3aH"
      },
      "outputs": [],
      "source": [
        "income = 27\n",
        "criminal = \"No\"\n",
        "\n",
        "if income >= 30:\n",
        "    print('Approve!')\n",
        "else:\n",
        "    if criminal == \"No\":\n",
        "        print('Approve!')\n",
        "    else:\n",
        "        print('Reject!')\n",
        "\n",
        "print(\"Done\")"
      ]
    },
    {
      "cell_type": "markdown",
      "metadata": {
        "id": "C0A8aKmrSgrt"
      },
      "source": [
        "Can you use `elif` to implement the same function?"
      ]
    },
    {
      "cell_type": "code",
      "execution_count": null,
      "metadata": {
        "id": "9ErPs2JISp7G"
      },
      "outputs": [],
      "source": [
        "# write your codes here\n"
      ]
    },
    {
      "cell_type": "markdown",
      "metadata": {
        "id": "CBoghJzLI3aI"
      },
      "source": [
        "\n",
        "---\n",
        "\n",
        "**<font color='steelblue' > Question</font>**: Write code to describe the decision rules represented by the following decision tree:\n",
        "\n",
        "| Name |  Income | Years | Criminal | Result |\n",
        "|-----|-----|-----|-----|-----|\n",
        "| Amy | 27 |4.2 |  No | ? |\n",
        "\n",
        "\n",
        "\n",
        "<img src=\"https://raw.githubusercontent.com/justinjiajia/img/master/python/3dt.png\" width=500 style=\"float: left; margin-top: 1.5em; \" />\n",
        "\n",
        "\n",
        "\n"
      ]
    },
    {
      "cell_type": "code",
      "execution_count": null,
      "metadata": {
        "id": "rLA3rsLCI3aI"
      },
      "outputs": [],
      "source": [
        "# try to write code for it by yourself\n",
        "\n",
        "customer = {'Name': 'Amy', 'Income': 27,  'Years': 4.2, 'Criminal': 'No'}\n",
        "\n",
        "# code that implements the decision rule\n",
        "\n"
      ]
    },
    {
      "cell_type": "markdown",
      "metadata": {
        "id": "9327fVBG1QHE"
      },
      "source": [
        "\n",
        "\n",
        "<br/>\n",
        "\n",
        "## 2.4  Conditional Expressions\n",
        "\n",
        "Python supports an additional decision-making entity called a **conditional expression**.\n",
        "\n",
        "The **conditional operator** has 3 operands. The syntax is as follows:\n",
        "\n",
        "<br>\n",
        "\n",
        "<pre class=\"lang-python\"><span style=\"color:#BB2F29\";>&lt;expression 1&gt;</span> <span style=\"color:#2767C5\";>if</span> <span style=\"color:#BB2F29\";>&lt;condition&gt;</span> <span style=\"color:#2767C5\";>else</span> <span style=\"color:#BB2F29\";>&lt;expression 2&gt;</span>   <span style=\"font-style:italic; color:dark teal;\";># The else part is mandatory</span></pre>\n",
        "\n",
        "\n",
        "<br>\n",
        "\n",
        "- `<condition>` is evaluated first:\n",
        "\n",
        "    - if `True`, the expression evaluates to `<expression 1>`;\n",
        "    \n",
        "    - otherwise, the expression evaluates to `<expression 2>`.\n",
        "\n",
        "\n",
        "<br>\n",
        "\n",
        "The conditional operator provides a syntactic shorthand for the normal `if` statement.\n",
        "\n",
        "    \n",
        "```python\n",
        "a, b = 3, 7\n",
        "\n",
        "if a < b:\n",
        "   msg = 'a is less than b'\n",
        "else:\n",
        "   msg = 'a is greater than or equal to b'\n",
        "\n",
        "print(msg)\n",
        "```"
      ]
    },
    {
      "cell_type": "code",
      "execution_count": null,
      "metadata": {
        "id": "n0fXzuNbndF8"
      },
      "outputs": [],
      "source": [
        "a, b = 3, 7\n",
        "print('a is less than b' if a < b else 'a is greater than or equal to b')"
      ]
    },
    {
      "cell_type": "markdown",
      "metadata": {
        "id": "tSNr3Ha1TrHX"
      },
      "source": [
        "A common use of the conditional expression is to select variable assignment.\n",
        "\n",
        "For example, suppose you want to find the larger one of two numbers. Of course, there is a built-in function max() that does just this (and more) that you could use. But suppose you want to write your own code from scratch."
      ]
    },
    {
      "cell_type": "code",
      "execution_count": null,
      "metadata": {
        "id": "TlcdUWJ6TtQX"
      },
      "outputs": [],
      "source": [
        "if a > b:\n",
        "    m = a\n",
        "else:\n",
        "    m = b"
      ]
    },
    {
      "cell_type": "markdown",
      "metadata": {
        "id": "co-CL7ERTut3"
      },
      "source": [
        "Compare it with a conditional expression"
      ]
    },
    {
      "cell_type": "code",
      "execution_count": null,
      "metadata": {
        "id": "75wUZvPTTv19"
      },
      "outputs": [],
      "source": [
        "a, b = 3, 7\n",
        "\n",
        "m = a if a > b else b\n",
        "m\n"
      ]
    },
    {
      "cell_type": "markdown",
      "metadata": {
        "id": "IPLpHRmD4QPJ"
      },
      "source": [
        "**<font color='steelblue' > Question</font>**: Can you rewrite the following for loop, which converts each score to \"pass\" or \"fail\", using list comprehension?\n",
        "\n",
        "```python\n",
        "gradebook = [82, 99, 45, 34, 83, 100, 59, 97, 88]\n",
        "\n",
        "pass_or_fail = []\n",
        "\n",
        "for score in gradebook:\n",
        "    if score >= 60:\n",
        "        pass_or_fail.append(\"P\")\n",
        "    else:\n",
        "        pass_or_fail.append(\"F\")\n",
        "            \n",
        "pass_or_fail\n",
        "```\n",
        "\n",
        "- Tip: Use a conditional expression as the output expression of the list comprehension"
      ]
    },
    {
      "cell_type": "code",
      "execution_count": null,
      "metadata": {
        "id": "JQDVGVCX4OQj"
      },
      "outputs": [],
      "source": [
        "gradebook = [82, 99, 45, 34, 83, 100, 59, 97, 88]\n",
        "\n",
        "pass_or_fail = []\n",
        "\n",
        "for score in gradebook:\n",
        "    if score >= 60:\n",
        "        pass_or_fail.append(\"P\")\n",
        "    else:\n",
        "        pass_or_fail.append(\"F\")\n",
        "\n",
        "pass_or_fail"
      ]
    },
    {
      "cell_type": "code",
      "execution_count": null,
      "metadata": {
        "id": "XIttlNMa4TMS"
      },
      "outputs": [],
      "source": [
        "# write your list comprehension below\n",
        "gradebook = [82, 99, 45, 34, 83, 100, 59, 97, 88]\n"
      ]
    },
    {
      "cell_type": "markdown",
      "metadata": {
        "id": "oGIdrvxn1QHL"
      },
      "source": [
        "The conditional expression has lower precedence than virtually all the other operators:"
      ]
    },
    {
      "cell_type": "code",
      "execution_count": null,
      "metadata": {
        "id": "7zifmINa1QHM"
      },
      "outputs": [],
      "source": [
        "x = y = 1 # chained assignment that sets both x and y to 1"
      ]
    },
    {
      "cell_type": "code",
      "execution_count": null,
      "metadata": {
        "id": "DXlZ6Z1x1QHQ"
      },
      "outputs": [],
      "source": [
        "5 + (x if x >= y else y) + 10"
      ]
    },
    {
      "cell_type": "code",
      "execution_count": null,
      "metadata": {
        "id": "WHv32Lvn1QHh"
      },
      "outputs": [],
      "source": [
        "5 + x if x >= y else y + 10"
      ]
    },
    {
      "cell_type": "markdown",
      "metadata": {
        "id": "BTDWrrrl1QHk"
      },
      "source": [
        "\n",
        "<br/>\n",
        "\n",
        "# 3 Indefinitive Loops: The `while` Statement\n",
        "\n",
        "A `while` loop repeats a sequence of statements until a particular condition is no longer satisfied.\n",
        "\n",
        "The simplest form of a `while` loop is shown below:\n",
        "\n",
        "<br>\n",
        "\n",
        "<pre class=\"lang-python\"><span style=\"color:#2767C5\";>while</span> <span style=\"color:#BB2F29\";>&lt;condition&gt;</span>:            <span style=\"font-style: italic; color:dark teal;\"># The colon (:) is required</span>\n",
        "                              <span style=\"font-style: italic; color:dark teal;\"># Again, indentation is used for grouping</span>\n",
        "<div style=\" border-left: 6px solid red; background-color: #e8e9ea;\">  statement 1               \n",
        "  statement 2                  \n",
        "  ...\n",
        "  statement N</div>  \n",
        "following statement(s)\n",
        "</pre>\n",
        "\n",
        "<br>\n",
        "\n",
        "- When a `while` loop is encountered, `<condition>` is first evaluated to return a **Boolean value**.\n",
        "\n",
        "  - `<condition>` is typically formulated with a variable (called a *counter*) whose value changes with iterations.\n",
        "\n",
        "- Statements ***indented to the same level*** are referred to as the **loop body** and executed if `<condition>` is `True`.\n",
        "        \n",
        "- `<condition>` is then checked again.\n",
        "    \n",
        "- Execution repeats these two steps until `<condition>` becomes `False`.\n"
      ]
    },
    {
      "cell_type": "markdown",
      "metadata": {
        "id": "2JmYClkzI3aM"
      },
      "source": [
        "\n",
        "\n",
        "<img src=\"https://raw.githubusercontent.com/justinjiajia/img/master/python/whileloop.PNG\" width=360/>"
      ]
    },
    {
      "cell_type": "code",
      "execution_count": null,
      "metadata": {
        "id": "xY5vf-4O1QHk",
        "scrolled": true
      },
      "outputs": [],
      "source": [
        "n = 5\n",
        "while n > 0:                 # n is the counter\n",
        "    print(n, end='\\t')\n",
        "    n = n - 1                # modify the value of the counter in every iteration\n",
        "print(\"Complete!\")"
      ]
    },
    {
      "cell_type": "markdown",
      "metadata": {
        "id": "03_li4ZDI3aN"
      },
      "source": [
        "\n",
        "|Round No.| Value of Counter `n`| Value of Condition `n > 0`| Printed Output|\n",
        "|:-- |:-- |:-- |:-- |\n",
        "|1|`5`|`True`| `5`|\n",
        "|2|`4`|`True`| `4`|\n",
        "|3|`3`|`True`| `3`|\n",
        "|4|`2`|`True`| `2`|\n",
        "|5|`1`|`True`| `1`|\n",
        "|6|`0`|`False`| ❌ |"
      ]
    },
    {
      "cell_type": "markdown",
      "metadata": {
        "id": "Pb7rff5MYp6l"
      },
      "source": [
        "If we want to print the string \"spam\" as follows: spam pam am m"
      ]
    },
    {
      "cell_type": "code",
      "execution_count": null,
      "metadata": {
        "id": "-a8Rar4tI3aN"
      },
      "outputs": [],
      "source": [
        "s = 'spam'\n",
        "while s:                  # while s is not empty; more concise than s != ''\n",
        "    print(s, end=' ')\n",
        "    s = s[1:]"
      ]
    },
    {
      "cell_type": "markdown",
      "metadata": {
        "id": "tHaW8ECh1QHn"
      },
      "source": [
        "\n",
        "- `while` loops can be nested to any depth.\n",
        "\n",
        "\n",
        "- `while` loops can be nested inside `if` statements, and vice versa.\n",
        "\n",
        "What does the following program do?"
      ]
    },
    {
      "cell_type": "code",
      "execution_count": null,
      "metadata": {
        "id": "-zqowxik1QHn"
      },
      "outputs": [],
      "source": [
        "n = 5\n",
        "while n:\n",
        "    if n % 2 == 1:\n",
        "        print(n, end='\\t')\n",
        "    n = n - 1"
      ]
    },
    {
      "cell_type": "markdown",
      "metadata": {
        "id": "DteiHCcbZzFn"
      },
      "source": [
        "*Exercise:* Write a program to print all even numbers whose squares are smaller than 100 (the expected output would be 0 2 4 6 8)."
      ]
    },
    {
      "cell_type": "code",
      "execution_count": null,
      "metadata": {
        "id": "Gqouc7TUaCi_"
      },
      "outputs": [],
      "source": [
        "# write your codes here\n",
        "\n"
      ]
    },
    {
      "cell_type": "markdown",
      "metadata": {
        "id": "0261MrhZ1QHr"
      },
      "source": [
        "- If we accidentally write a `while` loop that theoretically never ends, the code can be terminated by clicking <kbd>Interrupt</kbd> in the <kbd>Kernel</kbd> menu (Jupyter) or clicking <kbd>Interrupt execution</kbd> in the <kbd>Runtime</kbd> menu (Google Colab).\n"
      ]
    },
    {
      "cell_type": "code",
      "execution_count": null,
      "metadata": {
        "id": "rcYKKfkp_5wk"
      },
      "outputs": [],
      "source": [
        "n = 5\n",
        "while n:\n",
        "    if n % 2 == 1:\n",
        "        print(n, end='\\t')\n",
        "     # n = n - 1"
      ]
    },
    {
      "cell_type": "markdown",
      "metadata": {
        "id": "3wYJAE7H1QIW"
      },
      "source": [
        "\n",
        "\n",
        "\n",
        "\n",
        "<br/>\n",
        "\n",
        "# 4 Definitive Loops: The `for` Statement\n",
        "\n",
        "\n",
        "A `for` statement allows for looping over sequences, processing them one item at a time.\n",
        "\n",
        "The simple form of a `for` loop is as follows:\n",
        "\n",
        "\n",
        " <br>\n",
        "\n",
        "<pre class=\"lang-python\">\n",
        "<span style=\"color:#2767C5\";>for</span> <span style=\"color:#BB2F29\";>&lt;variable&gt;</span> <span style=\"color:#2767C5\";>in</span> <span style=\"color:#BB2F29\";>&lt;iterable&gt;</span>:  \n",
        "\n",
        "    statement(s)               \n",
        "\n",
        "following statements</pre>\n",
        "\n",
        "      \n",
        "<br>\n",
        "\n",
        "\n",
        "<img src=\"https://raw.githubusercontent.com/justinjiajia/img/master/python/forloop.png\" width=600/>\n",
        "\n",
        "\n",
        "\n",
        "\n"
      ]
    },
    {
      "cell_type": "code",
      "execution_count": null,
      "metadata": {
        "id": "PX_dL148I3aR"
      },
      "outputs": [],
      "source": [
        "for num in [1, 2, 3, 4, 5]:\n",
        "    print(num**2, end='\\t')"
      ]
    },
    {
      "cell_type": "markdown",
      "metadata": {
        "id": "vSeMeMCZI3aR"
      },
      "source": [
        "\n",
        "- When a `for` loop is encountered, execution starts to step through the elements in `<iterable>` ***in turn***.\n",
        "    \n",
        "    - `statement(s)` often operate on the element which `<variable>` currently refers to.\n",
        "    \n",
        "    - When `<iterable>` is not exhausted, the next element is assigned to `<variable>` when control returns to the top.\n",
        "\n",
        "- The loop exits once all elements in `<iterable>` have been visited.\n",
        "\n",
        "- `<iterable>` are something capable of returning its members one at a time (or over which we can iterate), including a list, a string, a tuple, a dictionary view, etc."
      ]
    },
    {
      "cell_type": "code",
      "execution_count": null,
      "metadata": {
        "id": "EjfkIYt91QIW"
      },
      "outputs": [],
      "source": [
        "# A string is also an iterable\n",
        "for letter in \"Python Programming\":\n",
        "    print(letter, end='*')"
      ]
    },
    {
      "cell_type": "markdown",
      "metadata": {
        "id": "gZgXma561QIY"
      },
      "source": [
        "Comparing the counter-based `while` loops, `for` loops handle the details of the iteration automatically:"
      ]
    },
    {
      "cell_type": "code",
      "source": [
        "gradebook = [95, 92, 89, 100, 71, 67, 59, 82, 75, 29]\n",
        "\n",
        "index = 0\n",
        "\n",
        "while index < len(gradebook):\n",
        "    print(gradebook[index], end=' ')\n",
        "    index = index + 1"
      ],
      "metadata": {
        "id": "EUC5KbbHD53G"
      },
      "execution_count": null,
      "outputs": []
    },
    {
      "cell_type": "code",
      "source": [
        "gradebook = [95, 92, 89, 100, 71, 67, 59, 82, 75, 29]\n",
        "\n",
        "for score in gradebook:\n",
        "    print(score, end=' ')"
      ],
      "metadata": {
        "id": "tSyezni9D85v"
      },
      "execution_count": null,
      "outputs": []
    },
    {
      "cell_type": "markdown",
      "metadata": {
        "id": "9V_sPhST1QIe"
      },
      "source": [
        "\n",
        "- `for` loops can also nest arbitrarily deeply:"
      ]
    },
    {
      "cell_type": "code",
      "execution_count": null,
      "metadata": {
        "id": "CMM5uqsV1QIf"
      },
      "outputs": [],
      "source": [
        "gradebooks = [[95, 92], [89, 100, 59]]"
      ]
    },
    {
      "cell_type": "code",
      "execution_count": null,
      "metadata": {
        "id": "_YIsf8O-1QIj"
      },
      "outputs": [],
      "source": [
        "i = 1\n",
        "for gradebook in gradebooks:\n",
        "    print(f'Course {i}:', end = ' ')\n",
        "    for score in gradebook:\n",
        "        print(score, end =' ')\n",
        "    i += 1\n",
        "    print(end='\\n')"
      ]
    },
    {
      "cell_type": "markdown",
      "metadata": {
        "id": "f_aLYDlN1QHu"
      },
      "source": [
        "\n",
        "\n",
        "<br/>\n",
        "\n",
        "# 5 Interrupting Loops: `break` and `continue`\n",
        "\n",
        "Python provides two keywords `break` and `continue` that terminate a loop prematurely:\n"
      ]
    },
    {
      "cell_type": "markdown",
      "metadata": {
        "id": "0rRygy8v1QHv"
      },
      "source": [
        "\n",
        "<pre class=\"lang-python\">\n",
        "<span style=\"color:#2767C5\";>while</span> <span style=\"color:#BB2F29\";>&lt;condition&gt;</span>:  \n",
        "        <div style=\" border-left: 6px solid red; background-color: #e8e9ea;\">    statement(s)\n",
        "    \n",
        "    <span style=\"color:#2767C5\";>if</span> <span style=\"color:#BB2F29\";>&lt;condition&gt;</span>:     <span style=\"font-style: italic; color:dark teal;\"># execution steps into the block containing continue or break if True </span>\n",
        "       statement(s)\n",
        "       <span style=\"color:#2767C5\";>continue</span> or <span style=\"color:#2767C5\";>break</span>   \n",
        "    \n",
        "    statement(s)        <span style=\"font-style: italic; color:dark teal;\"># skipped over if continue or break is reached </span></div>\n",
        "following statement(s) </pre>\n",
        "\n"
      ]
    },
    {
      "cell_type": "markdown",
      "metadata": {
        "id": "kJ9uTIQ81QHw"
      },
      "source": [
        "\n",
        "- The `break` and `continue` statements are usually further nested in an `if` test to take action in response to some `<condition>`.\n",
        "\n",
        "    - The `continue` statement terminates the ***current*** iteration immediately.\n",
        "    \n",
        "    - The `break` statement immediately terminates a loop ***entirely***."
      ]
    },
    {
      "cell_type": "code",
      "execution_count": null,
      "metadata": {
        "id": "xpeXvRCP1QHw"
      },
      "outputs": [],
      "source": [
        "gradebook = [95, 92, 89, 100, 71, 67, 59, 82, 75, 29]"
      ]
    },
    {
      "cell_type": "markdown",
      "metadata": {
        "id": "x7UeY88xeark"
      },
      "source": [
        "How can we get the number of students who have earned scores above 90?\n",
        "- check grades one by one to see the grade is higher than 90\n",
        "- if a grade is higher than 90, we should record that number\n",
        "- if a grade is lower than 90, no need to do anything => maybe a `continue` can be used"
      ]
    },
    {
      "cell_type": "code",
      "execution_count": null,
      "metadata": {
        "id": "U0f5NBIA1QHy"
      },
      "outputs": [],
      "source": [
        "# find how many students have earned scores above 90 points\n",
        "\n",
        "i = 0\n",
        "count_above = 0\n",
        "\n",
        "while i < len(gradebook):\n",
        "    i += 1\n",
        "    if gradebook[i-1] <= 90:  # when a grade is not above 90, we should go to the next iteraction\n",
        "        continue\n",
        "    count_above += 1     # otherwise, we add count_above by 1\n",
        "\n",
        "count_above, i"
      ]
    },
    {
      "cell_type": "markdown",
      "metadata": {
        "id": "hEbteJn-gXDc"
      },
      "source": [
        "**<font color='steelblue' > Question</font>**: how to accomplish this task by using `break`?\n",
        "\n",
        "Hint: consider sort the gradebook first\n",
        "\n",
        "- By sorting the gradebook from highest to lowest, we only need to check all grades that are higher than 90\n",
        "\n",
        "- It means we do not need to check all grades, as long as the currect grade is lower than 90, we can leave the loop==> a `break` might be needed"
      ]
    },
    {
      "cell_type": "code",
      "execution_count": null,
      "metadata": {
        "id": "zbf67I931QH6"
      },
      "outputs": [],
      "source": [
        "gradebook_sorted = sorted(gradebook, reverse=True)\n",
        "gradebook_sorted"
      ]
    },
    {
      "cell_type": "code",
      "execution_count": null,
      "metadata": {
        "id": "IZejEOCh1QIA"
      },
      "outputs": [],
      "source": [
        "i = 0\n",
        "count_above = 0\n",
        "\n",
        "while i < len(gradebook_sorted):\n",
        "    i += 1\n",
        "    if gradebook_sorted[i-1] <= 90:\n",
        "        break\n",
        "    count_above += 1\n",
        "\n",
        "count_above, i"
      ]
    },
    {
      "cell_type": "markdown",
      "metadata": {
        "id": "OtVi3kvPg7TW"
      },
      "source": [
        "Compare the value of the counter i when using `continue` and `break` above."
      ]
    },
    {
      "cell_type": "markdown",
      "source": [
        "- The `break` and `continue` statements can also be used within `for` loops.\n",
        "\n",
        "<pre class=\"lang-python\">\n",
        "<span style=\"color:#2767C5\";>for</span> <span style=\"color:#BB2F29\";>&lt;variable&gt;</span> <span style=\"color:#2767C5\";>in</span> <span style=\"color:#BB2F29\";>&lt;iterable&gt;</span>:\n",
        "        <div style=\" border-left: 6px solid red; background-color: #e8e9ea;\">    statement(s)\n",
        "    \n",
        "    <span style=\"color:#2767C5\";>if</span> <span style=\"color:#BB2F29\";>&lt;condition&gt;</span>:     <span style=\"font-style: italic; color:dark teal;\"># execution steps into the block containing continue or break if True </span>\n",
        "       statement(s)\n",
        "       <span style=\"color:#2767C5\";>continue</span> or <span style=\"color:#2767C5\";>break</span>   \n",
        "    \n",
        "    statement(s)        <span style=\"font-style: italic; color:dark teal;\"># skipped over if continue or break is reached </span></div>\n",
        "following statement(s) </pre>\n"
      ],
      "metadata": {
        "id": "RfGODEoZFIe7"
      }
    },
    {
      "cell_type": "code",
      "source": [
        "bank_customers = [['Amy', False], ['Sam', True], ['Michael', False], ['Ada', True], ['Jasper', False]]"
      ],
      "metadata": {
        "id": "eP4y5oznNATf"
      },
      "execution_count": null,
      "outputs": []
    },
    {
      "cell_type": "code",
      "source": [
        "for name, default in bank_customers:\n",
        "    if default:\n",
        "        print(f\"Transactions from {name} has been flagged for review\")\n",
        "        break\n",
        "    print(f\"Processing transactions from {name}\")"
      ],
      "metadata": {
        "id": "3TtyZmk-NPgn"
      },
      "execution_count": null,
      "outputs": []
    },
    {
      "cell_type": "code",
      "source": [
        "for name, default in bank_customers:\n",
        "    if default:\n",
        "        print(f\"Transactions from {name} has been flagged for review\")\n",
        "        continue\n",
        "    print(f\"Processing transactions from {name}\")"
      ],
      "metadata": {
        "id": "j6JTm1-zNQ5k"
      },
      "execution_count": null,
      "outputs": []
    },
    {
      "cell_type": "code",
      "source": [
        "# polling time; go to https://www.menti.com/alprq29wz5h1"
      ],
      "metadata": {
        "id": "yckYBoA9_LhJ"
      },
      "execution_count": null,
      "outputs": []
    },
    {
      "cell_type": "markdown",
      "source": [
        "We can use **nested break and nested continue statements** in loops in Python. These statements can work inside nested loops (loops within loops) to control the flow of execution. However, their behavior depends on which loop they are located in."
      ],
      "metadata": {
        "id": "rg-4xeOadNS8"
      }
    },
    {
      "cell_type": "markdown",
      "source": [
        "<pre class=\"lang-python\">\n",
        "<span style=\"color:#2767C5\";>for</span> <span style=\"color:#BB2F29\";>&lt;variable&gt;</span> <span style=\"color:#2767C5\";>in</span> <span style=\"color:#BB2F29\";>&lt;iterable&gt;</span> or <span style=\"color:#2767C5\";>while</span> <span style=\"color:#BB2F29\";>&lt;condition&gt;</span>:\n",
        "\n",
        "    statement(s)   \n",
        "\n",
        "    <span style=\"color:#2767C5\";>for</span> <span style=\"color:#BB2F29\";>&lt;variable&gt;</span> <span style=\"color:#2767C5\";>in</span> <span style=\"color:#BB2F29\";>&lt;iterable&gt;</span> or <span style=\"color:#2767C5\";>while</span> <span style=\"color:#BB2F29\";>&lt;condition&gt;</span>:\n",
        "        statement(s)  \n",
        "        <span style=\"color:#2767C5\";>continue</span> or <span style=\"color:#2767C5\";>break</span>              <span style=\"font-style: italic; color:dark teal;\"># apply to the inner loop</span>\n",
        "\n",
        "    <span style=\"color:#2767C5\";>continue</span> or <span style=\"color:#2767C5\";>break</span>                  <span style=\"font-style: italic; color:dark teal;\"># apply to the outer loop</span></pre>  \n",
        "\n"
      ],
      "metadata": {
        "id": "A4ZzMydvNhHg"
      }
    },
    {
      "cell_type": "code",
      "source": [
        "for i in range(3):\n",
        "    print(f\"Outer loop: {i}\")\n",
        "    for j in range(3):\n",
        "        if j == 1:\n",
        "            break  # This applies to the inner loop\n",
        "        print(f\"  Inner loop: {j}\")"
      ],
      "metadata": {
        "id": "98fmMYrNOWKa"
      },
      "execution_count": null,
      "outputs": []
    },
    {
      "cell_type": "code",
      "source": [
        "for i in range(3):\n",
        "    print(f\"Outer loop: {i}\")\n",
        "    for j in range(3):\n",
        "        if j == 1:\n",
        "            continue  # This applies to the inner loop\n",
        "        print(f\"  Inner loop: {j}\")"
      ],
      "metadata": {
        "id": "IvLjEzeJOYZg"
      },
      "execution_count": null,
      "outputs": []
    },
    {
      "cell_type": "markdown",
      "metadata": {
        "id": "nwLu8shs1QIt"
      },
      "source": [
        "\n",
        "\n",
        "<br/>\n",
        "\n",
        "# 6 Loop Coding Techniques\n",
        "\n",
        "\n",
        "\n",
        "\n",
        "\n",
        "\n",
        "\n"
      ]
    },
    {
      "cell_type": "markdown",
      "metadata": {
        "id": "Woo_y3iBI3aT"
      },
      "source": [
        "\n",
        "## 6.1 Counter-style Traversals with `range()`\n",
        "\n",
        "To generate indices to iterate through on demand in a `for` loop, we can use [`range()`](https://docs.python.org/3/library/stdtypes.html#range) (the constructor for an immutable sequence of integers) to create a **range** object:\n"
      ]
    },
    {
      "cell_type": "code",
      "execution_count": null,
      "metadata": {
        "id": "Z7fOjl1P1QIu"
      },
      "outputs": [],
      "source": [
        "range(5)"
      ]
    },
    {
      "cell_type": "markdown",
      "metadata": {
        "id": "3BiAtrF_1QIx"
      },
      "source": [
        "The content of a range object can be displayed by a list call:"
      ]
    },
    {
      "cell_type": "code",
      "execution_count": null,
      "metadata": {
        "id": "9PclUvTd1QIy"
      },
      "outputs": [],
      "source": [
        "list(range(5))     # start defaults to 0"
      ]
    },
    {
      "cell_type": "code",
      "execution_count": null,
      "metadata": {
        "id": "1Tc45o_y1QI4"
      },
      "outputs": [],
      "source": [
        "list(range(2, 7))  # step defaults to 1"
      ]
    },
    {
      "cell_type": "code",
      "execution_count": null,
      "metadata": {
        "id": "-t-dB7ly1QI7"
      },
      "outputs": [],
      "source": [
        "list(range(0, 7, 3))  # set step to 3"
      ]
    },
    {
      "cell_type": "markdown",
      "source": [
        "How can we know the index of a list element?\n",
        "\n",
        "```python\n",
        "records = ['Amy', 1400, 'Yes', False, 'Jane', 1355, 'No', False, 'Brian', 2000, 'Yes', True]\n",
        "```\n",
        "\n",
        "```\n",
        "Amy at position 0\n",
        "Jane at position 4\n",
        "Brian at position 8\n",
        "\n",
        "```"
      ],
      "metadata": {
        "id": "6Vsqxs7pPvKG"
      }
    },
    {
      "cell_type": "markdown",
      "metadata": {
        "id": "O8eY1AcY1QI_"
      },
      "source": [
        "The content is a sequence of integers in arithmetic progression between the start (***inclusive***) and the stop (***exclusive***):\n",
        "\n",
        "$[start, start + step, start+2 \\times step, \\dots, start+i \\times step, \\dots ]$\n"
      ]
    },
    {
      "cell_type": "code",
      "execution_count": null,
      "metadata": {
        "id": "PAn6sBvz1QJB"
      },
      "outputs": [],
      "source": [
        "records = ['Amy', 1400, 'Yes', False, 'Jane', 1355, 'No', False, 'Brian', 2000, 'Yes', True]\n",
        "output_strings = [f'{records[i]} at position {i}' for i in range(0, len(records), 4)]  #list comprehension\n",
        "output_strings"
      ]
    },
    {
      "cell_type": "markdown",
      "metadata": {
        "id": "-T9s8ydazQ8C"
      },
      "source": [
        "\n",
        "\n",
        "**<font color='steelblue' >Question</font>**: Can you create a nested list that organizes each customer record with a sublist using list comprehension?\n",
        "\n",
        "```python\n",
        "records = ['Amy', 1400, 'Yes', False, 'Jane', 1355, 'No', False, 'Brian', 2000, 'Yes', True]\n",
        "```\n",
        "The expected output is\n",
        "```python\n",
        "[['Amy', 1400, 'Yes', False],\n",
        " ['Jane', 1355, 'No', False],\n",
        " ['Brian', 2000, 'Yes', True]]\n",
        "```"
      ]
    },
    {
      "cell_type": "code",
      "execution_count": null,
      "metadata": {
        "id": "GJVj1UY0zTtb"
      },
      "outputs": [],
      "source": [
        "# write your codes here\n"
      ]
    },
    {
      "cell_type": "markdown",
      "metadata": {
        "id": "tBCNON631QJF"
      },
      "source": [
        "<br>\n",
        "\n",
        "## 6.2 Iterating over Index-value Pairs with **`enumerate()`**\n",
        "\n",
        "The [`enumerate()`](https://docs.python.org/3/library/functions.html#enumerate) function provides a simpler way to generate both indices and items for a loop."
      ]
    },
    {
      "cell_type": "code",
      "execution_count": null,
      "metadata": {
        "id": "4vzI4VhU1QJF"
      },
      "outputs": [],
      "source": [
        "menu = [\"Big Mac\", 'McChicken', 'French Fries', 'Apple Pie', 'Coca-Cola']\n",
        "enum = enumerate(menu)\n",
        "enum"
      ]
    },
    {
      "cell_type": "code",
      "execution_count": null,
      "metadata": {
        "id": "fYtCZKGs1QJJ"
      },
      "outputs": [],
      "source": [
        "list(enum)     #  the content can also be displayed by a list call"
      ]
    },
    {
      "cell_type": "markdown",
      "source": [
        "The `enumerate()` function also takes an optional argument called `start` that lets us tweak the initial value:"
      ],
      "metadata": {
        "id": "2Ax7cCfCS7Xz"
      }
    },
    {
      "cell_type": "code",
      "source": [
        "print(\"Main Menu:\")\n",
        "for position, option in enumerate(menu, start=1):\n",
        "    print(f\"{position}. {option}\")"
      ],
      "metadata": {
        "id": "6I6R5f5HS963"
      },
      "execution_count": null,
      "outputs": []
    },
    {
      "cell_type": "markdown",
      "metadata": {
        "id": "DF1S2nzZuksf"
      },
      "source": [
        "*Exercise:*\n",
        "    \n",
        "Make use of enumerate() function and list comprehension to find the index of elements starting with \"w\":\n",
        "\n",
        "```python\n",
        "l = ['Python', 'programming', 'language', 'allows', 'the', 'use', 'of', 'a', 'while', 'loop', 'inside', 'another', 'while', 'loop']\n",
        "```"
      ]
    },
    {
      "cell_type": "code",
      "execution_count": null,
      "metadata": {
        "id": "L---q5zFul2r"
      },
      "outputs": [],
      "source": [
        "l = ['Python', 'programming', 'language', 'allows', 'the', 'use', 'of', 'a', 'while', 'loop', 'inside', 'another', 'while', 'loop']\n",
        "# write your codes here\n"
      ]
    },
    {
      "cell_type": "markdown",
      "metadata": {
        "id": "5X_CzNhm1QJO"
      },
      "source": [
        "\n",
        "<br/>\n",
        "\n",
        "## 6.3 Parallel Traversals with **`zip()`**\n",
        "\n",
        "\n",
        "```python\n",
        "names = ['John', 'Danny', 'Tyrion', 'Sam']\n",
        "balances = [20, 10, 5, 40]\n",
        "students = ['Yes', 'No', 'Yes', 'No']\n",
        "outcomes = [False, False, True, True]\n",
        "```\n",
        "\n",
        "```\n",
        "John -> 20\n",
        "Danny -> 10\n",
        "Tyrion -> 5\n",
        "Sam -> 40\n",
        "```\n",
        "\n"
      ]
    },
    {
      "cell_type": "markdown",
      "metadata": {
        "id": "G226xGTUJxBu"
      },
      "source": [
        "The built-in [`zip()`](https://docs.python.org/3/library/functions.html#zip) function allows us to visit multiple sequences ***in parallel***.\n",
        "\n",
        "\n",
        "`zip()` takes one or more sequences as arguments and returns a series of tuples that pair up parallel items taken from those sequences:\n",
        "\n",
        "<img src=\"https://raw.githubusercontent.com/justinjiajia/img/master/python/zip1.svg\" width=500/>\n",
        "\n",
        "\n",
        "\n"
      ]
    },
    {
      "cell_type": "code",
      "execution_count": null,
      "metadata": {
        "id": "3t73kol61QJT"
      },
      "outputs": [],
      "source": [
        "names = ['John', 'Danny', 'Tyrion', 'Sam']\n",
        "balances = [20, 10, 5, 40]\n",
        "students = ['Yes', 'No', 'Yes', 'No']\n",
        "outcomes = [False, False, True, True]\n",
        "\n",
        "zipped = zip(names, balances, students, outcomes)\n",
        "zipped"
      ]
    },
    {
      "cell_type": "code",
      "execution_count": null,
      "metadata": {
        "id": "ZY6trgg_1QJX"
      },
      "outputs": [],
      "source": [
        "list(zipped)"
      ]
    },
    {
      "cell_type": "code",
      "source": [
        "dict(zip(names, students))"
      ],
      "metadata": {
        "id": "Jhj0oHZET3Id"
      },
      "execution_count": null,
      "outputs": []
    },
    {
      "cell_type": "markdown",
      "metadata": {
        "id": "cUQnhp9I1QJZ"
      },
      "source": [
        "Now, we can step over elements from multiple lists within a single comprehension:"
      ]
    },
    {
      "cell_type": "code",
      "execution_count": null,
      "metadata": {
        "id": "QmyoOOqy1QJb"
      },
      "outputs": [],
      "source": [
        "{name : outcome for name, *others, outcome in zip(names, balances, students, outcomes)}  # use sequence unpacking and dictionary comprehension"
      ]
    },
    {
      "cell_type": "code",
      "execution_count": null,
      "metadata": {
        "id": "gZteX0RSaZXU"
      },
      "outputs": [],
      "source": [
        "{name : outcome for name, outcome in zip(names, outcomes)}"
      ]
    },
    {
      "cell_type": "markdown",
      "metadata": {
        "id": "w9O-uH7J1QJh"
      },
      "source": [
        "`zip()` truncates results at the length of the shortest sequence when the argument lengths differ:"
      ]
    },
    {
      "cell_type": "code",
      "execution_count": null,
      "metadata": {
        "id": "k5-0efOA1QJi"
      },
      "outputs": [],
      "source": [
        "list(zip('abc', 'xyz123'))"
      ]
    },
    {
      "cell_type": "markdown",
      "source": [
        "**<font color='steelblue' >Question</font>**: Calculate the products of pairwise numbers from the 2 lists below:\n",
        "\n",
        "```python\n",
        "number_1 = [2, 4, 6]\n",
        "number_2 = [1, 3, 5]\n",
        "```\n",
        "\n",
        "The expected output is `['2 x 1 = 2', '4 x 3 = 12', '6 x 5 = 30']`"
      ],
      "metadata": {
        "id": "VnYkV3j_XP2K"
      }
    },
    {
      "cell_type": "code",
      "source": [
        "number_1 = [2, 4, 6]\n",
        "number_2 = [1, 3, 5]\n",
        "\n",
        "# write your code below\n"
      ],
      "metadata": {
        "id": "jDmhnN21XRYI"
      },
      "execution_count": null,
      "outputs": []
    },
    {
      "cell_type": "markdown",
      "source": [
        "**<font color='steelblue' >Question</font>**: Given the gradebooks for 3 subjects below, calculate the total scores for all students.\n",
        "\n",
        "```python\n",
        "math = [95, 78, 89, 92]\n",
        "chinese = [88, 93, 77, 98]\n",
        "english = [95, 99, 83, 87]\n",
        "```\n",
        "\n",
        "The expected output is `[278, 270, 249, 277]`."
      ],
      "metadata": {
        "id": "iJgZgkNiXwMZ"
      }
    },
    {
      "cell_type": "code",
      "source": [
        "math = [95, 78, 89, 92]\n",
        "chinese = [88, 93, 77, 98]\n",
        "english = [95, 99, 83, 87]\n",
        "\n",
        "# write your code below\n"
      ],
      "metadata": {
        "id": "2BBYN8jzXx9m"
      },
      "execution_count": null,
      "outputs": []
    },
    {
      "cell_type": "markdown",
      "metadata": {
        "id": "X8ExSsBU1QJw"
      },
      "source": [
        "\n",
        "<br/>\n",
        "\n",
        "## (Optional) 6.4 Nested Comprehension"
      ]
    },
    {
      "cell_type": "code",
      "execution_count": null,
      "metadata": {
        "id": "YheQtAh4I3ab"
      },
      "outputs": [],
      "source": [
        "gradebooks = [[['Alice', 95], ['Troy', 92]], [['James', 89], ['Charles', 100], ['Bryn', 59]]]"
      ]
    },
    {
      "cell_type": "code",
      "source": [
        "scores = []\n",
        "for course in gradebooks:\n",
        "    for name, score in course:\n",
        "        scores.append(score)\n",
        "scores"
      ],
      "metadata": {
        "id": "yo4IqdwPYDWq"
      },
      "execution_count": null,
      "outputs": []
    },
    {
      "cell_type": "markdown",
      "metadata": {
        "id": "4RNnEZdE1QKE"
      },
      "source": [
        "To pull out data on scores only, we can code ***nested*** loops, each removing one level of nesting:"
      ]
    },
    {
      "cell_type": "code",
      "execution_count": null,
      "metadata": {
        "id": "ckdva-CL1QKF",
        "scrolled": true
      },
      "outputs": [],
      "source": [
        "[score for course in gradebooks for name, score in course]\n",
        "# sequence unpacking is also used here; so we only need a 2-level loop to remove 3 levels of nesting"
      ]
    },
    {
      "cell_type": "markdown",
      "metadata": {
        "id": "vIb9SWk81QKH"
      },
      "source": [
        "The general structure of comprehensions looks like this:\n",
        "\n",
        "<pre>[ expression <span style=\"color:#2767C5\";>for</span> target_1 <span style=\"color:#2767C5\";>in</span> iterable_1 [<span style=\"color:#2767C5\";>if</span> <span style=\"color:#BB2F29\";>&lt;condition_1&gt;</span>]\n",
        "             <span style=\"color:#2767C5\";>for</span> target_2 <span style=\"color:#2767C5\";>in</span> iterable_2 [<span style=\"color:#2767C5\";>if</span> <span style=\"color:#BB2F29\";>&lt;condition_2&gt;</span>] ...\n",
        "             <span style=\"color:#2767C5\";>for</span> target_N <span style=\"color:#2767C5\";>in</span> iterable_N [<span style=\"color:#2767C5\";>if</span> <span style=\"color:#BB2F29\";>&lt;condition_N&gt;</span>] ]</pre>\n",
        "             \n",
        "             \n",
        "We can nest a comprehension in the output expression to retain the existing nesting and produce grouped data:             "
      ]
    },
    {
      "cell_type": "code",
      "execution_count": null,
      "metadata": {
        "id": "pyu9Wzj71QKI"
      },
      "outputs": [],
      "source": [
        "[[score for name, score in course] for course in gradebooks]"
      ]
    },
    {
      "cell_type": "markdown",
      "metadata": {
        "id": "NjDit7qC1QKK"
      },
      "source": [
        "Sublists produced by the inner comprehension can be further fed into some aggregation functions, like `max()`, `sum()`, etc., to yield group statistics:"
      ]
    },
    {
      "cell_type": "code",
      "execution_count": null,
      "metadata": {
        "id": "7amz5Hb31QKL"
      },
      "outputs": [],
      "source": [
        "[max([score for name, score in course]) for course in gradebooks]"
      ]
    },
    {
      "cell_type": "markdown",
      "metadata": {
        "id": "URmKgSzDHh2n"
      },
      "source": [
        "\n",
        "**<font color='steelblue' >Question</font>**: Write a comprehension to calculate the number of students who earned scores above 90 for each course.\n",
        "\n",
        "```python\n",
        "gradebooks = [[['Alice', 95], ['Troy', 92]], [['James', 89], ['Charles', 100], ['Bryn', 59]]]\n",
        "```"
      ]
    },
    {
      "cell_type": "code",
      "execution_count": null,
      "metadata": {
        "id": "Zfdd7uiZIJMi"
      },
      "outputs": [],
      "source": [
        "# write your code here\n"
      ]
    },
    {
      "cell_type": "markdown",
      "metadata": {
        "id": "CVQzZFdXINGC"
      },
      "source": [
        "\n",
        "**<font color='steelblue' >Question</font>**: Write code to generate all pairs of students from the list below.\n",
        "\n",
        "```python\n",
        "students = ['Alice', 'Troy', 'James', 'Charles', 'Bryn']\n",
        "```\n",
        "\n",
        "The expected output is as follows:\n",
        "\n",
        "```\n",
        "[('Alice', 'Troy'),\n",
        " ('Alice', 'James'),\n",
        " ('Alice', 'Charles'),\n",
        " ('Alice', 'Bryn'),\n",
        " ('Troy', 'James'),\n",
        " ('Troy', 'Charles'),\n",
        " ('Troy', 'Bryn'),\n",
        " ('James', 'Charles'),\n",
        " ('James', 'Bryn'),\n",
        " ('Charles', 'Bryn')]\n",
        "```"
      ]
    },
    {
      "cell_type": "code",
      "execution_count": null,
      "metadata": {
        "id": "2e1PDNSiWQCH"
      },
      "outputs": [],
      "source": [
        "# write your codes here\n",
        "\n"
      ]
    },
    {
      "cell_type": "markdown",
      "metadata": {
        "id": "viCjWLz0I3ac"
      },
      "source": [
        "---\n",
        "\n",
        "<br>\n",
        "\n",
        "# 7 Exception Handling: The `try` Statement\n",
        "\n",
        "\n",
        "Even if a statement or expression is syntactically correct, it may cause an error/exception:\n"
      ]
    },
    {
      "cell_type": "code",
      "execution_count": null,
      "metadata": {
        "id": "IsqFrE4tI3ac"
      },
      "outputs": [],
      "source": [
        "10 * (1/0)"
      ]
    },
    {
      "cell_type": "code",
      "execution_count": null,
      "metadata": {
        "id": "-f_s6kHRI3ad"
      },
      "outputs": [],
      "source": [
        "4 + spam * 3"
      ]
    },
    {
      "cell_type": "code",
      "execution_count": null,
      "metadata": {
        "id": "ci8IDiySI3ad"
      },
      "outputs": [],
      "source": [
        "'2' + 2"
      ]
    },
    {
      "cell_type": "markdown",
      "metadata": {
        "id": "MNPBZZzeI99Y"
      },
      "source": [
        "What do we want to happen when these errors occur? Should the program simply crash?\n",
        "\n",
        "No, we want it to gracefully handle these exceptions."
      ]
    },
    {
      "cell_type": "code",
      "execution_count": null,
      "metadata": {
        "id": "zSq31GeDI-bS"
      },
      "outputs": [],
      "source": [
        "try:\n",
        "    10 * (1/0)\n",
        "except ZeroDivisionError:\n",
        "    print(\"Don't use 0 as the divisor!\")"
      ]
    },
    {
      "cell_type": "code",
      "source": [
        "try:\n",
        "    divisor = float(input(\"Input a number: \"))\n",
        "    10 * (1/divisor)\n",
        "except:                                 # catches all exceptions; generally not recommended because it can hide unexpected errors.\n",
        "    print(\"There's an error\")"
      ],
      "metadata": {
        "id": "4M4Nb1JCaXbZ"
      },
      "execution_count": null,
      "outputs": []
    },
    {
      "cell_type": "code",
      "source": [
        "try:\n",
        "    divisor = float(input(\"Input a number: \"))\n",
        "    10 * (1/divisor)\n",
        "except Exception as e:      # you can give a name to the captured error using the as keyword\n",
        "    print(f\"Error: {e}\")"
      ],
      "metadata": {
        "id": "Q7mGLefQcQWW"
      },
      "execution_count": null,
      "outputs": []
    },
    {
      "cell_type": "markdown",
      "metadata": {
        "id": "NBN-2LsFI3ad"
      },
      "source": [
        "\n",
        "\n",
        "Here is a code skeleton that shows the full potential of the `try` statement:\n",
        "\n",
        "<pre class=\"lang-python\">\n",
        "<span style=\"color:#2767C5\";>try</span>:\n",
        "   statement(s)         \n",
        "\n",
        "<span style=\"color:#2767C5\";>except</span> <span style=\"color:#BB2F29\";>&lt;Type 1 Error&gt;</span>:\n",
        "   statement(s)\n",
        "   \n",
        "   ...\n",
        "\n",
        "<span style=\"color:#2767C5\";>except</span> <span style=\"color:#BB2F29\";>&lt;Type n Error&gt;</span>:\n",
        "   statement(s)   \n",
        "   \n",
        "<span style=\"color:#2767C5\";>else</span>:\n",
        "   statement(s)      \n",
        "\n",
        "<span style=\"color:#2767C5\";>finally</span>:                      <span style=\"font-style: italic; color:dark teal;\"># All clause headers are all at the same indentation level.</span>\n",
        "   statement(s)\n",
        "\n",
        "following statement(s)\n",
        "</pre>\n",
        "\n",
        "\n",
        "- Explicit exception type specification is not mandatory for an `except` clause.\n",
        "\n",
        "- An arbitrary number of `except` clauses can be specified under the `try` clause to handle different exceptions, e.g., `RuntimeError`, `TypeError`, `NameError`, etc.\n",
        "\n",
        "\n",
        "- If no exception occurs in the `try` clause, all the following `except` clauses are skipped.\n",
        "\n",
        "- If an exception occurs in the `try` clause, the rest of the `try` clause is skipped. Then\n",
        "\n",
        "    - If the exception type is matched by an `except` clause, that clause is executed and then execution continues after the `try` statement.\n",
        "    \n",
        "    - If an exception occurs with no match in the following `except` clauses, execution is stopped and we get the standard error.\n",
        "\n",
        "- In effect, at most one handler will be executed. An `except` clause may name multiple exceptions as a parenthesized tuple, for example: `except (RuntimeError, TypeError, NameError): `\n",
        "\n",
        "- The `try` statement has an optional `else` clause, which must follow all `except` clauses and is executed only when the `try` clause does not raise an exception.\n",
        "\n",
        "- The `try` statement supports another optional `finally` clause, which is intended to define clean-up actions that must be executed under all circumstances, such as closing a file or releasing a lock, regardless of whether an exception was raised or not.\n",
        "\n"
      ]
    },
    {
      "cell_type": "code",
      "execution_count": null,
      "metadata": {
        "id": "dxngkyfGWQCI"
      },
      "outputs": [],
      "source": [
        "lst = [1, 'text', 5, 12]\n",
        "for i in range(5):\n",
        "    try:\n",
        "        print(lst[i] / i)\n",
        "    except (TypeError, ZeroDivisionError) as error1:  # you can give a name to the captured error using the as keyword\n",
        "        print(error1)\n",
        "    except IndexError as error2:\n",
        "        print(error2)"
      ]
    },
    {
      "cell_type": "code",
      "execution_count": null,
      "metadata": {
        "id": "TqXPYq7EWQCJ"
      },
      "outputs": [],
      "source": [
        "while True:\n",
        "    try:\n",
        "        x = int(input(\"Please enter an integer: \"))\n",
        "    except ValueError:\n",
        "        print(\"Oops! That was not a valid integer.\")\n",
        "        print(\"Please try again...\")\n",
        "    else:               # execute when the try clause does not raise an exception.\n",
        "        print(f\"What you input is {x}!\")\n",
        "        print(\"Done!\")\n",
        "        break"
      ]
    },
    {
      "cell_type": "markdown",
      "metadata": {
        "id": "k1JnkTL1WQCJ"
      },
      "source": [
        "Below are some common types of `Error`s in python:\n",
        "\n",
        "|Type|\tDescription| Example|\n",
        "|:-- |:-- | :-- |\n",
        "|`AttributeError`| Raised on the attribute assignment or reference fails. |  `a_tuple = 1, 2, 3` <br> `a_tuple.sort()`|\n",
        "|`ImportError`| Raised when the import statement has troubles trying to load a module. | `import panda` |\n",
        "|`IndexError`|Raised when the index of a sequence is out of range.| `numbers = [1, 2, 3, 4]` <br>`numbers[6]`|\n",
        "|`NameError`| Raised when a variable is not found in the local or global scope. | `course = \"ISOM3400\"` <bR> `print(corse)` |\n",
        "|`TypeError`| Raised when a function or operation is applied to an object of an incorrect type. | `3 + '0.4' `|\n",
        "|`ValueError`|Raised when a function gets an argument of correct type but improper value.|`int('I have $3.8 in my pocket')` |\n",
        "|`ZeroDivisionError`|Raised when the second operand of a division or module operation is zero.| `5 / 0`|\n",
        "\n",
        "\n",
        "\n",
        "Please refer to this [Web page](https://docs.python.org/3/library/exceptions.html) for a full list of built-in exceptions in Python."
      ]
    },
    {
      "cell_type": "markdown",
      "metadata": {
        "id": "Ka9oT09s1QKN"
      },
      "source": [
        "---\n",
        "\n",
        "<br>\n",
        "\n",
        "# Appendix: Python Statements\n",
        "\n",
        "\n",
        "\n",
        "\n",
        "|Statement|Role|Example\n",
        "|:-- |:-- |:-- |\n",
        "|Assignment: `=`|Creating and assigning references|`a, b = 'good', 'bad'` <br> `ls = [1, 5]; ls[1] = 2; ls[2:2] = [3, 4]`   |\n",
        "|Augmented assignment: <br>`+=`, `-=`, `*=`, `/=`,  `%=`, etc.| Combining a binary operation and <br> an assignment statement|`a *= 2` <br> `a += b` |\n",
        "|`del`|Deleting references|`del variable` <br> `del object.attribute` <br> `del data[index]` <br> `del data[index:index]`|\n",
        "|`if/elif/else`| Selecting actions|`if \"python\":` <br> &nbsp; &nbsp; `print(\"programming\")` |\n",
        "|`for`| Definite loops |`for x in \"python\":` <br> &nbsp; &nbsp;  &nbsp;`print(x)` |\n",
        "|`while`| Indefinite/general loops |`while x > 0:` <br> &nbsp; &nbsp; &nbsp; &nbsp;    `print(\"positive\")` |\n",
        "|`break`| Loop exit |`while True:` <br> &nbsp; &nbsp; &nbsp; &nbsp;    `if exittest(): break` |\n",
        "|`continue`| Loop continue |`while True:` <br> &nbsp; &nbsp; &nbsp; &nbsp;    `if skiptest(): continue` |\n",
        "|`try/except/finally`| Catching exceptions |`try:` <br> &nbsp; &nbsp; &nbsp; &nbsp;    `action()` <br> `except:` <br> &nbsp; &nbsp; &nbsp; &nbsp; `print('action error')` |\n",
        "  \n",
        "\n"
      ]
    },
    {
      "cell_type": "code",
      "execution_count": null,
      "metadata": {
        "id": "F_c1SJi1WQCJ"
      },
      "outputs": [],
      "source": []
    }
  ],
  "metadata": {
    "colab": {
      "provenance": []
    },
    "hide_input": false,
    "kernelspec": {
      "display_name": "Python 3 (ipykernel)",
      "language": "python",
      "name": "python3"
    },
    "language_info": {
      "codemirror_mode": {
        "name": "ipython",
        "version": 3
      },
      "file_extension": ".py",
      "mimetype": "text/x-python",
      "name": "python",
      "nbconvert_exporter": "python",
      "pygments_lexer": "ipython3",
      "version": "3.7.13"
    },
    "toc": {
      "base_numbering": 1,
      "nav_menu": {},
      "number_sections": false,
      "sideBar": true,
      "skip_h1_title": false,
      "title_cell": "Table of Contents",
      "title_sidebar": "Contents",
      "toc_cell": false,
      "toc_position": {},
      "toc_section_display": true,
      "toc_window_display": false
    }
  },
  "nbformat": 4,
  "nbformat_minor": 0
}
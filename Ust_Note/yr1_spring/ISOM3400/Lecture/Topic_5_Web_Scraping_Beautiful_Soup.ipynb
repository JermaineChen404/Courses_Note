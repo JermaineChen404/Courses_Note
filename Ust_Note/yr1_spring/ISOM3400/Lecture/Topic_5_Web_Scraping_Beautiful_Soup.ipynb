{
  "cells": [
    {
      "cell_type": "markdown",
      "source": [
        "<font color='red'> Disclaimer: Please note that the instructions for Web scraping in this file are tailored for the Chrome browser, and may not be applicable to other browsers. We recommend using Chrome for best results. </font>\n",
        "\n",
        " [Chrome Download Link](https://www.google.com/chrome/)"
      ],
      "metadata": {
        "id": "hIiXWy39FRoA"
      }
    },
    {
      "cell_type": "markdown",
      "metadata": {
        "id": "vIb0Iv2pcVdS"
      },
      "source": [
        "# [Trump's Lies](https://www.nytimes.com/interactive/2017/06/23/opinion/trumps-lies.html)\n",
        "\n",
        "<img src=\"https://raw.githubusercontent.com/justinjiajia/img/69b47fdb83d0f3026cb3677e818df0ead20e15b7/python/trump%20lies.PNG\"/>"
      ]
    },
    {
      "cell_type": "markdown",
      "source": [
        "The information presented in this way is not readily available for a computer program to use and analyze.\n",
        "\n",
        "We need to first extract the textual information we care about and save it in a **structured format** as follows:\n",
        "\n",
        "\n",
        "| Date |  Lie | Explanation | URL |\n",
        "|-----|-----|-----|-----|\n",
        "| Jan. 21 | \"I wasn't a fan of Iraq. I didn't want to go into Iraq.\" |\"He was for an invasion before he was against it.\" |  `\"www.buzzfeed.com/andrewkaczynski/in-2002-donald-trump-said-he-supported-invading-iraq-on-the\"` |  \n",
        "| Jan. 21 | \"A reporter for Time magazine — and I have been on their cover 14 or 15 times. I think we have the all-time record in the history of Time magazine.\"|  \"Trump was on the cover 11 times and Nixon appeared 55 times.\" |  `\"nation.time.com/2013/11/06/10-things-you-didnt-know-about-time/\"` |\n",
        "|  Jan. 23 | \"Between 3 million and 5 million illegal votes caused me to lose the popular vote.\" | \"There's no evidence of illegal voting.\" | `\"www.nytimes.com/2017/01/23/us/politics/donald-trump-congress-democrats.html\"` |\n",
        "|...|"
      ],
      "metadata": {
        "id": "OkIO058WMv2C"
      }
    },
    {
      "cell_type": "markdown",
      "metadata": {
        "id": "5qmLbuMYWbxb"
      },
      "source": [
        "How to open the Chrome's developer tools (or devtools):\n",
        "\n",
        "- Press <kbd>F12</kbd> on the keyboard (sometimes <kbd>Fn</kbd> + <kbd>F12</kbd>)\n",
        "- Right-click on a Web page → Inspect\n",
        "- Choose <kbd>⋮</kbd> at the top right corner of the Chrome window → More tools → Developers tool (or <kbd>Ctrl</kbd> or <kbd>Command</kbd> + <kbd>Shift</kbd> + <kbd>I</kbd>)"
      ]
    },
    {
      "cell_type": "markdown",
      "metadata": {
        "id": "kKjtPYWHcVdY"
      },
      "source": [
        "\n",
        "---\n",
        "\n",
        "\n",
        "# Web Scraping\n",
        "\n",
        "\n",
        "Using the Python programming language, it is possible to \"scrape\" data from the Web in a quick and efficient manner.\n",
        "\n",
        "**Web Scraping** commonly refers to the practice of writing an automated program\n",
        "that queries a web server, requests data (usually in the form of HTML and other files\n",
        "that compose web pages), and then parses that data to extract needed information.\n",
        "\n",
        "\n",
        "\n",
        "Web scraping is a valuable tool in the data scientist's skill set.\n",
        "\n",
        "- <span style=\"margin-right: 10%;  margin-left: 20%;\">[BeautifulSoup](https://www.crummy.com/software/BeautifulSoup/)</span> is a popular Python library used for web scraping and parsing HTML and XML documents. It provides tools to extract data from web pages, navigate the document structure, and manipulate the content. Beautiful Soup works well with HTML or XML documents and can handle poorly formatted or broken markup.\n",
        "\n",
        "<p>\n",
        "\n",
        "<img src=\"https://raw.githubusercontent.com/justinjiajia/img/master/python/beautifulsoup.jpg\" style=\"float: left; margin-bottom: 1.5em; margin-top: 1.5em; margin-right: 10%;  margin-left: 15%; \" width=220/>\n"
      ]
    },
    {
      "cell_type": "markdown",
      "metadata": {
        "id": "oq_AQVAlcVdZ"
      },
      "source": [
        "---\n",
        "<br>\n",
        "\n",
        "# HTML Basics\n",
        "\n",
        "\n",
        "\n",
        "[**HyperText Markup Language**](https://developer.mozilla.org/en-US/docs/Web/HTML) (HTML for short) is a markup language for describing Web documents.\n",
        "\n",
        "\n",
        "It is plain text, but includes a rich collection of \"tags\" that define the structure of the document and allow documents to include a variety of page elements.\n",
        "\n",
        "- Tags are always enclosed in angle brackets: ` <tagname>`.\n",
        "\n",
        "<img src=\"https://www.dropbox.com/s/1xc7ep9hu035ky7/elment.png?raw=1\" width=400/>\n",
        "\n",
        "- Tags usually travel in pairs and contain something in between. An opening (or start) tag begins a section of page content, and a closing (or end) tag ends it, e.g.,  `<tagname>content</tagname>`.\n",
        "\n",
        "    - [`<h1>`, `<h2>`, ..., `<h6>`](https://www.w3schools.com/tags/tag_hn.asp): largest headings, second largest headings, etc.;\n",
        "\n",
        "    - [`<p>`](https://www.w3schools.com/tags/tag_p.asp): paragraphs;\n",
        "\n",
        "    - [`<ul>`](https://www.w3schools.com/tags/tag_ul.asp) or [`<ol>`](https://www.w3schools.com/tags/tag_ol.asp): unordered or ordered bulleted lists;\n",
        "\n",
        "    - [`<li>`](https://www.w3schools.com/tags/tag_li.asp): individual list items;\n",
        "\n",
        "    - [`<div>`](https://www.w3schools.com/tags/tag_div.asp): divisions or sections;\n",
        "\n",
        "    - [`<a>`](https://www.w3schools.com/tags/tag_a.asp): anchors;\n",
        "\n",
        "    - and [many others ...](https://www.w3schools.com/tags/default.asp)\n",
        "\n",
        "    \n"
      ]
    },
    {
      "cell_type": "markdown",
      "source": [
        "---\n",
        "- There are also a few *self-closing* tags, e.g.:\n",
        "\n",
        "    - [`<br>`](https://www.w3schools.com/tags/tag_br.asp)\n",
        "\n",
        "    - ```html\n",
        "      <img src=\"https://idp.ust.hk/idp/images/logo.png\" alt=\"UST Logo\">\n",
        "      ```\n",
        "      See [`<img>`](https://www.w3schools.com/tags/tag_img.asp)\n",
        "\n",
        "\n",
        "- Tags can have attributes, which are always specified in the start tag and come in `name=\"value\"` pairs. E.g.:\n",
        "\n",
        "    - ```html\n",
        "      <a href=\"https://docs.python.org/\" target=\"_blank\">Python documentation</a>\n",
        "      ```\n",
        "      See [`<a>`](https://www.w3schools.com/tags/tag_a.asp)\n",
        "      \n",
        "      <img src=\"https://developer.mozilla.org/en-US/docs/Learn_web_development/Core/Structuring_content/Basic_HTML_syntax/grumpy-cat-attribute-small.png\" width=600/>\n"
      ],
      "metadata": {
        "id": "7gfIvMoo0c8m"
      }
    },
    {
      "cell_type": "markdown",
      "source": [
        "**<font color='steelblue' >Question</font>**:\n",
        "\n",
        "\n",
        "*Excerise*: Please try to write a html file with the layout shown below. Name it as try.html and open it with your web browser. Alternatively, you can use [HTML Tryit editor on W3Schools](https://www.w3schools.com/html/tryit.asp?filename=tryhtml_intro) to run your code.\n",
        "\n",
        "<img src=\"https://canvas.ust.hk/courses/49017/files/7437224/preview?instfs=true\" width=800 />\n",
        "\n",
        "\n",
        "- The text on the page is as follows:\n",
        "\n",
        "    Countries of the World: A Simple Example\n",
        "\n",
        "    Andorra\n",
        "\n",
        "    - Capital: Andorra la Vella\n",
        "    - Population: 84000\n",
        "    - Area (km^2): 468.0\n",
        "\n",
        "- The image address: https://upload.wikimedia.org/wikipedia/commons/5/5b/Andorra_la_Vella_-_view2.jpg\n",
        "\n",
        "\n",
        "\n",
        "- Tags you may want to enclose in the `<body>` tag includes: `<h1>`, `<h3>`, `<hr>`, `<ol>`, `<li>`, and `<img>`\n",
        "\n"
      ],
      "metadata": {
        "id": "OzhKAsygXlg4"
      }
    },
    {
      "cell_type": "markdown",
      "source": [
        "- There are a few attributes that are common to all tags, among which the two most used ones are `id` and `class`:\n",
        "\n",
        "    - [`id`](https://www.w3schools.com/html/html_id.asp) allows us to specify a unique identifier for an element which must be unique in the whole document. E.g.:\n",
        "    \n",
        "        - ```html\n",
        "          <p id=\"unique-one\">This is a paragraph with id \"unique-one\".</p>\n",
        "          ```    \n",
        "\n",
        "    - [`class`](https://www.w3schools.com/html/html_classes.asp) allows us to assign multiple elements (possibly of different types) to the same group identified by a class name. E.g.:\n",
        "\n",
        "        - ```html\n",
        "          <p class=\"class-one\"> This is a paragraph of class \"class-one\". </p>\n",
        "          ```\n",
        "\n",
        "        - An element can also be assigned to multiple groups that are specified by a *space-separated* list of class names. E.g.:\n",
        "        \n",
        "            - ```html\n",
        "              <div class=\"col m-1 border class-one\">Some Content</div>\n",
        "              ```\n",
        "- For Web scraping, the  `class` and/or `id` attributes can be leveraged to differentiate the section we want from other sections. To do so, we need to use something called the **CSS selector**."
      ],
      "metadata": {
        "id": "uTjtaZrnXhqh"
      }
    },
    {
      "cell_type": "markdown",
      "metadata": {
        "id": "PwV6SAKTWbxg"
      },
      "source": [
        "---\n",
        "\n",
        "<br>\n",
        "\n",
        "## CSS Basics\n",
        "\n",
        "\n",
        "[**Cascading Style Sheets**](https://developer.mozilla.org/en-US/docs/Web/CSS) (CSS for short) is a style sheet language for describing the presentation of a document written in a markup language.\n",
        "\n",
        "HTML dictates the content and structure of a webpage, while CSS modifies design and display of HTML elements.\n",
        "\n",
        "\n",
        "\n",
        "\n",
        "[3 ways](https://www.w3schools.com/css/css_howto.asp) of creating and applying CSS rules:\n",
        "\n",
        "- An inline style created right on an HTML start tag, using `style=\"attribute: value;\"`;\n",
        "\n",
        "- An [embedded/internal style sheet](https://jwang.people.ust.hk/sample_embeddedCSS.html) included by a `<style>` tag nested within the `<head>` section;\n",
        "\n",
        "- As an [external style sheet](https://jwang.people.ust.hk/sample_externalCSS.html) in a [separate file](https://jwang.people.ust.hk/example.css).\n"
      ]
    },
    {
      "cell_type": "markdown",
      "metadata": {
        "id": "JhROYCHPWbxh"
      },
      "source": [
        "<img src=\"https://4.bp.blogspot.com/-yQFU_PhmTRg/U7viQ7bMNjI/AAAAAAAADJE/ctlBTLl-fhY/s640/css-selectors-lrg.png\" width=500px />\n",
        "\n",
        "A CSS style sheet is a set of style rules, and a CSS ruleset consists of:\n",
        "\n",
        "- A CSS selector: a pattern used to select the element(s) we want to style;\n",
        "\n",
        "-  A style declaration block, which contains a list of style properties and their values:\n",
        "\n",
        "    - Style properties and values come in pairs, with each pair separated with a semicolon (`;`).\n",
        "\n",
        "    - See a [list](https://developer.mozilla.org/en-US/docs/Web/CSS/CSS_Properties_Reference) of common properties and what values are accepted for them.\n",
        "\n",
        "\n",
        "\n",
        "\n",
        "\n"
      ]
    },
    {
      "cell_type": "markdown",
      "metadata": {
        "id": "Fce7vKCNWbxh"
      },
      "source": [
        "Different types of selectors:\n",
        "\n",
        "| Type | Notation |  Example | Explanation |\n",
        "|-----|-----|-----|-----|\n",
        "| type | `elementname` | `p` | Select all `<p>` elements|\n",
        "| id | `#idname` | `#unique-one` | Select the element with `id=\"unique-one\"` |\n",
        "| class | `.classname` | `.class-one`  |Select all elements with `class=\"class-one\"` |\n",
        "| attribute | `[attributename]` |`[alt]` | Select all elements with an `alt` attribute |\n",
        "| attribute value | `[attr=value]` |`[alt='UST Logo']` |  Select all elements whose `alt` attribute has the value `'UST Logo'` |\n",
        "\n"
      ]
    },
    {
      "cell_type": "markdown",
      "metadata": {
        "id": "ML2Rypk7Wbxi"
      },
      "source": [
        "CSS selectors can be combined to create more specific selectors. For example,\n",
        "to select\n",
        "```html\n",
        "<div class=\"col m-1 border class-one\">Some Content</div>\n",
        "```\n",
        "we can use:\n",
        "\n",
        "- `div.class-one`;\n",
        "\n",
        "- `div.m-1.col` (the order does not matter);\n",
        "\n",
        "- `div[class=\"col m-1 border class-one\"]`.\n"
      ]
    },
    {
      "cell_type": "markdown",
      "metadata": {
        "id": "Kqy0Eg9WWbxj"
      },
      "source": [
        "\n",
        "CSS selector syntax also supports a set of relational notations, called **combinators**, that describe elements in terms of their relations to others\n",
        "\n",
        "| Name | Notation |  Example | Explanation |\n",
        "|-----|-----|-----|-----|\n",
        "| Descendant| ` `| `div p` | Select all `<p>` elements inside `<div>` elements |\n",
        "| Child | `>`| `div > p` | Select all `<p>` elements whose parent is a `<div>` element|\n",
        "\n",
        "\n",
        "More usage can be find [here](https://developer.mozilla.org/en-US/docs/Web/CSS/CSS_Selectors)."
      ]
    },
    {
      "cell_type": "markdown",
      "metadata": {
        "id": "ew4GezjPWbxj"
      },
      "source": [
        "\n",
        "Handy interactive [HTML cheatsheet](https://htmlcheatsheet.com/html) and [CSS cheatsheet](https://htmlcheatsheet.com/css)\n",
        "\n",
        "\n"
      ]
    },
    {
      "cell_type": "markdown",
      "source": [
        "> Polling questions: https://www.menti.com/al4957g73km1"
      ],
      "metadata": {
        "id": "oi7l8DYdoqxI"
      }
    },
    {
      "cell_type": "markdown",
      "metadata": {
        "id": "tCo6d17KcVdg"
      },
      "source": [
        "---\n",
        "\n",
        "\n",
        "# Beautiful Soup\n",
        "\n",
        "\n",
        "> Beautiful Soup, so rich and green,<br>\n",
        "> Waiting in a hot tureen!<br>\n",
        "> Who for such dainties would not stoop?<br>\n",
        "> Soup of the evening, beautiful Soup!\n",
        "\n",
        "\n",
        "<img src=\"https://raw.githubusercontent.com/justinjiajia/img/master/python/beautifulsoup.jpg\"  width=220/>\n",
        "\n",
        "\n",
        "<br>\n",
        "\n",
        "[BeautifulSoup](https://www.crummy.com/software/BeautifulSoup/) is a Python library for pulling data out of files written in a markup language. It suggests the ability to make sense of the messy \"soup\" of HTML and XML code found on the web. Beautiful Soup simplifies the process of web scraping by handling many of the complexities of parsing the data, much like how a well-prepared soup would blend a variety of ingredients into a more palatable form.\n",
        "\n"
      ]
    },
    {
      "cell_type": "markdown",
      "metadata": {
        "cell_style": "split",
        "id": "50LjKh3lcVdh"
      },
      "source": [
        "\n",
        "An example of [\"**tag soup**\"](https://en.wikipedia.org/wiki/Tag_soup):\n",
        "\n",
        "\n",
        "```html\n",
        "<H1>Tacky HTML</H1>\n",
        "<p>\n",
        "    <img src=\"https://idp.ust.hk/idp/images/logo.png\">\n",
        "    Browsers tolerate a lot of completely broken HTML.\n",
        "<UL>\n",
        "    <LI>List one</LI>\n",
        "    <LI>List 2\n",
        "</UL>\n",
        "```"
      ]
    },
    {
      "cell_type": "markdown",
      "metadata": {
        "id": "XtXOYuKGcVdh"
      },
      "source": [
        "BeautifulSoup helps format and organize the messy web by fixing bad HTML and presenting us with easily traversable Python objects.\n",
        "\n",
        "The most commonly used object in the BeautifulSoup library is the `BeautifulSoup` object."
      ]
    },
    {
      "cell_type": "code",
      "execution_count": null,
      "metadata": {
        "id": "nTBhHR4RcVdi"
      },
      "outputs": [],
      "source": [
        "from bs4 import BeautifulSoup"
      ]
    },
    {
      "cell_type": "code",
      "source": [
        "import bs4\n",
        "bs4.__version__"
      ],
      "metadata": {
        "id": "rypkLa7wyCzk"
      },
      "execution_count": null,
      "outputs": []
    },
    {
      "cell_type": "markdown",
      "metadata": {
        "id": "uULEZPD4cVdj"
      },
      "source": [
        "\n",
        "The use of the `BeautifulSoup` constructor:\n",
        "\n",
        "- The 1st argument is the HTML text the object is based on;\n",
        "\n",
        "- The 2nd argument specifies the parser that we want BeautifulSoup to use in order to create a `BeautifulSoup` object.\n",
        "\n",
        "\n",
        "> <code>html.parser</code> is the HTML parser included in the standard Python 3 library. Information on other HTML parsers is available <a href=\"http://www.crummy.com/software/BeautifulSoup/bs4/doc/#installing-a-parser\">here</a>.\n",
        "\n",
        "\n",
        "\n",
        "\n",
        "Let's create a `BeautifulSoup` object for the tacky HTML code above to \"***make the soup***\":\n",
        "\n"
      ]
    },
    {
      "cell_type": "code",
      "execution_count": null,
      "metadata": {
        "id": "fAQ3K_6OWbxm"
      },
      "outputs": [],
      "source": [
        "tacky_html = '''<H1>Tacky HTML</H1>\n",
        "<p>\n",
        "    <img src=\"https://idp.ust.hk/idp/images/logo.png\">\n",
        "    Browsers tolerate a lot of completely broken HTML.\n",
        "<UL>\n",
        "    <LI>List one</LI>\n",
        "    <LI>List 2\n",
        "</UL>'''\n",
        "\n",
        "BeautifulSoup(tacky_html, 'html.parser')"
      ]
    },
    {
      "cell_type": "code",
      "execution_count": null,
      "metadata": {
        "id": "iI1KTIQBcVdj"
      },
      "outputs": [],
      "source": [
        "html_sample_code = ('<!DOCTYPE html><html lang=\"en\"><head><title>Sample HTML Page</title></head>'\n",
        "                    '<body><h1>This is a heading.</h1>'\n",
        "                    '<p>This is a typical paragraph.</p>'\n",
        "                    '<p class=\"class-one\">This is a paragraph of class \"class-one\".</p>'\n",
        "                    '<ol><li class=\"class-one\"><a href=\"sample.html\">The 1st item</a></li></ol>'\n",
        "                    '<p id=\"unique-one\">This is a paragraph with id \"unique-one\".</p>'\n",
        "                    '<div class=\"col m-3 border class-one\">This is a division.</div></body></html>')\n",
        "\n",
        "sample_soup = BeautifulSoup(html_sample_code, 'html.parser')\n",
        "sample_soup"
      ]
    },
    {
      "cell_type": "markdown",
      "metadata": {
        "id": "UqrfNIzHcVdk"
      },
      "source": [
        "\n",
        "We can use the `prettify()` method to format the HTML source code so as to get a better idea of its structure:\n"
      ]
    },
    {
      "cell_type": "code",
      "execution_count": null,
      "metadata": {
        "id": "97HVqJF4cVdl"
      },
      "outputs": [],
      "source": [
        "from bs4.formatter import HTMLFormatter\n",
        "\n",
        "# We can customize the indent size using an HTMLFormatter object\n",
        "print(sample_soup.prettify(formatter = HTMLFormatter(indent=4)))"
      ]
    },
    {
      "cell_type": "markdown",
      "metadata": {
        "id": "A7NeJkL2Wbxo"
      },
      "source": [
        "\n",
        "\n",
        "These textual components form a [\"family tree\"](https://jwang.people.ust.hk/familytree.html), where the top-level `<html>` tag contains the `<head>` and `<body`> tags, which further contain other textual contents and tags, and so on.\n",
        "\n",
        "\n",
        "We can define parents, chidren, siblings, descendents, and ancestors for each tag by referencing this family tree (based on the identation levels of related tags)"
      ]
    },
    {
      "cell_type": "markdown",
      "metadata": {
        "id": "aYtUhm2IcVdl"
      },
      "source": [
        "\n",
        "## What's in a Soup?\n",
        "\n",
        "A `BeautifulSoup` object is essentially a hierarchical collection of `tag` objects, which are each equipped with attributes for navigating and iterating over child tags and strings it contains.\n",
        "\n",
        "The simplest way to navigate this collection is to say the name of a child tag we want:"
      ]
    },
    {
      "cell_type": "code",
      "execution_count": null,
      "metadata": {
        "id": "87SJzaoDcVdl"
      },
      "outputs": [],
      "source": [
        "sample_soup.html.body          # the <body> tag is beneath the <html> tag"
      ]
    },
    {
      "cell_type": "markdown",
      "metadata": {
        "id": "mor2J1P7Wbxp"
      },
      "source": [
        "We can also call the <body> tag directly as long as there's no ambiguity:"
      ]
    },
    {
      "cell_type": "code",
      "execution_count": null,
      "metadata": {
        "id": "mncYIRCScVdl"
      },
      "outputs": [],
      "source": [
        "sample_soup.body"
      ]
    },
    {
      "cell_type": "code",
      "execution_count": null,
      "metadata": {
        "id": "yjYIUgZ2cVdm"
      },
      "outputs": [],
      "source": [
        "# get the <h1> tag nested two layers deep into the BeautifulSoup object structure (html → body → h1)\n",
        "sample_soup.html.body.h1        # equivalently, sample_soup.body.h1 or samle_soup.h1"
      ]
    },
    {
      "cell_type": "code",
      "source": [
        "sample_soup.h1"
      ],
      "metadata": {
        "id": "mfFllowc_fI5"
      },
      "execution_count": null,
      "outputs": []
    },
    {
      "cell_type": "code",
      "execution_count": null,
      "metadata": {
        "id": "hhaiHgQ3cVdm"
      },
      "outputs": [],
      "source": [
        "sample_soup.body.p             # get the 1st <p> tag beneath the <body> tag"
      ]
    },
    {
      "cell_type": "markdown",
      "metadata": {
        "id": "b1YzIb15cVdm"
      },
      "source": [
        "A tag's children are available in a list when we call `.contents`:"
      ]
    },
    {
      "cell_type": "code",
      "execution_count": null,
      "metadata": {
        "id": "4QWDp-XPcVdn"
      },
      "outputs": [],
      "source": [
        "sample_soup.body.contents"
      ]
    },
    {
      "cell_type": "markdown",
      "metadata": {
        "id": "GwIILCrGcVdp"
      },
      "source": [
        "If we only want the human-readable text inside a document or tag, we can use the `get_text()` method, which returns all the text in a document or beneath a tag, as a single regular string:"
      ]
    },
    {
      "cell_type": "code",
      "execution_count": null,
      "metadata": {
        "id": "UOmCvboCcVdp"
      },
      "outputs": [],
      "source": [
        "sample_soup.body.get_text()"
      ]
    },
    {
      "cell_type": "code",
      "execution_count": null,
      "metadata": {
        "id": "Em_8ewIEcVdp"
      },
      "outputs": [],
      "source": [
        "sample_soup.ol.get_text()"
      ]
    },
    {
      "cell_type": "markdown",
      "metadata": {
        "id": "0YdefUEtWbxu"
      },
      "source": [
        "If we want to extract the value of a specific attribute, we can use a tag's `.get()` method:"
      ]
    },
    {
      "cell_type": "code",
      "execution_count": null,
      "metadata": {
        "id": "VENXZhvFWbxu"
      },
      "outputs": [],
      "source": [
        "sample_soup.a.get('href')   # alternatively, it can also be accessed with dictionary-like indexing, e.g., sample_soup.a['href']"
      ]
    },
    {
      "cell_type": "code",
      "source": [
        "sample_soup.a['href']"
      ],
      "metadata": {
        "id": "cZGHRn9M1cH0"
      },
      "execution_count": null,
      "outputs": []
    },
    {
      "cell_type": "code",
      "source": [
        "sample_soup.div.get('class')   # this verifies that the <div> tag indeed belongs to the 4 classes"
      ],
      "metadata": {
        "id": "0ObgCeAR1f4_"
      },
      "execution_count": null,
      "outputs": []
    },
    {
      "cell_type": "code",
      "source": [
        "sample_soup.div['class']"
      ],
      "metadata": {
        "id": "zzDvqVEF1k6_"
      },
      "execution_count": null,
      "outputs": []
    },
    {
      "cell_type": "markdown",
      "metadata": {
        "id": "Twf_7ay4cVdq"
      },
      "source": [
        "\n",
        "---\n",
        "\n",
        "<br>\n",
        "\n",
        "### `.find()` & `.find_all()`\n",
        "\n",
        "Using a tag name as an attribute gives us only the first tag by that name.\n",
        "\n",
        "If we need to get all tags with a certain name, we need to use `find_all()`.\n",
        "\n",
        "The `find_all()` (`find()`) method can take a variety of filters to find lists of desired tags (a single tag).\n",
        "\n",
        "The `find_all()` returns a list of all matching elements; `find()` returns the first matching element."
      ]
    },
    {
      "cell_type": "code",
      "execution_count": null,
      "metadata": {
        "id": "Ge9U4xLfcVdq"
      },
      "outputs": [],
      "source": [
        "sample_soup.find_all('p')                            # perform a match against that exact string; return a list of tags"
      ]
    },
    {
      "cell_type": "code",
      "source": [
        "sample_soup.find('p')                           # find only the first match of a tag"
      ],
      "metadata": {
        "id": "IJdL0Ur4BDB5"
      },
      "execution_count": null,
      "outputs": []
    },
    {
      "cell_type": "code",
      "execution_count": null,
      "metadata": {
        "id": "jH33YDNjcVdq"
      },
      "outputs": [],
      "source": [
        "sample_soup.find_all(['p', 'a'])                     # perform a string match against any item in that list"
      ]
    },
    {
      "cell_type": "markdown",
      "metadata": {
        "id": "WQQmhRpdcVdq"
      },
      "source": [
        " We can also form filters based on tags' various attributes:\n",
        "\n",
        "- The 1st argument is a (list of) filter(s) on tag name(s);\n",
        "\n",
        "- The 2nd argument is a dictionary of filters on attribute values, e.g., `{attr_1: val_1, attr_2: val_2, ...}`."
      ]
    },
    {
      "cell_type": "code",
      "source": [
        "help(sample_soup.find_all)"
      ],
      "metadata": {
        "id": "hdo_v7se4FNb"
      },
      "execution_count": null,
      "outputs": []
    },
    {
      "cell_type": "code",
      "execution_count": null,
      "metadata": {
        "id": "X4C8p4BBcVdq"
      },
      "outputs": [],
      "source": [
        "sample_soup.find_all('p', {'class': 'class-one'})"
      ]
    },
    {
      "cell_type": "code",
      "execution_count": null,
      "metadata": {
        "id": "_K_0hnwRcVdr"
      },
      "outputs": [],
      "source": [
        "sample_soup.find_all(['div', 'p'], {'class': 'class-one'})"
      ]
    },
    {
      "cell_type": "code",
      "execution_count": null,
      "metadata": {
        "id": "I5MKGkGnWbxv"
      },
      "outputs": [],
      "source": [
        "# filter elements only on attributes' values\n",
        "# None is indispensible if using positional matching\n",
        "sample_soup.find_all(None, {'class': 'class-one'})"
      ]
    },
    {
      "cell_type": "code",
      "source": [
        "# equivalently, keyword matching\n",
        "sample_soup.find_all(attrs = {'class': 'class-one'})"
      ],
      "metadata": {
        "id": "u3attQNr90tZ"
      },
      "execution_count": null,
      "outputs": []
    },
    {
      "cell_type": "markdown",
      "metadata": {
        "id": "sp6Ck4qrWbxv"
      },
      "source": [
        "We can also search for the exact string value of the class attribute:"
      ]
    },
    {
      "cell_type": "code",
      "execution_count": null,
      "metadata": {
        "id": "5_pxnN9QWbxv"
      },
      "outputs": [],
      "source": [
        "sample_soup.find('div', {'class': 'col m-3 border class-one'})"
      ]
    },
    {
      "cell_type": "markdown",
      "metadata": {
        "id": "IhCYXWH9Wbxv"
      },
      "source": [
        "But searching for variants of the string value won't work:"
      ]
    },
    {
      "cell_type": "code",
      "execution_count": null,
      "metadata": {
        "id": "tjc_f0YpWbxv"
      },
      "outputs": [],
      "source": [
        "sample_soup.find_all('div', {'class': 'col class-one'})"
      ]
    },
    {
      "cell_type": "markdown",
      "source": [
        "---\n",
        "\n",
        "## Important note\n",
        "\n",
        "The first step to web scraping is always to look into the structure of a page's source code and find shared patterns for elements we need to target. To inspect a page's source code, we can use Chrome's Developer Tools.\n",
        "\n",
        "Right-click on the page and select <kbd>Inspect</kbd> to launch the Developer Tools panel. Once the Developer Tools panel is open, navigate to the \"Elements\" tab, which displays the HTML structure of the current web page as a hierarchical tree."
      ],
      "metadata": {
        "id": "yNTfUClTgykr"
      }
    },
    {
      "cell_type": "markdown",
      "source": [
        "---\n",
        "\n",
        "\n",
        "**<font color='steelblue' >Question</font>**:\n",
        "\n",
        "\n",
        "This [web page](https://jwang.people.ust.hk/countries.html) lists information about 247 countries in the world. Use `.find_all()` and `.find()` to extract the information on name, capital, population, and area of each country; each stored in a list."
      ],
      "metadata": {
        "id": "MhmrQHwB99ji"
      }
    },
    {
      "cell_type": "code",
      "source": [
        "# starter code\n",
        "import requests\n",
        "# open the URL; set timeout to 3 seconds\n",
        "response = requests.get(\"https://jwang.people.ust.hk/countries.html\", timeout=3)\n",
        "# accesses the raw binary content (HTML source code) of the webpage\n",
        "country_soup = BeautifulSoup(response.content, 'html.parser')\n",
        "\n",
        "# provide your code below\n",
        "\n",
        "\n",
        "\n"
      ],
      "metadata": {
        "id": "_ZpP9ckI_AVA"
      },
      "execution_count": null,
      "outputs": []
    },
    {
      "cell_type": "markdown",
      "metadata": {
        "id": "R3kiriHdWbxw"
      },
      "source": [
        "---\n",
        "\n",
        "<br/>\n",
        "\n",
        "### `.select()` & `.select_one()`\n",
        "\n",
        "\n"
      ]
    },
    {
      "cell_type": "markdown",
      "metadata": {
        "id": "uqwJyKPGWbxw"
      },
      "source": [
        "\n",
        "A `BeautifulSoup` object has a `.select()` (or `.select_one()`) method, which allows us to query elements using CSS selectors.\n",
        "\n",
        "The `select()` returns a list of all matching elements; `select_one()` returns the first matching element.\n",
        "\n",
        "\n",
        "Different types of selectors:\n",
        "\n",
        "| Type | Notation |  Example | Explanation |\n",
        "|-----|-----|-----|-----|\n",
        "| type | `elementname` | `p` | Select all `<p>` elements|\n",
        "| id | `#idname` | `#unique-one` | Select the element with `id=\"unique-one\"` |\n",
        "| class | `.classname` | `.class-one`  |Select all elements with `class=\"class-one\"` |\n",
        "| attribute | `[attributename]` |`[alt]` | Select all elements with an `alt` attribute |\n",
        "| attribute value | `[attr=value]` |`[alt='UST Logo']` |  Select all elements whose `alt` attribute has the value `'UST Logo'` |\n"
      ]
    },
    {
      "cell_type": "code",
      "source": [
        "html_sample_code = ('<!DOCTYPE html><html lang=\"en\"><head><title>Sample HTML Page</title></head>'\n",
        "                    '<body><h1>This is a heading.</h1>'\n",
        "                    '<p>This is a typical paragraph.</p>'\n",
        "                    '<p class=\"class-one\">This is a paragraph of class \"class-one\".</p>'\n",
        "                    '<ol><li class=\"class-one\"><a href=\"sample.html\">The 1st item</a></li></ol>'\n",
        "                    '<p id=\"unique-one\">This is a paragraph with id \"unique-one\".</p>'\n",
        "                    '<div class=\"col m-3 border class-one\">This is a division.</div></body></html>')\n",
        "\n",
        "sample_soup = BeautifulSoup(html_sample_code, 'html.parser')\n",
        "sample_soup"
      ],
      "metadata": {
        "id": "1ffmScyuorgZ"
      },
      "execution_count": null,
      "outputs": []
    },
    {
      "cell_type": "code",
      "source": [
        "sample_soup.select(\"p\")"
      ],
      "metadata": {
        "id": "UTG3e3L8oLLG"
      },
      "execution_count": null,
      "outputs": []
    },
    {
      "cell_type": "code",
      "source": [
        "sample_soup.select(\"#unique-one\")"
      ],
      "metadata": {
        "id": "SeswbrccoP2J"
      },
      "execution_count": null,
      "outputs": []
    },
    {
      "cell_type": "code",
      "source": [
        "sample_soup.select(\".class-one\")"
      ],
      "metadata": {
        "id": "APHeaYA3oSo3"
      },
      "execution_count": null,
      "outputs": []
    },
    {
      "cell_type": "code",
      "execution_count": null,
      "metadata": {
        "id": "LuR2jEnnWbxw"
      },
      "outputs": [],
      "source": [
        "# match elements against two or more classes\n",
        "sample_soup.select('.class-one.m-3')"
      ]
    },
    {
      "cell_type": "code",
      "source": [
        "sample_soup.select(\"[href]\")"
      ],
      "metadata": {
        "id": "TASsZz2BoUfR"
      },
      "execution_count": null,
      "outputs": []
    },
    {
      "cell_type": "code",
      "source": [
        "sample_soup.select(\"[class='col m-3 border class-one']\")  # a strict CSS attribute selector that matches elements with the class attribute exactly equal to 'col m-3 border class-one'."
      ],
      "metadata": {
        "id": "NfDyHdEuovXj"
      },
      "execution_count": null,
      "outputs": []
    },
    {
      "cell_type": "code",
      "source": [
        "# selectors can be combined to create more specific selectors\n",
        "sample_soup.select_one('p.class-one')    # equivalent to sample_soup.find('p', {'class': 'class-one'})"
      ],
      "metadata": {
        "id": "EiIoYQQbFBOp"
      },
      "execution_count": null,
      "outputs": []
    },
    {
      "cell_type": "code",
      "source": [
        "sample_soup.select_one('p#unique-one')  # equivalent to sample_soup.find(\"p\", {'id': 'unique-one'})"
      ],
      "metadata": {
        "id": "3ZvggbVIFb9T"
      },
      "execution_count": null,
      "outputs": []
    },
    {
      "cell_type": "code",
      "source": [
        "sample_soup.select(\"div[class='col m-3 border class-one']\")  # equivalent to sample_soup.find_all('div', {'class': 'col m-3 border class-one'})"
      ],
      "metadata": {
        "id": "J9Gw_m2UqDkN"
      },
      "execution_count": null,
      "outputs": []
    },
    {
      "cell_type": "markdown",
      "source": [
        "The selector syntax also supports a set of relational symbols, called **combinators**, which allows us to describe target elements in terms of their relations to others.\n",
        "\n",
        "| Name | Notation |  Example | Explanation |\n",
        "|-----|-----|-----|-----|\n",
        "| Descendant| ` `| `div p` | Select all `<p>` elements inside `<div>` elements |\n",
        "| Child | `>`| `div > p` | Select all `<p>` elements whose parent is a `<div>` element|\n"
      ],
      "metadata": {
        "id": "TWjJMyruqy8v"
      }
    },
    {
      "cell_type": "code",
      "source": [
        "from bs4.formatter import HTMLFormatter\n",
        "\n",
        "# We can customize the indent size using an HTMLFormatter object\n",
        "print(sample_soup.prettify(formatter = HTMLFormatter(indent=4)))"
      ],
      "metadata": {
        "id": "FrrV6qQ3q9Ce"
      },
      "execution_count": null,
      "outputs": []
    },
    {
      "cell_type": "code",
      "source": [
        "sample_soup.select(\"a\")"
      ],
      "metadata": {
        "id": "NUIIBY4TrFgv"
      },
      "execution_count": null,
      "outputs": []
    },
    {
      "cell_type": "code",
      "source": [
        "sample_soup.select(\"ol a\")  # select all <a> elements that are inside <ol> elements"
      ],
      "metadata": {
        "id": "ZahJxhiMrHB4"
      },
      "execution_count": null,
      "outputs": []
    },
    {
      "cell_type": "code",
      "source": [
        "sample_soup.select(\"ol > a\")  # select all <a> elements whose parent is a <ol> element"
      ],
      "metadata": {
        "id": "84ut5rG6rJ80"
      },
      "execution_count": null,
      "outputs": []
    },
    {
      "cell_type": "markdown",
      "source": [
        "**<font color='steelblue' >Question</font>**:\n",
        "\n",
        "\n",
        "Now use `.select()` and `.select_one()` to extract the same information from this [web page](https://jwang.people.ust.hk/countries.html)."
      ],
      "metadata": {
        "id": "4M9PSiOxCW_2"
      }
    },
    {
      "cell_type": "code",
      "source": [
        "# starter code\n",
        "import requests\n",
        "# open the URL; set timeout to 3 seconds\n",
        "response = requests.get(\"https://jwang.people.ust.hk/countries.html\", timeout=3)\n",
        "# accesses the raw binary content (HTML source code) of the webpage\n",
        "soup = BeautifulSoup(response.content, 'html.parser')\n",
        "\n",
        "# provide your code below\n",
        "\n",
        "\n",
        "\n"
      ],
      "metadata": {
        "id": "a5vkzEq_CfvR"
      },
      "execution_count": null,
      "outputs": []
    },
    {
      "cell_type": "markdown",
      "metadata": {
        "id": "pj54e5X_cVdr"
      },
      "source": [
        "---\n",
        "<Br>\n",
        "\n",
        "## Scraping Textual Data on Trump's Lies\n",
        "\n",
        "\n",
        "We'll first use `requests.get(url)` to connect to a URL and make a soup with what is held by the `.content` attribute of the response:\n",
        "\n",
        "\n",
        "\n"
      ]
    },
    {
      "cell_type": "code",
      "execution_count": null,
      "metadata": {
        "id": "P3ygHpnXcVdr"
      },
      "outputs": [],
      "source": [
        "from bs4 import BeautifulSoup\n",
        "\n",
        "import requests\n",
        "# open the URL; set timeout to 3 seconds\n",
        "response = requests.get(\"https://jwang.people.ust.hk/lies.html\", timeout=3)\n",
        "# accesses the raw binary content (HTML source code) of the webpage\n",
        "lies_soup = BeautifulSoup(response.content, 'html.parser')"
      ]
    },
    {
      "cell_type": "markdown",
      "metadata": {
        "id": "ayJhh_j-cVds"
      },
      "source": [
        "---\n",
        "\n",
        "<br>\n",
        "\n",
        "\n",
        "In the HTML code, every record is surrounded by the `<span>` tag of `class=\"short-desc\"`:\n",
        "\n",
        "```html\n",
        "<span class=\"short-desc\">\n",
        "      <strong> DATE </strong> LIE <span class=\"short-truth\"><a href=\"URL\"> EXPLANATION </a></span>\n",
        "</span>\n",
        "\n",
        "```\n",
        "\n",
        "\n",
        "\n",
        "\n"
      ]
    },
    {
      "cell_type": "code",
      "execution_count": null,
      "metadata": {
        "id": "y8S3TxUMcVdt"
      },
      "outputs": [],
      "source": [
        "item_list = lies_soup.find_all('span', {'class': 'short-desc'})    # equivalently, lies_soup.select('span.short-desc')"
      ]
    },
    {
      "cell_type": "markdown",
      "metadata": {
        "id": "eEqleGfZcVdt"
      },
      "source": [
        "This returns a list of all tags that match the given criteria:"
      ]
    },
    {
      "cell_type": "code",
      "execution_count": null,
      "metadata": {
        "cell_style": "split",
        "id": "AZVbvzQUcVdt"
      },
      "outputs": [],
      "source": [
        "item_list[0]"
      ]
    },
    {
      "cell_type": "code",
      "execution_count": null,
      "metadata": {
        "cell_style": "split",
        "id": "K0t1U9KhcVdt",
        "scrolled": true
      },
      "outputs": [],
      "source": [
        "item_list[5]"
      ]
    },
    {
      "cell_type": "markdown",
      "metadata": {
        "id": "XbPGIExdcVdt"
      },
      "source": [
        "The general structure of a single record is:\n",
        "\n",
        "```html\n",
        "<strong> DATE </strong> LIE <span class=\"short-truth\"><a href=\"URL\"> EXPLANATION </a></span>\n",
        "```\n",
        "\n",
        "\n",
        "Use `.find()` with the tag name `\"strong\"` to select the tag that contains the `DATE`:\n",
        "\n"
      ]
    },
    {
      "cell_type": "code",
      "execution_count": null,
      "metadata": {
        "id": "o_185m26cVdt",
        "scrolled": false
      },
      "outputs": [],
      "source": [
        "item_list[0].find(\"strong\")    # equivalently, item_list[0].select_one(\"strong\")"
      ]
    },
    {
      "cell_type": "markdown",
      "metadata": {
        "id": "qPNZcyEgcVdu"
      },
      "source": [
        "Then use `.get_text()` to extract only the text, with the `strip` option active to remove leading and trailing spaces:"
      ]
    },
    {
      "cell_type": "code",
      "source": [
        "item_list[0].find(\"strong\").get_text()"
      ],
      "metadata": {
        "id": "gk8SGSo2IHTQ"
      },
      "execution_count": null,
      "outputs": []
    },
    {
      "cell_type": "code",
      "execution_count": null,
      "metadata": {
        "id": "BzqkuLOCcVdu"
      },
      "outputs": [],
      "source": [
        "item_list[0].find(\"strong\").get_text(strip=True)"
      ]
    },
    {
      "cell_type": "markdown",
      "metadata": {
        "id": "pc-ZMS5ycVdu"
      },
      "source": [
        "Next, use `.contents` with list indexing to extract the `LIE`:"
      ]
    },
    {
      "cell_type": "code",
      "execution_count": null,
      "metadata": {
        "id": "AJ12uD5_cVdu"
      },
      "outputs": [],
      "source": [
        "item_list[0].contents"
      ]
    },
    {
      "cell_type": "code",
      "source": [
        "item_list[0].contents[0].get_text(strip=True)"
      ],
      "metadata": {
        "id": "lbgmwZpiliK9"
      },
      "execution_count": null,
      "outputs": []
    },
    {
      "cell_type": "code",
      "execution_count": null,
      "metadata": {
        "id": "whxXdqNMcVdu"
      },
      "outputs": [],
      "source": [
        "child_nodes = item_list[0].contents\n",
        "child_nodes[1][1:-2]"
      ]
    },
    {
      "cell_type": "markdown",
      "metadata": {
        "id": "DZzB9YSccVdu"
      },
      "source": [
        "For the `EXPLANATION`, select the text within the `<span>` tag, which is the 3rd child of the tag:"
      ]
    },
    {
      "cell_type": "code",
      "execution_count": null,
      "metadata": {
        "id": "5TAwBZFKcVdu"
      },
      "outputs": [],
      "source": [
        "child_nodes[2].get_text(strip=True)[1:-2]"
      ]
    },
    {
      "cell_type": "markdown",
      "metadata": {
        "id": "rH6J0fAKcVdv"
      },
      "source": [
        "Note that the `URL` is an attribute (the `href` attribute) within the `<a>` tag.  We can access the tag's certain attribute with `get()`:\n"
      ]
    },
    {
      "cell_type": "code",
      "execution_count": null,
      "metadata": {
        "id": "d7ztio3wcVdv"
      },
      "outputs": [],
      "source": [
        "item_list[0].find('a').get('href')              # equivalently, item_list[0].a.get('href')"
      ]
    },
    {
      "cell_type": "markdown",
      "metadata": {
        "id": "JkkZuvmxcVdv"
      },
      "source": [
        "Finally, we extend this process to all the rest of it using a `for` loop:"
      ]
    },
    {
      "cell_type": "code",
      "execution_count": null,
      "metadata": {
        "id": "bIFFwj-dcVdv"
      },
      "outputs": [],
      "source": [
        "date_list = []; lie_list = []; explanation_list = []; url_list = []\n",
        "\n",
        "for item in item_list:\n",
        "    first, middle, last = item.contents\n",
        "    date_list.append(first.get_text(strip=True))\n",
        "    lie_list.append(middle[1:-2])\n",
        "    explanation_list.append(last.get_text(strip=True)[1:-2])\n",
        "    url_list.append(item.find('a').get('href'))\n"
      ]
    },
    {
      "cell_type": "code",
      "execution_count": null,
      "metadata": {
        "id": "yQM_3u5FcVdv"
      },
      "outputs": [],
      "source": [
        "print(date_list)"
      ]
    },
    {
      "cell_type": "markdown",
      "metadata": {
        "id": "KeNYOUDpcVdw"
      },
      "source": [
        "We can now combine the data into a pandas `DataFrame` (a tabular data model that makes data manipulation and analysis easier):"
      ]
    },
    {
      "cell_type": "code",
      "execution_count": null,
      "metadata": {
        "id": "mry-Tl_fcVdw"
      },
      "outputs": [],
      "source": [
        "import pandas as pd\n",
        "lie_df = pd.DataFrame({'date': date_list, 'lie': lie_list, 'explanation': explanation_list, 'url': url_list})\n",
        "lie_df"
      ]
    },
    {
      "cell_type": "code",
      "source": [
        "# alternatively, a row-based approach\n",
        "\n",
        "all_records = []\n",
        "\n",
        "\n",
        "for item in item_list:\n",
        "    first, middle, last = item.contents\n",
        "    date = first.get_text(strip=True)\n",
        "    lie = middle[1:-2]\n",
        "    explanation = last.get_text(strip=True)[1:-2]\n",
        "    url = item.find('a').get('href')\n",
        "    record = {'date': date, 'lie': lie, 'explanation': explanation, 'url': url}\n",
        "    all_records.append(record)\n",
        "\n",
        "lie_df = pd.DataFrame(all_records)\n",
        "lie_df"
      ],
      "metadata": {
        "id": "jfw1z65-ykcm"
      },
      "execution_count": null,
      "outputs": []
    },
    {
      "cell_type": "markdown",
      "metadata": {
        "id": "cD3G0wjEcVdw"
      },
      "source": [
        "Save the output in the file system:"
      ]
    },
    {
      "cell_type": "code",
      "execution_count": null,
      "metadata": {
        "id": "g4qKJo9scVdw"
      },
      "outputs": [],
      "source": [
        "lie_df.to_csv('trump_lies.csv')"
      ]
    },
    {
      "cell_type": "markdown",
      "source": [
        "---\n",
        "\n",
        "\n",
        "**<font color='steelblue' >Question</font>**:\n",
        "\n",
        "This time, extract the 4 pieces of information country by country, and combine them into a Pandas `DataFrame`."
      ],
      "metadata": {
        "id": "cnbC3U6dzHLj"
      }
    },
    {
      "cell_type": "code",
      "source": [
        "# starter code\n",
        "import requests\n",
        "# open the URL; set timeout to 3 seconds\n",
        "response = requests.get(\"https://jwang.people.ust.hk/countries.html\", timeout=3)\n",
        "# accesses the raw binary content (HTML source code) of the webpage\n",
        "country_soup = BeautifulSoup(response.content, 'html.parser')\n",
        "\n",
        "# provide your code below\n",
        "\n",
        "\n",
        "\n"
      ],
      "metadata": {
        "id": "XQd1JtHTzJKd"
      },
      "execution_count": null,
      "outputs": []
    },
    {
      "cell_type": "markdown",
      "source": [
        "---\n",
        "## Another Example: Scraping Textual Data from IMDB website\n",
        "\n",
        "1. We first need to use `requests.get(url)` to connect to the website and name the response as `film_response`"
      ],
      "metadata": {
        "id": "J50MA9rzsbHF"
      }
    },
    {
      "cell_type": "code",
      "source": [
        "from bs4 import BeautifulSoup\n",
        "from bs4.formatter import HTMLFormatter\n",
        "import requests\n",
        "\n",
        "# open the URL; set timeout to 3 seconds; Add headers to mimic a browser\n",
        "film_response = requests.get(\"https://www.imdb.com/search/title/?sort=num_votes,desc&start=1&title_type=feature&year=1950,2021\", timeout=3, headers={'User-Agent':'Mozilla/5.0'})\n"
      ],
      "metadata": {
        "id": "UgdU9dHDsf_g"
      },
      "execution_count": null,
      "outputs": []
    },
    {
      "cell_type": "markdown",
      "source": [
        "Why Use the User-Agent Header?\n",
        "- Many websites, like IMDb, restrict access to their content for non-browser clients (e.g., bots or scripts). By including a User-Agent string, you make your request look like it is coming from a real web browser (e.g., Mozilla Firefox or Google Chrome).\n",
        "- The string 'Mozilla/5.0' is a generic user agent that mimics a browser."
      ],
      "metadata": {
        "id": "s4sZ5CacG5Nv"
      }
    },
    {
      "cell_type": "markdown",
      "source": [
        " 2. Next please make a `BeautifulSoup` object with what is held by the `.content` attribute of the response and name it as `bs_films`"
      ],
      "metadata": {
        "id": "VjMKcMzfuCfo"
      }
    },
    {
      "cell_type": "code",
      "source": [
        "# write your code here\n"
      ],
      "metadata": {
        "id": "uUblyjR4uETL"
      },
      "execution_count": null,
      "outputs": []
    },
    {
      "cell_type": "code",
      "source": [
        "print(bs_films.prettify())"
      ],
      "metadata": {
        "id": "FoevMY4nuXXN"
      },
      "execution_count": null,
      "outputs": []
    },
    {
      "cell_type": "markdown",
      "source": [
        "\n",
        "3. In the HTML code, every record is surrounded by the `<div>` tag of `class=\"sc-d80c3c78-4 kXzHjH dli-parent`, we can use `find_all` to select the records and name it as `film_list`\n",
        "\n",
        "```html\n",
        "<div class=\"sc-e2db8066-1 QxXCO dli-parent>\n",
        "    contents\n",
        "</div>\n",
        "```\n",
        "\n",
        "How to easily analyze the html? Try Chrome inspection tool: <a href=\"https://developer.chrome.com/docs/devtools/dom/\">Get Started With Viewing And Changing The Document Object Model (DOM) </a> </div>\n",
        "\n",
        "**Note**: The class attributes of HTML elements may vary depending on when you access the webpage and which browser you are using. Please ensure to verify and update the class selectors in your code accordingly to accommodate these potential variations."
      ],
      "metadata": {
        "id": "o9ycToX4ugZm"
      }
    },
    {
      "cell_type": "code",
      "source": [
        "# write your code here\n"
      ],
      "metadata": {
        "id": "JuAU37SVu-Tf"
      },
      "execution_count": null,
      "outputs": []
    },
    {
      "cell_type": "markdown",
      "source": [
        "This returns a list of all tags that match the given criteria:"
      ],
      "metadata": {
        "id": "LI-48SQtvAo2"
      }
    },
    {
      "cell_type": "code",
      "source": [
        "len(film_list)"
      ],
      "metadata": {
        "id": "UodqL78_64ie"
      },
      "execution_count": null,
      "outputs": []
    },
    {
      "cell_type": "code",
      "source": [
        "film_list[0]"
      ],
      "metadata": {
        "id": "-l0Mn2F7vDA-"
      },
      "execution_count": null,
      "outputs": []
    },
    {
      "cell_type": "code",
      "source": [
        "film_list[5]"
      ],
      "metadata": {
        "id": "qktzdyN_vMYC"
      },
      "execution_count": null,
      "outputs": []
    },
    {
      "cell_type": "markdown",
      "source": [
        "There is still a lot of information in each records, and the information is enclosed by different tags, such as `<div>` or `<span>` or `<a>` tags.\n",
        "\n",
        "For example, the film name field has the following HTML structure.\n",
        "\n",
        "```html\n",
        "<h3 class=\"ipc-title__text\">Rank. Name</h3>\n",
        "```\n",
        "\n",
        "\n",
        "*Exercise:* Try to identify the tags around the film ratings by using Chrome inspection tool."
      ],
      "metadata": {
        "id": "DMqLvzvsvPkw"
      }
    },
    {
      "cell_type": "markdown",
      "source": [
        "4. To get the information about film name, we can combining `find`, `.contents` and list indexing."
      ],
      "metadata": {
        "id": "cU85s5muvUqh"
      }
    },
    {
      "cell_type": "code",
      "source": [
        "film_list[0].find('h3')"
      ],
      "metadata": {
        "id": "puph7WtmvXWI"
      },
      "execution_count": null,
      "outputs": []
    },
    {
      "cell_type": "code",
      "source": [
        "film_list[0].find('h3').get_text()"
      ],
      "metadata": {
        "id": "DrZUgXyZ7cvy"
      },
      "execution_count": null,
      "outputs": []
    },
    {
      "cell_type": "code",
      "source": [
        "rank_name = film_list[0].find('h3').get_text()"
      ],
      "metadata": {
        "id": "I1RKJu_lRXN0"
      },
      "execution_count": null,
      "outputs": []
    },
    {
      "cell_type": "code",
      "source": [
        "rank_name"
      ],
      "metadata": {
        "id": "g9nNE_l5Rd6Z"
      },
      "execution_count": null,
      "outputs": []
    },
    {
      "cell_type": "markdown",
      "source": [
        "**Question**: how to extract the film name only, i.e., remove the rank?"
      ],
      "metadata": {
        "id": "nmijz_wJRs0x"
      }
    },
    {
      "cell_type": "code",
      "source": [
        "#try here\n"
      ],
      "metadata": {
        "id": "bd-4qDfhRtiI"
      },
      "execution_count": null,
      "outputs": []
    },
    {
      "cell_type": "markdown",
      "source": [
        "5. Next, let's get the rating of the film. Remember you also tried to identify the HTML tag yourself, compare your findings with what follows\n",
        "\n",
        "*Exercise:* Try to identify the tags around the film ratings by using Chrome inspection tool.\n",
        "\n",
        "Hint: Rating is enclosed by `<span class=\"ipc-rating-star--rating\">` tags"
      ],
      "metadata": {
        "id": "BEOx-MxEv3N4"
      }
    },
    {
      "cell_type": "code",
      "source": [
        "#write your code here\n"
      ],
      "metadata": {
        "id": "YX4_rMvfv5bk"
      },
      "execution_count": null,
      "outputs": []
    },
    {
      "cell_type": "markdown",
      "source": [
        "6. For the description, select the text within the `<div class=\"ipc-html-content-inner-div\">` tag"
      ],
      "metadata": {
        "id": "-oEnS7Hyv-Og"
      }
    },
    {
      "cell_type": "code",
      "source": [
        "#write your code here\n"
      ],
      "metadata": {
        "id": "ECOPT9MLwFEj"
      },
      "execution_count": null,
      "outputs": []
    },
    {
      "cell_type": "markdown",
      "source": [
        "7. Finally, we extend this process to all the rest of it using a `for` loop:"
      ],
      "metadata": {
        "id": "s0TMDS2CwRg8"
      }
    },
    {
      "cell_type": "code",
      "source": [
        "film_names=[]\n",
        "descripts=[]\n",
        "ratings=[]\n",
        "\n",
        "for film in film_list:\n",
        "    # write your code here\n",
        "\n"
      ],
      "metadata": {
        "id": "N20XjfukwUky"
      },
      "execution_count": null,
      "outputs": []
    },
    {
      "cell_type": "code",
      "source": [
        "print(film_names)"
      ],
      "metadata": {
        "id": "Qra9256kwfyL"
      },
      "execution_count": null,
      "outputs": []
    },
    {
      "cell_type": "markdown",
      "source": [
        "8. We can now combine the data into a pandas `DataFrame` (a tabular data model that makes data manipulation and analysis easy; we'll learn more about pandas later) and name it as `best_film_df` for future analyses:"
      ],
      "metadata": {
        "id": "YGBMDy1Awhbx"
      }
    },
    {
      "cell_type": "code",
      "source": [
        "import pandas as pd\n",
        "#write your code here\n",
        "\n"
      ],
      "metadata": {
        "id": "2nAY3hb_wjLG"
      },
      "execution_count": null,
      "outputs": []
    },
    {
      "cell_type": "markdown",
      "source": [
        "11. Save the output in a file named `'best_films.csv'`:"
      ],
      "metadata": {
        "id": "zFH9Nlo6woh-"
      }
    },
    {
      "cell_type": "code",
      "source": [
        "#write your code here\n"
      ],
      "metadata": {
        "id": "5JF5TlK8wr6L"
      },
      "execution_count": null,
      "outputs": []
    },
    {
      "cell_type": "markdown",
      "source": [
        "### In-class exercise\n",
        "\n",
        "Find another field of information that interest you, crawl that data and add a new column for the above table."
      ],
      "metadata": {
        "id": "1UN6VVE5wyFO"
      }
    },
    {
      "cell_type": "code",
      "source": [
        "'''\n",
        "to add a new colum to a pandas, you can simply\n",
        "best_film_df = pd.DataFrame({'name': film_names, 'rating': ratings, 'description': descripts,'new_column_name':new_column_list})\n",
        "All other steps should be similar\n",
        "'''"
      ],
      "metadata": {
        "id": "_kET0chQwzZ-"
      },
      "execution_count": null,
      "outputs": []
    }
  ],
  "metadata": {
    "colab": {
      "provenance": [],
      "toc_visible": true
    },
    "kernelspec": {
      "display_name": "Python 3 (ipykernel)",
      "language": "python",
      "name": "python3"
    },
    "language_info": {
      "codemirror_mode": {
        "name": "ipython",
        "version": 3
      },
      "file_extension": ".py",
      "mimetype": "text/x-python",
      "name": "python",
      "nbconvert_exporter": "python",
      "pygments_lexer": "ipython3",
      "version": "3.7.13"
    },
    "vscode": {
      "interpreter": {
        "hash": "ad2bdc8ecc057115af97d19610ffacc2b4e99fae6737bb82f5d7fb13d2f2c186"
      }
    }
  },
  "nbformat": 4,
  "nbformat_minor": 0
}
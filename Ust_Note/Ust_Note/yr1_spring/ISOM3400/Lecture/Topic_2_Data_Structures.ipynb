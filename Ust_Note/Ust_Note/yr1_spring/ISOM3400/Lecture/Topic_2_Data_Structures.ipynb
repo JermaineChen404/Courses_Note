{
 "cells": [
  {
   "cell_type": "markdown",
   "metadata": {
    "id": "geOMOVqbWt5E"
   },
   "source": [
    "\n",
    "# Data Structures\n",
    "\n",
    "\n",
    "Most of the data types we have encountered so far are **atomic types** (except strings). Atomic data types cannot be broken down into smaller components.\n",
    "\n",
    "\n",
    "\n",
    "In many applications, data is related in some way, and should be organized in some structure that mirrors the semantics of data:"
   ]
  },
  {
   "cell_type": "markdown",
   "metadata": {
    "cell_style": "split",
    "id": "6T83x0VPhhFu"
   },
   "source": [
    "- A shopping cart of items\n",
    "\n",
    "- A gradebook for a class\n",
    "\n",
    "- A person's demographic characteristics\n",
    "\n",
    "- Members of an online community\n",
    "\n",
    "- Districts of Hong Kong\n",
    "\n",
    "- Pixels of an image\n",
    "\n",
    "……\n"
   ]
  },
  {
   "cell_type": "markdown",
   "metadata": {
    "cell_style": "split",
    "id": "NqZiuIKLhhFv"
   },
   "source": [
    "\n",
    "<img src=\"https://raw.githubusercontent.com/justinjiajia/img/master/python/sample-matrix.gif\" width=500/>\n",
    "\n"
   ]
  },
  {
   "cell_type": "markdown",
   "metadata": {
    "id": "_5wCvr4bhhFw"
   },
   "source": [
    "In programming, we use **data structures** to pack related data together.\n",
    "\n",
    "In simple terms, a data structure refers to a **container** that organizes a **collection** of data in a particular structure.\n",
    "\n",
    "In Python, the four common data structures are:\n",
    "\n",
    "- Lists and tuples (sequential containers)\n",
    "- Dictionaries (associative containers)\n",
    "- Sets (set containers)\n",
    "\n",
    "Like numbers, strings, and Booleans, they are built-in data types in Python.\n",
    "\n",
    "<br>\n",
    "\n",
    "\n",
    "> In programming, it is important to understand what questions we are trying to ask of our data and pick a data structure that can answer these questions quickly."
   ]
  },
  {
   "cell_type": "markdown",
   "metadata": {
    "id": "WB8fjyIFsmkJ"
   },
   "source": [
    "\n",
    "<br>\n",
    "\n",
    "# 1 Lists and Tuples\n",
    "\n",
    "Both lists and tuples are data structures containing a **sequence** (an **ordered collection**) of objects (of any type), and can be created with a construct known as a **list**/**tuple display**:"
   ]
  },
  {
   "cell_type": "code",
   "execution_count": null,
   "metadata": {
    "id": "vWIrm62usmkK"
   },
   "outputs": [],
   "source": [
    "fruits = ['apple', 'orange', 'banana', 'mango']\n",
    "fruits"
   ]
  },
  {
   "cell_type": "code",
   "execution_count": null,
   "metadata": {
    "cell_style": "center",
    "id": "x1VQ5fhahhFz"
   },
   "outputs": [],
   "source": [
    "type(fruits)"
   ]
  },
  {
   "cell_type": "code",
   "execution_count": null,
   "metadata": {
    "cell_style": "center",
    "id": "ehC3qi82smkR"
   },
   "outputs": [],
   "source": [
    "squares = (1, 4, 9, 16, 25) # Paratheses can be dropped; squares = 1, 4, 9, 16, 25\n",
    "squares"
   ]
  },
  {
   "cell_type": "code",
   "execution_count": null,
   "metadata": {
    "id": "_9mGNMmaxZ4V"
   },
   "outputs": [],
   "source": [
    "squares = 1, 4, 9, 16, 25\n",
    "squares"
   ]
  },
  {
   "cell_type": "code",
   "execution_count": null,
   "metadata": {
    "id": "qN4-FpWGsmkZ"
   },
   "outputs": [],
   "source": [
    "type(squares)"
   ]
  },
  {
   "cell_type": "markdown",
   "metadata": {
    "id": "L_Y5J4mwgJcO"
   },
   "source": [
    "To create a tuple with only one item, you need to add a comma after the item, otherwise Python will not recognize the variable as a tuple."
   ]
  },
  {
   "cell_type": "code",
   "execution_count": null,
   "metadata": {
    "id": "td7hBe8NgLeb"
   },
   "outputs": [],
   "source": [
    "height = (175,)\n",
    "height"
   ]
  },
  {
   "cell_type": "code",
   "execution_count": null,
   "metadata": {
    "id": "I8bNA4bixnTe"
   },
   "outputs": [],
   "source": [
    "height = (175)\n",
    "height"
   ]
  },
  {
   "cell_type": "markdown",
   "metadata": {
    "id": "3dtDT246smkd"
   },
   "source": [
    "The physical content of a list or a tuple consists of **object references** (i.e., the address of the memory location where the object is allocated) rather than actual objects:\n",
    "\n",
    "\n",
    "<img src=\"https://raw.githubusercontent.com/justinjiajia/img/master/python/list.png\" width=300 style=\"float: left; margin-bottom: 1.5em; margin-top: 1.5em; margin-right: 10%; \" /><img src=\"https://raw.githubusercontent.com/justinjiajia/img/master/python/tuple.png\" width=300 style=\"float: left; margin-top: 1.5em;\"/>"
   ]
  },
  {
   "cell_type": "markdown",
   "metadata": {
    "id": "QFrNiiiesmkf"
   },
   "source": [
    "The elements of a list or a tuple can be of varying types:"
   ]
  },
  {
   "cell_type": "code",
   "execution_count": null,
   "metadata": {
    "cell_style": "split",
    "id": "Hn1NS5YOsmkf"
   },
   "outputs": [],
   "source": [
    "mixed_list = ['Mike', 1.83, True]"
   ]
  },
  {
   "cell_type": "code",
   "execution_count": null,
   "metadata": {
    "cell_style": "split",
    "id": "29MXB2h-hhGA"
   },
   "outputs": [],
   "source": [
    "mixed_tuple = ('spam', 2, False)"
   ]
  },
  {
   "cell_type": "markdown",
   "metadata": {
    "id": "YTWf6R8psmkj"
   },
   "source": [
    "Both lists and tuples are ***nestable***:"
   ]
  },
  {
   "cell_type": "code",
   "execution_count": null,
   "metadata": {
    "cell_style": "split",
    "id": "Cpll5RPWWt5L"
   },
   "outputs": [],
   "source": [
    "nested_list = [fruits, [2.0,  True]]\n",
    "nested_list"
   ]
  },
  {
   "cell_type": "code",
   "execution_count": null,
   "metadata": {
    "cell_style": "split",
    "id": "TGK2YcWeWt5M"
   },
   "outputs": [],
   "source": [
    "nested_tuple = squares, ('spam', 9), True\n",
    "nested_tuple"
   ]
  },
  {
   "cell_type": "markdown",
   "metadata": {
    "id": "z0H3Uk7Ysmkq"
   },
   "source": [
    "\n",
    "\n",
    "<img src=\"https://raw.githubusercontent.com/justinjiajia/img/master/python/nested_list.png\" width=320 style=\"float: left; margin-bottom: 1.5em; margin-top: 1.5em; margin-right: 10%; \"/><img src=\"https://raw.githubusercontent.com/justinjiajia/img/master/python/nested_tuple.png\" width=355 style=\"float: left; margin-top: 1.5em;\"/>"
   ]
  },
  {
   "cell_type": "markdown",
   "metadata": {
    "id": "tx8_oGh5cHAg"
   },
   "source": [
    "*Exercise:* create a nested list/tuple which contains the information about a particular student, for example, the first element is his/her name, the second element is a sub-list/sub-tuple that contain his/her grades on math and english."
   ]
  },
  {
   "cell_type": "code",
   "execution_count": null,
   "metadata": {
    "id": "Ib17mT1ycKDX"
   },
   "outputs": [],
   "source": [
    "#write your codes here\n"
   ]
  },
  {
   "cell_type": "code",
   "execution_count": null,
   "metadata": {
    "id": "MZIesejNzEdB"
   },
   "outputs": [],
   "source": []
  },
  {
   "cell_type": "markdown",
   "metadata": {
    "id": "ze1Ovz_lsmk1"
   },
   "source": [
    "<br>\n",
    "\n",
    "## 1.1 Indexing\n",
    "\n",
    "\n",
    "As a sequence maintains a left-to-right order among its elements, the elements can be indexed by **integers** (representing positions in the sequence) and individually accessed by using the indexing operator (`[]` that encloses an integer). The elements of a list or a tuple can be indexed positionally in the same way as the characters in a string.\n",
    "\n",
    "Python supports both positive indexing and negative indexing.\n",
    "\n",
    "The set for positive indexing contains the integers $0, 1, \\dots,$ and $n-1$ (**0-based indexing**), while that for negative indexing contains the integers $-1, -2, \\dots,$ and $-n$.\n",
    "\n",
    "<img src=\"https://raw.githubusercontent.com/justinjiajia/img/master/python/list_indexing.png\" width=380/>\n",
    "\n"
   ]
  },
  {
   "cell_type": "code",
   "execution_count": null,
   "metadata": {
    "cell_style": "center",
    "id": "vcqYdEwtsmk2"
   },
   "outputs": [],
   "source": [
    "fruits = ['apple', 'orange', 'banana', 'mango']"
   ]
  },
  {
   "cell_type": "code",
   "execution_count": null,
   "metadata": {
    "id": "57whCZP5Wt5N"
   },
   "outputs": [],
   "source": [
    "fruits[2]"
   ]
  },
  {
   "cell_type": "code",
   "execution_count": null,
   "metadata": {
    "id": "Za2gVr3cXSPW"
   },
   "outputs": [],
   "source": [
    "fruits[-3]"
   ]
  },
  {
   "cell_type": "code",
   "execution_count": null,
   "metadata": {
    "cell_style": "center",
    "id": "H79kQ1Hqsmk-"
   },
   "outputs": [],
   "source": [
    "squares = (1, 4, 9, 16, 25)"
   ]
  },
  {
   "cell_type": "code",
   "execution_count": null,
   "metadata": {
    "cell_style": "split",
    "id": "Fs2b6g-TWt5O"
   },
   "outputs": [],
   "source": [
    "squares[3]"
   ]
  },
  {
   "cell_type": "code",
   "execution_count": null,
   "metadata": {
    "cell_style": "split",
    "id": "5YxTouUcWt5O"
   },
   "outputs": [],
   "source": [
    "squares[-1]"
   ]
  },
  {
   "cell_type": "markdown",
   "metadata": {
    "id": "csWHd3_vsmlS"
   },
   "source": [
    "Accessing items in a subsequence can be done by simply appending additional indicies:"
   ]
  },
  {
   "cell_type": "code",
   "execution_count": null,
   "metadata": {
    "id": "WraxiKVHsmlS"
   },
   "outputs": [],
   "source": [
    "nested_list = [['apple', 'orange', 'banana', 'mango'], [2.0, True]]"
   ]
  },
  {
   "cell_type": "code",
   "execution_count": null,
   "metadata": {
    "cell_style": "split",
    "id": "al9lEobGWt5P"
   },
   "outputs": [],
   "source": [
    "nested_list[-2]"
   ]
  },
  {
   "cell_type": "code",
   "execution_count": null,
   "metadata": {
    "cell_style": "split",
    "id": "uuT843uoWt5P"
   },
   "outputs": [],
   "source": [
    "nested_list[-2][0]"
   ]
  },
  {
   "cell_type": "code",
   "execution_count": null,
   "metadata": {
    "id": "8Smo4Fx0smlb"
   },
   "outputs": [],
   "source": [
    "nested_tuple = (1, 4, 9, 16, 25), ('spam', 9), True"
   ]
  },
  {
   "cell_type": "code",
   "execution_count": null,
   "metadata": {
    "cell_style": "split",
    "id": "S7HCbbqPWt5Q"
   },
   "outputs": [],
   "source": [
    "nested_tuple[1][-2]"
   ]
  },
  {
   "cell_type": "markdown",
   "metadata": {
    "id": "R3om_Fu0G9uV"
   },
   "source": [
    "*Exercise*: Write code to access `'m'` from `nested_tuple`"
   ]
  },
  {
   "cell_type": "code",
   "execution_count": null,
   "metadata": {
    "cell_style": "split",
    "id": "XB90fz1TWt5Q"
   },
   "outputs": [],
   "source": [
    "# Write your code here\n"
   ]
  },
  {
   "cell_type": "markdown",
   "metadata": {
    "id": "aoY4Si2gsmlr"
   },
   "source": [
    "**<font color='steelblue' > Question</font>**: What will be the result of `fruits[-2][3]`?"
   ]
  },
  {
   "cell_type": "code",
   "execution_count": null,
   "metadata": {
    "id": "fHbJ2u6jY6uT"
   },
   "outputs": [],
   "source": [
    "fruits = ['apple', 'orange', 'banana', 'mango']"
   ]
  },
  {
   "cell_type": "code",
   "execution_count": null,
   "metadata": {
    "id": "RxaOnTyyaD7E"
   },
   "outputs": [],
   "source": [
    "fruits[-2][3]"
   ]
  },
  {
   "cell_type": "markdown",
   "metadata": {
    "id": "rZYCQRNfsmlx"
   },
   "source": [
    "<br>\n",
    "\n",
    "## 1.2 Slicing\n",
    "\n",
    "\n",
    "\n",
    "<img src=\"https://blog.tecladocode.com/content/images/size/w1000/2019/04/citric-citrus-color-997725.jpg\" width=400 />\n",
    "<Br>\n",
    "    \n",
    "\n",
    "Indexing is limited to accessing one element at a time.\n",
    "\n",
    "**Slicing**, on the other hand, can extract a **segment** of a sequence (called a **slice**).\n",
    "\n",
    "The slice operator also works with lists and tuples as it does with strings. The slicing operator `[i:j]` returns the part of the list from the element indexed by `i` to the element indexed by `j`, ***including the first but excluding the last***:\n"
   ]
  },
  {
   "cell_type": "code",
   "execution_count": null,
   "metadata": {
    "id": "spsID6vvWt5S"
   },
   "outputs": [],
   "source": [
    "fruits = ['apple', 'orange', 'banana', 'mango']"
   ]
  },
  {
   "cell_type": "code",
   "execution_count": null,
   "metadata": {
    "cell_style": "split",
    "id": "YPn1zK2RhhGq"
   },
   "outputs": [],
   "source": [
    "# still return a list\n",
    "fruits[1:2]"
   ]
  },
  {
   "cell_type": "code",
   "execution_count": null,
   "metadata": {
    "id": "NE-rbMS7Wt5T"
   },
   "outputs": [],
   "source": [
    "squares = 1, 4, 9, 16, 25"
   ]
  },
  {
   "cell_type": "code",
   "execution_count": null,
   "metadata": {
    "cell_style": "split",
    "id": "nX8Fw3Q-sml6"
   },
   "outputs": [],
   "source": [
    "# still return a sequence\n",
    "squares[-3:-2]"
   ]
  },
  {
   "cell_type": "markdown",
   "metadata": {
    "id": "R6QhmUnlb2jL"
   },
   "source": [
    "In slicing, either or both of the two indexes can be dropped. If the 1st index is omitted, the slice starts at the beginning of the list; if the 2nd index is omitted, the slice goes to the end of the list:"
   ]
  },
  {
   "cell_type": "code",
   "execution_count": null,
   "metadata": {
    "cell_style": "split",
    "id": "B4E-L_eusml1",
    "scrolled": true
   },
   "outputs": [],
   "source": [
    "fruits[:2]      # The slice starts at the beginning"
   ]
  },
  {
   "cell_type": "code",
   "execution_count": null,
   "metadata": {
    "id": "Mi5dWDvRY6uV"
   },
   "outputs": [],
   "source": [
    "fruits[2:]      # The slice goes to the end"
   ]
  },
  {
   "cell_type": "code",
   "execution_count": null,
   "metadata": {
    "cell_style": "split",
    "id": "k9YODAiysml9"
   },
   "outputs": [],
   "source": [
    "squares[:]      # The slice starts at the beginning and goes to the end"
   ]
  },
  {
   "cell_type": "markdown",
   "metadata": {
    "id": "TZhnqGj7smmB"
   },
   "source": [
    "<br>\n",
    "\n",
    "## 1.3 Working with Operators and Built-in functions\n",
    "\n",
    "Several Python operators and built-in functions can also be used with lists and tuples (in ways analogous to strings):\n",
    "\n",
    "- The `+` operator concatenates lists or tuples, while the `*` operator repeats a list or a tuple a given number of times:"
   ]
  },
  {
   "cell_type": "code",
   "execution_count": null,
   "metadata": {
    "cell_style": "split",
    "id": "hc8xrHnfsmmC"
   },
   "outputs": [],
   "source": [
    "fruits + [True]"
   ]
  },
  {
   "cell_type": "code",
   "execution_count": null,
   "metadata": {
    "cell_style": "split",
    "id": "FFtynsAqsmmD"
   },
   "outputs": [],
   "source": [
    "squares + (30, False)"
   ]
  },
  {
   "cell_type": "code",
   "execution_count": null,
   "metadata": {
    "cell_style": "split",
    "id": "32rTfa49smmF"
   },
   "outputs": [],
   "source": [
    "[1, 2, 3] * 3"
   ]
  },
  {
   "cell_type": "code",
   "execution_count": null,
   "metadata": {
    "cell_style": "split",
    "id": "AHXuQLBzsmmH"
   },
   "outputs": [],
   "source": [
    "('spam', 2, True) * 2"
   ]
  },
  {
   "cell_type": "markdown",
   "metadata": {
    "id": "yLZuU-PSsmmJ"
   },
   "source": [
    "- The operators `in` and `not in` do membership tests and return `True` or `False`:"
   ]
  },
  {
   "cell_type": "code",
   "execution_count": null,
   "metadata": {
    "cell_style": "split",
    "id": "BQePVG6EsmmL"
   },
   "outputs": [],
   "source": [
    "30 not in fruits"
   ]
  },
  {
   "cell_type": "code",
   "execution_count": null,
   "metadata": {
    "cell_style": "split",
    "id": "btHhs599smmM"
   },
   "outputs": [],
   "source": [
    "'spa' in ('spam', 2, True)  # 'spam' is a member of ('spam', 2, True) but not 'spa'"
   ]
  },
  {
   "cell_type": "code",
   "execution_count": null,
   "metadata": {
    "id": "4mB-lu5l3lIm"
   },
   "outputs": [],
   "source": [
    "'spam' in ('spam', 2, True)"
   ]
  },
  {
   "cell_type": "markdown",
   "metadata": {
    "id": "3Qg617cLsmmO"
   },
   "source": [
    "- These two sequence types also support comparisons (using `<`, `>`, `==`, `>=`, `<=`, and `!=`). In particular,  lists and tuples are compared lexicographically using comparison of corresponding elements:"
   ]
  },
  {
   "cell_type": "code",
   "execution_count": null,
   "metadata": {
    "cell_style": "split",
    "id": "Y9OrMvtesmmP"
   },
   "outputs": [],
   "source": [
    "['Mike', 1.83, True] <= ['Mike', 1.80, False]"
   ]
  },
  {
   "cell_type": "code",
   "execution_count": null,
   "metadata": {
    "cell_style": "split",
    "id": "2X1sJUDfsmmS"
   },
   "outputs": [],
   "source": [
    "('spam', 2, False) <= ('spam', 2, True)"
   ]
  },
  {
   "cell_type": "code",
   "execution_count": null,
   "metadata": {
    "cell_style": "center",
    "id": "fYIDLf5FsmmV"
   },
   "outputs": [],
   "source": [
    "['Mike', 1.83, True] <= ['Mike', 1.80]"
   ]
  },
  {
   "cell_type": "code",
   "execution_count": null,
   "metadata": {
    "id": "Imh00eHcsmmY"
   },
   "outputs": [],
   "source": [
    "('spam', 2, False) <= ('spam', '2', True)  # cannot compare between different types"
   ]
  },
  {
   "cell_type": "markdown",
   "metadata": {
    "id": "w4ssOkWKilkf"
   },
   "source": [
    "*Exercise:* Predict which is larger, ['large',10, 'big'] or ['small',1, 'little'] ? Write codes to verify your prediction.\n",
    "\n",
    "How can you re-arrange the items in the list so that the result would change?"
   ]
  },
  {
   "cell_type": "code",
   "execution_count": null,
   "metadata": {
    "id": "Prqa1lePixpH"
   },
   "outputs": [],
   "source": [
    "# write your codes here\n"
   ]
  },
  {
   "cell_type": "code",
   "execution_count": null,
   "metadata": {
    "id": "a7Yvzqg54gJz"
   },
   "outputs": [],
   "source": []
  },
  {
   "cell_type": "markdown",
   "metadata": {
    "id": "ljaSPUeFsmmp"
   },
   "source": [
    "\n",
    "\n",
    "- [`len()`](https://docs.python.org/3/library/functions.html#len) returns the number of elements in a list or a tuple:"
   ]
  },
  {
   "cell_type": "code",
   "execution_count": null,
   "metadata": {
    "cell_style": "split",
    "id": "COjAprS7smmq"
   },
   "outputs": [],
   "source": [
    "len(fruits)"
   ]
  },
  {
   "cell_type": "code",
   "execution_count": null,
   "metadata": {
    "cell_style": "split",
    "id": "rBXAHpsfsmmt"
   },
   "outputs": [],
   "source": [
    "len(squares)"
   ]
  },
  {
   "cell_type": "code",
   "execution_count": null,
   "metadata": {
    "cell_style": "split",
    "id": "oHxGJ5HFRWEn"
   },
   "outputs": [],
   "source": [
    "nested_list"
   ]
  },
  {
   "cell_type": "code",
   "execution_count": null,
   "metadata": {
    "cell_style": "split",
    "id": "H7zrNw9fRWEp"
   },
   "outputs": [],
   "source": [
    "nested_tuple"
   ]
  },
  {
   "cell_type": "code",
   "execution_count": null,
   "metadata": {
    "cell_style": "split",
    "id": "l4kuDQzqWt5a"
   },
   "outputs": [],
   "source": [
    "len(nested_list)"
   ]
  },
  {
   "cell_type": "code",
   "execution_count": null,
   "metadata": {
    "cell_style": "split",
    "id": "rrztaT6kWt5b"
   },
   "outputs": [],
   "source": [
    "len(nested_tuple)"
   ]
  },
  {
   "cell_type": "markdown",
   "metadata": {
    "id": "_r8H9gbmsmmx"
   },
   "source": [
    "- [`max()`](https://docs.python.org/3/library/functions.html#max) ([`min()`](https://docs.python.org/3/library/functions.html#min)) returns the largest (smallest) element. Can work with elements of comparable types:"
   ]
  },
  {
   "cell_type": "code",
   "execution_count": null,
   "metadata": {
    "cell_style": "split",
    "id": "JKqf-UzZsmmy"
   },
   "outputs": [],
   "source": [
    "max(fruits)  # based on lexicographic order"
   ]
  },
  {
   "cell_type": "code",
   "execution_count": null,
   "metadata": {
    "cell_style": "split",
    "id": "T83bKfwAsmm0"
   },
   "outputs": [],
   "source": [
    "min(squares)"
   ]
  },
  {
   "cell_type": "code",
   "execution_count": null,
   "metadata": {
    "id": "jmxohMk5Wt5d"
   },
   "outputs": [],
   "source": [
    "max(('spam', '2', True))"
   ]
  },
  {
   "cell_type": "markdown",
   "metadata": {
    "id": "1eKJ2S9Tsmm2"
   },
   "source": [
    "- [`sum()`](https://docs.python.org/3/library/functions.html#sum) returns the sum of all elements in a sequence. Can only work with numeric elements:"
   ]
  },
  {
   "cell_type": "code",
   "execution_count": null,
   "metadata": {
    "cell_style": "split",
    "id": "Ib2WG_0qsmm2"
   },
   "outputs": [],
   "source": [
    "sum(squares)"
   ]
  },
  {
   "cell_type": "code",
   "execution_count": null,
   "metadata": {
    "cell_style": "split",
    "id": "7TL7PE1esmm4"
   },
   "outputs": [],
   "source": [
    "sum(fruits)"
   ]
  },
  {
   "cell_type": "markdown",
   "metadata": {
    "id": "N2saKdyMkMxP"
   },
   "source": [
    "*Exercise:* I have a list of student grades [90, 80, 75, 88, 67].Try to find the average grade of all students in the student grades list/tuple by using sum() and len()"
   ]
  },
  {
   "cell_type": "code",
   "execution_count": null,
   "metadata": {
    "id": "KsnLBNZ0kLtY"
   },
   "outputs": [],
   "source": [
    "# write your codes here\n"
   ]
  },
  {
   "cell_type": "markdown",
   "metadata": {
    "id": "0OAW-rrpsmnA"
   },
   "source": [
    "<br>\n",
    "\n",
    "## 1.4 Common List and Tuple Methods\n",
    "\n",
    "- `s.index(x[, i[, j]])` returns index of the first occurrence of `x` in `s` (at or after index `i` and before index `j`):"
   ]
  },
  {
   "cell_type": "code",
   "execution_count": null,
   "metadata": {
    "cell_style": "split",
    "id": "Gp60RjjpsmnB"
   },
   "outputs": [],
   "source": [
    "repeated_list = ['Mike', 1.83, True] * 2\n",
    "repeated_list"
   ]
  },
  {
   "cell_type": "code",
   "execution_count": null,
   "metadata": {
    "cell_style": "split",
    "id": "KDAWbqFGsmnD"
   },
   "outputs": [],
   "source": [
    "repeated_tuple = ('spam', 2, True) * 3\n",
    "repeated_tuple"
   ]
  },
  {
   "cell_type": "code",
   "execution_count": null,
   "metadata": {
    "id": "EnufXB0iY6uf"
   },
   "outputs": [],
   "source": [
    "repeated_list.index(True)"
   ]
  },
  {
   "cell_type": "code",
   "execution_count": null,
   "metadata": {
    "cell_style": "split",
    "id": "AMSdOJjdsmnC"
   },
   "outputs": [],
   "source": [
    "repeated_list.index(True, 3)"
   ]
  },
  {
   "cell_type": "code",
   "execution_count": null,
   "metadata": {
    "cell_style": "split",
    "id": "dHso_HLZsmnE"
   },
   "outputs": [],
   "source": [
    "repeated_tuple.index('spam', 1, 4)"
   ]
  },
  {
   "cell_type": "markdown",
   "metadata": {
    "id": "5x8cgt8lsmnH"
   },
   "source": [
    "- `s.count(x)` returns the total number of occurrences of `x` in `s`:"
   ]
  },
  {
   "cell_type": "code",
   "execution_count": null,
   "metadata": {
    "cell_style": "split",
    "id": "Mcz91bqtsmnH"
   },
   "outputs": [],
   "source": [
    "repeated_list.count(True)"
   ]
  },
  {
   "cell_type": "code",
   "execution_count": null,
   "metadata": {
    "cell_style": "split",
    "id": "ucU9eHnPlV2K"
   },
   "outputs": [],
   "source": [
    "repeated_tuple.count('spam')"
   ]
  },
  {
   "cell_type": "markdown",
   "metadata": {
    "id": "IENczqRvsmnM"
   },
   "source": [
    "- Use `dir()` to display all the names accessible to a list or a tuple:"
   ]
  },
  {
   "cell_type": "code",
   "execution_count": null,
   "metadata": {
    "cell_style": "split",
    "id": "ncU4VkdUsmnO"
   },
   "outputs": [],
   "source": [
    "dir(repeated_list)"
   ]
  },
  {
   "cell_type": "code",
   "execution_count": null,
   "metadata": {
    "cell_style": "split",
    "id": "gqBPp6GrsmnQ"
   },
   "outputs": [],
   "source": [
    "dir(repeated_tuple)"
   ]
  },
  {
   "cell_type": "markdown",
   "metadata": {
    "id": "0EL2_EU3smnS"
   },
   "source": [
    "<br>\n",
    "\n",
    "## 1.5 Lists are Mutable\n",
    "\n",
    "Once a list is created, elements can be added, deleted, shifted, and moved around at will.\n",
    "\n"
   ]
  },
  {
   "cell_type": "markdown",
   "metadata": {
    "id": "f6Znvo_0sBsi"
   },
   "source": [
    "\n",
    "### 1.5.1 Item Assignment\n",
    "\n",
    "\n",
    "We can use indexing (and slicing as well) on the left side of an assignment(s) to identify the element to be modified:"
   ]
  },
  {
   "cell_type": "code",
   "execution_count": null,
   "metadata": {
    "id": "2RPSofPXsmnS"
   },
   "outputs": [],
   "source": [
    "fruits = ['apple', 'orange', 'banana', 'mango']\n",
    "fruits"
   ]
  },
  {
   "cell_type": "code",
   "execution_count": null,
   "metadata": {
    "id": "8RtdapZTsmnU"
   },
   "outputs": [],
   "source": [
    "fruits[1] = 'melon'                      # item assignment\n",
    "fruits"
   ]
  },
  {
   "cell_type": "markdown",
   "metadata": {
    "id": "v7YAXktSsmnX"
   },
   "source": [
    "<img src=\"https://raw.githubusercontent.com/justinjiajia/img/master/python/list_v1.png\" width=280/>"
   ]
  },
  {
   "cell_type": "markdown",
   "metadata": {
    "id": "Qc687JeHsmnv"
   },
   "source": [
    "### 1.5.2 Deleting List Elements\n",
    "\n",
    "List elements can be deleted with [the `del` statement](https://docs.python.org/3/reference/simple_stmts.html#del):"
   ]
  },
  {
   "cell_type": "code",
   "execution_count": null,
   "metadata": {
    "id": "LNrXQbj5smnw"
   },
   "outputs": [],
   "source": [
    "del fruits[2:]"
   ]
  },
  {
   "cell_type": "code",
   "execution_count": null,
   "metadata": {
    "id": "8Xjzu9GDRWFt"
   },
   "outputs": [],
   "source": [
    "fruits"
   ]
  },
  {
   "cell_type": "markdown",
   "metadata": {
    "id": "dZX29V-J07JM"
   },
   "source": [
    "\n",
    "### 1.5.3 Methods That Modify a List\n",
    "\n",
    "Python provides several built-in methods that can be used to modify lists:"
   ]
  },
  {
   "cell_type": "markdown",
   "metadata": {
    "id": "fRzTKJzjsmoe"
   },
   "source": [
    "- [`sort(key=None, reverse=False)`](https://docs.python.org/3/library/stdtypes.html#list.sort) sorts the list in ascending order ***in place*** (i.e., modifies the original list directly):"
   ]
  },
  {
   "cell_type": "code",
   "execution_count": null,
   "metadata": {
    "id": "grBplHk-smoe"
   },
   "outputs": [],
   "source": [
    "fruits = ['apple', 'orange', 'banana', 'mango']\n",
    "fruits.sort()"
   ]
  },
  {
   "cell_type": "code",
   "execution_count": null,
   "metadata": {
    "id": "XXC4eDOysmog"
   },
   "outputs": [],
   "source": [
    "fruits"
   ]
  },
  {
   "cell_type": "markdown",
   "metadata": {
    "id": "Dp8XqRW_smol"
   },
   "source": [
    "If `reverse` is set to `True`, the list elements are sorted as if each comparison were reversed:"
   ]
  },
  {
   "cell_type": "code",
   "execution_count": null,
   "metadata": {
    "id": "-8_MZ7lEsmom"
   },
   "outputs": [],
   "source": [
    "fruits.sort(reverse=True)\n",
    "fruits"
   ]
  },
  {
   "cell_type": "markdown",
   "metadata": {
    "id": "cxAGtfr-Wt59"
   },
   "source": [
    "If any comparison fails, the entire sort will fail:"
   ]
  },
  {
   "cell_type": "code",
   "execution_count": null,
   "metadata": {
    "id": "MiF8LGT2smoh",
    "scrolled": true
   },
   "outputs": [],
   "source": [
    "employee = ['Charles', 'Business Analyst', 9, True]\n",
    "employee.sort()"
   ]
  },
  {
   "cell_type": "markdown",
   "metadata": {
    "id": "_LSDfh8kRPNO"
   },
   "source": [
    "Can we sort values of varying types as if they were all strings?\n",
    "\n",
    "We can change the rule for comparison by specifying the comparison `key`:\n",
    "\n",
    "\n",
    "<img src=\"https://raw.githubusercontent.com/justinjiajia/img/master/python/sort_key.png\" width=700/>"
   ]
  },
  {
   "cell_type": "code",
   "execution_count": null,
   "metadata": {
    "id": "zZFXYRRwY6ul"
   },
   "outputs": [],
   "source": [
    "employee"
   ]
  },
  {
   "cell_type": "code",
   "execution_count": null,
   "metadata": {
    "id": "OL2GlFA-smon"
   },
   "outputs": [],
   "source": [
    "employee.sort(key=str) #sort values of varying types as if they were all strings\n",
    "employee"
   ]
  },
  {
   "cell_type": "markdown",
   "metadata": {
    "id": "g2n4fU68smop"
   },
   "source": [
    "The `key` option must be set to a function that can be called with a single input value, regardless of whether it be of a primitive or compound data type (e.g., `len`, `str`, `max`, etc.).\n",
    "\n"
   ]
  },
  {
   "cell_type": "code",
   "execution_count": null,
   "metadata": {
    "id": "khtn1Pw4Wt5-"
   },
   "outputs": [],
   "source": [
    "repeated_letters = ['aaaaa', 'bbbb', 'c', 'ddd', 'ee']\n",
    "repeated_letters.sort(key=len)\n",
    "repeated_letters"
   ]
  },
  {
   "cell_type": "markdown",
   "metadata": {
    "id": "rucjyNSZr2_u"
   },
   "source": [
    "*Exercise:* we have a list consisting of string numbers\n",
    "```python\n",
    "string_numbers=['0','5','10','2','8']\n",
    "```\n",
    "Sort this list according to the numeric values represented by these string numbers."
   ]
  },
  {
   "cell_type": "code",
   "execution_count": null,
   "metadata": {
    "id": "9_ra-Ti3r7zo"
   },
   "outputs": [],
   "source": [
    "# write your codes here\n"
   ]
  },
  {
   "cell_type": "markdown",
   "metadata": {
    "id": "ODAhpqZkg9mf"
   },
   "source": [
    "*Exercise:*  Sort the following numbers by absolute value in descending order:\n",
    "\n",
    "```python\n",
    "numbers=[0.12, 0.78, 0.5, -0.43, -0.87, 1.0, 0.64]\n",
    "```"
   ]
  },
  {
   "cell_type": "code",
   "execution_count": null,
   "metadata": {
    "id": "PpKFkyqEhTSj"
   },
   "outputs": [],
   "source": [
    "# write your codes here\n"
   ]
  },
  {
   "cell_type": "markdown",
   "metadata": {
    "id": "QjJGui-tWt6A"
   },
   "source": [
    "There is a built-in function, `sorted()`, that does the same thing but returns a new sorted list rather than modifying the original one in place:"
   ]
  },
  {
   "cell_type": "code",
   "execution_count": null,
   "metadata": {
    "id": "XCto7bMnsmop"
   },
   "outputs": [],
   "source": [
    "help(sorted)"
   ]
  },
  {
   "cell_type": "code",
   "execution_count": null,
   "metadata": {
    "id": "pm1oU8lFsmox",
    "scrolled": true
   },
   "outputs": [],
   "source": [
    "fruits = ['apple', 'orange', 'banana', 'mango']\n",
    "sorted(fruits)  # note that this would not modify the original list"
   ]
  },
  {
   "cell_type": "code",
   "execution_count": null,
   "metadata": {
    "id": "U4hP1LzrWt6B"
   },
   "outputs": [],
   "source": [
    "fruits"
   ]
  },
  {
   "cell_type": "markdown",
   "metadata": {
    "id": "N7e1NT25yroq"
   },
   "source": [
    "*Exercise:* Two words are anagrams if you can rearrange the letters from one to spell the other. For example, \"fried\" and \"fired\" are anagrams (similarly, \"race\" and \"care\").\n",
    "\n",
    "Given two arbitrary strings, write codes to decide whether these two strings are anagrams."
   ]
  },
  {
   "cell_type": "code",
   "execution_count": null,
   "metadata": {
    "id": "jKNFLU3yyv4X"
   },
   "outputs": [],
   "source": [
    "#write your codes here\n"
   ]
  },
  {
   "cell_type": "markdown",
   "metadata": {
    "id": "mkfrB0D4tyTS"
   },
   "source": [
    "- `insert(index, object)` takes an element and insert it at a particular index. The return value is `None` (this applies to all following methods unless explicitly mentioned):"
   ]
  },
  {
   "cell_type": "code",
   "execution_count": null,
   "metadata": {
    "id": "JoKGiV0It1Pp"
   },
   "outputs": [],
   "source": [
    "fruits = ['peach', 'melon']"
   ]
  },
  {
   "cell_type": "code",
   "execution_count": null,
   "metadata": {
    "id": "-3jNSSNOt24t"
   },
   "outputs": [],
   "source": [
    "fruits.insert(2, 'peach')"
   ]
  },
  {
   "cell_type": "code",
   "execution_count": null,
   "metadata": {
    "id": "siD4I17ft7Z3"
   },
   "outputs": [],
   "source": [
    "fruits"
   ]
  },
  {
   "cell_type": "code",
   "execution_count": null,
   "metadata": {
    "id": "B_arTjOpt9LR"
   },
   "outputs": [],
   "source": [
    "fruits.insert(2, ['olive', 'banana']); fruits"
   ]
  },
  {
   "cell_type": "markdown",
   "metadata": {
    "id": "e4UH6yNIuO9Y"
   },
   "source": [
    "\n",
    "- `append(object)` takes an element and adds it to the end of a list:"
   ]
  },
  {
   "cell_type": "code",
   "execution_count": null,
   "metadata": {
    "id": "n2MgWRN3uhGk"
   },
   "outputs": [],
   "source": [
    "fruits.append('plum'); fruits"
   ]
  },
  {
   "cell_type": "code",
   "execution_count": null,
   "metadata": {
    "id": "TPwHw0nguir8"
   },
   "outputs": [],
   "source": [
    "fruits.append(['litchi', 'banana']); fruits"
   ]
  },
  {
   "cell_type": "markdown",
   "metadata": {
    "id": "5LqL_0uWushe"
   },
   "source": [
    "*Exercise:* Define a list `L1 = [\"bacon\", \"eggs\"]`.\n",
    "\n",
    "predict the output of the following codes\n",
    "```python\n",
    "L1.append(\"juice\")\n",
    "or\n",
    "L1+'juice'\n",
    "or\n",
    "L1+['juice']\n",
    "or\n",
    "L1.insert(2,'juice')\n",
    "or\n",
    "L1.insert(2,['juice'])\n",
    "```"
   ]
  },
  {
   "cell_type": "code",
   "execution_count": null,
   "metadata": {
    "id": "vWg8olLivCeU"
   },
   "outputs": [],
   "source": [
    "L1 = [\"bacon\", \"eggs\"]\n",
    "# write codes to verify your prediction here\n"
   ]
  },
  {
   "cell_type": "markdown",
   "metadata": {
    "id": "pTMyUNaPsmny"
   },
   "source": [
    "###  1.5.4 Tuples and Strings are Immutable"
   ]
  },
  {
   "cell_type": "code",
   "execution_count": null,
   "metadata": {
    "id": "gABrejziWt5o"
   },
   "outputs": [],
   "source": [
    "'spam'[2] = 'u'"
   ]
  },
  {
   "cell_type": "code",
   "execution_count": null,
   "metadata": {
    "id": "NJOSNasCsmny",
    "scrolled": true
   },
   "outputs": [],
   "source": [
    "squares =  1, 4, 9, 16, 25\n",
    "squares[2] = 3"
   ]
  },
  {
   "cell_type": "markdown",
   "metadata": {
    "id": "FBxHg68gWt5t"
   },
   "source": [
    "\n",
    "## 1.6 Conversions\n",
    "\n",
    "We can convert between the different sequence types easily by using the type functions (e.g., `list()` and `tuple()`) to cast sequences to the desired types:"
   ]
  },
  {
   "cell_type": "code",
   "execution_count": null,
   "metadata": {
    "cell_style": "split",
    "id": "JG8OCZoJsmpJ"
   },
   "outputs": [],
   "source": [
    "list((1, 4, 9, 16, 25))"
   ]
  },
  {
   "cell_type": "code",
   "execution_count": null,
   "metadata": {
    "cell_style": "split",
    "id": "vrngCHCQsmpK"
   },
   "outputs": [],
   "source": [
    "list('string')"
   ]
  },
  {
   "cell_type": "code",
   "execution_count": null,
   "metadata": {
    "cell_style": "split",
    "id": "3MCjdaRSsmpL"
   },
   "outputs": [],
   "source": [
    "tuple(['apple', 'orange', 'banana', 'mango'])"
   ]
  },
  {
   "cell_type": "code",
   "execution_count": null,
   "metadata": {
    "cell_style": "split",
    "id": "rzYFzfK1smpM"
   },
   "outputs": [],
   "source": [
    "tuple('Python')"
   ]
  },
  {
   "cell_type": "markdown",
   "metadata": {
    "id": "iW6GH28LsmpN"
   },
   "source": [
    "Type functions are actually constructors of objects of the corresponding types.\n",
    "\n",
    "Calling a type function without an argument constructs an empty object of the corresponding type:"
   ]
  },
  {
   "cell_type": "code",
   "execution_count": null,
   "metadata": {
    "id": "-YMD-AXzxz1A"
   },
   "outputs": [],
   "source": [
    "list()"
   ]
  },
  {
   "cell_type": "code",
   "execution_count": null,
   "metadata": {
    "id": "5tkqaC6Qx1Ym"
   },
   "outputs": [],
   "source": [
    "tuple()"
   ]
  },
  {
   "cell_type": "markdown",
   "metadata": {
    "id": "qpeu6kEVsmoy"
   },
   "source": [
    "\n",
    "## 1.7 Unpacking Sequences\n",
    "\n",
    "Python has a very powerful assignment feature, called **sequence unpacking**, that allows a sequence of variables on the left of an assignment to be assigned values from a sequence on the right of the assignment:\n",
    "\n",
    "Unpacking is especially useful to assign values from a list/tuple to several variables."
   ]
  },
  {
   "cell_type": "code",
   "execution_count": null,
   "metadata": {
    "id": "wMKChZWjBkX3"
   },
   "outputs": [],
   "source": [
    "student = 'Bob', 19, 'Finance'\n",
    "name = student[0]\n",
    "age = student[1]\n",
    "study = student[2]"
   ]
  },
  {
   "cell_type": "code",
   "execution_count": null,
   "metadata": {
    "id": "sKaykWy6smoy"
   },
   "outputs": [],
   "source": [
    "student = 'Bob', 19, 'Finance'\n",
    "name, age, study = student"
   ]
  },
  {
   "cell_type": "markdown",
   "metadata": {
    "id": "Iyi4djvYsmo6"
   },
   "source": [
    "\n",
    "This does the equivalent of several assignment statements, all on one easy line.\n",
    "\n",
    "Unpacking is also useful to swap the values of multiple variables:"
   ]
  },
  {
   "cell_type": "code",
   "execution_count": null,
   "metadata": {
    "cell_style": "split",
    "id": "f7I4-flusmoz"
   },
   "outputs": [],
   "source": [
    "name"
   ]
  },
  {
   "cell_type": "code",
   "execution_count": null,
   "metadata": {
    "id": "wjbPjbbBecBV"
   },
   "outputs": [],
   "source": [
    "age"
   ]
  },
  {
   "cell_type": "code",
   "execution_count": null,
   "metadata": {
    "cell_style": "split",
    "id": "Xz8vK7Mesmo0"
   },
   "outputs": [],
   "source": [
    "study"
   ]
  },
  {
   "cell_type": "code",
   "execution_count": null,
   "metadata": {
    "id": "XVuXGENPWt6D"
   },
   "outputs": [],
   "source": [
    "age, study, name"
   ]
  },
  {
   "cell_type": "code",
   "execution_count": null,
   "metadata": {
    "id": "KcvYkvpJsmo6"
   },
   "outputs": [],
   "source": [
    "name, age, study = age, study, name  # swaps the values of three variables in a single step."
   ]
  },
  {
   "cell_type": "code",
   "execution_count": null,
   "metadata": {
    "id": "kiATR6YM3EK3"
   },
   "outputs": [],
   "source": [
    "name, age, study"
   ]
  },
  {
   "cell_type": "markdown",
   "metadata": {
    "id": "elLvgxrismo_"
   },
   "source": [
    "Unpacking can be done ***deeply***:"
   ]
  },
  {
   "cell_type": "code",
   "execution_count": null,
   "metadata": {
    "id": "idhsHMA-smpA"
   },
   "outputs": [],
   "source": [
    "(color, (coord_x, coord_y, coord_z)) = ['red', [1.2, 2.0, 3.9]]"
   ]
  },
  {
   "cell_type": "code",
   "execution_count": null,
   "metadata": {
    "id": "jOiDNps-smpC"
   },
   "outputs": [],
   "source": [
    "color, coord_y"
   ]
  },
  {
   "cell_type": "code",
   "execution_count": null,
   "metadata": {
    "id": "Ex_-ZYf6Wt6F"
   },
   "outputs": [],
   "source": [
    "color"
   ]
  },
  {
   "cell_type": "code",
   "execution_count": null,
   "metadata": {
    "id": "m9b5XjvNWt6F"
   },
   "outputs": [],
   "source": [
    "coord_x"
   ]
  },
  {
   "cell_type": "markdown",
   "metadata": {
    "id": "EA1NXFOZsmo2"
   },
   "source": [
    "\n",
    "\n",
    "When unpacking, the number of variables on the left must match the number of values in the sequence:"
   ]
  },
  {
   "cell_type": "code",
   "execution_count": null,
   "metadata": {
    "id": "ncDxsDXIsmo4"
   },
   "outputs": [],
   "source": [
    "name, age = student"
   ]
  },
  {
   "cell_type": "markdown",
   "metadata": {
    "id": "VCBeppbGsmpD"
   },
   "source": [
    "\n",
    "### The `*` Operator\n",
    "\n",
    "In Python, the `*` character is not only used for **multiplication** and **replication**, but also for unpacking/packing.\n",
    "\n",
    "- When used before a name on the left of an assignment, it creates a variable that gathers up any superfluous elements during sequence unpacking:"
   ]
  },
  {
   "cell_type": "code",
   "execution_count": null,
   "metadata": {
    "id": "IlhRHnposmpD"
   },
   "outputs": [],
   "source": [
    "numbers = (1, 2, 3, 4, 5)\n",
    "first, *rest = numbers"
   ]
  },
  {
   "cell_type": "code",
   "execution_count": null,
   "metadata": {
    "id": "nqhd3R5qRWG_"
   },
   "outputs": [],
   "source": [
    "first"
   ]
  },
  {
   "cell_type": "code",
   "execution_count": null,
   "metadata": {
    "id": "vkuiL8fDRWHC"
   },
   "outputs": [],
   "source": [
    "rest"
   ]
  },
  {
   "cell_type": "code",
   "execution_count": null,
   "metadata": {
    "id": "MKK6z4uGWt6H"
   },
   "outputs": [],
   "source": [
    "first, *middle, last = numbers\n",
    "middle"
   ]
  },
  {
   "cell_type": "code",
   "execution_count": null,
   "metadata": {
    "id": "DIFslb7ZsmpE"
   },
   "outputs": [],
   "source": [
    "head, *body, tail = 'abc'\n",
    "head, body, tail"
   ]
  },
  {
   "cell_type": "markdown",
   "metadata": {
    "id": "ksMYBWCHsmpG"
   },
   "source": [
    "> The starred variable always ends up ***containing a list***.\n",
    "\n"
   ]
  },
  {
   "cell_type": "markdown",
   "metadata": {
    "id": "rJwY7896fPbp"
   },
   "source": [
    "\n",
    "**<font color='steelblue' >Question</font>**: What does `first`, `remaining`, `others` hold after evaluating the following?\n",
    "\n",
    "```python\n",
    "fruits = ['apple', 'orange', 'banana', 'mango']\n",
    "((first, *remaining), *others) = fruits\n",
    "```"
   ]
  },
  {
   "cell_type": "code",
   "execution_count": null,
   "metadata": {
    "id": "8HA9Q1OQYyZx"
   },
   "outputs": [],
   "source": [
    "# write code here to verify\n",
    "fruits = ['apple', 'orange', 'banana', 'mango']\n",
    "((first, *remaining), *others) = fruits"
   ]
  },
  {
   "cell_type": "code",
   "execution_count": null,
   "metadata": {
    "id": "LA1g1oiBO1BK"
   },
   "outputs": [],
   "source": [
    "first"
   ]
  },
  {
   "cell_type": "code",
   "execution_count": null,
   "metadata": {
    "id": "JdFunpXzO2mu"
   },
   "outputs": [],
   "source": [
    "remaining"
   ]
  },
  {
   "cell_type": "code",
   "execution_count": null,
   "metadata": {
    "id": "toJYVmELO4Mw"
   },
   "outputs": [],
   "source": [
    "others"
   ]
  },
  {
   "cell_type": "markdown",
   "metadata": {
    "id": "fV2RsdkNMgoy"
   },
   "source": [
    "- When used before a sequence inside a list or tuple display, `*` unpacks its individual values:\n",
    "\n",
    "\n"
   ]
  },
  {
   "cell_type": "code",
   "execution_count": null,
   "metadata": {
    "id": "km2mWBQVR3rS"
   },
   "outputs": [],
   "source": [
    "rest, first"
   ]
  },
  {
   "cell_type": "code",
   "execution_count": null,
   "metadata": {
    "id": "CQq3XN2wRiCI"
   },
   "outputs": [],
   "source": [
    "*rest, first"
   ]
  },
  {
   "cell_type": "code",
   "execution_count": null,
   "metadata": {
    "id": "TKfvEu9ex1jW"
   },
   "outputs": [],
   "source": [
    "numbers"
   ]
  },
  {
   "cell_type": "code",
   "execution_count": null,
   "metadata": {
    "id": "Q6tD8RL2x2if"
   },
   "outputs": [],
   "source": [
    "body"
   ]
  },
  {
   "cell_type": "code",
   "execution_count": null,
   "metadata": {
    "id": "1cUTTYzJx4Kj"
   },
   "outputs": [],
   "source": [
    "[numbers, body]"
   ]
  },
  {
   "cell_type": "code",
   "execution_count": null,
   "metadata": {
    "id": "3adKPxR1x7-C"
   },
   "outputs": [],
   "source": [
    "[*numbers, *body]"
   ]
  },
  {
   "cell_type": "markdown",
   "metadata": {
    "id": "F19zAUc6lV4L"
   },
   "source": [
    "\n",
    "## 1.8 List Comprehensions\n",
    "\n",
    "List comprehension offers a **shorter syntax** when you want to create a new list based on the values of an existing list.\n",
    "\n",
    "As **expressions** that implement iteration protocol in Python, **comprehensions** allow a collection to be built from another collection by\n",
    "\n",
    "- iterating over the items in the source collection in turn;\n",
    "- in each iteration, dispensing one item from the source collection and running the item (that passes the test specified by the predicate) through the output expression;\n",
    "- and collecting all the results to form the new collection.\n",
    "\n",
    "An object that is capable of returining its members one at a time (or over which we can iterate) is called an **iterable**."
   ]
  },
  {
   "cell_type": "code",
   "execution_count": null,
   "metadata": {
    "id": "reypB2y0lV4M"
   },
   "outputs": [],
   "source": [
    "a_list = [1, '4', 9, 'a', 4]"
   ]
  },
  {
   "cell_type": "code",
   "execution_count": null,
   "metadata": {
    "id": "YnoMoZdbD9GJ"
   },
   "outputs": [],
   "source": [
    "out_ls = []\n",
    "for e in a_list:\n",
    "    if isinstance(e, int):\n",
    "        out_ls.append(e ** 2)\n",
    "out_ls"
   ]
  },
  {
   "cell_type": "code",
   "execution_count": null,
   "metadata": {
    "id": "aKB-hn9LWt6L"
   },
   "outputs": [],
   "source": [
    "isinstance(1, int)  #isinstance() allows you to judge if a value's data type is int"
   ]
  },
  {
   "cell_type": "code",
   "execution_count": null,
   "metadata": {
    "id": "BR9yhdSbRWHd"
   },
   "outputs": [],
   "source": [
    "[e ** 2 for e in a_list if isinstance(e, int)]"
   ]
  },
  {
   "cell_type": "markdown",
   "metadata": {
    "id": "Oqv-axMaRWHe"
   },
   "source": [
    "<img src=\"https://raw.githubusercontent.com/justinjiajia/img/master/python/comprehension.png\" width=500/>"
   ]
  },
  {
   "cell_type": "markdown",
   "metadata": {
    "id": "TKrPUgT9qupw"
   },
   "source": [
    "> We will introduce how to use \"for\" keywords in details later."
   ]
  },
  {
   "cell_type": "code",
   "execution_count": null,
   "metadata": {
    "cell_style": "center",
    "id": "ayE9FQjNRWHe"
   },
   "outputs": [],
   "source": [
    "[e * 2 for e in a_list]"
   ]
  },
  {
   "cell_type": "markdown",
   "metadata": {
    "id": "GBv4obW93DAM"
   },
   "source": [
    "*Exercise:* Use a list comprehension to create a new list called `slist` that contains the square of all odd numbers in `[0, 1, 2, 3, 4, 5, 6, 7, 8, 9, 10]`."
   ]
  },
  {
   "cell_type": "code",
   "execution_count": null,
   "metadata": {
    "id": "NMskYDiz3CEx"
   },
   "outputs": [],
   "source": [
    "# write your codes here\n"
   ]
  },
  {
   "cell_type": "markdown",
   "metadata": {
    "id": "MTV7p4iqEfdP"
   },
   "source": [
    "*Exercise:* Given the following list:\n",
    "\n",
    "```python\n",
    "fruits = ['apple', 'pear', 'peach', 'banana', 'apple',\n",
    "          'strawberry', 'lemon', 'apple', 'blueberry', 'banana']\n",
    "```\n",
    "\n",
    "Create a list that contains  berries only. The expected output is `['strawberry', 'blueberry']`.\n",
    "\n",
    " Hint: `'berry' in ...`"
   ]
  },
  {
   "cell_type": "code",
   "execution_count": null,
   "metadata": {
    "id": "4AgzgPUqElFU"
   },
   "outputs": [],
   "source": [
    "# write your codes here\n"
   ]
  },
  {
   "cell_type": "markdown",
   "metadata": {
    "id": "hVVD5_IshhJj"
   },
   "source": [
    "The input iterable can have nesting structures:"
   ]
  },
  {
   "cell_type": "code",
   "execution_count": null,
   "metadata": {
    "id": "fx4EQkZ3_8dW"
   },
   "outputs": [],
   "source": [
    "gradebook = [['Alice', 95], ['Troy', 92], ['James', 89], ['Charles', 100], ['Bryn', 59]]\n",
    "score_only = [pair[1] for pair in gradebook]\n",
    "score_only"
   ]
  },
  {
   "cell_type": "markdown",
   "metadata": {
    "id": "8WCmC0LzlV4P"
   },
   "source": [
    "\n",
    "\n",
    "\n",
    "The assignment of each item  to the **loop variable** can leverage sequence unpacking to make the handling of nested data easier:\n",
    "\n",
    "\n",
    "\n",
    "\n"
   ]
  },
  {
   "cell_type": "code",
   "execution_count": null,
   "metadata": {
    "id": "fpikH322Y46U"
   },
   "outputs": [],
   "source": [
    "gradebook = [['Alice', 95], ['Troy', 92], ['James', 89], ['Charles', 100], ['Bryn', 59]]\n",
    "name_only = [name for name, score in gradebook]\n",
    "name_only"
   ]
  },
  {
   "cell_type": "markdown",
   "metadata": {
    "id": "faMhFjx5E9da"
   },
   "source": [
    "**<font color='steelblue' >Question</font>**: Can you rewrite the following snippet that finds how many students earned scores above 80 with a single line of code?\n",
    "\n",
    "```python\n",
    "students_above_80 = []\n",
    "\n",
    "for name, score in gradebook:\n",
    "    if score >  80:\n",
    "        students_above_80.append(score)\n",
    "\n",
    "len(students_above_80)\n",
    "\n",
    "```"
   ]
  },
  {
   "cell_type": "code",
   "execution_count": null,
   "metadata": {
    "id": "SnM9h5J6FAKq"
   },
   "outputs": [],
   "source": [
    "# write your codes here\n"
   ]
  },
  {
   "cell_type": "markdown",
   "metadata": {
    "id": "HRMFdDLLFTT8"
   },
   "source": [
    "*Exercise*: how to use list comprehension to calculate the average score?"
   ]
  },
  {
   "cell_type": "code",
   "execution_count": null,
   "metadata": {
    "id": "ERs8VdXUlV4Q",
    "scrolled": true
   },
   "outputs": [],
   "source": [
    "# Calculate the average score\n"
   ]
  },
  {
   "cell_type": "markdown",
   "metadata": {
    "id": "c5lJ2QvK4jbh"
   },
   "source": [
    "**In-Class exercise:** Follow the logic, get average score of students whose score are below 90\n",
    "\n",
    "Hint:\n",
    "1. find all students whose score are below 90\n",
    "2. get the sum of their scores\n",
    "3. get the number of such students"
   ]
  },
  {
   "cell_type": "code",
   "execution_count": null,
   "metadata": {
    "id": "jVrSkzsx4k_V"
   },
   "outputs": [],
   "source": [
    "# write your codes here\n"
   ]
  },
  {
   "cell_type": "markdown",
   "metadata": {
    "id": "wyBuwQWnlV4U"
   },
   "source": [
    "Comprehensions also work with other collections (e.g., **dictionaries**, **sets**, etc.) as we will see."
   ]
  },
  {
   "cell_type": "markdown",
   "metadata": {
    "id": "YgHyLb35smpR"
   },
   "source": [
    "<br>\n",
    "\n",
    "# 2 Dictionaries\n",
    "\n",
    "\n",
    "| Name |  Income | Years | Criminal |\n",
    "|-----|-----|-----|-----|\n",
    "| Amy | 27 |4.2 |  No |  \n",
    "| Sam | 32 |1.5 |  No |\n",
    "|         ...         |\n",
    "\n"
   ]
  },
  {
   "cell_type": "code",
   "execution_count": null,
   "metadata": {
    "id": "ZnAPkqMlWt6R"
   },
   "outputs": [],
   "source": [
    "customer_1 = ['Amy', 27, 4.2, 'No']\n",
    "customer_2 = ['Sam', 32, 1.5, 'No']"
   ]
  },
  {
   "cell_type": "markdown",
   "metadata": {
    "id": "qgp3SIJZWt6R"
   },
   "source": [
    "But why not attach labels to individual items to reflect the meaning of our data:"
   ]
  },
  {
   "cell_type": "code",
   "execution_count": null,
   "metadata": {
    "id": "F1fjEmxGWt6R"
   },
   "outputs": [],
   "source": [
    "customer_1 = {'name': 'Amy', 'income': 27, 'years': 4.2, 'criminal': 'No'}\n",
    "customer_2 = {'name': 'Sam', 'income': 32, 'years': 1.5, 'criminal': 'No'}"
   ]
  },
  {
   "cell_type": "markdown",
   "metadata": {
    "id": "Zltbs4GSWt6R"
   },
   "source": [
    "It leads to a new data structure supported by Python, called **dictionaries**.\n",
    "\n",
    "A dictionary is a container that maps a set of labels called **keys** to a set of values. The dictionary is **not a sequence type**.\n",
    "\n",
    "The association of a key and a value is called a **key-value pair**, and a dictionary can be defined by using the `{key: value}` syntax:"
   ]
  },
  {
   "cell_type": "code",
   "execution_count": null,
   "metadata": {
    "id": "XEASBFL2smpR"
   },
   "outputs": [],
   "source": [
    "gradebook = {'Alice': 95, 'Troy': 90, 'James': 89}\n",
    "gradebook"
   ]
  },
  {
   "cell_type": "code",
   "execution_count": null,
   "metadata": {
    "id": "oIBhNHCHsmpS"
   },
   "outputs": [],
   "source": [
    "type(gradebook)"
   ]
  },
  {
   "cell_type": "markdown",
   "metadata": {
    "id": "nYq63ynk5tRJ"
   },
   "source": [
    "We can also create an empty dict by using d=dict() or d={}"
   ]
  },
  {
   "cell_type": "code",
   "execution_count": null,
   "metadata": {
    "id": "cmCvv8WS5vTR"
   },
   "outputs": [],
   "source": [
    "newdict1 = dict()\n",
    "type(newdict1)"
   ]
  },
  {
   "cell_type": "code",
   "execution_count": null,
   "metadata": {
    "id": "1cZ7w0KoNdP0"
   },
   "outputs": [],
   "source": [
    "newdict2 = {}\n",
    "type(newdict2)"
   ]
  },
  {
   "cell_type": "markdown",
   "metadata": {
    "id": "ZTL_-UVVsmpT"
   },
   "source": [
    "Dictionary keys are ***unique*** and can be any ***immutable*** data type (e.g., numbers, strings, Booleans, tuples containing only immutable elements):"
   ]
  },
  {
   "cell_type": "code",
   "execution_count": 4,
   "metadata": {
    "id": "XO-Iy4KwsmpU",
    "scrolled": true
   },
   "outputs": [
    {
     "data": {
      "text/plain": [
       "{1: 'one', 2: 'dos', 3: 'tres'}"
      ]
     },
     "execution_count": 4,
     "metadata": {},
     "output_type": "execute_result"
    }
   ],
   "source": [
    "spnum = {1: 'uno', 2: 'dos', 3: 'tres', 1: 'one'}\n",
    "spnum"
   ]
  },
  {
   "cell_type": "code",
   "execution_count": null,
   "metadata": {
    "id": "EhwcHgZC-ZYg"
   },
   "outputs": [],
   "source": [
    "{[1]: 'uno', 2: 'dos', 3: 'tres'}"
   ]
  },
  {
   "cell_type": "markdown",
   "metadata": {
    "id": "DM33a9uQsmpY"
   },
   "source": [
    "\n",
    "## 2.1 Indexing\n",
    "\n",
    "Unlike **sequences**, which are indexed by a range of integers, dictionaries are  ***indexed by keys***:"
   ]
  },
  {
   "cell_type": "code",
   "execution_count": null,
   "metadata": {
    "id": "FVw9nd4VGgeg"
   },
   "outputs": [],
   "source": [
    "gradebook"
   ]
  },
  {
   "cell_type": "code",
   "execution_count": null,
   "metadata": {
    "cell_style": "split",
    "id": "WGIQX2kNsmpZ"
   },
   "outputs": [],
   "source": [
    "# values can be accessed via keys\n",
    "gradebook['James']"
   ]
  },
  {
   "cell_type": "code",
   "execution_count": null,
   "metadata": {
    "cell_style": "split",
    "id": "yOPvz80fsmpa",
    "scrolled": true
   },
   "outputs": [],
   "source": [
    "# cannot be accessed by position\n",
    "gradebook[2]"
   ]
  },
  {
   "cell_type": "markdown",
   "metadata": {
    "id": "Nvh6eGjHsmpb"
   },
   "source": [
    "Similar to lists, dictionaries (more precisely, dictionary values) are ***mutable*** and can grow and shrink as needed.\n",
    "\n",
    "Assigning a new value to an existing key updates an entry:"
   ]
  },
  {
   "cell_type": "code",
   "execution_count": null,
   "metadata": {
    "id": "nOwpX9kiWt6W"
   },
   "outputs": [],
   "source": [
    "gradebook"
   ]
  },
  {
   "cell_type": "code",
   "execution_count": null,
   "metadata": {
    "cell_style": "split",
    "id": "eRVOhjOnsmpd"
   },
   "outputs": [],
   "source": [
    "gradebook['Troy'] = 92\n",
    "gradebook"
   ]
  },
  {
   "cell_type": "code",
   "execution_count": null,
   "metadata": {
    "cell_style": "split",
    "id": "8GmjBbZ1hhJv"
   },
   "outputs": [],
   "source": [
    "spnum = {1: 'one', 2: 'dos', 3: 'tres'}\n",
    "spnum[1] = 'uno'\n",
    "spnum"
   ]
  },
  {
   "cell_type": "markdown",
   "metadata": {
    "id": "dm6gPWK8Wt6X"
   },
   "source": [
    "Assigning a new key and value adds an entry:"
   ]
  },
  {
   "cell_type": "code",
   "execution_count": null,
   "metadata": {
    "cell_style": "split",
    "id": "pnRQC7jJsmpb"
   },
   "outputs": [],
   "source": [
    "gradebook['Charles'] = 100\n",
    "gradebook"
   ]
  },
  {
   "cell_type": "code",
   "execution_count": null,
   "metadata": {
    "cell_style": "split",
    "id": "mAN3T2HHhhJt"
   },
   "outputs": [],
   "source": [
    "spnum[4] = 'cuatro'\n",
    "spnum"
   ]
  },
  {
   "cell_type": "markdown",
   "metadata": {
    "id": "FH7T2mb9smpf"
   },
   "source": [
    "Delete an entry with `del` statement and dictionary indexing:"
   ]
  },
  {
   "cell_type": "code",
   "execution_count": null,
   "metadata": {
    "cell_style": "split",
    "id": "sf8QmdYfsmpf"
   },
   "outputs": [],
   "source": [
    "del gradebook['Charles']\n",
    "gradebook"
   ]
  },
  {
   "cell_type": "code",
   "execution_count": null,
   "metadata": {
    "cell_style": "split",
    "id": "VhusMz9IhhJx"
   },
   "outputs": [],
   "source": [
    "del spnum[4]\n",
    "spnum"
   ]
  },
  {
   "cell_type": "markdown",
   "metadata": {
    "id": "PHXi052tsmph"
   },
   "source": [
    "Python dictionaries are nestable and versatile:"
   ]
  },
  {
   "cell_type": "code",
   "execution_count": null,
   "metadata": {
    "id": "s7wUyV4Fsmph"
   },
   "outputs": [],
   "source": [
    "person = {'fname': 'Joe', 'lname': 'Fonebone', 'age': 51, 'spouse': 'Edna', 'children': ['Ralph', 'Betty', 'Joey'],\n",
    "          'pets': {'dog': {'name': 'Fido', True: ['healthy', 'lovely']}, 'cat': 'Sox'},\n",
    "          ('email', 'mobile'): 'contact info'}\n",
    "person"
   ]
  },
  {
   "cell_type": "markdown",
   "metadata": {
    "id": "25BJ69hBsmpk"
   },
   "source": [
    "Simply append additional indicies or keys to retrieve values in a subsequence or subdictionary:"
   ]
  },
  {
   "cell_type": "code",
   "execution_count": null,
   "metadata": {
    "id": "ia7oPYt1smpl"
   },
   "outputs": [],
   "source": [
    "person['pets']['dog'][True][1]"
   ]
  },
  {
   "cell_type": "markdown",
   "metadata": {
    "id": "BCJAJcGq7Mk1"
   },
   "source": [
    "*Exercise:* Use indexing operations to:\n",
    "1. print the content 'Betty'.\n",
    "2. delete the entry of the 'cat'."
   ]
  },
  {
   "cell_type": "code",
   "execution_count": null,
   "metadata": {
    "id": "BDd5Rcg47XKL"
   },
   "outputs": [],
   "source": [
    "# write your codes here\n"
   ]
  },
  {
   "cell_type": "code",
   "execution_count": null,
   "metadata": {
    "id": "8kNYMlvO-heA"
   },
   "outputs": [],
   "source": []
  },
  {
   "cell_type": "markdown",
   "metadata": {
    "id": "yE6-9QyMsmpq"
   },
   "source": [
    "\n",
    "## 2.2 Working with Operators and Built-in Functions"
   ]
  },
  {
   "cell_type": "markdown",
   "metadata": {
    "id": "KSQfY3YUsmpq"
   },
   "source": [
    "Many of the operators and built-in functions that can be used with sequences work with dictionaries as well. But they operate ***primarily on keys of dictionaries***:\n",
    "\n",
    "- The membership operator: `in` or `not in`"
   ]
  },
  {
   "cell_type": "code",
   "execution_count": null,
   "metadata": {
    "cell_style": "split",
    "id": "mD4eAJXBsmpq"
   },
   "outputs": [],
   "source": [
    "gradebook"
   ]
  },
  {
   "cell_type": "code",
   "execution_count": null,
   "metadata": {
    "cell_style": "split",
    "id": "OZANsgxyhhJ4"
   },
   "outputs": [],
   "source": [
    "spnum"
   ]
  },
  {
   "cell_type": "code",
   "execution_count": null,
   "metadata": {
    "cell_style": "split",
    "id": "93FPtWKDsmpr"
   },
   "outputs": [],
   "source": [
    "'Troy' in gradebook"
   ]
  },
  {
   "cell_type": "code",
   "execution_count": null,
   "metadata": {
    "cell_style": "split",
    "id": "zesbqCHmsmpu"
   },
   "outputs": [],
   "source": [
    "'dos' in spnum"
   ]
  },
  {
   "cell_type": "markdown",
   "metadata": {
    "id": "smFX60K_smpu"
   },
   "source": [
    "- The `*` operator:"
   ]
  },
  {
   "cell_type": "code",
   "execution_count": null,
   "metadata": {
    "cell_style": "split",
    "id": "UOmvcShzsmpv",
    "scrolled": true
   },
   "outputs": [],
   "source": [
    "head, *middle, tail = gradebook\n",
    "head, middle, tail"
   ]
  },
  {
   "cell_type": "code",
   "execution_count": null,
   "metadata": {
    "id": "2gvSGf3zo5Wv"
   },
   "outputs": [],
   "source": [
    "head, *middle, tail"
   ]
  },
  {
   "cell_type": "code",
   "execution_count": null,
   "metadata": {
    "cell_style": "split",
    "id": "ZqxHc4lthhJ7"
   },
   "outputs": [],
   "source": [
    "first, *rest = spnum\n",
    "first, rest"
   ]
  },
  {
   "cell_type": "code",
   "execution_count": null,
   "metadata": {
    "id": "7cUbTYi2BBRu"
   },
   "outputs": [],
   "source": [
    "first, *rest"
   ]
  },
  {
   "cell_type": "markdown",
   "metadata": {
    "id": "1QjonRsXsmpy"
   },
   "source": [
    "- The following shows the effects of common built-in fucntions when working with dictionaries:"
   ]
  },
  {
   "cell_type": "code",
   "execution_count": null,
   "metadata": {
    "cell_style": "split",
    "id": "e8QJnTKIsmpy"
   },
   "outputs": [],
   "source": [
    "max(gradebook)"
   ]
  },
  {
   "cell_type": "code",
   "execution_count": null,
   "metadata": {
    "cell_style": "split",
    "id": "80HODaL8smpy"
   },
   "outputs": [],
   "source": [
    "min(spnum)"
   ]
  },
  {
   "cell_type": "code",
   "execution_count": null,
   "metadata": {
    "cell_style": "split",
    "id": "ii_AhqQ2smpz"
   },
   "outputs": [],
   "source": [
    "sorted(gradebook)"
   ]
  },
  {
   "cell_type": "code",
   "execution_count": null,
   "metadata": {
    "cell_style": "split",
    "id": "tPGTMV-tsmpz"
   },
   "outputs": [],
   "source": [
    "len(spnum)"
   ]
  },
  {
   "cell_type": "markdown",
   "metadata": {
    "id": "nG6Hd4DIJXP2"
   },
   "source": [
    "- We can use the `|` operator to create a new dictionary by merging two existing dictionaries:"
   ]
  },
  {
   "cell_type": "code",
   "execution_count": null,
   "metadata": {
    "id": "_VP14vZwJXwS"
   },
   "outputs": [],
   "source": [
    "gradebook = {'Alice': 95, 'Troy': 90, 'James': 89}\n",
    "gradebook | {'Charles': 100}  # insert 'Charles'"
   ]
  },
  {
   "cell_type": "code",
   "execution_count": null,
   "metadata": {
    "id": "MPPHwa-XJZ7E"
   },
   "outputs": [],
   "source": [
    "gradebook | {'Alice': 100} # update the value of 'Alice'"
   ]
  },
  {
   "cell_type": "code",
   "execution_count": null,
   "metadata": {
    "id": "B_pqxV3VJjI8"
   },
   "outputs": [],
   "source": [
    "gradebook  # | operator did not change the value of gradebook"
   ]
  },
  {
   "cell_type": "markdown",
   "metadata": {
    "id": "EOivQLuPJ7Ry"
   },
   "source": [
    "To update a dictionary with entries from another dictionary, we can use its compound assignment form `|=`, similar to `+=`, `-=`"
   ]
  },
  {
   "cell_type": "code",
   "execution_count": null,
   "metadata": {
    "id": "Ym3nl3p-J974"
   },
   "outputs": [],
   "source": [
    "gradebook |= {'Charles': 100} #  gradebook =  gradebook | {'Charles': 100}\n",
    "gradebook"
   ]
  },
  {
   "cell_type": "markdown",
   "metadata": {
    "id": "dG-Ayd3-smp1"
   },
   "source": [
    "\n",
    "## 2.3 Dictionary Methods\n",
    "\n",
    "As with lists and tuples, there are several built-in methods that can be invoked on dictionaries.\n",
    "\n",
    "Call `dir()` to list all the names available for a dictionary object:"
   ]
  },
  {
   "cell_type": "code",
   "execution_count": null,
   "metadata": {
    "id": "mS6mWsD5smp2"
   },
   "outputs": [],
   "source": [
    "dir(gradebook)"
   ]
  },
  {
   "cell_type": "markdown",
   "metadata": {
    "id": "RALfTHposmp3"
   },
   "source": [
    "\n",
    "\n",
    "- [`.get(<key>[, <default>])`](https://docs.python.org/3/library/stdtypes.html#dict.get) returns the value for `key` if `key` is present, else `default` (defaulting to `None`):"
   ]
  },
  {
   "cell_type": "code",
   "execution_count": 1,
   "metadata": {
    "id": "S_G-bh5KYgbq"
   },
   "outputs": [
    {
     "data": {
      "text/plain": [
       "{'Alice': 95, 'Troy': 92, 'James': 89}"
      ]
     },
     "execution_count": 1,
     "metadata": {},
     "output_type": "execute_result"
    }
   ],
   "source": [
    "gradebook = {'Alice': 95, 'Troy': 92, 'James': 89}\n",
    "gradebook"
   ]
  },
  {
   "cell_type": "code",
   "execution_count": 2,
   "metadata": {
    "id": "FXyYsHPtsmp3",
    "scrolled": true
   },
   "outputs": [
    {
     "ename": "KeyError",
     "evalue": "'Bryn'",
     "output_type": "error",
     "traceback": [
      "\u001b[1;31m---------------------------------------------------------------------------\u001b[0m",
      "\u001b[1;31mKeyError\u001b[0m                                  Traceback (most recent call last)",
      "Cell \u001b[1;32mIn[2], line 1\u001b[0m\n\u001b[1;32m----> 1\u001b[0m gradebook[\u001b[38;5;124m'\u001b[39m\u001b[38;5;124mBryn\u001b[39m\u001b[38;5;124m'\u001b[39m]\n",
      "\u001b[1;31mKeyError\u001b[0m: 'Bryn'"
     ]
    }
   ],
   "source": [
    "gradebook['Bryn']"
   ]
  },
  {
   "cell_type": "code",
   "execution_count": 3,
   "metadata": {
    "cell_style": "split",
    "id": "h-r_AYuAsmp3"
   },
   "outputs": [],
   "source": [
    "gradebook.get('Bryn') # return nothing but won't interrupt exectution"
   ]
  },
  {
   "cell_type": "code",
   "execution_count": null,
   "metadata": {
    "id": "InkUVPuWKZ-_"
   },
   "outputs": [],
   "source": [
    "gradebook.get('Alice')"
   ]
  },
  {
   "cell_type": "code",
   "execution_count": null,
   "metadata": {
    "cell_style": "split",
    "id": "dVa2J9zWsmp4"
   },
   "outputs": [],
   "source": [
    "gradebook.get('Bryn', 0)  # return 0"
   ]
  },
  {
   "cell_type": "markdown",
   "metadata": {
    "id": "D0NEVia7G7cX"
   },
   "source": [
    "**<font color='steelblue' >Question</font>**: Given the following list:\n",
    "\n",
    "```python\n",
    "fruits = ['apple', 'pear', 'peach', 'banana', 'apple',\n",
    "          'strawberry', 'lemon', 'apple', 'blueberry', 'banana']\n",
    "```\n",
    "\n",
    "Write code to count the number of duplicates for each unique fruit. Use a Python dictionary to maintain each pair of the fruit name and its count.\n",
    "\n",
    "The expected output is as follows:\n",
    "\n",
    "```python\n",
    "{'apple': 3, 'pear': 1, 'peach': 1, 'banana': 2, 'strawberry': 1,\n",
    " 'lemon': 1, 'blueberry': 1}\n",
    "```"
   ]
  },
  {
   "cell_type": "code",
   "execution_count": null,
   "metadata": {
    "id": "FF3h3BljHDX0"
   },
   "outputs": [],
   "source": [
    "fruits = ['apple', 'pear', 'peach', 'banana', 'apple',\n",
    "          'strawberry', 'lemon', 'apple', 'blueberry', 'banana']\n",
    "\n",
    "# write your code below (hint: use for loop)\n",
    "\n"
   ]
  },
  {
   "cell_type": "code",
   "execution_count": null,
   "metadata": {
    "id": "LI-yqTmmLAZ0"
   },
   "outputs": [],
   "source": [
    "#equivalently using .get() method\n"
   ]
  },
  {
   "cell_type": "markdown",
   "metadata": {
    "id": "RfN5bPM6RWIH"
   },
   "source": [
    "\n",
    "### Methods for Dictionary Traversals\n",
    "\n",
    "We'll often be in situations where we want to traverse the keys and values of a dictionary separately.\n"
   ]
  },
  {
   "cell_type": "markdown",
   "metadata": {
    "id": "woXSa_OPsmqP"
   },
   "source": [
    "- [`values()`](https://docs.python.org/3/library/stdtypes.html#dict.keys) ([`keys()`](https://docs.python.org/3/library/stdtypes.html#dict.keys)) returns a **dictionary view** consisting of only `value`s (`key`s):"
   ]
  },
  {
   "cell_type": "code",
   "execution_count": 5,
   "metadata": {
    "cell_style": "split",
    "id": "CRdErOAXsmqP"
   },
   "outputs": [
    {
     "data": {
      "text/plain": [
       "dict_values(['one', 'dos', 'tres'])"
      ]
     },
     "execution_count": 5,
     "metadata": {},
     "output_type": "execute_result"
    }
   ],
   "source": [
    "spnum.values()   # a dictionary view object"
   ]
  },
  {
   "cell_type": "code",
   "execution_count": 6,
   "metadata": {
    "cell_style": "split",
    "id": "JAa3uScHsmqP"
   },
   "outputs": [
    {
     "data": {
      "text/plain": [
       "dict_keys([1, 2, 3])"
      ]
     },
     "execution_count": 6,
     "metadata": {},
     "output_type": "execute_result"
    }
   ],
   "source": [
    "spnum.keys()"
   ]
  },
  {
   "cell_type": "markdown",
   "metadata": {
    "id": "IyIF53FPRWIM"
   },
   "source": [
    "Dictionary views are read-only and dynamic. They will be updated when we modify the dictionary from which they are derived."
   ]
  },
  {
   "cell_type": "markdown",
   "metadata": {
    "id": "1asuTyS8smqL"
   },
   "source": [
    "- [`items()`](https://docs.python.org/3/library/stdtypes.html#dict.items) returns a **dictionary view** consisting of `(key, value)` pairs:"
   ]
  },
  {
   "cell_type": "code",
   "execution_count": 7,
   "metadata": {
    "cell_style": "split",
    "id": "R8QULhAlRWIJ"
   },
   "outputs": [
    {
     "data": {
      "text/plain": [
       "dict_items([('Alice', 95), ('Troy', 92), ('James', 89)])"
      ]
     },
     "execution_count": 7,
     "metadata": {},
     "output_type": "execute_result"
    }
   ],
   "source": [
    "gradebook.items()"
   ]
  },
  {
   "cell_type": "code",
   "execution_count": null,
   "metadata": {
    "cell_style": "split",
    "id": "cSImmHVzsmqL"
   },
   "outputs": [],
   "source": [
    "spnum.items()"
   ]
  },
  {
   "cell_type": "markdown",
   "metadata": {
    "id": "7eZDyPcmRWIM"
   },
   "source": [
    "Dictionary views can be iterated over to yield their respective data:"
   ]
  },
  {
   "cell_type": "code",
   "execution_count": null,
   "metadata": {
    "id": "Moqiih_qMFYG"
   },
   "outputs": [],
   "source": [
    "gradebook = {'Alice': 95, 'Troy': 92, 'James': 89}\n",
    "gradebook"
   ]
  },
  {
   "cell_type": "code",
   "execution_count": null,
   "metadata": {
    "id": "YqM99xb8MGw1"
   },
   "outputs": [],
   "source": [
    "gradebook.items()"
   ]
  },
  {
   "cell_type": "code",
   "execution_count": null,
   "metadata": {
    "id": "voEkL8PtMITB"
   },
   "outputs": [],
   "source": [
    "output_ls = []\n",
    "for name, score in gradebook.items():\n",
    "    output_ls.append((name, score + 5))\n",
    "output_ls"
   ]
  },
  {
   "cell_type": "code",
   "execution_count": null,
   "metadata": {
    "id": "gTYdQV_0RWIM"
   },
   "outputs": [],
   "source": [
    "[(name, score + 5) for name, score in gradebook.items()]"
   ]
  },
  {
   "cell_type": "markdown",
   "metadata": {
    "id": "0EDgCykfRWIN"
   },
   "source": [
    "We can use the dictionary-like syntax in comprehensions (i.e., **dictionary comprehensions**) to construct new dictionaries from existing ones:"
   ]
  },
  {
   "cell_type": "code",
   "execution_count": null,
   "metadata": {
    "id": "Y2iPoaB6RWIN"
   },
   "outputs": [],
   "source": [
    "{name: score + 5 for name, score in gradebook.items()}"
   ]
  },
  {
   "cell_type": "markdown",
   "metadata": {
    "id": "l88aW2dcsmqR"
   },
   "source": [
    "\n",
    "## 2.4 Conversions\n",
    "\n",
    "\n",
    "A dictionary can also be constructed by casting a collection of key-value pairs to the `dict` type with the `dict()` function:"
   ]
  },
  {
   "cell_type": "code",
   "execution_count": null,
   "metadata": {
    "cell_style": "center",
    "id": "0ZnVvVaqsmqR"
   },
   "outputs": [],
   "source": [
    "dict([(\"red\", 34), (\"green\", 30), (\"brown\", 31)])  # or dict(((\"red\", 34), (\"green\", 30), (\"brown\", 31)))"
   ]
  },
  {
   "cell_type": "markdown",
   "metadata": {
    "id": "9RMCmL0ssmqS"
   },
   "source": [
    "We have to be more careful when converting a dictionary to a collection of other types:"
   ]
  },
  {
   "cell_type": "code",
   "execution_count": null,
   "metadata": {
    "id": "ck_LCtnQsmqS"
   },
   "outputs": [],
   "source": [
    "marbles = dict([(\"red\", 34), (\"green\", 30), (\"brown\", 31)])\n",
    "marbles"
   ]
  },
  {
   "cell_type": "code",
   "execution_count": null,
   "metadata": {
    "id": "EAuly_C1smqT"
   },
   "outputs": [],
   "source": [
    "list(marbles)           # the keys will be used by default"
   ]
  },
  {
   "cell_type": "code",
   "execution_count": null,
   "metadata": {
    "cell_style": "split",
    "id": "HYFEWGLSsmqU"
   },
   "outputs": [],
   "source": [
    "# use a view to get the values\n",
    "tuple(marbles.values())"
   ]
  },
  {
   "cell_type": "code",
   "execution_count": null,
   "metadata": {
    "cell_style": "split",
    "id": "HFwi3xc4smqU",
    "scrolled": true
   },
   "outputs": [],
   "source": [
    "# or the key-value pairs\n",
    "list(marbles.items())"
   ]
  },
  {
   "cell_type": "markdown",
   "metadata": {
    "id": "BtEc5PLNsmqZ"
   },
   "source": [
    "\n",
    "<br>\n",
    "\n",
    "# 3 Sets\n",
    "\n",
    "A set is an ***unordered***, ***mutable*** collection of ***distinct immutable*** elements.\n",
    "\n",
    "***Non-empty*** sets can be created by using the curly brace notation (`{}`):\n"
   ]
  },
  {
   "cell_type": "code",
   "execution_count": null,
   "metadata": {
    "id": "RnTDmCYXWt6w"
   },
   "outputs": [],
   "source": [
    "integers = {5, 2, 3, 1, 4, 2}\n",
    "integers # The duplicate is eliminated"
   ]
  },
  {
   "cell_type": "code",
   "execution_count": null,
   "metadata": {
    "id": "7VMI_oEnsmqa"
   },
   "outputs": [],
   "source": [
    "type(integers)"
   ]
  },
  {
   "cell_type": "code",
   "execution_count": null,
   "metadata": {
    "id": "SLyPbM6zWt6w"
   },
   "outputs": [],
   "source": [
    "mammals = {'cat', 'dog', 'rabbit', 'pig', 'cat'}\n",
    "mammals # The duplicate is eliminated"
   ]
  },
  {
   "cell_type": "markdown",
   "metadata": {
    "id": "PhQcDDY_ZX4g"
   },
   "source": [
    "An ***empty*** set can only be defined with the `set()` function."
   ]
  },
  {
   "cell_type": "code",
   "execution_count": null,
   "metadata": {
    "id": "i0k9cDF2ZYqo"
   },
   "outputs": [],
   "source": [
    "type({})"
   ]
  },
  {
   "cell_type": "code",
   "execution_count": null,
   "metadata": {
    "id": "bGSB6VtzroBa"
   },
   "outputs": [],
   "source": [
    "type(set())"
   ]
  },
  {
   "cell_type": "code",
   "execution_count": null,
   "metadata": {
    "id": "18MKryUl4nEt"
   },
   "outputs": [],
   "source": [
    "set(fruits * 3)"
   ]
  },
  {
   "cell_type": "markdown",
   "metadata": {
    "id": "SSOOhg9Csmqc"
   },
   "source": [
    "\n",
    "\n",
    "\n",
    "The elements in a set can be objects of different types. But they must be ***immutable***:"
   ]
  },
  {
   "cell_type": "code",
   "execution_count": null,
   "metadata": {
    "cell_style": "split",
    "id": "Kpy77DVssmqc"
   },
   "outputs": [],
   "source": [
    "{42, 'ham', 3.14159, None, ('Amy', True)}"
   ]
  },
  {
   "cell_type": "code",
   "execution_count": null,
   "metadata": {
    "cell_style": "split",
    "id": "QhEcHsiosmqd"
   },
   "outputs": [],
   "source": [
    "{42, 'ham', 3.14159, None, ['Amy', True]}  # lists are mutable and cannot be the elements in a set"
   ]
  },
  {
   "cell_type": "markdown",
   "metadata": {
    "id": "iuPE67Nosmqe"
   },
   "source": [
    "\n",
    "\n",
    "Like other collections, sets support membership operators `in` and `not in` and built-in function `len()`:\n"
   ]
  },
  {
   "cell_type": "code",
   "execution_count": null,
   "metadata": {
    "cell_style": "split",
    "id": "EX0Z4_6lsmqf"
   },
   "outputs": [],
   "source": [
    "mammals = {'cat', 'dog', 'pig', 'rabbit'}\n",
    "'parrot' not in mammals"
   ]
  },
  {
   "cell_type": "code",
   "execution_count": null,
   "metadata": {
    "cell_style": "split",
    "id": "3j19HYzzsmqe"
   },
   "outputs": [],
   "source": [
    "integers = {1, 2, 3, 4, 5}\n",
    "len(integers)"
   ]
  },
  {
   "cell_type": "markdown",
   "metadata": {
    "id": "r6_V3Kxmsmqf"
   },
   "source": [
    "However, sets do not support indexing, slicing, or other ***sequence-like*** behavior, because they do not record element position or order of insertion."
   ]
  }
 ],
 "metadata": {
  "colab": {
   "provenance": [],
   "toc_visible": true
  },
  "kernelspec": {
   "display_name": "base",
   "language": "python",
   "name": "python3"
  },
  "language_info": {
   "codemirror_mode": {
    "name": "ipython",
    "version": 3
   },
   "file_extension": ".py",
   "mimetype": "text/x-python",
   "name": "python",
   "nbconvert_exporter": "python",
   "pygments_lexer": "ipython3",
   "version": "3.12.7"
  }
 },
 "nbformat": 4,
 "nbformat_minor": 0
}

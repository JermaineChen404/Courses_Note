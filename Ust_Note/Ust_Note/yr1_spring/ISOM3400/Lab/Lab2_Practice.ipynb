{
  "nbformat": 4,
  "nbformat_minor": 0,
  "metadata": {
    "colab": {
      "provenance": [],
      "toc_visible": true
    },
    "kernelspec": {
      "name": "python3",
      "display_name": "Python 3"
    },
    "language_info": {
      "name": "python"
    }
  },
  "cells": [
    {
      "cell_type": "markdown",
      "source": [
        "## **String Indexing**"
      ],
      "metadata": {
        "id": "k_MATlNLE7M7"
      }
    },
    {
      "cell_type": "code",
      "execution_count": null,
      "metadata": {
        "id": "bA8xDDto8PO5"
      },
      "outputs": [],
      "source": [
        "string_ex = \"3400ezA+\""
      ]
    },
    {
      "cell_type": "code",
      "source": [
        "string_ex[6]"
      ],
      "metadata": {
        "id": "J1thjunc2zFc"
      },
      "execution_count": null,
      "outputs": []
    },
    {
      "cell_type": "code",
      "source": [
        "string_ex[6:7]"
      ],
      "metadata": {
        "id": "1CqNy2Tw24aP"
      },
      "execution_count": null,
      "outputs": []
    },
    {
      "cell_type": "code",
      "source": [
        "string_ex[6:8]"
      ],
      "metadata": {
        "id": "wl8PPmah27UY"
      },
      "execution_count": null,
      "outputs": []
    },
    {
      "cell_type": "code",
      "source": [
        "string_ex[6:]"
      ],
      "metadata": {
        "id": "X3_eC0dG2-P0"
      },
      "execution_count": null,
      "outputs": []
    },
    {
      "cell_type": "code",
      "source": [
        "string_ex2 = '=^c.h^0'"
      ],
      "metadata": {
        "id": "G4Xs5EN4Ax2v"
      },
      "execution_count": null,
      "outputs": []
    },
    {
      "cell_type": "code",
      "source": [
        "#Slicing\n"
      ],
      "metadata": {
        "id": "w4YDY8sfA8Ig"
      },
      "execution_count": null,
      "outputs": []
    },
    {
      "cell_type": "code",
      "source": [
        "#Negative Indexing\n"
      ],
      "metadata": {
        "id": "RVv5fvOBBrEk"
      },
      "execution_count": null,
      "outputs": []
    },
    {
      "cell_type": "code",
      "source": [
        "#Positive/Negative Indexing\n"
      ],
      "metadata": {
        "id": "8iKq8B7UEx-J"
      },
      "execution_count": null,
      "outputs": []
    },
    {
      "cell_type": "markdown",
      "source": [
        "# **String Indexing Practice**"
      ],
      "metadata": {
        "id": "-d9WeneYlaUK"
      }
    },
    {
      "cell_type": "markdown",
      "source": [
        "**Q1**. Extract the song name ***You’re Still The One*** from the html text"
      ],
      "metadata": {
        "id": "_q_Tt84dNWW-"
      }
    },
    {
      "cell_type": "code",
      "source": [
        "html_text = '''\n",
        "<yt-formatted-string force-default-style=\"\" class=\"style-scope ytd-watch-metadata\">\n",
        "Shania Twain - You’re Still The One (Official Music Video)\n",
        "</yt-formatted-string>\n",
        "'''"
      ],
      "metadata": {
        "id": "LeLX41ZPFIlj"
      },
      "execution_count": null,
      "outputs": []
    },
    {
      "cell_type": "code",
      "source": [
        "#Ans\n"
      ],
      "metadata": {
        "id": "KzJZL1f7OCFe"
      },
      "execution_count": null,
      "outputs": []
    },
    {
      "cell_type": "markdown",
      "source": [
        "**Q2a. Extract every fifth character, starting from the second**\n",
        "\n",
        "\n",
        "\n",
        "    Expected Output: 'hsfion w,u  rd'"
      ],
      "metadata": {
        "id": "tR9bE1nNVXYF"
      }
    },
    {
      "cell_type": "code",
      "source": [
        "Sample_text = 'This is my favorite book in all the world, though I have never read it'"
      ],
      "metadata": {
        "id": "KtNgWUOMS1T6"
      },
      "execution_count": null,
      "outputs": []
    },
    {
      "cell_type": "code",
      "source": [
        "#Ans\n"
      ],
      "metadata": {
        "id": "KL3bnVgOkuFd"
      },
      "execution_count": null,
      "outputs": []
    },
    {
      "cell_type": "markdown",
      "source": [
        "**Q2b. Extract every fourth character, starting from the tenth character**\n",
        "\n",
        "    Expected Output: 'yvtoilho,o anrat'"
      ],
      "metadata": {
        "id": "x3I37xJklOBH"
      }
    },
    {
      "cell_type": "code",
      "source": [
        "Sample_text = 'This is my favorite book in all the world, though I have never read it'"
      ],
      "metadata": {
        "id": "w9mNlzkFriMa"
      },
      "execution_count": null,
      "outputs": []
    },
    {
      "cell_type": "code",
      "source": [
        "#Ans\n"
      ],
      "metadata": {
        "id": "4MmS7d7KlMRy"
      },
      "execution_count": null,
      "outputs": []
    }
  ]
}
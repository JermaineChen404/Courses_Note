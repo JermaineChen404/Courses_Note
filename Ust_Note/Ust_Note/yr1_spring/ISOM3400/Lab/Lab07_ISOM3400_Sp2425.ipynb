{
  "nbformat": 4,
  "nbformat_minor": 0,
  "metadata": {
    "colab": {
      "provenance": []
    },
    "kernelspec": {
      "name": "python3",
      "display_name": "Python 3"
    },
    "language_info": {
      "name": "python"
    }
  },
  "cells": [
    {
      "cell_type": "markdown",
      "source": [
        "## Base Program\n",
        "\n",
        "Write a Python program that\n",
        "\n",
        "1. asks for the student's **score** and **major**. (using input function)\n",
        "\n",
        "2. Determine the student's grade using the grading schemes below. Note that the two departments have different grading schemes. Assign the student's letter grade to a variable called **grade** (using if-else)\n",
        "\n",
        "3. Print out the final result (using print function and f-string)\n",
        "\n",
        "### For the **ACCT** department:\n",
        "- **A:** 90 and above\n",
        "- **B:** 80 to 89\n",
        "- **C:** 70 to 79\n",
        "- **D:** 60 to 69\n",
        "- **F:** Below 60\n",
        "\n",
        "### For the **IS** department:\n",
        "- **A:** 95 and above\n",
        "- **B:** 85 to 94\n",
        "- **C:** 75 to 84\n",
        "- **D:** 65 to 74\n",
        "- **F:** Below 65\n",
        "\n",
        "\n",
        "### Example Input/Output:\n",
        "\n",
        "Please enter your score: 88\n",
        "\n",
        "Please enter your major (ACCT or IS): IS\n",
        "\n",
        "You are from the IS department. Your grade is B."
      ],
      "metadata": {
        "id": "x_90ALqiu2ih"
      }
    },
    {
      "cell_type": "code",
      "source": [
        "#Step 1 ask the two questions\n",
        "\n",
        "\n",
        "#Step 2 create a scheme useing if and else, ACCT is given\n",
        "\n",
        "#ACCT\n",
        "if major == 'ACCT':\n",
        "  if score >= 90:\n",
        "      grade = 'A'\n",
        "  elif score >= 80:\n",
        "      grade = 'B'\n",
        "  elif score >= 70:\n",
        "      grade = 'C'\n",
        "  elif score >= 60:\n",
        "      grade = 'D'\n",
        "  else:\n",
        "      grade = 'F'\n",
        "#IS\n",
        "\n",
        "\n",
        "\n",
        "#Step 3 print out final result\n"
      ],
      "metadata": {
        "id": "kN5SWr-Qvdl_"
      },
      "execution_count": null,
      "outputs": []
    },
    {
      "cell_type": "markdown",
      "source": [
        "##**Implement try except**\n",
        "\n",
        "1. when the user enters a score that is obviously wrong. Ex: abc\n",
        "2. when the user enters a score that is not obviously wrong python. Ex: 101\n",
        "3.when the user enters a major that is not **ACCT** or **IS**"
      ],
      "metadata": {
        "id": "Yw8I89rz8m1A"
      }
    },
    {
      "cell_type": "code",
      "source": [],
      "metadata": {
        "id": "W7X4OrYknHgb"
      },
      "execution_count": null,
      "outputs": []
    },
    {
      "cell_type": "markdown",
      "source": [
        "##Convert the program into a function"
      ],
      "metadata": {
        "id": "Jgdy9iKrBmMY"
      }
    },
    {
      "cell_type": "code",
      "source": [
        "#takes no arguments"
      ],
      "metadata": {
        "id": "9UQlCCdEA2rr"
      },
      "execution_count": null,
      "outputs": []
    },
    {
      "cell_type": "code",
      "source": [],
      "metadata": {
        "id": "Elc5KgdAJe1p"
      },
      "execution_count": null,
      "outputs": []
    },
    {
      "cell_type": "code",
      "source": [],
      "metadata": {
        "id": "crvvwV3Zd9PM"
      },
      "execution_count": null,
      "outputs": []
    },
    {
      "cell_type": "code",
      "source": [],
      "metadata": {
        "id": "GiAmKQmxeFAe"
      },
      "execution_count": null,
      "outputs": []
    },
    {
      "cell_type": "code",
      "source": [
        "#use function arguments insteaed of input function\n",
        "#use return\n"
      ],
      "metadata": {
        "id": "aE6jNVsrGH7S"
      },
      "execution_count": null,
      "outputs": []
    },
    {
      "cell_type": "code",
      "source": [],
      "metadata": {
        "id": "EQnP_b8sv1R1"
      },
      "execution_count": null,
      "outputs": []
    },
    {
      "cell_type": "code",
      "source": [],
      "metadata": {
        "id": "fARchuuMfHq4"
      },
      "execution_count": null,
      "outputs": []
    },
    {
      "cell_type": "code",
      "source": [],
      "metadata": {
        "id": "ikdoPe8cfRdd"
      },
      "execution_count": null,
      "outputs": []
    },
    {
      "cell_type": "code",
      "source": [],
      "metadata": {
        "id": "OmhTdXByfUO-"
      },
      "execution_count": null,
      "outputs": []
    },
    {
      "cell_type": "markdown",
      "source": [
        "##Create a class for the function"
      ],
      "metadata": {
        "id": "agKcXpcUgE-g"
      }
    },
    {
      "cell_type": "code",
      "source": [
        "a = 1"
      ],
      "metadata": {
        "id": "3DzH86HkgpcQ"
      },
      "execution_count": null,
      "outputs": []
    },
    {
      "cell_type": "code",
      "source": [
        "b = 'abc'"
      ],
      "metadata": {
        "id": "cXfengKqnl5T"
      },
      "execution_count": null,
      "outputs": []
    },
    {
      "cell_type": "code",
      "source": [
        "c = [1,2,3]"
      ],
      "metadata": {
        "id": "X_-ttsVxgpWQ"
      },
      "execution_count": null,
      "outputs": []
    },
    {
      "cell_type": "code",
      "source": [
        "b.capitalize()"
      ],
      "metadata": {
        "id": "x3ZfwyFpgpR_"
      },
      "execution_count": null,
      "outputs": []
    },
    {
      "cell_type": "code",
      "source": [
        "b.append(4)"
      ],
      "metadata": {
        "id": "4IPkxWeGgpOA"
      },
      "execution_count": null,
      "outputs": []
    },
    {
      "cell_type": "code",
      "source": [
        "c.append(4)"
      ],
      "metadata": {
        "id": "fvmSmDwOJzqq"
      },
      "execution_count": null,
      "outputs": []
    },
    {
      "cell_type": "code",
      "source": [
        "c.capitalize()"
      ],
      "metadata": {
        "id": "v2Mptn8-w9OK"
      },
      "execution_count": null,
      "outputs": []
    },
    {
      "cell_type": "code",
      "source": [],
      "metadata": {
        "id": "758BmOGyquRb"
      },
      "execution_count": null,
      "outputs": []
    },
    {
      "cell_type": "code",
      "source": [],
      "metadata": {
        "id": "QLsCkfi-quOl"
      },
      "execution_count": null,
      "outputs": []
    },
    {
      "cell_type": "code",
      "source": [],
      "metadata": {
        "id": "CLH6EvxuquMZ"
      },
      "execution_count": null,
      "outputs": []
    },
    {
      "cell_type": "code",
      "source": [],
      "metadata": {
        "id": "3VKwmTdJquJw"
      },
      "execution_count": null,
      "outputs": []
    },
    {
      "cell_type": "code",
      "source": [],
      "metadata": {
        "id": "gGqsY3dsquHB"
      },
      "execution_count": null,
      "outputs": []
    }
  ]
}
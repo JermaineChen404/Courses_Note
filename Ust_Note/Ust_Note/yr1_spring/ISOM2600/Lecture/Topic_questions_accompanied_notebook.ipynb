{
  "cells": [
    {
      "cell_type": "markdown",
      "metadata": {
        "id": "1jxp2XntBEak"
      },
      "source": [
        "## Data Visualization"
      ]
    },
    {
      "cell_type": "code",
      "execution_count": null,
      "metadata": {
        "id": "Rkv_N_EoBEap"
      },
      "outputs": [],
      "source": [
        "import pandas as pd\n",
        "import matplotlib.pyplot as plt\n",
        "from google.colab import data_table\n",
        "# enable interactive format for DataFrame\n",
        "data_table.enable_dataframe_formatter()"
      ]
    },
    {
      "cell_type": "code",
      "source": [
        "url = 'https://drive.google.com/file/d/1FRc6gSBhuXI2CrfUgujsh4Sw30g3YhVr/view?usp=sharing'\n",
        "stockdata= 'https://drive.google.com/uc?export=download&id='+url.split('/')[-2]"
      ],
      "metadata": {
        "id": "vGbAcpylBX2t"
      },
      "execution_count": null,
      "outputs": []
    },
    {
      "cell_type": "code",
      "execution_count": null,
      "metadata": {
        "id": "MfqQm5e3BEas"
      },
      "outputs": [],
      "source": [
        "# read data\n",
        "stocks=pd.read_csv(stockdata, index_col=0)"
      ]
    },
    {
      "cell_type": "code",
      "execution_count": null,
      "metadata": {
        "colab": {
          "base_uri": "https://localhost:8080/",
          "height": 196
        },
        "id": "FzwiB4gmBEat",
        "outputId": "5689f96c-e57a-48e0-853a-42ec17169ed8"
      },
      "outputs": [
        {
          "output_type": "execute_result",
          "data": {
            "text/plain": [
              "              nikkei    aord       nyse      dax     ftse  hangseng    sp500  \\\n",
              "2013-09-06  13860.81  5144.0  9420.3480  8234.98  6547.33  22621.22  1655.08   \n",
              "2013-09-09  14205.23  5179.4  9420.3480  8234.98  6530.74  22750.65  1655.08   \n",
              "2013-09-10  14423.36  5198.9  9539.9320  8276.32  6583.99  22976.65  1671.71   \n",
              "2013-09-11  14425.07  5230.6  9620.7100  8446.54  6588.43  22937.14  1683.99   \n",
              "2013-09-12  14387.27  5238.2  9655.3774  8495.73  6588.98  22953.72  1689.13   \n",
              "\n",
              "                djia  \n",
              "2013-09-06  14937.48  \n",
              "2013-09-09  14937.48  \n",
              "2013-09-10  15063.12  \n",
              "2013-09-11  15191.06  \n",
              "2013-09-12  15326.60  "
            ],
            "text/html": [
              "\n",
              "  <div id=\"df-08e1bf68-00df-4dd3-91f8-ff0865cd66dc\">\n",
              "    <div class=\"colab-df-container\">\n",
              "      <div>\n",
              "<style scoped>\n",
              "    .dataframe tbody tr th:only-of-type {\n",
              "        vertical-align: middle;\n",
              "    }\n",
              "\n",
              "    .dataframe tbody tr th {\n",
              "        vertical-align: top;\n",
              "    }\n",
              "\n",
              "    .dataframe thead th {\n",
              "        text-align: right;\n",
              "    }\n",
              "</style>\n",
              "<table border=\"1\" class=\"dataframe\">\n",
              "  <thead>\n",
              "    <tr style=\"text-align: right;\">\n",
              "      <th></th>\n",
              "      <th>nikkei</th>\n",
              "      <th>aord</th>\n",
              "      <th>nyse</th>\n",
              "      <th>dax</th>\n",
              "      <th>ftse</th>\n",
              "      <th>hangseng</th>\n",
              "      <th>sp500</th>\n",
              "      <th>djia</th>\n",
              "    </tr>\n",
              "  </thead>\n",
              "  <tbody>\n",
              "    <tr>\n",
              "      <th>2013-09-06</th>\n",
              "      <td>13860.81</td>\n",
              "      <td>5144.0</td>\n",
              "      <td>9420.3480</td>\n",
              "      <td>8234.98</td>\n",
              "      <td>6547.33</td>\n",
              "      <td>22621.22</td>\n",
              "      <td>1655.08</td>\n",
              "      <td>14937.48</td>\n",
              "    </tr>\n",
              "    <tr>\n",
              "      <th>2013-09-09</th>\n",
              "      <td>14205.23</td>\n",
              "      <td>5179.4</td>\n",
              "      <td>9420.3480</td>\n",
              "      <td>8234.98</td>\n",
              "      <td>6530.74</td>\n",
              "      <td>22750.65</td>\n",
              "      <td>1655.08</td>\n",
              "      <td>14937.48</td>\n",
              "    </tr>\n",
              "    <tr>\n",
              "      <th>2013-09-10</th>\n",
              "      <td>14423.36</td>\n",
              "      <td>5198.9</td>\n",
              "      <td>9539.9320</td>\n",
              "      <td>8276.32</td>\n",
              "      <td>6583.99</td>\n",
              "      <td>22976.65</td>\n",
              "      <td>1671.71</td>\n",
              "      <td>15063.12</td>\n",
              "    </tr>\n",
              "    <tr>\n",
              "      <th>2013-09-11</th>\n",
              "      <td>14425.07</td>\n",
              "      <td>5230.6</td>\n",
              "      <td>9620.7100</td>\n",
              "      <td>8446.54</td>\n",
              "      <td>6588.43</td>\n",
              "      <td>22937.14</td>\n",
              "      <td>1683.99</td>\n",
              "      <td>15191.06</td>\n",
              "    </tr>\n",
              "    <tr>\n",
              "      <th>2013-09-12</th>\n",
              "      <td>14387.27</td>\n",
              "      <td>5238.2</td>\n",
              "      <td>9655.3774</td>\n",
              "      <td>8495.73</td>\n",
              "      <td>6588.98</td>\n",
              "      <td>22953.72</td>\n",
              "      <td>1689.13</td>\n",
              "      <td>15326.60</td>\n",
              "    </tr>\n",
              "  </tbody>\n",
              "</table>\n",
              "</div>\n",
              "      <button class=\"colab-df-convert\" onclick=\"convertToInteractive('df-08e1bf68-00df-4dd3-91f8-ff0865cd66dc')\"\n",
              "              title=\"Convert this dataframe to an interactive table.\"\n",
              "              style=\"display:none;\">\n",
              "        \n",
              "  <svg xmlns=\"http://www.w3.org/2000/svg\" height=\"24px\"viewBox=\"0 0 24 24\"\n",
              "       width=\"24px\">\n",
              "    <path d=\"M0 0h24v24H0V0z\" fill=\"none\"/>\n",
              "    <path d=\"M18.56 5.44l.94 2.06.94-2.06 2.06-.94-2.06-.94-.94-2.06-.94 2.06-2.06.94zm-11 1L8.5 8.5l.94-2.06 2.06-.94-2.06-.94L8.5 2.5l-.94 2.06-2.06.94zm10 10l.94 2.06.94-2.06 2.06-.94-2.06-.94-.94-2.06-.94 2.06-2.06.94z\"/><path d=\"M17.41 7.96l-1.37-1.37c-.4-.4-.92-.59-1.43-.59-.52 0-1.04.2-1.43.59L10.3 9.45l-7.72 7.72c-.78.78-.78 2.05 0 2.83L4 21.41c.39.39.9.59 1.41.59.51 0 1.02-.2 1.41-.59l7.78-7.78 2.81-2.81c.8-.78.8-2.07 0-2.86zM5.41 20L4 18.59l7.72-7.72 1.47 1.35L5.41 20z\"/>\n",
              "  </svg>\n",
              "      </button>\n",
              "      \n",
              "  <style>\n",
              "    .colab-df-container {\n",
              "      display:flex;\n",
              "      flex-wrap:wrap;\n",
              "      gap: 12px;\n",
              "    }\n",
              "\n",
              "    .colab-df-convert {\n",
              "      background-color: #E8F0FE;\n",
              "      border: none;\n",
              "      border-radius: 50%;\n",
              "      cursor: pointer;\n",
              "      display: none;\n",
              "      fill: #1967D2;\n",
              "      height: 32px;\n",
              "      padding: 0 0 0 0;\n",
              "      width: 32px;\n",
              "    }\n",
              "\n",
              "    .colab-df-convert:hover {\n",
              "      background-color: #E2EBFA;\n",
              "      box-shadow: 0px 1px 2px rgba(60, 64, 67, 0.3), 0px 1px 3px 1px rgba(60, 64, 67, 0.15);\n",
              "      fill: #174EA6;\n",
              "    }\n",
              "\n",
              "    [theme=dark] .colab-df-convert {\n",
              "      background-color: #3B4455;\n",
              "      fill: #D2E3FC;\n",
              "    }\n",
              "\n",
              "    [theme=dark] .colab-df-convert:hover {\n",
              "      background-color: #434B5C;\n",
              "      box-shadow: 0px 1px 3px 1px rgba(0, 0, 0, 0.15);\n",
              "      filter: drop-shadow(0px 1px 2px rgba(0, 0, 0, 0.3));\n",
              "      fill: #FFFFFF;\n",
              "    }\n",
              "  </style>\n",
              "\n",
              "      <script>\n",
              "        const buttonEl =\n",
              "          document.querySelector('#df-08e1bf68-00df-4dd3-91f8-ff0865cd66dc button.colab-df-convert');\n",
              "        buttonEl.style.display =\n",
              "          google.colab.kernel.accessAllowed ? 'block' : 'none';\n",
              "\n",
              "        async function convertToInteractive(key) {\n",
              "          const element = document.querySelector('#df-08e1bf68-00df-4dd3-91f8-ff0865cd66dc');\n",
              "          const dataTable =\n",
              "            await google.colab.kernel.invokeFunction('convertToInteractive',\n",
              "                                                     [key], {});\n",
              "          if (!dataTable) return;\n",
              "\n",
              "          const docLinkHtml = 'Like what you see? Visit the ' +\n",
              "            '<a target=\"_blank\" href=https://colab.research.google.com/notebooks/data_table.ipynb>data table notebook</a>'\n",
              "            + ' to learn more about interactive tables.';\n",
              "          element.innerHTML = '';\n",
              "          dataTable['output_type'] = 'display_data';\n",
              "          await google.colab.output.renderOutput(dataTable, element);\n",
              "          const docLink = document.createElement('div');\n",
              "          docLink.innerHTML = docLinkHtml;\n",
              "          element.appendChild(docLink);\n",
              "        }\n",
              "      </script>\n",
              "    </div>\n",
              "  </div>\n",
              "  "
            ],
            "application/vnd.google.colaboratory.module+javascript": "\n      import \"https://ssl.gstatic.com/colaboratory/data_table/81f25a011006ed3d/data_table.js\";\n\n      window.createDataTable({\n        data: [[\"2013-09-06\",\n{\n            'v': 13860.81,\n            'f': \"13860.81\",\n        },\n{\n            'v': 5144.0,\n            'f': \"5144.0\",\n        },\n{\n            'v': 9420.348,\n            'f': \"9420.348\",\n        },\n{\n            'v': 8234.98,\n            'f': \"8234.98\",\n        },\n{\n            'v': 6547.33,\n            'f': \"6547.33\",\n        },\n{\n            'v': 22621.22,\n            'f': \"22621.22\",\n        },\n{\n            'v': 1655.08,\n            'f': \"1655.08\",\n        },\n{\n            'v': 14937.48,\n            'f': \"14937.48\",\n        }],\n [\"2013-09-09\",\n{\n            'v': 14205.23,\n            'f': \"14205.23\",\n        },\n{\n            'v': 5179.4,\n            'f': \"5179.4\",\n        },\n{\n            'v': 9420.348,\n            'f': \"9420.348\",\n        },\n{\n            'v': 8234.98,\n            'f': \"8234.98\",\n        },\n{\n            'v': 6530.74,\n            'f': \"6530.74\",\n        },\n{\n            'v': 22750.65,\n            'f': \"22750.65\",\n        },\n{\n            'v': 1655.08,\n            'f': \"1655.08\",\n        },\n{\n            'v': 14937.48,\n            'f': \"14937.48\",\n        }],\n [\"2013-09-10\",\n{\n            'v': 14423.36,\n            'f': \"14423.36\",\n        },\n{\n            'v': 5198.9,\n            'f': \"5198.9\",\n        },\n{\n            'v': 9539.932,\n            'f': \"9539.932\",\n        },\n{\n            'v': 8276.32,\n            'f': \"8276.32\",\n        },\n{\n            'v': 6583.99,\n            'f': \"6583.99\",\n        },\n{\n            'v': 22976.65,\n            'f': \"22976.65\",\n        },\n{\n            'v': 1671.71,\n            'f': \"1671.71\",\n        },\n{\n            'v': 15063.12,\n            'f': \"15063.12\",\n        }],\n [\"2013-09-11\",\n{\n            'v': 14425.07,\n            'f': \"14425.07\",\n        },\n{\n            'v': 5230.6,\n            'f': \"5230.6\",\n        },\n{\n            'v': 9620.71,\n            'f': \"9620.71\",\n        },\n{\n            'v': 8446.54,\n            'f': \"8446.54\",\n        },\n{\n            'v': 6588.43,\n            'f': \"6588.43\",\n        },\n{\n            'v': 22937.14,\n            'f': \"22937.14\",\n        },\n{\n            'v': 1683.99,\n            'f': \"1683.99\",\n        },\n{\n            'v': 15191.06,\n            'f': \"15191.06\",\n        }],\n [\"2013-09-12\",\n{\n            'v': 14387.27,\n            'f': \"14387.27\",\n        },\n{\n            'v': 5238.2,\n            'f': \"5238.2\",\n        },\n{\n            'v': 9655.3774,\n            'f': \"9655.3774\",\n        },\n{\n            'v': 8495.73,\n            'f': \"8495.73\",\n        },\n{\n            'v': 6588.98,\n            'f': \"6588.98\",\n        },\n{\n            'v': 22953.72,\n            'f': \"22953.72\",\n        },\n{\n            'v': 1689.13,\n            'f': \"1689.13\",\n        },\n{\n            'v': 15326.6,\n            'f': \"15326.6\",\n        }]],\n        columns: [[\"string\", \"index\"], [\"number\", \"nikkei\"], [\"number\", \"aord\"], [\"number\", \"nyse\"], [\"number\", \"dax\"], [\"number\", \"ftse\"], [\"number\", \"hangseng\"], [\"number\", \"sp500\"], [\"number\", \"djia\"]],\n        columnOptions: [{\"width\": \"1px\", \"className\": \"index_column\"}],\n        rowsPerPage: 25,\n        helpUrl: \"https://colab.research.google.com/notebooks/data_table.ipynb\",\n        suppressOutputScrolling: true,\n        minimumWidth: undefined,\n      });\n    "
          },
          "metadata": {},
          "execution_count": 5
        }
      ],
      "source": [
        "stocks.head()"
      ]
    },
    {
      "cell_type": "code",
      "source": [],
      "metadata": {
        "id": "BqsVJ8vIBFsV"
      },
      "execution_count": null,
      "outputs": []
    },
    {
      "cell_type": "markdown",
      "metadata": {
        "id": "Qs3_st-7BEau"
      },
      "source": [
        "### Hitogram"
      ]
    },
    {
      "cell_type": "markdown",
      "metadata": {
        "id": "DBshF7ltBEav"
      },
      "source": [
        "We fist get the simple rate of return for hangseng."
      ]
    },
    {
      "cell_type": "code",
      "execution_count": null,
      "metadata": {
        "colab": {
          "base_uri": "https://localhost:8080/",
          "height": 196
        },
        "id": "4NED47PsBEaw",
        "outputId": "5740f7f2-0438-439d-ade1-db02c3bf9bb0"
      },
      "outputs": [
        {
          "output_type": "execute_result",
          "data": {
            "text/plain": [
              "              nikkei    aord       nyse      dax     ftse  hangseng    sp500  \\\n",
              "2013-09-06  13860.81  5144.0  9420.3480  8234.98  6547.33  22621.22  1655.08   \n",
              "2013-09-09  14205.23  5179.4  9420.3480  8234.98  6530.74  22750.65  1655.08   \n",
              "2013-09-10  14423.36  5198.9  9539.9320  8276.32  6583.99  22976.65  1671.71   \n",
              "2013-09-11  14425.07  5230.6  9620.7100  8446.54  6588.43  22937.14  1683.99   \n",
              "2013-09-12  14387.27  5238.2  9655.3774  8495.73  6588.98  22953.72  1689.13   \n",
              "\n",
              "                djia  hangseng_return  \n",
              "2013-09-06  14937.48              NaN  \n",
              "2013-09-09  14937.48         0.005722  \n",
              "2013-09-10  15063.12         0.009934  \n",
              "2013-09-11  15191.06        -0.001720  \n",
              "2013-09-12  15326.60         0.000723  "
            ],
            "text/html": [
              "\n",
              "  <div id=\"df-1db33f6b-3e21-40c9-a08f-ffd8eb6c4b4a\">\n",
              "    <div class=\"colab-df-container\">\n",
              "      <div>\n",
              "<style scoped>\n",
              "    .dataframe tbody tr th:only-of-type {\n",
              "        vertical-align: middle;\n",
              "    }\n",
              "\n",
              "    .dataframe tbody tr th {\n",
              "        vertical-align: top;\n",
              "    }\n",
              "\n",
              "    .dataframe thead th {\n",
              "        text-align: right;\n",
              "    }\n",
              "</style>\n",
              "<table border=\"1\" class=\"dataframe\">\n",
              "  <thead>\n",
              "    <tr style=\"text-align: right;\">\n",
              "      <th></th>\n",
              "      <th>nikkei</th>\n",
              "      <th>aord</th>\n",
              "      <th>nyse</th>\n",
              "      <th>dax</th>\n",
              "      <th>ftse</th>\n",
              "      <th>hangseng</th>\n",
              "      <th>sp500</th>\n",
              "      <th>djia</th>\n",
              "      <th>hangseng_return</th>\n",
              "    </tr>\n",
              "  </thead>\n",
              "  <tbody>\n",
              "    <tr>\n",
              "      <th>2013-09-06</th>\n",
              "      <td>13860.81</td>\n",
              "      <td>5144.0</td>\n",
              "      <td>9420.3480</td>\n",
              "      <td>8234.98</td>\n",
              "      <td>6547.33</td>\n",
              "      <td>22621.22</td>\n",
              "      <td>1655.08</td>\n",
              "      <td>14937.48</td>\n",
              "      <td>NaN</td>\n",
              "    </tr>\n",
              "    <tr>\n",
              "      <th>2013-09-09</th>\n",
              "      <td>14205.23</td>\n",
              "      <td>5179.4</td>\n",
              "      <td>9420.3480</td>\n",
              "      <td>8234.98</td>\n",
              "      <td>6530.74</td>\n",
              "      <td>22750.65</td>\n",
              "      <td>1655.08</td>\n",
              "      <td>14937.48</td>\n",
              "      <td>0.005722</td>\n",
              "    </tr>\n",
              "    <tr>\n",
              "      <th>2013-09-10</th>\n",
              "      <td>14423.36</td>\n",
              "      <td>5198.9</td>\n",
              "      <td>9539.9320</td>\n",
              "      <td>8276.32</td>\n",
              "      <td>6583.99</td>\n",
              "      <td>22976.65</td>\n",
              "      <td>1671.71</td>\n",
              "      <td>15063.12</td>\n",
              "      <td>0.009934</td>\n",
              "    </tr>\n",
              "    <tr>\n",
              "      <th>2013-09-11</th>\n",
              "      <td>14425.07</td>\n",
              "      <td>5230.6</td>\n",
              "      <td>9620.7100</td>\n",
              "      <td>8446.54</td>\n",
              "      <td>6588.43</td>\n",
              "      <td>22937.14</td>\n",
              "      <td>1683.99</td>\n",
              "      <td>15191.06</td>\n",
              "      <td>-0.001720</td>\n",
              "    </tr>\n",
              "    <tr>\n",
              "      <th>2013-09-12</th>\n",
              "      <td>14387.27</td>\n",
              "      <td>5238.2</td>\n",
              "      <td>9655.3774</td>\n",
              "      <td>8495.73</td>\n",
              "      <td>6588.98</td>\n",
              "      <td>22953.72</td>\n",
              "      <td>1689.13</td>\n",
              "      <td>15326.60</td>\n",
              "      <td>0.000723</td>\n",
              "    </tr>\n",
              "  </tbody>\n",
              "</table>\n",
              "</div>\n",
              "      <button class=\"colab-df-convert\" onclick=\"convertToInteractive('df-1db33f6b-3e21-40c9-a08f-ffd8eb6c4b4a')\"\n",
              "              title=\"Convert this dataframe to an interactive table.\"\n",
              "              style=\"display:none;\">\n",
              "        \n",
              "  <svg xmlns=\"http://www.w3.org/2000/svg\" height=\"24px\"viewBox=\"0 0 24 24\"\n",
              "       width=\"24px\">\n",
              "    <path d=\"M0 0h24v24H0V0z\" fill=\"none\"/>\n",
              "    <path d=\"M18.56 5.44l.94 2.06.94-2.06 2.06-.94-2.06-.94-.94-2.06-.94 2.06-2.06.94zm-11 1L8.5 8.5l.94-2.06 2.06-.94-2.06-.94L8.5 2.5l-.94 2.06-2.06.94zm10 10l.94 2.06.94-2.06 2.06-.94-2.06-.94-.94-2.06-.94 2.06-2.06.94z\"/><path d=\"M17.41 7.96l-1.37-1.37c-.4-.4-.92-.59-1.43-.59-.52 0-1.04.2-1.43.59L10.3 9.45l-7.72 7.72c-.78.78-.78 2.05 0 2.83L4 21.41c.39.39.9.59 1.41.59.51 0 1.02-.2 1.41-.59l7.78-7.78 2.81-2.81c.8-.78.8-2.07 0-2.86zM5.41 20L4 18.59l7.72-7.72 1.47 1.35L5.41 20z\"/>\n",
              "  </svg>\n",
              "      </button>\n",
              "      \n",
              "  <style>\n",
              "    .colab-df-container {\n",
              "      display:flex;\n",
              "      flex-wrap:wrap;\n",
              "      gap: 12px;\n",
              "    }\n",
              "\n",
              "    .colab-df-convert {\n",
              "      background-color: #E8F0FE;\n",
              "      border: none;\n",
              "      border-radius: 50%;\n",
              "      cursor: pointer;\n",
              "      display: none;\n",
              "      fill: #1967D2;\n",
              "      height: 32px;\n",
              "      padding: 0 0 0 0;\n",
              "      width: 32px;\n",
              "    }\n",
              "\n",
              "    .colab-df-convert:hover {\n",
              "      background-color: #E2EBFA;\n",
              "      box-shadow: 0px 1px 2px rgba(60, 64, 67, 0.3), 0px 1px 3px 1px rgba(60, 64, 67, 0.15);\n",
              "      fill: #174EA6;\n",
              "    }\n",
              "\n",
              "    [theme=dark] .colab-df-convert {\n",
              "      background-color: #3B4455;\n",
              "      fill: #D2E3FC;\n",
              "    }\n",
              "\n",
              "    [theme=dark] .colab-df-convert:hover {\n",
              "      background-color: #434B5C;\n",
              "      box-shadow: 0px 1px 3px 1px rgba(0, 0, 0, 0.15);\n",
              "      filter: drop-shadow(0px 1px 2px rgba(0, 0, 0, 0.3));\n",
              "      fill: #FFFFFF;\n",
              "    }\n",
              "  </style>\n",
              "\n",
              "      <script>\n",
              "        const buttonEl =\n",
              "          document.querySelector('#df-1db33f6b-3e21-40c9-a08f-ffd8eb6c4b4a button.colab-df-convert');\n",
              "        buttonEl.style.display =\n",
              "          google.colab.kernel.accessAllowed ? 'block' : 'none';\n",
              "\n",
              "        async function convertToInteractive(key) {\n",
              "          const element = document.querySelector('#df-1db33f6b-3e21-40c9-a08f-ffd8eb6c4b4a');\n",
              "          const dataTable =\n",
              "            await google.colab.kernel.invokeFunction('convertToInteractive',\n",
              "                                                     [key], {});\n",
              "          if (!dataTable) return;\n",
              "\n",
              "          const docLinkHtml = 'Like what you see? Visit the ' +\n",
              "            '<a target=\"_blank\" href=https://colab.research.google.com/notebooks/data_table.ipynb>data table notebook</a>'\n",
              "            + ' to learn more about interactive tables.';\n",
              "          element.innerHTML = '';\n",
              "          dataTable['output_type'] = 'display_data';\n",
              "          await google.colab.output.renderOutput(dataTable, element);\n",
              "          const docLink = document.createElement('div');\n",
              "          docLink.innerHTML = docLinkHtml;\n",
              "          element.appendChild(docLink);\n",
              "        }\n",
              "      </script>\n",
              "    </div>\n",
              "  </div>\n",
              "  "
            ],
            "application/vnd.google.colaboratory.module+javascript": "\n      import \"https://ssl.gstatic.com/colaboratory/data_table/81f25a011006ed3d/data_table.js\";\n\n      window.createDataTable({\n        data: [[\"2013-09-06\",\n{\n            'v': 13860.81,\n            'f': \"13860.81\",\n        },\n{\n            'v': 5144.0,\n            'f': \"5144.0\",\n        },\n{\n            'v': 9420.348,\n            'f': \"9420.348\",\n        },\n{\n            'v': 8234.98,\n            'f': \"8234.98\",\n        },\n{\n            'v': 6547.33,\n            'f': \"6547.33\",\n        },\n{\n            'v': 22621.22,\n            'f': \"22621.22\",\n        },\n{\n            'v': 1655.08,\n            'f': \"1655.08\",\n        },\n{\n            'v': 14937.48,\n            'f': \"14937.48\",\n        },\n{\n            'v': NaN,\n            'f': \"NaN\",\n        }],\n [\"2013-09-09\",\n{\n            'v': 14205.23,\n            'f': \"14205.23\",\n        },\n{\n            'v': 5179.4,\n            'f': \"5179.4\",\n        },\n{\n            'v': 9420.348,\n            'f': \"9420.348\",\n        },\n{\n            'v': 8234.98,\n            'f': \"8234.98\",\n        },\n{\n            'v': 6530.74,\n            'f': \"6530.74\",\n        },\n{\n            'v': 22750.65,\n            'f': \"22750.65\",\n        },\n{\n            'v': 1655.08,\n            'f': \"1655.08\",\n        },\n{\n            'v': 14937.48,\n            'f': \"14937.48\",\n        },\n{\n            'v': 0.0057216189047275545,\n            'f': \"0.0057216189047275545\",\n        }],\n [\"2013-09-10\",\n{\n            'v': 14423.36,\n            'f': \"14423.36\",\n        },\n{\n            'v': 5198.9,\n            'f': \"5198.9\",\n        },\n{\n            'v': 9539.932,\n            'f': \"9539.932\",\n        },\n{\n            'v': 8276.32,\n            'f': \"8276.32\",\n        },\n{\n            'v': 6583.99,\n            'f': \"6583.99\",\n        },\n{\n            'v': 22976.65,\n            'f': \"22976.65\",\n        },\n{\n            'v': 1671.71,\n            'f': \"1671.71\",\n        },\n{\n            'v': 15063.12,\n            'f': \"15063.12\",\n        },\n{\n            'v': 0.009933782111719802,\n            'f': \"0.009933782111719802\",\n        }],\n [\"2013-09-11\",\n{\n            'v': 14425.07,\n            'f': \"14425.07\",\n        },\n{\n            'v': 5230.6,\n            'f': \"5230.6\",\n        },\n{\n            'v': 9620.71,\n            'f': \"9620.71\",\n        },\n{\n            'v': 8446.54,\n            'f': \"8446.54\",\n        },\n{\n            'v': 6588.43,\n            'f': \"6588.43\",\n        },\n{\n            'v': 22937.14,\n            'f': \"22937.14\",\n        },\n{\n            'v': 1683.99,\n            'f': \"1683.99\",\n        },\n{\n            'v': 15191.06,\n            'f': \"15191.06\",\n        },\n{\n            'v': -0.0017195718261800996,\n            'f': \"-0.0017195718261800996\",\n        }],\n [\"2013-09-12\",\n{\n            'v': 14387.27,\n            'f': \"14387.27\",\n        },\n{\n            'v': 5238.2,\n            'f': \"5238.2\",\n        },\n{\n            'v': 9655.3774,\n            'f': \"9655.3774\",\n        },\n{\n            'v': 8495.73,\n            'f': \"8495.73\",\n        },\n{\n            'v': 6588.98,\n            'f': \"6588.98\",\n        },\n{\n            'v': 22953.72,\n            'f': \"22953.72\",\n        },\n{\n            'v': 1689.13,\n            'f': \"1689.13\",\n        },\n{\n            'v': 15326.6,\n            'f': \"15326.6\",\n        },\n{\n            'v': 0.0007228451323924023,\n            'f': \"0.0007228451323924023\",\n        }]],\n        columns: [[\"string\", \"index\"], [\"number\", \"nikkei\"], [\"number\", \"aord\"], [\"number\", \"nyse\"], [\"number\", \"dax\"], [\"number\", \"ftse\"], [\"number\", \"hangseng\"], [\"number\", \"sp500\"], [\"number\", \"djia\"], [\"number\", \"hangseng_return\"]],\n        columnOptions: [{\"width\": \"1px\", \"className\": \"index_column\"}],\n        rowsPerPage: 25,\n        helpUrl: \"https://colab.research.google.com/notebooks/data_table.ipynb\",\n        suppressOutputScrolling: true,\n        minimumWidth: undefined,\n      });\n    "
          },
          "metadata": {},
          "execution_count": 6
        }
      ],
      "source": [
        "# transform hangseng price into the return rate\n",
        "stocks[\"hangseng_return\"]=stocks[\"hangseng\"].pct_change()\n",
        "stocks.head()"
      ]
    },
    {
      "cell_type": "code",
      "execution_count": null,
      "metadata": {
        "colab": {
          "base_uri": "https://localhost:8080/",
          "height": 298
        },
        "id": "0XbHmzInBEax",
        "outputId": "d8b0b0e3-43d1-4078-e5cc-d94877032572"
      },
      "outputs": [
        {
          "output_type": "execute_result",
          "data": {
            "text/plain": [
              "Text(0.5, 1.0, 'Simple Rate of Daily Return of Hengseng Index')"
            ]
          },
          "metadata": {},
          "execution_count": 7
        },
        {
          "output_type": "display_data",
          "data": {
            "text/plain": [
              "<Figure size 432x288 with 1 Axes>"
            ],
            "image/png": "[encoded data removed]"
          },
          "metadata": {
            "needs_background": "light"
          }
        }
      ],
      "source": [
        "#plot histogram\n",
        "plt.hist(stocks[\"hangseng_return\"], bins=20, edgecolor='yellow')\n",
        "plt.title(\"Simple Rate of Daily Return of Hengseng Index\")"
      ]
    },
    {
      "cell_type": "markdown",
      "metadata": {
        "id": "iJtMVsavBEaz"
      },
      "source": [
        "### Scatter Plot"
      ]
    },
    {
      "cell_type": "markdown",
      "metadata": {
        "id": "9GFcbDbIBEa0"
      },
      "source": [
        "We want to check the pattern between the returns of S&P500 and Hangseng Indexs"
      ]
    },
    {
      "cell_type": "code",
      "execution_count": null,
      "metadata": {
        "id": "_GrFqnxsBEa1"
      },
      "outputs": [],
      "source": [
        "stocks[\"sp500_return\"]=stocks[\"sp500\"].pct_change()"
      ]
    },
    {
      "cell_type": "code",
      "execution_count": null,
      "metadata": {
        "colab": {
          "base_uri": "https://localhost:8080/",
          "height": 312
        },
        "id": "aMURKBN3BEa2",
        "outputId": "3afd8780-98ae-4ef9-a5d3-8e2caa582aaf"
      },
      "outputs": [
        {
          "output_type": "execute_result",
          "data": {
            "text/plain": [
              "Text(0.5, 1.0, 'Scatter Plot between returns of S&P500 and Hangseng indices ')"
            ]
          },
          "metadata": {},
          "execution_count": 9
        },
        {
          "output_type": "display_data",
          "data": {
            "text/plain": [
              "<Figure size 432x288 with 1 Axes>"
            ],
            "image/png": "[encoded data removed]"
          },
          "metadata": {
            "needs_background": "light"
          }
        }
      ],
      "source": [
        "plt.scatter(stocks[\"hangseng_return\"],stocks[\"sp500_return\"])\n",
        "plt.ylabel(\"Return of S&P 500 Index\")\n",
        "plt.xlabel(\"Return of Hanseng Index\")\n",
        "plt.title(\"Scatter Plot between returns of S&P500 and Hangseng indices \")"
      ]
    },
    {
      "cell_type": "markdown",
      "metadata": {
        "id": "UR-FwizqBEa3"
      },
      "source": [
        "### Scatter Matrix"
      ]
    },
    {
      "cell_type": "code",
      "execution_count": null,
      "metadata": {
        "id": "POL57MvyBEa3"
      },
      "outputs": [],
      "source": [
        "stocks[\"nikkei_return\"]=stocks[\"nikkei\"].pct_change()"
      ]
    },
    {
      "cell_type": "code",
      "execution_count": null,
      "metadata": {
        "colab": {
          "base_uri": "https://localhost:8080/",
          "height": 513
        },
        "id": "8v0aIBv4BEa4",
        "outputId": "b3a21da2-5744-4ca0-b227-e8942062b6f9"
      },
      "outputs": [
        {
          "output_type": "display_data",
          "data": {
            "text/plain": [
              "<Figure size 576x576 with 9 Axes>"
            ],
            "image/png": "[encoded data removed]"
          },
          "metadata": {
            "needs_background": "light"
          }
        }
      ],
      "source": [
        "pd.plotting.scatter_matrix(stocks[[\"sp500_return\",\"nikkei_return\",\"hangseng_return\"]],figsize=(8,8))\n",
        "plt.show()"
      ]
    },
    {
      "cell_type": "markdown",
      "metadata": {
        "id": "DvIoZC2rBEa4"
      },
      "source": [
        "### time series plot"
      ]
    },
    {
      "cell_type": "code",
      "execution_count": null,
      "metadata": {
        "colab": {
          "base_uri": "https://localhost:8080/",
          "height": 298
        },
        "id": "hl5s223rBEa5",
        "outputId": "f8f4e2fb-e4fa-484f-e097-1f20d1bdee4a"
      },
      "outputs": [
        {
          "output_type": "execute_result",
          "data": {
            "text/plain": [
              "<matplotlib.axes._subplots.AxesSubplot at 0x7fc87470a5d0>"
            ]
          },
          "metadata": {},
          "execution_count": 12
        },
        {
          "output_type": "display_data",
          "data": {
            "text/plain": [
              "<Figure size 432x288 with 1 Axes>"
            ],
            "image/png": "[encoded data removed]"
          },
          "metadata": {
            "needs_background": "light"
          }
        }
      ],
      "source": [
        "plt.title(\"S&P Index\")\n",
        "stocks[\"sp500\"].plot()"
      ]
    },
    {
      "cell_type": "markdown",
      "metadata": {
        "id": "R8qYI_T1BEa6"
      },
      "source": [
        "## Handling Missing values"
      ]
    },
    {
      "cell_type": "markdown",
      "metadata": {
        "id": "BmN_E42EBEa6"
      },
      "source": [
        "### Fill missing values in time series"
      ]
    },
    {
      "cell_type": "code",
      "execution_count": null,
      "metadata": {
        "id": "PHIDc6cfBEa6"
      },
      "outputs": [],
      "source": [
        "sp500=stocks[\"sp500\"]"
      ]
    },
    {
      "cell_type": "code",
      "execution_count": null,
      "metadata": {
        "colab": {
          "base_uri": "https://localhost:8080/"
        },
        "id": "LLqdqBLEBEa7",
        "outputId": "a4ea689c-3df5-4f8d-8ddc-77883f8dd4d8"
      },
      "outputs": [
        {
          "output_type": "execute_result",
          "data": {
            "text/plain": [
              "2013-09-06    1655.08\n",
              "2013-09-09    1655.08\n",
              "2013-09-10    1671.71\n",
              "2013-09-11    1683.99\n",
              "2013-09-12    1689.13\n",
              "2013-09-13    1683.42\n",
              "2013-09-17    1697.60\n",
              "2013-09-18    1704.76\n",
              "2013-09-19    1725.52\n",
              "2013-09-20    1722.34\n",
              "Name: sp500, dtype: float64"
            ]
          },
          "metadata": {},
          "execution_count": 14
        }
      ],
      "source": [
        "sp500.head(10)"
      ]
    },
    {
      "cell_type": "code",
      "execution_count": null,
      "metadata": {
        "id": "Tbo1LALbBEa7"
      },
      "outputs": [],
      "source": [
        "import numpy as np\n",
        "sp500.loc[\"2013-09-09\":\"2013-09-10\"]=np.nan # make two missing values"
      ]
    },
    {
      "cell_type": "code",
      "execution_count": null,
      "metadata": {
        "id": "RmAqq9FbBEa8",
        "outputId": "2e467617-d6ec-4711-f8d5-887023c9f80b"
      },
      "outputs": [
        {
          "data": {
            "text/plain": [
              "2013-09-06    1655.08\n",
              "2013-09-09        NaN\n",
              "2013-09-10        NaN\n",
              "2013-09-11    1683.99\n",
              "2013-09-12    1689.13\n",
              "2013-09-13    1683.42\n",
              "2013-09-17    1697.60\n",
              "2013-09-18    1704.76\n",
              "2013-09-19    1725.52\n",
              "2013-09-20    1722.34\n",
              "Name: sp500, dtype: float64"
            ]
          },
          "execution_count": 31,
          "metadata": {},
          "output_type": "execute_result"
        }
      ],
      "source": [
        "sp500.head(10)"
      ]
    },
    {
      "cell_type": "code",
      "execution_count": null,
      "metadata": {
        "id": "01sDkJN_BEa9",
        "outputId": "3f90e6a4-197d-4ba8-bd81-aed780aa401d"
      },
      "outputs": [
        {
          "data": {
            "text/plain": [
              "2013-09-06    1655.08\n",
              "2013-09-09    1683.99\n",
              "2013-09-10    1683.99\n",
              "2013-09-11    1683.99\n",
              "2013-09-12    1689.13\n",
              "Name: sp500, dtype: float64"
            ]
          },
          "execution_count": 32,
          "metadata": {},
          "output_type": "execute_result"
        }
      ],
      "source": [
        "sp500.fillna(method=\"bfill\").head()"
      ]
    },
    {
      "cell_type": "code",
      "execution_count": null,
      "metadata": {
        "id": "cvqM0A_zBEa9",
        "outputId": "d6a0a678-31e8-48e1-e270-dd441f9e8636"
      },
      "outputs": [
        {
          "data": {
            "text/plain": [
              "2013-09-06    1655.08\n",
              "2013-09-09    1655.08\n",
              "2013-09-10    1655.08\n",
              "2013-09-11    1683.99\n",
              "2013-09-12    1689.13\n",
              "Name: sp500, dtype: float64"
            ]
          },
          "execution_count": 33,
          "metadata": {},
          "output_type": "execute_result"
        }
      ],
      "source": [
        "sp500.fillna(method=\"ffill\").head()"
      ]
    },
    {
      "cell_type": "markdown",
      "metadata": {
        "id": "KiE8m3fzBEbF"
      },
      "source": [
        "## Data Slicing and Selection"
      ]
    },
    {
      "cell_type": "markdown",
      "metadata": {
        "id": "C2YUgSByBEbF"
      },
      "source": [
        "### Splitting into train and test"
      ]
    },
    {
      "cell_type": "code",
      "execution_count": null,
      "metadata": {
        "id": "P9hNMgnVBEbF",
        "outputId": "7b9972dc-10fa-406f-a38b-68b4059fc077"
      },
      "outputs": [
        {
          "data": {
            "text/plain": [
              "(973, 17)"
            ]
          },
          "execution_count": 32,
          "metadata": {},
          "output_type": "execute_result"
        }
      ],
      "source": [
        "stocks.shape"
      ]
    },
    {
      "cell_type": "code",
      "execution_count": null,
      "metadata": {
        "id": "bEEVsywiBEbG"
      },
      "outputs": [],
      "source": [
        "train_size=int(973*0.9)"
      ]
    },
    {
      "cell_type": "code",
      "execution_count": null,
      "metadata": {
        "id": "ui_leZG0BEbG",
        "outputId": "0962f85d-e434-4b6b-dbc3-09b51fe50646"
      },
      "outputs": [
        {
          "data": {
            "text/plain": [
              "875"
            ]
          },
          "execution_count": 34,
          "metadata": {},
          "output_type": "execute_result"
        }
      ],
      "source": [
        "train_size"
      ]
    },
    {
      "cell_type": "code",
      "execution_count": null,
      "metadata": {
        "id": "19H0ZJ8PBEbG",
        "outputId": "27e39124-33b4-4f14-9c3c-a076c7acfb31"
      },
      "outputs": [
        {
          "data": {
            "text/plain": [
              "98"
            ]
          },
          "execution_count": 35,
          "metadata": {},
          "output_type": "execute_result"
        }
      ],
      "source": [
        "test_size=973-train_size\n",
        "test_size"
      ]
    },
    {
      "cell_type": "code",
      "execution_count": null,
      "metadata": {
        "id": "3ukimxV5BEbH"
      },
      "outputs": [],
      "source": [
        "train=stocks.iloc[:train_size,:]"
      ]
    },
    {
      "cell_type": "code",
      "execution_count": null,
      "metadata": {
        "id": "buvtHfLZBEbH"
      },
      "outputs": [],
      "source": [
        "test=stocks.iloc[train_size:,:]"
      ]
    },
    {
      "cell_type": "code",
      "execution_count": null,
      "metadata": {
        "id": "o2h6qXMMBEbH",
        "outputId": "14e7de5c-296f-4eca-f539-0874995fbd45"
      },
      "outputs": [
        {
          "data": {
            "text/html": [
              "<div>\n",
              "<style scoped>\n",
              "    .dataframe tbody tr th:only-of-type {\n",
              "        vertical-align: middle;\n",
              "    }\n",
              "\n",
              "    .dataframe tbody tr th {\n",
              "        vertical-align: top;\n",
              "    }\n",
              "\n",
              "    .dataframe thead th {\n",
              "        text-align: right;\n",
              "    }\n",
              "</style>\n",
              "<table border=\"1\" class=\"dataframe\">\n",
              "  <thead>\n",
              "    <tr style=\"text-align: right;\">\n",
              "      <th></th>\n",
              "      <th>sp500_return</th>\n",
              "      <th>nikkei_return</th>\n",
              "      <th>hangseng_return</th>\n",
              "    </tr>\n",
              "  </thead>\n",
              "  <tbody>\n",
              "    <tr>\n",
              "      <th>2013-09-11</th>\n",
              "      <td>0.007346</td>\n",
              "      <td>0.000119</td>\n",
              "      <td>-0.001720</td>\n",
              "    </tr>\n",
              "    <tr>\n",
              "      <th>2013-09-12</th>\n",
              "      <td>0.003052</td>\n",
              "      <td>-0.002620</td>\n",
              "      <td>0.000723</td>\n",
              "    </tr>\n",
              "    <tr>\n",
              "      <th>2013-09-13</th>\n",
              "      <td>-0.003380</td>\n",
              "      <td>0.001209</td>\n",
              "      <td>-0.001675</td>\n",
              "    </tr>\n",
              "    <tr>\n",
              "      <th>2013-09-17</th>\n",
              "      <td>0.008423</td>\n",
              "      <td>-0.006456</td>\n",
              "      <td>0.011575</td>\n",
              "    </tr>\n",
              "    <tr>\n",
              "      <th>2013-09-18</th>\n",
              "      <td>0.004218</td>\n",
              "      <td>0.013534</td>\n",
              "      <td>-0.002721</td>\n",
              "    </tr>\n",
              "    <tr>\n",
              "      <th>...</th>\n",
              "      <td>...</td>\n",
              "      <td>...</td>\n",
              "      <td>...</td>\n",
              "    </tr>\n",
              "    <tr>\n",
              "      <th>2017-04-06</th>\n",
              "      <td>-0.003055</td>\n",
              "      <td>-0.014008</td>\n",
              "      <td>-0.005208</td>\n",
              "    </tr>\n",
              "    <tr>\n",
              "      <th>2017-04-07</th>\n",
              "      <td>0.001929</td>\n",
              "      <td>0.003633</td>\n",
              "      <td>-0.000264</td>\n",
              "    </tr>\n",
              "    <tr>\n",
              "      <th>2017-04-10</th>\n",
              "      <td>0.000000</td>\n",
              "      <td>0.007139</td>\n",
              "      <td>-0.000211</td>\n",
              "    </tr>\n",
              "    <tr>\n",
              "      <th>2017-04-11</th>\n",
              "      <td>-0.000140</td>\n",
              "      <td>-0.002660</td>\n",
              "      <td>-0.007160</td>\n",
              "    </tr>\n",
              "    <tr>\n",
              "      <th>2017-04-12</th>\n",
              "      <td>-0.001434</td>\n",
              "      <td>-0.010415</td>\n",
              "      <td>0.009342</td>\n",
              "    </tr>\n",
              "  </tbody>\n",
              "</table>\n",
              "<p>875 rows × 3 columns</p>\n",
              "</div>"
            ],
            "text/plain": [
              "            sp500_return  nikkei_return  hangseng_return\n",
              "2013-09-11      0.007346       0.000119        -0.001720\n",
              "2013-09-12      0.003052      -0.002620         0.000723\n",
              "2013-09-13     -0.003380       0.001209        -0.001675\n",
              "2013-09-17      0.008423      -0.006456         0.011575\n",
              "2013-09-18      0.004218       0.013534        -0.002721\n",
              "...                  ...            ...              ...\n",
              "2017-04-06     -0.003055      -0.014008        -0.005208\n",
              "2017-04-07      0.001929       0.003633        -0.000264\n",
              "2017-04-10      0.000000       0.007139        -0.000211\n",
              "2017-04-11     -0.000140      -0.002660        -0.007160\n",
              "2017-04-12     -0.001434      -0.010415         0.009342\n",
              "\n",
              "[875 rows x 3 columns]"
            ]
          },
          "execution_count": 38,
          "metadata": {},
          "output_type": "execute_result"
        }
      ],
      "source": [
        "train[[\"sp500_return\",\"nikkei_return\",\"hangseng_return\"]]"
      ]
    },
    {
      "cell_type": "code",
      "execution_count": null,
      "metadata": {
        "id": "56li77_7BEbH",
        "outputId": "8ed75a4f-bcd1-43e7-8715-a35fe65b37c9"
      },
      "outputs": [
        {
          "data": {
            "text/html": [
              "<div>\n",
              "<style scoped>\n",
              "    .dataframe tbody tr th:only-of-type {\n",
              "        vertical-align: middle;\n",
              "    }\n",
              "\n",
              "    .dataframe tbody tr th {\n",
              "        vertical-align: top;\n",
              "    }\n",
              "\n",
              "    .dataframe thead th {\n",
              "        text-align: right;\n",
              "    }\n",
              "</style>\n",
              "<table border=\"1\" class=\"dataframe\">\n",
              "  <thead>\n",
              "    <tr style=\"text-align: right;\">\n",
              "      <th></th>\n",
              "      <th>sp500_return</th>\n",
              "      <th>nikkei_return</th>\n",
              "      <th>hangseng_return</th>\n",
              "    </tr>\n",
              "  </thead>\n",
              "  <tbody>\n",
              "    <tr>\n",
              "      <th>2017-04-13</th>\n",
              "      <td>-0.003760</td>\n",
              "      <td>-0.006779</td>\n",
              "      <td>-0.002132</td>\n",
              "    </tr>\n",
              "    <tr>\n",
              "      <th>2017-04-14</th>\n",
              "      <td>-0.006815</td>\n",
              "      <td>-0.004950</td>\n",
              "      <td>0.000000</td>\n",
              "    </tr>\n",
              "    <tr>\n",
              "      <th>2017-04-17</th>\n",
              "      <td>0.000000</td>\n",
              "      <td>0.001071</td>\n",
              "      <td>0.000000</td>\n",
              "    </tr>\n",
              "    <tr>\n",
              "      <th>2017-04-18</th>\n",
              "      <td>0.008613</td>\n",
              "      <td>0.003450</td>\n",
              "      <td>-0.013895</td>\n",
              "    </tr>\n",
              "    <tr>\n",
              "      <th>2017-04-19</th>\n",
              "      <td>-0.002903</td>\n",
              "      <td>0.000739</td>\n",
              "      <td>-0.004124</td>\n",
              "    </tr>\n",
              "    <tr>\n",
              "      <th>...</th>\n",
              "      <td>...</td>\n",
              "      <td>...</td>\n",
              "      <td>...</td>\n",
              "    </tr>\n",
              "    <tr>\n",
              "      <th>2017-08-29</th>\n",
              "      <td>0.002161</td>\n",
              "      <td>-0.004491</td>\n",
              "      <td>-0.003527</td>\n",
              "    </tr>\n",
              "    <tr>\n",
              "      <th>2017-08-30</th>\n",
              "      <td>0.000843</td>\n",
              "      <td>0.007437</td>\n",
              "      <td>0.011871</td>\n",
              "    </tr>\n",
              "    <tr>\n",
              "      <th>2017-08-31</th>\n",
              "      <td>0.004615</td>\n",
              "      <td>0.007162</td>\n",
              "      <td>-0.004425</td>\n",
              "    </tr>\n",
              "    <tr>\n",
              "      <th>2017-09-01</th>\n",
              "      <td>0.005721</td>\n",
              "      <td>0.002302</td>\n",
              "      <td>-0.000613</td>\n",
              "    </tr>\n",
              "    <tr>\n",
              "      <th>2017-09-04</th>\n",
              "      <td>0.000000</td>\n",
              "      <td>-0.009305</td>\n",
              "      <td>-0.007616</td>\n",
              "    </tr>\n",
              "  </tbody>\n",
              "</table>\n",
              "<p>98 rows × 3 columns</p>\n",
              "</div>"
            ],
            "text/plain": [
              "            sp500_return  nikkei_return  hangseng_return\n",
              "2017-04-13     -0.003760      -0.006779        -0.002132\n",
              "2017-04-14     -0.006815      -0.004950         0.000000\n",
              "2017-04-17      0.000000       0.001071         0.000000\n",
              "2017-04-18      0.008613       0.003450        -0.013895\n",
              "2017-04-19     -0.002903       0.000739        -0.004124\n",
              "...                  ...            ...              ...\n",
              "2017-08-29      0.002161      -0.004491        -0.003527\n",
              "2017-08-30      0.000843       0.007437         0.011871\n",
              "2017-08-31      0.004615       0.007162        -0.004425\n",
              "2017-09-01      0.005721       0.002302        -0.000613\n",
              "2017-09-04      0.000000      -0.009305        -0.007616\n",
              "\n",
              "[98 rows x 3 columns]"
            ]
          },
          "execution_count": 39,
          "metadata": {},
          "output_type": "execute_result"
        }
      ],
      "source": [
        "test[[\"sp500_return\",\"nikkei_return\",\"hangseng_return\"]]"
      ]
    },
    {
      "cell_type": "markdown",
      "metadata": {
        "id": "vCsJMGH3BEbI"
      },
      "source": [
        "### Select rows"
      ]
    },
    {
      "cell_type": "code",
      "execution_count": null,
      "metadata": {
        "id": "5lrjfLjJBEbI",
        "outputId": "3feddbbb-6639-4ccd-fe33-0c7fa797d042"
      },
      "outputs": [
        {
          "data": {
            "text/html": [
              "<div>\n",
              "<style scoped>\n",
              "    .dataframe tbody tr th:only-of-type {\n",
              "        vertical-align: middle;\n",
              "    }\n",
              "\n",
              "    .dataframe tbody tr th {\n",
              "        vertical-align: top;\n",
              "    }\n",
              "\n",
              "    .dataframe thead th {\n",
              "        text-align: right;\n",
              "    }\n",
              "</style>\n",
              "<table border=\"1\" class=\"dataframe\">\n",
              "  <thead>\n",
              "    <tr style=\"text-align: right;\">\n",
              "      <th></th>\n",
              "      <th>sp500_return</th>\n",
              "      <th>nikkei_return</th>\n",
              "      <th>hangseng_return</th>\n",
              "    </tr>\n",
              "  </thead>\n",
              "  <tbody>\n",
              "    <tr>\n",
              "      <th>2015-01-05</th>\n",
              "      <td>0.000000</td>\n",
              "      <td>-0.002410</td>\n",
              "      <td>0.009371</td>\n",
              "    </tr>\n",
              "    <tr>\n",
              "      <th>2015-01-06</th>\n",
              "      <td>-0.033479</td>\n",
              "      <td>-0.030187</td>\n",
              "      <td>-0.009945</td>\n",
              "    </tr>\n",
              "    <tr>\n",
              "      <th>2015-01-07</th>\n",
              "      <td>-0.008893</td>\n",
              "      <td>0.000127</td>\n",
              "      <td>0.008339</td>\n",
              "    </tr>\n",
              "    <tr>\n",
              "      <th>2015-01-08</th>\n",
              "      <td>0.011630</td>\n",
              "      <td>0.016687</td>\n",
              "      <td>0.006514</td>\n",
              "    </tr>\n",
              "    <tr>\n",
              "      <th>2015-01-09</th>\n",
              "      <td>0.017888</td>\n",
              "      <td>0.001784</td>\n",
              "      <td>0.003542</td>\n",
              "    </tr>\n",
              "    <tr>\n",
              "      <th>...</th>\n",
              "      <td>...</td>\n",
              "      <td>...</td>\n",
              "      <td>...</td>\n",
              "    </tr>\n",
              "    <tr>\n",
              "      <th>2015-12-24</th>\n",
              "      <td>0.021344</td>\n",
              "      <td>-0.005136</td>\n",
              "      <td>0.014114</td>\n",
              "    </tr>\n",
              "    <tr>\n",
              "      <th>2015-12-25</th>\n",
              "      <td>-0.001599</td>\n",
              "      <td>-0.001098</td>\n",
              "      <td>0.000000</td>\n",
              "    </tr>\n",
              "    <tr>\n",
              "      <th>2015-12-28</th>\n",
              "      <td>0.000000</td>\n",
              "      <td>0.005556</td>\n",
              "      <td>-0.009870</td>\n",
              "    </tr>\n",
              "    <tr>\n",
              "      <th>2015-12-29</th>\n",
              "      <td>-0.002179</td>\n",
              "      <td>0.005769</td>\n",
              "      <td>0.003650</td>\n",
              "    </tr>\n",
              "    <tr>\n",
              "      <th>2015-12-30</th>\n",
              "      <td>0.010630</td>\n",
              "      <td>0.002712</td>\n",
              "      <td>-0.005340</td>\n",
              "    </tr>\n",
              "  </tbody>\n",
              "</table>\n",
              "<p>244 rows × 3 columns</p>\n",
              "</div>"
            ],
            "text/plain": [
              "            sp500_return  nikkei_return  hangseng_return\n",
              "2015-01-05      0.000000      -0.002410         0.009371\n",
              "2015-01-06     -0.033479      -0.030187        -0.009945\n",
              "2015-01-07     -0.008893       0.000127         0.008339\n",
              "2015-01-08      0.011630       0.016687         0.006514\n",
              "2015-01-09      0.017888       0.001784         0.003542\n",
              "...                  ...            ...              ...\n",
              "2015-12-24      0.021344      -0.005136         0.014114\n",
              "2015-12-25     -0.001599      -0.001098         0.000000\n",
              "2015-12-28      0.000000       0.005556        -0.009870\n",
              "2015-12-29     -0.002179       0.005769         0.003650\n",
              "2015-12-30      0.010630       0.002712        -0.005340\n",
              "\n",
              "[244 rows x 3 columns]"
            ]
          },
          "execution_count": 40,
          "metadata": {},
          "output_type": "execute_result"
        }
      ],
      "source": [
        "stocks.loc[\"2015-01-01\":\"2015-12-31\",[\"sp500_return\",\"nikkei_return\",\"hangseng_return\"] ]"
      ]
    },
    {
      "cell_type": "markdown",
      "metadata": {
        "id": "7LkN2GPJBEbI"
      },
      "source": [
        "### Select with conditions"
      ]
    },
    {
      "cell_type": "code",
      "execution_count": null,
      "metadata": {
        "id": "5QLpQB6TBEbJ",
        "outputId": "25e6a5e3-14f7-4674-8bfc-92c4c9891182"
      },
      "outputs": [
        {
          "data": {
            "text/html": [
              "<div>\n",
              "<style scoped>\n",
              "    .dataframe tbody tr th:only-of-type {\n",
              "        vertical-align: middle;\n",
              "    }\n",
              "\n",
              "    .dataframe tbody tr th {\n",
              "        vertical-align: top;\n",
              "    }\n",
              "\n",
              "    .dataframe thead th {\n",
              "        text-align: right;\n",
              "    }\n",
              "</style>\n",
              "<table border=\"1\" class=\"dataframe\">\n",
              "  <thead>\n",
              "    <tr style=\"text-align: right;\">\n",
              "      <th></th>\n",
              "      <th>sp500_return</th>\n",
              "      <th>nikkei_return</th>\n",
              "      <th>hangseng_return</th>\n",
              "    </tr>\n",
              "  </thead>\n",
              "  <tbody>\n",
              "    <tr>\n",
              "      <th>2013-09-11</th>\n",
              "      <td>0.007346</td>\n",
              "      <td>0.000119</td>\n",
              "      <td>-0.001720</td>\n",
              "    </tr>\n",
              "    <tr>\n",
              "      <th>2013-09-12</th>\n",
              "      <td>0.003052</td>\n",
              "      <td>-0.002620</td>\n",
              "      <td>0.000723</td>\n",
              "    </tr>\n",
              "    <tr>\n",
              "      <th>2013-09-17</th>\n",
              "      <td>0.008423</td>\n",
              "      <td>-0.006456</td>\n",
              "      <td>0.011575</td>\n",
              "    </tr>\n",
              "    <tr>\n",
              "      <th>2013-09-18</th>\n",
              "      <td>0.004218</td>\n",
              "      <td>0.013534</td>\n",
              "      <td>-0.002721</td>\n",
              "    </tr>\n",
              "    <tr>\n",
              "      <th>2013-09-19</th>\n",
              "      <td>0.012178</td>\n",
              "      <td>0.017981</td>\n",
              "      <td>0.016657</td>\n",
              "    </tr>\n",
              "    <tr>\n",
              "      <th>...</th>\n",
              "      <td>...</td>\n",
              "      <td>...</td>\n",
              "      <td>...</td>\n",
              "    </tr>\n",
              "    <tr>\n",
              "      <th>2017-08-23</th>\n",
              "      <td>0.009941</td>\n",
              "      <td>0.002621</td>\n",
              "      <td>0.000000</td>\n",
              "    </tr>\n",
              "    <tr>\n",
              "      <th>2017-08-29</th>\n",
              "      <td>0.002161</td>\n",
              "      <td>-0.004491</td>\n",
              "      <td>-0.003527</td>\n",
              "    </tr>\n",
              "    <tr>\n",
              "      <th>2017-08-30</th>\n",
              "      <td>0.000843</td>\n",
              "      <td>0.007437</td>\n",
              "      <td>0.011871</td>\n",
              "    </tr>\n",
              "    <tr>\n",
              "      <th>2017-08-31</th>\n",
              "      <td>0.004615</td>\n",
              "      <td>0.007162</td>\n",
              "      <td>-0.004425</td>\n",
              "    </tr>\n",
              "    <tr>\n",
              "      <th>2017-09-01</th>\n",
              "      <td>0.005721</td>\n",
              "      <td>0.002302</td>\n",
              "      <td>-0.000613</td>\n",
              "    </tr>\n",
              "  </tbody>\n",
              "</table>\n",
              "<p>421 rows × 3 columns</p>\n",
              "</div>"
            ],
            "text/plain": [
              "            sp500_return  nikkei_return  hangseng_return\n",
              "2013-09-11      0.007346       0.000119        -0.001720\n",
              "2013-09-12      0.003052      -0.002620         0.000723\n",
              "2013-09-17      0.008423      -0.006456         0.011575\n",
              "2013-09-18      0.004218       0.013534        -0.002721\n",
              "2013-09-19      0.012178       0.017981         0.016657\n",
              "...                  ...            ...              ...\n",
              "2017-08-23      0.009941       0.002621         0.000000\n",
              "2017-08-29      0.002161      -0.004491        -0.003527\n",
              "2017-08-30      0.000843       0.007437         0.011871\n",
              "2017-08-31      0.004615       0.007162        -0.004425\n",
              "2017-09-01      0.005721       0.002302        -0.000613\n",
              "\n",
              "[421 rows x 3 columns]"
            ]
          },
          "execution_count": 41,
          "metadata": {},
          "output_type": "execute_result"
        }
      ],
      "source": [
        "stocks[stocks[\"sp500_return\"]>0][[\"sp500_return\",\"nikkei_return\",\"hangseng_return\"] ]"
      ]
    }
  ],
  "metadata": {
    "kernelspec": {
      "display_name": "Python 3 (ipykernel)",
      "language": "python",
      "name": "python3"
    },
    "language_info": {
      "codemirror_mode": {
        "name": "ipython",
        "version": 3
      },
      "file_extension": ".py",
      "mimetype": "text/x-python",
      "name": "python",
      "nbconvert_exporter": "python",
      "pygments_lexer": "ipython3",
      "version": "3.9.7"
    },
    "colab": {
      "provenance": [],
      "toc_visible": true
    }
  },
  "nbformat": 4,
  "nbformat_minor": 0
}